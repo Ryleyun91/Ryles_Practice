{
 "cells": [
  {
   "cell_type": "code",
   "execution_count": 8,
   "id": "c9578e41",
   "metadata": {},
   "outputs": [],
   "source": [
    "import pandas as pd\n",
    "import numpy as np\n",
    "import re"
   ]
  },
  {
   "cell_type": "code",
   "execution_count": 9,
   "id": "571217a7",
   "metadata": {
    "scrolled": true
   },
   "outputs": [
    {
     "data": {
      "text/plain": [
       "'/Users/ryleyun/Desktop/Github/Ryles_Practice/DACON'"
      ]
     },
     "execution_count": 9,
     "metadata": {},
     "output_type": "execute_result"
    }
   ],
   "source": [
    "import os\n",
    "os.getcwd()"
   ]
  },
  {
   "cell_type": "code",
   "execution_count": 10,
   "id": "0d601dfe",
   "metadata": {
    "scrolled": true
   },
   "outputs": [],
   "source": [
    "train = pd.read_csv(\"../DATA/train_data.csv\")\n",
    "test = pd.read_csv(\"../DATA/test_data.csv\")"
   ]
  },
  {
   "cell_type": "code",
   "execution_count": null,
   "id": "ebe091d0",
   "metadata": {},
   "outputs": [],
   "source": [
    "from konlpy.tag import Mecab\n",
    "mecab = Mecab()"
   ]
  },
  {
   "cell_type": "code",
   "execution_count": 3,
   "id": "98b3ef13",
   "metadata": {},
   "outputs": [
    {
     "ename": "NameError",
     "evalue": "name 'train' is not defined",
     "output_type": "error",
     "traceback": [
      "\u001b[0;31m---------------------------------------------------------------------------\u001b[0m",
      "\u001b[0;31mNameError\u001b[0m                                 Traceback (most recent call last)",
      "\u001b[0;32m<timed exec>\u001b[0m in \u001b[0;36m<module>\u001b[0;34m\u001b[0m\n",
      "\u001b[0;31mNameError\u001b[0m: name 'train' is not defined"
     ]
    }
   ],
   "source": [
    "%%time\n",
    "def pos(x):\n",
    "    try:\n",
    "        text = ''\n",
    "        for word, pos in mecab.pos(str(x)):\n",
    "            if pos in [\"NNG\", \"NNP\", \"VV\", \"VA\", \"VCP\", \"VCN\", \"MM\", \"MAG\", \"XPN\", \"SL\", \"SH\"]:\n",
    "                if type(re.search(\"\\W+|[0-9]\", word))!=re.Match and len(word)>1: \n",
    "                    # and len(word)!=1:\n",
    "                    text+=\" \"+word\n",
    "        return text.strip()\n",
    "    \n",
    "    except:\n",
    "        pass\n",
    "\n",
    "train[\"과제명\"] = train[\"과제명\"].apply(pos)\n",
    "train[\"요약문_연구목표\"] = train[\"요약문_연구목표\"].apply(pos)\n",
    "train[\"요약문_연구내용\"] = train[\"요약문_연구내용\"].apply(pos)\n",
    "train[\"요약문_기대효과\"] = train[\"요약문_기대효과\"].apply(pos)\n",
    "train[\"요약문_한글키워드\"] = train[\"요약문_한글키워드\"].apply(pos)\n",
    "\n",
    "test[\"과제명\"] = test[\"과제명\"].apply(pos)\n",
    "test[\"요약문_연구목표\"] = test[\"요약문_연구목표\"].apply(pos)\n",
    "test[\"요약문_연구내용\"] = test[\"요약문_연구내용\"].apply(pos)\n",
    "test[\"요약문_기대효과\"] = test[\"요약문_기대효과\"].apply(pos)\n",
    "test[\"요약문_한글키워드\"] = test[\"요약문_한글키워드\"].apply(pos)"
   ]
  },
  {
   "cell_type": "code",
   "execution_count": 11,
   "id": "73660f74",
   "metadata": {},
   "outputs": [],
   "source": [
    "train[\"concat\"] = train[\"과제명\"]+\" \"+train[\"요약문_한글키워드\"]"
   ]
  },
  {
   "cell_type": "code",
   "execution_count": 21,
   "id": "c366c3a3",
   "metadata": {},
   "outputs": [],
   "source": [
    "train[\"concat\"]= train[\"concat\"].fillna(\"None\")"
   ]
  },
  {
   "cell_type": "code",
   "execution_count": 22,
   "id": "c10f3cd3",
   "metadata": {},
   "outputs": [],
   "source": [
    "from sklearn.model_selection import train_test_split\n",
    "train_data, valid_data, train_label, valid_label = train_test_split(train[\"concat\"], train[\"label\"], test_size=0.1, random_state=42)"
   ]
  },
  {
   "cell_type": "code",
   "execution_count": 23,
   "id": "b2cb98bc",
   "metadata": {},
   "outputs": [],
   "source": [
    "test[\"concat\"] = test[\"과제명\"]+\" \"+test[\"요약문_한글키워드\"]\n",
    "test[\"concat\"]= test[\"concat\"].fillna(\"None\")"
   ]
  },
  {
   "cell_type": "code",
   "execution_count": 24,
   "id": "d2c306f4",
   "metadata": {},
   "outputs": [
    {
     "name": "stdout",
     "output_type": "stream",
     "text": [
      "Fitting 5 folds for each of 9 candidates, totalling 45 fits\n",
      "Best score: 0.9160849884836253\n"
     ]
    }
   ],
   "source": [
    "from sklearn.pipeline import Pipeline\n",
    "from sklearn.feature_extraction.text import CountVectorizer\n",
    "from sklearn.feature_extraction.text import TfidfTransformer\n",
    "from sklearn.naive_bayes import MultinomialNB\n",
    "from sklearn.model_selection import GridSearchCV\n",
    "\n",
    "text_clf = Pipeline([(\"vect\", CountVectorizer()), (\"tfidf\", TfidfTransformer()), (\"clf\", MultinomialNB())])\n",
    "text_clf = text_clf.fit(train_data, train_label)\n",
    "\n",
    "params_clf = {\"vect__ngram_range\":[(1,5),(1,7),(1,9)],\n",
    "              \"clf__alpha\":[0.01, 0.008, 0.006]}\n",
    "\n",
    "gs_clf = GridSearchCV(text_clf, params_clf, n_jobs=5, verbose=2)\n",
    "gs_clf = gs_clf.fit(train_data, train_label)\n",
    "\n",
    "print(\"Best score: {}\".format(gs_clf.best_score_))\n",
    "best_parametors = gs_clf.best_estimator_.get_params()"
   ]
  },
  {
   "cell_type": "code",
   "execution_count": 25,
   "id": "814dc784",
   "metadata": {
    "scrolled": true
   },
   "outputs": [
    {
     "data": {
      "text/plain": [
       "{'memory': None,\n",
       " 'steps': [('vect', CountVectorizer(ngram_range=(1, 7))),\n",
       "  ('tfidf', TfidfTransformer()),\n",
       "  ('clf', MultinomialNB(alpha=0.008))],\n",
       " 'verbose': False,\n",
       " 'vect': CountVectorizer(ngram_range=(1, 7)),\n",
       " 'tfidf': TfidfTransformer(),\n",
       " 'clf': MultinomialNB(alpha=0.008),\n",
       " 'vect__analyzer': 'word',\n",
       " 'vect__binary': False,\n",
       " 'vect__decode_error': 'strict',\n",
       " 'vect__dtype': numpy.int64,\n",
       " 'vect__encoding': 'utf-8',\n",
       " 'vect__input': 'content',\n",
       " 'vect__lowercase': True,\n",
       " 'vect__max_df': 1.0,\n",
       " 'vect__max_features': None,\n",
       " 'vect__min_df': 1,\n",
       " 'vect__ngram_range': (1, 7),\n",
       " 'vect__preprocessor': None,\n",
       " 'vect__stop_words': None,\n",
       " 'vect__strip_accents': None,\n",
       " 'vect__token_pattern': '(?u)\\\\b\\\\w\\\\w+\\\\b',\n",
       " 'vect__tokenizer': None,\n",
       " 'vect__vocabulary': None,\n",
       " 'tfidf__norm': 'l2',\n",
       " 'tfidf__smooth_idf': True,\n",
       " 'tfidf__sublinear_tf': False,\n",
       " 'tfidf__use_idf': True,\n",
       " 'clf__alpha': 0.008,\n",
       " 'clf__class_prior': None,\n",
       " 'clf__fit_prior': True}"
      ]
     },
     "execution_count": 25,
     "metadata": {},
     "output_type": "execute_result"
    }
   ],
   "source": [
    "best_parametors"
   ]
  },
  {
   "cell_type": "code",
   "execution_count": 26,
   "id": "13d4eb2a",
   "metadata": {},
   "outputs": [
    {
     "data": {
      "text/plain": [
       "0.9262233951006827"
      ]
     },
     "execution_count": 26,
     "metadata": {},
     "output_type": "execute_result"
    }
   ],
   "source": [
    "pred = gs_clf.best_estimator_.predict(valid_data)\n",
    "# pred = text_clf.predict(valid_data)\n",
    "np.mean(pred == valid_label)"
   ]
  },
  {
   "cell_type": "markdown",
   "id": "e2241bae",
   "metadata": {},
   "source": [
    "import pickle\n",
    "with open(\"naive_bayes_concat_5gram.pkl\", \"wb\") as f:\n",
    "    pickle.dump(text_clf, f)"
   ]
  },
  {
   "cell_type": "code",
   "execution_count": 27,
   "id": "eb700cea",
   "metadata": {},
   "outputs": [],
   "source": [
    "pred = gs_clf.best_estimator_.predict(test[\"concat\"])"
   ]
  },
  {
   "cell_type": "code",
   "execution_count": 28,
   "id": "0d5ce17a",
   "metadata": {},
   "outputs": [
    {
     "name": "stdout",
     "output_type": "stream",
     "text": [
      "[CV] END ..........clf__alpha=0.01, vect__ngram_range=(1, 5); total time=  58.0s\n",
      "[CV] END ..........clf__alpha=0.01, vect__ngram_range=(1, 7); total time= 1.3min\n",
      "[CV] END ..........clf__alpha=0.01, vect__ngram_range=(1, 9); total time= 1.7min\n",
      "[CV] END .........clf__alpha=0.008, vect__ngram_range=(1, 5); total time=  46.0s\n",
      "[CV] END .........clf__alpha=0.008, vect__ngram_range=(1, 7); total time= 1.3min\n",
      "[CV] END .........clf__alpha=0.008, vect__ngram_range=(1, 9); total time= 1.7min\n",
      "[CV] END .........clf__alpha=0.006, vect__ngram_range=(1, 5); total time=  47.7s\n",
      "[CV] END .........clf__alpha=0.006, vect__ngram_range=(1, 7); total time= 1.3min\n",
      "[CV] END .........clf__alpha=0.006, vect__ngram_range=(1, 9); total time= 1.7min\n",
      "[CV] END ..........clf__alpha=0.01, vect__ngram_range=(1, 5); total time=  57.8s\n",
      "[CV] END ..........clf__alpha=0.01, vect__ngram_range=(1, 7); total time= 1.4min\n",
      "[CV] END ..........clf__alpha=0.01, vect__ngram_range=(1, 9); total time= 1.8min\n",
      "[CV] END .........clf__alpha=0.008, vect__ngram_range=(1, 5); total time=  45.9s\n",
      "[CV] END .........clf__alpha=0.008, vect__ngram_range=(1, 7); total time= 1.3min\n",
      "[CV] END .........clf__alpha=0.008, vect__ngram_range=(1, 9); total time= 1.7min\n",
      "[CV] END .........clf__alpha=0.006, vect__ngram_range=(1, 5); total time=  46.0s\n",
      "[CV] END .........clf__alpha=0.006, vect__ngram_range=(1, 7); total time= 1.3min\n",
      "[CV] END .........clf__alpha=0.006, vect__ngram_range=(1, 9); total time= 1.8min\n",
      "[CV] END ..........clf__alpha=0.01, vect__ngram_range=(1, 5); total time=  58.1s\n",
      "[CV] END ..........clf__alpha=0.01, vect__ngram_range=(1, 7); total time= 1.3min\n",
      "[CV] END ..........clf__alpha=0.01, vect__ngram_range=(1, 9); total time= 1.8min\n",
      "[CV] END .........clf__alpha=0.008, vect__ngram_range=(1, 5); total time=  46.4s\n",
      "[CV] END .........clf__alpha=0.008, vect__ngram_range=(1, 7); total time= 1.4min\n",
      "[CV] END .........clf__alpha=0.008, vect__ngram_range=(1, 9); total time= 1.7min\n",
      "[CV] END .........clf__alpha=0.006, vect__ngram_range=(1, 5); total time=  48.0s\n",
      "[CV] END .........clf__alpha=0.006, vect__ngram_range=(1, 7); total time= 1.3min\n",
      "[CV] END .........clf__alpha=0.006, vect__ngram_range=(1, 9); total time= 1.7min\n",
      "[CV] END ..........clf__alpha=0.01, vect__ngram_range=(1, 5); total time=  57.4s\n",
      "[CV] END ..........clf__alpha=0.01, vect__ngram_range=(1, 7); total time= 1.4min\n",
      "[CV] END ..........clf__alpha=0.01, vect__ngram_range=(1, 9); total time= 1.8min\n",
      "[CV] END .........clf__alpha=0.008, vect__ngram_range=(1, 5); total time=  46.6s\n",
      "[CV] END .........clf__alpha=0.008, vect__ngram_range=(1, 7); total time= 1.5min\n",
      "[CV] END .........clf__alpha=0.008, vect__ngram_range=(1, 9); total time= 1.6min\n",
      "[CV] END .........clf__alpha=0.006, vect__ngram_range=(1, 5); total time=  47.0s\n",
      "[CV] END .........clf__alpha=0.006, vect__ngram_range=(1, 7); total time= 1.3min\n",
      "[CV] END .........clf__alpha=0.006, vect__ngram_range=(1, 9); total time= 1.7min\n",
      "[CV] END ..........clf__alpha=0.01, vect__ngram_range=(1, 5); total time=  58.2s\n",
      "[CV] END ..........clf__alpha=0.01, vect__ngram_range=(1, 7); total time= 1.3min\n",
      "[CV] END ..........clf__alpha=0.01, vect__ngram_range=(1, 9); total time= 1.8min\n",
      "[CV] END .........clf__alpha=0.008, vect__ngram_range=(1, 5); total time=  46.9s\n",
      "[CV] END .........clf__alpha=0.008, vect__ngram_range=(1, 7); total time= 1.4min\n",
      "[CV] END .........clf__alpha=0.008, vect__ngram_range=(1, 9); total time= 1.7min\n",
      "[CV] END .........clf__alpha=0.006, vect__ngram_range=(1, 5); total time=  47.5s\n",
      "[CV] END .........clf__alpha=0.006, vect__ngram_range=(1, 7); total time= 1.3min\n",
      "[CV] END .........clf__alpha=0.006, vect__ngram_range=(1, 9); total time= 1.8min\n"
     ]
    }
   ],
   "source": [
    "sample_submission=pd.read_csv('../DATA/open/sample_submission.csv')\n",
    "sample_submission['label']=pred\n",
    "sample_submission.to_csv('../DATA/Result/NaiveBayes.csv', index=False)"
   ]
  },
  {
   "cell_type": "code",
   "execution_count": null,
   "id": "f7b58618",
   "metadata": {},
   "outputs": [],
   "source": []
  }
 ],
 "metadata": {
  "kernelspec": {
   "display_name": "Python 3 (ipykernel)",
   "language": "python",
   "name": "python3"
  },
  "language_info": {
   "codemirror_mode": {
    "name": "ipython",
    "version": 3
   },
   "file_extension": ".py",
   "mimetype": "text/x-python",
   "name": "python",
   "nbconvert_exporter": "python",
   "pygments_lexer": "ipython3",
   "version": "3.8.10"
  }
 },
 "nbformat": 4,
 "nbformat_minor": 5
}
