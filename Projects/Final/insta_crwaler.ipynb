{
 "cells": [
  {
   "cell_type": "code",
   "execution_count": 22,
   "id": "928b4e95",
   "metadata": {},
   "outputs": [],
   "source": [
    "from selenium import webdriver as wd\n",
    "from selenium.webdriver.common.keys import Keys\n",
    "from bs4 import BeautifulSoup\n",
    "import time\n",
    "import requests\n",
    "import shutil\n",
    "import os"
   ]
  },
  {
   "cell_type": "code",
   "execution_count": 23,
   "id": "73eadb16",
   "metadata": {},
   "outputs": [],
   "source": [
    "import pandas as pd\n",
    "data = pd.read_csv('./HASHTAGS.csv')\n",
    "hashTags = list(data['keywords'])\n",
    "\n",
    "# 정보 입력 받기 \n",
    "scroll_time = 7\n",
    "download_time = 99"
   ]
  },
  {
   "cell_type": "code",
   "execution_count": 33,
   "id": "6245b563",
   "metadata": {},
   "outputs": [
    {
     "ename": "KeyboardInterrupt",
     "evalue": "",
     "output_type": "error",
     "traceback": [
      "\u001b[0;31m---------------------------------------------------------------------------\u001b[0m",
      "\u001b[0;31mKeyboardInterrupt\u001b[0m                         Traceback (most recent call last)",
      "\u001b[0;32m/var/folders/s5/j2ttz_bd7d500bsb_zg9212w0000gn/T/ipykernel_24431/2787179449.py\u001b[0m in \u001b[0;36m<module>\u001b[0;34m\u001b[0m\n\u001b[1;32m     21\u001b[0m     \u001b[0mlater_button1\u001b[0m \u001b[0;34m=\u001b[0m \u001b[0mdriver\u001b[0m\u001b[0;34m.\u001b[0m\u001b[0mfind_element_by_class_name\u001b[0m\u001b[0;34m(\u001b[0m\u001b[0;34m'sqdOP'\u001b[0m\u001b[0;34m)\u001b[0m\u001b[0;34m\u001b[0m\u001b[0;34m\u001b[0m\u001b[0m\n\u001b[1;32m     22\u001b[0m     \u001b[0mlater_button1\u001b[0m\u001b[0;34m.\u001b[0m\u001b[0mclick\u001b[0m\u001b[0;34m(\u001b[0m\u001b[0;34m)\u001b[0m\u001b[0;34m\u001b[0m\u001b[0;34m\u001b[0m\u001b[0m\n\u001b[0;32m---> 23\u001b[0;31m     \u001b[0mtime\u001b[0m\u001b[0;34m.\u001b[0m\u001b[0msleep\u001b[0m\u001b[0;34m(\u001b[0m\u001b[0;36m5\u001b[0m\u001b[0;34m)\u001b[0m\u001b[0;34m\u001b[0m\u001b[0;34m\u001b[0m\u001b[0m\n\u001b[0m\u001b[1;32m     24\u001b[0m     \u001b[0;31m# '나중에 하기' 지우기\u001b[0m\u001b[0;34m\u001b[0m\u001b[0;34m\u001b[0m\u001b[0;34m\u001b[0m\u001b[0m\n\u001b[1;32m     25\u001b[0m     \u001b[0mlater_button2\u001b[0m \u001b[0;34m=\u001b[0m \u001b[0mdriver\u001b[0m\u001b[0;34m.\u001b[0m\u001b[0mfind_element_by_class_name\u001b[0m\u001b[0;34m(\u001b[0m\u001b[0;34m'aOOlW.HoLwm'\u001b[0m\u001b[0;34m)\u001b[0m\u001b[0;34m\u001b[0m\u001b[0;34m\u001b[0m\u001b[0m\n",
      "\u001b[0;31mKeyboardInterrupt\u001b[0m: "
     ]
    }
   ],
   "source": [
    "for hashTag in hashTags:\n",
    "    # driver load\n",
    "    driver = wd.Chrome(executable_path='/usr/local/bin/chromedriver')\n",
    "    driver.implicitly_wait(5)\n",
    "    \n",
    "    # 웹 사이트 접속 # 인스타그램 로그인 URL\n",
    "    loginUrl = 'https://www.instagram.com/accounts/login/'\n",
    "    driver.get(loginUrl)\n",
    "\n",
    "    # 유저 정보 세팅 \n",
    "    username = 'ryle_second' # 아이디\n",
    "    userpw = 'wkrwjs1684!' # 패스워드\n",
    "\n",
    "    # 로그인 정보 입력\n",
    "    driver.find_element_by_name('username').send_keys(username)\n",
    "    driver.find_element_by_name('password').send_keys(userpw)\n",
    "    driver.find_element_by_name('password').send_keys(Keys.ENTER)\n",
    "    driver.implicitly_wait(5)\n",
    "\n",
    "    # '나중에 하기' 지우기\n",
    "    later_button1 = driver.find_element_by_class_name('sqdOP')\n",
    "    later_button1.click()\n",
    "    time.sleep(5)\n",
    "    # '나중에 하기' 지우기\n",
    "    later_button2 = driver.find_element_by_class_name('aOOlW.HoLwm')\n",
    "    later_button2.click()\n",
    "    time.sleep(2)\n",
    "    \n",
    "    # 태그 입력, 제일 위 태그 선택 \n",
    "    driver.find_element_by_xpath(\"\"\"//*[@id=\"react-root\"]/section/nav/div[2]/div/div/div[2]/input\"\"\").send_keys(\"#\" + hashTag)\n",
    "    driver.implicitly_wait(5)\n",
    "    time.sleep(5)\n",
    "    driver.find_element_by_xpath(\"\"\"//*[@id=\"react-root\"]/section/nav/div[2]/div/div/div[2]/input\"\"\").send_keys(Keys.ENTER)\n",
    "    driver.find_element_by_xpath(\"\"\"//*[@id=\"react-root\"]/section/nav/div[2]/div/div/div[2]/input\"\"\").send_keys(Keys.ENTER)\n",
    "    driver.find_element_by_xpath(\"\"\"//*[@id=\"react-root\"]/section/nav/div[2]/div/div/div[2]/input\"\"\").send_keys(Keys.ENTER)\n",
    "    time.sleep(7)\n",
    "    \n",
    "    \n",
    "    html = driver.page_source\n",
    "    soup = BeautifulSoup(html, \"lxml\")\n",
    "\n",
    "    imglist = []\n",
    "\n",
    "    # 이미지 크롤링 with tag\n",
    "    for i in range(0, scroll_time):\n",
    "        insta = soup.select('.v1Nh3.kIKUG._bz0w')\n",
    "\n",
    "        for i in insta:\n",
    "            # print('https://www.instagram.com' + i.a['href'])\n",
    "            imgUrl = i.select_one('.KL4Bh').img['src']\n",
    "            imglist.append(imgUrl)\n",
    "            imglist = list(set(imglist))\n",
    "            html = driver.page_source\n",
    "            soup = BeautifulSoup(html, \"lxml\")\n",
    "            insta = soup.select('.v1Nh3.kIKUG._bz0w')\n",
    "\n",
    "        driver.execute_script('window.scrollTo(0, document.body.scrollHeight);')\n",
    "        time.sleep(3)\n",
    "\n",
    "    len_imglist = len(imglist)\n",
    "    \n",
    "    # 폴더 생성 \n",
    "    directory = '../../DATA/insta_img/' + hashTag + '/'\n",
    "    if not os.path.exists(directory):\n",
    "        os.makedirs(directory)\n",
    "        \n",
    "    # 이미지 다운로드\n",
    "    n = 0\n",
    "    for i in range(0, download_time):\n",
    "        if n >= len_imglist:\n",
    "            break\n",
    "\n",
    "        image_url = imglist[n]\n",
    "        resp = requests.get(image_url, stream=True)\n",
    "        local_file = open(directory + hashTag + str(n) + '.png', 'wb')\n",
    "        resp.raw.decode_content = True\n",
    "        shutil.copyfileobj(resp.raw, local_file)\n",
    "\n",
    "        n += 1\n",
    "        del resp\n",
    "\n",
    "#     print(f\"\\n{download_time} images downloaded to img/{hashTag}/\")\n",
    "\n",
    "    driver.close()\n",
    "    "
   ]
  },
  {
   "cell_type": "code",
   "execution_count": 41,
   "id": "1c8ec6f9",
   "metadata": {},
   "outputs": [],
   "source": [
    "import pandas as pd\n",
    "data = pd.read_csv('./HASHTAGS.csv')\n",
    "hashTag = '김동후'\n",
    "\n",
    "# 정보 입력 받기 \n",
    "scroll_time = 7\n",
    "download_time = 99\n",
    "\n",
    "# driver load\n",
    "driver = wd.Chrome(executable_path='/usr/local/bin/chromedriver')\n",
    "driver.implicitly_wait(5)\n",
    "\n",
    "# 웹 사이트 접속 # 인스타그램 로그인 URL\n",
    "loginUrl = 'https://www.instagram.com/accounts/login/'\n",
    "driver.get(loginUrl)\n",
    "\n",
    "# 유저 정보 세팅 \n",
    "username = 'ryle_second' # 아이디\n",
    "userpw = 'wkrwjs1684!' # 패스워드\n",
    "\n",
    "# 로그인 정보 입력\n",
    "driver.find_element_by_name('username').send_keys(username)\n",
    "driver.find_element_by_name('password').send_keys(userpw)\n",
    "driver.find_element_by_name('password').send_keys(Keys.ENTER)\n",
    "driver.implicitly_wait(5)\n",
    "\n",
    "# '나중에 하기' 지우기\n",
    "later_button1 = driver.find_element_by_class_name('sqdOP')\n",
    "later_button1.click()\n",
    "time.sleep(5)\n",
    "# '나중에 하기' 지우기\n",
    "later_button2 = driver.find_element_by_class_name('aOOlW.HoLwm')\n",
    "later_button2.click()\n",
    "time.sleep(2)\n",
    "\n",
    "# 태그 입력, 제일 위 태그 선택 \n",
    "driver.find_element_by_xpath(\"\"\"//*[@id=\"react-root\"]/section/nav/div[2]/div/div/div[2]/input\"\"\").send_keys(\"#\" + hashTag)\n",
    "driver.implicitly_wait(5)\n",
    "time.sleep(5)\n",
    "driver.find_element_by_xpath(\"\"\"//*[@id=\"react-root\"]/section/nav/div[2]/div/div/div[2]/input\"\"\").send_keys(Keys.ENTER)\n",
    "driver.find_element_by_xpath(\"\"\"//*[@id=\"react-root\"]/section/nav/div[2]/div/div/div[2]/input\"\"\").send_keys(Keys.ENTER)\n",
    "driver.find_element_by_xpath(\"\"\"//*[@id=\"react-root\"]/section/nav/div[2]/div/div/div[2]/input\"\"\").send_keys(Keys.ENTER)\n",
    "time.sleep(7)\n",
    "\n",
    "\n",
    "html = driver.page_source\n",
    "soup = BeautifulSoup(html, \"lxml\")\n",
    "\n",
    "imglist = []\n",
    "\n",
    "# 이미지 크롤링 with tag\n",
    "for i in range(0, scroll_time):\n",
    "    insta = soup.select('.v1Nh3.kIKUG._bz0w')\n",
    "\n",
    "    for i in insta:\n",
    "        # print('https://www.instagram.com' + i.a['href'])\n",
    "        imgUrl = i.select_one('.KL4Bh').img['src']\n",
    "        imglist.append(imgUrl)\n",
    "        imglist = list(set(imglist))\n",
    "        html = driver.page_source\n",
    "        soup = BeautifulSoup(html, \"lxml\")\n",
    "        insta = soup.select('.v1Nh3.kIKUG._bz0w')\n",
    "\n",
    "    driver.execute_script('window.scrollTo(0, document.body.scrollHeight);')\n",
    "    time.sleep(3)\n",
    "\n",
    "len_imglist = len(imglist)\n",
    "\n",
    "# 폴더 생성 \n",
    "directory = '../../DATA/insta_img/' + hashTag + '/'\n",
    "if not os.path.exists(directory):\n",
    "    os.makedirs(directory)\n",
    "\n",
    "# 이미지 다운로드\n",
    "n = 0\n",
    "for i in range(0, download_time):\n",
    "    if n >= len_imglist:\n",
    "        break\n",
    "\n",
    "    image_url = imglist[n]\n",
    "    resp = requests.get(image_url, stream=True)\n",
    "    local_file = open(directory + hashTag + str(n) + '.png', 'wb')\n",
    "    resp.raw.decode_content = True\n",
    "    shutil.copyfileobj(resp.raw, local_file)\n",
    "\n",
    "    n += 1\n",
    "    del resp\n",
    "\n",
    "#     print(f\"\\n{download_time} images downloaded to img/{hashTag}/\")\n",
    "\n",
    "driver.close()"
   ]
  },
  {
   "cell_type": "code",
   "execution_count": 38,
   "id": "2b06132c",
   "metadata": {},
   "outputs": [
    {
     "data": {
      "text/plain": [
       "'../../DATA/insta_img/행복하다/행복하다'"
      ]
     },
     "execution_count": 38,
     "metadata": {},
     "output_type": "execute_result"
    }
   ],
   "source": [
    "directory+hashTags"
   ]
  },
  {
   "cell_type": "code",
   "execution_count": 39,
   "id": "c207770a",
   "metadata": {},
   "outputs": [
    {
     "data": {
      "text/plain": [
       "'../../DATA/insta_img/행복하다/'"
      ]
     },
     "execution_count": 39,
     "metadata": {},
     "output_type": "execute_result"
    }
   ],
   "source": [
    "directory"
   ]
  },
  {
   "cell_type": "code",
   "execution_count": 40,
   "id": "08c3ea0a",
   "metadata": {},
   "outputs": [
    {
     "data": {
      "text/plain": [
       "'행복하다'"
      ]
     },
     "execution_count": 40,
     "metadata": {},
     "output_type": "execute_result"
    }
   ],
   "source": [
    "str(hashTag)"
   ]
  },
  {
   "cell_type": "code",
   "execution_count": null,
   "id": "38e8b980",
   "metadata": {},
   "outputs": [],
   "source": []
  }
 ],
 "metadata": {
  "kernelspec": {
   "display_name": "Python 3 (ipykernel)",
   "language": "python",
   "name": "python3"
  },
  "language_info": {
   "codemirror_mode": {
    "name": "ipython",
    "version": 3
   },
   "file_extension": ".py",
   "mimetype": "text/x-python",
   "name": "python",
   "nbconvert_exporter": "python",
   "pygments_lexer": "ipython3",
   "version": "3.8.10"
  }
 },
 "nbformat": 4,
 "nbformat_minor": 5
}
