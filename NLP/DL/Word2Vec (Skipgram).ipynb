{
 "cells": [
  {
   "cell_type": "code",
   "execution_count": 1,
   "id": "027a9a42",
   "metadata": {},
   "outputs": [],
   "source": [
    "import tensorflow as tf\n",
    "import numpy as np"
   ]
  },
  {
   "cell_type": "code",
   "execution_count": 2,
   "id": "fddf04ff",
   "metadata": {},
   "outputs": [],
   "source": [
    "corpus_raw = \"He is the king . The king is royal . She is the royal queen\""
   ]
  },
  {
   "cell_type": "code",
   "execution_count": 3,
   "id": "2909b719",
   "metadata": {},
   "outputs": [],
   "source": [
    "raw_sentence = corpus_raw.split(\".\")\n",
    "\n",
    "# 단어 리스트 만들기\n",
    "sentences = [sentence.strip().split() for sentence in raw_sentence]"
   ]
  },
  {
   "cell_type": "code",
   "execution_count": 4,
   "id": "32ca4b46",
   "metadata": {},
   "outputs": [
    {
     "data": {
      "text/plain": [
       "[['He', 'is'],\n",
       " ['He', 'the'],\n",
       " ['is', 'He'],\n",
       " ['is', 'the'],\n",
       " ['is', 'king'],\n",
       " ['the', 'He'],\n",
       " ['the', 'is'],\n",
       " ['the', 'king'],\n",
       " ['king', 'is'],\n",
       " ['king', 'the'],\n",
       " ['The', 'king'],\n",
       " ['The', 'is'],\n",
       " ['king', 'The'],\n",
       " ['king', 'is'],\n",
       " ['king', 'royal'],\n",
       " ['is', 'The'],\n",
       " ['is', 'king'],\n",
       " ['is', 'royal'],\n",
       " ['royal', 'king'],\n",
       " ['royal', 'is'],\n",
       " ['She', 'is'],\n",
       " ['She', 'the'],\n",
       " ['is', 'She'],\n",
       " ['is', 'the'],\n",
       " ['is', 'royal'],\n",
       " ['the', 'She'],\n",
       " ['the', 'is'],\n",
       " ['the', 'royal'],\n",
       " ['the', 'queen'],\n",
       " ['royal', 'is'],\n",
       " ['royal', 'the'],\n",
       " ['royal', 'queen'],\n",
       " ['queen', 'the'],\n",
       " ['queen', 'royal']]"
      ]
     },
     "execution_count": 4,
     "metadata": {},
     "output_type": "execute_result"
    }
   ],
   "source": [
    "# Skipgram 용 데이터 셋 생성\n",
    "data = []\n",
    "window_size = 2\n",
    "\n",
    "for sentence in sentences:\n",
    "    for idx, word in enumerate(sentence):\n",
    "        start_idx = max(idx - window_size, 0)\n",
    "        end_idx = min(idx + window_size + 1, len(sentence))\n",
    "        \n",
    "        for nb_word in sentence[start_idx:idx]:\n",
    "            data.append([word, nb_word])\n",
    "            \n",
    "        for nb_word in sentence[idx+1:end_idx]:\n",
    "            data.append([word, nb_word])\n",
    "data"
   ]
  },
  {
   "cell_type": "code",
   "execution_count": 5,
   "id": "fcfeb5b6",
   "metadata": {},
   "outputs": [],
   "source": [
    "# Onehot encoding을 위한 사전 생성\n",
    "words = []\n",
    "for word in corpus_raw.split():\n",
    "    if word != \".\" :\n",
    "        words.append(word)\n",
    "words = set(words)\n",
    "\n",
    "word2int = {}\n",
    "int2word = {}\n",
    "vocab_size = len(words)\n",
    "\n",
    "\n",
    "for i, word in enumerate(words):\n",
    "    word2int[word] = i \n",
    "    int2word[i] = word"
   ]
  },
  {
   "cell_type": "code",
   "execution_count": 6,
   "id": "b9fb1746",
   "metadata": {},
   "outputs": [],
   "source": [
    "# Onehot vector 함수\n",
    "def to_one_hot(word_index, vocab_size):\n",
    "    temp = np.zeros(vocab_size)\n",
    "    temp[word_index] = 1\n",
    "    \n",
    "    return temp"
   ]
  },
  {
   "cell_type": "code",
   "execution_count": 7,
   "id": "f476b133",
   "metadata": {},
   "outputs": [],
   "source": [
    "# Onehot vector 만들기\n",
    "x_train = []\n",
    "y_train = []\n",
    "\n",
    "for word in data:\n",
    "    x_train.append(to_one_hot(word2int[word[0]], vocab_size))\n",
    "    y_train.append(to_one_hot(word2int[word[1]], vocab_size))"
   ]
  },
  {
   "cell_type": "code",
   "execution_count": 8,
   "id": "e4fbdc62",
   "metadata": {},
   "outputs": [],
   "source": [
    "# Array로 바꿔주기\n",
    "x_train = np.asarray(x_train, dtype=np.float32)\n",
    "y_train = np.asarray(y_train, dtype=np.float32)"
   ]
  },
  {
   "cell_type": "code",
   "execution_count": 9,
   "id": "2f5d2e77",
   "metadata": {},
   "outputs": [],
   "source": [
    "# Word2Vec 만들기\n",
    "class Word2Vec:\n",
    "    def __init__(self, vocab_size = 10, embedding_dim = 5, optimizer = \"sgd\", epoch = 1000, learning_rate = 0.01):\n",
    "        self.vocab_size = vocab_size\n",
    "        self.embedding_dim = embedding_dim\n",
    "        if optimizer == 'adam':\n",
    "            self.optimizer = tf.optimizers.Adam(learning_rate=learning_rate)\n",
    "        else:\n",
    "            self.optimizer = tf.optimizers.SGD(learning_rate=learning_rate)\n",
    "        self.epoch = epoch\n",
    "        self.W1 = tf.Variable(tf.random.normal([self.vocab_size, self.embedding_dim]))\n",
    "        self.b1 = tf.Variable(tf.random.normal([self.embedding_dim]))\n",
    "        self.W2 = tf.Variable(tf.random.normal([self.embedding_dim, self.vocab_size]))\n",
    "        self.b2 = tf.Variable(tf.random.normal([self.vocab_size]))\n",
    "        \n",
    "        \n",
    "    def vectorized(self, word_index):\n",
    "        return(self.W1 + self.b1)[word_index]\n",
    "\n",
    "    def train(self, x_train, y_train):\n",
    "        for i in range(0, self.epoch):\n",
    "            with tf.GradientTape() as tape:\n",
    "                hidden_layer = tf.add(tf.matmul(x_train, self.W1), self.b1)\n",
    "                output_layer = tf.add(tf.matmul(hidden_layer, self.W2), self.b2)\n",
    "                \n",
    "                pred = tf.nn.softmax(output_layer)\n",
    "                loss = tf.reduce_mean(-tf.math.reduce_sum(y_train*tf.math.log(pred), axis=[1]))\n",
    "                \n",
    "                grads = tape.gradient(loss, [self.W1, self.W2, self.b1, self.b2])\n",
    "                self.optimizer.apply_gradients(zip(grads, [self.W1, self.W2, self.b1, self.b2]))\n",
    "                \n",
    "            if i % 1000 == 0:\n",
    "                print(loss)"
   ]
  },
  {
   "cell_type": "code",
   "execution_count": 10,
   "id": "88bfb8b8",
   "metadata": {},
   "outputs": [
    {
     "name": "stdout",
     "output_type": "stream",
     "text": [
      "tf.Tensor(5.771127, shape=(), dtype=float32)\n",
      "tf.Tensor(1.8247945, shape=(), dtype=float32)\n",
      "tf.Tensor(1.66032, shape=(), dtype=float32)\n",
      "tf.Tensor(1.5876708, shape=(), dtype=float32)\n",
      "tf.Tensor(1.5390155, shape=(), dtype=float32)\n",
      "tf.Tensor(1.5049945, shape=(), dtype=float32)\n",
      "tf.Tensor(1.4788816, shape=(), dtype=float32)\n",
      "tf.Tensor(1.4566278, shape=(), dtype=float32)\n",
      "tf.Tensor(1.4373903, shape=(), dtype=float32)\n",
      "tf.Tensor(1.421744, shape=(), dtype=float32)\n"
     ]
    }
   ],
   "source": [
    "w2v = Word2Vec(vocab_size=vocab_size, embedding_dim=5, optimizer=\"sgd\", epoch = 10000, learning_rate=0.01)\n",
    "w2v.train(x_train, y_train)"
   ]
  },
  {
   "cell_type": "code",
   "execution_count": 11,
   "id": "b045bf86",
   "metadata": {},
   "outputs": [
    {
     "data": {
      "text/plain": [
       "array([-0.8172213, -1.2104745,  0.9921279,  0.658234 ,  1.6559261],\n",
       "      dtype=float32)"
      ]
     },
     "execution_count": 11,
     "metadata": {},
     "output_type": "execute_result"
    }
   ],
   "source": [
    "w2v.vectorized(word2int[\"queen\"]).numpy()"
   ]
  },
  {
   "cell_type": "code",
   "execution_count": 12,
   "id": "08a3635c",
   "metadata": {},
   "outputs": [
    {
     "data": {
      "text/plain": [
       "array([ 0.9996748 , -0.590179  , -0.33376157,  0.4322757 ,  1.5221866 ],\n",
       "      dtype=float32)"
      ]
     },
     "execution_count": 12,
     "metadata": {},
     "output_type": "execute_result"
    }
   ],
   "source": [
    "w2v.vectorized(word2int[\"king\"]).numpy()"
   ]
  },
  {
   "cell_type": "code",
   "execution_count": 13,
   "id": "ab424a8e",
   "metadata": {},
   "outputs": [],
   "source": [
    "vector = w2v.W1 + w2v.b1\n",
    "\n",
    "from sklearn.manifold import TSNE\n",
    "from sklearn import preprocessing\n",
    "\n",
    "model = TSNE(n_components=2, random_state=42)\n",
    "np.set_printoptions(suppress=True)\n",
    "vectors = model.fit_transform(vector)\n",
    "\n",
    "normalizer = preprocessing.Normalizer()\n",
    "vectors = normalizer.fit_transform(vectors,'l2')"
   ]
  },
  {
   "cell_type": "code",
   "execution_count": 14,
   "id": "6bf12234",
   "metadata": {},
   "outputs": [
    {
     "name": "stdout",
     "output_type": "stream",
     "text": [
      "The [ 0.787192   -0.61670804]\n",
      "She [-0.82485855  0.56533927]\n",
      "is [0.94978195 0.31291252]\n",
      "queen [-0.24413551  0.9697411 ]\n",
      "He [-0.15563494  0.98781466]\n",
      "the [-0.2925513  -0.95624983]\n",
      "royal [-0.9756935  -0.21913934]\n",
      "king [0.45033774 0.89285827]\n"
     ]
    },
    {
     "data": {
      "image/png": "[encoded data removed]",
      "text/plain": [
       "<Figure size 432x288 with 1 Axes>"
      ]
     },
     "metadata": {
      "needs_background": "light"
     },
     "output_type": "display_data"
    }
   ],
   "source": [
    "import matplotlib.pyplot as plt\n",
    "\n",
    "fig, ax = plt.subplots()\n",
    "ax.set_xlim(left=-2, right=2)\n",
    "ax.set_ylim(bottom=-2, top=2)\n",
    "\n",
    "for word in words:\n",
    "    print(word, vectors[word2int[word]])\n",
    "    ax.annotate(word, (vectors[word2int[word]][0], vectors[word2int[word]][1]))\n",
    "    \n",
    "plt.show()"
   ]
  }
 ],
 "metadata": {
  "kernelspec": {
   "display_name": "Python 3",
   "language": "python",
   "name": "python3"
  },
  "language_info": {
   "codemirror_mode": {
    "name": "ipython",
    "version": 3
   },
   "file_extension": ".py",
   "mimetype": "text/x-python",
   "name": "python",
   "nbconvert_exporter": "python",
   "pygments_lexer": "ipython3",
   "version": "3.8.10"
  }
 },
 "nbformat": 4,
 "nbformat_minor": 5
}
