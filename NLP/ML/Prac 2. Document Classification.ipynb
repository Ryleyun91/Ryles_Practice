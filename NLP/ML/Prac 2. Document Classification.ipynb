{
 "cells": [
  {
   "cell_type": "markdown",
   "metadata": {
    "id": "ecOHtGBs7lDO"
   },
   "source": [
    "# 10장 문서 분류 (Document Classification)"
   ]
  },
  {
   "cell_type": "markdown",
   "metadata": {
    "id": "MSHRKud41Tr0"
   },
   "source": [
    "# 11-1 나이브 베이즈 분류(Naive Bayes Classifier)"
   ]
  },
  {
   "cell_type": "markdown",
   "metadata": {
    "id": "32FEohTU9qob"
   },
   "source": [
    "## 1.1 직접구현"
   ]
  },
  {
   "cell_type": "markdown",
   "metadata": {
    "id": "DwzbT2LkrCwH"
   },
   "source": [
    "### Naive Bayes Classifier"
   ]
  },
  {
   "cell_type": "code",
   "execution_count": 1,
   "metadata": {
    "id": "yvX-1FJ7qXOu"
   },
   "outputs": [],
   "source": [
    "# spam 1 , ham 0\n",
    "training_set = [['me free lottery', 1],\n",
    " ['free get free you', 1],\n",
    " ['you free scholarship', 0],\n",
    " ['free to contact me', 0],\n",
    " ['you won award', 0],\n",
    " ['you ticket lottery', 1]]"
   ]
  },
  {
   "cell_type": "markdown",
   "metadata": {
    "id": "c8irQ-xFsq39"
   },
   "source": [
    "### 토큰 빈도수 및 문서별 토큰수 계산 (확률 계산을 위한 준비)"
   ]
  },
  {
   "cell_type": "markdown",
   "metadata": {
    "id": "6MLSe8V1sYsv"
   },
   "source": [
    "![대체 텍스트](https://wikimedia.org/api/rest_v1/media/math/render/svg/98f086c560aa2f66650060277dda4f90e54e30c0)"
   ]
  },
  {
   "cell_type": "code",
   "execution_count": 13,
   "metadata": {},
   "outputs": [],
   "source": [
    "# 범주에 속하는 토큰수 세기 1(스팸), 0(정상))\n",
    "doccnt0 = []\n",
    "doccnt1 = []\n",
    "\n",
    "for words, cat in training_set:\n",
    "    if cat==0:\n",
    "        for word in words.split():\n",
    "            doccnt0.append(word)\n",
    "    else:\n",
    "        for word in words.split():\n",
    "            doccnt1.append(word)\n",
    "doccnt0 = len(doccnt0)\n",
    "doccnt1 = len(doccnt1)\n",
    "    \n",
    "\n",
    "## 토큰별로 문서내 빈도수 카운팅\n",
    "from collections import defaultdict\n",
    "wordfreq = defaultdict(lambda : [0,0])\n",
    "\n",
    "for words, cat in training_set:\n",
    "    if cat == 0:\n",
    "        for word in words.split():\n",
    "            if word not in wordfreq:\n",
    "                wordfreq[word]\n",
    "                wordfreq[word][0] += 1\n",
    "            else:\n",
    "                wordfreq[word][0] += 1 \n",
    "    else:\n",
    "        for word in words.split():\n",
    "            if word not in wordfreq:\n",
    "                wordfreq[word]\n",
    "                wordfreq[word][1] += 1\n",
    "            else:\n",
    "                wordfreq[word][1] += 1"
   ]
  },
  {
   "cell_type": "markdown",
   "metadata": {},
   "source": [
    "### 와... 그냥 인덱싱을 잘 하면 if문도 안써도 되고 코드가 간결해지는 군"
   ]
  },
  {
   "cell_type": "code",
   "execution_count": 20,
   "metadata": {
    "colab": {
     "base_uri": "https://localhost:8080/"
    },
    "executionInfo": {
     "elapsed": 2217,
     "status": "ok",
     "timestamp": 1615858014029,
     "user": {
      "displayName": "홍경수",
      "photoUrl": "",
      "userId": "10514684854108920109"
     },
     "user_tz": -540
    },
    "id": "r4KjiGtqsbm_",
    "outputId": "51a9b039-7fe3-4031-90d6-57ad75888ac7"
   },
   "outputs": [
    {
     "data": {
      "text/plain": [
       "defaultdict(<function __main__.<lambda>()>,\n",
       "            {'me': [1, 1],\n",
       "             'free': [2, 3],\n",
       "             'lottery': [0, 2],\n",
       "             'get': [0, 1],\n",
       "             'you': [2, 2],\n",
       "             'scholarship': [1, 0],\n",
       "             'to': [1, 0],\n",
       "             'contact': [1, 0],\n",
       "             'won': [1, 0],\n",
       "             'award': [1, 0],\n",
       "             'ticket': [0, 1]})"
      ]
     },
     "execution_count": 20,
     "metadata": {},
     "output_type": "execute_result"
    }
   ],
   "source": [
    "from collections import defaultdict\n",
    "\n",
    "# 범주에 속하는 토큰수 세기 1(스팸), 0(정상))\n",
    "doccnt0 = 0\n",
    "doccnt1 = 0\n",
    "\n",
    "# 토큰별로 문서내 빈도수 카운팅\n",
    "wordfreq = defaultdict(lambda : [0, 0])\n",
    "\n",
    "for doc, label in training_set:\n",
    "    words = doc.split()\n",
    "    for word in words:\n",
    "        wordfreq[word][label] += 1\n",
    "\n",
    "for key, (cnt0, cnt1) in wordfreq.items():\n",
    "    doccnt0 += cnt0\n",
    "    doccnt1 += cnt1\n",
    "    \n",
    "wordfreq"
   ]
  },
  {
   "cell_type": "markdown",
   "metadata": {
    "id": "uKs_HaKwskLP"
   },
   "source": [
    "### Training : 토큰별 조건부 확률 계산 "
   ]
  },
  {
   "cell_type": "code",
   "execution_count": 23,
   "metadata": {
    "colab": {
     "base_uri": "https://localhost:8080/"
    },
    "executionInfo": {
     "elapsed": 2199,
     "status": "ok",
     "timestamp": 1615858014030,
     "user": {
      "displayName": "홍경수",
      "photoUrl": "",
      "userId": "10514684854108920109"
     },
     "user_tz": -540
    },
    "id": "dgCsmiCNsjjF",
    "outputId": "e99405ac-e0e0-4495-950f-68a1b7c7e7a9"
   },
   "outputs": [
    {
     "data": {
      "text/plain": [
       "defaultdict(<function __main__.<lambda>()>,\n",
       "            {'me': (0.13636363636363635, 0.13636363636363635),\n",
       "             'free': (0.22727272727272727, 0.3181818181818182),\n",
       "             'lottery': (0.045454545454545456, 0.22727272727272727),\n",
       "             'get': (0.045454545454545456, 0.13636363636363635),\n",
       "             'you': (0.22727272727272727, 0.22727272727272727),\n",
       "             'scholarship': (0.13636363636363635, 0.045454545454545456),\n",
       "             'to': (0.13636363636363635, 0.045454545454545456),\n",
       "             'contact': (0.13636363636363635, 0.045454545454545456),\n",
       "             'won': (0.13636363636363635, 0.045454545454545456),\n",
       "             'award': (0.13636363636363635, 0.045454545454545456),\n",
       "             'ticket': (0.045454545454545456, 0.13636363636363635)})"
      ]
     },
     "execution_count": 23,
     "metadata": {},
     "output_type": "execute_result"
    }
   ],
   "source": [
    "k = 0.5\n",
    "\n",
    "wordprobs = defaultdict(lambda : [0, 0])\n",
    "\n",
    "for key, (ham, spam) in wordfreq.items():\n",
    "    wordprobs[key] = ((k+ham)/(2*k+doccnt0),(k+spam)/(2*k+doccnt1))\n",
    "wordprobs"
   ]
  },
  {
   "cell_type": "markdown",
   "metadata": {
    "id": "_Viq9UFbs3Y2"
   },
   "source": [
    "### Classify : 신규 텍스트가 주어졌을 때 확률 계산\n",
    "\n",
    "> 들여쓴 블록\n",
    "\n"
   ]
  },
  {
   "cell_type": "code",
   "execution_count": 33,
   "metadata": {
    "colab": {
     "base_uri": "https://localhost:8080/"
    },
    "executionInfo": {
     "elapsed": 2194,
     "status": "ok",
     "timestamp": 1615858014031,
     "user": {
      "displayName": "홍경수",
      "photoUrl": "",
      "userId": "10514684854108920109"
     },
     "user_tz": -540
    },
    "id": "ypuyUtI4LAQs",
    "outputId": "6cc6d73d-a3db-4a4a-aa35-0f787b630fc0"
   },
   "outputs": [
    {
     "name": "stdout",
     "output_type": "stream",
     "text": [
      "free lottery\n",
      "정상확률 : 12.50%\n",
      "스팸확률 : 87.50%\n"
     ]
    }
   ],
   "source": [
    "import math\n",
    "\n",
    "doc = \"free lottery\"\n",
    "tokens = doc.split()\n",
    "\n",
    "# 초기값은 모두 0으로 처리\n",
    "log_prob1 = log_prob0 = 0.0\n",
    "\n",
    "# 모든 단어에 대해 반복\n",
    "for word, (prob0, prob1) in wordprobs.items():\n",
    "    if word in tokens:\n",
    "        log_prob0 += math.log(prob0)\n",
    "        log_prob1 += math.log(prob1)\n",
    "\n",
    "log_prob0 += math.log(doccnt0/(doccnt0+doccnt1))\n",
    "log_prob1 += math.log(doccnt0/(doccnt0+doccnt1))\n",
    "\n",
    "prob0 = math.exp(log_prob0)\n",
    "prob1 = math.exp(log_prob1)\n",
    "\n",
    "print(doc)\n",
    "print(\"정상확률 : {:.2f}%\".format(prob0 / (prob0 + prob1)*100))\n",
    "print(\"스팸확률 : {:.2f}%\".format(prob1 / (prob0 + prob1)*100))"
   ]
  },
  {
   "cell_type": "code",
   "execution_count": 28,
   "metadata": {
    "colab": {
     "base_uri": "https://localhost:8080/"
    },
    "executionInfo": {
     "elapsed": 2187,
     "status": "ok",
     "timestamp": 1615858014031,
     "user": {
      "displayName": "홍경수",
      "photoUrl": "",
      "userId": "10514684854108920109"
     },
     "user_tz": -540
    },
    "id": "h3fo1N_tIvEj",
    "outputId": "dcb917d3-c9bb-40a3-b10e-a2cab13cce30"
   },
   "outputs": [
    {
     "data": {
      "text/plain": [
       "-5.265794174842476"
      ]
     },
     "execution_count": 28,
     "metadata": {},
     "output_type": "execute_result"
    }
   ],
   "source": [
    "log_prob0"
   ]
  },
  {
   "cell_type": "code",
   "execution_count": 29,
   "metadata": {
    "colab": {
     "base_uri": "https://localhost:8080/"
    },
    "executionInfo": {
     "elapsed": 2181,
     "status": "ok",
     "timestamp": 1615858014031,
     "user": {
      "displayName": "홍경수",
      "photoUrl": "",
      "userId": "10514684854108920109"
     },
     "user_tz": -540
    },
    "id": "biWXCUHRFo4J",
    "outputId": "fc54965b-f864-4772-8bf7-7f3549bf77db"
   },
   "outputs": [
    {
     "data": {
      "text/plain": [
       "0.00516528925619835"
      ]
     },
     "execution_count": 29,
     "metadata": {},
     "output_type": "execute_result"
    }
   ],
   "source": [
    "prob0"
   ]
  },
  {
   "cell_type": "code",
   "execution_count": 30,
   "metadata": {
    "colab": {
     "base_uri": "https://localhost:8080/"
    },
    "executionInfo": {
     "elapsed": 2176,
     "status": "ok",
     "timestamp": 1615858014032,
     "user": {
      "displayName": "홍경수",
      "photoUrl": "",
      "userId": "10514684854108920109"
     },
     "user_tz": -540
    },
    "id": "adNOcTSS_IkS",
    "outputId": "82c23555-d176-4583-9a11-35448930b5d2"
   },
   "outputs": [
    {
     "data": {
      "text/plain": [
       "0.03615702479338842"
      ]
     },
     "execution_count": 30,
     "metadata": {},
     "output_type": "execute_result"
    }
   ],
   "source": [
    "prob1"
   ]
  },
  {
   "cell_type": "markdown",
   "metadata": {
    "id": "l-A8xr_o_JOt"
   },
   "source": [
    "##1.2 sklearn 활용 (영문 뉴스 분류)"
   ]
  },
  {
   "cell_type": "markdown",
   "metadata": {
    "id": "-Yov08uo5rxT"
   },
   "source": [
    "### 뉴스 데이터 다운로드\n",
    "\n"
   ]
  },
  {
   "cell_type": "code",
   "execution_count": 36,
   "metadata": {
    "colab": {
     "base_uri": "https://localhost:8080/"
    },
    "executionInfo": {
     "elapsed": 13280,
     "status": "ok",
     "timestamp": 1615858025141,
     "user": {
      "displayName": "홍경수",
      "photoUrl": "",
      "userId": "10514684854108920109"
     },
     "user_tz": -540
    },
    "id": "nBAWgb3FIm4b",
    "outputId": "f8d43b7c-0c4b-411e-ad07-6c358a7a15d3"
   },
   "outputs": [],
   "source": [
    "from sklearn.datasets import fetch_20newsgroups\n",
    "twenty_train = fetch_20newsgroups(subset = \"train\", shuffle=True)"
   ]
  },
  {
   "cell_type": "code",
   "execution_count": 38,
   "metadata": {},
   "outputs": [
    {
     "name": "stdout",
     "output_type": "stream",
     "text": [
      "['alt.atheism', 'comp.graphics', 'comp.os.ms-windows.misc', 'comp.sys.ibm.pc.hardware', 'comp.sys.mac.hardware', 'comp.windows.x', 'misc.forsale', 'rec.autos', 'rec.motorcycles', 'rec.sport.baseball', 'rec.sport.hockey', 'sci.crypt', 'sci.electronics', 'sci.med', 'sci.space', 'soc.religion.christian', 'talk.politics.guns', 'talk.politics.mideast', 'talk.politics.misc', 'talk.religion.misc']\n",
      "From: lerxst@wam.umd.edu (where's my thing)\n",
      "Subject: WHAT car is this!?\n",
      "Nntp-Posting-Host: rac3.wam.umd.edu\n",
      "Organization: University of Maryland, College Park\n",
      "Lines: 15\n",
      "\n",
      " I was wondering if anyone out there could enlighten me on this car I saw\n",
      "the other day. It was a 2-door sports car, looked to be from the late 60s/\n",
      "early 70s. It was called a Bricklin. The doors were really small. In addition,\n",
      "the front bumper was separate from the rest of the body. This is \n",
      "all I know. If anyone can tellme a model name, engine specs, years\n",
      "of production, where this car is made, history, or whatever info you\n",
      "have on this funky looking car, please e-mail.\n",
      "\n",
      "Thanks,\n",
      "- IL\n",
      "   ---- brought to you by your neighborhood Lerxst ----\n",
      "\n",
      "\n",
      "\n",
      "\n",
      "\n",
      "7\n"
     ]
    }
   ],
   "source": [
    "print(twenty_train.target_names)\n",
    "print(twenty_train.data[0])\n",
    "print(twenty_train.target[0])"
   ]
  },
  {
   "cell_type": "markdown",
   "metadata": {
    "id": "n4hNTVqR6urR"
   },
   "source": [
    "### 문서 분류(파이프 라인 사용)"
   ]
  },
  {
   "cell_type": "code",
   "execution_count": 41,
   "metadata": {
    "id": "7zGR3Yx9JFsI"
   },
   "outputs": [],
   "source": [
    "from sklearn.pipeline import Pipeline\n",
    "from sklearn.feature_extraction.text import CountVectorizer\n",
    "from sklearn.feature_extraction.text import TfidfTransformer\n",
    "from sklearn.naive_bayes import MultinomialNB\n",
    "\n",
    "# 각 객체를 리스트에 묶어서 pipeline 생성 \n",
    "text_clf = Pipeline([('vect', CountVectorizer()),('tfidf', TfidfTransformer()),('clf', MultinomialNB())])\n",
    "\n",
    "text_clf = text_clf.fit(twenty_train.data, twenty_train.target)"
   ]
  },
  {
   "cell_type": "code",
   "execution_count": 46,
   "metadata": {
    "colab": {
     "base_uri": "https://localhost:8080/"
    },
    "executionInfo": {
     "elapsed": 19031,
     "status": "ok",
     "timestamp": 1615858030898,
     "user": {
      "displayName": "홍경수",
      "photoUrl": "",
      "userId": "10514684854108920109"
     },
     "user_tz": -540
    },
    "id": "Z_dEYI3DJMII",
    "outputId": "5ae8ea38-f2d7-422f-c439-a1e535c39792"
   },
   "outputs": [
    {
     "data": {
      "text/plain": [
       "0.7738980350504514"
      ]
     },
     "execution_count": 46,
     "metadata": {},
     "output_type": "execute_result"
    }
   ],
   "source": [
    "import numpy as np\n",
    "\n",
    "twenty_test = fetch_20newsgroups(subset=\"test\", shuffle=True)\n",
    "\n",
    "predicted = text_clf.predict(twenty_test.data)\n",
    "np.mean(predicted == twenty_test.target)"
   ]
  },
  {
   "cell_type": "markdown",
   "metadata": {
    "id": "sh1ocCeDCSlu"
   },
   "source": [
    "### Grid Search"
   ]
  },
  {
   "cell_type": "code",
   "execution_count": 52,
   "metadata": {
    "id": "M0OW4UoP-owr"
   },
   "outputs": [
    {
     "name": "stdout",
     "output_type": "stream",
     "text": [
      "Fitting 5 folds for each of 12 candidates, totalling 60 fits\n",
      "Best score: 0.9140891823370072\n"
     ]
    }
   ],
   "source": [
    "from sklearn.model_selection import GridSearchCV\n",
    "from sklearn.pipeline import Pipeline\n",
    "from sklearn.feature_extraction.text import CountVectorizer\n",
    "from sklearn.feature_extraction.text import TfidfTransformer\n",
    "from sklearn.naive_bayes import MultinomialNB\n",
    "\n",
    "# 각 객체를 리스트에 묶어서 pipeline 생성\n",
    "text_clf = Pipeline([('vect', CountVectorizer()),('tfidf', TfidfTransformer()),('clf', MultinomialNB())])\n",
    "parameters_clf = {'vect__ngram_range':[(1,1),(1,2)],\n",
    "                 'tfidf__use_idf': (True, False),\n",
    "                  # alpha는 라플라스 스무딩 파라미터\n",
    "                 'clf__alpha':(1, 0.5, 0.01)}\n",
    "\n",
    "# n_jobs는 코어 몇 개나 쓸지 (-1은 모든 자원 쓰겠다), verbose는 로그를 찍는 것 (로그 보여주는 옵션 선택이라 보면 됨)\n",
    "gs_clf = GridSearchCV(text_clf, parameters_clf, n_jobs=-1, verbose=2)\n",
    "gs_clf = gs_clf.fit(twenty_train.data, twenty_train.target)\n",
    "\n",
    "print(\"Best score: {}\".format(gs_clf.best_score_))\n",
    "best_parametors = gs_clf.best_estimator_.get_params()"
   ]
  },
  {
   "cell_type": "code",
   "execution_count": 53,
   "metadata": {},
   "outputs": [
    {
     "data": {
      "text/plain": [
       "{'memory': None,\n",
       " 'steps': [('vect', CountVectorizer(ngram_range=(1, 2))),\n",
       "  ('tfidf', TfidfTransformer()),\n",
       "  ('clf', MultinomialNB(alpha=0.01))],\n",
       " 'verbose': False,\n",
       " 'vect': CountVectorizer(ngram_range=(1, 2)),\n",
       " 'tfidf': TfidfTransformer(),\n",
       " 'clf': MultinomialNB(alpha=0.01),\n",
       " 'vect__analyzer': 'word',\n",
       " 'vect__binary': False,\n",
       " 'vect__decode_error': 'strict',\n",
       " 'vect__dtype': numpy.int64,\n",
       " 'vect__encoding': 'utf-8',\n",
       " 'vect__input': 'content',\n",
       " 'vect__lowercase': True,\n",
       " 'vect__max_df': 1.0,\n",
       " 'vect__max_features': None,\n",
       " 'vect__min_df': 1,\n",
       " 'vect__ngram_range': (1, 2),\n",
       " 'vect__preprocessor': None,\n",
       " 'vect__stop_words': None,\n",
       " 'vect__strip_accents': None,\n",
       " 'vect__token_pattern': '(?u)\\\\b\\\\w\\\\w+\\\\b',\n",
       " 'vect__tokenizer': None,\n",
       " 'vect__vocabulary': None,\n",
       " 'tfidf__norm': 'l2',\n",
       " 'tfidf__smooth_idf': True,\n",
       " 'tfidf__sublinear_tf': False,\n",
       " 'tfidf__use_idf': True,\n",
       " 'clf__alpha': 0.01,\n",
       " 'clf__class_prior': None,\n",
       " 'clf__fit_prior': True}"
      ]
     },
     "execution_count": 53,
     "metadata": {},
     "output_type": "execute_result"
    }
   ],
   "source": [
    "best_parametors"
   ]
  },
  {
   "cell_type": "markdown",
   "metadata": {
    "id": "NItaGM4ZUZkn"
   },
   "source": [
    "vs. https://www.kaggle.com/thomastilli/simple-naive-bayes-classier-0-34974-on-lb"
   ]
  },
  {
   "cell_type": "markdown",
   "metadata": {
    "id": "7ErcyV1GC0Hn"
   },
   "source": [
    "### Parameter 적용"
   ]
  },
  {
   "cell_type": "code",
   "execution_count": 54,
   "metadata": {
    "id": "z7kjWoCB7Gbo",
    "scrolled": true
   },
   "outputs": [
    {
     "data": {
      "text/plain": [
       "0.8344397238449283"
      ]
     },
     "execution_count": 54,
     "metadata": {},
     "output_type": "execute_result"
    }
   ],
   "source": [
    "predicted = gs_clf.best_estimator_.predict(twenty_test.data)\n",
    "np.mean(predicted == twenty_test.target)"
   ]
  },
  {
   "cell_type": "markdown",
   "metadata": {
    "id": "ZFINscB8FS7Q"
   },
   "source": [
    "## 1.3 sklearn 활용 (한글 뉴스 분류)"
   ]
  },
  {
   "cell_type": "code",
   "execution_count": 68,
   "metadata": {
    "id": "ovFtoItjDfFs"
   },
   "outputs": [
    {
     "name": "stdout",
     "output_type": "stream",
     "text": [
      "--2021-07-05 17:51:27--  https://github.com/kyungsoo-fininsight/mulcam_b/raw/master/data/2019news_1000.csv\n",
      "Resolving github.com (github.com)... 52.78.231.108\n",
      "Connecting to github.com (github.com)|52.78.231.108|:443... connected.\n",
      "HTTP request sent, awaiting response... 302 Found\n",
      "Location: https://raw.githubusercontent.com/kyungsoo-fininsight/mulcam_b/master/data/2019news_1000.csv [following]\n",
      "--2021-07-05 17:51:28--  https://raw.githubusercontent.com/kyungsoo-fininsight/mulcam_b/master/data/2019news_1000.csv\n",
      "Resolving raw.githubusercontent.com (raw.githubusercontent.com)... 185.199.110.133, 185.199.111.133, 185.199.108.133, ...\n",
      "Connecting to raw.githubusercontent.com (raw.githubusercontent.com)|185.199.110.133|:443... connected.\n",
      "HTTP request sent, awaiting response... 200 OK\n",
      "Length: 11125708 (11M) [text/plain]\n",
      "Saving to: `2019news_1000.csv'\n",
      "\n",
      "2019news_1000.csv   100%[===================>]  10.61M  2.38MB/s    in 4.7s    \n",
      "\n",
      "2021-07-05 17:51:33 (2.24 MB/s) - `2019news_1000.csv' saved [11125708/11125708]\n",
      "\n"
     ]
    }
   ],
   "source": [
    "!wget https://github.com/kyungsoo-fininsight/mulcam_b/raw/master/data/2019news_1000.csv"
   ]
  },
  {
   "cell_type": "code",
   "execution_count": 4,
   "metadata": {
    "id": "gQIY8T7NFe0n"
   },
   "outputs": [
    {
     "data": {
      "text/html": [
       "<div>\n",
       "<style scoped>\n",
       "    .dataframe tbody tr th:only-of-type {\n",
       "        vertical-align: middle;\n",
       "    }\n",
       "\n",
       "    .dataframe tbody tr th {\n",
       "        vertical-align: top;\n",
       "    }\n",
       "\n",
       "    .dataframe thead th {\n",
       "        text-align: right;\n",
       "    }\n",
       "</style>\n",
       "<table border=\"1\" class=\"dataframe\">\n",
       "  <thead>\n",
       "    <tr style=\"text-align: right;\">\n",
       "      <th></th>\n",
       "      <th>url</th>\n",
       "      <th>category1</th>\n",
       "      <th>category2</th>\n",
       "      <th>date</th>\n",
       "      <th>title</th>\n",
       "      <th>media</th>\n",
       "      <th>content</th>\n",
       "    </tr>\n",
       "  </thead>\n",
       "  <tbody>\n",
       "    <tr>\n",
       "      <th>0</th>\n",
       "      <td>https://news.naver.com/main/read.nhn?mode=LS2D...</td>\n",
       "      <td>IT/과학</td>\n",
       "      <td>모바일</td>\n",
       "      <td>2019-05-02</td>\n",
       "      <td>인권단체 중국, 신장위구르 소수민족 감시용 모바일앱 가동</td>\n",
       "      <td>연합뉴스</td>\n",
       "      <td>HRW \"개인 정보 수집·보고서 작성·조사 활동에 앱 활용\" \"36가지 감시유형…뒷...</td>\n",
       "    </tr>\n",
       "    <tr>\n",
       "      <th>1</th>\n",
       "      <td>https://news.naver.com/main/read.nhn?mode=LS2D...</td>\n",
       "      <td>IT/과학</td>\n",
       "      <td>모바일</td>\n",
       "      <td>2019-05-09</td>\n",
       "      <td>카카오, 1분기 매출 7000억 넘어서…8분기째 최고치 경신(종합)</td>\n",
       "      <td>뉴시스</td>\n",
       "      <td>영업익 166.0%↑·순이익 19.</td>\n",
       "    </tr>\n",
       "    <tr>\n",
       "      <th>2</th>\n",
       "      <td>https://news.naver.com/main/read.nhn?mode=LS2D...</td>\n",
       "      <td>IT/과학</td>\n",
       "      <td>과학 일반</td>\n",
       "      <td>2019-12-11</td>\n",
       "      <td>테라젠이텍스, '유전체 정보 관리 시스템' 특허 취득</td>\n",
       "      <td>연합뉴스</td>\n",
       "      <td>(서울=연합뉴스) 김잔디 기자 = 테라젠이텍스는 유전체 분석 정보 관리 시스템에 관...</td>\n",
       "    </tr>\n",
       "    <tr>\n",
       "      <th>3</th>\n",
       "      <td>https://news.naver.com/main/read.nhn?mode=LS2D...</td>\n",
       "      <td>IT/과학</td>\n",
       "      <td>컴퓨터</td>\n",
       "      <td>2019-10-14</td>\n",
       "      <td>두나무-삼성증권-딥서치, 비상장 주식 통합 거래 지원 플랫폼 출범</td>\n",
       "      <td>디지털데일리</td>\n",
       "      <td>'증권플러스 비상장' 서비스를 설명중인 두나무 이성현 핀테크사업실장 [디지털데일리 ...</td>\n",
       "    </tr>\n",
       "    <tr>\n",
       "      <th>4</th>\n",
       "      <td>https://news.naver.com/main/read.nhn?mode=LS2D...</td>\n",
       "      <td>IT/과학</td>\n",
       "      <td>통신/뉴미디어</td>\n",
       "      <td>2019-10-24</td>\n",
       "      <td>과기정통부, 태풍 미탁 피해, 특별재난지역 전파사용료 6개월간 전액감면</td>\n",
       "      <td>전자신문</td>\n",
       "      <td>과기정통부 로고 과학기술정보통신부는 18호 태풍 '미탁'으로 인해 특별재난지역으로 ...</td>\n",
       "    </tr>\n",
       "    <tr>\n",
       "      <th>...</th>\n",
       "      <td>...</td>\n",
       "      <td>...</td>\n",
       "      <td>...</td>\n",
       "      <td>...</td>\n",
       "      <td>...</td>\n",
       "      <td>...</td>\n",
       "      <td>...</td>\n",
       "    </tr>\n",
       "    <tr>\n",
       "      <th>4995</th>\n",
       "      <td>https://news.naver.com/main/read.nhn?mode=LS2D...</td>\n",
       "      <td>생활/문화</td>\n",
       "      <td>종교</td>\n",
       "      <td>2019-06-29</td>\n",
       "      <td>[가정예배 365-6월 29일] 부흥의 회복</td>\n",
       "      <td>국민일보</td>\n",
       "      <td>찬송 : ‘나의 죄를 정케 하사’ 320장(통 350장) 신앙고백 : 사도신경 본문...</td>\n",
       "    </tr>\n",
       "    <tr>\n",
       "      <th>4996</th>\n",
       "      <td>https://news.naver.com/main/read.nhn?mode=LS2D...</td>\n",
       "      <td>생활/문화</td>\n",
       "      <td>건강정보</td>\n",
       "      <td>2019-07-09</td>\n",
       "      <td>쉽게 구할 수 있는 암 예방 식품 5</td>\n",
       "      <td>코메디닷컴</td>\n",
       "      <td>[사진=jv_food01/gettyimagesbank] 전문가들은 \"암은 여러 가지...</td>\n",
       "    </tr>\n",
       "    <tr>\n",
       "      <th>4997</th>\n",
       "      <td>https://news.naver.com/main/read.nhn?mode=LS2D...</td>\n",
       "      <td>생활/문화</td>\n",
       "      <td>날씨</td>\n",
       "      <td>2019-08-03</td>\n",
       "      <td>[오늘의 날씨] 부산·경남(3일, 토)…낮엔 폭염, 밤엔 열대야</td>\n",
       "      <td>뉴스1</td>\n",
       "      <td>자료사진 © News1 (부산ㆍ경남=뉴스1) 박기범 기자 = 3일 부산·경남은 가끔...</td>\n",
       "    </tr>\n",
       "    <tr>\n",
       "      <th>4998</th>\n",
       "      <td>https://news.naver.com/main/read.nhn?mode=LS2D...</td>\n",
       "      <td>생활/문화</td>\n",
       "      <td>공연/전시</td>\n",
       "      <td>2019-07-11</td>\n",
       "      <td>아야스·진발라 “알고리즘·무속적 우주론…내년 광주비엔날레엔 ‘인간 지성’ 다룰 것”</td>\n",
       "      <td>경향신문</td>\n",
       "      <td>ㆍ예술감독 아야스·진발라, 계획 밝혀 ㆍ40주년 5·18은 다른 방식으로 준비 광주...</td>\n",
       "    </tr>\n",
       "    <tr>\n",
       "      <th>4999</th>\n",
       "      <td>https://news.naver.com/main/read.nhn?mode=LS2D...</td>\n",
       "      <td>생활/문화</td>\n",
       "      <td>도로/교통</td>\n",
       "      <td>2019-02-16</td>\n",
       "      <td>제주항공, 지난해 연 매출 1조원 돌파…창사 이래 처음</td>\n",
       "      <td>한국경제</td>\n",
       "      <td>[ 박상재 기자  ] / 사진=제주항공 저비용항공사(LCC)인 제주항공이 노선을 공...</td>\n",
       "    </tr>\n",
       "  </tbody>\n",
       "</table>\n",
       "<p>5000 rows × 7 columns</p>\n",
       "</div>"
      ],
      "text/plain": [
       "                                                    url category1 category2  \\\n",
       "0     https://news.naver.com/main/read.nhn?mode=LS2D...     IT/과학       모바일   \n",
       "1     https://news.naver.com/main/read.nhn?mode=LS2D...     IT/과학       모바일   \n",
       "2     https://news.naver.com/main/read.nhn?mode=LS2D...     IT/과학     과학 일반   \n",
       "3     https://news.naver.com/main/read.nhn?mode=LS2D...     IT/과학       컴퓨터   \n",
       "4     https://news.naver.com/main/read.nhn?mode=LS2D...     IT/과학   통신/뉴미디어   \n",
       "...                                                 ...       ...       ...   \n",
       "4995  https://news.naver.com/main/read.nhn?mode=LS2D...     생활/문화        종교   \n",
       "4996  https://news.naver.com/main/read.nhn?mode=LS2D...     생활/문화      건강정보   \n",
       "4997  https://news.naver.com/main/read.nhn?mode=LS2D...     생활/문화        날씨   \n",
       "4998  https://news.naver.com/main/read.nhn?mode=LS2D...     생활/문화     공연/전시   \n",
       "4999  https://news.naver.com/main/read.nhn?mode=LS2D...     생활/문화     도로/교통   \n",
       "\n",
       "            date                                           title   media  \\\n",
       "0     2019-05-02                 인권단체 중국, 신장위구르 소수민족 감시용 모바일앱 가동    연합뉴스   \n",
       "1     2019-05-09           카카오, 1분기 매출 7000억 넘어서…8분기째 최고치 경신(종합)     뉴시스   \n",
       "2     2019-12-11                   테라젠이텍스, '유전체 정보 관리 시스템' 특허 취득    연합뉴스   \n",
       "3     2019-10-14            두나무-삼성증권-딥서치, 비상장 주식 통합 거래 지원 플랫폼 출범  디지털데일리   \n",
       "4     2019-10-24         과기정통부, 태풍 미탁 피해, 특별재난지역 전파사용료 6개월간 전액감면    전자신문   \n",
       "...          ...                                             ...     ...   \n",
       "4995  2019-06-29                        [가정예배 365-6월 29일] 부흥의 회복    국민일보   \n",
       "4996  2019-07-09                            쉽게 구할 수 있는 암 예방 식품 5   코메디닷컴   \n",
       "4997  2019-08-03             [오늘의 날씨] 부산·경남(3일, 토)…낮엔 폭염, 밤엔 열대야     뉴스1   \n",
       "4998  2019-07-11  아야스·진발라 “알고리즘·무속적 우주론…내년 광주비엔날레엔 ‘인간 지성’ 다룰 것”    경향신문   \n",
       "4999  2019-02-16                  제주항공, 지난해 연 매출 1조원 돌파…창사 이래 처음    한국경제   \n",
       "\n",
       "                                                content  \n",
       "0     HRW \"개인 정보 수집·보고서 작성·조사 활동에 앱 활용\" \"36가지 감시유형…뒷...  \n",
       "1                                   영업익 166.0%↑·순이익 19.  \n",
       "2     (서울=연합뉴스) 김잔디 기자 = 테라젠이텍스는 유전체 분석 정보 관리 시스템에 관...  \n",
       "3     '증권플러스 비상장' 서비스를 설명중인 두나무 이성현 핀테크사업실장 [디지털데일리 ...  \n",
       "4     과기정통부 로고 과학기술정보통신부는 18호 태풍 '미탁'으로 인해 특별재난지역으로 ...  \n",
       "...                                                 ...  \n",
       "4995  찬송 : ‘나의 죄를 정케 하사’ 320장(통 350장) 신앙고백 : 사도신경 본문...  \n",
       "4996  [사진=jv_food01/gettyimagesbank] 전문가들은 \"암은 여러 가지...  \n",
       "4997  자료사진 © News1 (부산ㆍ경남=뉴스1) 박기범 기자 = 3일 부산·경남은 가끔...  \n",
       "4998  ㆍ예술감독 아야스·진발라, 계획 밝혀 ㆍ40주년 5·18은 다른 방식으로 준비 광주...  \n",
       "4999  [ 박상재 기자  ] / 사진=제주항공 저비용항공사(LCC)인 제주항공이 노선을 공...  \n",
       "\n",
       "[5000 rows x 7 columns]"
      ]
     },
     "execution_count": 4,
     "metadata": {},
     "output_type": "execute_result"
    }
   ],
   "source": [
    "import pandas as pd\n",
    "df = pd.read_csv(\"./2019news_1000.csv\")\n",
    "df"
   ]
  },
  {
   "cell_type": "code",
   "execution_count": 5,
   "metadata": {
    "executionInfo": {
     "elapsed": 6994,
     "status": "ok",
     "timestamp": 1625440987028,
     "user": {
      "displayName": "홍경수",
      "photoUrl": "",
      "userId": "10514684854108920109"
     },
     "user_tz": -540
    },
    "id": "gJnjV-KQFnga"
   },
   "outputs": [],
   "source": [
    "from sklearn.model_selection import train_test_split\n",
    "train_data, valid_data,  train_label, valid_label = train_test_split(df['content'], df['category1'], test_size=0.1, random_state=42 )"
   ]
  },
  {
   "cell_type": "code",
   "execution_count": 17,
   "metadata": {
    "id": "ZxQwNJ9JX6BM"
   },
   "outputs": [
    {
     "data": {
      "text/plain": [
       "'HRW \"개인 정보 수집·보고서 작성·조사 활동에 앱 활용\" \"36가지 감시유형…뒷문 출입하거나 전기 많이써도 감시대상\" (서울=연합뉴스) 정재용 기자 = 중국 신장(新疆)위구르(웨이우얼) 자치구 당국이 위구르족을 비롯한 이슬람교를 믿는 소수민족에 대한 감시를 위해 전용 모바일 애플리케이션(입)을 활용하고 있는 것으로 알려졌다. 영국 일간 가디언은 1일(현지시간) 국제인권단체 \\'휴먼라이츠워치\\'(HRW)의 보고서를 인용해 신장위구르 자치구 당국이 이슬람교도들에 대한 광범위한 감시망의 하나로 감시 전용 모바일 앱을 활용하고 있다고 보도했다. 중국 신장위구르자치구내 재교육수용소로이터통신 사진 캡처 휴먼라이츠워치에 따르면 신장위구르 자치구 당국은 이 모바일 앱을 이슬람교 소수민족들에 대한 개인 정보를 수집하고, 감시 대상에 대한 보고서를 작성하고, 조사 활동을 하는 데 활용하고 있다. 이 감시 전용 모바일 앱은 신장위구르 자치구의 경찰 프로그램인 \\'통합 공동 운영 플랫폼\\'(IJOP)과 연결돼 있다. IJOP는 신장위구르 자치구와 같이 민감한 지역에서 가동하고 있는 광범위한 감시망의 일부분이다. 신장위구르 자치구 공안 당국은 지역 내 곳곳에 얼굴인식 카메라를 설치한 검문소를 설치하고, 가정이나 건물 곳곳에 감시용 카메라를 설치하는 등 광범위한 감시망을 가동하고 있다. 휴먼라이츠워치는 독일 베를린 소재 보안감시 전문회사인 큐어53(Cure53)의 도움을 받아 감시 전용 앱의 시스템을 역추적했다고 밝혔다. IJOP와 감시 전용 앱은 중국 국유기업인 중국전자과기집단공사(中國電科·CETC) 산하 자회사가 2018년 개발했다고 휴먼라이츠워치는 전했다. 휴먼라이츠워치의 마야 왕 중국 담당 선임 연구원은 \"중국 정부는 신장위구르 자치구 주민들의 모든 삶을 모니터링하고 있다\"면서 \"의심이 가는 사람을 가려내 그들에 대한 추가 조사를 하고 있다\"고 말했다. 감시용 앱에는 당국이 특별히 주의를 기울여야 할 36가지 \\'개인 유형\\'을 분류하고 있다. 36가지 유형에는 ▲이웃과 교류하지 않고 앞문을 잘 이용하지 않는 자 ▲오랜 기간 출타하다가 갑자기 귀향한 자 ▲열성적으로 모스크에 금품을 기부하는 자 ▲이례적으로 전기를 많이 사용하는 가정 등과 같이 유해하지 않은 행위까지 포함돼 있다고 휴먼라이츠워치는 전했다. 이 앱은 공안 당국이 의심이 가는 사람을 추가로 조사하는데도 활용된다고 휴먼라이츠워치는 전했다. 아울러 휴먼라이츠워치는 신장위구르 자치구의 100만 명에 달하는 위구르족과 다른 소수민족 이슬람교도들이 재교육 수용소에서 수용된 것으로 추정했다. 중국 당국은 재교육수용소에서 이슬람교도들을 대상으로 이슬람교를 부정하고 공산당에 대해 충성하도록 세뇌 교육을 하는가 하면 이슬람교에서 금지된 돼지고기를 강제로 먹게 하는 등 인권 탄압을 하고 있다고 국제 인권단체들은 비판하고 있다. 하지만 중국 당국은 재교육 수용소가 테러리즘과 극단주의에 대응하는 데 필요하다거나 \"인도적 직업교육센터\"라고 주장하고 있다. 중국 국무원 신문판공실은 지난 3월 발표한 \\'신장 반테러·극단주의 척결 투쟁 및 인권보장\\' 백서를 통해 \"2014년 이후 신장 당국은 1천588 개의 폭력 및 테러리스트 조직을 분쇄하고, 1만2천995명의 테러리스트를 검거했다\"고 밝힌 바 있다. jjy@yna.co.kr ▶네이버 홈에서 [연합뉴스] 채널 구독하기 ▶뭐 하고 놀까? #흥 ▶쇼미더뉴스! 오늘 많이 본 뉴스영상'"
      ]
     },
     "execution_count": 17,
     "metadata": {},
     "output_type": "execute_result"
    }
   ],
   "source": [
    "train_data[0]"
   ]
  },
  {
   "cell_type": "code",
   "execution_count": 5,
   "metadata": {
    "id": "0LDf76CWXvaw"
   },
   "outputs": [
    {
     "data": {
      "text/plain": [
       "3716       경제\n",
       "3779       경제\n",
       "135     IT/과학\n",
       "4480    생활/문화\n",
       "1437       정치\n",
       "47      IT/과학\n",
       "1360       정치\n",
       "734     IT/과학\n",
       "1534       정치\n",
       "2004       사회\n",
       "Name: category1, dtype: object"
      ]
     },
     "execution_count": 5,
     "metadata": {},
     "output_type": "execute_result"
    }
   ],
   "source": [
    "train_label[:10]"
   ]
  },
  {
   "cell_type": "code",
   "execution_count": 6,
   "metadata": {
    "id": "LX_9_Iqc2r96"
   },
   "outputs": [
    {
     "data": {
      "text/plain": [
       "array(['IT/과학', '정치', '사회', '경제', '생활/문화'], dtype=object)"
      ]
     },
     "execution_count": 6,
     "metadata": {},
     "output_type": "execute_result"
    }
   ],
   "source": [
    "df['category1'].unique()"
   ]
  },
  {
   "cell_type": "markdown",
   "metadata": {
    "id": "n4hNTVqR6urR"
   },
   "source": [
    "### 문서 분류(파이프 라인 사용)"
   ]
  },
  {
   "cell_type": "code",
   "execution_count": 8,
   "metadata": {
    "id": "7zGR3Yx9JFsI"
   },
   "outputs": [],
   "source": [
    "from sklearn.pipeline import Pipeline\n",
    "from sklearn.feature_extraction.text import CountVectorizer\n",
    "from sklearn.feature_extraction.text import TfidfTransformer\n",
    "from sklearn.naive_bayes import MultinomialNB\n",
    "\n",
    "# 각 객체를 리스트에 묶어서 pipeline 생성 \n",
    "text_clf = Pipeline([('vect', CountVectorizer()),('tfidf', TfidfTransformer()),('clf', MultinomialNB())])\n",
    "\n",
    "text_clf = text_clf.fit(train_data, train_label)"
   ]
  },
  {
   "cell_type": "code",
   "execution_count": 11,
   "metadata": {
    "colab": {
     "base_uri": "https://localhost:8080/"
    },
    "executionInfo": {
     "elapsed": 19031,
     "status": "ok",
     "timestamp": 1615858030898,
     "user": {
      "displayName": "홍경수",
      "photoUrl": "",
      "userId": "10514684854108920109"
     },
     "user_tz": -540
    },
    "id": "Z_dEYI3DJMII",
    "outputId": "5ae8ea38-f2d7-422f-c439-a1e535c39792"
   },
   "outputs": [
    {
     "data": {
      "text/plain": [
       "0.7"
      ]
     },
     "execution_count": 11,
     "metadata": {},
     "output_type": "execute_result"
    }
   ],
   "source": [
    "import numpy as np\n",
    "\n",
    "predicted = text_clf.predict(valid_data)\n",
    "np.mean(predicted == valid_label)"
   ]
  },
  {
   "cell_type": "markdown",
   "metadata": {
    "id": "sh1ocCeDCSlu"
   },
   "source": [
    "### Grid Search"
   ]
  },
  {
   "cell_type": "code",
   "execution_count": 12,
   "metadata": {
    "id": "M0OW4UoP-owr"
   },
   "outputs": [
    {
     "name": "stdout",
     "output_type": "stream",
     "text": [
      "Fitting 5 folds for each of 12 candidates, totalling 60 fits\n",
      "Best score: 0.7346666666666667\n"
     ]
    }
   ],
   "source": [
    "from sklearn.model_selection import GridSearchCV\n",
    "from sklearn.pipeline import Pipeline\n",
    "from sklearn.feature_extraction.text import CountVectorizer\n",
    "from sklearn.feature_extraction.text import TfidfTransformer\n",
    "from sklearn.naive_bayes import MultinomialNB\n",
    "\n",
    "# 각 객체를 리스트에 묶어서 pipeline 생성\n",
    "text_clf = Pipeline([('vect', CountVectorizer()),('tfidf', TfidfTransformer()),('clf', MultinomialNB())])\n",
    "parameters_clf = {'vect__ngram_range':[(1,1),(1,2)],\n",
    "                 'tfidf__use_idf': (True, False),\n",
    "                  # alpha는 라플라스 스무딩 파라미터\n",
    "                 'clf__alpha':(1, 0.5, 0.01)}\n",
    "\n",
    "# n_jobs는 코어 몇 개나 쓸지 (-1은 모든 자원 쓰겠다), verbose는 로그를 찍는 것 (로그 보여주는 옵션 선택이라 보면 됨)\n",
    "gs_clf = GridSearchCV(text_clf, parameters_clf, n_jobs=-1, verbose=2)\n",
    "gs_clf = gs_clf.fit(train_data, train_label)\n",
    "\n",
    "print(\"Best score: {}\".format(gs_clf.best_score_))\n",
    "best_parametors = gs_clf.best_estimator_.get_params()"
   ]
  },
  {
   "cell_type": "code",
   "execution_count": 13,
   "metadata": {},
   "outputs": [
    {
     "data": {
      "text/plain": [
       "{'memory': None,\n",
       " 'steps': [('vect', CountVectorizer(ngram_range=(1, 2))),\n",
       "  ('tfidf', TfidfTransformer()),\n",
       "  ('clf', MultinomialNB(alpha=0.01))],\n",
       " 'verbose': False,\n",
       " 'vect': CountVectorizer(ngram_range=(1, 2)),\n",
       " 'tfidf': TfidfTransformer(),\n",
       " 'clf': MultinomialNB(alpha=0.01),\n",
       " 'vect__analyzer': 'word',\n",
       " 'vect__binary': False,\n",
       " 'vect__decode_error': 'strict',\n",
       " 'vect__dtype': numpy.int64,\n",
       " 'vect__encoding': 'utf-8',\n",
       " 'vect__input': 'content',\n",
       " 'vect__lowercase': True,\n",
       " 'vect__max_df': 1.0,\n",
       " 'vect__max_features': None,\n",
       " 'vect__min_df': 1,\n",
       " 'vect__ngram_range': (1, 2),\n",
       " 'vect__preprocessor': None,\n",
       " 'vect__stop_words': None,\n",
       " 'vect__strip_accents': None,\n",
       " 'vect__token_pattern': '(?u)\\\\b\\\\w\\\\w+\\\\b',\n",
       " 'vect__tokenizer': None,\n",
       " 'vect__vocabulary': None,\n",
       " 'tfidf__norm': 'l2',\n",
       " 'tfidf__smooth_idf': True,\n",
       " 'tfidf__sublinear_tf': False,\n",
       " 'tfidf__use_idf': True,\n",
       " 'clf__alpha': 0.01,\n",
       " 'clf__class_prior': None,\n",
       " 'clf__fit_prior': True}"
      ]
     },
     "execution_count": 13,
     "metadata": {},
     "output_type": "execute_result"
    }
   ],
   "source": [
    "best_parametors"
   ]
  },
  {
   "cell_type": "markdown",
   "metadata": {
    "id": "NItaGM4ZUZkn"
   },
   "source": [
    "vs. https://www.kaggle.com/thomastilli/simple-naive-bayes-classier-0-34974-on-lb"
   ]
  },
  {
   "cell_type": "markdown",
   "metadata": {
    "id": "7ErcyV1GC0Hn"
   },
   "source": [
    "### Parameter 적용"
   ]
  },
  {
   "cell_type": "code",
   "execution_count": 14,
   "metadata": {
    "id": "z7kjWoCB7Gbo",
    "scrolled": true
   },
   "outputs": [
    {
     "data": {
      "text/plain": [
       "0.754"
      ]
     },
     "execution_count": 14,
     "metadata": {},
     "output_type": "execute_result"
    }
   ],
   "source": [
    "predicted = gs_clf.best_estimator_.predict(valid_data)\n",
    "np.mean(predicted == valid_label)"
   ]
  },
  {
   "cell_type": "code",
   "execution_count": 15,
   "metadata": {},
   "outputs": [
    {
     "data": {
      "text/plain": [
       "array(['정치', '사회', '생활/문화', '정치', '경제', 'IT/과학', '경제', '경제', '사회', '정치'],\n",
       "      dtype='<U5')"
      ]
     },
     "execution_count": 15,
     "metadata": {},
     "output_type": "execute_result"
    }
   ],
   "source": [
    "predicted[:10]"
   ]
  },
  {
   "cell_type": "markdown",
   "metadata": {
    "id": "dzYxe6IN7ISd"
   },
   "source": [
    "# 11-2 서포트 벡터 머신(SVM, Support Vector Machine)"
   ]
  },
  {
   "cell_type": "markdown",
   "metadata": {
    "id": "fErbEM2hCKOZ"
   },
   "source": [
    "### 뉴스 데이터 다운로드"
   ]
  },
  {
   "cell_type": "code",
   "execution_count": 6,
   "metadata": {
    "id": "xznbZipo9Lhp"
   },
   "outputs": [],
   "source": [
    "from sklearn.pipeline import Pipeline\n",
    "from sklearn.feature_extraction.text import CountVectorizer\n",
    "from sklearn.feature_extraction.text import TfidfTransformer\n",
    "from sklearn.linear_model import SGDClassifier\n",
    "\n",
    "svm_clf = Pipeline([(\"vect\", CountVectorizer()),\n",
    "                    (\"tfidf\", TfidfTransformer()),\n",
    "                   (\"clf\", SGDClassifier(loss=\"hinge\", penalty='l2', alpha=1e-3, n_iter_no_change=5, random_state=42))])\n",
    "\n",
    "svm_clf = svm_clf.fit(train_data, train_label)"
   ]
  },
  {
   "cell_type": "code",
   "execution_count": 8,
   "metadata": {
    "id": "sGQD1lywJrsa"
   },
   "outputs": [
    {
     "data": {
      "text/plain": [
       "0.722"
      ]
     },
     "execution_count": 8,
     "metadata": {},
     "output_type": "execute_result"
    }
   ],
   "source": [
    "import numpy as np\n",
    "\n",
    "pred = svm_clf.predict(valid_data)\n",
    "np.mean(pred == valid_label)"
   ]
  },
  {
   "cell_type": "code",
   "execution_count": null,
   "metadata": {},
   "outputs": [],
   "source": []
  }
 ],
 "metadata": {
  "colab": {
   "collapsed_sections": [],
   "name": "10 Prac 2. Document Classification의 사본",
   "provenance": []
  },
  "kernelspec": {
   "display_name": "Python 3",
   "language": "python",
   "name": "python3"
  },
  "language_info": {
   "codemirror_mode": {
    "name": "ipython",
    "version": 3
   },
   "file_extension": ".py",
   "mimetype": "text/x-python",
   "name": "python",
   "nbconvert_exporter": "python",
   "pygments_lexer": "ipython3",
   "version": "3.8.10"
  }
 },
 "nbformat": 4,
 "nbformat_minor": 1
}
