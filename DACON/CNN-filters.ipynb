{
 "cells": [
  {
   "cell_type": "code",
   "execution_count": 1,
   "id": "61f54414",
   "metadata": {},
   "outputs": [],
   "source": [
    "import pandas as pd\n",
    "import time\n",
    "import re"
   ]
  },
  {
   "cell_type": "markdown",
   "id": "547378a3",
   "metadata": {},
   "source": [
    "#### 데이터 불러오기 (pos 및 특수문자 등 정제된 데이터임. 정제 방법은 깃허브 코드 참고)\n",
    "#### https://github.com/Ryleyun91/Ryles_Practice/tree/main/DACON\n",
    "train = pd.read_csv('../DATA/train_data.csv')\n",
    "test = pd.read_csv('../DATA/test_data.csv')"
   ]
  },
  {
   "cell_type": "code",
   "execution_count": 2,
   "id": "84c78359",
   "metadata": {},
   "outputs": [],
   "source": [
    "### 데이터 불러오기 (정제 안 된 것)\n",
    "train = pd.read_csv(\"../DATA/open/train.csv\")\n",
    "test = pd.read_csv(\"../DATA/open/test.csv\")\n",
    "\n",
    "from konlpy.tag import Mecab\n",
    "mecab = Mecab()"
   ]
  },
  {
   "cell_type": "code",
   "execution_count": 3,
   "id": "bfa81251",
   "metadata": {},
   "outputs": [
    {
     "name": "stdout",
     "output_type": "stream",
     "text": [
      "CPU times: user 7min, sys: 2.58 s, total: 7min 3s\n",
      "Wall time: 7min 8s\n"
     ]
    }
   ],
   "source": [
    "%%time\n",
    "def pos(x):\n",
    "    try:\n",
    "        text = ''\n",
    "        for word, pos in mecab.pos(str(x)):\n",
    "            if pos[0] not in ['J','I','E']:\n",
    "                if type(re.search(\"\\W+|[0-9]\", word))!=re.Match: \n",
    "                    # and len(word)!=1:\n",
    "                    text+=\" \"+word\n",
    "        return text.strip()\n",
    "    \n",
    "    except:\n",
    "        pass\n",
    "\n",
    "\n",
    "train[\"과제명\"] = train[\"과제명\"].apply(pos)\n",
    "train[\"요약문_연구목표\"] = train[\"요약문_연구목표\"].apply(pos)\n",
    "train[\"요약문_연구내용\"] = train[\"요약문_연구내용\"].apply(pos)\n",
    "train[\"요약문_기대효과\"] = train[\"요약문_기대효과\"].apply(pos)\n",
    "train[\"요약문_한글키워드\"] = train[\"요약문_한글키워드\"].apply(pos)\n",
    "\n",
    "test[\"과제명\"] = test[\"과제명\"].apply(pos)\n",
    "test[\"요약문_연구목표\"] = test[\"요약문_연구목표\"].apply(pos)\n",
    "test[\"요약문_연구내용\"] = test[\"요약문_연구내용\"].apply(pos)\n",
    "test[\"요약문_기대효과\"] = test[\"요약문_기대효과\"].apply(pos)\n",
    "test[\"요약문_한글키워드\"] = test[\"요약문_한글키워드\"].apply(pos)"
   ]
  },
  {
   "cell_type": "code",
   "execution_count": 4,
   "id": "7352cf54",
   "metadata": {},
   "outputs": [],
   "source": [
    "train_name_key = [str(sent) for sent in train['과제명'] + \" \" + train['요약문_한글키워드']]\n",
    "train_goal = [str(sent) for sent in train['요약문_연구목표']]\n",
    "train_cont = [str(sent) for sent in train['요약문_연구내용']]\n",
    "train_effect = [str(sent) for sent in train['요약문_기대효과']]\n",
    "test_name_key = [str(sent) for sent in test['과제명'] + \" \" + test['요약문_한글키워드']]\n",
    "test_goal = [str(sent) for sent in test['요약문_연구목표']]\n",
    "test_cont = [str(sent) for sent in test['요약문_연구내용']]\n",
    "test_effect = [str(sent) for sent in test['요약문_기대효과']]\n",
    "train_label = [int(str(answer)) for answer in train['label']]"
   ]
  },
  {
   "cell_type": "code",
   "execution_count": 5,
   "id": "ee090934",
   "metadata": {},
   "outputs": [],
   "source": [
    "# EDA\n",
    "train_name_key_len = [len(str(sent)) for sent in train_name_key]\n",
    "train_goal_len = [len(str(sent)) for sent in train_goal]\n",
    "train_cont_len = [len(str(sent)) for sent in train_cont]\n",
    "train_effect_len = [len(str(sent)) for sent in train_effect]\n",
    "test_name_key_len = [len(str(sent)) for sent in test_name_key]\n",
    "test_goal_len = [len(str(sent)) for sent in test_goal]\n",
    "test_cont_len = [len(str(sent)) for sent in test_cont]\n",
    "test_effect_len = [len(str(sent)) for sent in test_effect]"
   ]
  },
  {
   "cell_type": "code",
   "execution_count": 6,
   "id": "f96e38eb",
   "metadata": {},
   "outputs": [
    {
     "data": {
      "text/plain": [
       "(array([2.7730e+03, 1.9785e+04, 1.6780e+04, 3.8300e+03, 3.5000e+02,\n",
       "        4.6000e+01, 8.0000e+00, 2.0000e+00, 0.0000e+00, 2.0000e+00]),\n",
       " array([  7. ,  39.3,  71.6, 103.9, 136.2, 168.5, 200.8, 233.1, 265.4,\n",
       "        297.7, 330. ]),\n",
       " <BarContainer object of 10 artists>)"
      ]
     },
     "execution_count": 6,
     "metadata": {},
     "output_type": "execute_result"
    },
    {
     "data": {
      "image/png": "[encoded data removed]",
      "text/plain": [
       "<Figure size 432x288 with 1 Axes>"
      ]
     },
     "metadata": {
      "needs_background": "light"
     },
     "output_type": "display_data"
    }
   ],
   "source": [
    "# name_key\n",
    "import matplotlib.pyplot as plt\n",
    "plt.hist(train_name_key_len)\n",
    "plt.hist(test_name_key_len)\n",
    "\n",
    "## max_len 140정도 주면 커버될 듯"
   ]
  },
  {
   "cell_type": "code",
   "execution_count": 7,
   "id": "b1ef2acb",
   "metadata": {},
   "outputs": [
    {
     "data": {
      "text/plain": [
       "(array([3.2475e+04, 9.0970e+03, 1.5470e+03, 3.1900e+02, 9.6000e+01,\n",
       "        3.6000e+01, 2.0000e+00, 1.0000e+00, 2.0000e+00, 1.0000e+00]),\n",
       " array([   0.,  373.,  746., 1119., 1492., 1865., 2238., 2611., 2984.,\n",
       "        3357., 3730.]),\n",
       " <BarContainer object of 10 artists>)"
      ]
     },
     "execution_count": 7,
     "metadata": {},
     "output_type": "execute_result"
    },
    {
     "data": {
      "image/png": "[encoded data removed]",
      "text/plain": [
       "<Figure size 432x288 with 1 Axes>"
      ]
     },
     "metadata": {
      "needs_background": "light"
     },
     "output_type": "display_data"
    }
   ],
   "source": [
    "# goal\n",
    "plt.hist(train_goal_len)\n",
    "plt.hist(test_goal_len)\n",
    "\n",
    "## max_len 800정도 주면 커버될 듯"
   ]
  },
  {
   "cell_type": "code",
   "execution_count": 8,
   "id": "94321a0d",
   "metadata": {},
   "outputs": [
    {
     "data": {
      "text/plain": [
       "(array([1.4039e+04, 1.4857e+04, 8.2060e+03, 4.2210e+03, 1.6950e+03,\n",
       "        4.5700e+02, 8.1000e+01, 1.0000e+01, 3.0000e+00, 7.0000e+00]),\n",
       " array([   0. ,  354.7,  709.4, 1064.1, 1418.8, 1773.5, 2128.2, 2482.9,\n",
       "        2837.6, 3192.3, 3547. ]),\n",
       " <BarContainer object of 10 artists>)"
      ]
     },
     "execution_count": 8,
     "metadata": {},
     "output_type": "execute_result"
    },
    {
     "data": {
      "image/png": "[encoded data removed]",
      "text/plain": [
       "<Figure size 432x288 with 1 Axes>"
      ]
     },
     "metadata": {
      "needs_background": "light"
     },
     "output_type": "display_data"
    }
   ],
   "source": [
    "# cont\n",
    "plt.hist(train_cont_len)\n",
    "plt.hist(test_cont_len)\n",
    "\n",
    "## max_len 1500정도 주면 커버될 듯"
   ]
  },
  {
   "cell_type": "code",
   "execution_count": 9,
   "id": "091b7e43",
   "metadata": {},
   "outputs": [
    {
     "data": {
      "text/plain": [
       "(array([1.9094e+04, 1.6037e+04, 5.9940e+03, 1.4290e+03, 5.8900e+02,\n",
       "        2.6500e+02, 8.6000e+01, 6.5000e+01, 1.5000e+01, 2.0000e+00]),\n",
       " array([   0.,  264.,  528.,  792., 1056., 1320., 1584., 1848., 2112.,\n",
       "        2376., 2640.]),\n",
       " <BarContainer object of 10 artists>)"
      ]
     },
     "execution_count": 9,
     "metadata": {},
     "output_type": "execute_result"
    },
    {
     "data": {
      "image/png": "[encoded data removed]",
      "text/plain": [
       "<Figure size 432x288 with 1 Axes>"
      ]
     },
     "metadata": {
      "needs_background": "light"
     },
     "output_type": "display_data"
    }
   ],
   "source": [
    "# effect\n",
    "plt.hist(train_effect_len)\n",
    "plt.hist(test_effect_len)\n",
    "\n",
    "## max_len 1000정도 주면 커버될 듯"
   ]
  },
  {
   "cell_type": "code",
   "execution_count": 34,
   "id": "7179d10a",
   "metadata": {},
   "outputs": [],
   "source": [
    "from tensorflow.keras.preprocessing.text import Tokenizer\n",
    "from tensorflow.keras.preprocessing.sequence import pad_sequences\n",
    "from tensorflow.keras.models import Sequential\n",
    "from tensorflow.keras.layers import Dense, Embedding, GlobalAveragePooling1D, Flatten, Dropout\n",
    "from tensorflow.keras import layers, models\n",
    "import numpy as np"
   ]
  },
  {
   "cell_type": "code",
   "execution_count": 35,
   "id": "c99d90b2",
   "metadata": {},
   "outputs": [],
   "source": [
    "import tensorflow as tf\n",
    "from tensorflow import keras\n",
    "tf.random.set_seed(2021)\n",
    "np.random.seed(2021)"
   ]
  },
  {
   "cell_type": "code",
   "execution_count": 36,
   "id": "4304b29a",
   "metadata": {},
   "outputs": [],
   "source": [
    "def CNN(train_data, test_data, maxlen, embedding_dim):\n",
    "    train_data = np.array(train_data)\n",
    "    test_data = np.array(test_data)\n",
    "    tokenizer = Tokenizer(oov_token='<oov>')\n",
    "    tokenizer.fit_on_texts(train_data)\n",
    "    word_index = tokenizer.word_index\n",
    "    train_seq = tokenizer.texts_to_sequences(train_data)\n",
    "    test_seq = tokenizer.texts_to_sequences(test_data)\n",
    "    train_pad = pad_sequences(train_seq, maxlen=maxlen, padding='post', truncating='post')\n",
    "    test_pad = pad_sequences(test_seq, maxlen=maxlen, padding='post', truncating='post')\n",
    "    \n",
    "    vocab_size = len(word_index)+1\n",
    "    dropout = 0.5\n",
    "    filter_sizes = (2,3,4,5)\n",
    "    num_filters = 100\n",
    "    \n",
    "    # Convolutional block\n",
    "    input_shape=(maxlen, )\n",
    "    conv_blocks = []\n",
    "\n",
    "    model_input = keras.layers.Input(shape=input_shape)\n",
    "\n",
    "    z = keras.layers.Embedding(vocab_size, embedding_dim, input_length=len(train_data), name=\"embedding\")(model_input)\n",
    "    z = keras.layers.Dropout(dropout)(z)\n",
    "    \n",
    "    for sz in filter_sizes:\n",
    "        conv = keras.layers.Conv1D(filters=num_filters,\n",
    "                             kernel_size=sz,\n",
    "                             padding=\"Same\",\n",
    "                             activation=\"relu\",\n",
    "                             strides=1)(z)\n",
    "        conv = keras.layers.MaxPooling1D(pool_size=2)(conv)\n",
    "        conv = keras.layers.Flatten()(conv)\n",
    "        conv_blocks.append(conv)\n",
    "\n",
    "    z = keras.layers.Concatenate()(conv_blocks)\n",
    "    z = keras.layers.Dropout(dropout)(z)\n",
    "    z = keras.layers.Dense(512, activation=\"relu\")(z)\n",
    "    z = keras.layers.Dropout(dropout)(z)\n",
    "    z = keras.layers.Dense(256, activation=\"relu\")(z)\n",
    "    z = keras.layers.Dropout(dropout)(z)\n",
    "    model_output = keras.layers.Dense(46, activation=\"softmax\")(z)\n",
    "    model = keras.Model(model_input, model_output)\n",
    "    print(model.summary())\n",
    "    model.compile(loss='sparse_categorical_crossentropy', optimizer='nadam', metrics=['accuracy'])\n",
    "    return model, train_pad, test_pad"
   ]
  },
  {
   "cell_type": "code",
   "execution_count": 37,
   "id": "a7d63368",
   "metadata": {},
   "outputs": [
    {
     "name": "stdout",
     "output_type": "stream",
     "text": [
      "Model: \"model_2\"\n",
      "__________________________________________________________________________________________________\n",
      "Layer (type)                    Output Shape         Param #     Connected to                     \n",
      "==================================================================================================\n",
      "input_7 (InputLayer)            [(None, 140)]        0                                            \n",
      "__________________________________________________________________________________________________\n",
      "embedding (Embedding)           (None, 140, 200)     11319400    input_7[0][0]                    \n",
      "__________________________________________________________________________________________________\n",
      "dropout_10 (Dropout)            (None, 140, 200)     0           embedding[0][0]                  \n",
      "__________________________________________________________________________________________________\n",
      "conv1d_8 (Conv1D)               (None, 140, 100)     40100       dropout_10[0][0]                 \n",
      "__________________________________________________________________________________________________\n",
      "conv1d_9 (Conv1D)               (None, 140, 100)     60100       dropout_10[0][0]                 \n",
      "__________________________________________________________________________________________________\n",
      "conv1d_10 (Conv1D)              (None, 140, 100)     80100       dropout_10[0][0]                 \n",
      "__________________________________________________________________________________________________\n",
      "conv1d_11 (Conv1D)              (None, 140, 100)     100100      dropout_10[0][0]                 \n",
      "__________________________________________________________________________________________________\n",
      "max_pooling1d_8 (MaxPooling1D)  (None, 70, 100)      0           conv1d_8[0][0]                   \n",
      "__________________________________________________________________________________________________\n",
      "max_pooling1d_9 (MaxPooling1D)  (None, 70, 100)      0           conv1d_9[0][0]                   \n",
      "__________________________________________________________________________________________________\n",
      "max_pooling1d_10 (MaxPooling1D) (None, 70, 100)      0           conv1d_10[0][0]                  \n",
      "__________________________________________________________________________________________________\n",
      "max_pooling1d_11 (MaxPooling1D) (None, 70, 100)      0           conv1d_11[0][0]                  \n",
      "__________________________________________________________________________________________________\n",
      "flatten_8 (Flatten)             (None, 7000)         0           max_pooling1d_8[0][0]            \n",
      "__________________________________________________________________________________________________\n",
      "flatten_9 (Flatten)             (None, 7000)         0           max_pooling1d_9[0][0]            \n",
      "__________________________________________________________________________________________________\n",
      "flatten_10 (Flatten)            (None, 7000)         0           max_pooling1d_10[0][0]           \n",
      "__________________________________________________________________________________________________\n",
      "flatten_11 (Flatten)            (None, 7000)         0           max_pooling1d_11[0][0]           \n",
      "__________________________________________________________________________________________________\n",
      "concatenate_2 (Concatenate)     (None, 28000)        0           flatten_8[0][0]                  \n",
      "                                                                 flatten_9[0][0]                  \n",
      "                                                                 flatten_10[0][0]                 \n",
      "                                                                 flatten_11[0][0]                 \n",
      "__________________________________________________________________________________________________\n",
      "dropout_11 (Dropout)            (None, 28000)        0           concatenate_2[0][0]              \n",
      "__________________________________________________________________________________________________\n",
      "dense_6 (Dense)                 (None, 512)          14336512    dropout_11[0][0]                 \n",
      "__________________________________________________________________________________________________\n",
      "dropout_12 (Dropout)            (None, 512)          0           dense_6[0][0]                    \n",
      "__________________________________________________________________________________________________\n",
      "dense_7 (Dense)                 (None, 256)          131328      dropout_12[0][0]                 \n",
      "__________________________________________________________________________________________________\n",
      "dropout_13 (Dropout)            (None, 256)          0           dense_7[0][0]                    \n",
      "__________________________________________________________________________________________________\n",
      "dense_8 (Dense)                 (None, 46)           11822       dropout_13[0][0]                 \n",
      "==================================================================================================\n",
      "Total params: 26,079,462\n",
      "Trainable params: 26,079,462\n",
      "Non-trainable params: 0\n",
      "__________________________________________________________________________________________________\n",
      "None\n"
     ]
    }
   ],
   "source": [
    "model, train_pad, test_pad = CNN(train_name_key, test_name_key, 140, 200)"
   ]
  },
  {
   "cell_type": "code",
   "execution_count": 38,
   "id": "dba96e36",
   "metadata": {},
   "outputs": [
    {
     "name": "stdout",
     "output_type": "stream",
     "text": [
      "Epoch 1/13\n",
      "157/157 - 239s - loss: 1.0063 - accuracy: 0.8116 - val_loss: 0.8619 - val_accuracy: 0.8199\n",
      "Epoch 2/13\n",
      "157/157 - 252s - loss: 0.7495 - accuracy: 0.8241 - val_loss: 0.6625 - val_accuracy: 0.8360\n",
      "Epoch 3/13\n",
      "157/157 - 250s - loss: 0.6035 - accuracy: 0.8401 - val_loss: 0.5751 - val_accuracy: 0.8528\n",
      "Epoch 4/13\n",
      "157/157 - 227s - loss: 0.4890 - accuracy: 0.8609 - val_loss: 0.5058 - val_accuracy: 0.8659\n",
      "Epoch 5/13\n",
      "157/157 - 222s - loss: 0.3925 - accuracy: 0.8827 - val_loss: 0.4415 - val_accuracy: 0.8851\n",
      "Epoch 6/13\n",
      "157/157 - 219s - loss: 0.3260 - accuracy: 0.9023 - val_loss: 0.4281 - val_accuracy: 0.8919\n",
      "Epoch 7/13\n",
      "157/157 - 218s - loss: 0.2784 - accuracy: 0.9156 - val_loss: 0.4267 - val_accuracy: 0.8962\n",
      "Epoch 8/13\n",
      "157/157 - 218s - loss: 0.2400 - accuracy: 0.9274 - val_loss: 0.4320 - val_accuracy: 0.9057\n",
      "Epoch 9/13\n",
      "157/157 - 221s - loss: 0.2126 - accuracy: 0.9354 - val_loss: 0.4392 - val_accuracy: 0.9082\n",
      "Epoch 10/13\n",
      "157/157 - 228s - loss: 0.1901 - accuracy: 0.9429 - val_loss: 0.4551 - val_accuracy: 0.9115\n",
      "Epoch 11/13\n",
      "157/157 - 224s - loss: 0.1705 - accuracy: 0.9484 - val_loss: 0.4653 - val_accuracy: 0.9101\n",
      "Epoch 12/13\n",
      "157/157 - 220s - loss: 0.1567 - accuracy: 0.9525 - val_loss: 0.4666 - val_accuracy: 0.9130\n",
      "Epoch 13/13\n",
      "157/157 - 217s - loss: 0.1437 - accuracy: 0.9566 - val_loss: 0.4729 - val_accuracy: 0.9127\n"
     ]
    },
    {
     "data": {
      "text/plain": [
       "<tensorflow.python.keras.callbacks.History at 0x7f98b35ee220>"
      ]
     },
     "execution_count": 38,
     "metadata": {},
     "output_type": "execute_result"
    }
   ],
   "source": [
    "model.fit(train_pad, np.array(train_label), epochs=13, batch_size=1000, validation_split=0.1, verbose=2)"
   ]
  },
  {
   "cell_type": "code",
   "execution_count": 39,
   "id": "868befee",
   "metadata": {},
   "outputs": [],
   "source": [
    "answer = model.predict(test_pad)"
   ]
  },
  {
   "cell_type": "code",
   "execution_count": 40,
   "id": "4885397f",
   "metadata": {},
   "outputs": [],
   "source": [
    "# 모델 예측\n",
    "import tensorflow as tf\n",
    "pred = tf.argmax(answer, axis=1)"
   ]
  },
  {
   "cell_type": "code",
   "execution_count": 43,
   "id": "beec7985",
   "metadata": {},
   "outputs": [
    {
     "data": {
      "text/plain": [
       "8212"
      ]
     },
     "execution_count": 43,
     "metadata": {},
     "output_type": "execute_result"
    }
   ],
   "source": [
    "import numpy as np\n",
    "np.sum(pred !=0)"
   ]
  },
  {
   "cell_type": "code",
   "execution_count": 44,
   "id": "d5361422",
   "metadata": {},
   "outputs": [],
   "source": [
    "sample_submission=pd.read_csv('../DATA/open/sample_submission.csv')\n",
    "sample_submission['label']=pred\n",
    "sample_submission.to_csv('../DATA/Result/CNN_filter.csv', index=False)"
   ]
  },
  {
   "cell_type": "code",
   "execution_count": null,
   "id": "7ecce832",
   "metadata": {},
   "outputs": [],
   "source": []
  }
 ],
 "metadata": {
  "kernelspec": {
   "display_name": "Python 3 (ipykernel)",
   "language": "python",
   "name": "python3"
  },
  "language_info": {
   "codemirror_mode": {
    "name": "ipython",
    "version": 3
   },
   "file_extension": ".py",
   "mimetype": "text/x-python",
   "name": "python",
   "nbconvert_exporter": "python",
   "pygments_lexer": "ipython3",
   "version": "3.8.10"
  }
 },
 "nbformat": 4,
 "nbformat_minor": 5
}
