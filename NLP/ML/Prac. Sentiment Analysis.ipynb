{
 "cells": [
  {
   "cell_type": "markdown",
   "metadata": {
    "id": "yPyMXdYHE0wn"
   },
   "source": [
    "# 11장 감정분석(Sentiment Analysis)"
   ]
  },
  {
   "cell_type": "markdown",
   "metadata": {
    "id": "j61gv6QEE71q"
   },
   "source": [
    "# 11-1 사전기반 감정분석"
   ]
  },
  {
   "cell_type": "code",
   "execution_count": 1,
   "metadata": {
    "colab": {
     "base_uri": "https://localhost:8080/"
    },
    "executionInfo": {
     "elapsed": 1403,
     "status": "ok",
     "timestamp": 1615819342337,
     "user": {
      "displayName": "홍경수",
      "photoUrl": "",
      "userId": "10514684854108920109"
     },
     "user_tz": -540
    },
    "id": "rVgDReTWWlDi",
    "outputId": "0c93c2d1-889d-4ed7-ac68-9324e3a6fc1a"
   },
   "outputs": [
    {
     "name": "stdout",
     "output_type": "stream",
     "text": [
      "--2021-07-06 11:29:33--  https://raw.githubusercontent.com/park1200656/KnuSentiLex/master/neg_pol_word.txt\n",
      "Resolving raw.githubusercontent.com (raw.githubusercontent.com)... 185.199.110.133, 185.199.111.133, 185.199.108.133, ...\n",
      "Connecting to raw.githubusercontent.com (raw.githubusercontent.com)|185.199.110.133|:443... connected.\n",
      "HTTP request sent, awaiting response... 200 OK\n",
      "Length: 176542 (172K) [text/plain]\n",
      "Saving to: `neg_pol_word.txt'\n",
      "\n",
      "neg_pol_word.txt    100%[===================>] 172.40K  --.-KB/s    in 0.1s    \n",
      "\n",
      "2021-07-06 11:29:33 (1.41 MB/s) - `neg_pol_word.txt' saved [176542/176542]\n",
      "\n",
      "--2021-07-06 11:29:33--  https://raw.githubusercontent.com/park1200656/KnuSentiLex/master/pos_pol_word.txt\n",
      "Resolving raw.githubusercontent.com (raw.githubusercontent.com)... 185.199.111.133, 185.199.108.133, 185.199.110.133, ...\n",
      "Connecting to raw.githubusercontent.com (raw.githubusercontent.com)|185.199.111.133|:443... connected.\n",
      "HTTP request sent, awaiting response... 200 OK\n",
      "Length: 85007 (83K) [text/plain]\n",
      "Saving to: `pos_pol_word.txt'\n",
      "\n",
      "pos_pol_word.txt    100%[===================>]  83.01K  --.-KB/s    in 0.05s   \n",
      "\n",
      "2021-07-06 11:29:33 (1.76 MB/s) - `pos_pol_word.txt' saved [85007/85007]\n",
      "\n"
     ]
    }
   ],
   "source": [
    "#KnuSentiLex 다운로드\n",
    "!wget https://raw.githubusercontent.com/park1200656/KnuSentiLex/master/neg_pol_word.txt\n",
    "!wget https://raw.githubusercontent.com/park1200656/KnuSentiLex/master/pos_pol_word.txt"
   ]
  },
  {
   "cell_type": "code",
   "execution_count": 40,
   "metadata": {},
   "outputs": [],
   "source": [
    "with open(\"pos_pol_word.txt\") as f:\n",
    "    pos = f.read().split(\"\\n\")[19:]\n",
    "with open(\"neg_pol_word.txt\") as f:\n",
    "    neg = f.read().split(\"\\n\")[19:]"
   ]
  },
  {
   "cell_type": "code",
   "execution_count": 42,
   "metadata": {
    "colab": {
     "base_uri": "https://localhost:8080/"
    },
    "executionInfo": {
     "elapsed": 1400,
     "status": "ok",
     "timestamp": 1615819342338,
     "user": {
      "displayName": "홍경수",
      "photoUrl": "",
      "userId": "10514684854108920109"
     },
     "user_tz": -540
    },
    "id": "p3o_a5Zoc7Qy",
    "outputId": "184571b4-12af-481c-cb68-5f9057548d4b"
   },
   "outputs": [
    {
     "name": "stdout",
     "output_type": "stream",
     "text": [
      "['(-;', '(^^)', '(^-^)', '(^^*', '(^_^)', '(^o^)', '*^^*', '/^o^\\\\', ':(', \":'-(\"]\n",
      "['가난', '가난뱅이', '가난살이', '가난살이하다', '가난설음', '가난에', '가난에 쪼들려서', '가난하게', '가난하고', '가난하고 어렵다']\n"
     ]
    }
   ],
   "source": [
    "dct = {}\n",
    "dct[\"pos\"] = pos\n",
    "dct[\"neg\"] = neg\n",
    "\n",
    "print(dct['pos'][:10])\n",
    "print(dct['neg'][:10])"
   ]
  },
  {
   "cell_type": "code",
   "execution_count": 43,
   "metadata": {
    "id": "IzR_KFqQQ-pN"
   },
   "outputs": [],
   "source": [
    "txt = \"코로나19의 여파로 전 세계 교사들과 학생들 모두 혼란스러운 시기를 보내고 있습니다. 초유의 상황에서도, 학생들을 위해 최선을 다하려는 선생님들의 노력이 계속되고 있는데요. 어려움 속에서, 선생님들은 어떤 방법으로 사랑을 전하고 있을까요? 뉴스G에서 전해드립니다. [리포트] 중국 저장성의 한 산골 마을. 초등학교 교사 왕진량 씨는 지난 2월 말부터, 매일 새벽 다섯 시면 부지런히 집을 나섭니다. 온라인 수업을 받을 수 없는, 깊은 산골 마을에 살고 있는 학생들을 찾아가기 위해서인데요. 선생님이 하루 동안 이동하는 거리는 대략 30km정도. 차도 없이 도보로 네 개의 마을을 돌아다니며 학생들을 만납니다. 매일 이어지는 강행군이지만, 오로지 아이들의 학습이 중단되어서는 안 된다는 생각뿐입니다. 혹시 모를 사태에 대비해 학생들과의 접촉은 최대한 줄입니다. 숙제를 내주고, 검사 후에 모르는 문제를 알려주는 식으로 일대일 수업을 진행하고 있는데요. 아이들에게 배우는 즐거움이 얼마나 소중한 것인지 잘 알기에, 선생님은 이렇게라도 수업을 할 수 있다는 데서 행복을 느낍니다. 영국의 한 초등학교 교사인 젠 포울스 씨는 매일 아침, 무거운 짐을 앞 뒤, 양 옆으로 짊어지고 씩씩하게 발걸음을 옮깁니다. 코로나19로 학교가 문을 닫은 뒤, 형편이 어려운 학생들을 위해 매일 78인분의 점심 도시락을 배달하고 있는데요. 선생님이 재직 중인 초등학교는 전체 학생의 41퍼센트가 무상 급식 대상자이기 때문입니다. 도시락의 무게는 18kg, 걸어야 하는 거리는 8km에 달하지만 기다리는 학생들을 생각하며 지치지 않고 발걸음을 재촉합니다. 학생들은 창문을 통해서 반갑게 인사하기도 하고, 선생님이 볼 수 있게 감사 메시지를 붙여 놓기도 하는데요. 선생님이 정성껏 준비해 손수 배달한 사랑의 도시락. 봉쇄된 도시의 굶주린 아이들에게 소중한 한 끼 식사, 그 이상의 의미가 되고 있습니다. 미국 사우스다코타 주의 중학교 수학 교사인 크리스 와바 씨는, 커다란 화이트보드를 들고 학생의 집을 찾았습니다. 온라인 수업 후, 학생에게 이메일로 방정식 풀이법에 대한 질문을 받았기 때문인데요. 이메일로 답변해주는 것보다 직접 풀이 과정을 보여주는 게 낫다는 생각이었죠. 깜짝 놀란 학생을 마주한 채, 선생님은 현관문 앞에서 열정적으로 문제를 풀기 시작했습니다. 이 열정적인 강의는, 학생이 풀이법을 완벽히 이해할 때까지 이어졌는데요. 바이러스는 전 세계 교실에 혼란을 불러왔지만, 선생님들의 노력은 저마다의 방식으로 계속되고 있습니다. 어려움 속에서도 학생들을 위해 안간힘을 쓰고 있는 모든 선생님들에게, 응원과 박수를 함께 보냅니다.\""
   ]
  },
  {
   "cell_type": "code",
   "execution_count": 116,
   "metadata": {
    "id": "ZTgyj8kJSCkG"
   },
   "outputs": [],
   "source": [
    "def analye_sentiment(txt, dct) :\n",
    "    pos_ls = []\n",
    "    neg_ls = []\n",
    "    for word in txt.split():\n",
    "        if word in dct[\"pos\"]: \n",
    "            pos_ls.append(word)\n",
    "        elif word in dct[\"neg\"]: \n",
    "            neg_ls.append(word)\n",
    "    \n",
    "    return (len(pos_ls)/(len(pos_ls)+len(neg_ls)), pos_ls), (len(neg_ls)/(len(pos_ls)+len(neg_ls)), neg_ls)"
   ]
  },
  {
   "cell_type": "code",
   "execution_count": 117,
   "metadata": {
    "colab": {
     "base_uri": "https://localhost:8080/"
    },
    "executionInfo": {
     "elapsed": 1393,
     "status": "ok",
     "timestamp": 1615819342339,
     "user": {
      "displayName": "홍경수",
      "photoUrl": "",
      "userId": "10514684854108920109"
     },
     "user_tz": -540
    },
    "id": "TVRRF_5SSiNf",
    "outputId": "326f46b1-a35c-4a27-b4f7-b7397cc00200"
   },
   "outputs": [
    {
     "name": "stdout",
     "output_type": "stream",
     "text": [
      "(0.6666666666666666, ['사랑을', '부지런히', '즐거움이', '소중한', '잘', '행복을', '씩씩하게', '감사', '정성껏', '사랑의', '소중한', '함께'])\n",
      "(0.3333333333333333, ['혼란스러운', '어려움', '모르는', '어려운', '굶주린', '어려움'])\n"
     ]
    }
   ],
   "source": [
    "pos, neg = analye_sentiment(txt, dct)\n",
    "print(pos)\n",
    "print(neg)"
   ]
  },
  {
   "cell_type": "markdown",
   "metadata": {
    "id": "anKdEE0eEk8z"
   },
   "source": [
    "# 11-2 나이브 베이즈 분류기 활용 감정분석"
   ]
  },
  {
   "cell_type": "markdown",
   "metadata": {
    "id": "xTVyt3BRKY7M"
   },
   "source": [
    "## 2.1 간단 예제"
   ]
  },
  {
   "cell_type": "code",
   "execution_count": 46,
   "metadata": {
    "id": "IoLvW8daCLbo"
   },
   "outputs": [],
   "source": [
    "text = [(\"I love you\", \"P\"),\n",
    "        (\"love happy weekend\", \"P\"),\n",
    "        (\"bore work job\", \"N\"),\n",
    "        (\"I   hate you\", \"N\"),\n",
    "        (\"bore weekend\", \"N\"),\n",
    "        (\"happy together\", \"P\")]"
   ]
  },
  {
   "cell_type": "code",
   "execution_count": null,
   "metadata": {},
   "outputs": [],
   "source": []
  },
  {
   "cell_type": "code",
   "execution_count": 48,
   "metadata": {
    "colab": {
     "base_uri": "https://localhost:8080/"
    },
    "executionInfo": {
     "elapsed": 685,
     "status": "ok",
     "timestamp": 1615876324023,
     "user": {
      "displayName": "홍경수",
      "photoUrl": "",
      "userId": "10514684854108920109"
     },
     "user_tz": -540
    },
    "id": "kue74JQriF2P",
    "outputId": "b04cc948-4fc2-4bf9-bc0e-1ffb58adcdb0"
   },
   "outputs": [
    {
     "data": {
      "text/plain": [
       "defaultdict(<function __main__.<lambda>()>,\n",
       "            {'I': [1, 1],\n",
       "             'love': [2, 0],\n",
       "             'you': [1, 1],\n",
       "             'happy': [2, 0],\n",
       "             'weekend': [1, 1],\n",
       "             'bore': [0, 2],\n",
       "             'work': [0, 1],\n",
       "             'job': [0, 1],\n",
       "             'hate': [0, 1],\n",
       "             'together': [1, 0]})"
      ]
     },
     "execution_count": 48,
     "metadata": {},
     "output_type": "execute_result"
    }
   ],
   "source": [
    "from collections import defaultdict\n",
    "\n",
    "# 범주에 속하는 토큰수 세기 1(스팸), 0(정상))\n",
    "doccnt0 = 0\n",
    "doccnt1 = 0\n",
    "\n",
    "# 토큰별로 문서내 빈도수 카운팅\n",
    "wordfreq = defaultdict(lambda : [0, 0])\n",
    "\n",
    "for doc, label in text:\n",
    "    if label == \"P\" :\n",
    "        label=0\n",
    "    else:\n",
    "        label=1\n",
    "    for word in doc.split():\n",
    "        wordfreq[word][label] += 1\n",
    "\n",
    "for key, (cnt0, cnt1) in wordfreq.items():\n",
    "    doccnt0 += cnt0\n",
    "    doccnt1 += cnt1\n",
    "    \n",
    "wordfreq"
   ]
  },
  {
   "cell_type": "code",
   "execution_count": 49,
   "metadata": {
    "colab": {
     "base_uri": "https://localhost:8080/"
    },
    "executionInfo": {
     "elapsed": 872,
     "status": "ok",
     "timestamp": 1615876795961,
     "user": {
      "displayName": "홍경수",
      "photoUrl": "",
      "userId": "10514684854108920109"
     },
     "user_tz": -540
    },
    "id": "T_F5iowywxCT",
    "outputId": "5128b6a6-946b-490f-d1e5-cc4e6fb96cf5"
   },
   "outputs": [
    {
     "data": {
      "text/plain": [
       "8"
      ]
     },
     "execution_count": 49,
     "metadata": {},
     "output_type": "execute_result"
    }
   ],
   "source": [
    "doccnt0"
   ]
  },
  {
   "cell_type": "code",
   "execution_count": 51,
   "metadata": {
    "colab": {
     "base_uri": "https://localhost:8080/"
    },
    "executionInfo": {
     "elapsed": 798,
     "status": "ok",
     "timestamp": 1615876375509,
     "user": {
      "displayName": "홍경수",
      "photoUrl": "",
      "userId": "10514684854108920109"
     },
     "user_tz": -540
    },
    "id": "N3DJjU95vJN8",
    "outputId": "7d7fce8a-b69b-431e-a75a-f057f14d8477"
   },
   "outputs": [
    {
     "data": {
      "text/plain": [
       "defaultdict(<function __main__.<lambda>()>,\n",
       "            {'I': (0.16666666666666666, 0.16666666666666666),\n",
       "             'love': (0.2777777777777778, 0.05555555555555555),\n",
       "             'you': (0.16666666666666666, 0.16666666666666666),\n",
       "             'happy': (0.2777777777777778, 0.05555555555555555),\n",
       "             'weekend': (0.16666666666666666, 0.16666666666666666),\n",
       "             'bore': (0.05555555555555555, 0.2777777777777778),\n",
       "             'work': (0.05555555555555555, 0.16666666666666666),\n",
       "             'job': (0.05555555555555555, 0.16666666666666666),\n",
       "             'hate': (0.05555555555555555, 0.16666666666666666),\n",
       "             'together': (0.16666666666666666, 0.05555555555555555)})"
      ]
     },
     "execution_count": 51,
     "metadata": {},
     "output_type": "execute_result"
    }
   ],
   "source": [
    "k = 0.5\n",
    "\n",
    "wordprobs = defaultdict(lambda : [0, 0])\n",
    "\n",
    "for key, (ham, spam) in wordfreq.items():\n",
    "    wordprobs[key] = ((k+ham)/(2*k+doccnt0),(k+spam)/(2*k+doccnt1))\n",
    "wordprobs"
   ]
  },
  {
   "cell_type": "code",
   "execution_count": 52,
   "metadata": {
    "colab": {
     "base_uri": "https://localhost:8080/"
    },
    "executionInfo": {
     "elapsed": 842,
     "status": "ok",
     "timestamp": 1615876453238,
     "user": {
      "displayName": "홍경수",
      "photoUrl": "",
      "userId": "10514684854108920109"
     },
     "user_tz": -540
    },
    "id": "Ffr9IjijvQ7t",
    "outputId": "8b7c5495-784a-42cc-97e9-ae56bf73d45b"
   },
   "outputs": [
    {
     "name": "stdout",
     "output_type": "stream",
     "text": [
      "happy weekend\n",
      "정상확률 : 83.33%\n",
      "스팸확률 : 16.67%\n"
     ]
    }
   ],
   "source": [
    "import math\n",
    "\n",
    "doc = \"happy weekend\"\n",
    "\n",
    "tokens = doc.split()\n",
    "\n",
    "# 초기값은 모두 0으로 처리\n",
    "log_prob1 = log_prob0 = 0.0\n",
    "\n",
    "# 모든 단어에 대해 반복\n",
    "for word, (prob0, prob1) in wordprobs.items():\n",
    "    if word in tokens:\n",
    "        log_prob0 += math.log(prob0)\n",
    "        log_prob1 += math.log(prob1)\n",
    "\n",
    "log_prob0 += math.log(doccnt0/(doccnt0+doccnt1))\n",
    "log_prob1 += math.log(doccnt0/(doccnt0+doccnt1))\n",
    "\n",
    "prob0 = math.exp(log_prob0)\n",
    "prob1 = math.exp(log_prob1)\n",
    "\n",
    "print(doc)\n",
    "print(\"정상확률 : {:.2f}%\".format(prob0 / (prob0 + prob1)*100))\n",
    "print(\"스팸확률 : {:.2f}%\".format(prob1 / (prob0 + prob1)*100))"
   ]
  },
  {
   "cell_type": "code",
   "execution_count": 64,
   "metadata": {},
   "outputs": [],
   "source": [
    "train = []\n",
    "label = []\n",
    "\n",
    "for doc, lab in text:\n",
    "    train.append(doc)\n",
    "    label.append(lab)"
   ]
  },
  {
   "cell_type": "code",
   "execution_count": 70,
   "metadata": {
    "id": "b8MGr_sZibyp"
   },
   "outputs": [],
   "source": [
    "from sklearn.pipeline import Pipeline\n",
    "from sklearn.feature_extraction.text import CountVectorizer\n",
    "from sklearn.naive_bayes import MultinomialNB\n",
    "\n",
    "# 각 객체를 리스트에 묶어서 pipeline 생성 \n",
    "text_clf = Pipeline([('vect', CountVectorizer()),('clf', MultinomialNB())])\n",
    "\n",
    "clf = text_clf.fit(train, label)"
   ]
  },
  {
   "cell_type": "code",
   "execution_count": 76,
   "metadata": {
    "colab": {
     "base_uri": "https://localhost:8080/"
    },
    "executionInfo": {
     "elapsed": 2533,
     "status": "ok",
     "timestamp": 1615819343490,
     "user": {
      "displayName": "홍경수",
      "photoUrl": "",
      "userId": "10514684854108920109"
     },
     "user_tz": -540
    },
    "id": "x8zJ50ooDOTq",
    "outputId": "bb92d9b3-8ebc-4f32-a796-61c36311a025"
   },
   "outputs": [
    {
     "name": "stdout",
     "output_type": "stream",
     "text": [
      "['P']\n",
      "[[0.25 0.75]]\n"
     ]
    }
   ],
   "source": [
    "print(clf.predict([\"happy weekend\"]))\n",
    "print(clf.predict_proba(([\"happy weekend\"])))"
   ]
  },
  {
   "cell_type": "markdown",
   "metadata": {
    "id": "ZFINscB8FS7Q"
   },
   "source": [
    "## 2.2 네이버 영화 리뷰 감정분석"
   ]
  },
  {
   "cell_type": "code",
   "execution_count": 77,
   "metadata": {
    "colab": {
     "base_uri": "https://localhost:8080/"
    },
    "executionInfo": {
     "elapsed": 3506,
     "status": "ok",
     "timestamp": 1615819344470,
     "user": {
      "displayName": "홍경수",
      "photoUrl": "",
      "userId": "10514684854108920109"
     },
     "user_tz": -540
    },
    "id": "ovFtoItjDfFs",
    "outputId": "c20178ec-cb39-40ea-9208-3a17e4874c26"
   },
   "outputs": [
    {
     "name": "stdout",
     "output_type": "stream",
     "text": [
      "--2021-07-06 12:10:58--  https://github.com/e9t/nsmc/raw/master/ratings.txt\n",
      "Resolving github.com (github.com)... 15.164.81.167\n",
      "Connecting to github.com (github.com)|15.164.81.167|:443... connected.\n",
      "HTTP request sent, awaiting response... 302 Found\n",
      "Location: https://raw.githubusercontent.com/e9t/nsmc/master/ratings.txt [following]\n",
      "--2021-07-06 12:10:58--  https://raw.githubusercontent.com/e9t/nsmc/master/ratings.txt\n",
      "Resolving raw.githubusercontent.com (raw.githubusercontent.com)... 185.199.110.133, 185.199.109.133, 185.199.111.133, ...\n",
      "Connecting to raw.githubusercontent.com (raw.githubusercontent.com)|185.199.110.133|:443... connected.\n",
      "HTTP request sent, awaiting response... 200 OK\n",
      "Length: 19515078 (19M) [text/plain]\n",
      "Saving to: `ratings.txt'\n",
      "\n",
      "ratings.txt         100%[===================>]  18.61M  3.96MB/s    in 5.0s    \n",
      "\n",
      "2021-07-06 12:11:04 (3.75 MB/s) - `ratings.txt' saved [19515078/19515078]\n",
      "\n"
     ]
    }
   ],
   "source": [
    "# 네이버 영화 리뷰 다운로드\n",
    "!wget https://github.com/e9t/nsmc/raw/master/ratings.txt"
   ]
  },
  {
   "cell_type": "code",
   "execution_count": 123,
   "metadata": {
    "id": "gQIY8T7NFe0n"
   },
   "outputs": [],
   "source": [
    "import pandas as pd\n",
    "import numpy as np\n",
    "df = pd.read_csv(\"./ratings.txt\",sep='\\t').dropna()"
   ]
  },
  {
   "cell_type": "code",
   "execution_count": 132,
   "metadata": {
    "id": "gJnjV-KQFnga"
   },
   "outputs": [],
   "source": [
    "from sklearn.pipeline import Pipeline\n",
    "from sklearn.model_selection import train_test_split\n",
    "from sklearn.feature_extraction.text import CountVectorizer\n",
    "from sklearn.feature_extraction.text import TfidfTransformer\n",
    "from sklearn.naive_bayes import MultinomialNB\n",
    "\n",
    "x_train, x_test, y_train, y_test = train_test_split(df[\"document\"], df[\"label\"], test_size=0.1, random_state=42)\n",
    "\n",
    "# 각 객체를 리스트에 묶어서 pipeline 생성 \n",
    "text_clf = Pipeline([('vect', CountVectorizer()),('tfidf', TfidfTransformer()),('clf', MultinomialNB())])\n",
    "\n",
    "text_clf = text_clf.fit(x_train, y_train)"
   ]
  },
  {
   "cell_type": "code",
   "execution_count": 134,
   "metadata": {},
   "outputs": [
    {
     "data": {
      "text/plain": [
       "0.83665"
      ]
     },
     "execution_count": 134,
     "metadata": {},
     "output_type": "execute_result"
    }
   ],
   "source": [
    "import numpy as np\n",
    "\n",
    "predicted = text_clf.predict(x_test)\n",
    "np.mean(predicted == y_test)"
   ]
  },
  {
   "cell_type": "code",
   "execution_count": 129,
   "metadata": {
    "colab": {
     "base_uri": "https://localhost:8080/"
    },
    "executionInfo": {
     "elapsed": 8135,
     "status": "ok",
     "timestamp": 1615819349109,
     "user": {
      "displayName": "홍경수",
      "photoUrl": "",
      "userId": "10514684854108920109"
     },
     "user_tz": -540
    },
    "id": "xPzdSWaRFvV1",
    "outputId": "01d8b114-6421-4795-aa30-3f4e0bfc54a1"
   },
   "outputs": [],
   "source": [
    "# x_new_counts = count_vect.fit_transform(x_test)\n",
    "# x_new_tfidf = tfidf_transformer.fit_transform(x_new_counts)\n",
    "\n",
    "# predicted = clf.predict(x_new_tfidf)\n",
    "# np.mean(predicted == y_test)"
   ]
  }
 ],
 "metadata": {
  "colab": {
   "collapsed_sections": [],
   "name": "11 Prac. Sentiment Analysis.ipynb의 사본",
   "provenance": []
  },
  "kernelspec": {
   "display_name": "Python 3",
   "language": "python",
   "name": "python3"
  },
  "language_info": {
   "codemirror_mode": {
    "name": "ipython",
    "version": 3
   },
   "file_extension": ".py",
   "mimetype": "text/x-python",
   "name": "python",
   "nbconvert_exporter": "python",
   "pygments_lexer": "ipython3",
   "version": "3.8.10"
  }
 },
 "nbformat": 4,
 "nbformat_minor": 1
}
