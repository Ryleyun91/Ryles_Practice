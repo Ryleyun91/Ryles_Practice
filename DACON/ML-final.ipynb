{
 "cells": [
  {
   "cell_type": "code",
   "execution_count": 1,
   "metadata": {
    "colab": {
     "base_uri": "https://localhost:8080/"
    },
    "executionInfo": {
     "elapsed": 384,
     "status": "ok",
     "timestamp": 1628835954923,
     "user": {
      "displayName": "Ryle Yun",
      "photoUrl": "",
      "userId": "02421452761416637401"
     },
     "user_tz": -540
    },
    "id": "qLbiN2w9veXx",
    "outputId": "4c7a39d8-fc6a-4391-f704-b068fe0e97dc"
   },
   "outputs": [
    {
     "name": "stdout",
     "output_type": "stream",
     "text": [
      "Fri Aug 13 06:25:54 2021       \n",
      "+-----------------------------------------------------------------------------+\n",
      "| NVIDIA-SMI 470.42.01    Driver Version: 460.32.03    CUDA Version: 11.2     |\n",
      "|-------------------------------+----------------------+----------------------+\n",
      "| GPU  Name        Persistence-M| Bus-Id        Disp.A | Volatile Uncorr. ECC |\n",
      "| Fan  Temp  Perf  Pwr:Usage/Cap|         Memory-Usage | GPU-Util  Compute M. |\n",
      "|                               |                      |               MIG M. |\n",
      "|===============================+======================+======================|\n",
      "|   0  Tesla P100-PCIE...  Off  | 00000000:00:04.0 Off |                    0 |\n",
      "| N/A   40C    P0    28W / 250W |      0MiB / 16280MiB |      0%      Default |\n",
      "|                               |                      |                  N/A |\n",
      "+-------------------------------+----------------------+----------------------+\n",
      "                                                                               \n",
      "+-----------------------------------------------------------------------------+\n",
      "| Processes:                                                                  |\n",
      "|  GPU   GI   CI        PID   Type   Process name                  GPU Memory |\n",
      "|        ID   ID                                                   Usage      |\n",
      "|=============================================================================|\n",
      "|  No running processes found                                                 |\n",
      "+-----------------------------------------------------------------------------+\n"
     ]
    }
   ],
   "source": [
    "! nvidia-smi"
   ]
  },
  {
   "cell_type": "code",
   "execution_count": 2,
   "metadata": {
    "colab": {
     "base_uri": "https://localhost:8080/"
    },
    "executionInfo": {
     "elapsed": 17367,
     "status": "ok",
     "timestamp": 1628835972287,
     "user": {
      "displayName": "Ryle Yun",
      "photoUrl": "",
      "userId": "02421452761416637401"
     },
     "user_tz": -540
    },
    "id": "ohBoe9hcvhS2",
    "outputId": "f9747711-c5ea-4b47-e539-6d0778f80ec0"
   },
   "outputs": [
    {
     "name": "stdout",
     "output_type": "stream",
     "text": [
      "Mounted at /content/drive\n"
     ]
    }
   ],
   "source": [
    "from google.colab import drive\n",
    "drive.mount('/content/drive')"
   ]
  },
  {
   "cell_type": "markdown",
   "metadata": {
    "id": "gvjkTQqnveIA"
   },
   "source": []
  },
  {
   "cell_type": "code",
   "execution_count": 1,
   "metadata": {
    "executionInfo": {
     "elapsed": 5,
     "status": "ok",
     "timestamp": 1628835972288,
     "user": {
      "displayName": "Ryle Yun",
      "photoUrl": "",
      "userId": "02421452761416637401"
     },
     "user_tz": -540
    },
    "id": "EV7gsLFKKm8A"
   },
   "outputs": [],
   "source": [
    "import pandas as pd"
   ]
  },
  {
   "cell_type": "markdown",
   "metadata": {
    "id": "JHN1TAHI8Wg_"
   },
   "source": [
    "## 패스 수정 부탁 드립니다."
   ]
  },
  {
   "cell_type": "code",
   "execution_count": 2,
   "metadata": {
    "colab": {
     "base_uri": "https://localhost:8080/",
     "height": 37
    },
    "executionInfo": {
     "elapsed": 268,
     "status": "ok",
     "timestamp": 1628835994232,
     "user": {
      "displayName": "Ryle Yun",
      "photoUrl": "",
      "userId": "02421452761416637401"
     },
     "user_tz": -540
    },
    "id": "6Gj8EbQcvZjP",
    "outputId": "66753abc-7af9-4bde-e16e-eba2e115d46a"
   },
   "outputs": [
    {
     "data": {
      "text/plain": [
       "'/Users/ryleyun/Desktop/Github/Ryles_Practice/DACON'"
      ]
     },
     "execution_count": 2,
     "metadata": {},
     "output_type": "execute_result"
    }
   ],
   "source": [
    "import os\n",
    "os.getcwd()"
   ]
  },
  {
   "cell_type": "code",
   "execution_count": 3,
   "metadata": {
    "id": "iVKl72wiJoGA"
   },
   "outputs": [],
   "source": [
    "### 데이터 불러오기 (정제 안 된 것)|\n",
    "PATH = '..'\n",
    "# PATH = '/content/drive/MyDrive/Github/Ryles_Practice'\n",
    "train_pos = pd.read_csv(PATH + \"/DATA/open/train_pos.csv\")\n",
    "test_pos = pd.read_csv(PATH + \"/DATA/open/test_pos.csv\")"
   ]
  },
  {
   "cell_type": "code",
   "execution_count": 4,
   "metadata": {
    "colab": {
     "base_uri": "https://localhost:8080/",
     "height": 185
    },
    "executionInfo": {
     "elapsed": 3,
     "status": "error",
     "timestamp": 1628835994826,
     "user": {
      "displayName": "Ryle Yun",
      "photoUrl": "",
      "userId": "02421452761416637401"
     },
     "user_tz": -540
    },
    "id": "66KV12RzJtWP",
    "outputId": "2603b867-6216-4105-857b-cb475e346165"
   },
   "outputs": [],
   "source": [
    "train_pos = train_pos.fillna(\"없음\")\n",
    "test_pos = test_pos.fillna(\"없음\")"
   ]
  },
  {
   "cell_type": "code",
   "execution_count": 5,
   "metadata": {
    "colab": {
     "base_uri": "https://localhost:8080/",
     "height": 238
    },
    "executionInfo": {
     "elapsed": 3,
     "status": "error",
     "timestamp": 1628835995637,
     "user": {
      "displayName": "Ryle Yun",
      "photoUrl": "",
      "userId": "02421452761416637401"
     },
     "user_tz": -540
    },
    "id": "8NAS9qe-8Wg_",
    "outputId": "3b99e927-9ed5-4551-f8eb-e5789bf78ba9"
   },
   "outputs": [],
   "source": [
    "train_name_key = [str(sent) for sent in train_pos['과제명'] + \" \" + train_pos['요약문_한글키워드']]\n",
    "train_goal = [str(sent) for sent in train_pos['요약문_연구목표']]\n",
    "train_cont = [str(sent) for sent in train_pos['요약문_연구내용']]\n",
    "train_effect = [str(sent) for sent in train_pos['요약문_기대효과']]\n",
    "test_name_key = [str(sent) for sent in test_pos['과제명'] + \" \" + test_pos['요약문_한글키워드']]\n",
    "test_goal = [str(sent) for sent in test_pos['요약문_연구목표']]\n",
    "test_cont = [str(sent) for sent in test_pos['요약문_연구내용']]\n",
    "test_effect = [str(sent) for sent in test_pos['요약문_기대효과']]\n",
    "train_label = [int(str(answer)) for answer in train_pos['label']]"
   ]
  },
  {
   "cell_type": "code",
   "execution_count": 6,
   "metadata": {
    "id": "0xaWcJIZKy8m"
   },
   "outputs": [],
   "source": [
    "train_concat = [str(name)+\" \"+str(key)+\" \"+\" \".join(str(goal).split()[:100])+\" \"+\" \".join(str(effect).split()[:100])+\" \"+\" \".join(str(cont).split()[:100]) for name, key, goal, effect, cont in zip(train_pos['과제명'], train_pos['요약문_한글키워드'], train_pos['요약문_연구목표'], train_pos['요약문_기대효과'], train_pos['요약문_연구내용'])]\n",
    "test_concat = [str(name)+\" \"+str(key)+\" \"+\" \".join(str(goal).split()[:100])+\" \"+\" \".join(str(effect).split()[:100])+\" \"+\" \".join(str(cont).split()[:100]) for name, key, goal, effect, cont in zip(test_pos['과제명'], test_pos['요약문_한글키워드'], test_pos['요약문_연구목표'], test_pos['요약문_기대효과'], test_pos['요약문_연구내용'])]\n",
    "train_label = train_pos['label']"
   ]
  },
  {
   "cell_type": "code",
   "execution_count": 7,
   "metadata": {
    "id": "nqPHIjorVysN",
    "scrolled": true
   },
   "outputs": [],
   "source": [
    "from sklearn.model_selection import train_test_split\n",
    "train_data, valid_data, train_label, valid_label = train_test_split(train_name_key, train_label, test_size=0.1, random_state=42)"
   ]
  },
  {
   "cell_type": "code",
   "execution_count": 8,
   "metadata": {
    "id": "SQLtosqZTQ5F"
   },
   "outputs": [],
   "source": [
    "from sklearn.pipeline import Pipeline\n",
    "from sklearn.feature_extraction.text import CountVectorizer\n",
    "from sklearn.feature_extraction.text import TfidfTransformer\n",
    "from sklearn.naive_bayes import MultinomialNB, BernoulliNB\n",
    "from sklearn.model_selection import GridSearchCV, RandomizedSearchCV\n",
    "from sklearn.utils.fixes import loguniform\n",
    "from sklearn.linear_model import LogisticRegression\n",
    "from sklearn.ensemble import VotingClassifier\n",
    "from sklearn.model_selection import cross_validate\n",
    "from sklearn.metrics import accuracy_score\n",
    "import xgboost as xgb\n",
    "from xgboost import XGBRFClassifier"
   ]
  },
  {
   "cell_type": "markdown",
   "metadata": {
    "id": "WGJLIpg-KCnm"
   },
   "source": [
    "text_clf = Pipeline([(\"vect\", CountVectorizer()), (\"tfidf\", TfidfTransformer()), (\"clf\", MultinomialNB())])\n",
    "# text_clf = text_clf.fit(train_concat, train_label)\n",
    "\n",
    "distribution_lr = loguniform(0.0001, 1.0)\n",
    "\n",
    "params_clf = {\"vect__ngram_range\":[(1,2), (1,3), (1,5), (1,7)],\n",
    "              \"clf__alpha\" : distribution_lr}\n",
    "\n",
    "nb_clf = RandomizedSearchCV(text_clf, params_clf, n_iter=50, n_jobs=-1, verbose=2, cv=10, random_state = 42)\n",
    "nb_clf = nb_clf.fit(train_data, train_label)\n",
    "\n",
    "print(\"Best score: {}\".format(nb_clf.best_score_))\n",
    "nb_clf_best = nb_clf.best_estimator_"
   ]
  },
  {
   "cell_type": "markdown",
   "metadata": {
    "id": "KGmzUurXTBpb"
   },
   "source": [
    "text_clf = Pipeline([('vect', CountVectorizer()),\n",
    "                    ('tfidf' , TfidfTransformer()),\n",
    "                    ('clf' , BernoulliNB())])\n",
    "\n",
    "distribution_bnb = loguniform(0.0001, 1.0)\n",
    "\n",
    "params_clf = {\"vect__ngram_range\" : [(1,2),(1,3),(1,5),(1,7)],\n",
    "                  \"clf__alpha\" : distribution_bnb,\n",
    "                  \"clf__binarize\" : distribution_bnb,\n",
    "              }\n",
    "\n",
    "bn_clf = RandomizedSearchCV(text_clf, params_clf, n_iter = 50, cv = 10, random_state = 42, verbose = 2, n_jobs = -1)\n",
    "bn_clf = bn_clf.fit(train_data, train_label)\n",
    "\n",
    "print(\"Best score: {}\".format(bn_clf.best_score_))\n",
    "bn_clf_best = bn_clf.best_estimator_"
   ]
  },
  {
   "cell_type": "markdown",
   "metadata": {
    "id": "ynbx1XmovZjR",
    "outputId": "0b6951c0-0df5-412b-b43e-51d067c22a0f"
   },
   "source": [
    "text_clf = Pipeline([('vect', CountVectorizer()),\n",
    "                    ('tfidf', TfidfTransformer()),\n",
    "                    ('clf', XGBRFClassifier(learning_rate=0.01, subsample=0.9, random_state=42))])\n",
    "\n",
    "params_clf = {\"vect__ngram_range\":[(1,2), (1,3), (1,5), (1,7)],\n",
    "              \"clf__n_estimators\":[100, 200, 500],\n",
    "              'clf__colsample_bytree':[0.3, 0.5, 0.9],\n",
    "              'clf__max_depth':[3, 7, 10]}\n",
    "\n",
    "rf_clf = RandomizedSearchCV(text_clf, params_clf, n_iter = 50, cv = 5, random_state = 42, verbose = 2, n_jobs = -1)\n",
    "rf_clf = rf_clf.fit(train_data, train_label)\n",
    "\n",
    "print(\"Best score: {}\".format(rf_clf.best_score_))\n",
    "rf_clf_best = rf_clf.best_estimator_"
   ]
  },
  {
   "cell_type": "markdown",
   "metadata": {
    "id": "AvnjGrGg8WhC"
   },
   "source": [
    "## 패스 수정 부탁 드립니다."
   ]
  },
  {
   "cell_type": "markdown",
   "metadata": {
    "id": "IHP5LmvD8WhD"
   },
   "source": [
    "import pickle\n",
    "# pickle.dump(nb_clf_best, open('../nb_clf_nk_model.sav', 'wb'))\n",
    "# pickle.dump(bn_clf_best, open('../bn_clf_nk_model.sav', 'wb'))\n",
    "pickle.dump(lr_clf_best, open('../lr_clf_nk_model.sav', 'wb'))"
   ]
  },
  {
   "cell_type": "code",
   "execution_count": 9,
   "metadata": {
    "colab": {
     "base_uri": "https://localhost:8080/",
     "height": 38
    },
    "executionInfo": {
     "elapsed": 13,
     "status": "ok",
     "timestamp": 1628515734015,
     "user": {
      "displayName": "Ryle Yun",
      "photoUrl": "",
      "userId": "02421452761416637401"
     },
     "user_tz": -540
    },
    "id": "7N3SB4pfvZjS",
    "outputId": "b681c680-3e0d-489a-afb8-becf175b71be"
   },
   "outputs": [
    {
     "data": {
      "text/plain": [
       "'/Users/ryleyun/Desktop/Github/Ryles_Practice/DACON'"
      ]
     },
     "execution_count": 9,
     "metadata": {},
     "output_type": "execute_result"
    }
   ],
   "source": [
    "os.getcwd()"
   ]
  },
  {
   "cell_type": "code",
   "execution_count": 10,
   "metadata": {
    "id": "2G9meRgh9HW_"
   },
   "outputs": [],
   "source": [
    "import pickle\n",
    "# nb_clf_best = pickle.load(open('nb_clf_nk_model.sav','rb'))\n",
    "# bn_clf_best = pickle.load(open('bn_clf_nk_model.sav','rb'))\n",
    "nb_clf_best = pickle.load(open('../../../nb_clf_nk_model.sav','rb'))\n",
    "bn_clf_best = pickle.load(open('../../../bn_clf_nk_model.sav','rb'))\n",
    "lgb_clf_best = pickle.load(open('../../../lgb_clf_best_model.sav','rb'))\n",
    "xgb_clf_best = pickle.load(open('../../../xgb_clf_best_model.sav','rb'))"
   ]
  },
  {
   "cell_type": "code",
   "execution_count": null,
   "metadata": {
    "id": "xu5X_CxXKFYx",
    "outputId": "b5c22cc9-8ace-4e4f-9007-678ad2f29eb1"
   },
   "outputs": [
    {
     "name": "stdout",
     "output_type": "stream",
     "text": [
      "NaiveBaise\n",
      "잘못 분류된 개수: 1251\n",
      "정확도: 0.928\n",
      "BernoisBaise\n",
      "잘못 분류된 개수: 1327\n",
      "정확도: 0.924\n",
      "LGB\n",
      "잘못 분류된 개수: 601\n",
      "정확도: 0.966\n",
      "XGB\n",
      "잘못 분류된 개수: 610\n",
      "정확도: 0.965\n"
     ]
    }
   ],
   "source": [
    "nb_clf_best_pred = nb_clf_best.predict(valid_data)\n",
    "print('NaiveBaise')\n",
    "print('잘못 분류된 개수: %d' % (valid_label != nb_clf_best_pred).sum())\n",
    "print('정확도: %.3f' % accuracy_score(valid_label, nb_clf_best_pred))\n",
    "bn_clf_best_pred = bn_clf_best.predict(valid_data)\n",
    "print('BernoisBaise')\n",
    "print('잘못 분류된 개수: %d' % (valid_label != bn_clf_best_pred).sum())\n",
    "print('정확도: %.3f' % accuracy_score(valid_label, bn_clf_best_pred))\n",
    "# rf_clf_best_pred = rf_clf_best.predict(valid_data)\n",
    "# print('RF')\n",
    "# print('잘못 분류된 개수: %d' % (valid_label != rf_clf_best_pred).sum())\n",
    "# print('정확도: %.3f' % accuracy_score(valid_label, rf_clf_best_pred))\n",
    "lgb_clf_best_pred = lgb_clf_best.predict(valid_data)\n",
    "print('LGB')\n",
    "print('잘못 분류된 개수: %d' % (valid_label != lgb_clf_best_pred).sum())\n",
    "print('정확도: %.3f' % accuracy_score(valid_label, lgb_clf_best_pred))\n",
    "xgb_clf_best_pred = xgb_clf_best.predict(valid_data)\n",
    "print('XGB')\n",
    "print('잘못 분류된 개수: %d' % (valid_label != xgb_clf_best_pred).sum())\n",
    "print('정확도: %.3f' % accuracy_score(valid_label, xgb_clf_best_pred))"
   ]
  },
  {
   "cell_type": "code",
   "execution_count": 12,
   "metadata": {},
   "outputs": [
    {
     "name": "stderr",
     "output_type": "stream",
     "text": [
      "/Users/ryleyun/opt/anaconda3/envs/nlppython/lib/python3.8/site-packages/sklearn/linear_model/_logistic.py:763: ConvergenceWarning: lbfgs failed to converge (status=1):\n",
      "STOP: TOTAL NO. of ITERATIONS REACHED LIMIT.\n",
      "\n",
      "Increase the number of iterations (max_iter) or scale the data as shown in:\n",
      "    https://scikit-learn.org/stable/modules/preprocessing.html\n",
      "Please also refer to the documentation for alternative solver options:\n",
      "    https://scikit-learn.org/stable/modules/linear_model.html#logistic-regression\n",
      "  n_iter_i = _check_optimize_result(\n"
     ]
    },
    {
     "data": {
      "text/plain": [
       "StackingClassifier(estimators=[('nb',\n",
       "                                Pipeline(steps=[('vect',\n",
       "                                                 CountVectorizer(ngram_range=(1,\n",
       "                                                                              7))),\n",
       "                                                ('tfidf', TfidfTransformer()),\n",
       "                                                ('clf',\n",
       "                                                 MultinomialNB(alpha=0.00010090061869151561))])),\n",
       "                               ('lgb',\n",
       "                                Pipeline(steps=[('vect', CountVectorizer()),\n",
       "                                                ('tfidf', TfidfTransformer()),\n",
       "                                                ('clf',\n",
       "                                                 LGBMClassifier(boost_from_average=False,\n",
       "                                                                colsample_bytree=0.3,\n",
       "                                                                is_unbalance=True,\n",
       "                                                                n_estimators=200,\n",
       "                                                                random_state=42,\n",
       "                                                                subsample=0.5))]))],\n",
       "                   n_jobs=-1)"
      ]
     },
     "execution_count": 12,
     "metadata": {},
     "output_type": "execute_result"
    }
   ],
   "source": [
    "from sklearn.ensemble import StackingClassifier\n",
    "\n",
    "stack = StackingClassifier(estimators = [('nb', nb_clf_best),('lgb', lgb_clf_best)], n_jobs=-1)\n",
    "\n",
    "stack.fit(train_data, train_label)"
   ]
  },
  {
   "cell_type": "code",
   "execution_count": null,
   "metadata": {
    "id": "PV8dtaSKYYUU",
    "outputId": "ab808f56-d938-4e23-a3f1-6684e1629997"
   },
   "outputs": [
    {
     "name": "stderr",
     "output_type": "stream",
     "text": [
      "[18:08:57] WARNING: /Users/travis/build/dmlc/xgboost/src/learner.cc:573: \n",
      "Parameters: { \"sample_weight\" } might not be used.\n",
      "\n",
      "  This may not be accurate due to some parameters are only used in language bindings but\n",
      "  passed down to XGBoost core.  Or some parameters are not used but slip through this\n",
      "  verification. Please open an issue if you find above cases.\n",
      "\n",
      "\n"
     ]
    },
    {
     "ename": "TerminatedWorkerError",
     "evalue": "A worker process managed by the executor was unexpectedly terminated. This could be caused by a segmentation fault while calling the function or by an excessive memory usage causing the Operating System to kill the worker.\n\nThe exit codes of the workers are {SIGSEGV(-11)}",
     "output_type": "error",
     "traceback": [
      "\u001b[0;31m---------------------------------------------------------------------------\u001b[0m",
      "\u001b[0;31mTerminatedWorkerError\u001b[0m                     Traceback (most recent call last)",
      "\u001b[0;32m/var/folders/s5/j2ttz_bd7d500bsb_zg9212w0000gn/T/ipykernel_871/705475322.py\u001b[0m in \u001b[0;36m<module>\u001b[0;34m\u001b[0m\n\u001b[1;32m      3\u001b[0m \u001b[0mstack\u001b[0m \u001b[0;34m=\u001b[0m \u001b[0mStackingClassifier\u001b[0m\u001b[0;34m(\u001b[0m\u001b[0mestimators\u001b[0m \u001b[0;34m=\u001b[0m \u001b[0;34m[\u001b[0m\u001b[0;34m(\u001b[0m\u001b[0;34m'nb'\u001b[0m\u001b[0;34m,\u001b[0m \u001b[0mnb_clf_best\u001b[0m\u001b[0;34m)\u001b[0m\u001b[0;34m,\u001b[0m \u001b[0;34m(\u001b[0m\u001b[0;34m'bn'\u001b[0m\u001b[0;34m,\u001b[0m \u001b[0mbn_clf_best\u001b[0m\u001b[0;34m)\u001b[0m\u001b[0;34m,\u001b[0m \u001b[0;34m(\u001b[0m\u001b[0;34m'lgb'\u001b[0m\u001b[0;34m,\u001b[0m \u001b[0mlgb_clf_best\u001b[0m\u001b[0;34m)\u001b[0m\u001b[0;34m,\u001b[0m \u001b[0;34m(\u001b[0m\u001b[0;34m'xgb'\u001b[0m\u001b[0;34m,\u001b[0m \u001b[0mxgb_clf_best\u001b[0m\u001b[0;34m)\u001b[0m\u001b[0;34m]\u001b[0m\u001b[0;34m,\u001b[0m \u001b[0mn_jobs\u001b[0m\u001b[0;34m=\u001b[0m\u001b[0;36m5\u001b[0m\u001b[0;34m)\u001b[0m\u001b[0;34m\u001b[0m\u001b[0;34m\u001b[0m\u001b[0m\n\u001b[1;32m      4\u001b[0m \u001b[0;34m\u001b[0m\u001b[0m\n\u001b[0;32m----> 5\u001b[0;31m \u001b[0mstack\u001b[0m\u001b[0;34m.\u001b[0m\u001b[0mfit\u001b[0m\u001b[0;34m(\u001b[0m\u001b[0mtrain_data\u001b[0m\u001b[0;34m,\u001b[0m \u001b[0mtrain_label\u001b[0m\u001b[0;34m)\u001b[0m\u001b[0;34m\u001b[0m\u001b[0;34m\u001b[0m\u001b[0m\n\u001b[0m",
      "\u001b[0;32m~/opt/anaconda3/envs/nlppython/lib/python3.8/site-packages/sklearn/ensemble/_stacking.py\u001b[0m in \u001b[0;36mfit\u001b[0;34m(self, X, y, sample_weight)\u001b[0m\n\u001b[1;32m    439\u001b[0m         \u001b[0mself\u001b[0m\u001b[0;34m.\u001b[0m\u001b[0m_le\u001b[0m \u001b[0;34m=\u001b[0m \u001b[0mLabelEncoder\u001b[0m\u001b[0;34m(\u001b[0m\u001b[0;34m)\u001b[0m\u001b[0;34m.\u001b[0m\u001b[0mfit\u001b[0m\u001b[0;34m(\u001b[0m\u001b[0my\u001b[0m\u001b[0;34m)\u001b[0m\u001b[0;34m\u001b[0m\u001b[0;34m\u001b[0m\u001b[0m\n\u001b[1;32m    440\u001b[0m         \u001b[0mself\u001b[0m\u001b[0;34m.\u001b[0m\u001b[0mclasses_\u001b[0m \u001b[0;34m=\u001b[0m \u001b[0mself\u001b[0m\u001b[0;34m.\u001b[0m\u001b[0m_le\u001b[0m\u001b[0;34m.\u001b[0m\u001b[0mclasses_\u001b[0m\u001b[0;34m\u001b[0m\u001b[0;34m\u001b[0m\u001b[0m\n\u001b[0;32m--> 441\u001b[0;31m         \u001b[0;32mreturn\u001b[0m \u001b[0msuper\u001b[0m\u001b[0;34m(\u001b[0m\u001b[0;34m)\u001b[0m\u001b[0;34m.\u001b[0m\u001b[0mfit\u001b[0m\u001b[0;34m(\u001b[0m\u001b[0mX\u001b[0m\u001b[0;34m,\u001b[0m \u001b[0mself\u001b[0m\u001b[0;34m.\u001b[0m\u001b[0m_le\u001b[0m\u001b[0;34m.\u001b[0m\u001b[0mtransform\u001b[0m\u001b[0;34m(\u001b[0m\u001b[0my\u001b[0m\u001b[0;34m)\u001b[0m\u001b[0;34m,\u001b[0m \u001b[0msample_weight\u001b[0m\u001b[0;34m)\u001b[0m\u001b[0;34m\u001b[0m\u001b[0;34m\u001b[0m\u001b[0m\n\u001b[0m\u001b[1;32m    442\u001b[0m \u001b[0;34m\u001b[0m\u001b[0m\n\u001b[1;32m    443\u001b[0m     \u001b[0;34m@\u001b[0m\u001b[0mif_delegate_has_method\u001b[0m\u001b[0;34m(\u001b[0m\u001b[0mdelegate\u001b[0m\u001b[0;34m=\u001b[0m\u001b[0;34m'final_estimator_'\u001b[0m\u001b[0;34m)\u001b[0m\u001b[0;34m\u001b[0m\u001b[0;34m\u001b[0m\u001b[0m\n",
      "\u001b[0;32m~/opt/anaconda3/envs/nlppython/lib/python3.8/site-packages/sklearn/ensemble/_stacking.py\u001b[0m in \u001b[0;36mfit\u001b[0;34m(self, X, y, sample_weight)\u001b[0m\n\u001b[1;32m    177\u001b[0m                       \u001b[0;32mif\u001b[0m \u001b[0msample_weight\u001b[0m \u001b[0;32mis\u001b[0m \u001b[0;32mnot\u001b[0m \u001b[0;32mNone\u001b[0m\u001b[0;34m\u001b[0m\u001b[0;34m\u001b[0m\u001b[0m\n\u001b[1;32m    178\u001b[0m                       else None)\n\u001b[0;32m--> 179\u001b[0;31m         predictions = Parallel(n_jobs=self.n_jobs)(\n\u001b[0m\u001b[1;32m    180\u001b[0m             delayed(cross_val_predict)(clone(est), X, y, cv=deepcopy(cv),\n\u001b[1;32m    181\u001b[0m                                        \u001b[0mmethod\u001b[0m\u001b[0;34m=\u001b[0m\u001b[0mmeth\u001b[0m\u001b[0;34m,\u001b[0m \u001b[0mn_jobs\u001b[0m\u001b[0;34m=\u001b[0m\u001b[0mself\u001b[0m\u001b[0;34m.\u001b[0m\u001b[0mn_jobs\u001b[0m\u001b[0;34m,\u001b[0m\u001b[0;34m\u001b[0m\u001b[0;34m\u001b[0m\u001b[0m\n",
      "\u001b[0;32m~/opt/anaconda3/envs/nlppython/lib/python3.8/site-packages/joblib/parallel.py\u001b[0m in \u001b[0;36m__call__\u001b[0;34m(self, iterable)\u001b[0m\n\u001b[1;32m   1052\u001b[0m \u001b[0;34m\u001b[0m\u001b[0m\n\u001b[1;32m   1053\u001b[0m             \u001b[0;32mwith\u001b[0m \u001b[0mself\u001b[0m\u001b[0;34m.\u001b[0m\u001b[0m_backend\u001b[0m\u001b[0;34m.\u001b[0m\u001b[0mretrieval_context\u001b[0m\u001b[0;34m(\u001b[0m\u001b[0;34m)\u001b[0m\u001b[0;34m:\u001b[0m\u001b[0;34m\u001b[0m\u001b[0;34m\u001b[0m\u001b[0m\n\u001b[0;32m-> 1054\u001b[0;31m                 \u001b[0mself\u001b[0m\u001b[0;34m.\u001b[0m\u001b[0mretrieve\u001b[0m\u001b[0;34m(\u001b[0m\u001b[0;34m)\u001b[0m\u001b[0;34m\u001b[0m\u001b[0;34m\u001b[0m\u001b[0m\n\u001b[0m\u001b[1;32m   1055\u001b[0m             \u001b[0;31m# Make sure that we get a last message telling us we are done\u001b[0m\u001b[0;34m\u001b[0m\u001b[0;34m\u001b[0m\u001b[0;34m\u001b[0m\u001b[0m\n\u001b[1;32m   1056\u001b[0m             \u001b[0melapsed_time\u001b[0m \u001b[0;34m=\u001b[0m \u001b[0mtime\u001b[0m\u001b[0;34m.\u001b[0m\u001b[0mtime\u001b[0m\u001b[0;34m(\u001b[0m\u001b[0;34m)\u001b[0m \u001b[0;34m-\u001b[0m \u001b[0mself\u001b[0m\u001b[0;34m.\u001b[0m\u001b[0m_start_time\u001b[0m\u001b[0;34m\u001b[0m\u001b[0;34m\u001b[0m\u001b[0m\n",
      "\u001b[0;32m~/opt/anaconda3/envs/nlppython/lib/python3.8/site-packages/joblib/parallel.py\u001b[0m in \u001b[0;36mretrieve\u001b[0;34m(self)\u001b[0m\n\u001b[1;32m    931\u001b[0m             \u001b[0;32mtry\u001b[0m\u001b[0;34m:\u001b[0m\u001b[0;34m\u001b[0m\u001b[0;34m\u001b[0m\u001b[0m\n\u001b[1;32m    932\u001b[0m                 \u001b[0;32mif\u001b[0m \u001b[0mgetattr\u001b[0m\u001b[0;34m(\u001b[0m\u001b[0mself\u001b[0m\u001b[0;34m.\u001b[0m\u001b[0m_backend\u001b[0m\u001b[0;34m,\u001b[0m \u001b[0;34m'supports_timeout'\u001b[0m\u001b[0;34m,\u001b[0m \u001b[0;32mFalse\u001b[0m\u001b[0;34m)\u001b[0m\u001b[0;34m:\u001b[0m\u001b[0;34m\u001b[0m\u001b[0;34m\u001b[0m\u001b[0m\n\u001b[0;32m--> 933\u001b[0;31m                     \u001b[0mself\u001b[0m\u001b[0;34m.\u001b[0m\u001b[0m_output\u001b[0m\u001b[0;34m.\u001b[0m\u001b[0mextend\u001b[0m\u001b[0;34m(\u001b[0m\u001b[0mjob\u001b[0m\u001b[0;34m.\u001b[0m\u001b[0mget\u001b[0m\u001b[0;34m(\u001b[0m\u001b[0mtimeout\u001b[0m\u001b[0;34m=\u001b[0m\u001b[0mself\u001b[0m\u001b[0;34m.\u001b[0m\u001b[0mtimeout\u001b[0m\u001b[0;34m)\u001b[0m\u001b[0;34m)\u001b[0m\u001b[0;34m\u001b[0m\u001b[0;34m\u001b[0m\u001b[0m\n\u001b[0m\u001b[1;32m    934\u001b[0m                 \u001b[0;32melse\u001b[0m\u001b[0;34m:\u001b[0m\u001b[0;34m\u001b[0m\u001b[0;34m\u001b[0m\u001b[0m\n\u001b[1;32m    935\u001b[0m                     \u001b[0mself\u001b[0m\u001b[0;34m.\u001b[0m\u001b[0m_output\u001b[0m\u001b[0;34m.\u001b[0m\u001b[0mextend\u001b[0m\u001b[0;34m(\u001b[0m\u001b[0mjob\u001b[0m\u001b[0;34m.\u001b[0m\u001b[0mget\u001b[0m\u001b[0;34m(\u001b[0m\u001b[0;34m)\u001b[0m\u001b[0;34m)\u001b[0m\u001b[0;34m\u001b[0m\u001b[0;34m\u001b[0m\u001b[0m\n",
      "\u001b[0;32m~/opt/anaconda3/envs/nlppython/lib/python3.8/site-packages/joblib/_parallel_backends.py\u001b[0m in \u001b[0;36mwrap_future_result\u001b[0;34m(future, timeout)\u001b[0m\n\u001b[1;32m    540\u001b[0m         AsyncResults.get from multiprocessing.\"\"\"\n\u001b[1;32m    541\u001b[0m         \u001b[0;32mtry\u001b[0m\u001b[0;34m:\u001b[0m\u001b[0;34m\u001b[0m\u001b[0;34m\u001b[0m\u001b[0m\n\u001b[0;32m--> 542\u001b[0;31m             \u001b[0;32mreturn\u001b[0m \u001b[0mfuture\u001b[0m\u001b[0;34m.\u001b[0m\u001b[0mresult\u001b[0m\u001b[0;34m(\u001b[0m\u001b[0mtimeout\u001b[0m\u001b[0;34m=\u001b[0m\u001b[0mtimeout\u001b[0m\u001b[0;34m)\u001b[0m\u001b[0;34m\u001b[0m\u001b[0;34m\u001b[0m\u001b[0m\n\u001b[0m\u001b[1;32m    543\u001b[0m         \u001b[0;32mexcept\u001b[0m \u001b[0mCfTimeoutError\u001b[0m \u001b[0;32mas\u001b[0m \u001b[0me\u001b[0m\u001b[0;34m:\u001b[0m\u001b[0;34m\u001b[0m\u001b[0;34m\u001b[0m\u001b[0m\n\u001b[1;32m    544\u001b[0m             \u001b[0;32mraise\u001b[0m \u001b[0mTimeoutError\u001b[0m \u001b[0;32mfrom\u001b[0m \u001b[0me\u001b[0m\u001b[0;34m\u001b[0m\u001b[0;34m\u001b[0m\u001b[0m\n",
      "\u001b[0;32m~/opt/anaconda3/envs/nlppython/lib/python3.8/concurrent/futures/_base.py\u001b[0m in \u001b[0;36mresult\u001b[0;34m(self, timeout)\u001b[0m\n\u001b[1;32m    442\u001b[0m                     \u001b[0;32mraise\u001b[0m \u001b[0mCancelledError\u001b[0m\u001b[0;34m(\u001b[0m\u001b[0;34m)\u001b[0m\u001b[0;34m\u001b[0m\u001b[0;34m\u001b[0m\u001b[0m\n\u001b[1;32m    443\u001b[0m                 \u001b[0;32melif\u001b[0m \u001b[0mself\u001b[0m\u001b[0;34m.\u001b[0m\u001b[0m_state\u001b[0m \u001b[0;34m==\u001b[0m \u001b[0mFINISHED\u001b[0m\u001b[0;34m:\u001b[0m\u001b[0;34m\u001b[0m\u001b[0;34m\u001b[0m\u001b[0m\n\u001b[0;32m--> 444\u001b[0;31m                     \u001b[0;32mreturn\u001b[0m \u001b[0mself\u001b[0m\u001b[0;34m.\u001b[0m\u001b[0m__get_result\u001b[0m\u001b[0;34m(\u001b[0m\u001b[0;34m)\u001b[0m\u001b[0;34m\u001b[0m\u001b[0;34m\u001b[0m\u001b[0m\n\u001b[0m\u001b[1;32m    445\u001b[0m                 \u001b[0;32melse\u001b[0m\u001b[0;34m:\u001b[0m\u001b[0;34m\u001b[0m\u001b[0;34m\u001b[0m\u001b[0m\n\u001b[1;32m    446\u001b[0m                     \u001b[0;32mraise\u001b[0m \u001b[0mTimeoutError\u001b[0m\u001b[0;34m(\u001b[0m\u001b[0;34m)\u001b[0m\u001b[0;34m\u001b[0m\u001b[0;34m\u001b[0m\u001b[0m\n",
      "\u001b[0;32m~/opt/anaconda3/envs/nlppython/lib/python3.8/concurrent/futures/_base.py\u001b[0m in \u001b[0;36m__get_result\u001b[0;34m(self)\u001b[0m\n\u001b[1;32m    387\u001b[0m         \u001b[0;32mif\u001b[0m \u001b[0mself\u001b[0m\u001b[0;34m.\u001b[0m\u001b[0m_exception\u001b[0m\u001b[0;34m:\u001b[0m\u001b[0;34m\u001b[0m\u001b[0;34m\u001b[0m\u001b[0m\n\u001b[1;32m    388\u001b[0m             \u001b[0;32mtry\u001b[0m\u001b[0;34m:\u001b[0m\u001b[0;34m\u001b[0m\u001b[0;34m\u001b[0m\u001b[0m\n\u001b[0;32m--> 389\u001b[0;31m                 \u001b[0;32mraise\u001b[0m \u001b[0mself\u001b[0m\u001b[0;34m.\u001b[0m\u001b[0m_exception\u001b[0m\u001b[0;34m\u001b[0m\u001b[0;34m\u001b[0m\u001b[0m\n\u001b[0m\u001b[1;32m    390\u001b[0m             \u001b[0;32mfinally\u001b[0m\u001b[0;34m:\u001b[0m\u001b[0;34m\u001b[0m\u001b[0;34m\u001b[0m\u001b[0m\n\u001b[1;32m    391\u001b[0m                 \u001b[0;31m# Break a reference cycle with the exception in self._exception\u001b[0m\u001b[0;34m\u001b[0m\u001b[0;34m\u001b[0m\u001b[0;34m\u001b[0m\u001b[0m\n",
      "\u001b[0;31mTerminatedWorkerError\u001b[0m: A worker process managed by the executor was unexpectedly terminated. This could be caused by a segmentation fault while calling the function or by an excessive memory usage causing the Operating System to kill the worker.\n\nThe exit codes of the workers are {SIGSEGV(-11)}"
     ]
    }
   ],
   "source": [
    "from sklearn.ensemble import StackingClassifier\n",
    "\n",
    "stack = StackingClassifier(estimators = [('nb', nb_clf_best), ('bn', bn_clf_best), ('lgb', lgb_clf_best), ('xgb', xgb_clf_best)], n_jobs=4)\n",
    "\n",
    "stack.fit(train_data, train_label)"
   ]
  },
  {
   "cell_type": "markdown",
   "metadata": {
    "id": "IRt7SARl8WhE"
   },
   "source": [
    "## 패스 수정 부탁 드립니다."
   ]
  },
  {
   "cell_type": "code",
   "execution_count": 13,
   "metadata": {
    "id": "bLEI_6Yq8WhE"
   },
   "outputs": [],
   "source": [
    "pred = stack.predict(test_name_key)"
   ]
  },
  {
   "cell_type": "code",
   "execution_count": 14,
   "metadata": {
    "id": "mdP_XHf18WhE",
    "outputId": "af31bcc3-c539-4feb-a617-39a4f9a52240"
   },
   "outputs": [
    {
     "data": {
      "text/plain": [
       "6523"
      ]
     },
     "execution_count": 14,
     "metadata": {},
     "output_type": "execute_result"
    }
   ],
   "source": [
    "sum(pred!=0)"
   ]
  },
  {
   "cell_type": "code",
   "execution_count": null,
   "metadata": {
    "id": "9AOZcAez8WhE"
   },
   "outputs": [],
   "source": [
    "sample_submission=pd.read_csv('../DATA/open/sample_submission.csv')\n",
    "sample_submission['label']=pred\n",
    "sample_submission.to_csv('../DATA/Result/nb_lgb_stack.csv', index=False)"
   ]
  },
  {
   "cell_type": "code",
   "execution_count": null,
   "metadata": {
    "id": "As2UjzHf8WhF"
   },
   "outputs": [],
   "source": []
  }
 ],
 "metadata": {
  "accelerator": "GPU",
  "colab": {
   "collapsed_sections": [],
   "machine_shape": "hm",
   "name": "ML-final.ipynb",
   "provenance": []
  },
  "kernelspec": {
   "display_name": "Python 3 (ipykernel)",
   "language": "python",
   "name": "python3"
  },
  "language_info": {
   "codemirror_mode": {
    "name": "ipython",
    "version": 3
   },
   "file_extension": ".py",
   "mimetype": "text/x-python",
   "name": "python",
   "nbconvert_exporter": "python",
   "pygments_lexer": "ipython3",
   "version": "3.8.10"
  }
 },
 "nbformat": 4,
 "nbformat_minor": 1
}
