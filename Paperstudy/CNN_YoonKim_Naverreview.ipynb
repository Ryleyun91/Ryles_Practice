{
 "cells": [
  {
   "cell_type": "code",
   "execution_count": 1,
   "id": "ca9c9c3a",
   "metadata": {},
   "outputs": [],
   "source": [
    "import pandas as pd\n",
    "import re\n",
    "from pykospacing import Spacing"
   ]
  },
  {
   "cell_type": "code",
   "execution_count": 2,
   "id": "997ec6b8",
   "metadata": {},
   "outputs": [
    {
     "data": {
      "text/plain": [
       "'/Users/ryleyun/Desktop/Github/Ryles_Practice/Paperstudy'"
      ]
     },
     "execution_count": 2,
     "metadata": {},
     "output_type": "execute_result"
    }
   ],
   "source": [
    "import os\n",
    "os.getcwd()"
   ]
  },
  {
   "cell_type": "markdown",
   "id": "dde719d7",
   "metadata": {},
   "source": [
    "train = open('../DATA/cnnpaper/ratings_train.txt', 'r')\n",
    "train = train.readlines()\n",
    "test = open('../DATA/cnnpaper/ratings_test.txt', 'r')\n",
    "test = test.readlines()"
   ]
  },
  {
   "cell_type": "markdown",
   "id": "60e233c1",
   "metadata": {},
   "source": [
    "train = [line.strip().split('\\t') for line in train]\n",
    "test = [line.strip().split('\\t') for line in test]"
   ]
  },
  {
   "cell_type": "markdown",
   "id": "cc937052",
   "metadata": {},
   "source": [
    "train_df = pd.DataFrame(train[1:], columns=train[0])\n",
    "test_df = pd.DataFrame(test[1:], columns=test[0])"
   ]
  },
  {
   "cell_type": "markdown",
   "id": "5a0a4a1e",
   "metadata": {},
   "source": [
    "spacing = Spacing()\n",
    "train_df['document'] = [spacing(str(sent)) for sent in train_df['document']]\n",
    "test_df['document'] = [spacing(str(sent)) for sent in test_df['document']]"
   ]
  },
  {
   "cell_type": "markdown",
   "id": "aa2d1659",
   "metadata": {},
   "source": [
    "train_df.to_csv('train_spacing.csv')\n",
    "test_df.to_csv('test_spacing.csv')"
   ]
  },
  {
   "cell_type": "code",
   "execution_count": 3,
   "id": "f80d702d",
   "metadata": {},
   "outputs": [],
   "source": [
    "train_df = pd.read_csv('../DATA/train_spacing.csv')\n",
    "test_df = pd.read_csv('../DATA/test_spacing.csv')"
   ]
  },
  {
   "cell_type": "code",
   "execution_count": 4,
   "id": "3cb10120",
   "metadata": {},
   "outputs": [],
   "source": [
    "from konlpy.tag import Mecab\n",
    "mecab = Mecab()"
   ]
  },
  {
   "cell_type": "code",
   "execution_count": 5,
   "id": "dd68a111",
   "metadata": {},
   "outputs": [
    {
     "name": "stdout",
     "output_type": "stream",
     "text": [
      "CPU times: user 12.8 s, sys: 171 ms, total: 13 s\n",
      "Wall time: 14.1 s\n"
     ]
    }
   ],
   "source": [
    "%%time\n",
    "def pos(x):\n",
    "    try:\n",
    "        text = ''\n",
    "        for word, pos in mecab.pos(str(x)):\n",
    "            if pos[0] not in ['J','I','E']:\n",
    "                if type(re.search(\"\\W+|[0-9]\", word))!=re.Match: \n",
    "                    # and len(word)!=1:\n",
    "                    text+=\" \"+word\n",
    "        return text.strip()\n",
    "    \n",
    "    except:\n",
    "        pass\n",
    "\n",
    "train_df[\"pos\"] = train_df[\"document\"].apply(pos)\n",
    "test_df[\"pos\"] = test_df[\"document\"].apply(pos)"
   ]
  },
  {
   "cell_type": "code",
   "execution_count": 6,
   "id": "0df6e6dc",
   "metadata": {},
   "outputs": [
    {
     "data": {
      "text/plain": [
       "46941"
      ]
     },
     "execution_count": 6,
     "metadata": {},
     "output_type": "execute_result"
    }
   ],
   "source": [
    "vocab_size = [] \n",
    "\n",
    "for line in train_df['pos']:\n",
    "    vocab_size.extend(str(line).split())\n",
    "len(set(vocab_size))"
   ]
  },
  {
   "cell_type": "code",
   "execution_count": 7,
   "id": "4061beeb",
   "metadata": {},
   "outputs": [
    {
     "data": {
      "text/plain": [
       "(array([3.0141e+04, 1.3184e+04, 3.5000e+03, 1.8090e+03, 1.2780e+03,\n",
       "        8.4000e+01, 3.0000e+00, 0.0000e+00, 0.0000e+00, 1.0000e+00]),\n",
       " array([  0. ,  10.5,  21. ,  31.5,  42. ,  52.5,  63. ,  73.5,  84. ,\n",
       "         94.5, 105. ]),\n",
       " <BarContainer object of 10 artists>)"
      ]
     },
     "execution_count": 7,
     "metadata": {},
     "output_type": "execute_result"
    },
    {
     "data": {
      "image/png": "[encoded data removed]",
      "text/plain": [
       "<Figure size 432x288 with 1 Axes>"
      ]
     },
     "metadata": {
      "needs_background": "light"
     },
     "output_type": "display_data"
    }
   ],
   "source": [
    "train_length = [len(str(line).split()) for line in train_df['pos']]\n",
    "test_length = [len(str(line).split()) for line in test_df['pos']]\n",
    "\n",
    "import matplotlib.pyplot as plt\n",
    "plt.hist(train_length)\n",
    "plt.hist(test_length)"
   ]
  },
  {
   "cell_type": "code",
   "execution_count": 14,
   "id": "7da27731",
   "metadata": {},
   "outputs": [],
   "source": [
    "# tokenizing\n",
    "from tensorflow.keras.preprocessing.text import Tokenizer\n",
    "tokenizer = Tokenizer(oov_token='<oov>')\n",
    "tokenizer.fit_on_texts(train_df['pos'])\n",
    "word_index = tokenizer.word_index\n",
    "\n",
    "# padding\n",
    "from tensorflow.keras.preprocessing.sequence import pad_sequences\n",
    "train_seq = tokenizer.texts_to_sequences(train_df['pos'])\n",
    "test_seq = tokenizer.texts_to_sequences(test_df['pos'])\n",
    "train_pad = pad_sequences(train_seq, maxlen=40, padding='pre', truncating='pre')\n",
    "test_pad = pad_sequences(test_seq, maxlen=40, padding='pre', truncating='pre')"
   ]
  },
  {
   "cell_type": "code",
   "execution_count": 15,
   "id": "6c3c1bab",
   "metadata": {},
   "outputs": [
    {
     "data": {
      "text/plain": [
       "(50000, 40)"
      ]
     },
     "execution_count": 15,
     "metadata": {},
     "output_type": "execute_result"
    }
   ],
   "source": [
    "test_pad.shape"
   ]
  },
  {
   "cell_type": "code",
   "execution_count": 41,
   "id": "0b65ae9d",
   "metadata": {},
   "outputs": [
    {
     "name": "stdout",
     "output_type": "stream",
     "text": [
      "Model: \"sequential_9\"\n",
      "_________________________________________________________________\n",
      "Layer (type)                 Output Shape              Param #   \n",
      "=================================================================\n",
      "embedding_9 (Embedding)      (None, 40, 20)            928480    \n",
      "_________________________________________________________________\n",
      "conv1d_16 (Conv1D)           (None, 40, 128)           7808      \n",
      "_________________________________________________________________\n",
      "max_pooling1d_12 (MaxPooling (None, 20, 128)           0         \n",
      "_________________________________________________________________\n",
      "conv1d_17 (Conv1D)           (None, 20, 256)           98560     \n",
      "_________________________________________________________________\n",
      "max_pooling1d_13 (MaxPooling (None, 10, 256)           0         \n",
      "_________________________________________________________________\n",
      "flatten_6 (Flatten)          (None, 2560)              0         \n",
      "_________________________________________________________________\n",
      "dense_36 (Dense)             (None, 512)               1311232   \n",
      "_________________________________________________________________\n",
      "dropout_43 (Dropout)         (None, 512)               0         \n",
      "_________________________________________________________________\n",
      "dense_37 (Dense)             (None, 256)               131328    \n",
      "_________________________________________________________________\n",
      "dropout_44 (Dropout)         (None, 256)               0         \n",
      "_________________________________________________________________\n",
      "dense_38 (Dense)             (None, 128)               32896     \n",
      "_________________________________________________________________\n",
      "dropout_45 (Dropout)         (None, 128)               0         \n",
      "_________________________________________________________________\n",
      "dense_39 (Dense)             (None, 64)                8256      \n",
      "_________________________________________________________________\n",
      "dropout_46 (Dropout)         (None, 64)                0         \n",
      "_________________________________________________________________\n",
      "dense_40 (Dense)             (None, 16)                1040      \n",
      "_________________________________________________________________\n",
      "dropout_47 (Dropout)         (None, 16)                0         \n",
      "_________________________________________________________________\n",
      "dense_41 (Dense)             (None, 1)                 17        \n",
      "=================================================================\n",
      "Total params: 2,519,617\n",
      "Trainable params: 2,519,617\n",
      "Non-trainable params: 0\n",
      "_________________________________________________________________\n"
     ]
    }
   ],
   "source": [
    "embedding_dim = 20\n",
    "max_length = 40\n",
    "vocab_size = len(set(word_index))+1\n",
    "\n",
    "from tensorflow.keras.models import Sequential\n",
    "from tensorflow.keras.layers import Dense, Embedding, GlobalAveragePooling1D, Flatten, Dropout\n",
    "from tensorflow.keras import layers, models\n",
    "\n",
    "model = Sequential()\n",
    "# Embedding layer? Input 값이 처음으로 들어오는 layer\n",
    "# vocab_size는 데이터 셋 내의 유니크 단어 수, embedding_dim은 몇 차원으로 줄일 것인지, input_length는 들어오는 문장의 최대 길이\n",
    "model.add(Embedding(vocab_size, embedding_dim, input_length=max_length))\n",
    "model.add(layers.Conv1D(128, 3, activation='relu', padding='Same'))\n",
    "# model.add(Dropout(0.5))\n",
    "model.add(layers.MaxPooling1D(2))\n",
    "model.add(layers.Conv1D(256, 3, activation='relu', padding='Same'))\n",
    "# model.add(Dropout(0.5))\n",
    "model.add(layers.MaxPooling1D(2))\n",
    "model.add(Flatten())\n",
    "model.add(Dense(512, activation='relu'))\n",
    "model.add(Dropout(0.5))\n",
    "model.add(Dense(256, activation='relu'))\n",
    "model.add(Dropout(0.5))\n",
    "model.add(Dense(128, activation='relu'))\n",
    "model.add(Dropout(0.5))\n",
    "model.add(Dense(64, activation='relu'))\n",
    "model.add(Dropout(0.5))\n",
    "model.add(Dense(16, activation='relu'))\n",
    "model.add(Dropout(0.5))\n",
    "model.add(Dense(1, activation='sigmoid'))\n",
    "\n",
    "model.summary()"
   ]
  },
  {
   "cell_type": "code",
   "execution_count": 42,
   "id": "9af39790",
   "metadata": {},
   "outputs": [
    {
     "name": "stdout",
     "output_type": "stream",
     "text": [
      "Epoch 1/3\n",
      "270/270 - 21s - loss: 0.6193 - accuracy: 0.6091 - val_loss: 0.3828 - val_accuracy: 0.8295\n",
      "Epoch 2/3\n",
      "270/270 - 19s - loss: 0.3817 - accuracy: 0.8429 - val_loss: 0.3443 - val_accuracy: 0.8469\n",
      "Epoch 3/3\n",
      "270/270 - 19s - loss: 0.3135 - accuracy: 0.8777 - val_loss: 0.3481 - val_accuracy: 0.8534\n"
     ]
    },
    {
     "data": {
      "text/plain": [
       "<tensorflow.python.keras.callbacks.History at 0x7fc0d26b9550>"
      ]
     },
     "execution_count": 42,
     "metadata": {},
     "output_type": "execute_result"
    }
   ],
   "source": [
    "model.compile(loss='binary_crossentropy', optimizer='nadam', metrics=['accuracy'])\n",
    "model.fit(train_pad, train_df['label'].astype('int32'), epochs=3, batch_size=500, validation_split=0.1, verbose=2)"
   ]
  },
  {
   "cell_type": "code",
   "execution_count": 43,
   "id": "4332b0b9",
   "metadata": {},
   "outputs": [],
   "source": [
    "pred = model.predict(test_pad)"
   ]
  },
  {
   "cell_type": "code",
   "execution_count": 44,
   "id": "07f89c82",
   "metadata": {},
   "outputs": [],
   "source": [
    "result = []\n",
    "for i in pred:\n",
    "    if i>=0.5:\n",
    "        result.append(1)\n",
    "    else:\n",
    "        result.append(0)"
   ]
  },
  {
   "cell_type": "code",
   "execution_count": 45,
   "id": "b61cfaff",
   "metadata": {},
   "outputs": [
    {
     "name": "stdout",
     "output_type": "stream",
     "text": [
      "84.882%\n"
     ]
    }
   ],
   "source": [
    "print(f\"{ round(sum(result==test_df['label'])/len(test_df)*100, 4) }%\")"
   ]
  },
  {
   "cell_type": "code",
   "execution_count": null,
   "id": "a068aa52",
   "metadata": {},
   "outputs": [],
   "source": []
  }
 ],
 "metadata": {
  "kernelspec": {
   "display_name": "Python 3 (ipykernel)",
   "language": "python",
   "name": "python3"
  },
  "language_info": {
   "codemirror_mode": {
    "name": "ipython",
    "version": 3
   },
   "file_extension": ".py",
   "mimetype": "text/x-python",
   "name": "python",
   "nbconvert_exporter": "python",
   "pygments_lexer": "ipython3",
   "version": "3.8.10"
  }
 },
 "nbformat": 4,
 "nbformat_minor": 5
}
