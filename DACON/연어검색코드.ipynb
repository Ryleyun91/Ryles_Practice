{
 "cells": [
  {
   "cell_type": "code",
   "execution_count": null,
   "id": "d02a232a",
   "metadata": {},
   "outputs": [],
   "source": [
    "search = \"\"\n",
    "while search != \"종료\":\n",
    "    search = input()\n",
    "    searching = []\n",
    "    print(f\"#{search}# 찾기를 시작합니다.\")\n",
    "    for text in target_text:\n",
    "        try:\n",
    "            if search in text:\n",
    "                if text.index(search) == 0:\n",
    "                    temp = text[text.index(search)] + \" \"+ text[text.index(search)+1]\n",
    "                elif text.index(search) == len(text)-1:\n",
    "                    temp = text[text.index(search)-1] + \" \" + text[text.index(search)]\n",
    "                else:\n",
    "                    temp = text[text.index(search)-1] + \" \" + text[text.index(search)] + \" \" + text[text.index(search)+1]\n",
    "                \n",
    "                searching.append(temp)\n",
    "                    \n",
    "            \n",
    "        except:\n",
    "            temp = \"텍스트를 찾지 못했습니다.\"\n",
    "            \n",
    "            searching.append(temp)\n",
    "    \n",
    "    print(f\"#{search}# 찾기가 종료되었습니다.\\n\")\n",
    "\n",
    "    from collections import Counter\n",
    "    res_count = Counter(searching).most_common(20)\n",
    "    print(res_count)\n",
    "    print(\"\\n\")\n",
    "\n",
    "print(\"검색이 종료되었습니다.\")"
   ]
  }
 ],
 "metadata": {
  "kernelspec": {
   "display_name": "Python 3 (ipykernel)",
   "language": "python",
   "name": "python3"
  },
  "language_info": {
   "codemirror_mode": {
    "name": "ipython",
    "version": 3
   },
   "file_extension": ".py",
   "mimetype": "text/x-python",
   "name": "python",
   "nbconvert_exporter": "python",
   "pygments_lexer": "ipython3",
   "version": "3.8.10"
  }
 },
 "nbformat": 4,
 "nbformat_minor": 5
}
