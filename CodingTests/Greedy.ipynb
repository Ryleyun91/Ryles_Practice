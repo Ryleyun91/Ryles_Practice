{
 "cells": [
  {
   "cell_type": "markdown",
   "id": "fdee04e2",
   "metadata": {},
   "source": [
    "# 연습문제"
   ]
  },
  {
   "cell_type": "markdown",
   "id": "bef70427",
   "metadata": {},
   "source": [
    "## 거스름돈"
   ]
  },
  {
   "cell_type": "code",
   "execution_count": 1,
   "id": "b9d0dcf2",
   "metadata": {},
   "outputs": [],
   "source": [
    "# 당신은 음식점의 계산을 도와주는 점원이다. 카운터에는 거스름돈으로 사용할 500원, 100원, 50원, 10원짜리 동전이 무한히 존재한다고 가정한다.\n",
    "# 손님에게 거슬러줘야 할 돈이 N원일 때 거슬러 줘야 할 동전의 최소 개수를 구하라. 단, 거슬러 줘야 할 돈 N은 항상 10의 배수이다."
   ]
  },
  {
   "cell_type": "code",
   "execution_count": 6,
   "id": "45e8928b",
   "metadata": {},
   "outputs": [
    {
     "name": "stdout",
     "output_type": "stream",
     "text": [
      "1260\n"
     ]
    },
    {
     "data": {
      "text/plain": [
       "6"
      ]
     },
     "execution_count": 6,
     "metadata": {},
     "output_type": "execute_result"
    }
   ],
   "source": [
    "# 개념\n",
    "\n",
    "N = 1260\n",
    "FH = N//500\n",
    "FHR = N%500\n",
    "OH = FHR//100\n",
    "OHR = FHR%100\n",
    "FT = OHR//50\n",
    "FTR = OHR%50\n",
    "T = FTR//10\n",
    "TR = FTR%10\n",
    "\n",
    "FH+OH+FT+T"
   ]
  },
  {
   "cell_type": "code",
   "execution_count": 7,
   "id": "624d1b90",
   "metadata": {},
   "outputs": [
    {
     "name": "stdout",
     "output_type": "stream",
     "text": [
      "6\n"
     ]
    }
   ],
   "source": [
    "# 풀이\n",
    "\n",
    "n = 1260\n",
    "count = 0\n",
    "\n",
    "coins = [500, 100, 50, 10]\n",
    "\n",
    "for coin in coins:\n",
    "    count += n//coin\n",
    "    n%= coin\n",
    "\n",
    "print(count)"
   ]
  },
  {
   "cell_type": "markdown",
   "id": "78764540",
   "metadata": {},
   "source": [
    "# 실전 문제"
   ]
  },
  {
   "cell_type": "markdown",
   "id": "d02b2467",
   "metadata": {},
   "source": [
    "## 큰 수의 법칙"
   ]
  },
  {
   "cell_type": "code",
   "execution_count": 8,
   "id": "5b45aef6",
   "metadata": {},
   "outputs": [],
   "source": [
    "# 다양한 수로 주어진 배열이 있을 때, 주어진 수들을 M번 더하여 가장 큰 수를 만드는 법칙.\n",
    "# 단, 배열의 특정한 인덱스에 해당하는 수가 연속으로 K번 나올 수 없음"
   ]
  },
  {
   "cell_type": "code",
   "execution_count": 14,
   "id": "2663f03f",
   "metadata": {},
   "outputs": [],
   "source": [
    "first = '5 8 3'.split()\n",
    "second = '2 4 5 4 6'.split()\n",
    "N = int(first[0])\n",
    "M = int(first[1])\n",
    "K = int(first[-1])\n",
    "numbers = [int(num) for num in second]\n",
    "numbers.sort()"
   ]
  },
  {
   "cell_type": "code",
   "execution_count": 26,
   "id": "32b1621b",
   "metadata": {},
   "outputs": [
    {
     "name": "stdout",
     "output_type": "stream",
     "text": [
      "1\n",
      "2\n",
      "3\n",
      "4\n",
      "5\n",
      "6\n",
      "7\n",
      "8\n"
     ]
    }
   ],
   "source": [
    "result = 0\n",
    "count = 0\n",
    "while count < 8:\n",
    "    for _ in range(K):\n",
    "        result += numbers[-1]\n",
    "        count+=1\n",
    "        print(count)\n",
    "    result += numbers[-2]\n",
    "    count+=1\n",
    "    print(count)"
   ]
  },
  {
   "cell_type": "markdown",
   "id": "dff27cd0",
   "metadata": {},
   "source": [
    "### 시간 줄이기"
   ]
  },
  {
   "cell_type": "code",
   "execution_count": 31,
   "id": "ab6497d2",
   "metadata": {},
   "outputs": [
    {
     "name": "stdout",
     "output_type": "stream",
     "text": [
      "5 8 3\n",
      "2 4 5 4 6\n",
      "46\n"
     ]
    }
   ],
   "source": [
    "n, m, k = map(int, input().split())\n",
    "data= list(map(int, input().split()))\n",
    "data.sort()\n",
    "\n",
    "first = data[-1]\n",
    "second = data[-2]\n",
    "\n",
    "# 가장 큰 수가 더해지는 횟수\n",
    "count = int(m/(k+1))*k\n",
    "count += m%(k+1)\n",
    "\n",
    "result = 0\n",
    "result += (count)*first\n",
    "result += (m-count)*second\n",
    "\n",
    "print(result)"
   ]
  },
  {
   "cell_type": "markdown",
   "id": "320af5b0",
   "metadata": {},
   "source": [
    "## 숫자 카드 게임"
   ]
  },
  {
   "cell_type": "code",
   "execution_count": 51,
   "id": "5cc27dd3",
   "metadata": {},
   "outputs": [],
   "source": [
    "# 주어지는 행렬에서 행별로 가장 작은 수를 찾은 후 그 수들 중 가장 큰 수를 찾는 문제"
   ]
  },
  {
   "cell_type": "code",
   "execution_count": 50,
   "id": "5f0e6480",
   "metadata": {},
   "outputs": [
    {
     "name": "stdout",
     "output_type": "stream",
     "text": [
      "2 4\n",
      "7 3 1 8\n",
      "3 3 3 4\n",
      "3\n"
     ]
    }
   ],
   "source": [
    "shape = list(map(int, input().split()))\n",
    "metrics = []\n",
    "for i in range(shape[0]):\n",
    "    metrics.append(list(map(int, input().split())))\n",
    "\n",
    "min_list = []\n",
    "for row in range(shape[0]):\n",
    "    min_list.append(min(metrics[row]))\n",
    "print(max(min_list))"
   ]
  },
  {
   "cell_type": "markdown",
   "id": "8468e85b",
   "metadata": {},
   "source": [
    "## 1이 될 때까지"
   ]
  },
  {
   "cell_type": "code",
   "execution_count": 59,
   "id": "00a03fbb",
   "metadata": {},
   "outputs": [
    {
     "name": "stdout",
     "output_type": "stream",
     "text": [
      "124 10\n",
      "8\n"
     ]
    }
   ],
   "source": [
    "NK = list(map(int, input().split()))\n",
    "N = NK[0]\n",
    "K = NK[-1]\n",
    "count = 0\n",
    "\n",
    "while N != 1:\n",
    "    if N%K != 0:\n",
    "        N -= 1\n",
    "        count+=1\n",
    "    else:\n",
    "        N = int(N/K)\n",
    "        count+=1\n",
    "print(count)"
   ]
  },
  {
   "cell_type": "markdown",
   "id": "0fa7315a",
   "metadata": {},
   "source": [
    "# 그리디 문제 "
   ]
  },
  {
   "cell_type": "markdown",
   "id": "163c171f",
   "metadata": {},
   "source": [
    "## 01 모험가 길드"
   ]
  },
  {
   "cell_type": "code",
   "execution_count": 176,
   "id": "95568832",
   "metadata": {},
   "outputs": [
    {
     "data": {
      "text/plain": [
       "[1, 2, 3, 3, 3, 4]"
      ]
     },
     "execution_count": 176,
     "metadata": {},
     "output_type": "execute_result"
    }
   ],
   "source": [
    "N = 5\n",
    "people = [2, 3, 1, 3, 3, 4]\n",
    "people.sort()\n",
    "people"
   ]
  },
  {
   "cell_type": "markdown",
   "id": "aa6f44b4",
   "metadata": {},
   "source": [
    "### 나의 풀이"
   ]
  },
  {
   "cell_type": "code",
   "execution_count": 174,
   "id": "508ec279",
   "metadata": {},
   "outputs": [
    {
     "data": {
      "text/plain": [
       "2"
      ]
     },
     "execution_count": 174,
     "metadata": {},
     "output_type": "execute_result"
    }
   ],
   "source": [
    "groups = []\n",
    "counts = 0\n",
    "\n",
    "while True:\n",
    "    if counts == N:\n",
    "        break\n",
    "    if people.count(people[0]) >= people[0]:\n",
    "        temp = []\n",
    "        for _ in range(people[0]):\n",
    "            temp.append(people[0])\n",
    "            people.pop(0)\n",
    "            counts += 1\n",
    "        groups.append(temp)\n",
    "    else:\n",
    "        people.pop(0)\n",
    "        counts += 1\n",
    "        \n",
    "len(groups)  "
   ]
  },
  {
   "cell_type": "markdown",
   "id": "a1d977f9",
   "metadata": {},
   "source": [
    "### 답지 "
   ]
  },
  {
   "cell_type": "code",
   "execution_count": 177,
   "id": "c28df789",
   "metadata": {},
   "outputs": [
    {
     "name": "stdout",
     "output_type": "stream",
     "text": [
      "2\n"
     ]
    }
   ],
   "source": [
    "result = 0\n",
    "count = 0 \n",
    "\n",
    "for i in people:\n",
    "    count += 1\n",
    "    if count >= i:\n",
    "        result += 1\n",
    "        count =0\n",
    "        \n",
    "print(result)"
   ]
  },
  {
   "cell_type": "markdown",
   "id": "479ff719",
   "metadata": {},
   "source": [
    "## 02 곱하기 혹은 더하기"
   ]
  },
  {
   "cell_type": "code",
   "execution_count": 203,
   "id": "11b1b8cf",
   "metadata": {},
   "outputs": [
    {
     "data": {
      "text/plain": [
       "217"
      ]
     },
     "execution_count": 203,
     "metadata": {},
     "output_type": "execute_result"
    }
   ],
   "source": [
    "number = '5617'\n",
    "math = int(number[0])\n",
    "\n",
    "for num in number[1:]:\n",
    "    if math == 0 or math == 1 or num == '0' or num == '1':\n",
    "        math = math + int(num)\n",
    "    else:\n",
    "        math = math * int(num)\n",
    "math    "
   ]
  },
  {
   "cell_type": "markdown",
   "id": "ef14739a",
   "metadata": {},
   "source": [
    "## 03 문자열 뒤집기"
   ]
  },
  {
   "cell_type": "code",
   "execution_count": 241,
   "id": "7baabadf",
   "metadata": {},
   "outputs": [],
   "source": [
    "s = '0001100'"
   ]
  },
  {
   "cell_type": "code",
   "execution_count": 242,
   "id": "b24dc4b1",
   "metadata": {},
   "outputs": [
    {
     "name": "stdout",
     "output_type": "stream",
     "text": [
      "1\n"
     ]
    }
   ],
   "source": [
    "list_0 = s.split(\"1\")\n",
    "num_0 = len(list_0)-list_0.count(\"\")\n",
    "list_1 = s.split(\"0\")\n",
    "num_1 = len(list_1)-list_1.count(\"\")\n",
    "print(min(num_0, num_1))"
   ]
  },
  {
   "cell_type": "code",
   "execution_count": 243,
   "id": "350e17ff",
   "metadata": {},
   "outputs": [],
   "source": [
    "a = [2,3,1]\n",
    "b = a.sort()"
   ]
  },
  {
   "cell_type": "markdown",
   "id": "ad109ba5",
   "metadata": {},
   "source": [
    "## 04 만들 수 없는 금액"
   ]
  },
  {
   "cell_type": "code",
   "execution_count": 12,
   "id": "2bbb2c2a",
   "metadata": {},
   "outputs": [
    {
     "data": {
      "text/plain": [
       "[1, 1, 2, 3, 9]"
      ]
     },
     "execution_count": 12,
     "metadata": {},
     "output_type": "execute_result"
    }
   ],
   "source": [
    "N = 5\n",
    "number = [3,2,1,1,9]\n",
    "number.sort()\n",
    "number"
   ]
  },
  {
   "cell_type": "code",
   "execution_count": 13,
   "id": "314cf6b2",
   "metadata": {},
   "outputs": [
    {
     "name": "stdout",
     "output_type": "stream",
     "text": [
      "1 1\n",
      "2 1\n",
      "3 2\n",
      "5 3\n",
      "8 9\n",
      "8\n"
     ]
    }
   ],
   "source": [
    "target = 1\n",
    "\n",
    "for x in number:\n",
    "    print(target, x)\n",
    "    if target < x:\n",
    "        break\n",
    "    target += x\n",
    "\n",
    "print(target)"
   ]
  },
  {
   "cell_type": "markdown",
   "id": "e8911790",
   "metadata": {},
   "source": [
    "## 05 볼링공 고르기"
   ]
  },
  {
   "cell_type": "code",
   "execution_count": 28,
   "id": "4f145c26",
   "metadata": {},
   "outputs": [
    {
     "name": "stdout",
     "output_type": "stream",
     "text": [
      "8 5\n",
      "1 5 4 3 2 4 5 2\n"
     ]
    },
    {
     "data": {
      "text/plain": [
       "25"
      ]
     },
     "execution_count": 28,
     "metadata": {},
     "output_type": "execute_result"
    }
   ],
   "source": [
    "N, M = map(int, input().split())\n",
    "weight = [int(i) for i in input().split()]\n",
    "\n",
    "from itertools import combinations\n",
    "total = list(combinations(weight, 2))\n",
    "\n",
    "for idx, (x, y) in enumerate(total):\n",
    "    if x==y:\n",
    "        total.pop(idx)\n",
    "len(total)"
   ]
  },
  {
   "cell_type": "markdown",
   "id": "845a9dbc",
   "metadata": {},
   "source": [
    "### combination을 쓰지 못 한다면?"
   ]
  },
  {
   "cell_type": "code",
   "execution_count": 29,
   "id": "2d0750df",
   "metadata": {},
   "outputs": [
    {
     "name": "stdout",
     "output_type": "stream",
     "text": [
      "5 3\n",
      "1 3 2 3 2\n",
      "8\n"
     ]
    }
   ],
   "source": [
    "N, M = map(int, input().split())\n",
    "weight = [int(i) for i in input().split()]\n",
    "\n",
    "# 1부터 10까지의 무게를 담을 수 있는 리스트\n",
    "array = [0]*11\n",
    "\n",
    "for x in weight:\n",
    "    # 각 무게에 해당하는 볼링공의 개수 카운트\n",
    "    array[x] += 1\n",
    "    \n",
    "result = 0\n",
    "\n",
    "# 1부터 m까지의 각 무게에 대하여 처리\n",
    "for i in range(1, M+1):\n",
    "    N -= array[i]  # 무게가 i인 볼링공의 개수(A가 선택할 수 있는 개수) 제외\n",
    "    result += array[i] * N  # B가 선택하는 경우의 수와 곱하기\n",
    "    \n",
    "print(result)"
   ]
  },
  {
   "cell_type": "markdown",
   "id": "af838170",
   "metadata": {},
   "source": [
    "## 06 무지의 먹방 라이브"
   ]
  },
  {
   "cell_type": "code",
   "execution_count": 84,
   "id": "7e996e86",
   "metadata": {},
   "outputs": [
    {
     "name": "stdout",
     "output_type": "stream",
     "text": [
      "1\n"
     ]
    }
   ],
   "source": [
    "original_food_times = [3,1,2]\n",
    "food_times = original_food_times.copy()\n",
    "k = 5\n",
    "count = 0\n",
    "\n",
    "if k >= sum(food_times):\n",
    "    print(-1)\n",
    "    \n",
    "else:\n",
    "    for i in range(k+1):\n",
    "        if food_times[i%len(food_times)] > 0:\n",
    "            food_times[i%len(food_times)] -= 1\n",
    "        else:\n",
    "            count+=1\n",
    "    food_times[i%len(food_times)] += 1\n",
    "    print((i+count)%len(food_times)+1)"
   ]
  },
  {
   "cell_type": "code",
   "execution_count": 85,
   "id": "6df9c6c3",
   "metadata": {},
   "outputs": [
    {
     "data": {
      "text/plain": [
       "[3, 1, 2]"
      ]
     },
     "execution_count": 85,
     "metadata": {},
     "output_type": "execute_result"
    }
   ],
   "source": [
    "original_food_times"
   ]
  },
  {
   "cell_type": "markdown",
   "id": "a440dc8a",
   "metadata": {},
   "source": [
    "### heapq를 활용한 방법"
   ]
  },
  {
   "cell_type": "code",
   "execution_count": 90,
   "id": "b0c4f0dc",
   "metadata": {},
   "outputs": [
    {
     "data": {
      "text/plain": [
       "1"
      ]
     },
     "execution_count": 90,
     "metadata": {},
     "output_type": "execute_result"
    }
   ],
   "source": [
    "import heapq\n",
    "\n",
    "def solution(food_times, k):\n",
    "    # 전체 음식을 먹는 시간보다 k가 크거나 같다면 -1\n",
    "    if sum(food_times) <= k:\n",
    "        return -1\n",
    "    \n",
    "    # 시간이 작은 음식부터 빼야 하므로 우선순위 큐 사용\n",
    "    q = []\n",
    "    for i in range(len(food_times)):\n",
    "        # (음식 시간, 음식 번호) 형태로 우선순위 큐에 삽입\n",
    "        heapq.heappush(q, (food_times[i], i+1))\n",
    "        \n",
    "    sum_value = 0  # 먹기 위해 사용한 시간\n",
    "    previous = 0  # 직전에 다 먹은 음식 시간\n",
    "    length = len(food_times) # 남은 음식 개수\n",
    "    \n",
    "    # sum_value + (현재의 음식 시간 - 이전 음식 시간) * 현재 음식 개수와 k 비교\n",
    "    while sum_value + ((q[0][0] - previous) * length) <= k:\n",
    "        now = heapq.heappop(q)[0]\n",
    "        sum_value += (now - previous) * length\n",
    "        length -= 1 # 다 먹은 음식 제외\n",
    "        previous = now # 이전 음식 시간 재설정\n",
    "        \n",
    "    # 남은 음식 중에서 몇 번째 음식인지 확인하여 출력\n",
    "    result = sorted(q, key = lambda x: x[1]) # 음식의 번호 기준으로 정렬\n",
    "    return result[(k-sum_value) % length][1]\n",
    "\n",
    "solution(original_food_times, k)"
   ]
  }
 ],
 "metadata": {
  "kernelspec": {
   "display_name": "Python 3 (ipykernel)",
   "language": "python",
   "name": "python3"
  },
  "language_info": {
   "codemirror_mode": {
    "name": "ipython",
    "version": 3
   },
   "file_extension": ".py",
   "mimetype": "text/x-python",
   "name": "python",
   "nbconvert_exporter": "python",
   "pygments_lexer": "ipython3",
   "version": "3.8.10"
  }
 },
 "nbformat": 4,
 "nbformat_minor": 5
}
