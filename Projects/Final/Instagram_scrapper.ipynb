{
 "cells": [
  {
   "cell_type": "code",
   "execution_count": null,
   "id": "9478b079",
   "metadata": {},
   "outputs": [],
   "source": [
    "import pandas as pd\n",
    "data = pd.read_csv('./HASHTAGS.csv')\n",
    "keywords = list(data['keywords'])"
   ]
  },
  {
   "cell_type": "code",
   "execution_count": null,
   "id": "406760a0",
   "metadata": {},
   "outputs": [],
   "source": [
    "import os\n",
    "os.getcwd()"
   ]
  },
  {
   "cell_type": "code",
   "execution_count": null,
   "id": "41e6eea3",
   "metadata": {},
   "outputs": [],
   "source": [
    "os.chdir('../../DATA/insta')"
   ]
  },
  {
   "cell_type": "code",
   "execution_count": null,
   "id": "9c5bbeab",
   "metadata": {},
   "outputs": [],
   "source": [
    "!instagram-scraper 간식,간식그램,간식스타그램,감성여행,강아지,강아지카시트,거울샷,게이밍룸,게이밍장비,게임룸 --tag -u ryle_second -p wkrwjs1684! --maximum 1000 --media-metadata"
   ]
  },
  {
   "cell_type": "code",
   "execution_count": null,
   "id": "0428eb1f",
   "metadata": {},
   "outputs": [],
   "source": [
    "!instagram-scraper 고양이,공간분리,공항,기념일,꿀맛,꿈의여행,남친스타그램,내방꾸미기,냠냠쩝쩝,냥이 --tag -u inscrwtest92 -p rlaalsrkd0703! --maximum 1000 --media-metadata"
   ]
  },
  {
   "cell_type": "code",
   "execution_count": null,
   "id": "a66497af",
   "metadata": {},
   "outputs": [],
   "source": [
    "!instagram-scraper 간식,간식그램,간식스타그램,감성여행,강아지,강아지카시트,거울샷,게이밍룸,게이밍장비,게임룸 --tag -u ryle_second -p wkrwjs1684! --maximum 1000 --media-metadata"
   ]
  },
  {
   "cell_type": "code",
   "execution_count": null,
   "id": "bb96a341",
   "metadata": {},
   "outputs": [],
   "source": [
    "!instagram-scraper 네일아트,눈썹문신,눈썹염색,눈화장,달달,댕댕이,데이트코디,데일리,데일리그램,데일리룩 --tag -u inscrwtest92 -p rlaalsrkd0703! --maximum 1000 --media-metadata"
   ]
  },
  {
   "cell_type": "code",
   "execution_count": null,
   "id": "5c0f18a2",
   "metadata": {},
   "outputs": [],
   "source": [
    "!instagram-scraper 데일리룩코디,등산,디저트,디퓨져,딸,떠나고싶다,떠나자,뜨개질,럽스타그램,맘마 --tag -u ryle_second -p wkrwjs1684! --maximum 1000 --media-metadata"
   ]
  },
  {
   "cell_type": "code",
   "execution_count": null,
   "id": "ba4de9be",
   "metadata": {},
   "outputs": [],
   "source": [
    "!instagram-scraper 맘마타임,맘소통,맘스타그램,맛스타그램,맛있다그램,맛있어,맛집그램,맛집스타그램,맛집추천,먹방 --tag -u inscrwtest92 -p rlaalsrkd0703! --maximum 1000 --media-metadata"
   ]
  },
  {
   "cell_type": "code",
   "execution_count": null,
   "id": "4f8957d0",
   "metadata": {},
   "outputs": [],
   "source": [
    "!instagram-scraper 먹스타그램,멍뭉이,반려견,반려동물,반려묘,반신욕,방꾸미기,방인테리어,백종원요리법,베이비그램 --tag -u ryle_second -p wkrwjs1684! --maximum 1000 --media-metadata"
   ]
  },
  {
   "cell_type": "code",
   "execution_count": null,
   "id": "eef4e383",
   "metadata": {},
   "outputs": [],
   "source": [
    "!instagram-scraper 뷰티,뷰티꿀팁,비행스타그램,사랑,사랑그램,사랑꾼,사랑하자,사랑해,산책,산책그램 --tag -u inscrwtest92 -p rlaalsrkd0703! --maximum 1000 --media-metadata"
   ]
  },
  {
   "cell_type": "code",
   "execution_count": null,
   "id": "96369312",
   "metadata": {},
   "outputs": [],
   "source": [
    "!instagram-scraper 셀기꾼,셀스타그램,셀카,셀피,속눈썹연장,쇼핑스타그램,숙면요가,숙면운동,스드메,스몰웨딩 --tag -u ryle_second -p wkrwjs1684! --maximum 1000 --media-metadata"
   ]
  },
  {
   "cell_type": "code",
   "execution_count": null,
   "id": "3dd30c78",
   "metadata": {},
   "outputs": [],
   "source": [
    "!instagram-scraper 신상룩,신혼,아가스타그램,아기그램,아들,아빠스타그램,아주미,아주미그램,애완,애완동물 --tag -u inscrwtest92 -p rlaalsrkd0703! --maximum 1000 --media-metadata"
   ]
  },
  {
   "cell_type": "code",
   "execution_count": null,
   "id": "4e718e22",
   "metadata": {},
   "outputs": [],
   "source": [
    "!instagram-scraper 야식,야식스타그램,야식추천,얼스타그램,여친스타그램,여행기록,여행사진,여행스타그램,여행앓이,여행에미치다 --tag -u ryle_second -p wkrwjs1684! --maximum 1000 --media-metadata"
   ]
  },
  {
   "cell_type": "code",
   "execution_count": null,
   "id": "f7a8bcb5",
   "metadata": {},
   "outputs": [],
   "source": [
    "!instagram-scraper 여행일기,여행중,여행중독,여행후기,연애중,연인,오늘뭐먹지,오늘뭐입지,오늘의훈남,오늘의훈녀 --tag -u inscrwtest92 -p rlaalsrkd0703! --maximum 1000 --media-metadata"
   ]
  },
  {
   "cell_type": "code",
   "execution_count": null,
   "id": "c23c9d7b",
   "metadata": {},
   "outputs": [],
   "source": [
    "!instagram-scraper 오늘코디,오버사이즈,오오티디,오오티디룩,요리법,요리스타그램,울애기,울지마,육아,육아그램 --tag -u ryle_second -p wkrwjs1684! --maximum 1000 --media-metadata"
   ]
  },
  {
   "cell_type": "code",
   "execution_count": null,
   "id": "6b09b52d",
   "metadata": {},
   "outputs": [],
   "source": [
    "!instagram-scraper 육아기록,육아는장비빨,육아일기,인스타일상,일기,일상,백신,일상기록,일상룩,일상스타그램 --tag -u inscrwtest92 -p rlaalsrkd0703! --maximum 1000 --media-metadata"
   ]
  },
  {
   "cell_type": "code",
   "execution_count": null,
   "id": "37951b5a",
   "metadata": {},
   "outputs": [],
   "source": [
    "!instagram-scraper 일상을여행처럼,자녀야외활동,자동차극장,자동차악세사리,전신샷,존맛탱,집데이트,집사,집사의일상,코로나 --tag -u ryle_second -p wkrwjs1684! --maximum 1000 --media-metadata"
   ]
  },
  {
   "cell_type": "code",
   "execution_count": null,
   "id": "fcc2b60d",
   "metadata": {},
   "outputs": [],
   "source": [
    "!instagram-scraper 초보엄마,추억스타그램,추억팔이,출근,취미,카페스타그램,카페추천,카페투어,캔들만들기,커플샷 --tag -u inscrwtest92 -p rlaalsrkd0703! --maximum 1000 --media-metadata"
   ]
  },
  {
   "cell_type": "code",
   "execution_count": null,
   "id": "e41d655d",
   "metadata": {},
   "outputs": [],
   "source": [
    "!instagram-scraper 커피,컬러링북,코덕,코로나결혼,코로나웨딩,코스메틱,퀼트,털없는동물,퇴근,패션 --tag -u ryle_second -p wkrwjs1684! --maximum 1000 --media-metadata"
   ]
  },
  {
   "cell_type": "code",
   "execution_count": null,
   "id": "91ae52ff",
   "metadata": {},
   "outputs": [],
   "source": [
    "!instagram-scraper 풍경,피부관리,핑크빛,하루,하루일과,핵존맛,향초만들기,허니문,호캉스,혼밥--tag -u inscrwtest92 -p rlaalsrkd0703! --maximum 1000 --media-metadata"
   ]
  },
  {
   "cell_type": "code",
   "execution_count": null,
   "id": "35eeca22",
   "metadata": {},
   "outputs": [],
   "source": [
    "!instagram-scraper 혼술,홈메이드화장품,화장품,화장품덕후,휴가,휴가중,힐링,daily,JMT,OOTD --tag -u ryle_second -p wkrwjs1684! --maximum 1000 --media-metadata"
   ]
  }
 ],
 "metadata": {
  "kernelspec": {
   "display_name": "Python 3 (ipykernel)",
   "language": "python",
   "name": "python3"
  },
  "language_info": {
   "codemirror_mode": {
    "name": "ipython",
    "version": 3
   },
   "file_extension": ".py",
   "mimetype": "text/x-python",
   "name": "python",
   "nbconvert_exporter": "python",
   "pygments_lexer": "ipython3",
   "version": "3.8.10"
  }
 },
 "nbformat": 4,
 "nbformat_minor": 5
}
