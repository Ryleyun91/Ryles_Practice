{
 "cells": [
  {
   "cell_type": "code",
   "execution_count": 7,
   "id": "74ec68f7",
   "metadata": {},
   "outputs": [],
   "source": [
    "import numpy as np\n",
    "import tensorflow as tf\n",
    "from tensorflow import keras\n",
    "from tensorflow.keras import layers"
   ]
  },
  {
   "cell_type": "code",
   "execution_count": 8,
   "id": "595a88ce",
   "metadata": {},
   "outputs": [],
   "source": [
    "tf.random.set_seed(42)"
   ]
  },
  {
   "cell_type": "code",
   "execution_count": 9,
   "id": "da7bd1f9",
   "metadata": {},
   "outputs": [],
   "source": [
    "h = [1, 0, 0, 0]\n",
    "e = [0, 1, 0, 0]\n",
    "l = [0, 0, 1, 0]\n",
    "o = [0, 0, 0, 1]"
   ]
  },
  {
   "cell_type": "code",
   "execution_count": 10,
   "id": "131bd10c",
   "metadata": {},
   "outputs": [
    {
     "data": {
      "text/plain": [
       "array([[[1., 0., 0., 0.]]], dtype=float32)"
      ]
     },
     "execution_count": 10,
     "metadata": {},
     "output_type": "execute_result"
    }
   ],
   "source": [
    "x_data = np.array([[h]], dtype=np.float32)\n",
    "x_data"
   ]
  },
  {
   "cell_type": "code",
   "execution_count": 11,
   "id": "c5dce336",
   "metadata": {},
   "outputs": [
    {
     "data": {
      "text/plain": [
       "(1, 1, 4)"
      ]
     },
     "execution_count": 11,
     "metadata": {},
     "output_type": "execute_result"
    }
   ],
   "source": [
    "# sample 수(배치), token 수, token의 임베딩\n",
    "x_data.shape"
   ]
  },
  {
   "cell_type": "code",
   "execution_count": 12,
   "id": "f2741601",
   "metadata": {},
   "outputs": [
    {
     "name": "stdout",
     "output_type": "stream",
     "text": [
      "x_data : [[[1. 0. 0. 0.]]] \t shape : (1, 1, 4)\n",
      "output : [[[ 0.31773362 -0.11744198]]] \t shape : (1, 1, 2)\n",
      "states: [[ 0.31773362 -0.11744198]] \t shape: (1, 2)\n"
     ]
    },
    {
     "name": "stderr",
     "output_type": "stream",
     "text": [
      "2021-07-29 09:58:29.049470: I tensorflow/core/platform/cpu_feature_guard.cc:142] This TensorFlow binary is optimized with oneAPI Deep Neural Network Library (oneDNN) to use the following CPU instructions in performance-critical operations:  AVX2 FMA\n",
      "To enable them in other operations, rebuild TensorFlow with the appropriate compiler flags.\n"
     ]
    }
   ],
   "source": [
    "hidden_size = 2\n",
    "\n",
    "# 마지막 레이어의 units가 2니까 output은 2\n",
    "cell = layers.SimpleRNNCell(units = hidden_size)\n",
    "\n",
    "# return_sequences: bool 형태로 T면 output 전체를 출력하는 것이고, F면 마지막 output만 출력\n",
    "# return_state: bool 형태로 output에 더해 마지막 상태도 반환할지 결정하는 것\n",
    "rnn = layers.RNN(cell, return_sequences = True, return_state = True)\n",
    "output, states = rnn(x_data)\n",
    "\n",
    "print('x_data : {} \\t shape : {}'.format(x_data, x_data.shape))\n",
    "print('output : {} \\t shape : {}'.format(output, output.shape))\n",
    "print('states: {} \\t shape: {}'.format(states, states.shape))"
   ]
  },
  {
   "cell_type": "code",
   "execution_count": 14,
   "id": "091dcc99",
   "metadata": {},
   "outputs": [
    {
     "name": "stdout",
     "output_type": "stream",
     "text": [
      "x_data : [[[1. 0. 0. 0.]]] \t shape : (1, 1, 4)\n",
      "output : [[[ 0.54152584 -0.00444528]]] \t shape : (1, 1, 2)\n",
      "states: [[ 0.54152584 -0.00444528]] \t shape: (1, 2)\n"
     ]
    }
   ],
   "source": [
    "# cell 과 rnn 합치기\n",
    "\n",
    "rnn = layers.SimpleRNN(units=hidden_size, return_sequences = True, return_state = True)\n",
    "\n",
    "output, states = rnn(x_data)\n",
    "\n",
    "print('x_data : {} \\t shape : {}'.format(x_data, x_data.shape))\n",
    "print('output : {} \\t shape : {}'.format(output, output.shape))\n",
    "print('states: {} \\t shape: {}'.format(states, states.shape))"
   ]
  },
  {
   "cell_type": "code",
   "execution_count": 19,
   "id": "fcd1a897",
   "metadata": {},
   "outputs": [],
   "source": [
    "### 여러개 넣어보기\n",
    "### shape를 이해하자!"
   ]
  },
  {
   "cell_type": "code",
   "execution_count": 15,
   "id": "511cf572",
   "metadata": {},
   "outputs": [],
   "source": [
    "x_data = np.array([[h,e,l,l,o]], dtype=np.float32)"
   ]
  },
  {
   "cell_type": "code",
   "execution_count": 16,
   "id": "8e3a450f",
   "metadata": {},
   "outputs": [
    {
     "data": {
      "text/plain": [
       "(1, 5, 4)"
      ]
     },
     "execution_count": 16,
     "metadata": {},
     "output_type": "execute_result"
    }
   ],
   "source": [
    "x_data.shape"
   ]
  },
  {
   "cell_type": "code",
   "execution_count": 17,
   "id": "aeaef113",
   "metadata": {},
   "outputs": [
    {
     "name": "stdout",
     "output_type": "stream",
     "text": [
      "x_data : [[[1. 0. 0. 0.]\n",
      "  [0. 1. 0. 0.]\n",
      "  [0. 0. 1. 0.]\n",
      "  [0. 0. 1. 0.]\n",
      "  [0. 0. 0. 1.]]] \t shape : (1, 5, 4)\n",
      "output : [[[-0.12818007  0.04968958]\n",
      "  [-0.12667213 -0.66418386]\n",
      "  [ 0.13962443  0.6124754 ]\n",
      "  [-0.57845664 -0.30636993]\n",
      "  [ 0.4918073   0.28548098]]] \t shape : (1, 5, 2)\n",
      "states: [[0.4918073  0.28548098]] \t shape: (1, 2)\n"
     ]
    }
   ],
   "source": [
    "# cell 과 rnn 합치기\n",
    "\n",
    "rnn = layers.SimpleRNN(units=hidden_size, return_sequences = True, return_state = True)\n",
    "\n",
    "output, states = rnn(x_data)\n",
    "\n",
    "print('x_data : {} \\t shape : {}'.format(x_data, x_data.shape))\n",
    "print('output : {} \\t shape : {}'.format(output, output.shape))\n",
    "print('states: {} \\t shape: {}'.format(states, states.shape))"
   ]
  },
  {
   "cell_type": "code",
   "execution_count": 20,
   "id": "a554779b",
   "metadata": {},
   "outputs": [],
   "source": [
    "### batch 사이즈 바꿔보기\n",
    "\n",
    "x_data = np.array([[h, e, l, l, o], [e, o, l, l, l], [l, l, e, e, l]], dtype=np.float32)"
   ]
  },
  {
   "cell_type": "code",
   "execution_count": 22,
   "id": "f40d1a88",
   "metadata": {},
   "outputs": [
    {
     "name": "stdout",
     "output_type": "stream",
     "text": [
      "x_data : [[[1. 0. 0. 0.]\n",
      "  [0. 1. 0. 0.]\n",
      "  [0. 0. 1. 0.]\n",
      "  [0. 0. 1. 0.]\n",
      "  [0. 0. 0. 1.]]\n",
      "\n",
      " [[0. 1. 0. 0.]\n",
      "  [0. 0. 0. 1.]\n",
      "  [0. 0. 1. 0.]\n",
      "  [0. 0. 1. 0.]\n",
      "  [0. 0. 1. 0.]]\n",
      "\n",
      " [[0. 0. 1. 0.]\n",
      "  [0. 0. 1. 0.]\n",
      "  [0. 1. 0. 0.]\n",
      "  [0. 1. 0. 0.]\n",
      "  [0. 0. 1. 0.]]] \t shape : (3, 5, 4)\n",
      "output : [[[-0.5304687   0.57137597]\n",
      "  [ 0.87748414  0.40262657]\n",
      "  [-0.15409182  0.9395285 ]\n",
      "  [ 0.764736    0.9411049 ]\n",
      "  [-0.5227913   0.7928031 ]]\n",
      "\n",
      " [[ 0.5604558   0.15501074]\n",
      "  [-0.63670427  0.2777531 ]\n",
      "  [ 0.81426847  0.73489136]\n",
      "  [ 0.0509788   0.9641684 ]\n",
      "  [ 0.68349284  0.95287776]]\n",
      "\n",
      " [[ 0.41863734  0.7525188 ]\n",
      "  [ 0.3901993   0.9507177 ]\n",
      "  [ 0.6133735   0.8276926 ]\n",
      "  [ 0.42978778  0.8248128 ]\n",
      "  [ 0.40924856  0.9569795 ]]] \t shape : (3, 5, 2)\n",
      "states: [[-0.5227913   0.7928031 ]\n",
      " [ 0.68349284  0.95287776]\n",
      " [ 0.40924856  0.9569795 ]] \t shape: (3, 2)\n"
     ]
    }
   ],
   "source": [
    "rnn = layers.SimpleRNN(units=hidden_size, return_sequences = True, return_state = True)\n",
    "\n",
    "output, states = rnn(x_data)\n",
    "\n",
    "print('x_data : {} \\t shape : {}'.format(x_data, x_data.shape))\n",
    "print('output : {} \\t shape : {}'.format(output, output.shape))\n",
    "print('states: {} \\t shape: {}'.format(states, states.shape))"
   ]
  },
  {
   "cell_type": "code",
   "execution_count": 24,
   "id": "8d971912",
   "metadata": {},
   "outputs": [],
   "source": [
    "# 한글도 해보자\n",
    "\n",
    "idx2char = ['토', '마', '를', '먹', '자']\n",
    "x_data = [[0, 0, 1, 2, 4, 3]] # 토 토 마 를 자 먹\n",
    "y_data = [[0, 1, 0, 2, 3, 4]] # 토 마 토 를 먹 자\n",
    "\n",
    "input_dim = 5\n",
    "sequence_len = 6\n",
    "learning_rate = 0.1\n",
    "\n",
    "# onehot\n",
    "x_one_hot = tf.keras.utils.to_categorical(x_data, num_classes=input_dim)\n",
    "y_one_hot = tf.keras.utils.to_categorical(y_data, num_classes=input_dim)"
   ]
  },
  {
   "cell_type": "code",
   "execution_count": 30,
   "id": "ecaee314",
   "metadata": {},
   "outputs": [],
   "source": [
    "from tensorflow.keras.models import Model\n",
    "\n",
    "model = tf.keras.Sequential()\n",
    "cell = layers.SimpleRNNCell(units=input_dim, input_shape=(sequence_len, input_dim))\n",
    "\n",
    "model.add(layers.RNN(cell=cell, return_sequences=True, return_state=False, input_shape=(sequence_len, input_dim)))\n",
    "=\n",
    "# 모든 타임 스텝에서 출력을 Dense 층에 적용하는 역할을 한다. 쉽게 말해 매 스텝마다 FC가 연결된 것처럼 이해할 수 있다. 각 타임 스텝을 별개의 샘플처럼 다루도록 입력의 크기를 바꾸어 이를 효과적으로 수행한다. \n",
    "model.add(layers.TimeDistributed(layers.Dense(units = input_dim, activation='softmax')))\n",
    "\n",
    "model.compile(loss='categorical_crossentropy', optimizer=tf.keras.optimizers.Adam(learning_rate=learning_rate), metrics=['acc'])"
   ]
  },
  {
   "cell_type": "code",
   "execution_count": 33,
   "id": "9b51394b",
   "metadata": {},
   "outputs": [
    {
     "name": "stdout",
     "output_type": "stream",
     "text": [
      "Model: \"sequential_5\"\n",
      "_________________________________________________________________\n",
      "Layer (type)                 Output Shape              Param #   \n",
      "=================================================================\n",
      "rnn_3 (RNN)                  (None, 6, 5)              55        \n",
      "_________________________________________________________________\n",
      "time_distributed_1 (TimeDist (None, 6, 5)              30        \n",
      "=================================================================\n",
      "Total params: 85\n",
      "Trainable params: 85\n",
      "Non-trainable params: 0\n",
      "_________________________________________________________________\n",
      "Epoch 1/10\n",
      "1/1 [==============================] - 0s 2ms/step - loss: 1.2780 - acc: 0.5000\n",
      "Epoch 2/10\n",
      "1/1 [==============================] - 0s 3ms/step - loss: 1.0415 - acc: 1.0000\n",
      "Epoch 3/10\n",
      "1/1 [==============================] - 0s 2ms/step - loss: 0.8512 - acc: 0.8333\n",
      "Epoch 4/10\n",
      "1/1 [==============================] - 0s 3ms/step - loss: 0.6905 - acc: 0.8333\n",
      "Epoch 5/10\n",
      "1/1 [==============================] - 0s 2ms/step - loss: 0.5457 - acc: 1.0000\n",
      "Epoch 6/10\n",
      "1/1 [==============================] - 0s 2ms/step - loss: 0.4293 - acc: 1.0000\n",
      "Epoch 7/10\n",
      "1/1 [==============================] - 0s 4ms/step - loss: 0.3337 - acc: 1.0000\n",
      "Epoch 8/10\n",
      "1/1 [==============================] - 0s 3ms/step - loss: 0.2534 - acc: 1.0000\n",
      "Epoch 9/10\n",
      "1/1 [==============================] - 0s 2ms/step - loss: 0.1924 - acc: 1.0000\n",
      "Epoch 10/10\n",
      "1/1 [==============================] - 0s 2ms/step - loss: 0.1511 - acc: 1.0000\n"
     ]
    },
    {
     "data": {
      "text/plain": [
       "<tensorflow.python.keras.callbacks.History at 0x7fb541d166a0>"
      ]
     },
     "execution_count": 33,
     "metadata": {},
     "output_type": "execute_result"
    }
   ],
   "source": [
    "model.summary()\n",
    "model.fit(x_one_hot, y_one_hot, epochs=10)"
   ]
  },
  {
   "cell_type": "code",
   "execution_count": 39,
   "id": "e3dd7a2c",
   "metadata": {},
   "outputs": [
    {
     "name": "stdout",
     "output_type": "stream",
     "text": [
      "['토', '마', '토', '를', '먹', '자']\n"
     ]
    }
   ],
   "source": [
    "for i, word in enumerate(pred):\n",
    "    print([idx2char[c] for c in np.argmax(word, axis=1)])"
   ]
  },
  {
   "cell_type": "markdown",
   "id": "1bc642bb",
   "metadata": {},
   "source": [
    "## imdb"
   ]
  },
  {
   "cell_type": "code",
   "execution_count": 41,
   "id": "62f9457a",
   "metadata": {},
   "outputs": [],
   "source": [
    "import tensorflow as tf\n",
    "import tensorflow_datasets as tfds\n",
    "\n",
    "imdb, info = tfds.load(\"imdb_reviews\", with_info=True, as_supervised=True)"
   ]
  },
  {
   "cell_type": "code",
   "execution_count": 42,
   "id": "5ebe943d",
   "metadata": {},
   "outputs": [],
   "source": [
    "import numpy as np\n",
    "\n",
    "train_data, test_data = imdb['train'], imdb['test']\n",
    "training_sentences = []\n",
    "training_labels = []\n",
    "\n",
    "testing_sentences = []\n",
    "testing_labels= []\n",
    "\n",
    "# numpy array로 바꾼 후 utf-8로 디코딩\n",
    "for s, l in train_data:\n",
    "    training_sentences.append(s.numpy().decode('utf8'))\n",
    "    training_labels.append(l.numpy())\n",
    "\n",
    "for s, l in test_data:\n",
    "    testing_sentences.append(s.numpy().decode('utf8'))\n",
    "    testing_labels.append(l.numpy())"
   ]
  },
  {
   "cell_type": "code",
   "execution_count": 43,
   "id": "68443120",
   "metadata": {},
   "outputs": [],
   "source": [
    "training_labels = np.array(training_labels)\n",
    "testing_labels = np.array(testing_labels)"
   ]
  },
  {
   "cell_type": "code",
   "execution_count": 58,
   "id": "d571fb00",
   "metadata": {},
   "outputs": [],
   "source": [
    "vocab_size = 10000\n",
    "embedding_dim = 200\n",
    "max_length = 120\n",
    "trunc_type = 'post'\n",
    "oov_tok = '<oov>'\n",
    "\n",
    "from tensorflow.keras.preprocessing.text import Tokenizer\n",
    "from tensorflow.keras.preprocessing.sequence import pad_sequences\n",
    "\n",
    "tokenizer = Tokenizer(num_words = vocab_size, oov_token = oov_tok)\n",
    "tokenizer.fit_on_texts(training_sentences)\n",
    "word_index = tokenizer.word_index\n",
    "\n",
    "sequences = tokenizer.texts_to_sequences(training_sentences)\n",
    "padded = pad_sequences(sequences, maxlen = max_length, truncating = trunc_type)\n",
    "\n",
    "# testing은 알지 못하는 자료이니 fit_on_text 하면 안 됨!\n",
    "testing_sequence = tokenizer.texts_to_sequences(testing_sentences)\n",
    "testing_padded = pad_sequences(testing_sequence, maxlen = max_length, truncating = trunc_type)"
   ]
  },
  {
   "cell_type": "code",
   "execution_count": 59,
   "id": "7a4d0c3e",
   "metadata": {},
   "outputs": [
    {
     "data": {
      "text/plain": [
       "'? ? ? ? ? ? ? ? ? ? ? ? ? ? ? ? ? ? ? ? ? ? ? ? ? ? ? ? ? ? ? this is the kind of film for a snowy sunday afternoon when the rest of the world can go ahead with its own business as you <oov> into a big arm chair and <oov> for a couple of hours wonderful performances from cher and nicolas cage as always gently row the plot along there are no <oov> to cross no dangerous waters just a warm and witty <oov> through new york life at its best a family film in every sense and one that deserves the praise it received'"
      ]
     },
     "execution_count": 59,
     "metadata": {},
     "output_type": "execute_result"
    }
   ],
   "source": [
    "reverse_word_index = dict([(value, key) for (key, value) in word_index.items()])\n",
    "\n",
    "def decode_review(text):\n",
    "    return ' '.join([reverse_word_index.get(i, '?') for i in text])\n",
    "\n",
    "decode_review(padded[3])"
   ]
  },
  {
   "cell_type": "code",
   "execution_count": 93,
   "id": "11b238bd",
   "metadata": {},
   "outputs": [
    {
     "name": "stdout",
     "output_type": "stream",
     "text": [
      "Model: \"sequential_21\"\n",
      "_________________________________________________________________\n",
      "Layer (type)                 Output Shape              Param #   \n",
      "=================================================================\n",
      "embedding_15 (Embedding)     (None, 120, 200)          2000000   \n",
      "_________________________________________________________________\n",
      "simple_rnn_22 (SimpleRNN)    (None, 50)                12550     \n",
      "_________________________________________________________________\n",
      "dense_36 (Dense)             (None, 128)               6528      \n",
      "_________________________________________________________________\n",
      "dense_37 (Dense)             (None, 1)                 129       \n",
      "=================================================================\n",
      "Total params: 2,019,207\n",
      "Trainable params: 2,019,207\n",
      "Non-trainable params: 0\n",
      "_________________________________________________________________\n"
     ]
    }
   ],
   "source": [
    "model = tf.keras.Sequential([tf.keras.layers.Embedding(vocab_size, embedding_dim, input_length=max_length),\n",
    "                             tf.keras.layers.SimpleRNN(units=50, input_shape=(max_length, embedding_dim)),\n",
    "                             tf.keras.layers.Dense(128, activation='relu'),\n",
    "                            tf.keras.layers.Dense(1, activation='sigmoid')])\n",
    "model.summary()"
   ]
  },
  {
   "cell_type": "code",
   "execution_count": 94,
   "id": "32543f2a",
   "metadata": {},
   "outputs": [],
   "source": [
    "model.compile(loss='binary_crossentropy', optimizer='adam', metrics = ['acc'])"
   ]
  },
  {
   "cell_type": "code",
   "execution_count": 95,
   "id": "f67108fa",
   "metadata": {},
   "outputs": [
    {
     "name": "stdout",
     "output_type": "stream",
     "text": [
      "Epoch 1/20\n",
      "250/250 [==============================] - 13s 49ms/step - loss: 0.6898 - acc: 0.5336 - val_loss: 0.6815 - val_acc: 0.5667\n",
      "Epoch 2/20\n",
      "250/250 [==============================] - 11s 43ms/step - loss: 0.6407 - acc: 0.6264 - val_loss: 0.5390 - val_acc: 0.7444\n",
      "Epoch 3/20\n",
      "250/250 [==============================] - 10s 42ms/step - loss: 0.4555 - acc: 0.7864 - val_loss: 0.5790 - val_acc: 0.7407\n",
      "Epoch 4/20\n",
      "250/250 [==============================] - 10s 42ms/step - loss: 0.1940 - acc: 0.9258 - val_loss: 0.8281 - val_acc: 0.6637\n",
      "Epoch 5/20\n",
      "250/250 [==============================] - 10s 40ms/step - loss: 0.0481 - acc: 0.9850 - val_loss: 1.1393 - val_acc: 0.6845\n",
      "Epoch 6/20\n",
      "250/250 [==============================] - 10s 40ms/step - loss: 0.0116 - acc: 0.9969 - val_loss: 1.3423 - val_acc: 0.7141\n",
      "Epoch 7/20\n",
      "250/250 [==============================] - 10s 40ms/step - loss: 0.0075 - acc: 0.9978 - val_loss: 1.5510 - val_acc: 0.7012\n",
      "Epoch 8/20\n",
      "250/250 [==============================] - 10s 39ms/step - loss: 0.0031 - acc: 0.9992 - val_loss: 1.6632 - val_acc: 0.7005\n",
      "Epoch 9/20\n",
      "250/250 [==============================] - 9s 38ms/step - loss: 0.0358 - acc: 0.9873 - val_loss: 1.4593 - val_acc: 0.7098\n",
      "Epoch 10/20\n",
      "250/250 [==============================] - 10s 39ms/step - loss: 0.0200 - acc: 0.9936 - val_loss: 1.6714 - val_acc: 0.6707\n",
      "Epoch 11/20\n",
      "250/250 [==============================] - 10s 40ms/step - loss: 0.0116 - acc: 0.9961 - val_loss: 1.7133 - val_acc: 0.6960\n",
      "Epoch 12/20\n",
      "250/250 [==============================] - 9s 37ms/step - loss: 0.0275 - acc: 0.9901 - val_loss: 1.6866 - val_acc: 0.6713\n",
      "Epoch 13/20\n",
      "250/250 [==============================] - 9s 37ms/step - loss: 0.0124 - acc: 0.9960 - val_loss: 1.6236 - val_acc: 0.7279\n",
      "Epoch 14/20\n",
      "250/250 [==============================] - 9s 35ms/step - loss: 0.0106 - acc: 0.9969 - val_loss: 1.9198 - val_acc: 0.6896\n",
      "Epoch 15/20\n",
      "250/250 [==============================] - 9s 36ms/step - loss: 0.0053 - acc: 0.9985 - val_loss: 1.8918 - val_acc: 0.7155\n",
      "Epoch 16/20\n",
      "250/250 [==============================] - 9s 36ms/step - loss: 0.0043 - acc: 0.9985 - val_loss: 2.1561 - val_acc: 0.6814\n",
      "Epoch 17/20\n",
      "250/250 [==============================] - 9s 35ms/step - loss: 0.0153 - acc: 0.9946 - val_loss: 1.8834 - val_acc: 0.6869\n",
      "Epoch 18/20\n",
      "250/250 [==============================] - 9s 35ms/step - loss: 0.0704 - acc: 0.9743 - val_loss: 1.5022 - val_acc: 0.6876\n",
      "Epoch 19/20\n",
      "250/250 [==============================] - 9s 35ms/step - loss: 0.0146 - acc: 0.9955 - val_loss: 1.7222 - val_acc: 0.6865\n",
      "Epoch 20/20\n",
      "250/250 [==============================] - 9s 38ms/step - loss: 0.0047 - acc: 0.9986 - val_loss: 2.1076 - val_acc: 0.6671\n"
     ]
    }
   ],
   "source": [
    "NUM_EPOCHS = 20\n",
    "\n",
    "history = model.fit(padded, training_labels, validation_data=(testing_padded, testing_labels),\n",
    "                    epochs=NUM_EPOCHS, batch_size=100)"
   ]
  },
  {
   "cell_type": "code",
   "execution_count": null,
   "id": "7f8648d7",
   "metadata": {},
   "outputs": [],
   "source": []
  }
 ],
 "metadata": {
  "kernelspec": {
   "display_name": "Python 3 (ipykernel)",
   "language": "python",
   "name": "python3"
  },
  "language_info": {
   "codemirror_mode": {
    "name": "ipython",
    "version": 3
   },
   "file_extension": ".py",
   "mimetype": "text/x-python",
   "name": "python",
   "nbconvert_exporter": "python",
   "pygments_lexer": "ipython3",
   "version": "3.8.10"
  }
 },
 "nbformat": 4,
 "nbformat_minor": 5
}
