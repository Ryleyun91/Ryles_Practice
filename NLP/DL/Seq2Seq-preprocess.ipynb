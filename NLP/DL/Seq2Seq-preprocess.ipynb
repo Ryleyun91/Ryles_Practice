{
 "cells": [
  {
   "cell_type": "markdown",
   "id": "357d8cfd",
   "metadata": {},
   "source": [
    "## 모듈 불러오기"
   ]
  },
  {
   "cell_type": "code",
   "execution_count": 1,
   "id": "b52460e5",
   "metadata": {},
   "outputs": [],
   "source": [
    "from preprocess import *"
   ]
  },
  {
   "cell_type": "markdown",
   "id": "e973bd2f",
   "metadata": {},
   "source": [
    "## 경로 확인"
   ]
  },
  {
   "cell_type": "code",
   "execution_count": 2,
   "id": "13773152",
   "metadata": {
    "scrolled": true
   },
   "outputs": [
    {
     "data": {
      "text/plain": [
       "'/Users/ryleyun/Desktop/Github/Ryles_Practice/NLP/DL'"
      ]
     },
     "execution_count": 2,
     "metadata": {},
     "output_type": "execute_result"
    }
   ],
   "source": [
    "import os \n",
    "os.getcwd()"
   ]
  },
  {
   "cell_type": "markdown",
   "id": "67099247",
   "metadata": {},
   "source": [
    "## 파일 가져오기 "
   ]
  },
  {
   "cell_type": "code",
   "execution_count": 3,
   "id": "11be4621",
   "metadata": {},
   "outputs": [],
   "source": [
    "PATH = '../../DATA/data_in/ChatBotData.csv'\n",
    "VOCAB_PATH = '../../DATA/data_in/vocabulary.text'"
   ]
  },
  {
   "cell_type": "markdown",
   "id": "7f6ca0fd",
   "metadata": {},
   "source": [
    "## 데이터 불러오기 "
   ]
  },
  {
   "cell_type": "code",
   "execution_count": 4,
   "id": "b8b49e86",
   "metadata": {},
   "outputs": [],
   "source": [
    "inputs, outputs = load_data(PATH)"
   ]
  },
  {
   "cell_type": "markdown",
   "id": "b689eaea",
   "metadata": {},
   "source": [
    "## 사전 만들기"
   ]
  },
  {
   "cell_type": "code",
   "execution_count": 5,
   "id": "dde94a3a",
   "metadata": {},
   "outputs": [
    {
     "name": "stderr",
     "output_type": "stream",
     "text": [
      "100%|███████████████████████████████████| 11823/11823 [00:06<00:00, 1767.72it/s]\n",
      "100%|███████████████████████████████████| 11823/11823 [00:05<00:00, 2193.58it/s]\n"
     ]
    },
    {
     "name": "stdout",
     "output_type": "stream",
     "text": [
      "['<PAD>', '<SOS>', '<EOS>', '<UNK>', '환장하겠어', '1000일', '이라고', '나쁜말', '코', '가기']\n"
     ]
    }
   ],
   "source": [
    "word2idx, idx2word, vocab_size = load_vocabulary(PATH, VOCAB_PATH, tokenize_as_morph=True)"
   ]
  },
  {
   "cell_type": "markdown",
   "id": "d872f0ff",
   "metadata": {},
   "source": [
    "## 훈련 데이터 생성 "
   ]
  },
  {
   "cell_type": "code",
   "execution_count": 6,
   "id": "4512572e",
   "metadata": {},
   "outputs": [
    {
     "name": "stderr",
     "output_type": "stream",
     "text": [
      "100%|███████████████████████████████████| 11823/11823 [00:04<00:00, 2830.57it/s]\n",
      "100%|███████████████████████████████████| 11823/11823 [00:05<00:00, 2221.74it/s]\n",
      "100%|███████████████████████████████████| 11823/11823 [00:05<00:00, 2207.17it/s]\n"
     ]
    }
   ],
   "source": [
    "index_enc_inputs, enc_input_seq_len = enc_processing(inputs, word2idx, tokenize_as_morph=True)\n",
    "index_dec_inputs, dec_input_seq_len = dec_input_processing(outputs, word2idx, tokenize_as_morph=True)\n",
    "index_dec_targets = dec_target_processing(outputs, word2idx, tokenize_as_morph=True)"
   ]
  },
  {
   "cell_type": "markdown",
   "id": "5a1d3065",
   "metadata": {},
   "source": [
    "## config 만들기"
   ]
  },
  {
   "cell_type": "code",
   "execution_count": 7,
   "id": "ce476387",
   "metadata": {},
   "outputs": [],
   "source": [
    "data_config = {}\n",
    "data_config['word2idx'] = word2idx\n",
    "data_config['idx2word'] = idx2word\n",
    "data_config['vocab_size'] = vocab_size\n",
    "data_config['pad_symbol'] = PAD\n",
    "data_config['sos_symbol'] = SOS\n",
    "data_config['eos_symbol'] = EOS\n",
    "data_config['unk_symbol'] = UNK"
   ]
  },
  {
   "cell_type": "markdown",
   "id": "1008d443",
   "metadata": {},
   "source": [
    "## 파일 저장"
   ]
  },
  {
   "cell_type": "code",
   "execution_count": 8,
   "id": "9ca536cd",
   "metadata": {},
   "outputs": [],
   "source": [
    "# serialize (컴퓨터가 꺼져도 자료가 남을 수 있도록 파일로 남기는 작업) <-> deserialize (파일에서 읽어올 때)\n",
    "DATA_IN_PATH = '../../DATA/data_in/'\n",
    "TRAIN_INPUTS = 'train_inputs.npy' # numpy 확장자 npy (구조 유지하는 binary 포맷)\n",
    "TRAIN_OUTPUTS = 'train_outputs.npy'\n",
    "TRAIN_TARGETS = 'train_tragets.npy'\n",
    "DATA_CONFIG = 'data_configs.json'\n",
    "\n",
    "np.save(open(DATA_IN_PATH + TRAIN_INPUTS, 'wb'), index_enc_inputs)\n",
    "np.save(open(DATA_IN_PATH + TRAIN_OUTPUTS, 'wb'), index_dec_inputs)\n",
    "np.save(open(DATA_IN_PATH + TRAIN_TARGETS, 'wb'), index_dec_targets)\n",
    "\n",
    "json.dump(data_config, open(DATA_IN_PATH + DATA_CONFIG, 'w'))"
   ]
  },
  {
   "cell_type": "code",
   "execution_count": null,
   "id": "000790a7",
   "metadata": {},
   "outputs": [],
   "source": []
  }
 ],
 "metadata": {
  "kernelspec": {
   "display_name": "Python 3 (ipykernel)",
   "language": "python",
   "name": "python3"
  },
  "language_info": {
   "codemirror_mode": {
    "name": "ipython",
    "version": 3
   },
   "file_extension": ".py",
   "mimetype": "text/x-python",
   "name": "python",
   "nbconvert_exporter": "python",
   "pygments_lexer": "ipython3",
   "version": "3.8.10"
  }
 },
 "nbformat": 4,
 "nbformat_minor": 5
}
