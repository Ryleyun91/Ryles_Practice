{
 "cells": [
  {
   "cell_type": "markdown",
   "id": "06bef596",
   "metadata": {},
   "source": [
    "# 데이터셋별 EDA"
   ]
  },
  {
   "cell_type": "code",
   "execution_count": 98,
   "id": "4cf89761",
   "metadata": {},
   "outputs": [],
   "source": [
    "import os\n",
    "import pandas as pd\n",
    "import numpy as np\n",
    "import matplotlib\n",
    "import matplotlib.pyplot as plt\n",
    "from konlpy.tag import Mecab"
   ]
  },
  {
   "cell_type": "markdown",
   "id": "9c1f97c6",
   "metadata": {},
   "source": [
    "## 1) 동형이의어구별셋"
   ]
  },
  {
   "cell_type": "code",
   "execution_count": 31,
   "id": "281aab8f",
   "metadata": {},
   "outputs": [],
   "source": [
    "# load\n",
    "train = pd.read_csv('[말뭉치] 동형이의어구별/NIKL_SKT_WiC_Train.tsv', sep='\\t')\n",
    "dev = pd.read_csv('[말뭉치] 동형이의어구별/NIKL_SKT_WiC_Dev.tsv', sep='\\t')\n",
    "test = pd.read_csv('[말뭉치] 동형이의어구별/NIKL_SKT_WiC_Test.tsv', sep='\\t')"
   ]
  },
  {
   "cell_type": "code",
   "execution_count": 32,
   "id": "efbd4aca",
   "metadata": {},
   "outputs": [
    {
     "data": {
      "text/html": [
       "<div>\n",
       "<style scoped>\n",
       "    .dataframe tbody tr th:only-of-type {\n",
       "        vertical-align: middle;\n",
       "    }\n",
       "\n",
       "    .dataframe tbody tr th {\n",
       "        vertical-align: top;\n",
       "    }\n",
       "\n",
       "    .dataframe thead th {\n",
       "        text-align: right;\n",
       "    }\n",
       "</style>\n",
       "<table border=\"1\" class=\"dataframe\">\n",
       "  <thead>\n",
       "    <tr style=\"text-align: right;\">\n",
       "      <th></th>\n",
       "      <th>ID</th>\n",
       "      <th>Target</th>\n",
       "      <th>SENTENCE1</th>\n",
       "      <th>SENTENCE2</th>\n",
       "      <th>ANSWER</th>\n",
       "      <th>start_s1</th>\n",
       "      <th>end_s1</th>\n",
       "      <th>start_s2</th>\n",
       "      <th>end_s2</th>\n",
       "    </tr>\n",
       "  </thead>\n",
       "  <tbody>\n",
       "    <tr>\n",
       "      <th>0</th>\n",
       "      <td>1</td>\n",
       "      <td>단정</td>\n",
       "      <td>그의 죽음은 타살로 단정이 되었다.</td>\n",
       "      <td>단정이 된 교실은 정돈되어 있다.</td>\n",
       "      <td>False</td>\n",
       "      <td>11</td>\n",
       "      <td>13</td>\n",
       "      <td>0</td>\n",
       "      <td>2</td>\n",
       "    </tr>\n",
       "    <tr>\n",
       "      <th>1</th>\n",
       "      <td>2</td>\n",
       "      <td>단수</td>\n",
       "      <td>현대 생활에서 단전과 단수의 고통은 겪어 보지 않으면 짐작도 못한다.</td>\n",
       "      <td>사업자를 단수로 할지 복수로 할지를 놓고 관계자들 사이에 입씨름이 벌어졌다.</td>\n",
       "      <td>False</td>\n",
       "      <td>12</td>\n",
       "      <td>14</td>\n",
       "      <td>5</td>\n",
       "      <td>7</td>\n",
       "    </tr>\n",
       "    <tr>\n",
       "      <th>2</th>\n",
       "      <td>3</td>\n",
       "      <td>화성</td>\n",
       "      <td>화성은 밤과 낮, 하루의 길이와 계절의 변화가 지구와 매우 비슷하다.</td>\n",
       "      <td>화성은 서양 음악을 이루는 중요한 요소이다.</td>\n",
       "      <td>False</td>\n",
       "      <td>0</td>\n",
       "      <td>2</td>\n",
       "      <td>0</td>\n",
       "      <td>2</td>\n",
       "    </tr>\n",
       "    <tr>\n",
       "      <th>3</th>\n",
       "      <td>4</td>\n",
       "      <td>자전</td>\n",
       "      <td>달의 자전 주기는 달이 지구의 둘레를 공전하는 주기와 같다.</td>\n",
       "      <td>태양계의 모든 행성은 자전을 한다.</td>\n",
       "      <td>True</td>\n",
       "      <td>3</td>\n",
       "      <td>5</td>\n",
       "      <td>12</td>\n",
       "      <td>14</td>\n",
       "    </tr>\n",
       "    <tr>\n",
       "      <th>4</th>\n",
       "      <td>5</td>\n",
       "      <td>동지</td>\n",
       "      <td>오늘의 적이 내일은 동지가 될 수 있다.</td>\n",
       "      <td>동지에 무와 감자를 나누어 심었다.</td>\n",
       "      <td>False</td>\n",
       "      <td>11</td>\n",
       "      <td>13</td>\n",
       "      <td>0</td>\n",
       "      <td>2</td>\n",
       "    </tr>\n",
       "  </tbody>\n",
       "</table>\n",
       "</div>"
      ],
      "text/plain": [
       "   ID Target                               SENTENCE1  \\\n",
       "0   1     단정                     그의 죽음은 타살로 단정이 되었다.   \n",
       "1   2     단수  현대 생활에서 단전과 단수의 고통은 겪어 보지 않으면 짐작도 못한다.   \n",
       "2   3     화성  화성은 밤과 낮, 하루의 길이와 계절의 변화가 지구와 매우 비슷하다.   \n",
       "3   4     자전       달의 자전 주기는 달이 지구의 둘레를 공전하는 주기와 같다.   \n",
       "4   5     동지                  오늘의 적이 내일은 동지가 될 수 있다.   \n",
       "\n",
       "                                    SENTENCE2  ANSWER  start_s1  end_s1  \\\n",
       "0                          단정이 된 교실은 정돈되어 있다.   False        11      13   \n",
       "1  사업자를 단수로 할지 복수로 할지를 놓고 관계자들 사이에 입씨름이 벌어졌다.   False        12      14   \n",
       "2                    화성은 서양 음악을 이루는 중요한 요소이다.   False         0       2   \n",
       "3                         태양계의 모든 행성은 자전을 한다.    True         3       5   \n",
       "4                         동지에 무와 감자를 나누어 심었다.   False        11      13   \n",
       "\n",
       "   start_s2  end_s2  \n",
       "0         0       2  \n",
       "1         5       7  \n",
       "2         0       2  \n",
       "3        12      14  \n",
       "4         0       2  "
      ]
     },
     "execution_count": 32,
     "metadata": {},
     "output_type": "execute_result"
    }
   ],
   "source": [
    "train.head()"
   ]
  },
  {
   "cell_type": "code",
   "execution_count": 33,
   "id": "f45f77fd",
   "metadata": {},
   "outputs": [
    {
     "name": "stdout",
     "output_type": "stream",
     "text": [
      "train set:  7748\n",
      "dev set:  1166\n",
      "test set:  1246\n"
     ]
    }
   ],
   "source": [
    "# 문장 개수\n",
    "print('train set: ', len(train))\n",
    "print('dev set: ', len(dev))\n",
    "print('test set: ', len(test))"
   ]
  },
  {
   "cell_type": "code",
   "execution_count": 62,
   "id": "84bbf2da",
   "metadata": {},
   "outputs": [
    {
     "data": {
      "text/plain": [
       "ID           0\n",
       "Target       0\n",
       "SENTENCE1    0\n",
       "SENTENCE2    0\n",
       "ANSWER       0\n",
       "start_s1     0\n",
       "end_s1       0\n",
       "start_s2     0\n",
       "end_s2       0\n",
       "dtype: int64"
      ]
     },
     "execution_count": 62,
     "metadata": {},
     "output_type": "execute_result"
    }
   ],
   "source": [
    "# 결측치 확인\n",
    "train.isnull().sum()"
   ]
  },
  {
   "cell_type": "code",
   "execution_count": 63,
   "id": "f3625600",
   "metadata": {},
   "outputs": [
    {
     "data": {
      "text/plain": [
       "ID           0\n",
       "Target       0\n",
       "SENTENCE1    0\n",
       "SENTENCE2    0\n",
       "ANSWER       0\n",
       "start_s1     0\n",
       "end_s1       0\n",
       "start_s2     0\n",
       "end_s2       0\n",
       "dtype: int64"
      ]
     },
     "execution_count": 63,
     "metadata": {},
     "output_type": "execute_result"
    }
   ],
   "source": [
    "dev.isnull().sum()"
   ]
  },
  {
   "cell_type": "code",
   "execution_count": 64,
   "id": "9c7d0077",
   "metadata": {},
   "outputs": [
    {
     "data": {
      "text/plain": [
       "ID           0\n",
       "Target       0\n",
       "SENTENCE1    0\n",
       "SENTENCE2    0\n",
       "ANSWER       0\n",
       "start_s1     0\n",
       "end_s1       0\n",
       "start_s2     0\n",
       "end_s2       0\n",
       "dtype: int64"
      ]
     },
     "execution_count": 64,
     "metadata": {},
     "output_type": "execute_result"
    }
   ],
   "source": [
    "test.isnull().sum()"
   ]
  },
  {
   "cell_type": "code",
   "execution_count": 96,
   "id": "60604b39",
   "metadata": {},
   "outputs": [
    {
     "data": {
      "image/png": "[encoded data removed]",
      "text/plain": [
       "<Figure size 432x288 with 1 Axes>"
      ]
     },
     "metadata": {
      "needs_background": "light"
     },
     "output_type": "display_data"
    }
   ],
   "source": [
    "# ANSWER 별 빈도수 (train)\n",
    "train['ANSWER'] = train['ANSWER'].apply(lambda x: str(x))\n",
    "\n",
    "y = train['ANSWER'].value_counts()\n",
    "y.plot(kind='bar')\n",
    "\n",
    "plt.xlabel('ANSWER')\n",
    "plt.ylabel('count')\n",
    "plt.title('Wic_train')\n",
    "    \n",
    "plt.show()\n"
   ]
  },
  {
   "cell_type": "code",
   "execution_count": 92,
   "id": "519fb46a",
   "metadata": {},
   "outputs": [
    {
     "data": {
      "text/plain": [
       "True     3887\n",
       "False    3861\n",
       "Name: ANSWER, dtype: int64"
      ]
     },
     "execution_count": 92,
     "metadata": {},
     "output_type": "execute_result"
    }
   ],
   "source": [
    "# 빈도표\n",
    "y"
   ]
  },
  {
   "cell_type": "code",
   "execution_count": 97,
   "id": "bf9b454b",
   "metadata": {},
   "outputs": [
    {
     "data": {
      "image/png": "[encoded data removed]",
      "text/plain": [
       "<Figure size 432x288 with 1 Axes>"
      ]
     },
     "metadata": {
      "needs_background": "light"
     },
     "output_type": "display_data"
    }
   ],
   "source": [
    "# ANSWER 별 빈도수 (dev)\n",
    "dev['ANSWER'] = dev['ANSWER'].apply(lambda x: str(x))\n",
    "\n",
    "y = dev['ANSWER'].value_counts()\n",
    "y.plot(kind='bar')\n",
    "\n",
    "plt.xlabel('ANSWER')\n",
    "plt.ylabel('count')\n",
    "plt.title('Wic_dev')\n",
    "    \n",
    "plt.show()\n"
   ]
  },
  {
   "cell_type": "code",
   "execution_count": 95,
   "id": "5504866d",
   "metadata": {},
   "outputs": [
    {
     "data": {
      "text/plain": [
       "False    633\n",
       "True     533\n",
       "Name: ANSWER, dtype: int64"
      ]
     },
     "execution_count": 95,
     "metadata": {},
     "output_type": "execute_result"
    }
   ],
   "source": [
    "# 빈도표\n",
    "y"
   ]
  },
  {
   "cell_type": "code",
   "execution_count": 102,
   "id": "07212f7d",
   "metadata": {},
   "outputs": [],
   "source": [
    "# 문장 길이(단위: 형태소)\n",
    "mecab = Mecab()\n",
    "\n",
    "train['SENTENCE1_morp'] = train['SENTENCE1'].apply(lambda x: mecab.morphs(x))\n",
    "train['SENTENCE1_len'] = train['SENTENCE1_morp'].apply(lambda x: len(x))\n",
    "train['SENTENCE2_morp'] = train['SENTENCE2'].apply(lambda x: mecab.morphs(x))\n",
    "train['SENTENCE2_len'] = train['SENTENCE2_morp'].apply(lambda x: len(x))\n",
    "\n",
    "dev['SENTENCE1_morp'] = dev['SENTENCE1'].apply(lambda x: mecab.morphs(x))\n",
    "dev['SENTENCE1_len'] = dev['SENTENCE1_morp'].apply(lambda x: len(x))\n",
    "dev['SENTENCE2_morp'] = dev['SENTENCE2'].apply(lambda x: mecab.morphs(x))\n",
    "dev['SENTENCE2_len'] = dev['SENTENCE2_morp'].apply(lambda x: len(x))\n",
    "\n",
    "test['SENTENCE1_morp'] = test['SENTENCE1'].apply(lambda x: mecab.morphs(x))\n",
    "test['SENTENCE1_len'] = test['SENTENCE1_morp'].apply(lambda x: len(x))\n",
    "test['SENTENCE2_morp'] = test['SENTENCE2'].apply(lambda x: mecab.morphs(x))\n",
    "test['SENTENCE2_len'] = test['SENTENCE2_morp'].apply(lambda x: len(x))"
   ]
  },
  {
   "cell_type": "code",
   "execution_count": 104,
   "id": "f378e99f",
   "metadata": {},
   "outputs": [],
   "source": [
    "# 박스플롯 그리는 함수\n",
    "def plot_box(df, colname):\n",
    "    box_ =  plt.boxplot(df[colname], labels=[colname])\n",
    "    plt.show()\n",
    "    dict_ = {}\n",
    "    dict_[\"label\"] = colname\n",
    "    dict_[\"cap_bottom\"] = box_['caps'][0].get_ydata()[0]\n",
    "    dict_[\"perc_25\"] = box_['boxes'][0].get_ydata().min()\n",
    "    dict_[\"median\"] = box_['medians'][0].get_ydata()[1]\n",
    "    dict_[\"perc_75\"] = box_['boxes'][0].get_ydata().max()\n",
    "    dict_[\"cap_top\"] = box_['caps'][1].get_ydata()[0]\n",
    "    return pd.DataFrame([dict_])"
   ]
  },
  {
   "cell_type": "code",
   "execution_count": 107,
   "id": "5e385d61",
   "metadata": {
    "scrolled": true
   },
   "outputs": [
    {
     "data": {
      "image/png": "[encoded data removed]",
      "text/plain": [
       "<Figure size 432x288 with 1 Axes>"
      ]
     },
     "metadata": {
      "needs_background": "light"
     },
     "output_type": "display_data"
    },
    {
     "data": {
      "text/html": [
       "<div>\n",
       "<style scoped>\n",
       "    .dataframe tbody tr th:only-of-type {\n",
       "        vertical-align: middle;\n",
       "    }\n",
       "\n",
       "    .dataframe tbody tr th {\n",
       "        vertical-align: top;\n",
       "    }\n",
       "\n",
       "    .dataframe thead th {\n",
       "        text-align: right;\n",
       "    }\n",
       "</style>\n",
       "<table border=\"1\" class=\"dataframe\">\n",
       "  <thead>\n",
       "    <tr style=\"text-align: right;\">\n",
       "      <th></th>\n",
       "      <th>label</th>\n",
       "      <th>cap_bottom</th>\n",
       "      <th>perc_25</th>\n",
       "      <th>median</th>\n",
       "      <th>perc_75</th>\n",
       "      <th>cap_top</th>\n",
       "    </tr>\n",
       "  </thead>\n",
       "  <tbody>\n",
       "    <tr>\n",
       "      <th>0</th>\n",
       "      <td>SENTENCE1_len</td>\n",
       "      <td>2.0</td>\n",
       "      <td>14.0</td>\n",
       "      <td>23.0</td>\n",
       "      <td>38.0</td>\n",
       "      <td>74.0</td>\n",
       "    </tr>\n",
       "  </tbody>\n",
       "</table>\n",
       "</div>"
      ],
      "text/plain": [
       "           label  cap_bottom  perc_25  median  perc_75  cap_top\n",
       "0  SENTENCE1_len         2.0     14.0    23.0     38.0     74.0"
      ]
     },
     "execution_count": 107,
     "metadata": {},
     "output_type": "execute_result"
    }
   ],
   "source": [
    "# train, 문장 길이\n",
    "plot_box(train, 'SENTENCE1_len')"
   ]
  },
  {
   "cell_type": "code",
   "execution_count": 108,
   "id": "3aaf0e62",
   "metadata": {},
   "outputs": [
    {
     "data": {
      "image/png": "[encoded data removed]",
      "text/plain": [
       "<Figure size 432x288 with 1 Axes>"
      ]
     },
     "metadata": {
      "needs_background": "light"
     },
     "output_type": "display_data"
    },
    {
     "data": {
      "text/html": [
       "<div>\n",
       "<style scoped>\n",
       "    .dataframe tbody tr th:only-of-type {\n",
       "        vertical-align: middle;\n",
       "    }\n",
       "\n",
       "    .dataframe tbody tr th {\n",
       "        vertical-align: top;\n",
       "    }\n",
       "\n",
       "    .dataframe thead th {\n",
       "        text-align: right;\n",
       "    }\n",
       "</style>\n",
       "<table border=\"1\" class=\"dataframe\">\n",
       "  <thead>\n",
       "    <tr style=\"text-align: right;\">\n",
       "      <th></th>\n",
       "      <th>label</th>\n",
       "      <th>cap_bottom</th>\n",
       "      <th>perc_25</th>\n",
       "      <th>median</th>\n",
       "      <th>perc_75</th>\n",
       "      <th>cap_top</th>\n",
       "    </tr>\n",
       "  </thead>\n",
       "  <tbody>\n",
       "    <tr>\n",
       "      <th>0</th>\n",
       "      <td>SENTENCE2_len</td>\n",
       "      <td>3.0</td>\n",
       "      <td>15.0</td>\n",
       "      <td>23.0</td>\n",
       "      <td>37.0</td>\n",
       "      <td>70.0</td>\n",
       "    </tr>\n",
       "  </tbody>\n",
       "</table>\n",
       "</div>"
      ],
      "text/plain": [
       "           label  cap_bottom  perc_25  median  perc_75  cap_top\n",
       "0  SENTENCE2_len         3.0     15.0    23.0     37.0     70.0"
      ]
     },
     "execution_count": 108,
     "metadata": {},
     "output_type": "execute_result"
    }
   ],
   "source": [
    "# train, 문장 길이\n",
    "plot_box(train, 'SENTENCE2_len')"
   ]
  },
  {
   "cell_type": "code",
   "execution_count": 109,
   "id": "4485b0e7",
   "metadata": {},
   "outputs": [
    {
     "data": {
      "image/png": "[encoded data removed]",
      "text/plain": [
       "<Figure size 432x288 with 1 Axes>"
      ]
     },
     "metadata": {
      "needs_background": "light"
     },
     "output_type": "display_data"
    },
    {
     "data": {
      "text/html": [
       "<div>\n",
       "<style scoped>\n",
       "    .dataframe tbody tr th:only-of-type {\n",
       "        vertical-align: middle;\n",
       "    }\n",
       "\n",
       "    .dataframe tbody tr th {\n",
       "        vertical-align: top;\n",
       "    }\n",
       "\n",
       "    .dataframe thead th {\n",
       "        text-align: right;\n",
       "    }\n",
       "</style>\n",
       "<table border=\"1\" class=\"dataframe\">\n",
       "  <thead>\n",
       "    <tr style=\"text-align: right;\">\n",
       "      <th></th>\n",
       "      <th>label</th>\n",
       "      <th>cap_bottom</th>\n",
       "      <th>perc_25</th>\n",
       "      <th>median</th>\n",
       "      <th>perc_75</th>\n",
       "      <th>cap_top</th>\n",
       "    </tr>\n",
       "  </thead>\n",
       "  <tbody>\n",
       "    <tr>\n",
       "      <th>0</th>\n",
       "      <td>SENTENCE1_len</td>\n",
       "      <td>3.0</td>\n",
       "      <td>13.0</td>\n",
       "      <td>20.0</td>\n",
       "      <td>35.0</td>\n",
       "      <td>68.0</td>\n",
       "    </tr>\n",
       "  </tbody>\n",
       "</table>\n",
       "</div>"
      ],
      "text/plain": [
       "           label  cap_bottom  perc_25  median  perc_75  cap_top\n",
       "0  SENTENCE1_len         3.0     13.0    20.0     35.0     68.0"
      ]
     },
     "execution_count": 109,
     "metadata": {},
     "output_type": "execute_result"
    }
   ],
   "source": [
    "# dev, 문장 길이\n",
    "plot_box(dev, 'SENTENCE1_len')"
   ]
  },
  {
   "cell_type": "code",
   "execution_count": 110,
   "id": "fc65ef4d",
   "metadata": {},
   "outputs": [
    {
     "data": {
      "image/png": "[encoded data removed]",
      "text/plain": [
       "<Figure size 432x288 with 1 Axes>"
      ]
     },
     "metadata": {
      "needs_background": "light"
     },
     "output_type": "display_data"
    },
    {
     "data": {
      "text/html": [
       "<div>\n",
       "<style scoped>\n",
       "    .dataframe tbody tr th:only-of-type {\n",
       "        vertical-align: middle;\n",
       "    }\n",
       "\n",
       "    .dataframe tbody tr th {\n",
       "        vertical-align: top;\n",
       "    }\n",
       "\n",
       "    .dataframe thead th {\n",
       "        text-align: right;\n",
       "    }\n",
       "</style>\n",
       "<table border=\"1\" class=\"dataframe\">\n",
       "  <thead>\n",
       "    <tr style=\"text-align: right;\">\n",
       "      <th></th>\n",
       "      <th>label</th>\n",
       "      <th>cap_bottom</th>\n",
       "      <th>perc_25</th>\n",
       "      <th>median</th>\n",
       "      <th>perc_75</th>\n",
       "      <th>cap_top</th>\n",
       "    </tr>\n",
       "  </thead>\n",
       "  <tbody>\n",
       "    <tr>\n",
       "      <th>0</th>\n",
       "      <td>SENTENCE2_len</td>\n",
       "      <td>4.0</td>\n",
       "      <td>13.0</td>\n",
       "      <td>20.5</td>\n",
       "      <td>36.0</td>\n",
       "      <td>70.0</td>\n",
       "    </tr>\n",
       "  </tbody>\n",
       "</table>\n",
       "</div>"
      ],
      "text/plain": [
       "           label  cap_bottom  perc_25  median  perc_75  cap_top\n",
       "0  SENTENCE2_len         4.0     13.0    20.5     36.0     70.0"
      ]
     },
     "execution_count": 110,
     "metadata": {},
     "output_type": "execute_result"
    }
   ],
   "source": [
    "# dev, 문장 길이\n",
    "plot_box(dev, 'SENTENCE2_len')"
   ]
  },
  {
   "cell_type": "code",
   "execution_count": 111,
   "id": "62216e02",
   "metadata": {},
   "outputs": [
    {
     "data": {
      "image/png": "[encoded data removed]",
      "text/plain": [
       "<Figure size 432x288 with 1 Axes>"
      ]
     },
     "metadata": {
      "needs_background": "light"
     },
     "output_type": "display_data"
    },
    {
     "data": {
      "text/html": [
       "<div>\n",
       "<style scoped>\n",
       "    .dataframe tbody tr th:only-of-type {\n",
       "        vertical-align: middle;\n",
       "    }\n",
       "\n",
       "    .dataframe tbody tr th {\n",
       "        vertical-align: top;\n",
       "    }\n",
       "\n",
       "    .dataframe thead th {\n",
       "        text-align: right;\n",
       "    }\n",
       "</style>\n",
       "<table border=\"1\" class=\"dataframe\">\n",
       "  <thead>\n",
       "    <tr style=\"text-align: right;\">\n",
       "      <th></th>\n",
       "      <th>label</th>\n",
       "      <th>cap_bottom</th>\n",
       "      <th>perc_25</th>\n",
       "      <th>median</th>\n",
       "      <th>perc_75</th>\n",
       "      <th>cap_top</th>\n",
       "    </tr>\n",
       "  </thead>\n",
       "  <tbody>\n",
       "    <tr>\n",
       "      <th>0</th>\n",
       "      <td>SENTENCE1_len</td>\n",
       "      <td>4.0</td>\n",
       "      <td>11.0</td>\n",
       "      <td>17.0</td>\n",
       "      <td>33.0</td>\n",
       "      <td>66.0</td>\n",
       "    </tr>\n",
       "  </tbody>\n",
       "</table>\n",
       "</div>"
      ],
      "text/plain": [
       "           label  cap_bottom  perc_25  median  perc_75  cap_top\n",
       "0  SENTENCE1_len         4.0     11.0    17.0     33.0     66.0"
      ]
     },
     "execution_count": 111,
     "metadata": {},
     "output_type": "execute_result"
    }
   ],
   "source": [
    "# test, 문장 길이\n",
    "plot_box(test, 'SENTENCE1_len')"
   ]
  },
  {
   "cell_type": "code",
   "execution_count": 112,
   "id": "12bdee3c",
   "metadata": {},
   "outputs": [
    {
     "data": {
      "image/png": "[encoded data removed]",
      "text/plain": [
       "<Figure size 432x288 with 1 Axes>"
      ]
     },
     "metadata": {
      "needs_background": "light"
     },
     "output_type": "display_data"
    },
    {
     "data": {
      "text/html": [
       "<div>\n",
       "<style scoped>\n",
       "    .dataframe tbody tr th:only-of-type {\n",
       "        vertical-align: middle;\n",
       "    }\n",
       "\n",
       "    .dataframe tbody tr th {\n",
       "        vertical-align: top;\n",
       "    }\n",
       "\n",
       "    .dataframe thead th {\n",
       "        text-align: right;\n",
       "    }\n",
       "</style>\n",
       "<table border=\"1\" class=\"dataframe\">\n",
       "  <thead>\n",
       "    <tr style=\"text-align: right;\">\n",
       "      <th></th>\n",
       "      <th>label</th>\n",
       "      <th>cap_bottom</th>\n",
       "      <th>perc_25</th>\n",
       "      <th>median</th>\n",
       "      <th>perc_75</th>\n",
       "      <th>cap_top</th>\n",
       "    </tr>\n",
       "  </thead>\n",
       "  <tbody>\n",
       "    <tr>\n",
       "      <th>0</th>\n",
       "      <td>SENTENCE2_len</td>\n",
       "      <td>4.0</td>\n",
       "      <td>12.0</td>\n",
       "      <td>18.5</td>\n",
       "      <td>34.0</td>\n",
       "      <td>67.0</td>\n",
       "    </tr>\n",
       "  </tbody>\n",
       "</table>\n",
       "</div>"
      ],
      "text/plain": [
       "           label  cap_bottom  perc_25  median  perc_75  cap_top\n",
       "0  SENTENCE2_len         4.0     12.0    18.5     34.0     67.0"
      ]
     },
     "execution_count": 112,
     "metadata": {},
     "output_type": "execute_result"
    }
   ],
   "source": [
    "# test, 문장 길이\n",
    "plot_box(test, 'SENTENCE2_len')"
   ]
  },
  {
   "cell_type": "code",
   "execution_count": 124,
   "id": "434cfa3f",
   "metadata": {
    "scrolled": true
   },
   "outputs": [
    {
     "data": {
      "text/plain": [
       "맞     749\n",
       "들     604\n",
       "맡     318\n",
       "보인    266\n",
       "따라    196\n",
       "쓰     171\n",
       "묻     140\n",
       "뛰     123\n",
       "이르    117\n",
       "보이    115\n",
       "보여    111\n",
       "타     104\n",
       "따르     89\n",
       "쉬      53\n",
       "쓴      52\n",
       "달      50\n",
       "치      48\n",
       "물      45\n",
       "말      43\n",
       "강한     43\n",
       "Name: Target, dtype: int64"
      ]
     },
     "execution_count": 124,
     "metadata": {},
     "output_type": "execute_result"
    }
   ],
   "source": [
    "# Target별 예시 문장 수 (train)\n",
    "# '맞', '들', '맡' 등이 특히 동형이의어 예시 문장을 많이 갖고 있음.\n",
    "\n",
    "y = train['Target'].value_counts()\n",
    "y[:20]"
   ]
  },
  {
   "cell_type": "code",
   "execution_count": 125,
   "id": "e186e9fb",
   "metadata": {},
   "outputs": [
    {
     "data": {
      "text/plain": [
       "맞     116\n",
       "들      65\n",
       "맡      39\n",
       "보인     33\n",
       "쓰      22\n",
       "이르     19\n",
       "따라     18\n",
       "묻      16\n",
       "뛰      11\n",
       "쉬      11\n",
       "보여     10\n",
       "달      10\n",
       "쓴      10\n",
       "보이      9\n",
       "타       8\n",
       "불리      8\n",
       "강한      8\n",
       "따르      8\n",
       "물리      7\n",
       "치       7\n",
       "Name: Target, dtype: int64"
      ]
     },
     "execution_count": 125,
     "metadata": {},
     "output_type": "execute_result"
    }
   ],
   "source": [
    "# Target별 예시 문장 수 (dev)\n",
    "y = dev['Target'].value_counts()\n",
    "y[:20]"
   ]
  },
  {
   "cell_type": "code",
   "execution_count": 126,
   "id": "e4055303",
   "metadata": {},
   "outputs": [
    {
     "data": {
      "text/plain": [
       "맞     85\n",
       "들     69\n",
       "맡     40\n",
       "보인    37\n",
       "쓰     30\n",
       "따라    23\n",
       "이르    21\n",
       "묻     18\n",
       "따르    15\n",
       "보여    15\n",
       "뛰     11\n",
       "쉬      9\n",
       "타      8\n",
       "물      8\n",
       "달      7\n",
       "감      6\n",
       "지      6\n",
       "보이     6\n",
       "갈      6\n",
       "치      6\n",
       "Name: Target, dtype: int64"
      ]
     },
     "execution_count": 126,
     "metadata": {},
     "output_type": "execute_result"
    }
   ],
   "source": [
    "# Target별 예시 문장 수 (test)\n",
    "y = test['Target'].value_counts()\n",
    "y[:20]"
   ]
  },
  {
   "cell_type": "markdown",
   "id": "9c631e7b",
   "metadata": {},
   "source": [
    "## 2) 문법성 판단셋"
   ]
  },
  {
   "cell_type": "code",
   "execution_count": 128,
   "id": "e6bbf071",
   "metadata": {},
   "outputs": [],
   "source": [
    "# load\n",
    "train = pd.read_csv('[말뭉치] 문장 문법성 판단/NIKL_CoLA_train.tsv', sep='\\t')\n",
    "dev = pd.read_csv('[말뭉치] 문장 문법성 판단/NIKL_CoLA_dev.tsv', sep='\\t')\n",
    "test = pd.read_csv('[말뭉치] 문장 문법성 판단/NIKL_CoLA_test.tsv', sep='\\t')"
   ]
  },
  {
   "cell_type": "code",
   "execution_count": 129,
   "id": "552418d1",
   "metadata": {},
   "outputs": [
    {
     "data": {
      "text/html": [
       "<div>\n",
       "<style scoped>\n",
       "    .dataframe tbody tr th:only-of-type {\n",
       "        vertical-align: middle;\n",
       "    }\n",
       "\n",
       "    .dataframe tbody tr th {\n",
       "        vertical-align: top;\n",
       "    }\n",
       "\n",
       "    .dataframe thead th {\n",
       "        text-align: right;\n",
       "    }\n",
       "</style>\n",
       "<table border=\"1\" class=\"dataframe\">\n",
       "  <thead>\n",
       "    <tr style=\"text-align: right;\">\n",
       "      <th></th>\n",
       "      <th>source</th>\n",
       "      <th>acceptability_label</th>\n",
       "      <th>source_annotation</th>\n",
       "      <th>sentence</th>\n",
       "    </tr>\n",
       "  </thead>\n",
       "  <tbody>\n",
       "    <tr>\n",
       "      <th>0</th>\n",
       "      <td>T00001</td>\n",
       "      <td>1</td>\n",
       "      <td>NaN</td>\n",
       "      <td>높은 달이 떴다.</td>\n",
       "    </tr>\n",
       "    <tr>\n",
       "      <th>1</th>\n",
       "      <td>T00001</td>\n",
       "      <td>0</td>\n",
       "      <td>*</td>\n",
       "      <td>달이 뜸이 높았다.</td>\n",
       "    </tr>\n",
       "    <tr>\n",
       "      <th>2</th>\n",
       "      <td>T00002</td>\n",
       "      <td>1</td>\n",
       "      <td>NaN</td>\n",
       "      <td>실없는 사람이 까불까불한다.</td>\n",
       "    </tr>\n",
       "    <tr>\n",
       "      <th>3</th>\n",
       "      <td>T00003</td>\n",
       "      <td>1</td>\n",
       "      <td>NaN</td>\n",
       "      <td>나는 철수에게 공을 던졌다.</td>\n",
       "    </tr>\n",
       "    <tr>\n",
       "      <th>4</th>\n",
       "      <td>T00004</td>\n",
       "      <td>1</td>\n",
       "      <td>NaN</td>\n",
       "      <td>내가 순이와 둘이서 다툰다.</td>\n",
       "    </tr>\n",
       "  </tbody>\n",
       "</table>\n",
       "</div>"
      ],
      "text/plain": [
       "   source  acceptability_label source_annotation         sentence\n",
       "0  T00001                    1               NaN        높은 달이 떴다.\n",
       "1  T00001                    0                 *       달이 뜸이 높았다.\n",
       "2  T00002                    1               NaN  실없는 사람이 까불까불한다.\n",
       "3  T00003                    1               NaN  나는 철수에게 공을 던졌다.\n",
       "4  T00004                    1               NaN  내가 순이와 둘이서 다툰다."
      ]
     },
     "execution_count": 129,
     "metadata": {},
     "output_type": "execute_result"
    }
   ],
   "source": [
    "train.head()"
   ]
  },
  {
   "cell_type": "code",
   "execution_count": 130,
   "id": "7c06e1cf",
   "metadata": {},
   "outputs": [
    {
     "name": "stdout",
     "output_type": "stream",
     "text": [
      "train set:  15876\n",
      "dev set:  2032\n",
      "test set:  1060\n"
     ]
    }
   ],
   "source": [
    "# 문장 개수\n",
    "print('train set: ', len(train))\n",
    "print('dev set: ', len(dev))\n",
    "print('test set: ', len(test))"
   ]
  },
  {
   "cell_type": "code",
   "execution_count": 131,
   "id": "aae1ec54",
   "metadata": {},
   "outputs": [
    {
     "data": {
      "text/plain": [
       "source                    0\n",
       "acceptability_label       0\n",
       "source_annotation      7912\n",
       "sentence                  0\n",
       "dtype: int64"
      ]
     },
     "execution_count": 131,
     "metadata": {},
     "output_type": "execute_result"
    }
   ],
   "source": [
    "# 결측치 확인\n",
    "train.isnull().sum()"
   ]
  },
  {
   "cell_type": "code",
   "execution_count": 132,
   "id": "f0e3f552",
   "metadata": {},
   "outputs": [
    {
     "data": {
      "text/plain": [
       "source                    0\n",
       "acceptability_label       0\n",
       "source_annotation      1070\n",
       "sentence                  0\n",
       "dtype: int64"
      ]
     },
     "execution_count": 132,
     "metadata": {},
     "output_type": "execute_result"
    }
   ],
   "source": [
    "# 결측치 확인\n",
    "dev.isnull().sum()"
   ]
  },
  {
   "cell_type": "code",
   "execution_count": 133,
   "id": "07a25432",
   "metadata": {},
   "outputs": [
    {
     "data": {
      "text/plain": [
       "index       0\n",
       "sentence    0\n",
       "dtype: int64"
      ]
     },
     "execution_count": 133,
     "metadata": {},
     "output_type": "execute_result"
    }
   ],
   "source": [
    "# 결측치 확인\n",
    "test.isnull().sum()"
   ]
  },
  {
   "cell_type": "code",
   "execution_count": 134,
   "id": "83da9890",
   "metadata": {
    "scrolled": true
   },
   "outputs": [
    {
     "data": {
      "image/png": "[encoded data removed]",
      "text/plain": [
       "<Figure size 432x288 with 1 Axes>"
      ]
     },
     "metadata": {
      "needs_background": "light"
     },
     "output_type": "display_data"
    }
   ],
   "source": [
    "# acceptability_label별 빈도수 (train)\n",
    "train['acceptability_label'] = train['acceptability_label'].apply(lambda x: str(x))\n",
    "\n",
    "y = train['acceptability_label'].value_counts()\n",
    "y.plot(kind='bar')\n",
    "\n",
    "plt.xlabel('acceptability_label')\n",
    "plt.ylabel('count')\n",
    "plt.title('cola_train')\n",
    "    \n",
    "plt.show()\n"
   ]
  },
  {
   "cell_type": "code",
   "execution_count": 135,
   "id": "375a21f4",
   "metadata": {},
   "outputs": [
    {
     "data": {
      "text/plain": [
       "0    7964\n",
       "1    7912\n",
       "Name: acceptability_label, dtype: int64"
      ]
     },
     "execution_count": 135,
     "metadata": {},
     "output_type": "execute_result"
    }
   ],
   "source": [
    "y"
   ]
  },
  {
   "cell_type": "code",
   "execution_count": 136,
   "id": "bdd5dc43",
   "metadata": {},
   "outputs": [
    {
     "data": {
      "image/png": "[encoded data removed]",
      "text/plain": [
       "<Figure size 432x288 with 1 Axes>"
      ]
     },
     "metadata": {
      "needs_background": "light"
     },
     "output_type": "display_data"
    }
   ],
   "source": [
    "# acceptability_label별 빈도수 (dev)\n",
    "dev['acceptability_label'] = dev['acceptability_label'].apply(lambda x: str(x))\n",
    "\n",
    "y = dev['acceptability_label'].value_counts()\n",
    "y.plot(kind='bar')\n",
    "\n",
    "plt.xlabel('acceptability_label')\n",
    "plt.ylabel('count')\n",
    "plt.title('cola_dev')\n",
    "    \n",
    "plt.show()\n"
   ]
  },
  {
   "cell_type": "code",
   "execution_count": 137,
   "id": "42bedccc",
   "metadata": {},
   "outputs": [
    {
     "data": {
      "text/plain": [
       "1    1071\n",
       "0     961\n",
       "Name: acceptability_label, dtype: int64"
      ]
     },
     "execution_count": 137,
     "metadata": {},
     "output_type": "execute_result"
    }
   ],
   "source": [
    "y"
   ]
  },
  {
   "cell_type": "code",
   "execution_count": 138,
   "id": "a7f011ba",
   "metadata": {},
   "outputs": [],
   "source": [
    "# 문장 길이(단위: 형태소)\n",
    "mecab = Mecab()\n",
    "\n",
    "train['sentence_morp'] = train['sentence'].apply(lambda x: mecab.morphs(x))\n",
    "train['sentence_len'] = train['sentence_morp'].apply(lambda x: len(x))\n",
    "\n",
    "dev['sentence_morp'] = dev['sentence'].apply(lambda x: mecab.morphs(x))\n",
    "dev['sentence_len'] = dev['sentence_morp'].apply(lambda x: len(x))\n",
    "\n",
    "test['sentence_morp'] = test['sentence'].apply(lambda x: mecab.morphs(x))\n",
    "test['sentence_len'] = test['sentence_morp'].apply(lambda x: len(x))"
   ]
  },
  {
   "cell_type": "code",
   "execution_count": 140,
   "id": "3a01960e",
   "metadata": {},
   "outputs": [
    {
     "data": {
      "image/png": "[encoded data removed]",
      "text/plain": [
       "<Figure size 432x288 with 1 Axes>"
      ]
     },
     "metadata": {
      "needs_background": "light"
     },
     "output_type": "display_data"
    },
    {
     "data": {
      "text/html": [
       "<div>\n",
       "<style scoped>\n",
       "    .dataframe tbody tr th:only-of-type {\n",
       "        vertical-align: middle;\n",
       "    }\n",
       "\n",
       "    .dataframe tbody tr th {\n",
       "        vertical-align: top;\n",
       "    }\n",
       "\n",
       "    .dataframe thead th {\n",
       "        text-align: right;\n",
       "    }\n",
       "</style>\n",
       "<table border=\"1\" class=\"dataframe\">\n",
       "  <thead>\n",
       "    <tr style=\"text-align: right;\">\n",
       "      <th></th>\n",
       "      <th>label</th>\n",
       "      <th>cap_bottom</th>\n",
       "      <th>perc_25</th>\n",
       "      <th>median</th>\n",
       "      <th>perc_75</th>\n",
       "      <th>cap_top</th>\n",
       "    </tr>\n",
       "  </thead>\n",
       "  <tbody>\n",
       "    <tr>\n",
       "      <th>0</th>\n",
       "      <td>sentence_len</td>\n",
       "      <td>3.0</td>\n",
       "      <td>8.0</td>\n",
       "      <td>10.0</td>\n",
       "      <td>13.0</td>\n",
       "      <td>20.0</td>\n",
       "    </tr>\n",
       "  </tbody>\n",
       "</table>\n",
       "</div>"
      ],
      "text/plain": [
       "          label  cap_bottom  perc_25  median  perc_75  cap_top\n",
       "0  sentence_len         3.0      8.0    10.0     13.0     20.0"
      ]
     },
     "execution_count": 140,
     "metadata": {},
     "output_type": "execute_result"
    }
   ],
   "source": [
    "# train, 문장 길이\n",
    "plot_box(train, 'sentence_len')"
   ]
  },
  {
   "cell_type": "code",
   "execution_count": 141,
   "id": "7aae6678",
   "metadata": {},
   "outputs": [
    {
     "data": {
      "image/png": "[encoded data removed]",
      "text/plain": [
       "<Figure size 432x288 with 1 Axes>"
      ]
     },
     "metadata": {
      "needs_background": "light"
     },
     "output_type": "display_data"
    },
    {
     "data": {
      "text/html": [
       "<div>\n",
       "<style scoped>\n",
       "    .dataframe tbody tr th:only-of-type {\n",
       "        vertical-align: middle;\n",
       "    }\n",
       "\n",
       "    .dataframe tbody tr th {\n",
       "        vertical-align: top;\n",
       "    }\n",
       "\n",
       "    .dataframe thead th {\n",
       "        text-align: right;\n",
       "    }\n",
       "</style>\n",
       "<table border=\"1\" class=\"dataframe\">\n",
       "  <thead>\n",
       "    <tr style=\"text-align: right;\">\n",
       "      <th></th>\n",
       "      <th>label</th>\n",
       "      <th>cap_bottom</th>\n",
       "      <th>perc_25</th>\n",
       "      <th>median</th>\n",
       "      <th>perc_75</th>\n",
       "      <th>cap_top</th>\n",
       "    </tr>\n",
       "  </thead>\n",
       "  <tbody>\n",
       "    <tr>\n",
       "      <th>0</th>\n",
       "      <td>sentence_len</td>\n",
       "      <td>3.0</td>\n",
       "      <td>9.0</td>\n",
       "      <td>11.0</td>\n",
       "      <td>13.0</td>\n",
       "      <td>19.0</td>\n",
       "    </tr>\n",
       "  </tbody>\n",
       "</table>\n",
       "</div>"
      ],
      "text/plain": [
       "          label  cap_bottom  perc_25  median  perc_75  cap_top\n",
       "0  sentence_len         3.0      9.0    11.0     13.0     19.0"
      ]
     },
     "execution_count": 141,
     "metadata": {},
     "output_type": "execute_result"
    }
   ],
   "source": [
    "# dev, 문장 길이\n",
    "plot_box(dev, 'sentence_len')"
   ]
  },
  {
   "cell_type": "code",
   "execution_count": 142,
   "id": "dd8fa016",
   "metadata": {},
   "outputs": [
    {
     "data": {
      "image/png": "[encoded data removed]",
      "text/plain": [
       "<Figure size 432x288 with 1 Axes>"
      ]
     },
     "metadata": {
      "needs_background": "light"
     },
     "output_type": "display_data"
    },
    {
     "data": {
      "text/html": [
       "<div>\n",
       "<style scoped>\n",
       "    .dataframe tbody tr th:only-of-type {\n",
       "        vertical-align: middle;\n",
       "    }\n",
       "\n",
       "    .dataframe tbody tr th {\n",
       "        vertical-align: top;\n",
       "    }\n",
       "\n",
       "    .dataframe thead th {\n",
       "        text-align: right;\n",
       "    }\n",
       "</style>\n",
       "<table border=\"1\" class=\"dataframe\">\n",
       "  <thead>\n",
       "    <tr style=\"text-align: right;\">\n",
       "      <th></th>\n",
       "      <th>label</th>\n",
       "      <th>cap_bottom</th>\n",
       "      <th>perc_25</th>\n",
       "      <th>median</th>\n",
       "      <th>perc_75</th>\n",
       "      <th>cap_top</th>\n",
       "    </tr>\n",
       "  </thead>\n",
       "  <tbody>\n",
       "    <tr>\n",
       "      <th>0</th>\n",
       "      <td>sentence_len</td>\n",
       "      <td>4.0</td>\n",
       "      <td>8.0</td>\n",
       "      <td>10.0</td>\n",
       "      <td>13.0</td>\n",
       "      <td>20.0</td>\n",
       "    </tr>\n",
       "  </tbody>\n",
       "</table>\n",
       "</div>"
      ],
      "text/plain": [
       "          label  cap_bottom  perc_25  median  perc_75  cap_top\n",
       "0  sentence_len         4.0      8.0    10.0     13.0     20.0"
      ]
     },
     "execution_count": 142,
     "metadata": {},
     "output_type": "execute_result"
    }
   ],
   "source": [
    "# test, 문장 길이\n",
    "plot_box(test, 'sentence_len')"
   ]
  },
  {
   "cell_type": "code",
   "execution_count": 155,
   "id": "ba7841fe",
   "metadata": {},
   "outputs": [
    {
     "data": {
      "text/plain": [
       "0         AxesSubplot(0.1,0.15;0.363636x0.75)\n",
       "1    AxesSubplot(0.536364,0.15;0.363636x0.75)\n",
       "dtype: object"
      ]
     },
     "execution_count": 155,
     "metadata": {},
     "output_type": "execute_result"
    },
    {
     "data": {
      "image/png": "[encoded data removed]",
      "text/plain": [
       "<Figure size 432x288 with 2 Axes>"
      ]
     },
     "metadata": {
      "needs_background": "light"
     },
     "output_type": "display_data"
    }
   ],
   "source": [
    "# 비문 여부에 따른 문장 길이의 분포\n",
    "# 문장이 길어지다 보면 비문이라고 판단할 가능성이 더 증가하지 않을까?\n",
    "# But, 큰 차이는 없어보임.\n",
    "\n",
    "# train\n",
    "grouped = train.groupby('acceptability_label')\n",
    "grouped.boxplot()"
   ]
  },
  {
   "cell_type": "code",
   "execution_count": 156,
   "id": "169b56d3",
   "metadata": {},
   "outputs": [
    {
     "data": {
      "text/plain": [
       "0         AxesSubplot(0.1,0.15;0.363636x0.75)\n",
       "1    AxesSubplot(0.536364,0.15;0.363636x0.75)\n",
       "dtype: object"
      ]
     },
     "execution_count": 156,
     "metadata": {},
     "output_type": "execute_result"
    },
    {
     "data": {
      "image/png": "[encoded data removed]",
      "text/plain": [
       "<Figure size 432x288 with 2 Axes>"
      ]
     },
     "metadata": {
      "needs_background": "light"
     },
     "output_type": "display_data"
    }
   ],
   "source": [
    "# dev\n",
    "grouped = dev.groupby('acceptability_label')\n",
    "grouped.boxplot()"
   ]
  },
  {
   "cell_type": "markdown",
   "id": "93740ce7",
   "metadata": {},
   "source": [
    "## 3) 인과관계추론셋"
   ]
  },
  {
   "cell_type": "code",
   "execution_count": 157,
   "id": "a4961431",
   "metadata": {},
   "outputs": [],
   "source": [
    "# load\n",
    "train = pd.read_csv('[말뭉치] 인과 관계 추론/SKT_COPA_train.tsv', sep='\\t')\n",
    "dev = pd.read_csv('[말뭉치] 인과 관계 추론/SKT_COPA_dev.tsv', sep='\\t')\n",
    "test = pd.read_csv('[말뭉치] 인과 관계 추론/SKT_COPA_test.tsv', sep='\\t')"
   ]
  },
  {
   "cell_type": "code",
   "execution_count": 158,
   "id": "8d6c9387",
   "metadata": {},
   "outputs": [
    {
     "data": {
      "text/html": [
       "<div>\n",
       "<style scoped>\n",
       "    .dataframe tbody tr th:only-of-type {\n",
       "        vertical-align: middle;\n",
       "    }\n",
       "\n",
       "    .dataframe tbody tr th {\n",
       "        vertical-align: top;\n",
       "    }\n",
       "\n",
       "    .dataframe thead th {\n",
       "        text-align: right;\n",
       "    }\n",
       "</style>\n",
       "<table border=\"1\" class=\"dataframe\">\n",
       "  <thead>\n",
       "    <tr style=\"text-align: right;\">\n",
       "      <th></th>\n",
       "      <th>ID</th>\n",
       "      <th>sentence</th>\n",
       "      <th>question</th>\n",
       "      <th>1</th>\n",
       "      <th>2</th>\n",
       "      <th>Answer</th>\n",
       "    </tr>\n",
       "  </thead>\n",
       "  <tbody>\n",
       "    <tr>\n",
       "      <th>0</th>\n",
       "      <td>1</td>\n",
       "      <td>이퀄라이저로 저음 음역대 소리 크기를 키웠다.</td>\n",
       "      <td>결과</td>\n",
       "      <td>베이스 소리가 잘 들리게 되었다.</td>\n",
       "      <td>베이스 소리가 들리지 않게 되었다.</td>\n",
       "      <td>1</td>\n",
       "    </tr>\n",
       "    <tr>\n",
       "      <th>1</th>\n",
       "      <td>2</td>\n",
       "      <td>음료에 초콜렛 시럽을 넣었다.</td>\n",
       "      <td>결과</td>\n",
       "      <td>음료수가 더 달아졌다.</td>\n",
       "      <td>음료수가 차가워졌다.</td>\n",
       "      <td>1</td>\n",
       "    </tr>\n",
       "    <tr>\n",
       "      <th>2</th>\n",
       "      <td>3</td>\n",
       "      <td>남자는 휴대폰을 호수에 빠뜨렸다.</td>\n",
       "      <td>결과</td>\n",
       "      <td>휴대폰이 업그레이드 되었다.</td>\n",
       "      <td>휴대폰이 고장났다.</td>\n",
       "      <td>2</td>\n",
       "    </tr>\n",
       "    <tr>\n",
       "      <th>3</th>\n",
       "      <td>4</td>\n",
       "      <td>옆 집 사람이 이사를 나갔다.</td>\n",
       "      <td>원인</td>\n",
       "      <td>옆 집 사람은 계약이 완료되었다.</td>\n",
       "      <td>옆 집 사람은 계약을 연장했다.</td>\n",
       "      <td>1</td>\n",
       "    </tr>\n",
       "    <tr>\n",
       "      <th>4</th>\n",
       "      <td>5</td>\n",
       "      <td>문을 밀었다.</td>\n",
       "      <td>결과</td>\n",
       "      <td>문이 잠겼다.</td>\n",
       "      <td>문이 열렸다.</td>\n",
       "      <td>2</td>\n",
       "    </tr>\n",
       "  </tbody>\n",
       "</table>\n",
       "</div>"
      ],
      "text/plain": [
       "   ID                   sentence question                   1  \\\n",
       "0   1  이퀄라이저로 저음 음역대 소리 크기를 키웠다.       결과  베이스 소리가 잘 들리게 되었다.   \n",
       "1   2           음료에 초콜렛 시럽을 넣었다.       결과        음료수가 더 달아졌다.   \n",
       "2   3         남자는 휴대폰을 호수에 빠뜨렸다.       결과     휴대폰이 업그레이드 되었다.   \n",
       "3   4           옆 집 사람이 이사를 나갔다.       원인  옆 집 사람은 계약이 완료되었다.   \n",
       "4   5                    문을 밀었다.       결과             문이 잠겼다.   \n",
       "\n",
       "                     2  Answer  \n",
       "0  베이스 소리가 들리지 않게 되었다.       1  \n",
       "1          음료수가 차가워졌다.       1  \n",
       "2           휴대폰이 고장났다.       2  \n",
       "3    옆 집 사람은 계약을 연장했다.       1  \n",
       "4              문이 열렸다.       2  "
      ]
     },
     "execution_count": 158,
     "metadata": {},
     "output_type": "execute_result"
    }
   ],
   "source": [
    "train.head()"
   ]
  },
  {
   "cell_type": "code",
   "execution_count": 159,
   "id": "89167bac",
   "metadata": {},
   "outputs": [
    {
     "name": "stdout",
     "output_type": "stream",
     "text": [
      "train set:  3080\n",
      "dev set:  500\n",
      "test set:  500\n"
     ]
    }
   ],
   "source": [
    "# 문장 개수\n",
    "print('train set: ', len(train))\n",
    "print('dev set: ', len(dev))\n",
    "print('test set: ', len(test))"
   ]
  },
  {
   "cell_type": "code",
   "execution_count": 160,
   "id": "75c1fb3f",
   "metadata": {},
   "outputs": [
    {
     "data": {
      "text/plain": [
       "ID          0\n",
       "sentence    0\n",
       "question    0\n",
       "1           0\n",
       "2           0\n",
       "Answer      0\n",
       "dtype: int64"
      ]
     },
     "execution_count": 160,
     "metadata": {},
     "output_type": "execute_result"
    }
   ],
   "source": [
    "# 결측치 확인\n",
    "train.isnull().sum()"
   ]
  },
  {
   "cell_type": "code",
   "execution_count": 161,
   "id": "6200b5ca",
   "metadata": {},
   "outputs": [
    {
     "data": {
      "text/plain": [
       "ID          0\n",
       "sentence    0\n",
       "question    0\n",
       "1           0\n",
       "2           0\n",
       "Answer      0\n",
       "dtype: int64"
      ]
     },
     "execution_count": 161,
     "metadata": {},
     "output_type": "execute_result"
    }
   ],
   "source": [
    "# 결측치 확인\n",
    "dev.isnull().sum()"
   ]
  },
  {
   "cell_type": "code",
   "execution_count": 162,
   "id": "1879c779",
   "metadata": {},
   "outputs": [
    {
     "data": {
      "text/plain": [
       "ID            0\n",
       "sentence      0\n",
       "question      0\n",
       "1             0\n",
       "2             0\n",
       "Answer      500\n",
       "dtype: int64"
      ]
     },
     "execution_count": 162,
     "metadata": {},
     "output_type": "execute_result"
    }
   ],
   "source": [
    "# 결측치 확인\n",
    "test.isnull().sum()"
   ]
  },
  {
   "cell_type": "code",
   "execution_count": 165,
   "id": "de1a3ab4",
   "metadata": {},
   "outputs": [
    {
     "data": {
      "image/png": "[encoded data removed]",
      "text/plain": [
       "<Figure size 432x288 with 1 Axes>"
      ]
     },
     "metadata": {
      "needs_background": "light"
     },
     "output_type": "display_data"
    }
   ],
   "source": [
    "# Answer별 빈도수 (train)\n",
    "train['Answer'] = train['Answer'].apply(lambda x: str(x))\n",
    "\n",
    "y = train['Answer'].value_counts()\n",
    "y.plot(kind='bar')\n",
    "\n",
    "plt.xlabel('Answer')\n",
    "plt.ylabel('count')\n",
    "plt.title('copa_train')\n",
    "    \n",
    "plt.show()\n"
   ]
  },
  {
   "cell_type": "code",
   "execution_count": 166,
   "id": "045159d0",
   "metadata": {},
   "outputs": [
    {
     "data": {
      "text/plain": [
       "1    1666\n",
       "2    1414\n",
       "Name: Answer, dtype: int64"
      ]
     },
     "execution_count": 166,
     "metadata": {},
     "output_type": "execute_result"
    }
   ],
   "source": [
    "# 빈도표\n",
    "y"
   ]
  },
  {
   "cell_type": "code",
   "execution_count": 183,
   "id": "325e8fcb",
   "metadata": {},
   "outputs": [
    {
     "data": {
      "image/png": "[encoded data removed]",
      "text/plain": [
       "<Figure size 432x288 with 1 Axes>"
      ]
     },
     "metadata": {
      "needs_background": "light"
     },
     "output_type": "display_data"
    }
   ],
   "source": [
    "# Answer별 빈도수(dev)\n",
    "dev['Answer'] = dev['Answer'].apply(lambda x: str(x))\n",
    "\n",
    "y = dev['Answer'].value_counts()\n",
    "y.plot(kind='bar')\n",
    "\n",
    "plt.xlabel('Answer')\n",
    "plt.ylabel('count')\n",
    "plt.title('copa_dev')\n",
    "    \n",
    "plt.show()\n"
   ]
  },
  {
   "cell_type": "code",
   "execution_count": 184,
   "id": "10340dbe",
   "metadata": {},
   "outputs": [
    {
     "data": {
      "text/plain": [
       "2    250\n",
       "1    250\n",
       "Name: Answer, dtype: int64"
      ]
     },
     "execution_count": 184,
     "metadata": {},
     "output_type": "execute_result"
    }
   ],
   "source": [
    "# 빈도표\n",
    "y"
   ]
  },
  {
   "cell_type": "code",
   "execution_count": 172,
   "id": "5d41c20b",
   "metadata": {},
   "outputs": [],
   "source": [
    "# 문장 길이(단위: 형태소)\n",
    "mecab = Mecab()\n",
    "\n",
    "train['sentence_morp'] = train['sentence'].apply(lambda x: mecab.morphs(x))\n",
    "train['sentence_len'] = train['sentence_morp'].apply(lambda x: len(x))\n",
    "train['1_morp'] = train['1'].apply(lambda x: mecab.morphs(x))\n",
    "train['1_len'] = train['1_morp'].apply(lambda x: len(x))\n",
    "train['2_morp'] = train['2'].apply(lambda x: mecab.morphs(x))\n",
    "train['2_len'] = train['2_morp'].apply(lambda x: len(x))\n",
    "\n",
    "\n",
    "dev['sentence_morp'] = dev['sentence'].apply(lambda x: mecab.morphs(x))\n",
    "dev['sentence_len'] = dev['sentence_morp'].apply(lambda x: len(x))\n",
    "dev['1_morp'] = dev['1'].apply(lambda x: mecab.morphs(x))\n",
    "dev['1_len'] = dev['1_morp'].apply(lambda x: len(x))\n",
    "dev['2_morp'] = dev['2'].apply(lambda x: mecab.morphs(x))\n",
    "dev['2_len'] = dev['2_morp'].apply(lambda x: len(x))\n",
    "\n",
    "\n",
    "test['sentence_morp'] = test['sentence'].apply(lambda x: mecab.morphs(x))\n",
    "test['sentence_len'] = test['sentence_morp'].apply(lambda x: len(x))\n",
    "test['1_morp'] = test['1'].apply(lambda x: mecab.morphs(x))\n",
    "test['1_len'] = test['1_morp'].apply(lambda x: len(x))\n",
    "test['2_morp'] = test['2'].apply(lambda x: mecab.morphs(x))\n",
    "test['2_len'] = test['2_morp'].apply(lambda x: len(x))"
   ]
  },
  {
   "cell_type": "code",
   "execution_count": 174,
   "id": "95c71a63",
   "metadata": {},
   "outputs": [
    {
     "data": {
      "image/png": "[encoded data removed]",
      "text/plain": [
       "<Figure size 432x288 with 1 Axes>"
      ]
     },
     "metadata": {
      "needs_background": "light"
     },
     "output_type": "display_data"
    },
    {
     "data": {
      "text/html": [
       "<div>\n",
       "<style scoped>\n",
       "    .dataframe tbody tr th:only-of-type {\n",
       "        vertical-align: middle;\n",
       "    }\n",
       "\n",
       "    .dataframe tbody tr th {\n",
       "        vertical-align: top;\n",
       "    }\n",
       "\n",
       "    .dataframe thead th {\n",
       "        text-align: right;\n",
       "    }\n",
       "</style>\n",
       "<table border=\"1\" class=\"dataframe\">\n",
       "  <thead>\n",
       "    <tr style=\"text-align: right;\">\n",
       "      <th></th>\n",
       "      <th>label</th>\n",
       "      <th>cap_bottom</th>\n",
       "      <th>perc_25</th>\n",
       "      <th>median</th>\n",
       "      <th>perc_75</th>\n",
       "      <th>cap_top</th>\n",
       "    </tr>\n",
       "  </thead>\n",
       "  <tbody>\n",
       "    <tr>\n",
       "      <th>0</th>\n",
       "      <td>sentence_len</td>\n",
       "      <td>4.0</td>\n",
       "      <td>7.0</td>\n",
       "      <td>8.0</td>\n",
       "      <td>9.0</td>\n",
       "      <td>12.0</td>\n",
       "    </tr>\n",
       "  </tbody>\n",
       "</table>\n",
       "</div>"
      ],
      "text/plain": [
       "          label  cap_bottom  perc_25  median  perc_75  cap_top\n",
       "0  sentence_len         4.0      7.0     8.0      9.0     12.0"
      ]
     },
     "execution_count": 174,
     "metadata": {},
     "output_type": "execute_result"
    }
   ],
   "source": [
    "# train, 문장 길이\n",
    "plot_box(train, 'sentence_len')"
   ]
  },
  {
   "cell_type": "code",
   "execution_count": 175,
   "id": "9a8fd9a1",
   "metadata": {},
   "outputs": [
    {
     "data": {
      "image/png": "[encoded data removed]",
      "text/plain": [
       "<Figure size 432x288 with 1 Axes>"
      ]
     },
     "metadata": {
      "needs_background": "light"
     },
     "output_type": "display_data"
    },
    {
     "data": {
      "text/html": [
       "<div>\n",
       "<style scoped>\n",
       "    .dataframe tbody tr th:only-of-type {\n",
       "        vertical-align: middle;\n",
       "    }\n",
       "\n",
       "    .dataframe tbody tr th {\n",
       "        vertical-align: top;\n",
       "    }\n",
       "\n",
       "    .dataframe thead th {\n",
       "        text-align: right;\n",
       "    }\n",
       "</style>\n",
       "<table border=\"1\" class=\"dataframe\">\n",
       "  <thead>\n",
       "    <tr style=\"text-align: right;\">\n",
       "      <th></th>\n",
       "      <th>label</th>\n",
       "      <th>cap_bottom</th>\n",
       "      <th>perc_25</th>\n",
       "      <th>median</th>\n",
       "      <th>perc_75</th>\n",
       "      <th>cap_top</th>\n",
       "    </tr>\n",
       "  </thead>\n",
       "  <tbody>\n",
       "    <tr>\n",
       "      <th>0</th>\n",
       "      <td>1_len</td>\n",
       "      <td>3.0</td>\n",
       "      <td>6.0</td>\n",
       "      <td>7.0</td>\n",
       "      <td>9.0</td>\n",
       "      <td>13.0</td>\n",
       "    </tr>\n",
       "  </tbody>\n",
       "</table>\n",
       "</div>"
      ],
      "text/plain": [
       "   label  cap_bottom  perc_25  median  perc_75  cap_top\n",
       "0  1_len         3.0      6.0     7.0      9.0     13.0"
      ]
     },
     "execution_count": 175,
     "metadata": {},
     "output_type": "execute_result"
    }
   ],
   "source": [
    "# train, 칼럼 1 길이\n",
    "plot_box(train, '1_len')"
   ]
  },
  {
   "cell_type": "code",
   "execution_count": 176,
   "id": "2eb4a49d",
   "metadata": {},
   "outputs": [
    {
     "data": {
      "image/png": "[encoded data removed]",
      "text/plain": [
       "<Figure size 432x288 with 1 Axes>"
      ]
     },
     "metadata": {
      "needs_background": "light"
     },
     "output_type": "display_data"
    },
    {
     "data": {
      "text/html": [
       "<div>\n",
       "<style scoped>\n",
       "    .dataframe tbody tr th:only-of-type {\n",
       "        vertical-align: middle;\n",
       "    }\n",
       "\n",
       "    .dataframe tbody tr th {\n",
       "        vertical-align: top;\n",
       "    }\n",
       "\n",
       "    .dataframe thead th {\n",
       "        text-align: right;\n",
       "    }\n",
       "</style>\n",
       "<table border=\"1\" class=\"dataframe\">\n",
       "  <thead>\n",
       "    <tr style=\"text-align: right;\">\n",
       "      <th></th>\n",
       "      <th>label</th>\n",
       "      <th>cap_bottom</th>\n",
       "      <th>perc_25</th>\n",
       "      <th>median</th>\n",
       "      <th>perc_75</th>\n",
       "      <th>cap_top</th>\n",
       "    </tr>\n",
       "  </thead>\n",
       "  <tbody>\n",
       "    <tr>\n",
       "      <th>0</th>\n",
       "      <td>2_len</td>\n",
       "      <td>3.0</td>\n",
       "      <td>6.0</td>\n",
       "      <td>7.0</td>\n",
       "      <td>9.0</td>\n",
       "      <td>13.0</td>\n",
       "    </tr>\n",
       "  </tbody>\n",
       "</table>\n",
       "</div>"
      ],
      "text/plain": [
       "   label  cap_bottom  perc_25  median  perc_75  cap_top\n",
       "0  2_len         3.0      6.0     7.0      9.0     13.0"
      ]
     },
     "execution_count": 176,
     "metadata": {},
     "output_type": "execute_result"
    }
   ],
   "source": [
    "# train, 칼럼 2 길이\n",
    "plot_box(train, '2_len')"
   ]
  },
  {
   "cell_type": "code",
   "execution_count": 177,
   "id": "5039e909",
   "metadata": {},
   "outputs": [
    {
     "data": {
      "image/png": "[encoded data removed]",
      "text/plain": [
       "<Figure size 432x288 with 1 Axes>"
      ]
     },
     "metadata": {
      "needs_background": "light"
     },
     "output_type": "display_data"
    },
    {
     "data": {
      "text/html": [
       "<div>\n",
       "<style scoped>\n",
       "    .dataframe tbody tr th:only-of-type {\n",
       "        vertical-align: middle;\n",
       "    }\n",
       "\n",
       "    .dataframe tbody tr th {\n",
       "        vertical-align: top;\n",
       "    }\n",
       "\n",
       "    .dataframe thead th {\n",
       "        text-align: right;\n",
       "    }\n",
       "</style>\n",
       "<table border=\"1\" class=\"dataframe\">\n",
       "  <thead>\n",
       "    <tr style=\"text-align: right;\">\n",
       "      <th></th>\n",
       "      <th>label</th>\n",
       "      <th>cap_bottom</th>\n",
       "      <th>perc_25</th>\n",
       "      <th>median</th>\n",
       "      <th>perc_75</th>\n",
       "      <th>cap_top</th>\n",
       "    </tr>\n",
       "  </thead>\n",
       "  <tbody>\n",
       "    <tr>\n",
       "      <th>0</th>\n",
       "      <td>sentence_len</td>\n",
       "      <td>3.0</td>\n",
       "      <td>7.0</td>\n",
       "      <td>8.0</td>\n",
       "      <td>10.0</td>\n",
       "      <td>14.0</td>\n",
       "    </tr>\n",
       "  </tbody>\n",
       "</table>\n",
       "</div>"
      ],
      "text/plain": [
       "          label  cap_bottom  perc_25  median  perc_75  cap_top\n",
       "0  sentence_len         3.0      7.0     8.0     10.0     14.0"
      ]
     },
     "execution_count": 177,
     "metadata": {},
     "output_type": "execute_result"
    }
   ],
   "source": [
    "# dev, 문장 길이\n",
    "plot_box(dev, 'sentence_len')"
   ]
  },
  {
   "cell_type": "code",
   "execution_count": 178,
   "id": "df3ae39c",
   "metadata": {},
   "outputs": [
    {
     "data": {
      "image/png": "[encoded data removed]",
      "text/plain": [
       "<Figure size 432x288 with 1 Axes>"
      ]
     },
     "metadata": {
      "needs_background": "light"
     },
     "output_type": "display_data"
    },
    {
     "data": {
      "text/html": [
       "<div>\n",
       "<style scoped>\n",
       "    .dataframe tbody tr th:only-of-type {\n",
       "        vertical-align: middle;\n",
       "    }\n",
       "\n",
       "    .dataframe tbody tr th {\n",
       "        vertical-align: top;\n",
       "    }\n",
       "\n",
       "    .dataframe thead th {\n",
       "        text-align: right;\n",
       "    }\n",
       "</style>\n",
       "<table border=\"1\" class=\"dataframe\">\n",
       "  <thead>\n",
       "    <tr style=\"text-align: right;\">\n",
       "      <th></th>\n",
       "      <th>label</th>\n",
       "      <th>cap_bottom</th>\n",
       "      <th>perc_25</th>\n",
       "      <th>median</th>\n",
       "      <th>perc_75</th>\n",
       "      <th>cap_top</th>\n",
       "    </tr>\n",
       "  </thead>\n",
       "  <tbody>\n",
       "    <tr>\n",
       "      <th>0</th>\n",
       "      <td>1_len</td>\n",
       "      <td>4.0</td>\n",
       "      <td>6.0</td>\n",
       "      <td>7.0</td>\n",
       "      <td>9.0</td>\n",
       "      <td>13.0</td>\n",
       "    </tr>\n",
       "  </tbody>\n",
       "</table>\n",
       "</div>"
      ],
      "text/plain": [
       "   label  cap_bottom  perc_25  median  perc_75  cap_top\n",
       "0  1_len         4.0      6.0     7.0      9.0     13.0"
      ]
     },
     "execution_count": 178,
     "metadata": {},
     "output_type": "execute_result"
    }
   ],
   "source": [
    "# dev, 칼럼 1 길이\n",
    "plot_box(dev, '1_len')"
   ]
  },
  {
   "cell_type": "code",
   "execution_count": 179,
   "id": "996eac72",
   "metadata": {},
   "outputs": [
    {
     "data": {
      "image/png": "[encoded data removed]",
      "text/plain": [
       "<Figure size 432x288 with 1 Axes>"
      ]
     },
     "metadata": {
      "needs_background": "light"
     },
     "output_type": "display_data"
    },
    {
     "data": {
      "text/html": [
       "<div>\n",
       "<style scoped>\n",
       "    .dataframe tbody tr th:only-of-type {\n",
       "        vertical-align: middle;\n",
       "    }\n",
       "\n",
       "    .dataframe tbody tr th {\n",
       "        vertical-align: top;\n",
       "    }\n",
       "\n",
       "    .dataframe thead th {\n",
       "        text-align: right;\n",
       "    }\n",
       "</style>\n",
       "<table border=\"1\" class=\"dataframe\">\n",
       "  <thead>\n",
       "    <tr style=\"text-align: right;\">\n",
       "      <th></th>\n",
       "      <th>label</th>\n",
       "      <th>cap_bottom</th>\n",
       "      <th>perc_25</th>\n",
       "      <th>median</th>\n",
       "      <th>perc_75</th>\n",
       "      <th>cap_top</th>\n",
       "    </tr>\n",
       "  </thead>\n",
       "  <tbody>\n",
       "    <tr>\n",
       "      <th>0</th>\n",
       "      <td>2_len</td>\n",
       "      <td>4.0</td>\n",
       "      <td>6.0</td>\n",
       "      <td>7.0</td>\n",
       "      <td>9.0</td>\n",
       "      <td>13.0</td>\n",
       "    </tr>\n",
       "  </tbody>\n",
       "</table>\n",
       "</div>"
      ],
      "text/plain": [
       "   label  cap_bottom  perc_25  median  perc_75  cap_top\n",
       "0  2_len         4.0      6.0     7.0      9.0     13.0"
      ]
     },
     "execution_count": 179,
     "metadata": {},
     "output_type": "execute_result"
    }
   ],
   "source": [
    "# dev, 칼럼 2 길이\n",
    "plot_box(dev, '2_len')"
   ]
  },
  {
   "cell_type": "code",
   "execution_count": 180,
   "id": "ce5b4999",
   "metadata": {},
   "outputs": [
    {
     "data": {
      "image/png": "[encoded data removed]",
      "text/plain": [
       "<Figure size 432x288 with 1 Axes>"
      ]
     },
     "metadata": {
      "needs_background": "light"
     },
     "output_type": "display_data"
    },
    {
     "data": {
      "text/html": [
       "<div>\n",
       "<style scoped>\n",
       "    .dataframe tbody tr th:only-of-type {\n",
       "        vertical-align: middle;\n",
       "    }\n",
       "\n",
       "    .dataframe tbody tr th {\n",
       "        vertical-align: top;\n",
       "    }\n",
       "\n",
       "    .dataframe thead th {\n",
       "        text-align: right;\n",
       "    }\n",
       "</style>\n",
       "<table border=\"1\" class=\"dataframe\">\n",
       "  <thead>\n",
       "    <tr style=\"text-align: right;\">\n",
       "      <th></th>\n",
       "      <th>label</th>\n",
       "      <th>cap_bottom</th>\n",
       "      <th>perc_25</th>\n",
       "      <th>median</th>\n",
       "      <th>perc_75</th>\n",
       "      <th>cap_top</th>\n",
       "    </tr>\n",
       "  </thead>\n",
       "  <tbody>\n",
       "    <tr>\n",
       "      <th>0</th>\n",
       "      <td>sentence_len</td>\n",
       "      <td>4.0</td>\n",
       "      <td>7.0</td>\n",
       "      <td>8.0</td>\n",
       "      <td>9.0</td>\n",
       "      <td>12.0</td>\n",
       "    </tr>\n",
       "  </tbody>\n",
       "</table>\n",
       "</div>"
      ],
      "text/plain": [
       "          label  cap_bottom  perc_25  median  perc_75  cap_top\n",
       "0  sentence_len         4.0      7.0     8.0      9.0     12.0"
      ]
     },
     "execution_count": 180,
     "metadata": {},
     "output_type": "execute_result"
    }
   ],
   "source": [
    "# test, 문장 길이\n",
    "plot_box(test, 'sentence_len')"
   ]
  },
  {
   "cell_type": "code",
   "execution_count": 181,
   "id": "67711283",
   "metadata": {},
   "outputs": [
    {
     "data": {
      "image/png": "[encoded data removed]",
      "text/plain": [
       "<Figure size 432x288 with 1 Axes>"
      ]
     },
     "metadata": {
      "needs_background": "light"
     },
     "output_type": "display_data"
    },
    {
     "data": {
      "text/html": [
       "<div>\n",
       "<style scoped>\n",
       "    .dataframe tbody tr th:only-of-type {\n",
       "        vertical-align: middle;\n",
       "    }\n",
       "\n",
       "    .dataframe tbody tr th {\n",
       "        vertical-align: top;\n",
       "    }\n",
       "\n",
       "    .dataframe thead th {\n",
       "        text-align: right;\n",
       "    }\n",
       "</style>\n",
       "<table border=\"1\" class=\"dataframe\">\n",
       "  <thead>\n",
       "    <tr style=\"text-align: right;\">\n",
       "      <th></th>\n",
       "      <th>label</th>\n",
       "      <th>cap_bottom</th>\n",
       "      <th>perc_25</th>\n",
       "      <th>median</th>\n",
       "      <th>perc_75</th>\n",
       "      <th>cap_top</th>\n",
       "    </tr>\n",
       "  </thead>\n",
       "  <tbody>\n",
       "    <tr>\n",
       "      <th>0</th>\n",
       "      <td>1_len</td>\n",
       "      <td>3.0</td>\n",
       "      <td>6.0</td>\n",
       "      <td>7.0</td>\n",
       "      <td>9.0</td>\n",
       "      <td>13.0</td>\n",
       "    </tr>\n",
       "  </tbody>\n",
       "</table>\n",
       "</div>"
      ],
      "text/plain": [
       "   label  cap_bottom  perc_25  median  perc_75  cap_top\n",
       "0  1_len         3.0      6.0     7.0      9.0     13.0"
      ]
     },
     "execution_count": 181,
     "metadata": {},
     "output_type": "execute_result"
    }
   ],
   "source": [
    "# test, 칼럼 1 길이\n",
    "plot_box(test, '1_len')"
   ]
  },
  {
   "cell_type": "code",
   "execution_count": 182,
   "id": "5c9285fa",
   "metadata": {},
   "outputs": [
    {
     "data": {
      "image/png": "[encoded data removed]",
      "text/plain": [
       "<Figure size 432x288 with 1 Axes>"
      ]
     },
     "metadata": {
      "needs_background": "light"
     },
     "output_type": "display_data"
    },
    {
     "data": {
      "text/html": [
       "<div>\n",
       "<style scoped>\n",
       "    .dataframe tbody tr th:only-of-type {\n",
       "        vertical-align: middle;\n",
       "    }\n",
       "\n",
       "    .dataframe tbody tr th {\n",
       "        vertical-align: top;\n",
       "    }\n",
       "\n",
       "    .dataframe thead th {\n",
       "        text-align: right;\n",
       "    }\n",
       "</style>\n",
       "<table border=\"1\" class=\"dataframe\">\n",
       "  <thead>\n",
       "    <tr style=\"text-align: right;\">\n",
       "      <th></th>\n",
       "      <th>label</th>\n",
       "      <th>cap_bottom</th>\n",
       "      <th>perc_25</th>\n",
       "      <th>median</th>\n",
       "      <th>perc_75</th>\n",
       "      <th>cap_top</th>\n",
       "    </tr>\n",
       "  </thead>\n",
       "  <tbody>\n",
       "    <tr>\n",
       "      <th>0</th>\n",
       "      <td>2_len</td>\n",
       "      <td>4.0</td>\n",
       "      <td>6.0</td>\n",
       "      <td>7.0</td>\n",
       "      <td>9.0</td>\n",
       "      <td>13.0</td>\n",
       "    </tr>\n",
       "  </tbody>\n",
       "</table>\n",
       "</div>"
      ],
      "text/plain": [
       "   label  cap_bottom  perc_25  median  perc_75  cap_top\n",
       "0  2_len         4.0      6.0     7.0      9.0     13.0"
      ]
     },
     "execution_count": 182,
     "metadata": {},
     "output_type": "execute_result"
    }
   ],
   "source": [
    "# test, 칼럼 2 길이\n",
    "plot_box(test, '2_len')"
   ]
  },
  {
   "cell_type": "markdown",
   "id": "dc335fc6",
   "metadata": {},
   "source": [
    "## 4) 판정 의문문셋"
   ]
  },
  {
   "cell_type": "code",
   "execution_count": 185,
   "id": "191da826",
   "metadata": {},
   "outputs": [],
   "source": [
    "# load\n",
    "train = pd.read_csv('[말뭉치] 판정 의문문/SKT_BoolQ_train.tsv', sep='\\t')\n",
    "dev = pd.read_csv('[말뭉치] 판정 의문문/SKT_BoolQ_dev.tsv', sep='\\t')\n",
    "test = pd.read_csv('[말뭉치] 판정 의문문/SKT_BoolQ_test.tsv', sep='\\t')"
   ]
  },
  {
   "cell_type": "code",
   "execution_count": 186,
   "id": "7161be91",
   "metadata": {},
   "outputs": [
    {
     "data": {
      "text/html": [
       "<div>\n",
       "<style scoped>\n",
       "    .dataframe tbody tr th:only-of-type {\n",
       "        vertical-align: middle;\n",
       "    }\n",
       "\n",
       "    .dataframe tbody tr th {\n",
       "        vertical-align: top;\n",
       "    }\n",
       "\n",
       "    .dataframe thead th {\n",
       "        text-align: right;\n",
       "    }\n",
       "</style>\n",
       "<table border=\"1\" class=\"dataframe\">\n",
       "  <thead>\n",
       "    <tr style=\"text-align: right;\">\n",
       "      <th></th>\n",
       "      <th>ID</th>\n",
       "      <th>Text</th>\n",
       "      <th>Question</th>\n",
       "      <th>Answer(FALSE = 0, TRUE = 1)</th>\n",
       "    </tr>\n",
       "  </thead>\n",
       "  <tbody>\n",
       "    <tr>\n",
       "      <th>0</th>\n",
       "      <td>1</td>\n",
       "      <td>로마 시대의 오리엔트의 범위는 제국 내에 동부 지방은 물론 제국 외부에 있는 다른 ...</td>\n",
       "      <td>오리엔트는 인도와 중국, 일본을 이루는 광범위한 지역을 지칭하는 단어로 쓰인다.</td>\n",
       "      <td>1</td>\n",
       "    </tr>\n",
       "    <tr>\n",
       "      <th>1</th>\n",
       "      <td>2</td>\n",
       "      <td>비글을 키우려면 비글이 뛰어놀수 있는 넓은 놀이공간 등을 확보하고 있는 단독주택이 ...</td>\n",
       "      <td>비글은 넓고 뚤린 공간에서 키워야 한다.</td>\n",
       "      <td>1</td>\n",
       "    </tr>\n",
       "    <tr>\n",
       "      <th>2</th>\n",
       "      <td>3</td>\n",
       "      <td>타이완 요리의 특징은 토속 요리(일본 통치 전)에서 기름을 많이 사용하는 다른 지역...</td>\n",
       "      <td>타이완 요리는 다른 지역의 중국 요리처럼 기름을 많이 사용하는 것이다.</td>\n",
       "      <td>0</td>\n",
       "    </tr>\n",
       "    <tr>\n",
       "      <th>3</th>\n",
       "      <td>4</td>\n",
       "      <td>연하곤란은 음식물이 구강에서 식도로 넘어가는 과정에 문제가 생겨 음식을 원활히 혹은...</td>\n",
       "      <td>연하곤란이 생기면 식도가 막히나요?</td>\n",
       "      <td>0</td>\n",
       "    </tr>\n",
       "    <tr>\n",
       "      <th>4</th>\n",
       "      <td>5</td>\n",
       "      <td>인문과학 또는 인문학(人文學, 영어: humanities)은 인간과 인간의 근원문제...</td>\n",
       "      <td>인문과학은 경험적인 접근을 주로 사용하는가?</td>\n",
       "      <td>0</td>\n",
       "    </tr>\n",
       "  </tbody>\n",
       "</table>\n",
       "</div>"
      ],
      "text/plain": [
       "   ID                                               Text  \\\n",
       "0   1  로마 시대의 오리엔트의 범위는 제국 내에 동부 지방은 물론 제국 외부에 있는 다른 ...   \n",
       "1   2  비글을 키우려면 비글이 뛰어놀수 있는 넓은 놀이공간 등을 확보하고 있는 단독주택이 ...   \n",
       "2   3  타이완 요리의 특징은 토속 요리(일본 통치 전)에서 기름을 많이 사용하는 다른 지역...   \n",
       "3   4  연하곤란은 음식물이 구강에서 식도로 넘어가는 과정에 문제가 생겨 음식을 원활히 혹은...   \n",
       "4   5  인문과학 또는 인문학(人文學, 영어: humanities)은 인간과 인간의 근원문제...   \n",
       "\n",
       "                                       Question  Answer(FALSE = 0, TRUE = 1)  \n",
       "0  오리엔트는 인도와 중국, 일본을 이루는 광범위한 지역을 지칭하는 단어로 쓰인다.                            1  \n",
       "1                        비글은 넓고 뚤린 공간에서 키워야 한다.                            1  \n",
       "2       타이완 요리는 다른 지역의 중국 요리처럼 기름을 많이 사용하는 것이다.                            0  \n",
       "3                           연하곤란이 생기면 식도가 막히나요?                            0  \n",
       "4                      인문과학은 경험적인 접근을 주로 사용하는가?                            0  "
      ]
     },
     "execution_count": 186,
     "metadata": {},
     "output_type": "execute_result"
    }
   ],
   "source": [
    "train.head()"
   ]
  },
  {
   "cell_type": "code",
   "execution_count": 187,
   "id": "e0eabd7a",
   "metadata": {},
   "outputs": [
    {
     "data": {
      "text/plain": [
       "ID                             0\n",
       "Text                           0\n",
       "Question                       0\n",
       "Answer(FALSE = 0, TRUE = 1)    0\n",
       "dtype: int64"
      ]
     },
     "execution_count": 187,
     "metadata": {},
     "output_type": "execute_result"
    }
   ],
   "source": [
    "# 결측치 확인\n",
    "train.isnull().sum()"
   ]
  },
  {
   "cell_type": "code",
   "execution_count": 188,
   "id": "4e885da1",
   "metadata": {},
   "outputs": [
    {
     "data": {
      "text/plain": [
       "ID                             0\n",
       "Text                           0\n",
       "Question                       0\n",
       "Answer(FALSE = 0, TRUE = 1)    0\n",
       "dtype: int64"
      ]
     },
     "execution_count": 188,
     "metadata": {},
     "output_type": "execute_result"
    }
   ],
   "source": [
    "# 결측치 확인\n",
    "dev.isnull().sum()"
   ]
  },
  {
   "cell_type": "code",
   "execution_count": 189,
   "id": "80186032",
   "metadata": {},
   "outputs": [
    {
     "data": {
      "text/plain": [
       "ID                               0\n",
       "Text                             0\n",
       "Question                         0\n",
       "Answer(FALSE = 0, TRUE = 1)    704\n",
       "dtype: int64"
      ]
     },
     "execution_count": 189,
     "metadata": {},
     "output_type": "execute_result"
    }
   ],
   "source": [
    "# 결측치 확인\n",
    "test.isnull().sum()"
   ]
  },
  {
   "cell_type": "code",
   "execution_count": 191,
   "id": "94fee255",
   "metadata": {},
   "outputs": [
    {
     "data": {
      "image/png": "[encoded data removed]",
      "text/plain": [
       "<Figure size 432x288 with 1 Axes>"
      ]
     },
     "metadata": {
      "needs_background": "light"
     },
     "output_type": "display_data"
    }
   ],
   "source": [
    "# Answer별 빈도수\n",
    "# train\n",
    "train['Answer(FALSE = 0, TRUE = 1)'] = train['Answer(FALSE = 0, TRUE = 1)'].apply(lambda x: str(x))\n",
    "\n",
    "y = train['Answer(FALSE = 0, TRUE = 1)'].value_counts()\n",
    "y.plot(kind='bar')\n",
    "\n",
    "plt.xlabel('Answer')\n",
    "plt.ylabel('count')\n",
    "plt.title('boolq_train')\n",
    "    \n",
    "plt.show()\n"
   ]
  },
  {
   "cell_type": "code",
   "execution_count": 192,
   "id": "6bf77235",
   "metadata": {},
   "outputs": [
    {
     "data": {
      "text/plain": [
       "0    1834\n",
       "1    1831\n",
       "Name: Answer(FALSE = 0, TRUE = 1), dtype: int64"
      ]
     },
     "execution_count": 192,
     "metadata": {},
     "output_type": "execute_result"
    }
   ],
   "source": [
    "# 빈도표\n",
    "y"
   ]
  },
  {
   "cell_type": "code",
   "execution_count": 193,
   "id": "52bf3202",
   "metadata": {},
   "outputs": [
    {
     "data": {
      "image/png": "[encoded data removed]",
      "text/plain": [
       "<Figure size 432x288 with 1 Axes>"
      ]
     },
     "metadata": {
      "needs_background": "light"
     },
     "output_type": "display_data"
    }
   ],
   "source": [
    "# Answer별 빈도수\n",
    "# dev\n",
    "dev['Answer(FALSE = 0, TRUE = 1)'] = dev['Answer(FALSE = 0, TRUE = 1)'].apply(lambda x: str(x))\n",
    "\n",
    "y = dev['Answer(FALSE = 0, TRUE = 1)'].value_counts()\n",
    "y.plot(kind='bar')\n",
    "\n",
    "plt.xlabel('Answer')\n",
    "plt.ylabel('count')\n",
    "plt.title('boolq_dev')\n",
    "    \n",
    "plt.show()\n"
   ]
  },
  {
   "cell_type": "code",
   "execution_count": 194,
   "id": "58638296",
   "metadata": {},
   "outputs": [
    {
     "data": {
      "text/plain": [
       "0    374\n",
       "1    326\n",
       "Name: Answer(FALSE = 0, TRUE = 1), dtype: int64"
      ]
     },
     "execution_count": 194,
     "metadata": {},
     "output_type": "execute_result"
    }
   ],
   "source": [
    "# 빈도표\n",
    "y"
   ]
  },
  {
   "cell_type": "code",
   "execution_count": 195,
   "id": "459d9b5c",
   "metadata": {},
   "outputs": [],
   "source": [
    "# 문장 길이(단위: 형태소)\n",
    "mecab = Mecab()\n",
    "\n",
    "train['Text_morp'] = train['Text'].apply(lambda x: mecab.morphs(x))\n",
    "train['Text_len'] = train['Text_morp'].apply(lambda x: len(x))\n",
    "train['Question_morp'] = train['Question'].apply(lambda x: mecab.morphs(x))\n",
    "train['Question_len'] = train['Question_morp'].apply(lambda x: len(x))\n",
    "\n",
    "\n",
    "dev['Text_morp'] = dev['Text'].apply(lambda x: mecab.morphs(x))\n",
    "dev['Text_len'] = dev['Text_morp'].apply(lambda x: len(x))\n",
    "dev['Question_morp'] = dev['Question'].apply(lambda x: mecab.morphs(x))\n",
    "dev['Question_len'] = dev['Question_morp'].apply(lambda x: len(x))\n",
    "\n",
    "\n",
    "test['Text_morp'] = test['Text'].apply(lambda x: mecab.morphs(x))\n",
    "test['Text_len'] = test['Text_morp'].apply(lambda x: len(x))\n",
    "test['Question_morp'] = test['Question'].apply(lambda x: mecab.morphs(x))\n",
    "test['Question_len'] = test['Question_morp'].apply(lambda x: len(x))"
   ]
  },
  {
   "cell_type": "code",
   "execution_count": 196,
   "id": "aa152399",
   "metadata": {},
   "outputs": [
    {
     "data": {
      "image/png": "[encoded data removed]",
      "text/plain": [
       "<Figure size 432x288 with 1 Axes>"
      ]
     },
     "metadata": {
      "needs_background": "light"
     },
     "output_type": "display_data"
    },
    {
     "data": {
      "text/html": [
       "<div>\n",
       "<style scoped>\n",
       "    .dataframe tbody tr th:only-of-type {\n",
       "        vertical-align: middle;\n",
       "    }\n",
       "\n",
       "    .dataframe tbody tr th {\n",
       "        vertical-align: top;\n",
       "    }\n",
       "\n",
       "    .dataframe thead th {\n",
       "        text-align: right;\n",
       "    }\n",
       "</style>\n",
       "<table border=\"1\" class=\"dataframe\">\n",
       "  <thead>\n",
       "    <tr style=\"text-align: right;\">\n",
       "      <th></th>\n",
       "      <th>label</th>\n",
       "      <th>cap_bottom</th>\n",
       "      <th>perc_25</th>\n",
       "      <th>median</th>\n",
       "      <th>perc_75</th>\n",
       "      <th>cap_top</th>\n",
       "    </tr>\n",
       "  </thead>\n",
       "  <tbody>\n",
       "    <tr>\n",
       "      <th>0</th>\n",
       "      <td>Text_len</td>\n",
       "      <td>15.0</td>\n",
       "      <td>68.0</td>\n",
       "      <td>88.0</td>\n",
       "      <td>113.0</td>\n",
       "      <td>180.0</td>\n",
       "    </tr>\n",
       "  </tbody>\n",
       "</table>\n",
       "</div>"
      ],
      "text/plain": [
       "      label  cap_bottom  perc_25  median  perc_75  cap_top\n",
       "0  Text_len        15.0     68.0    88.0    113.0    180.0"
      ]
     },
     "execution_count": 196,
     "metadata": {},
     "output_type": "execute_result"
    }
   ],
   "source": [
    "# train, Text\n",
    "# 다른 데이터셋들에 비해 Text 칼럼의 길이가 상당히 긺. (문단 수준)\n",
    "plot_box(train, 'Text_len')"
   ]
  },
  {
   "cell_type": "code",
   "execution_count": 197,
   "id": "5e038b4b",
   "metadata": {},
   "outputs": [
    {
     "data": {
      "image/png": "[encoded data removed]",
      "text/plain": [
       "<Figure size 432x288 with 1 Axes>"
      ]
     },
     "metadata": {
      "needs_background": "light"
     },
     "output_type": "display_data"
    },
    {
     "data": {
      "text/html": [
       "<div>\n",
       "<style scoped>\n",
       "    .dataframe tbody tr th:only-of-type {\n",
       "        vertical-align: middle;\n",
       "    }\n",
       "\n",
       "    .dataframe tbody tr th {\n",
       "        vertical-align: top;\n",
       "    }\n",
       "\n",
       "    .dataframe thead th {\n",
       "        text-align: right;\n",
       "    }\n",
       "</style>\n",
       "<table border=\"1\" class=\"dataframe\">\n",
       "  <thead>\n",
       "    <tr style=\"text-align: right;\">\n",
       "      <th></th>\n",
       "      <th>label</th>\n",
       "      <th>cap_bottom</th>\n",
       "      <th>perc_25</th>\n",
       "      <th>median</th>\n",
       "      <th>perc_75</th>\n",
       "      <th>cap_top</th>\n",
       "    </tr>\n",
       "  </thead>\n",
       "  <tbody>\n",
       "    <tr>\n",
       "      <th>0</th>\n",
       "      <td>Question_len</td>\n",
       "      <td>5.0</td>\n",
       "      <td>9.0</td>\n",
       "      <td>11.0</td>\n",
       "      <td>14.0</td>\n",
       "      <td>21.0</td>\n",
       "    </tr>\n",
       "  </tbody>\n",
       "</table>\n",
       "</div>"
      ],
      "text/plain": [
       "          label  cap_bottom  perc_25  median  perc_75  cap_top\n",
       "0  Question_len         5.0      9.0    11.0     14.0     21.0"
      ]
     },
     "execution_count": 197,
     "metadata": {},
     "output_type": "execute_result"
    }
   ],
   "source": [
    "# train, Q\n",
    "plot_box(train, 'Question_len')"
   ]
  },
  {
   "cell_type": "code",
   "execution_count": 198,
   "id": "2c7d78d5",
   "metadata": {},
   "outputs": [
    {
     "data": {
      "image/png": "[encoded data removed]",
      "text/plain": [
       "<Figure size 432x288 with 1 Axes>"
      ]
     },
     "metadata": {
      "needs_background": "light"
     },
     "output_type": "display_data"
    },
    {
     "data": {
      "text/html": [
       "<div>\n",
       "<style scoped>\n",
       "    .dataframe tbody tr th:only-of-type {\n",
       "        vertical-align: middle;\n",
       "    }\n",
       "\n",
       "    .dataframe tbody tr th {\n",
       "        vertical-align: top;\n",
       "    }\n",
       "\n",
       "    .dataframe thead th {\n",
       "        text-align: right;\n",
       "    }\n",
       "</style>\n",
       "<table border=\"1\" class=\"dataframe\">\n",
       "  <thead>\n",
       "    <tr style=\"text-align: right;\">\n",
       "      <th></th>\n",
       "      <th>label</th>\n",
       "      <th>cap_bottom</th>\n",
       "      <th>perc_25</th>\n",
       "      <th>median</th>\n",
       "      <th>perc_75</th>\n",
       "      <th>cap_top</th>\n",
       "    </tr>\n",
       "  </thead>\n",
       "  <tbody>\n",
       "    <tr>\n",
       "      <th>0</th>\n",
       "      <td>Text_len</td>\n",
       "      <td>16.0</td>\n",
       "      <td>68.0</td>\n",
       "      <td>87.0</td>\n",
       "      <td>108.0</td>\n",
       "      <td>168.0</td>\n",
       "    </tr>\n",
       "  </tbody>\n",
       "</table>\n",
       "</div>"
      ],
      "text/plain": [
       "      label  cap_bottom  perc_25  median  perc_75  cap_top\n",
       "0  Text_len        16.0     68.0    87.0    108.0    168.0"
      ]
     },
     "execution_count": 198,
     "metadata": {},
     "output_type": "execute_result"
    }
   ],
   "source": [
    "# dev, Text\n",
    "plot_box(dev, 'Text_len')"
   ]
  },
  {
   "cell_type": "code",
   "execution_count": 199,
   "id": "797e6e0e",
   "metadata": {},
   "outputs": [
    {
     "data": {
      "image/png": "[encoded data removed]",
      "text/plain": [
       "<Figure size 432x288 with 1 Axes>"
      ]
     },
     "metadata": {
      "needs_background": "light"
     },
     "output_type": "display_data"
    },
    {
     "data": {
      "text/html": [
       "<div>\n",
       "<style scoped>\n",
       "    .dataframe tbody tr th:only-of-type {\n",
       "        vertical-align: middle;\n",
       "    }\n",
       "\n",
       "    .dataframe tbody tr th {\n",
       "        vertical-align: top;\n",
       "    }\n",
       "\n",
       "    .dataframe thead th {\n",
       "        text-align: right;\n",
       "    }\n",
       "</style>\n",
       "<table border=\"1\" class=\"dataframe\">\n",
       "  <thead>\n",
       "    <tr style=\"text-align: right;\">\n",
       "      <th></th>\n",
       "      <th>label</th>\n",
       "      <th>cap_bottom</th>\n",
       "      <th>perc_25</th>\n",
       "      <th>median</th>\n",
       "      <th>perc_75</th>\n",
       "      <th>cap_top</th>\n",
       "    </tr>\n",
       "  </thead>\n",
       "  <tbody>\n",
       "    <tr>\n",
       "      <th>0</th>\n",
       "      <td>Question_len</td>\n",
       "      <td>4.0</td>\n",
       "      <td>10.0</td>\n",
       "      <td>12.0</td>\n",
       "      <td>14.0</td>\n",
       "      <td>20.0</td>\n",
       "    </tr>\n",
       "  </tbody>\n",
       "</table>\n",
       "</div>"
      ],
      "text/plain": [
       "          label  cap_bottom  perc_25  median  perc_75  cap_top\n",
       "0  Question_len         4.0     10.0    12.0     14.0     20.0"
      ]
     },
     "execution_count": 199,
     "metadata": {},
     "output_type": "execute_result"
    }
   ],
   "source": [
    "# dev, Q\n",
    "plot_box(dev, 'Question_len')"
   ]
  },
  {
   "cell_type": "code",
   "execution_count": 200,
   "id": "3aef61c2",
   "metadata": {},
   "outputs": [
    {
     "data": {
      "image/png": "[encoded data removed]",
      "text/plain": [
       "<Figure size 432x288 with 1 Axes>"
      ]
     },
     "metadata": {
      "needs_background": "light"
     },
     "output_type": "display_data"
    },
    {
     "data": {
      "text/html": [
       "<div>\n",
       "<style scoped>\n",
       "    .dataframe tbody tr th:only-of-type {\n",
       "        vertical-align: middle;\n",
       "    }\n",
       "\n",
       "    .dataframe tbody tr th {\n",
       "        vertical-align: top;\n",
       "    }\n",
       "\n",
       "    .dataframe thead th {\n",
       "        text-align: right;\n",
       "    }\n",
       "</style>\n",
       "<table border=\"1\" class=\"dataframe\">\n",
       "  <thead>\n",
       "    <tr style=\"text-align: right;\">\n",
       "      <th></th>\n",
       "      <th>label</th>\n",
       "      <th>cap_bottom</th>\n",
       "      <th>perc_25</th>\n",
       "      <th>median</th>\n",
       "      <th>perc_75</th>\n",
       "      <th>cap_top</th>\n",
       "    </tr>\n",
       "  </thead>\n",
       "  <tbody>\n",
       "    <tr>\n",
       "      <th>0</th>\n",
       "      <td>Text_len</td>\n",
       "      <td>17.0</td>\n",
       "      <td>69.0</td>\n",
       "      <td>87.0</td>\n",
       "      <td>107.0</td>\n",
       "      <td>163.0</td>\n",
       "    </tr>\n",
       "  </tbody>\n",
       "</table>\n",
       "</div>"
      ],
      "text/plain": [
       "      label  cap_bottom  perc_25  median  perc_75  cap_top\n",
       "0  Text_len        17.0     69.0    87.0    107.0    163.0"
      ]
     },
     "execution_count": 200,
     "metadata": {},
     "output_type": "execute_result"
    }
   ],
   "source": [
    "# test, Text\n",
    "plot_box(test, 'Text_len')"
   ]
  },
  {
   "cell_type": "code",
   "execution_count": 201,
   "id": "9494017d",
   "metadata": {},
   "outputs": [
    {
     "data": {
      "image/png": "[encoded data removed]",
      "text/plain": [
       "<Figure size 432x288 with 1 Axes>"
      ]
     },
     "metadata": {
      "needs_background": "light"
     },
     "output_type": "display_data"
    },
    {
     "data": {
      "text/html": [
       "<div>\n",
       "<style scoped>\n",
       "    .dataframe tbody tr th:only-of-type {\n",
       "        vertical-align: middle;\n",
       "    }\n",
       "\n",
       "    .dataframe tbody tr th {\n",
       "        vertical-align: top;\n",
       "    }\n",
       "\n",
       "    .dataframe thead th {\n",
       "        text-align: right;\n",
       "    }\n",
       "</style>\n",
       "<table border=\"1\" class=\"dataframe\">\n",
       "  <thead>\n",
       "    <tr style=\"text-align: right;\">\n",
       "      <th></th>\n",
       "      <th>label</th>\n",
       "      <th>cap_bottom</th>\n",
       "      <th>perc_25</th>\n",
       "      <th>median</th>\n",
       "      <th>perc_75</th>\n",
       "      <th>cap_top</th>\n",
       "    </tr>\n",
       "  </thead>\n",
       "  <tbody>\n",
       "    <tr>\n",
       "      <th>0</th>\n",
       "      <td>Question_len</td>\n",
       "      <td>5.0</td>\n",
       "      <td>10.0</td>\n",
       "      <td>11.0</td>\n",
       "      <td>14.0</td>\n",
       "      <td>20.0</td>\n",
       "    </tr>\n",
       "  </tbody>\n",
       "</table>\n",
       "</div>"
      ],
      "text/plain": [
       "          label  cap_bottom  perc_25  median  perc_75  cap_top\n",
       "0  Question_len         5.0     10.0    11.0     14.0     20.0"
      ]
     },
     "execution_count": 201,
     "metadata": {},
     "output_type": "execute_result"
    }
   ],
   "source": [
    "# test, Q\n",
    "plot_box(test, 'Question_len')"
   ]
  },
  {
   "cell_type": "code",
   "execution_count": null,
   "id": "f19cb23d",
   "metadata": {},
   "outputs": [],
   "source": []
  }
 ],
 "metadata": {
  "kernelspec": {
   "display_name": "venv",
   "language": "python",
   "name": "venv"
  },
  "language_info": {
   "codemirror_mode": {
    "name": "ipython",
    "version": 3
   },
   "file_extension": ".py",
   "mimetype": "text/x-python",
   "name": "python",
   "nbconvert_exporter": "python",
   "pygments_lexer": "ipython3",
   "version": "3.8.10"
  }
 },
 "nbformat": 4,
 "nbformat_minor": 5
}
