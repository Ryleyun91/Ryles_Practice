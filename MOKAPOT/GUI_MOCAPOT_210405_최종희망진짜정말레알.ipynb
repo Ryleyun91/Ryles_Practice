{
 "cells": [
  {
   "cell_type": "code",
   "execution_count": 34,
   "metadata": {},
   "outputs": [
    {
     "name": "stdout",
     "output_type": "stream",
     "text": [
      "Package                       Version\n",
      "----------------------------- -------------------\n",
      "absl-py                       0.13.0\n",
      "appnope                       0.1.2\n",
      "argon2-cffi                   20.1.0\n",
      "astunparse                    1.6.3\n",
      "async-generator               1.10\n",
      "attrs                         21.2.0\n",
      "backcall                      0.2.0\n",
      "backports.functools-lru-cache 1.6.4\n",
      "beautifulsoup4                4.6.0\n",
      "bleach                        3.3.0\n",
      "cachetools                    4.2.2\n",
      "certifi                       2021.5.30\n",
      "cffi                          1.14.5\n",
      "chardet                       4.0.0\n",
      "colorama                      0.4.4\n",
      "decorator                     5.0.9\n",
      "defusedxml                    0.7.1\n",
      "entrypoints                   0.3\n",
      "flatbuffers                   1.12\n",
      "gast                          0.4.0\n",
      "google-auth                   1.32.0\n",
      "google-auth-oauthlib          0.4.4\n",
      "google-pasta                  0.2.0\n",
      "grpcio                        1.34.1\n",
      "h5py                          3.1.0\n",
      "idna                          2.10\n",
      "importlib-metadata            4.5.0\n",
      "ipykernel                     5.5.5\n",
      "ipython                       7.24.1\n",
      "ipython-genutils              0.2.0\n",
      "jedi                          0.18.0\n",
      "Jinja2                        3.0.1\n",
      "JPype1                        1.3.0\n",
      "jsonschema                    3.2.0\n",
      "jupyter-client                6.1.12\n",
      "jupyter-core                  4.7.1\n",
      "jupyterlab-pygments           0.1.2\n",
      "keras-nightly                 2.5.0.dev2021032900\n",
      "Keras-Preprocessing           1.1.2\n",
      "konlpy                        0.5.2\n",
      "kss                           2.5.1\n",
      "lxml                          4.6.3\n",
      "Markdown                      3.3.4\n",
      "MarkupSafe                    2.0.1\n",
      "matplotlib-inline             0.1.2\n",
      "mecab-python                  0.996-ko-0.9.2\n",
      "mistune                       0.8.4\n",
      "nbclient                      0.5.3\n",
      "nbconvert                     6.1.0\n",
      "nbformat                      5.1.3\n",
      "nest-asyncio                  1.5.1\n",
      "notebook                      6.4.0\n",
      "numpy                         1.19.5\n",
      "oauthlib                      3.1.1\n",
      "opt-einsum                    3.3.0\n",
      "packaging                     20.9\n",
      "pandocfilters                 1.4.2\n",
      "parso                         0.8.2\n",
      "pexpect                       4.8.0\n",
      "pickleshare                   0.7.5\n",
      "pip                           21.1.2\n",
      "prometheus-client             0.11.0\n",
      "prompt-toolkit                3.0.19\n",
      "protobuf                      3.17.3\n",
      "ptyprocess                    0.7.0\n",
      "pyasn1                        0.4.8\n",
      "pyasn1-modules                0.2.8\n",
      "pycparser                     2.20\n",
      "Pygments                      2.9.0\n",
      "pykospacing                   0.5\n",
      "pyparsing                     2.4.7\n",
      "pyrsistent                    0.17.3\n",
      "PySocks                       1.7.1\n",
      "python-dateutil               2.8.1\n",
      "pyzmq                         20.0.0\n",
      "requests                      2.25.1\n",
      "requests-oauthlib             1.3.0\n",
      "rsa                           4.7.2\n",
      "Send2Trash                    1.7.1\n",
      "setuptools                    52.0.0.post20210125\n",
      "six                           1.15.0\n",
      "tensorboard                   2.5.0\n",
      "tensorboard-data-server       0.6.1\n",
      "tensorboard-plugin-wit        1.8.0\n",
      "tensorflow                    2.5.0\n",
      "tensorflow-estimator          2.5.0\n",
      "termcolor                     1.1.0\n",
      "terminado                     0.10.1\n",
      "testpath                      0.5.0\n",
      "tornado                       6.1\n",
      "traitlets                     5.0.5\n",
      "tweepy                        3.10.0\n",
      "typing-extensions             3.7.4.3\n",
      "urllib3                       1.26.5\n",
      "wcwidth                       0.2.5\n",
      "webencodings                  0.5.1\n",
      "Werkzeug                      2.0.1\n",
      "wheel                         0.36.2\n",
      "wrapt                         1.12.1\n",
      "zipp                          3.4.1\n",
      "Note: you may need to restart the kernel to use updated packages.\n"
     ]
    }
   ],
   "source": [
    "pip list"
   ]
  },
  {
   "cell_type": "code",
   "execution_count": 24,
   "metadata": {},
   "outputs": [],
   "source": [
    "from pykospacing import Spacing"
   ]
  },
  {
   "cell_type": "code",
   "execution_count": 31,
   "metadata": {},
   "outputs": [],
   "source": [
    "spacing = Spacing()"
   ]
  },
  {
   "cell_type": "code",
   "execution_count": 33,
   "metadata": {},
   "outputs": [
    {
     "data": {
      "text/plain": [
       "'안녕하세요. 저는 누구입니다'"
      ]
     },
     "execution_count": 33,
     "metadata": {},
     "output_type": "execute_result"
    }
   ],
   "source": [
    "spacing(\"안녕하세요.저는누구입니다\")"
   ]
  },
  {
   "cell_type": "code",
   "execution_count": null,
   "metadata": {
    "colab": {
     "base_uri": "https://localhost:8080/",
     "height": 380
    },
    "executionInfo": {
     "elapsed": 2131,
     "status": "error",
     "timestamp": 1617260526465,
     "user": {
      "displayName": "‍김현경[ 대학원석사과정졸업 / 국어국문학과 ]",
      "photoUrl": "",
      "userId": "12059604309874311341"
     },
     "user_tz": -540
    },
    "id": "8ogy0oNoN6tV",
    "outputId": "1a310af3-9de5-423c-d3a7-1342594c815c",
    "scrolled": true
   },
   "outputs": [],
   "source": [
    "import os\n",
    "import re\n",
    "import tkinter.ttk as ttk\n",
    "import tkinter as tk\n",
    "# import hanja\n",
    "import MeCab\n",
    "import kss\n",
    "import time\n",
    "from pykospacing import Spacing\n",
    "# from hanspell import spell_checker\n",
    "from tkinter import *\n",
    "from tkinter import filedialog\n",
    "from tkinter import messagebox"
   ]
  },
  {
   "cell_type": "code",
   "execution_count": 3,
   "metadata": {
    "executionInfo": {
     "elapsed": 2117,
     "status": "aborted",
     "timestamp": 1617260526456,
     "user": {
      "displayName": "‍김현경[ 대학원석사과정졸업 / 국어국문학과 ]",
      "photoUrl": "",
      "userId": "12059604309874311341"
     },
     "user_tz": -540
    },
    "id": "-1PSWN8MN6tc",
    "scrolled": true
   },
   "outputs": [],
   "source": [
    "def __init__():\n",
    "    global output_files\n",
    "    global text_origin\n",
    "    global g_text\n",
    "    global g_pos_text\n",
    "    global name\n",
    "    global log\n",
    "#     global exit_flag\n",
    "    \n",
    "    output_files = []\n",
    "    text_origin = []\n",
    "    g_text = []\n",
    "    g_pos_text = []\n",
    "    name=[]\n",
    "    log = ''\n",
    "#     exit_flag = False\n",
    "    \n",
    "output_files = []\n",
    "text_origin = []\n",
    "g_text = []\n",
    "g_pos_text = []\n",
    "name=[]\n",
    "log = ''\n",
    "# exit_flag = False"
   ]
  },
  {
   "cell_type": "markdown",
   "metadata": {
    "id": "iKjYRb_hN6td"
   },
   "source": [
    "## 파일열기/저장 GUI"
   ]
  },
  {
   "cell_type": "code",
   "execution_count": 4,
   "metadata": {
    "executionInfo": {
     "elapsed": 2116,
     "status": "aborted",
     "timestamp": 1617260526457,
     "user": {
      "displayName": "‍김현경[ 대학원석사과정졸업 / 국어국문학과 ]",
      "photoUrl": "",
      "userId": "12059604309874311341"
     },
     "user_tz": -540
    },
    "id": "Iqo1yYTCN6te"
   },
   "outputs": [],
   "source": [
    "__init__()\n",
    "\n",
    "\n",
    "def OpenFile():\n",
    "    global g_text\n",
    "    global name\n",
    "    global log\n",
    "    \n",
    "    name = filedialog.askopenfilenames(filetypes =\n",
    "                                     ((\"모든파일\", \"*.*\"),\n",
    "                                      (\"텍스트파일\", \"*.txt\")))\n",
    "    log = log + 'input: '\n",
    "    \n",
    "    for i in name:\n",
    "        path.insert(END, i.split('/')[-1]+'\\n')\n",
    "               \n",
    "        file_content = open(i, 'r', encoding='utf-8')\n",
    "        log = log + i\n",
    "        \n",
    "        tmp_text = file_content.read()\n",
    "        g_text.append(tmp_text)\n",
    "        text_origin.append(tmp_text)\n",
    "        \n",
    "        #messagebox.showinfo('내용', g_text)\n",
    "    \n",
    "def Savefile():\n",
    "    global var\n",
    "    global log\n",
    "    global name\n",
    "    T_save.delete('1.0', END)\n",
    "    \n",
    "#     name= filedialog.asksaveasfilename(defaultextension='.txt',\n",
    "#         filetypes = ((\"모든파일\", \"*.*\"),\n",
    "#                      (\"텍스트파일\", \"*.txt\")))\n",
    "    \n",
    "#     z= open(name,'w', encoding='utf-8')\n",
    "    \n",
    "     # output 파일에 시간기록\n",
    "    time.localtime(time.time())\n",
    "    time_str = time.strftime('%Y-%m-%d_%I-%M-%S-%p')\n",
    "    output_files=[]\n",
    "    \n",
    "    log = log + 'output: '\n",
    "    \n",
    "    for file in name:\n",
    "        file_name = file.split('.txt')[0]\n",
    "        output_file_name = '%s_output_%s.txt' % (file_name, time_str)\n",
    "        log = log + ('%s\\n' % output_file_name)\n",
    "        \n",
    "        output_files.append(output_file_name)\n",
    "    \n",
    "    for content, output_file in zip(g_text, output_files):\n",
    "        f_out = open(output_file,'w',encoding='utf-8')\n",
    "        f_out.write(content)\n",
    "        f_out.close()\n",
    "        out_path=output_file.split('/')[:-1]\n",
    "    \n",
    "    T_save.insert(END, '/'.join(out_path))\n",
    "    \n",
    "    radio_option = var.get()    \n",
    "    if (radio_option == '원문 분석') or (radio_option == '전처리 후 분석'):\n",
    "        pos_output_write()\n",
    "        \n",
    "#     z.write(g_text)\n",
    "\n",
    "    # 로그 기록        \n",
    "    log_path = '\\\\'.join(out_path) + '\\\\log.txt'\n",
    "    \n",
    "    log_file = open(log_path, 'a', encoding='utf-8')\n",
    "    log = log + '\\n============================\\n\\n' # 로그 내용 : 산출물 파일 1(전처리 결과), [option]산출물 파일2(형태소 분석 결과), 전처리 과정\n",
    "    log_file.write(log)\n",
    "    \n",
    "    log_file.close()\n",
    "\n",
    "def clearhistory():\n",
    "    global var\n",
    "    \n",
    "    path.delete(\"1.0\", END)\n",
    "    T_pre.delete(\"1.0\", END)\n",
    "    T_res.delete(\"1.0\", END)\n",
    "    T_save.delete(\"1.0\", END)\n",
    "    var.set('분석 안 함')\n",
    "\n",
    "    __init__()\n",
    "#ver=Tk()\n",
    "\n",
    "\n",
    "def verinfo():\n",
    "    messagebox.showinfo(\"version\", \"MOKAPORT ver.0.1.1\")\n",
    "\n",
    "def openhelp():\n",
    "    os.startfile(r'.\\MOKAPOT manual.pptx')\n",
    "    \n",
    "def Askquit():\n",
    "    if messagebox.askyesno(\"종료 확인\", \"정말로 종료하시겠습니까?\"):\n",
    "        root.destroy()"
   ]
  },
  {
   "cell_type": "markdown",
   "metadata": {
    "id": "0bHfEXZ3N6tf"
   },
   "source": [
    "## 오픈소스 모듈"
   ]
  },
  {
   "cell_type": "code",
   "execution_count": 5,
   "metadata": {
    "executionInfo": {
     "elapsed": 2115,
     "status": "aborted",
     "timestamp": 1617260526458,
     "user": {
      "displayName": "‍김현경[ 대학원석사과정졸업 / 국어국문학과 ]",
      "photoUrl": "",
      "userId": "12059604309874311341"
     },
     "user_tz": -540
    },
    "id": "4WJhYyDzN6tf"
   },
   "outputs": [],
   "source": [
    "#문장분리(구두점)\n",
    "\n",
    "def sent_sep():\n",
    "    global g_text\n",
    "    enter_space=re.compile('\\n\\s+')\n",
    "    nat_sen=re.compile(\"\\w+\")\n",
    "    text_list=[]\n",
    "    \n",
    "    for i in g_text:\n",
    "        l_text=i.replace(\".\",\".\\n\")\n",
    "        l_text=l_text.replace(\"!\",\"!\\n\")\n",
    "        l_text=l_text.replace(\"?\",\"?\\n\")\n",
    "        l_text=enter_space.sub(\"\\n\", l_text)\n",
    "        sen_text=l_text.split(\"\\n\")\n",
    "        i_text_list=[]\n",
    "        for j in sen_text:\n",
    "            if nat_sen.search(j):\n",
    "                i_text_list.append(j)\n",
    "        text_list.append(\"\\n\".join(i_text_list))\n",
    "    g_text=text_list\n",
    "\n",
    "#문장분리(kss)\n",
    "\n",
    "def sent_sep_kss():\n",
    "    global g_text\n",
    "    text_list=[]\n",
    "    \n",
    "    for i in g_text:\n",
    "        l_text=kss.split_sentences(i)\n",
    "        text_list.append('\\n'.join(l_text))\n",
    "    g_text=text_list\n",
    "    \n",
    "\n",
    "# 띄어쓰기 전부 삭제\n",
    "\n",
    "def spacing_erase():\n",
    "    global g_text\n",
    "    spaces=re.compile(\"\\s+\")\n",
    "    text_list=[]\n",
    "    \n",
    "    for i in g_text:\n",
    "        l_text=spaces.sub(\"\",i)\n",
    "        text_list.append(l_text)\n",
    "    g_text=text_list\n",
    "\n",
    "\n",
    "\n",
    "#띄어쓰기 정제\n",
    "\n",
    "def spacing_list():\n",
    "    global g_text\n",
    "    text_list=[]\n",
    "    \n",
    "    \n",
    "    for i in g_text:\n",
    "        l_text=i.split('\\n')\n",
    "        l_spacing_text=[]\n",
    "        for j in l_text:\n",
    "            l_spacing_text.append(spacing(j))\n",
    "            \n",
    "        text_list.append('\\n'.join(l_spacing_text))\n",
    "    g_text=text_list\n",
    "    \n",
    "\n",
    "# 맞춤법 검사\n",
    "def grammar_check():\n",
    "    global g_text # 코퍼스 문자열(들) 리스트 형태\n",
    "#     global exit_flag\n",
    "    \n",
    "    line_list = []\n",
    "    \n",
    "    for line in g_text:\n",
    "        edit_line = []\n",
    "        line_li = line.split('\\n')\n",
    "        \n",
    "        for sent in line_li:\n",
    "            try:\n",
    "                edit_sent = spell_checker.check(sent).as_dict()['checked']\n",
    "                \n",
    "                if len(sent)<500: \n",
    "                    edit_sent = spell_checker.check(sent).as_dict()['checked']\n",
    "                    edit_line.append(edit_sent)\n",
    "                     \n",
    "                else:\n",
    "                    messagebox.showwarning(\"경고\", \"입력된 데이터에 500자 이상으로 구성된 문장이 존재합니다. 문장을 분리한 후 다시 실행해 주세요.\")\n",
    "                    T_res.delete(\"1.0\",END)\n",
    "                    T_res.insert(END, \"문장 길이 초과로 전처리 프로세스가 종료되었습니다.\\n\\n\")\n",
    "                    \n",
    "                    break       \n",
    "            \n",
    "            except:\n",
    "                messagebox.showerror(\"경고\", \"api 호출 실패\")\n",
    "                T_res.delete(\"1.0\",END)\n",
    "                T_res.insert(END, \"API 호출에 실패하였습니다. 인터넷 연결을 다시 확인하세요.\\n\\n\")\n",
    "                \n",
    "                break\n",
    "                \n",
    "        if len(edit_line)>0:\n",
    "            line_list.append('\\n'.join(edit_line))\n",
    "                \n",
    "        else:\n",
    "            break\n",
    "            \n",
    "    g_text=line_list\n",
    "\n",
    "    \n",
    "#특수문자 일괄 제거\n",
    "\n",
    "def delete_all_mark():\n",
    "    global g_text\n",
    "    text_list=[]\n",
    "    \n",
    "    for i in g_text:\n",
    "        all_mark=re.compile('[^\\w\\s]')\n",
    "        l_text=all_mark.sub('',i)\n",
    "        text_list.append(l_text)\n",
    "    g_text=text_list\n",
    "\n",
    "        \n",
    "#특수문자 일부 제거 (문장부호만)\n",
    "\n",
    "def delete_sen_mark():\n",
    "    global g_text\n",
    "    text_list=[]\n",
    "    \n",
    "    for i in g_text:\n",
    "        sen_mark=re.compile('[\\.\\?\\!]')\n",
    "        l_text=sen_mark.sub('',i)\n",
    "        text_list.append(l_text)\n",
    "    g_text=text_list\n",
    "\n",
    "        \n",
    "#특수문자 일괄 독음\n",
    "\n",
    "def change_mark_sound():\n",
    "    global g_text\n",
    "    text_list=[]\n",
    "    \n",
    "    for i in g_text:\n",
    "        l_text=re.sub(\"\\.\", \"마침표\", i)\n",
    "        l_text=re.sub(\"\\!\", \"느낌표\", l_text)\n",
    "        l_text=re.sub(\"\\?\", \"물음표\", l_text)\n",
    "        l_text=re.sub(\"\\,\", \"쉼표\", l_text)\n",
    "        l_text=re.sub(\"\\'\", \"작은따옴표\", l_text)\n",
    "        l_text=re.sub(\"\\\"\", \"큰따옴표\", l_text)\n",
    "        l_text=re.sub(\"\\~\", \"물결\", l_text)\n",
    "        l_text=re.sub(\"\\:\", \"콜론\", l_text)\n",
    "        l_text=re.sub(\"\\;\", \"세미콜론\", l_text)\n",
    "        l_text=re.sub(\"\\(\", \"소괄호열기\", l_text)\n",
    "        l_text=re.sub(\"\\)\", \"소괄호닫기\", l_text)\n",
    "        l_text=re.sub(\"\\{\", \"중괄호열기\", l_text)\n",
    "        l_text=re.sub(\"\\}\", \"중괄호닫기\", l_text)\n",
    "        l_text=re.sub(\"\\[\", \"대괄호열기\", l_text)\n",
    "        l_text=re.sub(\"\\]\", \"대괄호닫기\", l_text)\n",
    "        l_text=re.sub(\"\\<\", \"뾰족괄호열기\", l_text)\n",
    "        l_text=re.sub(\"\\>\", \"뾰족괄호닫기\", l_text)\n",
    "        l_text=re.sub(\"\\/\", \"슬래쉬\", l_text)\n",
    "        l_text=re.sub(\"\\`\", \"억음\", l_text)\n",
    "        l_text=re.sub(\"\\@\", \"골뱅이\", l_text)\n",
    "        l_text=re.sub(\"\\#\", \"샵\", l_text)\n",
    "        l_text=re.sub(\"\\$\", \"달러\", l_text)\n",
    "        l_text=re.sub(\"\\%\", \"퍼센트\", l_text)\n",
    "        l_text=re.sub(\"\\^\", \"캐럿\", l_text)\n",
    "        l_text=re.sub(\"\\&\", \"앰퍼샌드\", l_text)\n",
    "        l_text=re.sub(\"\\*\", \"별\", l_text)\n",
    "        l_text=re.sub(\"\\-\", \"하이픈\", l_text)\n",
    "        l_text=re.sub(\"\\_\", \"언더바\", l_text)\n",
    "        l_text=re.sub(\"\\+\", \"플러스\", l_text)\n",
    "        l_text=re.sub(\"\\=\", \"등호\", l_text)\n",
    "#        l_text=re.sub(\"\\\\\", \"원화\", l_text)\n",
    "        l_text=re.sub(\"\\|\", \"수직선\", l_text)\n",
    "        text_list.append(l_text)\n",
    "    g_text=text_list\n",
    "\n",
    "        \n",
    "#특수문자 일부 독음\n",
    "\n",
    "def change_part_mark_sound():\n",
    "    global g_text\n",
    "    text_list=[]\n",
    "    \n",
    "    for i in g_text:\n",
    "        l_text=re.sub(\"\\$\", \"달러\", i)\n",
    "#         l_text=re.sub(\"\\\\\", \"원\", l_text)\n",
    "        l_text=re.sub(\"\\%\", \"퍼센트\", l_text)\n",
    "        l_text=re.sub(\"\\&\", \"앤드\", l_text)      \n",
    "        text_list.append(l_text)\n",
    "    g_text=text_list\n",
    "        \n",
    "\n",
    "#한자모듈\n",
    "\n",
    "def hanja_translate():\n",
    "    global g_text\n",
    "    text_list=[]\n",
    "\n",
    "    for i in g_text:\n",
    "        l_text=hanja.translate(i, 'substitution')\n",
    "        text_list.append(l_text)\n",
    "    g_text=text_list\n",
    "\n",
    "    \n",
    "#형태소 분석\n",
    "\n",
    "############### MeCab 결과 파싱 함수 - pos_analyzer() 내부에서만 사용됨\n",
    "def mecab_parsing(sent):\n",
    "    m = MeCab.Tagger() \n",
    "    res = m.parse(sent)\n",
    "    edit_sent = '' #MeCab 태그가 추가된 문장\n",
    "    \n",
    "    parsing_li = []\n",
    "    tmp_list = res.split('\\n')\n",
    "    for tmp in tmp_list:\n",
    "        sub_word = tmp.split('\\t')[0]\n",
    "        if sub_word == 'EOS':\n",
    "            break\n",
    "        word_pos = tmp.split('\\t')[1].split(',')[0]\n",
    "        tmp_tu = (sub_word, word_pos) \n",
    "        parsing_li.append(tmp_tu)\n",
    "    \n",
    "    for p in parsing_li:\n",
    "        edit_sent = edit_sent + '{}/{} '.format(p[0],p[1]) \n",
    "        \n",
    "    return edit_sent[:-1]\n",
    "\n",
    "############### g_text에 pos 태그를 추가하는 함수\n",
    "def pos_analyzer(option):\n",
    "    global text_origin\n",
    "    global g_text    \n",
    "    global g_pos_text\n",
    "    raw_text = '' #옵션(원문 정제 or 전처리 후 결과를 정제)에 따른 정제 전 문자열 저장\n",
    "    \n",
    "    g_pos_text = [] #g_text에 pos태그 추가한 문자열 리스트\n",
    "\n",
    "    if option == 1:\n",
    "        raw_text = text_origin\n",
    "    elif option == 2:\n",
    "        raw_text = g_text\n",
    "    else:\n",
    "        #수정필요? 예외처리\n",
    "        print('예외 발생: 형태소분석 옵션')\n",
    "    \n",
    "    for content in raw_text:\n",
    "        edit_line_li = []\n",
    "        line_li = content.split('\\n')\n",
    "        for line in line_li:\n",
    "            edit_line_li.append(mecab_parsing(line))\n",
    "        g_pos_text.append('\\n'.join(edit_line_li))\n",
    "        \n",
    "        \n",
    "############### pos 정보를 추가하여 텍스트 파일을 생성하는 함수\n",
    "def pos_output_write():\n",
    "    global g_pos_text\n",
    "    global name\n",
    "    global log\n",
    "    \n",
    "    # output 파일에 시간기록\n",
    "    time.localtime(time.time())\n",
    "    time_str = time.strftime('%Y-%m-%d_%I-%M-%S-%p')\n",
    "    \n",
    "    output_files = []\n",
    "    for file in name:\n",
    "        file_name = file.split('.txt')[0]\n",
    "        output_file_name = '%s_pos_output_%s.txt' % (file_name, time_str)        \n",
    "        log = log + '%s\\n' % output_file_name\n",
    "        \n",
    "        output_files.append(output_file_name)\n",
    "        \n",
    "    for content, output_file in zip(g_pos_text, output_files):\n",
    "        f_out = open(output_file,'w',encoding='utf-8')\n",
    "        f_out.write(content)\n",
    "        f_out.close()\n",
    "        \n",
    "\n",
    "    "
   ]
  },
  {
   "cell_type": "markdown",
   "metadata": {
    "id": "qXkaFHbkN6th"
   },
   "source": [
    "## 전처리(형태소분석) 실행 함수"
   ]
  },
  {
   "cell_type": "code",
   "execution_count": 6,
   "metadata": {
    "executionInfo": {
     "elapsed": 2114,
     "status": "aborted",
     "timestamp": 1617260526458,
     "user": {
      "displayName": "‍김현경[ 대학원석사과정졸업 / 국어국문학과 ]",
      "photoUrl": "",
      "userId": "12059604309874311341"
     },
     "user_tz": -540
    },
    "id": "7hnbV3MQN6ti"
   },
   "outputs": [],
   "source": [
    "def delete():\n",
    "    txt=T_pre.get(\"1.0\",END)\n",
    "    txt_split=txt.split(' > ')\n",
    "    result_split=txt_split[:-2]\n",
    "    result=' > '.join(result_split)\n",
    "    T_pre.delete('1.0',END)\n",
    "    T_pre.insert(END, result+' > ')\n",
    "    \n",
    "def reset():\n",
    "    global g_text\n",
    "    global name\n",
    "    global var\n",
    "    \n",
    "    T_pre.delete('1.0', END)\n",
    "    reset_text=[]\n",
    "    g_text=[]\n",
    "    var.set('분석 안 함')\n",
    "\n",
    "#     messagebox.showinfo(\"dd\", name)\n",
    "    for i in name:\n",
    "        file_content = open(i, 'r', encoding='utf-8')\n",
    "        tmp_text = file_content.read()\n",
    "        reset_text.append(tmp_text)\n",
    "    \n",
    "    g_text=reset_text\n",
    "\n",
    "def run():\n",
    "#     global exit_flag\n",
    "    global g_text\n",
    "    global var\n",
    "    global log\n",
    "    global name\n",
    "    \n",
    "#     if exit_flag:\n",
    "#         T_res.delete('1.0', END)\n",
    "#         T_res.insert(END, '오류가 발생했습니다.')        \n",
    "        \n",
    "#     else:\n",
    "    process_str=T_pre.get('1.0', END)\n",
    "    T_pre.delete('1.0', END)\n",
    "    T_pre.insert(END, \">>> ['\"+process_str[:-3]+\"']\"+' 처리를 시작합니다!\\n')\n",
    "    T_pre.insert(END, \"\\n...(처리중)...\\n\\n\")    \n",
    "\n",
    "    process_li = process_str.split(' > ')\n",
    "    log = log + '\\n\\n전처리 과정: ' + process_str[:-3] + '\\n\\n'\n",
    "  \n",
    "    \n",
    "    #messagebox.showinfo('내용', process_li)\n",
    "\n",
    "    for process in process_li:\n",
    "        process = process.strip()\n",
    "        # 수정필요? 예외처리: 사용자가 프로세스 잘못 설정한 경우 에러팝업 생성\n",
    "\n",
    "        if process == '문장 분리 구두점':\n",
    "            sent_sep()\n",
    "        elif process == '문장 분리 KSS':\n",
    "            sent_sep_kss()\n",
    "        elif process == '띄어쓰기 제거':\n",
    "            spacing_erase()\n",
    "        elif process == '띄어쓰기 정제':\n",
    "            spacing_list()\n",
    "        elif process == '맞춤법 검사':\n",
    "            grammar_check()\n",
    "        elif process == '특수문자 일괄 삭제':\n",
    "            delete_all_mark()\n",
    "        elif process == '특수문자 일부 삭제':\n",
    "            delete_sen_mark()\n",
    "        elif process == '특수문자 전체 독음 변환':\n",
    "            change_mark_sound()\n",
    "        elif process == '특수문자 일부 독음 변환':\n",
    "            change_part_mark_sound()\n",
    "        elif process == '한자 일괄 독음 변환':\n",
    "            hanja_translate()\n",
    "        else:\n",
    "            # 수정필요? 예외처리: 빈문자열 이외의 잘못된 프로세스명이 들어갔을 경우 에러팝업 생성\n",
    "            break\n",
    "\n",
    "    radio_option = var.get()\n",
    "\n",
    "    if radio_option == '원문 분석':\n",
    "        pos_analyzer(1)\n",
    "\n",
    "        T_pre.insert(END, '원문 형태소 분석을 실행합니다.')\n",
    "\n",
    "    elif radio_option == '전처리 후 분석':\n",
    "        pos_analyzer(2)\n",
    "\n",
    "        T_pre.insert(END, '전처리 후 형태소 분석을 실행합니다.')\n",
    "        \n",
    "    else:\n",
    "\n",
    "        T_pre.insert(END, '형태소 분석을 선택하지 않으셨습니다.')\n",
    "\n",
    "    if len(g_pos_text)>0:\n",
    "        n=0    \n",
    "        for content, pos_content in zip(g_text, g_pos_text):\n",
    "            if radio_option == '원문 분석':\n",
    "                pos_preview = '\\n\\n\\n==================\\n<형태소 분석 내용>\\n==================\\n\\n%s' % pos_content[:200]\n",
    "                \n",
    "            elif radio_option == '전처리 후 분석':\n",
    "                pos_preview = '\\n\\n\\n==================\\n<형태소 분석 내용>\\n==================\\n\\n%s' % pos_content[:200]\n",
    "                \n",
    "            T_res.insert(END, \"<\"+name[n].split('/')[-1]+\">\"+\"\\n\\n\"+\"- 전처리 내용 : \"+((\", \".join(process_li)).strip()).strip(\",\")+\"\\n\"+\"- 형태소 분석 : 형태소 \"+radio_option+\"\\n\\n\")\n",
    "            T_res.insert(END, '=============\\n<전처리 내용>\\n=============\\n\\n' + content[:200] + pos_preview +'\\n\\n************\\n**다음파일**\\n************\\n\\n')\n",
    "            n+=1\n",
    "    elif len(g_pos_text) == 0:\n",
    "        n=0\n",
    "        for content in g_text:\n",
    "            pos_preview = ''\n",
    "            T_res.insert(END, \"<\"+name[n].split('/')[-1]+\">\"+\"\\n\\n\"+\"- 전처리 내용 : \"+((\", \".join(process_li)).strip()).strip(\",\")+\"\\n\"+\"- 형태소 분석 : 형태소 \"+radio_option+\"\\n\\n\")\n",
    "            T_res.insert(END, '=============\\n<전처리 내용>\\n=============\\n\\n' + content[:200] + pos_preview +'\\n\\n************\\n**다음파일**\\n************\\n\\n')\n",
    "            n+=1\n",
    "                \n",
    "                \n",
    "#     for content, pos_content in zip(g_text, g_pos_text):\n",
    "#         if radio_option == '원문 분석':\n",
    "#             pos_preview = '\\n\\n\\n==================\\n<형태소 분석 내용>\\n==================\\n\\n%s' % pos_content[:200]\n",
    "#         elif radio_option == '전처리 후 분석':\n",
    "#             pos_preview = '\\n\\n\\n==================\\n<형태소 분석 내용>\\n==================\\n\\n%s' % pos_content[:200]\n",
    "#         else:\n",
    "#             pos_preview = ''\n",
    "#         T_res.insert(END, '=============\\n<전처리 내용>\\n=============\\n\\n' + content[:200] + pos_preview +'\\n\\n**********\\n*다음파일*\\n**********\\n\\n')\n",
    "\n",
    "#         T_res.insert(g_text[:200])\n",
    "\n",
    "\n",
    "    T_pre.insert(END, \"...전처리가 종료되었습니다!\")"
   ]
  },
  {
   "cell_type": "markdown",
   "metadata": {
    "id": "mekWp3T9N6ti"
   },
   "source": [
    "## TK 생성"
   ]
  },
  {
   "cell_type": "code",
   "execution_count": 7,
   "metadata": {
    "executionInfo": {
     "elapsed": 2109,
     "status": "aborted",
     "timestamp": 1617260526459,
     "user": {
      "displayName": "‍김현경[ 대학원석사과정졸업 / 국어국문학과 ]",
      "photoUrl": "",
      "userId": "12059604309874311341"
     },
     "user_tz": -540
    },
    "id": "1DoQZozUN6tj"
   },
   "outputs": [
    {
     "data": {
      "text/plain": [
       "''"
      ]
     },
     "execution_count": 7,
     "metadata": {},
     "output_type": "execute_result"
    }
   ],
   "source": [
    "root = Tk()\n",
    "# root.iconbitmap(default=\"mokapot.ico\")\n",
    "root.geometry(\"610x620+150+5\")\n",
    "root.title('MOCAPOT(ver.0.1.1)')\n"
   ]
  },
  {
   "cell_type": "markdown",
   "metadata": {
    "id": "FuuoSUNVN6tl"
   },
   "source": [
    "## 메뉴"
   ]
  },
  {
   "cell_type": "code",
   "execution_count": 8,
   "metadata": {
    "executionInfo": {
     "elapsed": 2107,
     "status": "aborted",
     "timestamp": 1617260526459,
     "user": {
      "displayName": "‍김현경[ 대학원석사과정졸업 / 국어국문학과 ]",
      "photoUrl": "",
      "userId": "12059604309874311341"
     },
     "user_tz": -540
    },
    "id": "djEOJkO2N6tl"
   },
   "outputs": [],
   "source": [
    "menu = Menu(root)\n",
    "root.config(menu=menu)\n",
    "filemenu = Menu(menu)\n",
    "infomenu = Menu(menu)\n",
    "\n",
    "menu.add_cascade(label=\"파일\", menu=filemenu)\n",
    "filemenu.add_command(label=\"열기\", command=OpenFile)\n",
    "filemenu.add_command(label=\"저장\", command=Savefile)\n",
    "\n",
    "filemenu.add_separator()\n",
    "\n",
    "filemenu.add_command(label=\"초기화\", command=clearhistory)\n",
    "\n",
    "filemenu.add_separator()\n",
    "\n",
    "\n",
    "menu.add_cascade(label=\"정보\", menu=infomenu)\n",
    "infomenu.add_command(label=\"도움말\", command=openhelp) #command 수정\n",
    "infomenu.add_command(label=\"버전\", command=verinfo) #command 수정\n",
    "\n",
    "infomenu.add_separator()\n"
   ]
  },
  {
   "cell_type": "markdown",
   "metadata": {
    "id": "ts3I2koEN6tl"
   },
   "source": [
    "## 파일 선택(Grid row0~2)"
   ]
  },
  {
   "cell_type": "code",
   "execution_count": 9,
   "metadata": {
    "executionInfo": {
     "elapsed": 2107,
     "status": "aborted",
     "timestamp": 1617260526460,
     "user": {
      "displayName": "‍김현경[ 대학원석사과정졸업 / 국어국문학과 ]",
      "photoUrl": "",
      "userId": "12059604309874311341"
     },
     "user_tz": -540
    },
    "id": "kV3GpF4gN6tl"
   },
   "outputs": [],
   "source": [
    "##스크롤바\n",
    "xscrollbar1 = Scrollbar(root, orient=HORIZONTAL)\n",
    "xscrollbar1.grid(row=2, columnspan=4, sticky='we',padx=10, pady=2)\n",
    "\n",
    "yscrollbar1 = Scrollbar(root)\n",
    "yscrollbar1.grid(row=1, column=4, sticky='ns')\n",
    "\n",
    "##라벨(제목)\n",
    "w1=Label(root, text='1. 파일 선택')\n",
    "w1.grid(row=0, columnspan=2, sticky=\"w\", padx=10, pady=5)\n",
    "\n",
    "##버튼\n",
    "b_open= Button(root, text='파일열기',width=10, command=OpenFile)\n",
    "b_open.grid(row=0, column=3, padx=10, pady=5, sticky=\"e\")\n",
    "\n",
    "\n",
    "##텍스트상자\n",
    "path=Text(root, wrap=NONE, height=3, xscrollcommand=xscrollbar1.set, yscrollcommand=yscrollbar1.set)\n",
    "path.grid(row=1, columnspan=4, padx=10, pady=10, sticky='we')\n",
    "\n",
    "yscrollbar1.config(command=path.yview)\n",
    "xscrollbar1.config(command=path.xview)"
   ]
  },
  {
   "cell_type": "markdown",
   "metadata": {
    "id": "x_VGhWbJN6tm"
   },
   "source": [
    "## 전처리 선택 및 처리 현황"
   ]
  },
  {
   "cell_type": "markdown",
   "metadata": {
    "id": "DgJwDkMnN6tm"
   },
   "source": [
    "#### 전처리 라벨 및 버튼"
   ]
  },
  {
   "cell_type": "markdown",
   "metadata": {
    "id": "CsNBjwMxN6tm"
   },
   "source": [
    "## 콤보 박스 선택항목 가져오기"
   ]
  },
  {
   "cell_type": "code",
   "execution_count": 10,
   "metadata": {
    "executionInfo": {
     "elapsed": 2106,
     "status": "aborted",
     "timestamp": 1617260526460,
     "user": {
      "displayName": "‍김현경[ 대학원석사과정졸업 / 국어국문학과 ]",
      "photoUrl": "",
      "userId": "12059604309874311341"
     },
     "user_tz": -540
    },
    "id": "ROpSgVGuN6tm"
   },
   "outputs": [],
   "source": [
    "def make_process_txt(event):\n",
    "    combobox_str = event.widget.get()\n",
    "    \n",
    "    T_pre.insert(END, combobox_str+' > ')\n",
    "    combo_sen.set(\"항목선택\")\n",
    "    combo_spa.set(\"항목선택\")\n",
    "    combo_gra.set(\"항목선택\")\n",
    "    combo_mark.set(\"항목선택\")"
   ]
  },
  {
   "cell_type": "code",
   "execution_count": 11,
   "metadata": {
    "executionInfo": {
     "elapsed": 2101,
     "status": "aborted",
     "timestamp": 1617260526460,
     "user": {
      "displayName": "‍김현경[ 대학원석사과정졸업 / 국어국문학과 ]",
      "photoUrl": "",
      "userId": "12059604309874311341"
     },
     "user_tz": -540
    },
    "id": "BHuE3B7EN6tm"
   },
   "outputs": [
    {
     "data": {
      "text/plain": [
       "'140630578798208make_process_txt'"
      ]
     },
     "execution_count": 11,
     "metadata": {},
     "output_type": "execute_result"
    }
   ],
   "source": [
    "##전처리 라벨(row3)\n",
    "w2=Label(root, text='2. 전처리')\n",
    "w2.grid(row=3, columnspan=2, sticky=\"w\", padx=10, pady=5)\n",
    "\n",
    "##전처리 라벨(row4)\n",
    "w2_1=Label(root, width=15, text='문장 분리')\n",
    "w2_1.grid(row=4, column=0, padx=5, pady=5)\n",
    "\n",
    "w2_2=Label(root, width=15, text='띄어쓰기')\n",
    "w2_2.grid(row=4, column=1, padx=5, pady=5)\n",
    "\n",
    "w2_3=Label(root, width=15, text='맞춤법 검사')\n",
    "w2_3.grid(row=4, column=2, padx=5, pady=5)\n",
    "\n",
    "w2_4=Label(root, width=15, text='특수문자')\n",
    "w2_4.grid(row=4, column=3, padx=5, pady=5)\n",
    "\n",
    "##전처리 상세옵션(콤보박스)(row5)\n",
    "values_sen=[\"문장 분리 구두점\", \"문장 분리 KSS\"]\n",
    "values_spa=[\"띄어쓰기 제거\", \"띄어쓰기 정제\"]\n",
    "values_gra=[\"맞춤법 검사\"]\n",
    "values_mark=[\"특수문자 일괄 삭제\", \"특수문자 일부 삭제\", \"특수문자 전체 독음 변환\", \"특수문자 일부 독음 변환\", \"한자 일괄 독음 변환\"]\n",
    "\n",
    "\n",
    "\n",
    "combo_sen=ttk.Combobox(root, width=15, height=4, values=values_sen, state='readonly')\n",
    "combo_sen.grid(row=5, column=0, padx=5, pady=5, sticky=\"e\")\n",
    "combo_sen.set(\"항목선택\")\n",
    "\n",
    "combo_spa=ttk.Combobox(root, width=15, height=4, values=values_spa, state='readonly')\n",
    "combo_spa.grid(row=5, column=1, padx=5, pady=5, sticky=\"e\")\n",
    "combo_spa.set(\"항목선택\")\n",
    "\n",
    "combo_gra=ttk.Combobox(root, width=15, height=4, values=values_gra, state='readonly')\n",
    "combo_gra.grid(row=5, column=2, padx=5, pady=5, sticky=\"e\")\n",
    "combo_gra.set(\"항목선택\")\n",
    "\n",
    "combo_mark=ttk.Combobox(root, width=15, height=4, values=values_mark, state='readonly')\n",
    "combo_mark.grid(row=5, column=3, padx=5, pady=5, sticky=\"e\")\n",
    "combo_mark.set(\"항목선택\")\n",
    "\n",
    "\n",
    "combo_sen.bind('<<ComboboxSelected>>', make_process_txt)\n",
    "combo_spa.bind('<<ComboboxSelected>>', make_process_txt)\n",
    "combo_gra.bind('<<ComboboxSelected>>', make_process_txt)\n",
    "combo_mark.bind('<<ComboboxSelected>>', make_process_txt)"
   ]
  },
  {
   "cell_type": "markdown",
   "metadata": {
    "id": "k0k_CeUUN6tn"
   },
   "source": [
    "##구분선(row6)\n",
    "spe1=ttk.Separator(root, orient='horizontal')\n",
    "spe1.grid(row=6, column=0, columnspan=5, sticky='we')"
   ]
  },
  {
   "cell_type": "markdown",
   "metadata": {
    "id": "X3_GTgswN6tn"
   },
   "source": [
    "#### 선택사항"
   ]
  },
  {
   "cell_type": "code",
   "execution_count": 12,
   "metadata": {
    "executionInfo": {
     "elapsed": 2101,
     "status": "aborted",
     "timestamp": 1617260526461,
     "user": {
      "displayName": "‍김현경[ 대학원석사과정졸업 / 국어국문학과 ]",
      "photoUrl": "",
      "userId": "12059604309874311341"
     },
     "user_tz": -540
    },
    "id": "cN-sZNrNN6tn"
   },
   "outputs": [],
   "source": [
    "######형태소 분석\n",
    "\n",
    "##라벨(선택사항)(row7)\n",
    "w3=Label(root, text='※ 선택사항')\n",
    "w3.grid(row=7, columnspan=2, padx=10, pady=5, sticky=\"w\")\n",
    "\n",
    "##라벨(형태소분석)(row8)\n",
    "\n",
    "w4=Label(root, text='형태소분석', relief=RIDGE, width=17)\n",
    "w4.grid(row=8, columnspan=2, padx=10, pady=5, sticky=\"w\")\n",
    "\n",
    "##라디오버튼(원문분석, 전처리후분석, 분석안함)(row8 colum2~4)\n",
    "\n",
    "var = StringVar()\n",
    "var.set('분석 안 함')\n",
    "\n",
    "R1=Radiobutton(root, text=\"원문 분석\", variable=var, value='원문 분석')\n",
    "R1.grid(row=8,column=1)\n",
    "R2=Radiobutton(root, text=\"전처리 후 분석\", variable=var, value='전처리 후 분석')\n",
    "R2.grid(row=8,column=2)\n",
    "R3=Radiobutton(root, text=\"분석 안 함\",  variable=var, value='분석 안 함')\n",
    "R3.grid(row=8,column=3)\n",
    "\n"
   ]
  },
  {
   "cell_type": "code",
   "execution_count": 13,
   "metadata": {
    "executionInfo": {
     "elapsed": 2099,
     "status": "aborted",
     "timestamp": 1617260526461,
     "user": {
      "displayName": "‍김현경[ 대학원석사과정졸업 / 국어국문학과 ]",
      "photoUrl": "",
      "userId": "12059604309874311341"
     },
     "user_tz": -540
    },
    "id": "y5UT5G7_N6tn"
   },
   "outputs": [],
   "source": [
    "##텍스트박스 및 스크롤(row 9 10)\n",
    "yscrollbar2 = Scrollbar(root)\n",
    "yscrollbar2.grid(row=9, column=4, sticky='ns')\n",
    "\n",
    "T_pre=Text(root, wrap=WORD, height=5,yscrollcommand=yscrollbar2.set)\n",
    "T_pre.grid(row=9,columnspan=4,padx=10,pady=10, sticky='we')\n",
    "\n",
    "\n",
    "yscrollbar2.config(command=T_pre.yview)"
   ]
  },
  {
   "cell_type": "markdown",
   "metadata": {
    "id": "uLATkFd4N6tn"
   },
   "source": [
    "### 실행버튼"
   ]
  },
  {
   "cell_type": "code",
   "execution_count": 14,
   "metadata": {
    "executionInfo": {
     "elapsed": 2099,
     "status": "aborted",
     "timestamp": 1617260526462,
     "user": {
      "displayName": "‍김현경[ 대학원석사과정졸업 / 국어국문학과 ]",
      "photoUrl": "",
      "userId": "12059604309874311341"
     },
     "user_tz": -540
    },
    "id": "iJy0C_mwN6to"
   },
   "outputs": [],
   "source": [
    "####버튼 삭제, 초기화, 실행 (row 11, column 2~4)\n",
    "b1= Button(root, text='한단계삭제',width=10, command=delete)\n",
    "b1.grid(row=11, column=1, pady=5)\n",
    "b2= Button(root, text='옵션초기화',width=10, command=reset)\n",
    "b2.grid(row=11, column=2, pady=5)\n",
    "b3= Button(root, text='실행',width=10, command=run)\n",
    "b3.grid(row=11, column=3, pady=5)\n"
   ]
  },
  {
   "cell_type": "markdown",
   "metadata": {
    "id": "80zfp9yEN6to"
   },
   "source": [
    "## 결과"
   ]
  },
  {
   "cell_type": "code",
   "execution_count": 15,
   "metadata": {
    "executionInfo": {
     "elapsed": 2098,
     "status": "aborted",
     "timestamp": 1617260526462,
     "user": {
      "displayName": "‍김현경[ 대학원석사과정졸업 / 국어국문학과 ]",
      "photoUrl": "",
      "userId": "12059604309874311341"
     },
     "user_tz": -540
    },
    "id": "2fOgdBILN6to"
   },
   "outputs": [],
   "source": [
    "#라벨 (3. 결과 미리보기) (row12)\n",
    "w5=Label(root, text='3. 결과')\n",
    "w5.grid(row=12, columnspan=2, padx=10, pady=5, sticky=\"w\")\n"
   ]
  },
  {
   "cell_type": "code",
   "execution_count": 16,
   "metadata": {
    "executionInfo": {
     "elapsed": 2097,
     "status": "aborted",
     "timestamp": 1617260526462,
     "user": {
      "displayName": "‍김현경[ 대학원석사과정졸업 / 국어국문학과 ]",
      "photoUrl": "",
      "userId": "12059604309874311341"
     },
     "user_tz": -540
    },
    "id": "lrJgzvWmN6to"
   },
   "outputs": [],
   "source": [
    "#텍스트박스 및 스크롤 (row13 14)\n",
    "\n",
    "xscrollbar2 = Scrollbar(root, orient=HORIZONTAL)\n",
    "xscrollbar2.grid(row=14, columnspan=4, sticky='ew',padx=10)\n",
    "yscrollbar2 = Scrollbar(root)\n",
    "yscrollbar2.grid(row=13, column=4, sticky='ns')\n",
    "\n",
    "T_res=Text(root, wrap=NONE, height=8, xscrollcommand=xscrollbar2.set, yscrollcommand=yscrollbar2.set)\n",
    "T_res.grid(row=13,columnspan=4,padx=10,pady=10, sticky='we')\n",
    "\n",
    "xscrollbar2.config(command=T_res.xview)\n",
    "yscrollbar2.config(command=T_res.yview)"
   ]
  },
  {
   "cell_type": "code",
   "execution_count": 17,
   "metadata": {
    "executionInfo": {
     "elapsed": 2096,
     "status": "aborted",
     "timestamp": 1617260526463,
     "user": {
      "displayName": "‍김현경[ 대학원석사과정졸업 / 국어국문학과 ]",
      "photoUrl": "",
      "userId": "12059604309874311341"
     },
     "user_tz": -540
    },
    "id": "n1WPZEGIN6to"
   },
   "outputs": [],
   "source": [
    "#텍스트박스(저장경로)(row15 column 1~3)\n",
    "T_save=Text(root, wrap=NONE, height=1, width=35)\n",
    "T_save.grid(row=15,columnspan=2,padx=20,pady=5)"
   ]
  },
  {
   "cell_type": "code",
   "execution_count": 18,
   "metadata": {
    "executionInfo": {
     "elapsed": 2092,
     "status": "aborted",
     "timestamp": 1617260526463,
     "user": {
      "displayName": "‍김현경[ 대학원석사과정졸업 / 국어국문학과 ]",
      "photoUrl": "",
      "userId": "12059604309874311341"
     },
     "user_tz": -540
    },
    "id": "hxTYI1JfN6to"
   },
   "outputs": [],
   "source": [
    "#버튼(저장, 종료) (row15 column 4, 5)\n",
    "\n",
    "\n",
    "b4= Button(root, text='저장',width=10, command=Savefile)\n",
    "b4.grid(row=15, column=2)\n",
    "b5= Button(root, text='종료',width=10, command=Askquit)\n",
    "b5.grid(row=15, column=3)"
   ]
  },
  {
   "cell_type": "code",
   "execution_count": 19,
   "metadata": {
    "executionInfo": {
     "elapsed": 2090,
     "status": "aborted",
     "timestamp": 1617260526464,
     "user": {
      "displayName": "‍김현경[ 대학원석사과정졸업 / 국어국문학과 ]",
      "photoUrl": "",
      "userId": "12059604309874311341"
     },
     "user_tz": -540
    },
    "id": "u5RKNUqvN6tp"
   },
   "outputs": [],
   "source": [
    "mainloop()"
   ]
  },
  {
   "cell_type": "code",
   "execution_count": null,
   "metadata": {},
   "outputs": [],
   "source": []
  }
 ],
 "metadata": {
  "colab": {
   "name": "GUI_MOCAPOT_210401_exitflag삭제.ipynb",
   "provenance": []
  },
  "kernelspec": {
   "display_name": "Python 3",
   "language": "python",
   "name": "python3"
  },
  "language_info": {
   "codemirror_mode": {
    "name": "ipython",
    "version": 3
   },
   "file_extension": ".py",
   "mimetype": "text/x-python",
   "name": "python",
   "nbconvert_exporter": "python",
   "pygments_lexer": "ipython3",
   "version": "3.8.10"
  }
 },
 "nbformat": 4,
 "nbformat_minor": 1
}
