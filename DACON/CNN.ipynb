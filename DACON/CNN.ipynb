{
 "cells": [
  {
   "cell_type": "code",
   "execution_count": 25,
   "id": "61f54414",
   "metadata": {},
   "outputs": [],
   "source": [
    "import pandas as pd\n",
    "import time\n",
    "import re"
   ]
  },
  {
   "cell_type": "markdown",
   "id": "547378a3",
   "metadata": {},
   "source": [
    "#### 데이터 불러오기 (pos 및 특수문자 등 정제된 데이터임. 정제 방법은 깃허브 코드 참고)\n",
    "#### https://github.com/Ryleyun91/Ryles_Practice/tree/main/DACON\n",
    "train = pd.read_csv('../DATA/train_data.csv')\n",
    "test = pd.read_csv('../DATA/test_data.csv')"
   ]
  },
  {
   "cell_type": "code",
   "execution_count": 26,
   "id": "84c78359",
   "metadata": {},
   "outputs": [],
   "source": [
    "### 데이터 불러오기 (정제 안 된 것)\n",
    "train = pd.read_csv(\"../DATA/open/train.csv\")\n",
    "test = pd.read_csv(\"../DATA/open/test.csv\")\n",
    "\n",
    "from konlpy.tag import Mecab\n",
    "mecab = Mecab()"
   ]
  },
  {
   "cell_type": "code",
   "execution_count": 27,
   "id": "bfa81251",
   "metadata": {},
   "outputs": [
    {
     "name": "stdout",
     "output_type": "stream",
     "text": [
      "CPU times: user 6min 31s, sys: 852 ms, total: 6min 32s\n",
      "Wall time: 6min 33s\n"
     ]
    }
   ],
   "source": [
    "%%time\n",
    "def pos(x):\n",
    "    try:\n",
    "        text = ''\n",
    "        for word, pos in mecab.pos(str(x)):\n",
    "            if pos[0] not in ['J','I','E']:\n",
    "                if type(re.search(\"\\W+|[0-9]\", word))!=re.Match: \n",
    "                    # and len(word)!=1:\n",
    "                    text+=\" \"+word\n",
    "        return text.strip()\n",
    "    \n",
    "    except:\n",
    "        pass\n",
    "\n",
    "\n",
    "train[\"과제명\"] = train[\"과제명\"].apply(pos)\n",
    "train[\"요약문_연구목표\"] = train[\"요약문_연구목표\"].apply(pos)\n",
    "train[\"요약문_연구내용\"] = train[\"요약문_연구내용\"].apply(pos)\n",
    "train[\"요약문_기대효과\"] = train[\"요약문_기대효과\"].apply(pos)\n",
    "train[\"요약문_한글키워드\"] = train[\"요약문_한글키워드\"].apply(pos)\n",
    "\n",
    "test[\"과제명\"] = test[\"과제명\"].apply(pos)\n",
    "test[\"요약문_연구목표\"] = test[\"요약문_연구목표\"].apply(pos)\n",
    "test[\"요약문_연구내용\"] = test[\"요약문_연구내용\"].apply(pos)\n",
    "test[\"요약문_기대효과\"] = test[\"요약문_기대효과\"].apply(pos)\n",
    "test[\"요약문_한글키워드\"] = test[\"요약문_한글키워드\"].apply(pos)"
   ]
  },
  {
   "cell_type": "code",
   "execution_count": 53,
   "id": "7352cf54",
   "metadata": {},
   "outputs": [],
   "source": [
    "train_name_key = [str(sent) for sent in train['과제명'] + \" \" + train['요약문_한글키워드']]\n",
    "train_goal = [str(sent) for sent in train['요약문_연구목표']]\n",
    "train_cont = [str(sent) for sent in train['요약문_연구내용']]\n",
    "train_effect = [str(sent) for sent in train['요약문_기대효과']]\n",
    "test_name_key = [str(sent) for sent in test['과제명'] + \" \" + test['요약문_한글키워드']]\n",
    "test_goal = [str(sent) for sent in test['요약문_연구목표']]\n",
    "test_cont = [str(sent) for sent in test['요약문_연구내용']]\n",
    "test_effect = [str(sent) for sent in test['요약문_기대효과']]\n",
    "train_label = [int(str(answer)) for answer in train['label']]"
   ]
  },
  {
   "cell_type": "code",
   "execution_count": 29,
   "id": "ee090934",
   "metadata": {},
   "outputs": [],
   "source": [
    "# EDA\n",
    "train_name_key_len = [len(str(sent)) for sent in train_name_key]\n",
    "train_goal_len = [len(str(sent)) for sent in train_goal]\n",
    "train_cont_len = [len(str(sent)) for sent in train_cont]\n",
    "train_effect_len = [len(str(sent)) for sent in train_effect]\n",
    "test_name_key_len = [len(str(sent)) for sent in test_name_key]\n",
    "test_goal_len = [len(str(sent)) for sent in test_goal]\n",
    "test_cont_len = [len(str(sent)) for sent in test_cont]\n",
    "test_effect_len = [len(str(sent)) for sent in test_effect]"
   ]
  },
  {
   "cell_type": "code",
   "execution_count": 31,
   "id": "f96e38eb",
   "metadata": {},
   "outputs": [
    {
     "data": {
      "text/plain": [
       "(array([2.7710e+03, 1.9776e+04, 1.6789e+04, 3.8300e+03, 3.5200e+02,\n",
       "        4.6000e+01, 8.0000e+00, 2.0000e+00, 0.0000e+00, 2.0000e+00]),\n",
       " array([  7. ,  39.3,  71.6, 103.9, 136.2, 168.5, 200.8, 233.1, 265.4,\n",
       "        297.7, 330. ]),\n",
       " <BarContainer object of 10 artists>)"
      ]
     },
     "execution_count": 31,
     "metadata": {},
     "output_type": "execute_result"
    },
    {
     "data": {
      "image/png": "[encoded data removed]",
      "text/plain": [
       "<Figure size 432x288 with 1 Axes>"
      ]
     },
     "metadata": {
      "needs_background": "light"
     },
     "output_type": "display_data"
    }
   ],
   "source": [
    "# name_key\n",
    "import matplotlib.pyplot as plt\n",
    "plt.hist(train_name_key_len)\n",
    "plt.hist(test_name_key_len)\n",
    "\n",
    "## max_len 140정도 주면 커버될 듯"
   ]
  },
  {
   "cell_type": "code",
   "execution_count": 32,
   "id": "b1ef2acb",
   "metadata": {},
   "outputs": [
    {
     "data": {
      "text/plain": [
       "(array([3.2474e+04, 9.0970e+03, 1.5480e+03, 3.1900e+02, 9.6000e+01,\n",
       "        3.6000e+01, 2.0000e+00, 1.0000e+00, 2.0000e+00, 1.0000e+00]),\n",
       " array([   0.,  373.,  746., 1119., 1492., 1865., 2238., 2611., 2984.,\n",
       "        3357., 3730.]),\n",
       " <BarContainer object of 10 artists>)"
      ]
     },
     "execution_count": 32,
     "metadata": {},
     "output_type": "execute_result"
    },
    {
     "data": {
      "image/png": "[encoded data removed]",
      "text/plain": [
       "<Figure size 432x288 with 1 Axes>"
      ]
     },
     "metadata": {
      "needs_background": "light"
     },
     "output_type": "display_data"
    }
   ],
   "source": [
    "# goal\n",
    "plt.hist(train_goal_len)\n",
    "plt.hist(test_goal_len)\n",
    "\n",
    "## max_len 800정도 주면 커버될 듯"
   ]
  },
  {
   "cell_type": "code",
   "execution_count": 33,
   "id": "94321a0d",
   "metadata": {},
   "outputs": [
    {
     "data": {
      "text/plain": [
       "(array([1.4038e+04, 1.4856e+04, 8.2060e+03, 4.2230e+03, 1.6940e+03,\n",
       "        4.5800e+02, 8.1000e+01, 1.0000e+01, 3.0000e+00, 7.0000e+00]),\n",
       " array([   0. ,  354.7,  709.4, 1064.1, 1418.8, 1773.5, 2128.2, 2482.9,\n",
       "        2837.6, 3192.3, 3547. ]),\n",
       " <BarContainer object of 10 artists>)"
      ]
     },
     "execution_count": 33,
     "metadata": {},
     "output_type": "execute_result"
    },
    {
     "data": {
      "image/png": "[encoded data removed]",
      "text/plain": [
       "<Figure size 432x288 with 1 Axes>"
      ]
     },
     "metadata": {
      "needs_background": "light"
     },
     "output_type": "display_data"
    }
   ],
   "source": [
    "# cont\n",
    "plt.hist(train_cont_len)\n",
    "plt.hist(test_cont_len)\n",
    "\n",
    "## max_len 1500정도 주면 커버될 듯"
   ]
  },
  {
   "cell_type": "code",
   "execution_count": 34,
   "id": "091b7e43",
   "metadata": {},
   "outputs": [
    {
     "data": {
      "text/plain": [
       "(array([1.9092e+04, 1.6035e+04, 5.9950e+03, 1.4320e+03, 5.8900e+02,\n",
       "        2.6500e+02, 8.6000e+01, 6.5000e+01, 1.5000e+01, 2.0000e+00]),\n",
       " array([   0.,  264.,  528.,  792., 1056., 1320., 1584., 1848., 2112.,\n",
       "        2376., 2640.]),\n",
       " <BarContainer object of 10 artists>)"
      ]
     },
     "execution_count": 34,
     "metadata": {},
     "output_type": "execute_result"
    },
    {
     "data": {
      "image/png": "[encoded data removed]",
      "text/plain": [
       "<Figure size 432x288 with 1 Axes>"
      ]
     },
     "metadata": {
      "needs_background": "light"
     },
     "output_type": "display_data"
    }
   ],
   "source": [
    "# effect\n",
    "plt.hist(train_effect_len)\n",
    "plt.hist(test_effect_len)\n",
    "\n",
    "## max_len 1000정도 주면 커버될 듯"
   ]
  },
  {
   "cell_type": "code",
   "execution_count": 60,
   "id": "7179d10a",
   "metadata": {},
   "outputs": [],
   "source": [
    "from tensorflow.keras.preprocessing.text import Tokenizer\n",
    "from tensorflow.keras.preprocessing.sequence import pad_sequences\n",
    "from tensorflow.keras.models import Sequential\n",
    "from tensorflow.keras.layers import Dense, Embedding, GlobalAveragePooling1D, Flatten, Dropout\n",
    "from tensorflow.keras import layers, models\n",
    "import numpy as np"
   ]
  },
  {
   "cell_type": "code",
   "execution_count": 61,
   "id": "7ccd7312",
   "metadata": {},
   "outputs": [],
   "source": [
    "def CNN(train_data, test_data, maxlen, embedding):\n",
    "    train_data = np.array(train_data)\n",
    "    test_data = np.array(test_data)\n",
    "    tokenizer = Tokenizer(oov_token='<oov>')\n",
    "    tokenizer.fit_on_texts(train_data)\n",
    "    word_index = tokenizer.word_index\n",
    "    train_seq = tokenizer.texts_to_sequences(train_data)\n",
    "    test_seq = tokenizer.texts_to_sequences(test_data)\n",
    "    train_pad = pad_sequences(train_seq, maxlen=maxlen, padding='post', truncating='post')\n",
    "    test_pad = pad_sequences(test_seq, maxlen=maxlen, padding='post', truncating='post')\n",
    "    \n",
    "    vocab_size = len(word_index)+1\n",
    "    \n",
    "    model = Sequential()\n",
    "    # Embedding layer? Input 값이 처음으로 들어오는 layer\n",
    "    # vocab_size는 데이터 셋 내의 유니크 단어 수, embedding_dim은 몇 차원으로 줄일 것인지, input_length는 들어오는 문장의 최대 길이\n",
    "    model.add(Embedding(vocab_size, embedding, input_length=maxlen))\n",
    "    model.add(layers.Conv1D(32, 5, activation='relu', padding='Same'))\n",
    "    model.add(Dropout(0.5))\n",
    "    model.add(layers.MaxPooling1D(2))\n",
    "    model.add(layers.Conv1D(64, 2, activation='relu', padding='Same'))\n",
    "    model.add(Dropout(0.5))\n",
    "    model.add(layers.MaxPooling1D(2))\n",
    "    model.add(Flatten())\n",
    "    model.add(Dense(512, activation='relu'))\n",
    "    model.add(Dropout(0.5))\n",
    "    model.add(Dense(256, activation='relu'))\n",
    "    model.add(Dropout(0.5))\n",
    "    model.add(Dense(128, activation='relu'))\n",
    "    model.add(Dropout(0.5))\n",
    "    model.add(Dense(46, activation='softmax'))\n",
    "\n",
    "    model.summary()\n",
    "    model.compile(loss='sparse_categorical_crossentropy', optimizer='nadam', metrics=['accuracy'])\n",
    "    return model, train_pad, test_pad"
   ]
  },
  {
   "cell_type": "code",
   "execution_count": 62,
   "id": "a7d63368",
   "metadata": {},
   "outputs": [
    {
     "name": "stdout",
     "output_type": "stream",
     "text": [
      "Model: \"sequential_6\"\n",
      "_________________________________________________________________\n",
      "Layer (type)                 Output Shape              Param #   \n",
      "=================================================================\n",
      "embedding_6 (Embedding)      (None, 140, 100)          5642200   \n",
      "_________________________________________________________________\n",
      "conv1d_12 (Conv1D)           (None, 140, 32)           16032     \n",
      "_________________________________________________________________\n",
      "dropout_30 (Dropout)         (None, 140, 32)           0         \n",
      "_________________________________________________________________\n",
      "max_pooling1d_12 (MaxPooling (None, 70, 32)            0         \n",
      "_________________________________________________________________\n",
      "conv1d_13 (Conv1D)           (None, 70, 64)            4160      \n",
      "_________________________________________________________________\n",
      "dropout_31 (Dropout)         (None, 70, 64)            0         \n",
      "_________________________________________________________________\n",
      "max_pooling1d_13 (MaxPooling (None, 35, 64)            0         \n",
      "_________________________________________________________________\n",
      "flatten_6 (Flatten)          (None, 2240)              0         \n",
      "_________________________________________________________________\n",
      "dense_24 (Dense)             (None, 512)               1147392   \n",
      "_________________________________________________________________\n",
      "dropout_32 (Dropout)         (None, 512)               0         \n",
      "_________________________________________________________________\n",
      "dense_25 (Dense)             (None, 256)               131328    \n",
      "_________________________________________________________________\n",
      "dropout_33 (Dropout)         (None, 256)               0         \n",
      "_________________________________________________________________\n",
      "dense_26 (Dense)             (None, 128)               32896     \n",
      "_________________________________________________________________\n",
      "dropout_34 (Dropout)         (None, 128)               0         \n",
      "_________________________________________________________________\n",
      "dense_27 (Dense)             (None, 46)                5934      \n",
      "=================================================================\n",
      "Total params: 6,979,942\n",
      "Trainable params: 6,979,942\n",
      "Non-trainable params: 0\n",
      "_________________________________________________________________\n"
     ]
    }
   ],
   "source": [
    "model, train_pad, test_pad = CNN(train_name_key, test_name_key, 140, 100)"
   ]
  },
  {
   "cell_type": "code",
   "execution_count": 64,
   "id": "dba96e36",
   "metadata": {},
   "outputs": [
    {
     "name": "stdout",
     "output_type": "stream",
     "text": [
      "Epoch 1/20\n",
      "140/140 - 29s - loss: 0.6652 - accuracy: 0.8292 - val_loss: 0.7949 - val_accuracy: 0.8212\n",
      "Epoch 2/20\n",
      "140/140 - 30s - loss: 0.5952 - accuracy: 0.8334 - val_loss: 0.7188 - val_accuracy: 0.8257\n",
      "Epoch 3/20\n",
      "140/140 - 29s - loss: 0.5327 - accuracy: 0.8426 - val_loss: 0.6765 - val_accuracy: 0.8296\n",
      "Epoch 4/20\n",
      "140/140 - 30s - loss: 0.4816 - accuracy: 0.8554 - val_loss: 0.6521 - val_accuracy: 0.8450\n",
      "Epoch 5/20\n",
      "140/140 - 29s - loss: 0.4374 - accuracy: 0.8680 - val_loss: 0.6415 - val_accuracy: 0.8436\n",
      "Epoch 6/20\n",
      "140/140 - 30s - loss: 0.4036 - accuracy: 0.8788 - val_loss: 0.6274 - val_accuracy: 0.8508\n",
      "Epoch 7/20\n",
      "140/140 - 28s - loss: 0.3723 - accuracy: 0.8893 - val_loss: 0.6398 - val_accuracy: 0.8608\n",
      "Epoch 8/20\n",
      "140/140 - 28s - loss: 0.3459 - accuracy: 0.8976 - val_loss: 0.6299 - val_accuracy: 0.8607\n",
      "Epoch 9/20\n",
      "140/140 - 29s - loss: 0.3262 - accuracy: 0.9042 - val_loss: 0.6574 - val_accuracy: 0.8705\n",
      "Epoch 10/20\n",
      "140/140 - 29s - loss: 0.3064 - accuracy: 0.9097 - val_loss: 0.6187 - val_accuracy: 0.8621\n",
      "Epoch 11/20\n",
      "140/140 - 28s - loss: 0.2913 - accuracy: 0.9139 - val_loss: 0.6431 - val_accuracy: 0.8674\n",
      "Epoch 12/20\n",
      "140/140 - 28s - loss: 0.2769 - accuracy: 0.9177 - val_loss: 0.6994 - val_accuracy: 0.8751\n",
      "Epoch 13/20\n",
      "140/140 - 29s - loss: 0.2641 - accuracy: 0.9212 - val_loss: 0.6551 - val_accuracy: 0.8772\n",
      "Epoch 14/20\n",
      "140/140 - 28s - loss: 0.2535 - accuracy: 0.9246 - val_loss: 0.6902 - val_accuracy: 0.8806\n",
      "Epoch 15/20\n",
      "140/140 - 28s - loss: 0.2424 - accuracy: 0.9280 - val_loss: 0.6678 - val_accuracy: 0.8760\n",
      "Epoch 16/20\n",
      "140/140 - 28s - loss: 0.2336 - accuracy: 0.9304 - val_loss: 0.7006 - val_accuracy: 0.8809\n",
      "Epoch 17/20\n",
      "140/140 - 29s - loss: 0.2244 - accuracy: 0.9329 - val_loss: 0.7120 - val_accuracy: 0.8798\n",
      "Epoch 18/20\n",
      "140/140 - 29s - loss: 0.2160 - accuracy: 0.9359 - val_loss: 0.7156 - val_accuracy: 0.8819\n",
      "Epoch 19/20\n",
      "140/140 - 29s - loss: 0.2099 - accuracy: 0.9373 - val_loss: 0.7117 - val_accuracy: 0.8812\n",
      "Epoch 20/20\n",
      "140/140 - 28s - loss: 0.2048 - accuracy: 0.9386 - val_loss: 0.7292 - val_accuracy: 0.8812\n"
     ]
    },
    {
     "data": {
      "text/plain": [
       "<tensorflow.python.keras.callbacks.History at 0x7f9c80a488e0>"
      ]
     },
     "execution_count": 64,
     "metadata": {},
     "output_type": "execute_result"
    }
   ],
   "source": [
    "model.fit(train_pad, np.array(train_label), epochs=20, batch_size=1000, validation_split=0.2, verbose=2)"
   ]
  },
  {
   "cell_type": "code",
   "execution_count": 65,
   "id": "aaac4521",
   "metadata": {},
   "outputs": [],
   "source": [
    "# 모델 예측\n",
    "name_key_answer = model.predict(test_pad)"
   ]
  },
  {
   "cell_type": "code",
   "execution_count": 66,
   "id": "b94138de",
   "metadata": {},
   "outputs": [
    {
     "name": "stdout",
     "output_type": "stream",
     "text": [
      "Model: \"sequential_7\"\n",
      "_________________________________________________________________\n",
      "Layer (type)                 Output Shape              Param #   \n",
      "=================================================================\n",
      "embedding_7 (Embedding)      (None, 800, 200)          20462400  \n",
      "_________________________________________________________________\n",
      "conv1d_14 (Conv1D)           (None, 800, 32)           32032     \n",
      "_________________________________________________________________\n",
      "dropout_35 (Dropout)         (None, 800, 32)           0         \n",
      "_________________________________________________________________\n",
      "max_pooling1d_14 (MaxPooling (None, 400, 32)           0         \n",
      "_________________________________________________________________\n",
      "conv1d_15 (Conv1D)           (None, 400, 64)           4160      \n",
      "_________________________________________________________________\n",
      "dropout_36 (Dropout)         (None, 400, 64)           0         \n",
      "_________________________________________________________________\n",
      "max_pooling1d_15 (MaxPooling (None, 200, 64)           0         \n",
      "_________________________________________________________________\n",
      "flatten_7 (Flatten)          (None, 12800)             0         \n",
      "_________________________________________________________________\n",
      "dense_28 (Dense)             (None, 512)               6554112   \n",
      "_________________________________________________________________\n",
      "dropout_37 (Dropout)         (None, 512)               0         \n",
      "_________________________________________________________________\n",
      "dense_29 (Dense)             (None, 256)               131328    \n",
      "_________________________________________________________________\n",
      "dropout_38 (Dropout)         (None, 256)               0         \n",
      "_________________________________________________________________\n",
      "dense_30 (Dense)             (None, 128)               32896     \n",
      "_________________________________________________________________\n",
      "dropout_39 (Dropout)         (None, 128)               0         \n",
      "_________________________________________________________________\n",
      "dense_31 (Dense)             (None, 46)                5934      \n",
      "=================================================================\n",
      "Total params: 27,222,862\n",
      "Trainable params: 27,222,862\n",
      "Non-trainable params: 0\n",
      "_________________________________________________________________\n"
     ]
    },
    {
     "data": {
      "text/plain": [
       "(<tensorflow.python.keras.engine.sequential.Sequential at 0x7f9ca1a37580>,\n",
       " array([[   77,  2329,  4534, ...,     0,     0,     0],\n",
       "        [  603,   509,  8930, ...,     0,     0,     0],\n",
       "        [33103,   281,  7611, ...,     0,     0,     0],\n",
       "        ...,\n",
       "        [ 2480,    97,  1873, ...,     0,     0,     0],\n",
       "        [49838,     3, 13713, ...,     0,     0,     0],\n",
       "        [   25,     7,   246, ...,     0,     0,     0]], dtype=int32),\n",
       " array([[  3820,  35748,  48452, ...,      0,      0,      0],\n",
       "        [   775,    184,    452, ...,      0,      0,      0],\n",
       "        [   404,  27208,   7725, ...,      0,      0,      0],\n",
       "        ...,\n",
       "        [ 10738,  17363,  20717, ...,      0,      0,      0],\n",
       "        [    25,      7,    324, ...,      0,      0,      0],\n",
       "        [100102,    286,   6748, ...,      0,      0,      0]], dtype=int32))"
      ]
     },
     "execution_count": 66,
     "metadata": {},
     "output_type": "execute_result"
    }
   ],
   "source": [
    "CNN(train_goal, test_goal, 800, 200)"
   ]
  },
  {
   "cell_type": "code",
   "execution_count": 67,
   "id": "a09b2a4f",
   "metadata": {},
   "outputs": [
    {
     "name": "stdout",
     "output_type": "stream",
     "text": [
      "Epoch 1/20\n",
      "140/140 - 28s - loss: 0.1946 - accuracy: 0.9421 - val_loss: 0.7126 - val_accuracy: 0.8865\n",
      "Epoch 2/20\n",
      "140/140 - 28s - loss: 0.1906 - accuracy: 0.9425 - val_loss: 0.7480 - val_accuracy: 0.8853\n",
      "Epoch 3/20\n",
      "140/140 - 28s - loss: 0.1865 - accuracy: 0.9436 - val_loss: 0.7643 - val_accuracy: 0.8873\n",
      "Epoch 4/20\n",
      "140/140 - 29s - loss: 0.1801 - accuracy: 0.9463 - val_loss: 0.7715 - val_accuracy: 0.8880\n",
      "Epoch 5/20\n",
      "140/140 - 28s - loss: 0.1772 - accuracy: 0.9471 - val_loss: 0.7165 - val_accuracy: 0.8916\n",
      "Epoch 6/20\n",
      "140/140 - 28s - loss: 0.1722 - accuracy: 0.9478 - val_loss: 0.7576 - val_accuracy: 0.8931\n",
      "Epoch 7/20\n",
      "140/140 - 28s - loss: 0.1694 - accuracy: 0.9491 - val_loss: 0.7331 - val_accuracy: 0.8920\n",
      "Epoch 8/20\n",
      "140/140 - 28s - loss: 0.1625 - accuracy: 0.9508 - val_loss: 0.7315 - val_accuracy: 0.8902\n",
      "Epoch 9/20\n",
      "140/140 - 28s - loss: 0.1611 - accuracy: 0.9512 - val_loss: 0.7635 - val_accuracy: 0.8931\n",
      "Epoch 10/20\n",
      "140/140 - 28s - loss: 0.1595 - accuracy: 0.9518 - val_loss: 0.7545 - val_accuracy: 0.8915\n",
      "Epoch 11/20\n",
      "140/140 - 28s - loss: 0.1569 - accuracy: 0.9526 - val_loss: 0.8009 - val_accuracy: 0.8944\n",
      "Epoch 12/20\n",
      "140/140 - 28s - loss: 0.1521 - accuracy: 0.9537 - val_loss: 0.7781 - val_accuracy: 0.8927\n",
      "Epoch 13/20\n",
      "140/140 - 28s - loss: 0.1487 - accuracy: 0.9549 - val_loss: 0.7756 - val_accuracy: 0.8954\n",
      "Epoch 14/20\n",
      "140/140 - 30s - loss: 0.1466 - accuracy: 0.9555 - val_loss: 0.8226 - val_accuracy: 0.8978\n",
      "Epoch 15/20\n",
      "140/140 - 29s - loss: 0.1448 - accuracy: 0.9563 - val_loss: 0.7815 - val_accuracy: 0.8970\n",
      "Epoch 16/20\n",
      "140/140 - 28s - loss: 0.1420 - accuracy: 0.9575 - val_loss: 0.8150 - val_accuracy: 0.9009\n",
      "Epoch 17/20\n",
      "140/140 - 28s - loss: 0.1404 - accuracy: 0.9580 - val_loss: 0.8227 - val_accuracy: 0.8990\n",
      "Epoch 18/20\n",
      "140/140 - 28s - loss: 0.1371 - accuracy: 0.9583 - val_loss: 0.7585 - val_accuracy: 0.8978\n",
      "Epoch 19/20\n",
      "140/140 - 28s - loss: 0.1346 - accuracy: 0.9596 - val_loss: 0.8253 - val_accuracy: 0.8981\n",
      "Epoch 20/20\n",
      "140/140 - 28s - loss: 0.1322 - accuracy: 0.9599 - val_loss: 0.8224 - val_accuracy: 0.8970\n"
     ]
    },
    {
     "data": {
      "text/plain": [
       "<tensorflow.python.keras.callbacks.History at 0x7f9cc3e5e8e0>"
      ]
     },
     "execution_count": 67,
     "metadata": {},
     "output_type": "execute_result"
    }
   ],
   "source": [
    "model.fit(train_pad, np.array(train_label), epochs=20, batch_size=1000, validation_split=0.2, verbose=2)"
   ]
  },
  {
   "cell_type": "code",
   "execution_count": 68,
   "id": "5e5a41f4",
   "metadata": {},
   "outputs": [],
   "source": [
    "goal_answer = model.predict(test_pad)"
   ]
  },
  {
   "cell_type": "code",
   "execution_count": 69,
   "id": "f302ed64",
   "metadata": {},
   "outputs": [
    {
     "name": "stdout",
     "output_type": "stream",
     "text": [
      "Model: \"sequential_8\"\n",
      "_________________________________________________________________\n",
      "Layer (type)                 Output Shape              Param #   \n",
      "=================================================================\n",
      "embedding_8 (Embedding)      (None, 1500, 200)         30442600  \n",
      "_________________________________________________________________\n",
      "conv1d_16 (Conv1D)           (None, 1500, 32)          32032     \n",
      "_________________________________________________________________\n",
      "dropout_40 (Dropout)         (None, 1500, 32)          0         \n",
      "_________________________________________________________________\n",
      "max_pooling1d_16 (MaxPooling (None, 750, 32)           0         \n",
      "_________________________________________________________________\n",
      "conv1d_17 (Conv1D)           (None, 750, 64)           4160      \n",
      "_________________________________________________________________\n",
      "dropout_41 (Dropout)         (None, 750, 64)           0         \n",
      "_________________________________________________________________\n",
      "max_pooling1d_17 (MaxPooling (None, 375, 64)           0         \n",
      "_________________________________________________________________\n",
      "flatten_8 (Flatten)          (None, 24000)             0         \n",
      "_________________________________________________________________\n",
      "dense_32 (Dense)             (None, 512)               12288512  \n",
      "_________________________________________________________________\n",
      "dropout_42 (Dropout)         (None, 512)               0         \n",
      "_________________________________________________________________\n",
      "dense_33 (Dense)             (None, 256)               131328    \n",
      "_________________________________________________________________\n",
      "dropout_43 (Dropout)         (None, 256)               0         \n",
      "_________________________________________________________________\n",
      "dense_34 (Dense)             (None, 128)               32896     \n",
      "_________________________________________________________________\n",
      "dropout_44 (Dropout)         (None, 128)               0         \n",
      "_________________________________________________________________\n",
      "dense_35 (Dense)             (None, 46)                5934      \n",
      "=================================================================\n",
      "Total params: 42,937,462\n",
      "Trainable params: 42,937,462\n",
      "Non-trainable params: 0\n",
      "_________________________________________________________________\n"
     ]
    },
    {
     "data": {
      "text/plain": [
       "(<tensorflow.python.keras.engine.sequential.Sequential at 0x7f9c81594730>,\n",
       " array([[ 3956,     2, 28769, ...,     0,     0,     0],\n",
       "        [   33,  2485,    29, ...,     0,     0,     0],\n",
       "        [35909,   358,  7771, ...,     0,     0,     0],\n",
       "        ...,\n",
       "        [ 1702,    12,   555, ...,     0,     0,     0],\n",
       "        [   83,    95, 47895, ...,     0,     0,     0],\n",
       "        [   33,     7,     4, ...,     0,     0,     0]], dtype=int32),\n",
       " array([[   33,     4,  5608, ...,     0,     0,     0],\n",
       "        [    7,   168,  5536, ...,     0,     0,     0],\n",
       "        [   67,     7,  9098, ...,     0,     0,     0],\n",
       "        ...,\n",
       "        [10968,  9131, 11733, ...,     0,     0,     0],\n",
       "        [   67,  2086,     7, ...,     0,     0,     0],\n",
       "        [    1,  3373,  1158, ...,     0,     0,     0]], dtype=int32))"
      ]
     },
     "execution_count": 69,
     "metadata": {},
     "output_type": "execute_result"
    }
   ],
   "source": [
    "CNN(train_cont, test_cont, 1500, 200)"
   ]
  },
  {
   "cell_type": "code",
   "execution_count": 70,
   "id": "684d0787",
   "metadata": {},
   "outputs": [
    {
     "name": "stdout",
     "output_type": "stream",
     "text": [
      "Epoch 1/20\n",
      "140/140 - 28s - loss: 0.1296 - accuracy: 0.9608 - val_loss: 0.8087 - val_accuracy: 0.8993\n",
      "Epoch 2/20\n",
      "140/140 - 28s - loss: 0.1298 - accuracy: 0.9613 - val_loss: 0.8301 - val_accuracy: 0.8991\n",
      "Epoch 3/20\n",
      "140/140 - 28s - loss: 0.1276 - accuracy: 0.9618 - val_loss: 0.8499 - val_accuracy: 0.9015\n",
      "Epoch 4/20\n",
      "140/140 - 28s - loss: 0.1230 - accuracy: 0.9632 - val_loss: 0.8873 - val_accuracy: 0.9013\n",
      "Epoch 5/20\n",
      "140/140 - 28s - loss: 0.1212 - accuracy: 0.9641 - val_loss: 0.8934 - val_accuracy: 0.9018\n",
      "Epoch 6/20\n",
      "140/140 - 28s - loss: 0.1211 - accuracy: 0.9635 - val_loss: 0.8741 - val_accuracy: 0.9008\n",
      "Epoch 7/20\n",
      "140/140 - 28s - loss: 0.1210 - accuracy: 0.9639 - val_loss: 0.8379 - val_accuracy: 0.9007\n",
      "Epoch 8/20\n",
      "140/140 - 28s - loss: 0.1184 - accuracy: 0.9644 - val_loss: 0.8611 - val_accuracy: 0.9034\n",
      "Epoch 9/20\n",
      "140/140 - 28s - loss: 0.1166 - accuracy: 0.9650 - val_loss: 0.8746 - val_accuracy: 0.9028\n",
      "Epoch 10/20\n",
      "140/140 - 28s - loss: 0.1160 - accuracy: 0.9654 - val_loss: 0.8881 - val_accuracy: 0.9024\n",
      "Epoch 11/20\n",
      "140/140 - 28s - loss: 0.1118 - accuracy: 0.9666 - val_loss: 0.9387 - val_accuracy: 0.9043\n",
      "Epoch 12/20\n",
      "140/140 - 28s - loss: 0.1117 - accuracy: 0.9666 - val_loss: 0.9043 - val_accuracy: 0.9047\n",
      "Epoch 13/20\n",
      "140/140 - 28s - loss: 0.1115 - accuracy: 0.9667 - val_loss: 0.8797 - val_accuracy: 0.9020\n",
      "Epoch 14/20\n",
      "140/140 - 28s - loss: 0.1108 - accuracy: 0.9668 - val_loss: 0.9092 - val_accuracy: 0.9035\n",
      "Epoch 15/20\n",
      "140/140 - 28s - loss: 0.1090 - accuracy: 0.9673 - val_loss: 0.9165 - val_accuracy: 0.9016\n",
      "Epoch 16/20\n",
      "140/140 - 28s - loss: 0.1087 - accuracy: 0.9676 - val_loss: 0.8733 - val_accuracy: 0.9054\n",
      "Epoch 17/20\n",
      "140/140 - 28s - loss: 0.1036 - accuracy: 0.9689 - val_loss: 0.9987 - val_accuracy: 0.9047\n",
      "Epoch 18/20\n",
      "140/140 - 28s - loss: 0.1040 - accuracy: 0.9696 - val_loss: 0.9330 - val_accuracy: 0.9051\n",
      "Epoch 19/20\n",
      "140/140 - 28s - loss: 0.1041 - accuracy: 0.9693 - val_loss: 0.8440 - val_accuracy: 0.9044\n",
      "Epoch 20/20\n",
      "140/140 - 28s - loss: 0.1014 - accuracy: 0.9701 - val_loss: 0.9666 - val_accuracy: 0.9065\n"
     ]
    },
    {
     "data": {
      "text/plain": [
       "<tensorflow.python.keras.callbacks.History at 0x7f9cc3e26af0>"
      ]
     },
     "execution_count": 70,
     "metadata": {},
     "output_type": "execute_result"
    }
   ],
   "source": [
    "model.fit(train_pad, np.array(train_label), epochs=20, batch_size=1000, validation_split=0.2, verbose=2)"
   ]
  },
  {
   "cell_type": "code",
   "execution_count": 71,
   "id": "117ab80d",
   "metadata": {},
   "outputs": [],
   "source": [
    "cont_answer = model.predict(test_pad)"
   ]
  },
  {
   "cell_type": "code",
   "execution_count": 72,
   "id": "3a795b71",
   "metadata": {},
   "outputs": [
    {
     "name": "stdout",
     "output_type": "stream",
     "text": [
      "Model: \"sequential_9\"\n",
      "_________________________________________________________________\n",
      "Layer (type)                 Output Shape              Param #   \n",
      "=================================================================\n",
      "embedding_9 (Embedding)      (None, 1000, 200)         18577400  \n",
      "_________________________________________________________________\n",
      "conv1d_18 (Conv1D)           (None, 1000, 32)          32032     \n",
      "_________________________________________________________________\n",
      "dropout_45 (Dropout)         (None, 1000, 32)          0         \n",
      "_________________________________________________________________\n",
      "max_pooling1d_18 (MaxPooling (None, 500, 32)           0         \n",
      "_________________________________________________________________\n",
      "conv1d_19 (Conv1D)           (None, 500, 64)           4160      \n",
      "_________________________________________________________________\n",
      "dropout_46 (Dropout)         (None, 500, 64)           0         \n",
      "_________________________________________________________________\n",
      "max_pooling1d_19 (MaxPooling (None, 250, 64)           0         \n",
      "_________________________________________________________________\n",
      "flatten_9 (Flatten)          (None, 16000)             0         \n",
      "_________________________________________________________________\n",
      "dense_36 (Dense)             (None, 512)               8192512   \n",
      "_________________________________________________________________\n",
      "dropout_47 (Dropout)         (None, 512)               0         \n",
      "_________________________________________________________________\n",
      "dense_37 (Dense)             (None, 256)               131328    \n",
      "_________________________________________________________________\n",
      "dropout_48 (Dropout)         (None, 256)               0         \n",
      "_________________________________________________________________\n",
      "dense_38 (Dense)             (None, 128)               32896     \n",
      "_________________________________________________________________\n",
      "dropout_49 (Dropout)         (None, 128)               0         \n",
      "_________________________________________________________________\n",
      "dense_39 (Dense)             (None, 46)                5934      \n",
      "=================================================================\n",
      "Total params: 26,976,262\n",
      "Trainable params: 26,976,262\n",
      "Non-trainable params: 0\n",
      "_________________________________________________________________\n"
     ]
    },
    {
     "data": {
      "text/plain": [
       "(<tensorflow.python.keras.engine.sequential.Sequential at 0x7f9cc3e25040>,\n",
       " array([[   44,  4330,     4, ...,     0,     0,     0],\n",
       "        [ 9116,   723,   532, ...,     0,     0,     0],\n",
       "        [   34,   870,     3, ...,     0,     0,     0],\n",
       "        ...,\n",
       "        [   27,    83,     8, ...,     0,     0,     0],\n",
       "        [13888,     4, 16346, ...,     0,     0,     0],\n",
       "        [   27,    11,    26, ...,     0,     0,     0]], dtype=int32),\n",
       " array([[   6,    3,  251, ...,    0,    0,    0],\n",
       "        [  27,   11, 1545, ...,    0,    0,    0],\n",
       "        [  27,   11,  437, ...,    0,    0,    0],\n",
       "        ...,\n",
       "        [   6,    3,   49, ...,    0,    0,    0],\n",
       "        [1656,  495, 6368, ...,    0,    0,    0],\n",
       "        [   1,  134, 1163, ...,    0,    0,    0]], dtype=int32))"
      ]
     },
     "execution_count": 72,
     "metadata": {},
     "output_type": "execute_result"
    }
   ],
   "source": [
    "CNN(train_effect, test_effect, 1000, 200)"
   ]
  },
  {
   "cell_type": "code",
   "execution_count": 73,
   "id": "ae6a371e",
   "metadata": {},
   "outputs": [
    {
     "name": "stdout",
     "output_type": "stream",
     "text": [
      "Epoch 1/20\n",
      "140/140 - 29s - loss: 0.1023 - accuracy: 0.9700 - val_loss: 0.8912 - val_accuracy: 0.9050\n",
      "Epoch 2/20\n",
      "140/140 - 29s - loss: 0.1018 - accuracy: 0.9701 - val_loss: 0.9548 - val_accuracy: 0.9061\n",
      "Epoch 3/20\n",
      "140/140 - 29s - loss: 0.0997 - accuracy: 0.9709 - val_loss: 0.9591 - val_accuracy: 0.9043\n",
      "Epoch 4/20\n",
      "140/140 - 29s - loss: 0.0987 - accuracy: 0.9708 - val_loss: 0.9415 - val_accuracy: 0.9045\n",
      "Epoch 5/20\n",
      "140/140 - 29s - loss: 0.0978 - accuracy: 0.9713 - val_loss: 0.9321 - val_accuracy: 0.9065\n",
      "Epoch 6/20\n",
      "140/140 - 29s - loss: 0.0971 - accuracy: 0.9716 - val_loss: 0.9792 - val_accuracy: 0.9061\n",
      "Epoch 7/20\n",
      "140/140 - 29s - loss: 0.0954 - accuracy: 0.9719 - val_loss: 1.0407 - val_accuracy: 0.9082\n",
      "Epoch 8/20\n",
      "140/140 - 29s - loss: 0.0932 - accuracy: 0.9722 - val_loss: 0.9327 - val_accuracy: 0.9049\n",
      "Epoch 9/20\n",
      "140/140 - 30s - loss: 0.0936 - accuracy: 0.9722 - val_loss: 1.0467 - val_accuracy: 0.9076\n",
      "Epoch 10/20\n",
      "140/140 - 29s - loss: 0.0944 - accuracy: 0.9721 - val_loss: 0.9661 - val_accuracy: 0.9082\n",
      "Epoch 11/20\n",
      "140/140 - 29s - loss: 0.0948 - accuracy: 0.9723 - val_loss: 0.9300 - val_accuracy: 0.9075\n",
      "Epoch 12/20\n",
      "140/140 - 29s - loss: 0.0907 - accuracy: 0.9735 - val_loss: 0.9663 - val_accuracy: 0.9073\n",
      "Epoch 13/20\n",
      "140/140 - 29s - loss: 0.0910 - accuracy: 0.9732 - val_loss: 0.9159 - val_accuracy: 0.9083\n",
      "Epoch 14/20\n",
      "140/140 - 29s - loss: 0.0913 - accuracy: 0.9732 - val_loss: 0.8823 - val_accuracy: 0.9088\n",
      "Epoch 15/20\n",
      "140/140 - 29s - loss: 0.0885 - accuracy: 0.9736 - val_loss: 0.9421 - val_accuracy: 0.9071\n",
      "Epoch 16/20\n",
      "140/140 - 29s - loss: 0.0883 - accuracy: 0.9742 - val_loss: 0.9205 - val_accuracy: 0.9072\n",
      "Epoch 17/20\n",
      "140/140 - 29s - loss: 0.0879 - accuracy: 0.9744 - val_loss: 0.9891 - val_accuracy: 0.9058\n",
      "Epoch 18/20\n",
      "140/140 - 29s - loss: 0.0855 - accuracy: 0.9748 - val_loss: 1.0398 - val_accuracy: 0.9077\n",
      "Epoch 19/20\n",
      "140/140 - 29s - loss: 0.0872 - accuracy: 0.9745 - val_loss: 1.0591 - val_accuracy: 0.9102\n",
      "Epoch 20/20\n",
      "140/140 - 29s - loss: 0.0857 - accuracy: 0.9753 - val_loss: 0.9479 - val_accuracy: 0.9078\n"
     ]
    },
    {
     "data": {
      "text/plain": [
       "<tensorflow.python.keras.callbacks.History at 0x7f9bb02bcc40>"
      ]
     },
     "execution_count": 73,
     "metadata": {},
     "output_type": "execute_result"
    }
   ],
   "source": [
    "model.fit(train_pad, np.array(train_label), epochs=20, batch_size=1000, validation_split=0.2, verbose=2)"
   ]
  },
  {
   "cell_type": "code",
   "execution_count": 76,
   "id": "868befee",
   "metadata": {},
   "outputs": [],
   "source": [
    "effect_answer = model.predict(test_pad)"
   ]
  },
  {
   "cell_type": "code",
   "execution_count": 77,
   "id": "93f9f121",
   "metadata": {},
   "outputs": [],
   "source": [
    "answer = (name_key_answer + goal_answer + cont_answer + effect_answer)/4"
   ]
  },
  {
   "cell_type": "markdown",
   "id": "122cf067",
   "metadata": {},
   "source": [
    "# tokenizing\n",
    "\n",
    "tokenizer = Tokenizer(oov_token='<oov>')\n",
    "tokenizer.fit_on_texts(train_data)\n",
    "word_index = tokenizer.word_index\n",
    "\n",
    "# padding\n",
    "\n",
    "train_seq = tokenizer.texts_to_sequences(train_data)\n",
    "test_seq = tokenizer.texts_to_sequences(test_data)\n",
    "train_pad = pad_sequences(train_seq, maxlen=100, padding='post', truncating='post')\n",
    "test_pad = pad_sequences(test_seq, maxlen=100, padding='post', truncating='post')"
   ]
  },
  {
   "cell_type": "markdown",
   "id": "8ea350b5",
   "metadata": {},
   "source": [
    "model = Sequential()\n",
    "# Embedding layer? Input 값이 처음으로 들어오는 layer\n",
    "# vocab_size는 데이터 셋 내의 유니크 단어 수, embedding_dim은 몇 차원으로 줄일 것인지, input_length는 들어오는 문장의 최대 길이\n",
    "model.add(Embedding(vocab_size, embedding_dim, input_length=max_length))\n",
    "model.add(layers.Conv1D(32, 5, activation='relu', padding='Same'))\n",
    "model.add(Dropout(0.5))\n",
    "model.add(layers.MaxPooling1D(2))\n",
    "model.add(layers.Conv1D(64, 2, activation='relu', padding='Same'))\n",
    "model.add(Dropout(0.5))\n",
    "model.add(layers.MaxPooling1D(2))\n",
    "model.add(Flatten())\n",
    "model.add(Dense(128, activation='relu'))\n",
    "model.add(Dense(46, activation='softmax'))\n",
    "\n",
    "model.summary()"
   ]
  },
  {
   "cell_type": "markdown",
   "id": "2129178d",
   "metadata": {},
   "source": [
    "model.compile(loss='sparse_categorical_crossentropy', optimizer='adam', metrics=['accuracy'])\n",
    "model.fit(train_pad, train_label, epochs=25, batch_size=1000, validation_split=0.1, verbose=2)"
   ]
  },
  {
   "cell_type": "code",
   "execution_count": 79,
   "id": "4885397f",
   "metadata": {},
   "outputs": [],
   "source": [
    "# 모델 예측\n",
    "import tensorflow as tf\n",
    "pred = tf.argmax(answer, axis=1)"
   ]
  },
  {
   "cell_type": "code",
   "execution_count": 84,
   "id": "d5361422",
   "metadata": {},
   "outputs": [],
   "source": [
    "sample_submission=pd.read_csv('../DATA/open/sample_submission.csv')\n",
    "sample_submission['label']=pred\n",
    "sample_submission.to_csv('../DATA/Result/CNN_voting.csv', index=False)"
   ]
  },
  {
   "cell_type": "code",
   "execution_count": null,
   "id": "7ecce832",
   "metadata": {},
   "outputs": [],
   "source": []
  }
 ],
 "metadata": {
  "kernelspec": {
   "display_name": "Python 3 (ipykernel)",
   "language": "python",
   "name": "python3"
  },
  "language_info": {
   "codemirror_mode": {
    "name": "ipython",
    "version": 3
   },
   "file_extension": ".py",
   "mimetype": "text/x-python",
   "name": "python",
   "nbconvert_exporter": "python",
   "pygments_lexer": "ipython3",
   "version": "3.8.10"
  }
 },
 "nbformat": 4,
 "nbformat_minor": 5
}
