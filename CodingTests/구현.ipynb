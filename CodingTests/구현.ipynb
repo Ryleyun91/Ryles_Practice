{
 "cells": [
  {
   "cell_type": "markdown",
   "id": "968fe742",
   "metadata": {},
   "source": [
    "# 연습문제"
   ]
  },
  {
   "cell_type": "markdown",
   "id": "0e6618ed",
   "metadata": {},
   "source": [
    "## 예제 4-1 상하좌우"
   ]
  },
  {
   "cell_type": "code",
   "execution_count": 1,
   "id": "26819c4d",
   "metadata": {},
   "outputs": [
    {
     "name": "stdout",
     "output_type": "stream",
     "text": [
      "5\n",
      "R R R U D D\n"
     ]
    }
   ],
   "source": [
    "size = int(input())\n",
    "seq = input().split()"
   ]
  },
  {
   "cell_type": "code",
   "execution_count": 8,
   "id": "59029bac",
   "metadata": {},
   "outputs": [
    {
     "name": "stdout",
     "output_type": "stream",
     "text": [
      "3 4\n"
     ]
    }
   ],
   "source": [
    "x = 1\n",
    "y = 1\n",
    "for step in seq:\n",
    "    if step == 'R':\n",
    "        if y+1<=size:\n",
    "            y += 1\n",
    "    elif step == 'L':\n",
    "        if y-1>=1:\n",
    "            y -= 1\n",
    "    elif step == 'D':\n",
    "        if x+1<=size:\n",
    "            x += 1\n",
    "    else:\n",
    "        if x-1>=1:\n",
    "            x -=1\n",
    "      \n",
    "print(x, y)        "
   ]
  },
  {
   "cell_type": "markdown",
   "id": "78ff6733",
   "metadata": {},
   "source": [
    "### dx, dy 사용하기"
   ]
  },
  {
   "cell_type": "code",
   "execution_count": 46,
   "id": "26c36688",
   "metadata": {},
   "outputs": [
    {
     "name": "stdout",
     "output_type": "stream",
     "text": [
      "5\n",
      "R R R U D D\n",
      "3 4\n"
     ]
    }
   ],
   "source": [
    "# N을 입력받기\n",
    "n = int(input())\n",
    "x, y = 1, 1\n",
    "plans = input().split()\n",
    "\n",
    "# L, R, U, D에 따른 이동 방향\n",
    "dx = [0, 0, -1, 1]\n",
    "dy = [-1, 1, 0, 0]\n",
    "move_types = ['L', 'R', 'U', 'D']\n",
    "\n",
    "# 이동 계획을 하니씩 확인\n",
    "for plan in plans:\n",
    "    # 이동 후 좌표 구하기\n",
    "    for i in range(len(move_types)):\n",
    "        if plan == move_types[i]:\n",
    "            nx = x + dx[i]\n",
    "            ny = y + dy[i]\n",
    "\n",
    "    # 공간을 벗어나는 경우 무시 (continue 하면 for 문 내의 위에것 실행 안하고 continue가 있는 층의 for문으로 돌아감)\n",
    "    if nx < 1 or ny < 1 or nx > n or ny > n:\n",
    "        continue\n",
    "        \n",
    "    # 이동 수행\n",
    "    x, y = nx, ny\n",
    "    \n",
    "print(x, y)"
   ]
  },
  {
   "cell_type": "markdown",
   "id": "c8d56eb8",
   "metadata": {},
   "source": [
    "## 예제 4-2 시각"
   ]
  },
  {
   "cell_type": "code",
   "execution_count": 27,
   "id": "d1ee5282",
   "metadata": {},
   "outputs": [
    {
     "name": "stdout",
     "output_type": "stream",
     "text": [
      "5\n",
      "11475\n"
     ]
    }
   ],
   "source": [
    "N = int(input())\n",
    "\n",
    "count = 0\n",
    "\n",
    "for i in range(0, N+1):\n",
    "    for j in range(0, 60):\n",
    "        for z in range(0, 60):\n",
    "            temp = str(i)+str(j)+str(z)\n",
    "            if '3' in temp:\n",
    "                count+=1\n",
    "\n",
    "print(count)"
   ]
  },
  {
   "cell_type": "markdown",
   "id": "65a76061",
   "metadata": {},
   "source": [
    "# 실전문제"
   ]
  },
  {
   "cell_type": "markdown",
   "id": "966ff111",
   "metadata": {},
   "source": [
    "## 왕실의 나이트 "
   ]
  },
  {
   "cell_type": "code",
   "execution_count": 40,
   "id": "b0e57bee",
   "metadata": {},
   "outputs": [
    {
     "name": "stdout",
     "output_type": "stream",
     "text": [
      "c2\n",
      "6\n"
     ]
    }
   ],
   "source": [
    "hor = ['a','b','c','d','e','f','g','h']\n",
    "ver = [i for i in range(1, 9)]\n",
    "\n",
    "start = input()\n",
    "start_hor = hor.index(start[0])+1\n",
    "start_ver = int(start[1])\n",
    "\n",
    "count = 0\n",
    "\n",
    "if start_hor-2 > 0 and start_ver-1 == 0:\n",
    "    count += 1\n",
    "elif start_hor-2 > 0 and start_ver-1 > 0:\n",
    "    count += 2\n",
    "if start_hor+2 < 9 and start_ver-1 == 0:\n",
    "    count += 1\n",
    "elif start_hor+2 < 9 and start_ver-1 > 0:\n",
    "    count += 2\n",
    "if start_ver-2 > 0 and start_hor-1 == 0:\n",
    "    count += 1\n",
    "elif start_ver-2 > 0 and start_hor-1 > 0:\n",
    "    count += 2\n",
    "if start_ver+2 < 9 and start_hor-1 == 0:\n",
    "    count += 1\n",
    "elif start_ver+2 < 9 and start_hor-1 > 0:\n",
    "    count += 2\n",
    "\n",
    "print(count)"
   ]
  },
  {
   "cell_type": "markdown",
   "id": "723937b9",
   "metadata": {},
   "source": [
    "### 좀 더 깔끔하게"
   ]
  },
  {
   "cell_type": "code",
   "execution_count": 42,
   "id": "48a42559",
   "metadata": {},
   "outputs": [
    {
     "name": "stdout",
     "output_type": "stream",
     "text": [
      "c2\n",
      "6\n"
     ]
    }
   ],
   "source": [
    "# 현재의 나이트의 위치 입력받기\n",
    "input_data = input()\n",
    "row = int(input_data[1])\n",
    "# ord()는 문자 번호\n",
    "column = int(ord(input_data[0])) - int(ord('a')) + 1\n",
    "\n",
    "# 나이트가 이동할 수 있는 8가지 방향 정의\n",
    "steps = [(-2, -1), (-1, -2), (1, -2), (2, -1), (2, 1), (1, 2), (-1, 2), (-2, 1)]\n",
    "\n",
    "# 8가지 방향에 대하여 이동이 가능한지 확인\n",
    "result = 0\n",
    "\n",
    "for step in steps:\n",
    "    # 이동하고자 하는 위치 확인\n",
    "    next_row = row + step[0]\n",
    "    next_column = column + step[1]\n",
    "    # 해당 위치로 이동이 가능하다면 카운트 증가\n",
    "    if next_row >= 1 and next_row <=8 and next_column >=1 and next_column <= 8:\n",
    "        result+=1\n",
    "        \n",
    "print(result)"
   ]
  },
  {
   "cell_type": "markdown",
   "id": "9203d273",
   "metadata": {},
   "source": [
    "## 게임 개발 (어려움 다시 풀어보기)"
   ]
  },
  {
   "cell_type": "code",
   "execution_count": 51,
   "id": "0b905e29",
   "metadata": {},
   "outputs": [
    {
     "name": "stdout",
     "output_type": "stream",
     "text": [
      "4 4\n",
      "1 1 0\n",
      "1 1 1 1\n",
      "1 0 0 1\n",
      "1 1 0 1\n",
      "1 1 1 1\n",
      "3\n"
     ]
    }
   ],
   "source": [
    "# N, M을 공백으로 구분하여 입력받기\n",
    "n, m = map(int, input().split())\n",
    "\n",
    "# 방문 위치를 저장하기 위한 맵을 생성하여 0으로 초기화\n",
    "import numpy as np\n",
    "d = np.zeros((n,m))\n",
    "\n",
    "# 현재 캐릭터의 x좌표, y좌표, 방향을 입력받기\n",
    "x, y, direction = map(int, input().split())\n",
    "d[x][y] = 1\n",
    "\n",
    "# 전체 맵 정보를 입력받기\n",
    "array = []\n",
    "for i in range(n):\n",
    "    array.append(list(map(int, input().split())))\n",
    "    \n",
    "# 북, 동, 남, 서 방향 정의\n",
    "# 이동하는 기준으로 북은 위로 한칸 올라가고 좌우는 변동 없으니 (-1, 0)\n",
    "dx = [-1, 0, 1, 0]\n",
    "dy = [0, 1, 0, -1]\n",
    "\n",
    "# 왼쪽으로 회전\n",
    "# 북 0, 동 1, 남 2, 서 3 이며 북->서->남->동 으로 회전함\n",
    "def turn_left():\n",
    "    global direction\n",
    "    direction -= 1\n",
    "    # 만약 북에서 서로 회전하면 -1이되는데 이는 3과 같으니 다시 바꿔주는 것\n",
    "    if direction == -1:\n",
    "        direction = 3\n",
    "\n",
    "# 시뮬레이션 시작\n",
    "count = 1\n",
    "turn_time = 0\n",
    "\n",
    "while True:\n",
    "    # 왼쪽으로 회전\n",
    "    turn_left()\n",
    "    nx = x + dx[direction]\n",
    "    ny = y + dy[direction]\n",
    "    # 회전한 이후 정면에 가보지 않은 칸이 존재하는 경우 이동\n",
    "    if d[nx][ny] == 0 and array[nx][ny] == 0:\n",
    "        d[nx][ny] = 1\n",
    "        x = nx\n",
    "        y = ny\n",
    "        count += 1\n",
    "        turn_time = 0\n",
    "        continue\n",
    "        \n",
    "    # 회전한 이후 정면에 가보지 않은 칸이 없거나 바다인 경우\n",
    "    else:\n",
    "        turn_time += 1\n",
    "    \n",
    "    # 네 방향 모두 갈 수 없는 경우\n",
    "    if turn_time == 4:\n",
    "        nx = n - dx[direction]\n",
    "        ny = y - dy[direction]\n",
    "        \n",
    "        # 뒤로 갈 수 있다면 이동하기\n",
    "        if array[nx][ny] == 0:\n",
    "            x = nx\n",
    "            y = ny\n",
    "        \n",
    "        # 뒤가 바다로 막혀있는 경우\n",
    "        else:\n",
    "            break\n",
    "        turn_time = 0\n",
    "\n",
    "print(count)"
   ]
  },
  {
   "cell_type": "markdown",
   "id": "1b00ade7",
   "metadata": {},
   "source": [
    "# 구현 문제"
   ]
  },
  {
   "cell_type": "markdown",
   "id": "e8f982fa",
   "metadata": {},
   "source": [
    "## 07 럭키 스트레이트"
   ]
  },
  {
   "cell_type": "code",
   "execution_count": 9,
   "id": "9e9c8907",
   "metadata": {},
   "outputs": [
    {
     "name": "stdout",
     "output_type": "stream",
     "text": [
      "7755\n",
      "READY\n"
     ]
    }
   ],
   "source": [
    "N = [int(i) for i in input()]\n",
    "left = N[:int(len(N)/2)]\n",
    "right = N[int(len(N)/2):]\n",
    "\n",
    "if sum(left) == sum(right):\n",
    "    print('LUCKY')\n",
    "else:\n",
    "    print('READY')"
   ]
  },
  {
   "cell_type": "markdown",
   "id": "d3fe7b84",
   "metadata": {},
   "source": [
    "## 08 문자열 재정렬"
   ]
  },
  {
   "cell_type": "code",
   "execution_count": 19,
   "id": "ce845ce4",
   "metadata": {},
   "outputs": [
    {
     "name": "stdout",
     "output_type": "stream",
     "text": [
      "AJKDLSI412K4JSJ9D\n",
      "ADDIJJJKKLSS20\n"
     ]
    }
   ],
   "source": [
    "text = input()\n",
    "alpha = []\n",
    "number = []\n",
    "\n",
    "for i in text:\n",
    "    try:\n",
    "        int(i)\n",
    "        number.append(int(i))\n",
    "    except:\n",
    "        alpha.append(i)\n",
    "\n",
    "alpha.sort()\n",
    "number.sort()\n",
    "print(\"\".join(alpha)+str(sum(number)))"
   ]
  },
  {
   "cell_type": "markdown",
   "id": "88571ea3",
   "metadata": {},
   "source": [
    "## 09 문자열 압축"
   ]
  },
  {
   "cell_type": "code",
   "execution_count": 1,
   "id": "c4f703b7",
   "metadata": {},
   "outputs": [],
   "source": [
    "def solution(s):\n",
    "    answer = len(s)\n",
    "    # 1개 단위(step)부터 압축 단위를 늘려가며 확인\n",
    "    for step in range(1, len(s)//2+1):\n",
    "        compressed = \"\"\n",
    "        prev = s[0:step]\n",
    "        count = 1\n",
    "        # 단위(step) 크기만큼 증가시키며 이전 문자열과 비교\n",
    "        for j in range(step, len(s), step):\n",
    "            # 이전 상태와 동이하다면 압축 횟수(count) 증가\n",
    "            if prev == s[j:j + step]:\n",
    "                count += 1\n",
    "            # 다른 문자열이 나왔다면(더 이상 압축하지 못하는 경우라면):\n",
    "            else:\n",
    "                compressed += str(count) + prev if count >=2 else prev\n",
    "                prev = s[j: j+step]\n",
    "                count = 1\n",
    "    # 남아 있는 문자열에 대해서 처리\n",
    "    compressed += str(count) + prev if count >=2 else prev\n",
    "    # 만들어지는 압축 문자열이 가장 짧은 것이 정답\n",
    "    answer = min(answer, len(compressed))\n",
    "    \n",
    "    return answer"
   ]
  },
  {
   "cell_type": "code",
   "execution_count": 2,
   "id": "5387c284",
   "metadata": {},
   "outputs": [
    {
     "data": {
      "text/plain": [
       "8"
      ]
     },
     "execution_count": 2,
     "metadata": {},
     "output_type": "execute_result"
    }
   ],
   "source": [
    "solution('ababaaaa')"
   ]
  },
  {
   "cell_type": "markdown",
   "id": "b93d6dee",
   "metadata": {},
   "source": [
    "## 10 자물쇠와 열쇠"
   ]
  },
  {
   "cell_type": "code",
   "execution_count": null,
   "id": "36f1f880",
   "metadata": {},
   "outputs": [],
   "source": []
  }
 ],
 "metadata": {
  "kernelspec": {
   "display_name": "Python 3 (ipykernel)",
   "language": "python",
   "name": "python3"
  },
  "language_info": {
   "codemirror_mode": {
    "name": "ipython",
    "version": 3
   },
   "file_extension": ".py",
   "mimetype": "text/x-python",
   "name": "python",
   "nbconvert_exporter": "python",
   "pygments_lexer": "ipython3",
   "version": "3.8.10"
  }
 },
 "nbformat": 4,
 "nbformat_minor": 5
}
