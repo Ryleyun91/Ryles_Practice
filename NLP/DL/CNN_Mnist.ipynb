{
 "cells": [
  {
   "cell_type": "markdown",
   "id": "a79557f1",
   "metadata": {},
   "source": [
    "# Mnist"
   ]
  },
  {
   "cell_type": "code",
   "execution_count": 1,
   "id": "e9cddf6d",
   "metadata": {},
   "outputs": [],
   "source": [
    "import tensorflow as tf\n",
    "from tensorflow.keras import datasets, layers, models"
   ]
  },
  {
   "cell_type": "code",
   "execution_count": 2,
   "id": "1dd26ee4",
   "metadata": {},
   "outputs": [],
   "source": [
    "# mnist 데이터 가져오기\n",
    "(train_images, train_labels), (test_images, test_labels) = datasets.mnist.load_data()"
   ]
  },
  {
   "cell_type": "code",
   "execution_count": 3,
   "id": "b6084ba1",
   "metadata": {},
   "outputs": [],
   "source": [
    "# train 데이터의 shape 바꿔주기\n",
    "train_images = train_images.reshape((60000, 28, 28, 1))\n",
    "test_images = test_images.reshape((10000, 28, 28, 1))\n",
    "                                \n",
    "# 정규화\n",
    "train_images, test_images = train_images/255.0, test_images/255.0"
   ]
  },
  {
   "cell_type": "code",
   "execution_count": 4,
   "id": "64f9918b",
   "metadata": {},
   "outputs": [],
   "source": [
    "# train_test split\n",
    "from sklearn.model_selection import train_test_split\n",
    "valid_images, test_images, valid_labels, test_labels = train_test_split(test_images, test_labels, test_size=0.2, shuffle=True)"
   ]
  },
  {
   "cell_type": "markdown",
   "id": "4f9f1a0c",
   "metadata": {},
   "source": [
    "## sequential"
   ]
  },
  {
   "cell_type": "code",
   "execution_count": 5,
   "id": "ef2a1999",
   "metadata": {},
   "outputs": [
    {
     "name": "stderr",
     "output_type": "stream",
     "text": [
      "2021-07-23 12:04:18.767584: I tensorflow/core/platform/cpu_feature_guard.cc:143] Your CPU supports instructions that this TensorFlow binary was not compiled to use: AVX2 FMA\n",
      "2021-07-23 12:04:18.778946: I tensorflow/compiler/xla/service/service.cc:168] XLA service 0x7fd6e5b575d0 initialized for platform Host (this does not guarantee that XLA will be used). Devices:\n",
      "2021-07-23 12:04:18.778958: I tensorflow/compiler/xla/service/service.cc:176]   StreamExecutor device (0): Host, Default Version\n"
     ]
    }
   ],
   "source": [
    "# 모델 만들기\n",
    "model = models.Sequential()\n",
    "model.add(layers.Conv2D(32, (3,3), activation='relu', input_shape=(28,28,1), padding='Same'))\n",
    "model.add(layers.MaxPooling2D((2,2)))\n",
    "model.add(layers.Conv2D(64, (3,3), activation='relu', padding='Same'))\n",
    "model.add(layers.MaxPooling2D((2,2)))\n",
    "model.add(layers.Conv2D(64, (3,3), activation='relu', padding='Same'))\n",
    "\n",
    "# 순서대로 일렬로 만들기\n",
    "model.add(layers.Flatten())\n",
    "\n",
    "# 신경망 학습\n",
    "model.add(layers.Dense(64, activation='relu'))\n",
    "model.add(layers.Dense(10, activation='softmax'))"
   ]
  },
  {
   "cell_type": "code",
   "execution_count": 6,
   "id": "dd9c498b",
   "metadata": {},
   "outputs": [
    {
     "name": "stdout",
     "output_type": "stream",
     "text": [
      "Model: \"sequential\"\n",
      "_________________________________________________________________\n",
      "Layer (type)                 Output Shape              Param #   \n",
      "=================================================================\n",
      "conv2d (Conv2D)              (None, 28, 28, 32)        320       \n",
      "_________________________________________________________________\n",
      "max_pooling2d (MaxPooling2D) (None, 14, 14, 32)        0         \n",
      "_________________________________________________________________\n",
      "conv2d_1 (Conv2D)            (None, 14, 14, 64)        18496     \n",
      "_________________________________________________________________\n",
      "max_pooling2d_1 (MaxPooling2 (None, 7, 7, 64)          0         \n",
      "_________________________________________________________________\n",
      "conv2d_2 (Conv2D)            (None, 7, 7, 64)          36928     \n",
      "_________________________________________________________________\n",
      "flatten (Flatten)            (None, 3136)              0         \n",
      "_________________________________________________________________\n",
      "dense (Dense)                (None, 64)                200768    \n",
      "_________________________________________________________________\n",
      "dense_1 (Dense)              (None, 10)                650       \n",
      "=================================================================\n",
      "Total params: 257,162\n",
      "Trainable params: 257,162\n",
      "Non-trainable params: 0\n",
      "_________________________________________________________________\n"
     ]
    }
   ],
   "source": [
    "model.summary()"
   ]
  },
  {
   "cell_type": "markdown",
   "id": "ce4e8c3f",
   "metadata": {},
   "source": [
    "## functional api"
   ]
  },
  {
   "cell_type": "code",
   "execution_count": 7,
   "id": "adbb4e11",
   "metadata": {},
   "outputs": [],
   "source": [
    "from tensorflow.keras.models import Model\n",
    "\n",
    "# 모델 생성하기\n",
    "inputs = layers.Input(shape=(28,28,1))\n",
    "conv1 = layers.Conv2D(32, (3,3), padding='same', activation=tf.nn.relu)(inputs)\n",
    "pool1 = layers.MaxPooling2D(padding='same')(conv1)\n",
    "conv2 = layers.Conv2D(64, (3,3), padding='same', activation=tf.nn.relu)(pool1)\n",
    "pool2 = layers.MaxPooling2D(padding='same')(conv2)\n",
    "conv3 = layers.Conv2D(128, (3,3), padding='same', activation=tf.nn.relu)(pool2)\n",
    "pool3 = layers.MaxPooling2D(padding='same')(conv3)\n",
    "pool3_flat = layers.Flatten()(pool3)\n",
    "dense4 = layers.Dense(256, activation=tf.nn.relu)(pool3_flat)\n",
    "drop4 = layers.Dropout(rate=0.2)(dense4)\n",
    "logits = layers.Dense(units=10, activation='softmax')(drop4)\n",
    "model = Model(inputs=inputs, outputs=logits)"
   ]
  },
  {
   "cell_type": "code",
   "execution_count": 8,
   "id": "45283a7b",
   "metadata": {},
   "outputs": [
    {
     "name": "stdout",
     "output_type": "stream",
     "text": [
      "Model: \"model\"\n",
      "_________________________________________________________________\n",
      "Layer (type)                 Output Shape              Param #   \n",
      "=================================================================\n",
      "input_1 (InputLayer)         [(None, 28, 28, 1)]       0         \n",
      "_________________________________________________________________\n",
      "conv2d_3 (Conv2D)            (None, 28, 28, 32)        320       \n",
      "_________________________________________________________________\n",
      "max_pooling2d_2 (MaxPooling2 (None, 14, 14, 32)        0         \n",
      "_________________________________________________________________\n",
      "conv2d_4 (Conv2D)            (None, 14, 14, 64)        18496     \n",
      "_________________________________________________________________\n",
      "max_pooling2d_3 (MaxPooling2 (None, 7, 7, 64)          0         \n",
      "_________________________________________________________________\n",
      "conv2d_5 (Conv2D)            (None, 7, 7, 128)         73856     \n",
      "_________________________________________________________________\n",
      "max_pooling2d_4 (MaxPooling2 (None, 4, 4, 128)         0         \n",
      "_________________________________________________________________\n",
      "flatten_1 (Flatten)          (None, 2048)              0         \n",
      "_________________________________________________________________\n",
      "dense_2 (Dense)              (None, 256)               524544    \n",
      "_________________________________________________________________\n",
      "dropout (Dropout)            (None, 256)               0         \n",
      "_________________________________________________________________\n",
      "dense_3 (Dense)              (None, 10)                2570      \n",
      "=================================================================\n",
      "Total params: 619,786\n",
      "Trainable params: 619,786\n",
      "Non-trainable params: 0\n",
      "_________________________________________________________________\n"
     ]
    }
   ],
   "source": [
    "model.summary()"
   ]
  },
  {
   "cell_type": "markdown",
   "id": "e2c3afe0",
   "metadata": {},
   "source": [
    "## 모델 클래스화 하기"
   ]
  },
  {
   "cell_type": "code",
   "execution_count": 9,
   "id": "9c1f310a",
   "metadata": {},
   "outputs": [],
   "source": [
    "# 배치 정규화\n",
    "from tensorflow.keras.layers import BatchNormalization\n",
    "from tensorflow.keras.models import Model\n",
    "\n",
    "class ConvBNRelu(Model):\n",
    "    def __init__(self, filters, kernel_size=3, strides=(1,1), padding=\"same\"):\n",
    "        super(ConvBNRelu, self).__init__()\n",
    "        self.conv = layers.Conv2D(filters, kernel_size=kernel_size,\n",
    "                                  strides=strides, padding=padding,\n",
    "                                  kernel_initializer='glorot_normal')\n",
    "        self.batchnorm = BatchNormalization()\n",
    "        \n",
    "    def call(self, inputs, training=False):\n",
    "        layer = self.conv(inputs)\n",
    "        layer = self.batchnorm(layer)\n",
    "        layer = tf.nn.relu(layer)\n",
    "        \n",
    "        return layer\n",
    "    \n",
    "class DenseBNRelu(Model):\n",
    "    def __init__(self, units):\n",
    "        super(DenseBNRelu, self).__init__()\n",
    "        self.dense = layers.Dense(units=units, kernel_initializer='glorot_normal')\n",
    "        self.batchnorm = BatchNormalization()\n",
    "        \n",
    "    def call(self, inputs, training=False):\n",
    "        layer = self.dense(inputs)\n",
    "        layer = self.batchnorm(layer)\n",
    "        layer = tf.nn.relu(layer)\n",
    "        \n",
    "        return layer"
   ]
  },
  {
   "cell_type": "code",
   "execution_count": 10,
   "id": "fda99a78",
   "metadata": {},
   "outputs": [],
   "source": [
    "class MNistModel(Model):\n",
    "    def __init__(self):\n",
    "        super(MNistModel, self).__init__()\n",
    "        self.conv1 = ConvBNRelu(32, (3,3), padding='same')\n",
    "        self.pool1 = layers.MaxPooling2D(padding='same')\n",
    "        self.conv2 = ConvBNRelu(64, (3,3), padding='same')\n",
    "        self.pool2 = layers.MaxPooling2D(padding='same')\n",
    "        self.conv3 = ConvBNRelu(128, (3,3), padding='same')\n",
    "        self.pool3 = layers.MaxPooling2D(padding='same')\n",
    "        self.pool3_flat = layers.Flatten()\n",
    "        self.dense4 = DenseBNRelu(256)\n",
    "        self.drop4 = layers.Dropout(rate=0.2)\n",
    "        self.dense5 = layers.Dense(units=10, activation='softmax', kernel_initializer='glorot_normal')\n",
    "        \n",
    "    def call(self, inputs, training=False):\n",
    "        net = self.conv1(inputs)\n",
    "        net = self.pool1(net)\n",
    "        net = self.conv2(net)\n",
    "        net = self.pool2(net)\n",
    "        net = self.conv3(net)\n",
    "        net = self.pool3(net)\n",
    "        net = self.pool3_flat(net)\n",
    "        net = self.dense4(net)\n",
    "        net = self.drop4(net)\n",
    "        output = self.dense5(net)\n",
    "        \n",
    "        return output"
   ]
  },
  {
   "cell_type": "code",
   "execution_count": 11,
   "id": "04e721a2",
   "metadata": {},
   "outputs": [
    {
     "name": "stdout",
     "output_type": "stream",
     "text": [
      "Model: \"m_nist_model\"\n",
      "_________________________________________________________________\n",
      "Layer (type)                 Output Shape              Param #   \n",
      "=================================================================\n",
      "conv_bn_relu (ConvBNRelu)    (None, 28, 28, 32)        448       \n",
      "_________________________________________________________________\n",
      "max_pooling2d_5 (MaxPooling2 (None, 14, 14, 32)        0         \n",
      "_________________________________________________________________\n",
      "conv_bn_relu_1 (ConvBNRelu)  (None, 14, 14, 64)        18752     \n",
      "_________________________________________________________________\n",
      "max_pooling2d_6 (MaxPooling2 (None, 7, 7, 64)          0         \n",
      "_________________________________________________________________\n",
      "conv_bn_relu_2 (ConvBNRelu)  (None, 7, 7, 128)         74368     \n",
      "_________________________________________________________________\n",
      "max_pooling2d_7 (MaxPooling2 (None, 4, 4, 128)         0         \n",
      "_________________________________________________________________\n",
      "flatten_2 (Flatten)          (None, 2048)              0         \n",
      "_________________________________________________________________\n",
      "dense_bn_relu (DenseBNRelu)  (None, 256)               525568    \n",
      "_________________________________________________________________\n",
      "dropout_1 (Dropout)          (None, 256)               0         \n",
      "_________________________________________________________________\n",
      "dense_5 (Dense)              (None, 10)                2570      \n",
      "=================================================================\n",
      "Total params: 621,706\n",
      "Trainable params: 620,746\n",
      "Non-trainable params: 960\n",
      "_________________________________________________________________\n"
     ]
    }
   ],
   "source": [
    "model = MNistModel()\n",
    "model(layers.Input(shape=(28,28,1)))\n",
    "model.summary()"
   ]
  },
  {
   "cell_type": "markdown",
   "id": "113d0c78",
   "metadata": {},
   "source": [
    "## 학습 및 검증"
   ]
  },
  {
   "cell_type": "code",
   "execution_count": 12,
   "id": "702544f4",
   "metadata": {},
   "outputs": [],
   "source": [
    "# Earlystopping을 해보자!\n",
    "from tensorflow.keras.callbacks import ModelCheckpoint, EarlyStopping\n",
    "MODEL_SAVE_FOLDER_PATH = '../../DATA'\n",
    "model_file_path = f'{MODEL_SAVE_FOLDER_PATH}/mnist-{{epoch:d}}-{{val_loss:.5f}}-{{val_accuracy:.5f}}.hdf5'\n",
    "\n",
    "# 체크 포인트 지정\n",
    "cb_checkpoint = ModelCheckpoint(filepath=model_file_path, monitor='val_accuracy', verbose=1, save_best_only=True)\n",
    "\n",
    "# 언제 멈출 것인가? patience(역전되었을 때도 얼마나 참아줄 것인지 정해주는 것)\n",
    "cb_early_stopping = EarlyStopping(monitor='val_loss', patience=6)"
   ]
  },
  {
   "cell_type": "markdown",
   "id": "0644a420",
   "metadata": {},
   "source": [
    "##### hdf5 저장문제\n",
    "##### - tensorflow 버전 문제로 subclass 했던 것은 모델 저장 안 될 수 있음\n",
    "##### - 저장을 위해 functional api로 돌리거나, tensorflow 2.2로 다운 그래이드할 것."
   ]
  },
  {
   "cell_type": "code",
   "execution_count": 13,
   "id": "ed5521ad",
   "metadata": {},
   "outputs": [
    {
     "name": "stdout",
     "output_type": "stream",
     "text": [
      "Epoch 1/100\n",
      "300/300 [==============================] - ETA: 0s - loss: 0.0973 - accuracy: 0.9717\n",
      "Epoch 00001: val_accuracy improved from -inf to 0.11587, saving model to ../../DATA/mnist-1-5.56499-0.11587.hdf5\n",
      "300/300 [==============================] - 29s 96ms/step - loss: 0.0973 - accuracy: 0.9717 - val_loss: 5.5650 - val_accuracy: 0.1159\n",
      "Epoch 2/100\n",
      "300/300 [==============================] - ETA: 0s - loss: 0.0302 - accuracy: 0.9910\n",
      "Epoch 00002: val_accuracy improved from 0.11587 to 0.97000, saving model to ../../DATA/mnist-2-0.09093-0.97000.hdf5\n",
      "300/300 [==============================] - 30s 100ms/step - loss: 0.0302 - accuracy: 0.9910 - val_loss: 0.0909 - val_accuracy: 0.9700\n",
      "Epoch 3/100\n",
      "300/300 [==============================] - ETA: 0s - loss: 0.0210 - accuracy: 0.9934\n",
      "Epoch 00003: val_accuracy improved from 0.97000 to 0.99075, saving model to ../../DATA/mnist-3-0.03048-0.99075.hdf5\n",
      "300/300 [==============================] - 31s 103ms/step - loss: 0.0210 - accuracy: 0.9934 - val_loss: 0.0305 - val_accuracy: 0.9908\n",
      "Epoch 4/100\n",
      "300/300 [==============================] - ETA: 0s - loss: 0.0126 - accuracy: 0.9961\n",
      "Epoch 00004: val_accuracy did not improve from 0.99075\n",
      "300/300 [==============================] - 31s 105ms/step - loss: 0.0126 - accuracy: 0.9961 - val_loss: 0.0412 - val_accuracy: 0.9865\n",
      "Epoch 5/100\n",
      "300/300 [==============================] - ETA: 0s - loss: 0.0103 - accuracy: 0.9971\n",
      "Epoch 00005: val_accuracy did not improve from 0.99075\n",
      "300/300 [==============================] - 31s 103ms/step - loss: 0.0103 - accuracy: 0.9971 - val_loss: 0.0397 - val_accuracy: 0.9880\n",
      "Epoch 6/100\n",
      "300/300 [==============================] - ETA: 0s - loss: 0.0079 - accuracy: 0.9977\n",
      "Epoch 00006: val_accuracy did not improve from 0.99075\n",
      "300/300 [==============================] - 31s 103ms/step - loss: 0.0079 - accuracy: 0.9977 - val_loss: 0.0333 - val_accuracy: 0.9901\n",
      "Epoch 7/100\n",
      "300/300 [==============================] - ETA: 0s - loss: 0.0076 - accuracy: 0.9975\n",
      "Epoch 00007: val_accuracy did not improve from 0.99075\n",
      "300/300 [==============================] - 31s 104ms/step - loss: 0.0076 - accuracy: 0.9975 - val_loss: 0.0341 - val_accuracy: 0.9900\n",
      "Epoch 8/100\n",
      "300/300 [==============================] - ETA: 0s - loss: 0.0072 - accuracy: 0.9977\n",
      "Epoch 00008: val_accuracy did not improve from 0.99075\n",
      "300/300 [==============================] - 31s 103ms/step - loss: 0.0072 - accuracy: 0.9977 - val_loss: 0.0420 - val_accuracy: 0.9875\n",
      "Epoch 9/100\n",
      "300/300 [==============================] - ETA: 0s - loss: 0.0059 - accuracy: 0.9981\n",
      "Epoch 00009: val_accuracy improved from 0.99075 to 0.99125, saving model to ../../DATA/mnist-9-0.02904-0.99125.hdf5\n",
      "300/300 [==============================] - 31s 104ms/step - loss: 0.0059 - accuracy: 0.9981 - val_loss: 0.0290 - val_accuracy: 0.9912\n",
      "Epoch 10/100\n",
      "300/300 [==============================] - ETA: 0s - loss: 0.0062 - accuracy: 0.9980\n",
      "Epoch 00010: val_accuracy did not improve from 0.99125\n",
      "300/300 [==============================] - 31s 105ms/step - loss: 0.0062 - accuracy: 0.9980 - val_loss: 0.0451 - val_accuracy: 0.9885\n",
      "Epoch 11/100\n",
      "300/300 [==============================] - ETA: 0s - loss: 0.0022 - accuracy: 0.9995\n",
      "Epoch 00011: val_accuracy improved from 0.99125 to 0.99325, saving model to ../../DATA/mnist-11-0.02108-0.99325.hdf5\n",
      "300/300 [==============================] - 31s 103ms/step - loss: 0.0022 - accuracy: 0.9995 - val_loss: 0.0211 - val_accuracy: 0.9933\n",
      "Epoch 12/100\n",
      "300/300 [==============================] - ETA: 0s - loss: 0.0010 - accuracy: 0.9998\n",
      "Epoch 00012: val_accuracy improved from 0.99325 to 0.99413, saving model to ../../DATA/mnist-12-0.02018-0.99413.hdf5\n",
      "300/300 [==============================] - 31s 103ms/step - loss: 0.0010 - accuracy: 0.9998 - val_loss: 0.0202 - val_accuracy: 0.9941\n",
      "Epoch 13/100\n",
      "300/300 [==============================] - ETA: 0s - loss: 7.2047e-04 - accuracy: 0.9999\n",
      "Epoch 00013: val_accuracy improved from 0.99413 to 0.99462, saving model to ../../DATA/mnist-13-0.02062-0.99462.hdf5\n",
      "300/300 [==============================] - 31s 104ms/step - loss: 7.2047e-04 - accuracy: 0.9999 - val_loss: 0.0206 - val_accuracy: 0.9946\n",
      "Epoch 14/100\n",
      "300/300 [==============================] - ETA: 0s - loss: 3.5644e-04 - accuracy: 1.0000\n",
      "Epoch 00014: val_accuracy did not improve from 0.99462\n",
      "300/300 [==============================] - 31s 103ms/step - loss: 3.5644e-04 - accuracy: 1.0000 - val_loss: 0.0240 - val_accuracy: 0.9937\n",
      "Epoch 15/100\n",
      "300/300 [==============================] - ETA: 0s - loss: 2.6274e-04 - accuracy: 1.0000\n",
      "Epoch 00015: val_accuracy did not improve from 0.99462\n",
      "300/300 [==============================] - 31s 105ms/step - loss: 2.6274e-04 - accuracy: 1.0000 - val_loss: 0.0200 - val_accuracy: 0.9944\n",
      "Epoch 16/100\n",
      "300/300 [==============================] - ETA: 0s - loss: 2.3395e-04 - accuracy: 1.0000\n",
      "Epoch 00016: val_accuracy improved from 0.99462 to 0.99488, saving model to ../../DATA/mnist-16-0.02095-0.99488.hdf5\n",
      "300/300 [==============================] - 31s 105ms/step - loss: 2.3395e-04 - accuracy: 1.0000 - val_loss: 0.0209 - val_accuracy: 0.9949\n",
      "Epoch 17/100\n",
      "300/300 [==============================] - ETA: 0s - loss: 2.3909e-04 - accuracy: 1.0000\n",
      "Epoch 00017: val_accuracy did not improve from 0.99488\n",
      "300/300 [==============================] - 31s 105ms/step - loss: 2.3909e-04 - accuracy: 1.0000 - val_loss: 0.0216 - val_accuracy: 0.9941\n",
      "Epoch 18/100\n",
      "300/300 [==============================] - ETA: 0s - loss: 2.6326e-04 - accuracy: 1.0000\n",
      "Epoch 00018: val_accuracy did not improve from 0.99488\n",
      "300/300 [==============================] - 31s 104ms/step - loss: 2.6326e-04 - accuracy: 1.0000 - val_loss: 0.0234 - val_accuracy: 0.9940\n",
      "Epoch 19/100\n",
      "300/300 [==============================] - ETA: 0s - loss: 0.0055 - accuracy: 0.9981\n",
      "Epoch 00019: val_accuracy did not improve from 0.99488\n",
      "300/300 [==============================] - 31s 104ms/step - loss: 0.0055 - accuracy: 0.9981 - val_loss: 0.0340 - val_accuracy: 0.9912\n",
      "Epoch 20/100\n",
      "300/300 [==============================] - ETA: 0s - loss: 0.0037 - accuracy: 0.9987\n",
      "Epoch 00020: val_accuracy did not improve from 0.99488\n",
      "300/300 [==============================] - 31s 105ms/step - loss: 0.0037 - accuracy: 0.9987 - val_loss: 0.0316 - val_accuracy: 0.9912\n",
      "Epoch 21/100\n",
      "300/300 [==============================] - ETA: 0s - loss: 9.5970e-04 - accuracy: 0.9998\n",
      "Epoch 00021: val_accuracy did not improve from 0.99488\n",
      "300/300 [==============================] - 31s 104ms/step - loss: 9.5970e-04 - accuracy: 0.9998 - val_loss: 0.0228 - val_accuracy: 0.9939\n",
      "63/63 [==============================] - 1s 9ms/step - loss: 0.0238 - accuracy: 0.9930\n"
     ]
    }
   ],
   "source": [
    "learning_rate = 0.001\n",
    "batch_size = 100\n",
    "\n",
    "# ExponentialDecay? 훈련 과정이 진행됨에 따라 lr을 조금씩(지수함수따라서 줄임) 낮춰가기 위한 방법\n",
    "# (학습률, 스탭크기, 줄이는 비율)\n",
    "lr_decay = tf.keras.optimizers.schedules.ExponentialDecay(learning_rate, train_images.shape[0]/batch_size*5, 0.5, staircase=True)\n",
    "\n",
    "optimizer = tf.keras.optimizers.Adam(learning_rate=lr_decay)\n",
    "\n",
    "# 모델 컴파일 하기\n",
    "model.compile(optimizer=optimizer, loss='sparse_categorical_crossentropy', metrics=['accuracy'])\n",
    "\n",
    "# validation 추가 및 hist에 저장하여 그래프 그리는 재료로 사용하기\n",
    "hist = model.fit(train_images, train_labels, \n",
    "                 validation_data = (valid_images, valid_labels), \n",
    "                 epochs=100,\n",
    "                batch_size=200,\n",
    "                callbacks=[cb_checkpoint, cb_early_stopping])\n",
    "\n",
    "# 모델 테스트하여 loss 및 acc 저장하기\n",
    "test_loss, test_accuracy = model.evaluate(test_images, test_labels)"
   ]
  },
  {
   "cell_type": "markdown",
   "id": "e9218987",
   "metadata": {},
   "source": [
    "모델 불러오기\n",
    "model.load_weights(경로)"
   ]
  },
  {
   "cell_type": "code",
   "execution_count": 14,
   "id": "4730d7b0",
   "metadata": {},
   "outputs": [
    {
     "data": {
      "text/plain": [
       "dict_keys(['loss', 'accuracy', 'val_loss', 'val_accuracy'])"
      ]
     },
     "execution_count": 14,
     "metadata": {},
     "output_type": "execute_result"
    }
   ],
   "source": [
    "hist.history.keys()"
   ]
  },
  {
   "cell_type": "code",
   "execution_count": 15,
   "id": "eb6dc6ec",
   "metadata": {},
   "outputs": [
    {
     "data": {
      "image/png": "[encoded data removed]",
      "text/plain": [
       "<Figure size 432x288 with 2 Axes>"
      ]
     },
     "metadata": {
      "needs_background": "light"
     },
     "output_type": "display_data"
    }
   ],
   "source": [
    "import matplotlib.pyplot as plt\n",
    "\n",
    "def display(hist):\n",
    "    fig, loss_ax = plt.subplots()\n",
    "    acc_ax = loss_ax.twinx()\n",
    "\n",
    "    loss_ax.plot(hist.history['loss'], 'y', label='train_loss')\n",
    "    loss_ax.plot(hist.history['val_loss'], 'r', label='valid_loss')\n",
    "    loss_ax.set_xlabel('epoch')\n",
    "    loss_ax.set_ylabel('loss')\n",
    "    loss_ax.legend(loc='upper left')\n",
    "\n",
    "    acc_ax.plot(hist.history['accuracy'], 'b', label='train_accuracy')\n",
    "    acc_ax.plot(hist.history['val_accuracy'], 'g', label='valid_accuracy')\n",
    "    acc_ax.set_xlabel('epoch')\n",
    "    acc_ax.set_ylabel('accuracy')\n",
    "    acc_ax.legend(loc='upper right', bbox_to_anchor=(1, 0.5))\n",
    "\n",
    "    plt.show()\n",
    "\n",
    "display(hist)"
   ]
  },
  {
   "cell_type": "markdown",
   "id": "91daeb35",
   "metadata": {},
   "source": [
    "## pretrain된 자료 가져오기 (VGG16)"
   ]
  },
  {
   "cell_type": "code",
   "execution_count": 26,
   "id": "066a8a96",
   "metadata": {},
   "outputs": [],
   "source": [
    "from tensorflow.keras.applications import VGG16\n",
    "# mnist 데이터 가져오기\n",
    "(train_images, train_labels), (test_images, test_labels) = datasets.mnist.load_data()"
   ]
  },
  {
   "cell_type": "code",
   "execution_count": 27,
   "id": "e101f350",
   "metadata": {},
   "outputs": [],
   "source": [
    "# VVG16에 맞춰 3차원으로 만들기\n",
    "import numpy as np\n",
    "\n",
    "# 3차원 만들기 위해 1차원 배열로 바꾼 후\n",
    "train_images = train_images.reshape(-1, 784).astype('float32')\n",
    "test_images = test_images.reshape(-1, 784).astype('float32')\n",
    "# 3배로 증식해서\n",
    "train_images = np.dstack([train_images]*3)\n",
    "test_images = np.dstack([test_images]*3)\n",
    "# 3차원으로 다시 형태 바꿔주기\n",
    "train_images = train_images.reshape(-1, 28, 28, 3)\n",
    "test_images = test_images.reshape(-1, 28, 28, 3)"
   ]
  },
  {
   "cell_type": "code",
   "execution_count": 28,
   "id": "1fd68449",
   "metadata": {},
   "outputs": [
    {
     "data": {
      "text/plain": [
       "((60000, 48, 48, 3), (10000, 48, 48, 3))"
      ]
     },
     "execution_count": 28,
     "metadata": {},
     "output_type": "execute_result"
    }
   ],
   "source": [
    "from tensorflow.keras.preprocessing.image import img_to_array, array_to_img\n",
    "# 이미지 확대하기\n",
    "train_images = np.asarray([img_to_array(array_to_img(im, scale=False).resize((48, 48))) for im in train_images])\n",
    "test_images = np.asarray([img_to_array(array_to_img(im, scale=False).resize((48, 48))) for im in test_images])  \n",
    "\n",
    "train_images.shape, test_images.shape"
   ]
  },
  {
   "cell_type": "code",
   "execution_count": 29,
   "id": "f8c4f6e0",
   "metadata": {},
   "outputs": [],
   "source": [
    "# 정규화\n",
    "train_images = train_images/255.\n",
    "test_images = test_images/255.\n",
    "\n",
    "valid_images, test_images, valid_labels, test_labels = train_test_split(test_images, test_labels, test_size=0.2, shuffle=True)"
   ]
  },
  {
   "cell_type": "code",
   "execution_count": 30,
   "id": "8f9f56aa",
   "metadata": {},
   "outputs": [
    {
     "name": "stdout",
     "output_type": "stream",
     "text": [
      "Model: \"vgg16\"\n",
      "_________________________________________________________________\n",
      "Layer (type)                 Output Shape              Param #   \n",
      "=================================================================\n",
      "input_4 (InputLayer)         [(None, 48, 48, 3)]       0         \n",
      "_________________________________________________________________\n",
      "block1_conv1 (Conv2D)        (None, 48, 48, 64)        1792      \n",
      "_________________________________________________________________\n",
      "block1_conv2 (Conv2D)        (None, 48, 48, 64)        36928     \n",
      "_________________________________________________________________\n",
      "block1_pool (MaxPooling2D)   (None, 24, 24, 64)        0         \n",
      "_________________________________________________________________\n",
      "block2_conv1 (Conv2D)        (None, 24, 24, 128)       73856     \n",
      "_________________________________________________________________\n",
      "block2_conv2 (Conv2D)        (None, 24, 24, 128)       147584    \n",
      "_________________________________________________________________\n",
      "block2_pool (MaxPooling2D)   (None, 12, 12, 128)       0         \n",
      "_________________________________________________________________\n",
      "block3_conv1 (Conv2D)        (None, 12, 12, 256)       295168    \n",
      "_________________________________________________________________\n",
      "block3_conv2 (Conv2D)        (None, 12, 12, 256)       590080    \n",
      "_________________________________________________________________\n",
      "block3_conv3 (Conv2D)        (None, 12, 12, 256)       590080    \n",
      "_________________________________________________________________\n",
      "block3_pool (MaxPooling2D)   (None, 6, 6, 256)         0         \n",
      "_________________________________________________________________\n",
      "block4_conv1 (Conv2D)        (None, 6, 6, 512)         1180160   \n",
      "_________________________________________________________________\n",
      "block4_conv2 (Conv2D)        (None, 6, 6, 512)         2359808   \n",
      "_________________________________________________________________\n",
      "block4_conv3 (Conv2D)        (None, 6, 6, 512)         2359808   \n",
      "_________________________________________________________________\n",
      "block4_pool (MaxPooling2D)   (None, 3, 3, 512)         0         \n",
      "_________________________________________________________________\n",
      "block5_conv1 (Conv2D)        (None, 3, 3, 512)         2359808   \n",
      "_________________________________________________________________\n",
      "block5_conv2 (Conv2D)        (None, 3, 3, 512)         2359808   \n",
      "_________________________________________________________________\n",
      "block5_conv3 (Conv2D)        (None, 3, 3, 512)         2359808   \n",
      "_________________________________________________________________\n",
      "block5_pool (MaxPooling2D)   (None, 1, 1, 512)         0         \n",
      "=================================================================\n",
      "Total params: 14,714,688\n",
      "Trainable params: 14,714,688\n",
      "Non-trainable params: 0\n",
      "_________________________________________________________________\n"
     ]
    }
   ],
   "source": [
    "vgg_model = VGG16(weights='imagenet', include_top=False, input_shape=(48, 48, 3))\n",
    "vgg_model.summary()"
   ]
  },
  {
   "cell_type": "code",
   "execution_count": 33,
   "id": "bc8aa917",
   "metadata": {},
   "outputs": [],
   "source": [
    "layer_dict = {layer.name : layer for layer in vgg_model.layers}\n",
    "x = layer_dict['block2_pool'].output\n",
    "\n",
    "x = ConvBNRelu(filters=64, kernel_size=(3, 3))(x)\n",
    "x = layers.MaxPool2D()(x)\n",
    "x = layers.Flatten()(x)\n",
    "x = DenseBNRelu(256)(x)\n",
    "x = layers.Dropout(0.2)(x)\n",
    "x = layers.Dense(10, activation='softmax')(x)"
   ]
  },
  {
   "cell_type": "code",
   "execution_count": 35,
   "id": "10689151",
   "metadata": {},
   "outputs": [
    {
     "data": {
      "text/plain": [
       "<tensorflow.python.keras.engine.training.Model at 0x7fd6fbf478b0>"
      ]
     },
     "execution_count": 35,
     "metadata": {},
     "output_type": "execute_result"
    }
   ],
   "source": [
    "custom_model = Model(inputs=vgg_model.input, outputs=x)\n",
    "custom_model"
   ]
  },
  {
   "cell_type": "code",
   "execution_count": 37,
   "id": "3630dab4",
   "metadata": {},
   "outputs": [
    {
     "name": "stdout",
     "output_type": "stream",
     "text": [
      "Epoch 1/100\n",
      "300/300 [==============================] - ETA: 0s - loss: 0.0760 - accuracy: 0.9777\n",
      "Epoch 00001: val_accuracy did not improve from 0.99488\n",
      "300/300 [==============================] - 107s 357ms/step - loss: 0.0760 - accuracy: 0.9777 - val_loss: 0.0365 - val_accuracy: 0.9879\n",
      "Epoch 2/100\n",
      "300/300 [==============================] - ETA: 0s - loss: 0.0239 - accuracy: 0.9928\n",
      "Epoch 00002: val_accuracy did not improve from 0.99488\n",
      "300/300 [==============================] - 108s 361ms/step - loss: 0.0239 - accuracy: 0.9928 - val_loss: 0.0225 - val_accuracy: 0.9929\n",
      "Epoch 3/100\n",
      "300/300 [==============================] - ETA: 0s - loss: 0.0163 - accuracy: 0.9953\n",
      "Epoch 00003: val_accuracy did not improve from 0.99488\n",
      "300/300 [==============================] - 106s 353ms/step - loss: 0.0163 - accuracy: 0.9953 - val_loss: 0.0231 - val_accuracy: 0.9925\n",
      "Epoch 4/100\n",
      "300/300 [==============================] - ETA: 0s - loss: 0.0122 - accuracy: 0.9965\n",
      "Epoch 00004: val_accuracy did not improve from 0.99488\n",
      "300/300 [==============================] - 106s 355ms/step - loss: 0.0122 - accuracy: 0.9965 - val_loss: 0.0205 - val_accuracy: 0.9927\n",
      "Epoch 5/100\n",
      "300/300 [==============================] - ETA: 0s - loss: 0.0090 - accuracy: 0.9974\n",
      "Epoch 00005: val_accuracy did not improve from 0.99488\n",
      "300/300 [==============================] - 109s 365ms/step - loss: 0.0090 - accuracy: 0.9974 - val_loss: 0.0212 - val_accuracy: 0.9931\n",
      "Epoch 6/100\n",
      "300/300 [==============================] - ETA: 0s - loss: 0.0069 - accuracy: 0.9981\n",
      "Epoch 00006: val_accuracy did not improve from 0.99488\n",
      "300/300 [==============================] - 109s 362ms/step - loss: 0.0069 - accuracy: 0.9981 - val_loss: 0.0266 - val_accuracy: 0.9923\n",
      "Epoch 7/100\n",
      "300/300 [==============================] - ETA: 0s - loss: 0.0070 - accuracy: 0.9977\n",
      "Epoch 00007: val_accuracy did not improve from 0.99488\n",
      "300/300 [==============================] - 107s 357ms/step - loss: 0.0070 - accuracy: 0.9977 - val_loss: 0.0177 - val_accuracy: 0.9941\n",
      "Epoch 8/100\n",
      "300/300 [==============================] - ETA: 0s - loss: 0.0057 - accuracy: 0.9981\n",
      "Epoch 00008: val_accuracy did not improve from 0.99488\n",
      "300/300 [==============================] - 110s 366ms/step - loss: 0.0057 - accuracy: 0.9981 - val_loss: 0.0270 - val_accuracy: 0.9910\n",
      "Epoch 9/100\n",
      "300/300 [==============================] - ETA: 0s - loss: 0.0044 - accuracy: 0.9988\n",
      "Epoch 00009: val_accuracy did not improve from 0.99488\n",
      "300/300 [==============================] - 106s 353ms/step - loss: 0.0044 - accuracy: 0.9988 - val_loss: 0.0468 - val_accuracy: 0.9862\n",
      "Epoch 10/100\n",
      " 60/300 [=====>........................] - ETA: 1:18 - loss: 0.0038 - accuracy: 0.9990"
     ]
    },
    {
     "ename": "KeyboardInterrupt",
     "evalue": "",
     "output_type": "error",
     "traceback": [
      "\u001b[0;31m---------------------------------------------------------------------------\u001b[0m",
      "\u001b[0;31mKeyboardInterrupt\u001b[0m                         Traceback (most recent call last)",
      "\u001b[0;32m/var/folders/s5/j2ttz_bd7d500bsb_zg9212w0000gn/T/ipykernel_23602/3094328178.py\u001b[0m in \u001b[0;36m<module>\u001b[0;34m\u001b[0m\n\u001b[1;32m     16\u001b[0m \u001b[0;34m\u001b[0m\u001b[0m\n\u001b[1;32m     17\u001b[0m \u001b[0;31m# validation 추가 및 hist에 저장하여 그래프 그리는 재료로 사용하기\u001b[0m\u001b[0;34m\u001b[0m\u001b[0;34m\u001b[0m\u001b[0;34m\u001b[0m\u001b[0m\n\u001b[0;32m---> 18\u001b[0;31m hist = custom_model.fit(train_images, train_labels, \n\u001b[0m\u001b[1;32m     19\u001b[0m                  \u001b[0mvalidation_data\u001b[0m \u001b[0;34m=\u001b[0m \u001b[0;34m(\u001b[0m\u001b[0mvalid_images\u001b[0m\u001b[0;34m,\u001b[0m \u001b[0mvalid_labels\u001b[0m\u001b[0;34m)\u001b[0m\u001b[0;34m,\u001b[0m\u001b[0;34m\u001b[0m\u001b[0;34m\u001b[0m\u001b[0m\n\u001b[1;32m     20\u001b[0m                  \u001b[0mepochs\u001b[0m\u001b[0;34m=\u001b[0m\u001b[0;36m100\u001b[0m\u001b[0;34m,\u001b[0m\u001b[0;34m\u001b[0m\u001b[0;34m\u001b[0m\u001b[0m\n",
      "\u001b[0;32m~/opt/anaconda3/envs/nlppython/lib/python3.8/site-packages/tensorflow/python/keras/engine/training.py\u001b[0m in \u001b[0;36m_method_wrapper\u001b[0;34m(self, *args, **kwargs)\u001b[0m\n\u001b[1;32m     64\u001b[0m   \u001b[0;32mdef\u001b[0m \u001b[0m_method_wrapper\u001b[0m\u001b[0;34m(\u001b[0m\u001b[0mself\u001b[0m\u001b[0;34m,\u001b[0m \u001b[0;34m*\u001b[0m\u001b[0margs\u001b[0m\u001b[0;34m,\u001b[0m \u001b[0;34m**\u001b[0m\u001b[0mkwargs\u001b[0m\u001b[0;34m)\u001b[0m\u001b[0;34m:\u001b[0m\u001b[0;34m\u001b[0m\u001b[0;34m\u001b[0m\u001b[0m\n\u001b[1;32m     65\u001b[0m     \u001b[0;32mif\u001b[0m \u001b[0;32mnot\u001b[0m \u001b[0mself\u001b[0m\u001b[0;34m.\u001b[0m\u001b[0m_in_multi_worker_mode\u001b[0m\u001b[0;34m(\u001b[0m\u001b[0;34m)\u001b[0m\u001b[0;34m:\u001b[0m  \u001b[0;31m# pylint: disable=protected-access\u001b[0m\u001b[0;34m\u001b[0m\u001b[0;34m\u001b[0m\u001b[0m\n\u001b[0;32m---> 66\u001b[0;31m       \u001b[0;32mreturn\u001b[0m \u001b[0mmethod\u001b[0m\u001b[0;34m(\u001b[0m\u001b[0mself\u001b[0m\u001b[0;34m,\u001b[0m \u001b[0;34m*\u001b[0m\u001b[0margs\u001b[0m\u001b[0;34m,\u001b[0m \u001b[0;34m**\u001b[0m\u001b[0mkwargs\u001b[0m\u001b[0;34m)\u001b[0m\u001b[0;34m\u001b[0m\u001b[0;34m\u001b[0m\u001b[0m\n\u001b[0m\u001b[1;32m     67\u001b[0m \u001b[0;34m\u001b[0m\u001b[0m\n\u001b[1;32m     68\u001b[0m     \u001b[0;31m# Running inside `run_distribute_coordinator` already.\u001b[0m\u001b[0;34m\u001b[0m\u001b[0;34m\u001b[0m\u001b[0;34m\u001b[0m\u001b[0m\n",
      "\u001b[0;32m~/opt/anaconda3/envs/nlppython/lib/python3.8/site-packages/tensorflow/python/keras/engine/training.py\u001b[0m in \u001b[0;36mfit\u001b[0;34m(self, x, y, batch_size, epochs, verbose, callbacks, validation_split, validation_data, shuffle, class_weight, sample_weight, initial_epoch, steps_per_epoch, validation_steps, validation_batch_size, validation_freq, max_queue_size, workers, use_multiprocessing)\u001b[0m\n\u001b[1;32m    846\u001b[0m                 batch_size=batch_size):\n\u001b[1;32m    847\u001b[0m               \u001b[0mcallbacks\u001b[0m\u001b[0;34m.\u001b[0m\u001b[0mon_train_batch_begin\u001b[0m\u001b[0;34m(\u001b[0m\u001b[0mstep\u001b[0m\u001b[0;34m)\u001b[0m\u001b[0;34m\u001b[0m\u001b[0;34m\u001b[0m\u001b[0m\n\u001b[0;32m--> 848\u001b[0;31m               \u001b[0mtmp_logs\u001b[0m \u001b[0;34m=\u001b[0m \u001b[0mtrain_function\u001b[0m\u001b[0;34m(\u001b[0m\u001b[0miterator\u001b[0m\u001b[0;34m)\u001b[0m\u001b[0;34m\u001b[0m\u001b[0;34m\u001b[0m\u001b[0m\n\u001b[0m\u001b[1;32m    849\u001b[0m               \u001b[0;31m# Catch OutOfRangeError for Datasets of unknown size.\u001b[0m\u001b[0;34m\u001b[0m\u001b[0;34m\u001b[0m\u001b[0;34m\u001b[0m\u001b[0m\n\u001b[1;32m    850\u001b[0m               \u001b[0;31m# This blocks until the batch has finished executing.\u001b[0m\u001b[0;34m\u001b[0m\u001b[0;34m\u001b[0m\u001b[0;34m\u001b[0m\u001b[0m\n",
      "\u001b[0;32m~/opt/anaconda3/envs/nlppython/lib/python3.8/site-packages/tensorflow/python/eager/def_function.py\u001b[0m in \u001b[0;36m__call__\u001b[0;34m(self, *args, **kwds)\u001b[0m\n\u001b[1;32m    578\u001b[0m         \u001b[0mxla_context\u001b[0m\u001b[0;34m.\u001b[0m\u001b[0mExit\u001b[0m\u001b[0;34m(\u001b[0m\u001b[0;34m)\u001b[0m\u001b[0;34m\u001b[0m\u001b[0;34m\u001b[0m\u001b[0m\n\u001b[1;32m    579\u001b[0m     \u001b[0;32melse\u001b[0m\u001b[0;34m:\u001b[0m\u001b[0;34m\u001b[0m\u001b[0;34m\u001b[0m\u001b[0m\n\u001b[0;32m--> 580\u001b[0;31m       \u001b[0mresult\u001b[0m \u001b[0;34m=\u001b[0m \u001b[0mself\u001b[0m\u001b[0;34m.\u001b[0m\u001b[0m_call\u001b[0m\u001b[0;34m(\u001b[0m\u001b[0;34m*\u001b[0m\u001b[0margs\u001b[0m\u001b[0;34m,\u001b[0m \u001b[0;34m**\u001b[0m\u001b[0mkwds\u001b[0m\u001b[0;34m)\u001b[0m\u001b[0;34m\u001b[0m\u001b[0;34m\u001b[0m\u001b[0m\n\u001b[0m\u001b[1;32m    581\u001b[0m \u001b[0;34m\u001b[0m\u001b[0m\n\u001b[1;32m    582\u001b[0m     \u001b[0;32mif\u001b[0m \u001b[0mtracing_count\u001b[0m \u001b[0;34m==\u001b[0m \u001b[0mself\u001b[0m\u001b[0;34m.\u001b[0m\u001b[0m_get_tracing_count\u001b[0m\u001b[0;34m(\u001b[0m\u001b[0;34m)\u001b[0m\u001b[0;34m:\u001b[0m\u001b[0;34m\u001b[0m\u001b[0;34m\u001b[0m\u001b[0m\n",
      "\u001b[0;32m~/opt/anaconda3/envs/nlppython/lib/python3.8/site-packages/tensorflow/python/eager/def_function.py\u001b[0m in \u001b[0;36m_call\u001b[0;34m(self, *args, **kwds)\u001b[0m\n\u001b[1;32m    609\u001b[0m       \u001b[0;31m# In this case we have created variables on the first call, so we run the\u001b[0m\u001b[0;34m\u001b[0m\u001b[0;34m\u001b[0m\u001b[0;34m\u001b[0m\u001b[0m\n\u001b[1;32m    610\u001b[0m       \u001b[0;31m# defunned version which is guaranteed to never create variables.\u001b[0m\u001b[0;34m\u001b[0m\u001b[0;34m\u001b[0m\u001b[0;34m\u001b[0m\u001b[0m\n\u001b[0;32m--> 611\u001b[0;31m       \u001b[0;32mreturn\u001b[0m \u001b[0mself\u001b[0m\u001b[0;34m.\u001b[0m\u001b[0m_stateless_fn\u001b[0m\u001b[0;34m(\u001b[0m\u001b[0;34m*\u001b[0m\u001b[0margs\u001b[0m\u001b[0;34m,\u001b[0m \u001b[0;34m**\u001b[0m\u001b[0mkwds\u001b[0m\u001b[0;34m)\u001b[0m  \u001b[0;31m# pylint: disable=not-callable\u001b[0m\u001b[0;34m\u001b[0m\u001b[0;34m\u001b[0m\u001b[0m\n\u001b[0m\u001b[1;32m    612\u001b[0m     \u001b[0;32melif\u001b[0m \u001b[0mself\u001b[0m\u001b[0;34m.\u001b[0m\u001b[0m_stateful_fn\u001b[0m \u001b[0;32mis\u001b[0m \u001b[0;32mnot\u001b[0m \u001b[0;32mNone\u001b[0m\u001b[0;34m:\u001b[0m\u001b[0;34m\u001b[0m\u001b[0;34m\u001b[0m\u001b[0m\n\u001b[1;32m    613\u001b[0m       \u001b[0;31m# Release the lock early so that multiple threads can perform the call\u001b[0m\u001b[0;34m\u001b[0m\u001b[0;34m\u001b[0m\u001b[0;34m\u001b[0m\u001b[0m\n",
      "\u001b[0;32m~/opt/anaconda3/envs/nlppython/lib/python3.8/site-packages/tensorflow/python/eager/function.py\u001b[0m in \u001b[0;36m__call__\u001b[0;34m(self, *args, **kwargs)\u001b[0m\n\u001b[1;32m   2418\u001b[0m     \u001b[0;32mwith\u001b[0m \u001b[0mself\u001b[0m\u001b[0;34m.\u001b[0m\u001b[0m_lock\u001b[0m\u001b[0;34m:\u001b[0m\u001b[0;34m\u001b[0m\u001b[0;34m\u001b[0m\u001b[0m\n\u001b[1;32m   2419\u001b[0m       \u001b[0mgraph_function\u001b[0m\u001b[0;34m,\u001b[0m \u001b[0margs\u001b[0m\u001b[0;34m,\u001b[0m \u001b[0mkwargs\u001b[0m \u001b[0;34m=\u001b[0m \u001b[0mself\u001b[0m\u001b[0;34m.\u001b[0m\u001b[0m_maybe_define_function\u001b[0m\u001b[0;34m(\u001b[0m\u001b[0margs\u001b[0m\u001b[0;34m,\u001b[0m \u001b[0mkwargs\u001b[0m\u001b[0;34m)\u001b[0m\u001b[0;34m\u001b[0m\u001b[0;34m\u001b[0m\u001b[0m\n\u001b[0;32m-> 2420\u001b[0;31m     \u001b[0;32mreturn\u001b[0m \u001b[0mgraph_function\u001b[0m\u001b[0;34m.\u001b[0m\u001b[0m_filtered_call\u001b[0m\u001b[0;34m(\u001b[0m\u001b[0margs\u001b[0m\u001b[0;34m,\u001b[0m \u001b[0mkwargs\u001b[0m\u001b[0;34m)\u001b[0m  \u001b[0;31m# pylint: disable=protected-access\u001b[0m\u001b[0;34m\u001b[0m\u001b[0;34m\u001b[0m\u001b[0m\n\u001b[0m\u001b[1;32m   2421\u001b[0m \u001b[0;34m\u001b[0m\u001b[0m\n\u001b[1;32m   2422\u001b[0m   \u001b[0;34m@\u001b[0m\u001b[0mproperty\u001b[0m\u001b[0;34m\u001b[0m\u001b[0;34m\u001b[0m\u001b[0m\n",
      "\u001b[0;32m~/opt/anaconda3/envs/nlppython/lib/python3.8/site-packages/tensorflow/python/eager/function.py\u001b[0m in \u001b[0;36m_filtered_call\u001b[0;34m(self, args, kwargs)\u001b[0m\n\u001b[1;32m   1659\u001b[0m       \u001b[0;31m`\u001b[0m\u001b[0margs\u001b[0m\u001b[0;31m`\u001b[0m \u001b[0;32mand\u001b[0m\u001b[0;31m \u001b[0m\u001b[0;31m`\u001b[0m\u001b[0mkwargs\u001b[0m\u001b[0;31m`\u001b[0m\u001b[0;34m.\u001b[0m\u001b[0;34m\u001b[0m\u001b[0;34m\u001b[0m\u001b[0m\n\u001b[1;32m   1660\u001b[0m     \"\"\"\n\u001b[0;32m-> 1661\u001b[0;31m     return self._call_flat(\n\u001b[0m\u001b[1;32m   1662\u001b[0m         (t for t in nest.flatten((args, kwargs), expand_composites=True)\n\u001b[1;32m   1663\u001b[0m          if isinstance(t, (ops.Tensor,\n",
      "\u001b[0;32m~/opt/anaconda3/envs/nlppython/lib/python3.8/site-packages/tensorflow/python/eager/function.py\u001b[0m in \u001b[0;36m_call_flat\u001b[0;34m(self, args, captured_inputs, cancellation_manager)\u001b[0m\n\u001b[1;32m   1743\u001b[0m         and executing_eagerly):\n\u001b[1;32m   1744\u001b[0m       \u001b[0;31m# No tape is watching; skip to running the function.\u001b[0m\u001b[0;34m\u001b[0m\u001b[0;34m\u001b[0m\u001b[0;34m\u001b[0m\u001b[0m\n\u001b[0;32m-> 1745\u001b[0;31m       return self._build_call_outputs(self._inference_function.call(\n\u001b[0m\u001b[1;32m   1746\u001b[0m           ctx, args, cancellation_manager=cancellation_manager))\n\u001b[1;32m   1747\u001b[0m     forward_backward = self._select_forward_and_backward_functions(\n",
      "\u001b[0;32m~/opt/anaconda3/envs/nlppython/lib/python3.8/site-packages/tensorflow/python/eager/function.py\u001b[0m in \u001b[0;36mcall\u001b[0;34m(self, ctx, args, cancellation_manager)\u001b[0m\n\u001b[1;32m    591\u001b[0m       \u001b[0;32mwith\u001b[0m \u001b[0m_InterpolateFunctionError\u001b[0m\u001b[0;34m(\u001b[0m\u001b[0mself\u001b[0m\u001b[0;34m)\u001b[0m\u001b[0;34m:\u001b[0m\u001b[0;34m\u001b[0m\u001b[0;34m\u001b[0m\u001b[0m\n\u001b[1;32m    592\u001b[0m         \u001b[0;32mif\u001b[0m \u001b[0mcancellation_manager\u001b[0m \u001b[0;32mis\u001b[0m \u001b[0;32mNone\u001b[0m\u001b[0;34m:\u001b[0m\u001b[0;34m\u001b[0m\u001b[0;34m\u001b[0m\u001b[0m\n\u001b[0;32m--> 593\u001b[0;31m           outputs = execute.execute(\n\u001b[0m\u001b[1;32m    594\u001b[0m               \u001b[0mstr\u001b[0m\u001b[0;34m(\u001b[0m\u001b[0mself\u001b[0m\u001b[0;34m.\u001b[0m\u001b[0msignature\u001b[0m\u001b[0;34m.\u001b[0m\u001b[0mname\u001b[0m\u001b[0;34m)\u001b[0m\u001b[0;34m,\u001b[0m\u001b[0;34m\u001b[0m\u001b[0;34m\u001b[0m\u001b[0m\n\u001b[1;32m    595\u001b[0m               \u001b[0mnum_outputs\u001b[0m\u001b[0;34m=\u001b[0m\u001b[0mself\u001b[0m\u001b[0;34m.\u001b[0m\u001b[0m_num_outputs\u001b[0m\u001b[0;34m,\u001b[0m\u001b[0;34m\u001b[0m\u001b[0;34m\u001b[0m\u001b[0m\n",
      "\u001b[0;32m~/opt/anaconda3/envs/nlppython/lib/python3.8/site-packages/tensorflow/python/eager/execute.py\u001b[0m in \u001b[0;36mquick_execute\u001b[0;34m(op_name, num_outputs, inputs, attrs, ctx, name)\u001b[0m\n\u001b[1;32m     57\u001b[0m   \u001b[0;32mtry\u001b[0m\u001b[0;34m:\u001b[0m\u001b[0;34m\u001b[0m\u001b[0;34m\u001b[0m\u001b[0m\n\u001b[1;32m     58\u001b[0m     \u001b[0mctx\u001b[0m\u001b[0;34m.\u001b[0m\u001b[0mensure_initialized\u001b[0m\u001b[0;34m(\u001b[0m\u001b[0;34m)\u001b[0m\u001b[0;34m\u001b[0m\u001b[0;34m\u001b[0m\u001b[0m\n\u001b[0;32m---> 59\u001b[0;31m     tensors = pywrap_tfe.TFE_Py_Execute(ctx._handle, device_name, op_name,\n\u001b[0m\u001b[1;32m     60\u001b[0m                                         inputs, attrs, num_outputs)\n\u001b[1;32m     61\u001b[0m   \u001b[0;32mexcept\u001b[0m \u001b[0mcore\u001b[0m\u001b[0;34m.\u001b[0m\u001b[0m_NotOkStatusException\u001b[0m \u001b[0;32mas\u001b[0m \u001b[0me\u001b[0m\u001b[0;34m:\u001b[0m\u001b[0;34m\u001b[0m\u001b[0;34m\u001b[0m\u001b[0m\n",
      "\u001b[0;31mKeyboardInterrupt\u001b[0m: "
     ]
    }
   ],
   "source": [
    "# 커스텀 모델 프리징 (학습 안함)\n",
    "for layer in custom_model.layers[:7]:\n",
    "    layer.trainable = False\n",
    "\n",
    "learning_rate = 0.001\n",
    "batch_size = 100\n",
    "\n",
    "# ExponentialDecay? 훈련 과정이 진행됨에 따라 lr을 조금씩(지수함수따라서 줄임) 낮춰가기 위한 방법\n",
    "# (학습률, 스탭크기, 줄이는 비율)\n",
    "lr_decay = tf.keras.optimizers.schedules.ExponentialDecay(learning_rate, train_images.shape[0]/batch_size*5, 0.5, staircase=True)\n",
    "\n",
    "optimizer = tf.keras.optimizers.Adam(learning_rate=lr_decay)\n",
    "\n",
    "# 모델 컴파일 하기\n",
    "custom_model.compile(optimizer=optimizer, loss='sparse_categorical_crossentropy', metrics=['accuracy'])\n",
    "\n",
    "# validation 추가 및 hist에 저장하여 그래프 그리는 재료로 사용하기\n",
    "hist = custom_model.fit(train_images, train_labels, \n",
    "                 validation_data = (valid_images, valid_labels), \n",
    "                 epochs=100,\n",
    "                batch_size=200,\n",
    "                callbacks=[cb_checkpoint, cb_early_stopping])\n",
    "\n",
    "#### 시간 오래걸린다!"
   ]
  },
  {
   "cell_type": "code",
   "execution_count": null,
   "id": "1903f82d",
   "metadata": {},
   "outputs": [],
   "source": [
    "custom_model.load_weights()\n",
    "test_loss, test_accuracy = custom_model.evaluate(test_images, test_labels)"
   ]
  }
 ],
 "metadata": {
  "kernelspec": {
   "display_name": "Python 3 (ipykernel)",
   "language": "python",
   "name": "python3"
  },
  "language_info": {
   "codemirror_mode": {
    "name": "ipython",
    "version": 3
   },
   "file_extension": ".py",
   "mimetype": "text/x-python",
   "name": "python",
   "nbconvert_exporter": "python",
   "pygments_lexer": "ipython3",
   "version": "3.8.10"
  }
 },
 "nbformat": 4,
 "nbformat_minor": 5
}
