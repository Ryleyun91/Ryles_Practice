{
 "cells": [
  {
   "cell_type": "markdown",
   "id": "a93d810a",
   "metadata": {},
   "source": [
    "## 기본 모듈 불러오기"
   ]
  },
  {
   "cell_type": "code",
   "execution_count": 1,
   "id": "2754e268",
   "metadata": {},
   "outputs": [],
   "source": [
    "import pandas as pd\n",
    "import numpy as np\n",
    "import re"
   ]
  },
  {
   "cell_type": "markdown",
   "id": "77bc5c82",
   "metadata": {},
   "source": [
    "## 데이터 불러오기"
   ]
  },
  {
   "cell_type": "code",
   "execution_count": 2,
   "id": "06dc9e15",
   "metadata": {},
   "outputs": [],
   "source": [
    "train = pd.read_csv(\"./open/train.csv\")\n",
    "test = pd.read_csv(\"./open/test.csv\")"
   ]
  },
  {
   "cell_type": "markdown",
   "id": "4cef1e4d",
   "metadata": {},
   "source": [
    "## tensorflow 모델 불러오기"
   ]
  },
  {
   "cell_type": "code",
   "execution_count": 3,
   "id": "74feff9e",
   "metadata": {},
   "outputs": [],
   "source": [
    "from tensorflow.keras.models import Sequential\n",
    "from tensorflow.keras.layers import Dense, Embedding, GRU, Dropout\n",
    "from tensorflow.keras.preprocessing.sequence import pad_sequences\n",
    "from tensorflow.keras.preprocessing.text import Tokenizer"
   ]
  },
  {
   "cell_type": "markdown",
   "id": "fc4b2656",
   "metadata": {},
   "source": [
    "## train 데이터 만들기"
   ]
  },
  {
   "cell_type": "code",
   "execution_count": 4,
   "id": "19fb586f",
   "metadata": {},
   "outputs": [],
   "source": [
    "from konlpy.tag import Mecab\n",
    "mecab = Mecab()"
   ]
  },
  {
   "cell_type": "code",
   "execution_count": 6,
   "id": "a260ab9d",
   "metadata": {},
   "outputs": [],
   "source": [
    "def pos(x):\n",
    "    try:\n",
    "        text = ''\n",
    "        for word, pos in mecab.pos(str(x)):\n",
    "            if pos[0] in [\"N\",\"V\",\"M\",\"E\",\"X\"]:\n",
    "                if type(re.search(\"\\W+|[A-z0-9]\", word))!=re.Match and len(word)!=1:\n",
    "                    text+=\" \"+word\n",
    "        return text.strip()\n",
    "    \n",
    "    except:\n",
    "        print(f\"error {x}\")\n",
    "\n",
    "train[\"과제명\"] = train[\"과제명\"].apply(pos)\n",
    "train[\"요약문_연구목표\"] = train[\"요약문_연구목표\"].apply(pos)\n",
    "train[\"요약문_연구내용\"] = train[\"요약문_연구내용\"].apply(pos)\n",
    "train[\"요약문_기대효과\"] = train[\"요약문_기대효과\"].apply(pos)\n",
    "train[\"요약문_한글키워드\"] = train[\"요약문_한글키워드\"].apply(pos)\n",
    "\n",
    "test[\"과제명\"] = test[\"과제명\"].apply(pos)\n",
    "test[\"요약문_연구목표\"] = test[\"요약문_연구목표\"].apply(pos)\n",
    "test[\"요약문_연구내용\"] = test[\"요약문_연구내용\"].apply(pos)\n",
    "test[\"요약문_기대효과\"] = test[\"요약문_기대효과\"].apply(pos)\n",
    "test[\"요약문_한글키워드\"] = test[\"요약문_한글키워드\"].apply(pos)"
   ]
  },
  {
   "cell_type": "code",
   "execution_count": 47,
   "id": "5214688f",
   "metadata": {},
   "outputs": [],
   "source": [
    "train_data = train[\"과제명\"].append(train[\"요약문_연구목표\"],ignore_index=True).append(train[\"요약문_연구내용\"],ignore_index=True).append(train[\"요약문_기대효과\"],ignore_index=True).append(train[\"요약문_한글키워드\"],ignore_index=True)\n",
    "test_data = test[\"과제명\"].append(test[\"요약문_연구목표\"],ignore_index=True).append(test[\"요약문_연구내용\"],ignore_index=True).append(test[\"요약문_기대효과\"],ignore_index=True).append(test[\"요약문_한글키워드\"],ignore_index=True)"
   ]
  },
  {
   "cell_type": "code",
   "execution_count": 48,
   "id": "4b815152",
   "metadata": {},
   "outputs": [],
   "source": [
    "train_data = list(train_data)\n",
    "test_data = list(test_data)"
   ]
  },
  {
   "cell_type": "code",
   "execution_count": 49,
   "id": "b93dad4e",
   "metadata": {},
   "outputs": [],
   "source": [
    "leng = [len(x) for x in train_data]"
   ]
  },
  {
   "cell_type": "code",
   "execution_count": 50,
   "id": "b1e95839",
   "metadata": {},
   "outputs": [],
   "source": [
    "from collections import Counter\n",
    "length = dict(Counter(leng))"
   ]
  },
  {
   "cell_type": "code",
   "execution_count": 51,
   "id": "41e3b035",
   "metadata": {},
   "outputs": [],
   "source": [
    "length = sorted(length.items(), key=lambda x : x[0])"
   ]
  },
  {
   "cell_type": "code",
   "execution_count": 56,
   "id": "06f95f77",
   "metadata": {},
   "outputs": [],
   "source": [
    "#텐서플로의 전처리 모듈을 활용해 토크나이징 객체를 만든 후 인덱스 벡터로 전환\n",
    "tokenizer=Tokenizer()\n",
    "tokenizer.fit_on_texts(train_data)\n",
    "\n",
    "train_sequences=tokenizer.texts_to_sequences(train_data)\n",
    "test_sequences=tokenizer.texts_to_sequences(test_data)\n",
    "word_vocab=tokenizer.word_index\n",
    "\n",
    "#패딩 처리\n",
    "train_inputs=pad_sequences(train_sequences, maxlen=1000, padding='post')\n",
    "test_inputs=pad_sequences(test_sequences, maxlen=1000, padding='post')"
   ]
  },
  {
   "cell_type": "code",
   "execution_count": 57,
   "id": "cedd7e28",
   "metadata": {},
   "outputs": [
    {
     "data": {
      "text/plain": [
       "82664"
      ]
     },
     "execution_count": 57,
     "metadata": {},
     "output_type": "execute_result"
    }
   ],
   "source": [
    "len(word_vocab)"
   ]
  },
  {
   "cell_type": "code",
   "execution_count": 58,
   "id": "4fd64d5c",
   "metadata": {},
   "outputs": [
    {
     "name": "stdout",
     "output_type": "stream",
     "text": [
      "(871520, 1000)\n",
      "(217880, 1000)\n"
     ]
    }
   ],
   "source": [
    "print(train_inputs.shape)\n",
    "print(test_inputs.shape)"
   ]
  },
  {
   "cell_type": "code",
   "execution_count": 59,
   "id": "eeda4d3a",
   "metadata": {},
   "outputs": [],
   "source": [
    "import numpy as np\n",
    "labels = np.array(train['label'].append(train['label']).append(train['label']).append(train['label']).append(train['label']))"
   ]
  },
  {
   "cell_type": "markdown",
   "id": "294ada4d",
   "metadata": {},
   "source": [
    "import pickle\n",
    "\n",
    "with open(\"dataset.pkl\", 'wb') as f:\n",
    "    pickle.dump(train_inputs, f)\n",
    "    pickle.dump(test_inputs, f)\n",
    "    pickle.dump(labels, f)"
   ]
  },
  {
   "cell_type": "markdown",
   "id": "9f3d6f47",
   "metadata": {},
   "source": [
    "import pickle\n",
    "with open(\"dataset.pkl\", 'rb') as f:\n",
    "    train_inputs = pickle.load(f)\n",
    "    test_inputs = pickle.load(f)\n",
    "    labels = pickle.load(f)"
   ]
  },
  {
   "cell_type": "markdown",
   "id": "a48d572f",
   "metadata": {},
   "source": [
    "## GRU 모델 학습 (optimizer = nadam / acivation = relu / softmax)"
   ]
  },
  {
   "cell_type": "code",
   "execution_count": null,
   "id": "614c3d35",
   "metadata": {},
   "outputs": [
    {
     "name": "stdout",
     "output_type": "stream",
     "text": [
      "Epoch 1/30\n"
     ]
    }
   ],
   "source": [
    "model = Sequential()\n",
    "model.add(Embedding(len(word_vocab)+1, 512, input_length=1000))\n",
    "model.add(GRU(units=512, activation=\"relu\", return_sequences=True))\n",
    "model.add(Dropout(0.2))\n",
    "model.add(GRU(units=256, activation=\"relu\"))\n",
    "model.add(Dropout(0.2))\n",
    "model.add(Dense(46, activation='softmax'))\n",
    "model.compile(optimizer=\"nadam\", loss=\"sparse_categorical_crossentropy\", metrics=[\"acc\"])\n",
    "history = model.fit(train_inputs, labels, epochs=30, batch_size=256, validation_split=0.2, verbose=2)"
   ]
  },
  {
   "cell_type": "markdown",
   "id": "dba93729",
   "metadata": {},
   "source": [
    "## 모델 저장"
   ]
  },
  {
   "cell_type": "markdown",
   "id": "4811ca91",
   "metadata": {},
   "source": [
    "from keras.models import load_model"
   ]
  },
  {
   "cell_type": "markdown",
   "id": "d6b91344",
   "metadata": {},
   "source": [
    "model.save('GRU_model_concat.h5')"
   ]
  },
  {
   "cell_type": "markdown",
   "id": "03b9a3da",
   "metadata": {},
   "source": [
    "## 모델 예측"
   ]
  },
  {
   "cell_type": "code",
   "execution_count": null,
   "id": "6ce87fda",
   "metadata": {},
   "outputs": [],
   "source": [
    "answer = model.predict(test_inputs)"
   ]
  },
  {
   "cell_type": "code",
   "execution_count": null,
   "id": "aa02cd35",
   "metadata": {},
   "outputs": [],
   "source": [
    "import tensorflow as tf"
   ]
  },
  {
   "cell_type": "code",
   "execution_count": null,
   "id": "83d42e17",
   "metadata": {},
   "outputs": [],
   "source": [
    "pred=tf.argmax(answer, axis=1)"
   ]
  },
  {
   "cell_type": "code",
   "execution_count": null,
   "id": "8c8f6298",
   "metadata": {},
   "outputs": [],
   "source": [
    "pred[:500]"
   ]
  },
  {
   "cell_type": "code",
   "execution_count": null,
   "id": "6a26c250",
   "metadata": {},
   "outputs": [],
   "source": [
    "sample_submission=pd.read_csv('./open/sample_submission.csv')\n",
    "sample_submission['label']=pred\n",
    "sample_submission.to_csv('GRU_concat_column.csv', index=False)"
   ]
  },
  {
   "cell_type": "code",
   "execution_count": null,
   "id": "b9fb8814",
   "metadata": {},
   "outputs": [],
   "source": []
  }
 ],
 "metadata": {
  "kernelspec": {
   "display_name": "Python 3 (ipykernel)",
   "language": "python",
   "name": "python3"
  },
  "language_info": {
   "codemirror_mode": {
    "name": "ipython",
    "version": 3
   },
   "file_extension": ".py",
   "mimetype": "text/x-python",
   "name": "python",
   "nbconvert_exporter": "python",
   "pygments_lexer": "ipython3",
   "version": "3.8.10"
  }
 },
 "nbformat": 4,
 "nbformat_minor": 5
}
