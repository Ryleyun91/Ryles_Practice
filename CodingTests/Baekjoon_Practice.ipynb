{
 "cells": [
  {
   "cell_type": "markdown",
   "metadata": {},
   "source": [
    "##### This is my study note to memorize and remind what I had difficulies in or what I had newly learnt."
   ]
  },
  {
   "cell_type": "markdown",
   "metadata": {},
   "source": [
    "# While"
   ]
  },
  {
   "cell_type": "markdown",
   "metadata": {},
   "source": [
    "## 10951번 (A+B)"
   ]
  },
  {
   "cell_type": "code",
   "execution_count": null,
   "metadata": {},
   "outputs": [],
   "source": [
    "# while True:\n",
    "#     try:\n",
    "#         cals = input().split()\n",
    "#         A = int(cals[0])\n",
    "#         B = int(cals[-1])\n",
    "#         print(A+B)\n",
    "#     except:\n",
    "#         break"
   ]
  },
  {
   "cell_type": "markdown",
   "metadata": {},
   "source": [
    "- try에서 조건을 만족할 때 계속 while을 돌리다가 예외 상황이 발생하면 except로 처리하여 brea할 수 있음"
   ]
  },
  {
   "cell_type": "markdown",
   "metadata": {},
   "source": [
    "## 1110 (더하기 사이클)"
   ]
  },
  {
   "cell_type": "markdown",
   "metadata": {},
   "source": [
    "### 각 자리수를 더하여 원래 수로 돌아오는 사이클을 확인하는 문제"
   ]
  },
  {
   "cell_type": "code",
   "execution_count": null,
   "metadata": {},
   "outputs": [],
   "source": [
    "# tmp = inp = int(input())\n",
    "# count = 0\n",
    "# while True:\n",
    "#     ten = tmp//10\n",
    "#     one = tmp%10\n",
    "#     res = ten + one\n",
    "#     count += 1\n",
    "#     tmp = int(str(tmp%10)+str(res%10))\n",
    " \n",
    "#     if (inp==tmp):\n",
    "#         break\n",
    "# print(count)"
   ]
  },
  {
   "cell_type": "markdown",
   "metadata": {},
   "source": [
    "# 함수"
   ]
  },
  {
   "cell_type": "markdown",
   "metadata": {},
   "source": [
    "## 4673번 (셀프 넘버)"
   ]
  },
  {
   "cell_type": "markdown",
   "metadata": {},
   "source": [
    "### 생성자가 없는 수 찾기"
   ]
  },
  {
   "cell_type": "code",
   "execution_count": null,
   "metadata": {},
   "outputs": [],
   "source": [
    "natural_num = set(range(1, 10001))\n",
    "generated_num = set()\n",
    "\n",
    "for i in range(1, 10001):\n",
    "    for j in str(i):\n",
    "        i += int(j)\n",
    "    generated_num.add(i)\n",
    "\n",
    "self_num = sorted(natural_num - generated_num)\n",
    "\n",
    "# for i in self_num:\n",
    "#     print(i)"
   ]
  },
  {
   "cell_type": "markdown",
   "metadata": {},
   "source": [
    "- 처음에 재귀함수로 해야하는 줄 알고 고민하다가, 생각해 보니 생성자가 없는 숫자를 찾으면 된다는 것을 깨달음."
   ]
  },
  {
   "cell_type": "markdown",
   "metadata": {},
   "source": [
    "# 1065번 (한수: 어떤 양의 정수의 각 자리수가 등차수열을 이루는 수)"
   ]
  },
  {
   "cell_type": "code",
   "execution_count": null,
   "metadata": {},
   "outputs": [],
   "source": [
    "num = int(input())\n",
    "\n",
    "def hansu(num):\n",
    "    count=0\n",
    "    for i in range(1, num+1):\n",
    "        hun = i//100\n",
    "        ten = i%100//10\n",
    "        one = i%10\n",
    "        \n",
    "        if (hun-ten)==(ten-one):\n",
    "            count+=1\n",
    "        elif 100>i:\n",
    "            count+=1\n",
    "            \n",
    "    return print(count)\n",
    "\n",
    "hansu(num)"
   ]
  },
  {
   "cell_type": "markdown",
   "metadata": {},
   "source": [
    "- 백준에서는 반드시 print 해줘야 결과 출력됨"
   ]
  },
  {
   "cell_type": "markdown",
   "metadata": {},
   "source": [
    "# 문자열"
   ]
  },
  {
   "cell_type": "markdown",
   "metadata": {},
   "source": [
    "- 아스키코드 : ord(문자열)\n",
    "- hex : hex(아스키코드)\n",
    "- 아스키코드나 hex로 문자열 출력 : chr(아스키코드|hex)"
   ]
  },
  {
   "cell_type": "markdown",
   "metadata": {},
   "source": [
    "## 1157번 (단어공부)"
   ]
  },
  {
   "cell_type": "markdown",
   "metadata": {},
   "source": [
    "### 알파벳 대소문로 된 단어가 주어지면, 이 단어에서 가장 많이 사용된 알파벳이 무엇인지 알아내는 프로그램을 작성하시오. 단 대문자와 소문자는 구분하지 않는다.\n",
    "##### 첫째 줄에 이 단어에서 가장 많이 사용된 알파벳을 대문자로 출력한다. 단, 가장 많이 사용된 알파벳이 여러 개 존재하는 경우에는 ?를 출력한다"
   ]
  },
  {
   "cell_type": "code",
   "execution_count": null,
   "metadata": {
    "scrolled": true
   },
   "outputs": [],
   "source": [
    "from collections import Counter\n",
    "word = input().upper()\n",
    "count = Counter(word)\n",
    "\n",
    "if list(count.values()).count(count.most_common(1)[0][-1]) >= 2:\n",
    "    print(\"?\")\n",
    "else:\n",
    "    print(count.most_common(1)[0][0])"
   ]
  },
  {
   "cell_type": "markdown",
   "metadata": {},
   "source": [
    "- Counter에 대해서 max를 적용하면 key 값중 가장 큰 값이 나옴 (단순히 max를 적용하면 안 됨!)\n",
    "- 최고 빈도를 뽑는 것은 Counter(넣을것).most_common(몇 순위까지) -> [(key,value)]와 같은 형태로 나오니까 슬라이싱 해줘야함"
   ]
  },
  {
   "cell_type": "markdown",
   "metadata": {},
   "source": [
    "## 1316번 (그룹 단어 체커)"
   ]
  },
  {
   "cell_type": "markdown",
   "metadata": {},
   "source": [
    "### ccazzzbb는 c,a,z,b가 모두 연속하므로 그룹 단어, aabbbccb는 b가 떨어져서 나타나기 때문에 그룹단어가 아님"
   ]
  },
  {
   "cell_type": "markdown",
   "metadata": {},
   "source": [
    "##### 내가 푼 것"
   ]
  },
  {
   "cell_type": "code",
   "execution_count": null,
   "metadata": {},
   "outputs": [],
   "source": [
    "import re\n",
    "\n",
    "num = int(input())\n",
    "count = 0\n",
    "\n",
    "for i in range(num):\n",
    "    inp = input()\n",
    "    check = 0 \n",
    "    inp_set = set(inp)\n",
    "    for i in inp_set:\n",
    "        if re.search(f\"{i}{ {inp.count(i)} }\", inp):\n",
    "            continue\n",
    "        else:\n",
    "            check += 1\n",
    "\n",
    "    if check == 0:\n",
    "        count+=1\n",
    "    \n",
    "print(count)"
   ]
  },
  {
   "cell_type": "markdown",
   "metadata": {},
   "source": [
    "##### 숏코딩"
   ]
  },
  {
   "cell_type": "markdown",
   "metadata": {},
   "source": [
    "- True는 1이다 / False는 0이다 "
   ]
  },
  {
   "cell_type": "code",
   "execution_count": null,
   "metadata": {},
   "outputs": [],
   "source": [
    "print(1+True)\n",
    "print(1+False)"
   ]
  },
  {
   "cell_type": "code",
   "execution_count": null,
   "metadata": {},
   "outputs": [],
   "source": [
    "cnt = 0\n",
    "for i in range(int(input())):\n",
    "    word = input()\n",
    "    cnt += list(word) == sorted(word, key = word.find)\n",
    "print(cnt)"
   ]
  },
  {
   "cell_type": "code",
   "execution_count": null,
   "metadata": {},
   "outputs": [],
   "source": [
    "if list(word) == sorted(word, key = word.find):\n",
    "    cnt+=1"
   ]
  },
  {
   "cell_type": "markdown",
   "metadata": {},
   "source": [
    "- cnt += list(word) == sorted(word, key = word.find) 이해 안 됨\n",
    "- 왜 cnt에 1이 더해지지?"
   ]
  },
  {
   "cell_type": "markdown",
   "metadata": {},
   "source": [
    "# 기본 수학 1"
   ]
  },
  {
   "cell_type": "markdown",
   "metadata": {},
   "source": [
    "- 수학적 사고를 필요로하는 문제의 경우, 기본 개념 정리를 위해 모두 기록한다!"
   ]
  },
  {
   "cell_type": "markdown",
   "metadata": {},
   "source": [
    "## 1712번 (손익분기점)"
   ]
  },
  {
   "cell_type": "code",
   "execution_count": null,
   "metadata": {},
   "outputs": [],
   "source": [
    "# A 초기 제반 비용, B 소요 비용, C 판매가\n",
    "\n",
    "A, B, C = map(int, input().split())\n",
    "\n",
    "try:\n",
    "    if B>C:\n",
    "        print(-1)\n",
    "    else:\n",
    "        print(int(A/(C-B)+1))\n",
    "        \n",
    "except:\n",
    "    print(-1)"
   ]
  },
  {
   "cell_type": "markdown",
   "metadata": {},
   "source": [
    "## 2292번 (벌집)"
   ]
  },
  {
   "cell_type": "markdown",
   "metadata": {},
   "source": [
    "- 출발점부터 목표 벌집까지 도달하기 위한 최단 거리 계산 \n",
    "- 벌집 존은 6의 배수로 증가하는 계차수열"
   ]
  },
  {
   "cell_type": "code",
   "execution_count": null,
   "metadata": {},
   "outputs": [],
   "source": [
    "# 1 7 19 37 ... (6의 배수로 증가하는 계차수열)\n",
    "\n",
    "target = int(input())\n",
    "former = 1\n",
    "difference = 6\n",
    "distance = 1\n",
    "\n",
    "if target == 1:\n",
    "    print(1)\n",
    "else:\n",
    "    while True:\n",
    "        former += difference\n",
    "        distance += 1\n",
    "        if target <= former:\n",
    "            print(distance)\n",
    "            break\n",
    "        difference += 6"
   ]
  },
  {
   "cell_type": "markdown",
   "metadata": {},
   "source": [
    "## 1193번 (분수찾기)"
   ]
  },
  {
   "cell_type": "markdown",
   "metadata": {},
   "source": [
    "- 군수열 문제"
   ]
  },
  {
   "cell_type": "code",
   "execution_count": null,
   "metadata": {},
   "outputs": [],
   "source": [
    "# 1/1   1/1,2/1   3/1,2/2,1/3   1/4,2/3,3/2,4/1   5/1,4/2,3/3,2/4,1/5"
   ]
  },
  {
   "cell_type": "code",
   "execution_count": null,
   "metadata": {},
   "outputs": [],
   "source": [
    "count = 0\n",
    "number = 0\n",
    "numbers = []\n",
    "order = 14-1\n",
    "\n",
    "while number<=order+1:\n",
    "    number+=(count+1)\n",
    "    count+=1\n",
    "    numbers.append(count)\n",
    "    \n",
    "answer = []\n",
    "\n",
    "for n in numbers:\n",
    "    for son, mom in zip(range(1, n+1), range(n, 0, -1)):\n",
    "        if n%2==1:\n",
    "            answer.append(f'{mom}/{son}')\n",
    "        else:\n",
    "            answer.append(f'{son}/{mom}')\n",
    "\n",
    "answer[order]"
   ]
  },
  {
   "cell_type": "code",
   "execution_count": null,
   "metadata": {},
   "outputs": [],
   "source": [
    "X = int(input())\n",
    "\n",
    "nums = 0\n",
    "count = 0\n",
    "\n",
    "while nums < X:\n",
    "    count += 1\n",
    "    nums = nums+count\n",
    "    \n",
    "if count%2==0:\n",
    "    son = count + X - nums\n",
    "    mom = 1 + nums - X\n",
    "    \n",
    "else:\n",
    "    son = 1 + nums - X\n",
    "    mom = count + X - nums\n",
    "    \n",
    "print(f'{son}/{mom}')"
   ]
  },
  {
   "cell_type": "markdown",
   "metadata": {},
   "source": [
    "##  2869번 (달팽이는 올라가고 싶다)"
   ]
  },
  {
   "cell_type": "code",
   "execution_count": null,
   "metadata": {},
   "outputs": [],
   "source": [
    "day = 0\n",
    "A, B, V = 100, 99, 1000\n",
    "result=0\n",
    "\n",
    "while result <= V:\n",
    "    result = result+A\n",
    "    if result >= V:\n",
    "        day += 1\n",
    "        break\n",
    "    else:\n",
    "        result = result-B\n",
    "        day +=1\n",
    "day"
   ]
  },
  {
   "cell_type": "markdown",
   "metadata": {},
   "source": [
    "##### - 시간 너무 오래걸림"
   ]
  },
  {
   "cell_type": "code",
   "execution_count": null,
   "metadata": {},
   "outputs": [],
   "source": [
    "A, B, V = map(int, '100 99 1000000000'.split())\n",
    "\n",
    "day = (V-A)//(A-B)\n",
    "\n",
    "if (V-A)%(A-B) == 0:\n",
    "    day += 1\n",
    "else:\n",
    "    day += 2\n",
    "\n",
    "print(day)"
   ]
  },
  {
   "cell_type": "markdown",
   "metadata": {},
   "source": [
    "## 10250번 호텔방 배정문제"
   ]
  },
  {
   "cell_type": "code",
   "execution_count": null,
   "metadata": {},
   "outputs": [],
   "source": [
    "Input = \"2\\n6 12 10\\n30 50 72\".split('\\n')\n",
    "data = Input[1:]\n",
    " \n",
    "for info in data:\n",
    "    H, W, C = info.split()\n",
    "    temp = []\n",
    "    for WN in range(1,int(W)+1):\n",
    "        for HN in range(1,int(H)+1):\n",
    "            if WN < 10:\n",
    "                temp.append(f'{HN}0{WN}')\n",
    "            else:\n",
    "                temp.append(f'{HN}{WN}')\n",
    "    print(temp[int(C)-1]) "
   ]
  },
  {
   "cell_type": "markdown",
   "metadata": {},
   "source": [
    "## 2775번 부녀회장이 될테야"
   ]
  },
  {
   "cell_type": "code",
   "execution_count": null,
   "metadata": {},
   "outputs": [],
   "source": [
    "1 4 10 16 25\n",
    "1 3 6 10 15\n",
    "1 2 3 4 5"
   ]
  },
  {
   "cell_type": "code",
   "execution_count": null,
   "metadata": {},
   "outputs": [],
   "source": [
    "T = 2 #int(input())\n",
    "info = []\n",
    "for _ in range(T):\n",
    "    K = 1 # int(input())\n",
    "    N = 3 # int(input())\n",
    "    info.append((K,N))\n",
    "\n",
    "for K, N in info:\n",
    "    base = [n for n in range(1, N+1)]\n",
    "    for k in range(1, K+1):\n",
    "        base = [sum(base[:n]) for n in range(1, N+1)]\n",
    "    print(base[N-1])"
   ]
  },
  {
   "cell_type": "markdown",
   "metadata": {},
   "source": [
    "## 2839번 설탕 배달"
   ]
  },
  {
   "cell_type": "code",
   "execution_count": null,
   "metadata": {},
   "outputs": [],
   "source": [
    "sugar = int(input())\n",
    "K5 = sugar//5\n",
    "sugar = sugar%5\n",
    "K3 = 0\n",
    "\n",
    "while K5>=0:\n",
    "    if sugar%3 == 0:\n",
    "        K3 = sugar//3\n",
    "        sugar = sugar%3\n",
    "        break\n",
    "    K5-=1\n",
    "    sugar+=5\n",
    "\n",
    "\n",
    "if sugar==0:\n",
    "    print(K5+K3)\n",
    "else:\n",
    "    print(-1)"
   ]
  },
  {
   "cell_type": "markdown",
   "metadata": {},
   "source": [
    "## 10757번 큰 수 A+B"
   ]
  },
  {
   "cell_type": "code",
   "execution_count": null,
   "metadata": {},
   "outputs": [],
   "source": [
    "numbers = input().split()\n",
    "print(int(numbers[0])+int(numbers[1]))"
   ]
  },
  {
   "cell_type": "markdown",
   "metadata": {},
   "source": [
    "## 1011번 Fly me to the Alpha Centauri"
   ]
  },
  {
   "cell_type": "code",
   "execution_count": null,
   "metadata": {},
   "outputs": [],
   "source": [
    "# 제곱수와 제곱근을 가지고 문제 해결!"
   ]
  },
  {
   "cell_type": "code",
   "execution_count": null,
   "metadata": {},
   "outputs": [],
   "source": [
    "import math\n",
    "\n",
    "T = int(input())\n",
    "\n",
    "for i in range(T):\n",
    "    x, y = map(int, input().split())\n",
    "    d = y-x\n",
    "    count = 0\n",
    "    \n",
    "    rd = math.floor(math.sqrt(d)) # 루트거리 찾기 floor는 내림\n",
    "    sd = rd**2 # 루트거리 제곱\n",
    "    \n",
    "    if d < 4: # 거리가 1, 2, 3이면 카운트는 그냥 거리를 찍어냄\n",
    "        print(d)\n",
    "    else:\n",
    "        if d > rd + sd:\n",
    "            count = 2 * rd + 1\n",
    "        elif sd < d <= rd+sd:\n",
    "            count = 2 * rd\n",
    "        elif d == sd:\n",
    "            count = 2 * rd - 1\n",
    "        print(count)"
   ]
  },
  {
   "cell_type": "markdown",
   "metadata": {},
   "source": [
    "# 기본 수학 2"
   ]
  },
  {
   "cell_type": "markdown",
   "metadata": {},
   "source": [
    "## 1978번 소수 찾기"
   ]
  },
  {
   "cell_type": "code",
   "execution_count": null,
   "metadata": {},
   "outputs": [],
   "source": [
    "N = int(input())\n",
    "numbers = [int(number) for number in input().split()]\n",
    "\n",
    "count = 0\n",
    "\n",
    "for number in numbers:\n",
    "    temp_count = 0\n",
    "    for i in range(1, number+1):\n",
    "        if number%i==0:\n",
    "            temp_count+=1\n",
    "    if temp_count==2:\n",
    "        count+=1\n",
    "print(count)"
   ]
  },
  {
   "cell_type": "markdown",
   "metadata": {},
   "source": [
    "## 2581번 소수"
   ]
  },
  {
   "cell_type": "code",
   "execution_count": null,
   "metadata": {},
   "outputs": [],
   "source": [
    "M = int(input())\n",
    "N = int(input())\n",
    "prime = []\n",
    "\n",
    "for number in range(M, N+1):\n",
    "    temp_count = 0\n",
    "    for i in range(1, number+1):\n",
    "        if number%i==0:\n",
    "            temp_count+=1\n",
    "    if temp_count==2:\n",
    "        prime.append(number)\n",
    "\n",
    "if len(prime) >= 1:\n",
    "    print(str(sum(prime)))\n",
    "    print(str(min(prime)))\n",
    "else:\n",
    "    print('-1')"
   ]
  },
  {
   "cell_type": "markdown",
   "metadata": {},
   "source": [
    "## 11653번 소인수분해"
   ]
  },
  {
   "cell_type": "code",
   "execution_count": null,
   "metadata": {},
   "outputs": [],
   "source": [
    "N = int(input())\n",
    "div = 2\n",
    "numbers = []\n",
    "\n",
    "while N > 1:\n",
    "    if N%div ==0:\n",
    "        numbers.append(div)\n",
    "        N = N/div\n",
    "    else:\n",
    "        div+=1\n",
    "        \n",
    "for number in numbers:\n",
    "    print(number)"
   ]
  },
  {
   "cell_type": "markdown",
   "metadata": {},
   "source": [
    "## 1929번 소수 구하기"
   ]
  },
  {
   "cell_type": "code",
   "execution_count": null,
   "metadata": {},
   "outputs": [],
   "source": [
    "M, N = map(int, input().split())\n",
    "prime = []\n",
    "\n",
    "for number in range(M, N+1):\n",
    "    c = False\n",
    "    \n",
    "    if number == 2:\n",
    "        pass\n",
    "    \n",
    "    elif number == 1:\n",
    "        c = True\n",
    "        \n",
    "    else:\n",
    "        sqrt_number = int(number**0.5)\n",
    "        \n",
    "        for num in range(2, sqrt_number+1):\n",
    "            if number%num==0:\n",
    "                c = True\n",
    "                break\n",
    "                \n",
    "    if c==False:\n",
    "        prime.append(number)\n",
    "        \n",
    "for pri in prime:\n",
    "    print(pri)"
   ]
  },
  {
   "cell_type": "markdown",
   "metadata": {},
   "source": [
    "## 4948번 베르트랑 공준"
   ]
  },
  {
   "cell_type": "code",
   "execution_count": null,
   "metadata": {},
   "outputs": [],
   "source": [
    "N = 1\n",
    "\n",
    "while N != 0:\n",
    "    count = 0\n",
    "    N = int(input())\n",
    "    if N==0:\n",
    "        break\n",
    "    for number in range(N+1, 2*N+1):\n",
    "        c = False\n",
    "        \n",
    "        if number == 2:\n",
    "            pass\n",
    "        elif number == 1:\n",
    "            c = True\n",
    "        else:\n",
    "            sqrt_number = int(number**0.5)\n",
    "            \n",
    "            for num in range(2, sqrt_number+1):\n",
    "                if number%num==0:\n",
    "                    c = True\n",
    "                    break\n",
    "        if c == False:\n",
    "            count+=1\n",
    "    print(count)"
   ]
  },
  {
   "cell_type": "markdown",
   "metadata": {},
   "source": [
    "## 9020번 골드바흐의 추측"
   ]
  },
  {
   "cell_type": "code",
   "execution_count": null,
   "metadata": {},
   "outputs": [],
   "source": [
    "N = int(input())\n",
    "# 소수 리스트 만들기\n",
    "prime = [2]\n",
    "for number in range(3, 10001):\n",
    "    c = False\n",
    "    \n",
    "    sqrt_number = int(number**0.5)\n",
    "    for num in range(2, sqrt_number+1):\n",
    "        if number%num==0:\n",
    "            c = True\n",
    "            break\n",
    "\n",
    "    if c==False:\n",
    "        prime.append(number)\n",
    "\n",
    "# 골드 바흐 파티션\n",
    "for _ in range(N):\n",
    "    target = int(input())\n",
    "    \n",
    "    pair = []  \n",
    "    for i in prime:\n",
    "        if target-i in prime:\n",
    "            pair.append(sorted([i, target-i]))\n",
    "    \n",
    "    minus_pair = [[x, y, y-x] for x,y in pair]\n",
    "    minus_pair = sorted(minus_pair, key = lambda x: x[-1])\n",
    "    \n",
    "    print(minus_pair[0][0], minus_pair[0][1])"
   ]
  },
  {
   "cell_type": "markdown",
   "metadata": {},
   "source": [
    "## 1085번 직사각형에서 탈출"
   ]
  },
  {
   "cell_type": "code",
   "execution_count": null,
   "metadata": {},
   "outputs": [],
   "source": [
    "x,y,w,h = map(int, input().split())\n",
    "\n",
    "print(min(w-x, h-y, x, y))"
   ]
  },
  {
   "cell_type": "markdown",
   "metadata": {},
   "source": [
    "## 3009번 네 번째 점"
   ]
  },
  {
   "cell_type": "code",
   "execution_count": null,
   "metadata": {},
   "outputs": [],
   "source": [
    "x = []\n",
    "y = []\n",
    "target_x = 0\n",
    "target_y = 0\n",
    "\n",
    "for _ in range(3):\n",
    "    a, b = input().split()\n",
    "    x.append(a)\n",
    "    y.append(b)\n",
    "\n",
    "x.sort()\n",
    "y.sort()\n",
    "\n",
    "if x.count(x[0]) == 2:\n",
    "    target_x = x[-1]\n",
    "else:\n",
    "    target_x = x[0]\n",
    "if y.count(y[0]) == 2:\n",
    "    target_y = y[-1]\n",
    "else:\n",
    "    target_y = y[0]\n",
    "    \n",
    "print(target_x, target_y)"
   ]
  },
  {
   "cell_type": "markdown",
   "metadata": {},
   "source": [
    "## 4153번 직각삼각형"
   ]
  },
  {
   "cell_type": "code",
   "execution_count": null,
   "metadata": {},
   "outputs": [],
   "source": [
    "tri_test = [1, 1, 1]\n",
    "\n",
    "while True:\n",
    "    tri_test = list(map(int, input().split()))\n",
    "    \n",
    "    if tri_test.count(0)==3:\n",
    "        break\n",
    "        \n",
    "    tri_test.sort()\n",
    "    if tri_test[-1]**2 == tri_test[0]**2 + tri_test[1]**2:\n",
    "        print('right')\n",
    "    else:\n",
    "        print('wrong')"
   ]
  },
  {
   "cell_type": "markdown",
   "metadata": {},
   "source": [
    "## 3053번 택시 기하학"
   ]
  },
  {
   "cell_type": "code",
   "execution_count": null,
   "metadata": {},
   "outputs": [],
   "source": [
    "# 택시 기하학에서는 x축 평행이동과 y축 평행이동만 고려함\n",
    "# 거리가 4일 때, x축으로 3 이동하고 y축으로 1 이동한 것도 거리가 4가 되는 것\n",
    "# 이를 그림으로 표현하면 마름모 꼴이 됨. "
   ]
  },
  {
   "cell_type": "code",
   "execution_count": null,
   "metadata": {},
   "outputs": [],
   "source": [
    "import math\n",
    "\n",
    "R = int(input())\n",
    "U = R**2*math.pi\n",
    "T = 2*R*R\n",
    "print('{:.6f}'.format(U))\n",
    "print('{:.6f}'.format(T))"
   ]
  },
  {
   "cell_type": "markdown",
   "metadata": {},
   "source": [
    "## 1002번 터렛"
   ]
  },
  {
   "cell_type": "code",
   "execution_count": null,
   "metadata": {},
   "outputs": [],
   "source": [
    "N = int(input())\n",
    "\n",
    "for _ in range(N):\n",
    "    x1, y1, r1, x2, y2, r2 = map(int, input().split())\n",
    "    \n",
    "    r = ((x2-x1)**2 + (y2-y1)**2)**(1/2)\n",
    "    \n",
    "    temp = abs(r-max(r1, r2))\n",
    "    \n",
    "    if r1==r2 and r==0:\n",
    "        print(-1)\n",
    "    elif temp > min(r1, r2):\n",
    "        print(0)\n",
    "    elif temp == min(r1, r2):\n",
    "        print(1)\n",
    "    elif temp < min(r1, r2):\n",
    "        print(2)"
   ]
  },
  {
   "cell_type": "markdown",
   "metadata": {},
   "source": [
    "# 재귀"
   ]
  },
  {
   "cell_type": "markdown",
   "metadata": {},
   "source": [
    "## 10872번 팩토리얼"
   ]
  },
  {
   "cell_type": "code",
   "execution_count": null,
   "metadata": {},
   "outputs": [],
   "source": [
    "number = int(input())\n",
    "result = 1\n",
    "for i in range(1, number+1):\n",
    "    result*=i\n",
    "    \n",
    "print(result)"
   ]
  },
  {
   "cell_type": "markdown",
   "metadata": {},
   "source": [
    "## 10870번 피보나치 수 5"
   ]
  },
  {
   "cell_type": "code",
   "execution_count": null,
   "metadata": {},
   "outputs": [],
   "source": [
    "def fib(n):\n",
    "    if n==0:\n",
    "        return 0\n",
    "    elif n==1:\n",
    "        return 1\n",
    "    return fib(n-1) + fib(n-2)\n",
    "\n",
    "n = int(input())\n",
    "print(fib(n))"
   ]
  },
  {
   "cell_type": "markdown",
   "metadata": {},
   "source": [
    "## 2447번 별 찍기 - 10\n",
    "### 이해안됨"
   ]
  },
  {
   "cell_type": "markdown",
   "metadata": {},
   "source": [
    "해석\n",
    "\n",
    "재귀함수 star()에는 두개의 인수를 받는다. 입력값 n과 함수밖에서 선언된 star_list의 주솟값을 a_list란 인수로 받는다. N이 입력되고 star()함수가 실행되면 n의 값을 판별하는데 n=>3이 아닌 경우 else문을 실행하고 star(27//3, a_list)함수를 다시 실행한다. 그래도 n=>3이 아니면 다시 else문을 실행, n=>3이 될 때까지 반복한다.\n",
    "n=>3이면 a_list의 값을 추가하고 a_list를 반환한다. 이때 a_list는 3개의 리스트가 존재한다. 반환된 값은 곱하기 3을하여 b에 저장 [***][* *][***]이것이 각각 3개씩 늘어남으로 총 9개의 리스트가 존재한다. 다음 반복문이 실행되고 i가 0~8까지 반복되는 동안 리스트 개수의 총 1/3은 공백으로 출력되도록 한다. 현재 b에는 9개의 리스트가 존재하는데 이것을 3등분씩하면 012, 345, 678이 된다. 이 345부분을 공백으로 만들어줘야하는데 if문에서 연산이 된다. \n",
    "공백이 아닌 부분은 else문에서 별의 개수가 3의배수만큼 곱해진다\n",
    "b가 반환되고 다시 같은 것을 반복하거나 최종반환되어 값이 출력된다."
   ]
  },
  {
   "cell_type": "code",
   "execution_count": null,
   "metadata": {},
   "outputs": [],
   "source": [
    "def star(n, a_list):\n",
    "    if n==3:\n",
    "        a_list.append([\"***\"])\n",
    "        a_list.append([\"* *\"])\n",
    "        a_list.append([\"***\"])\n",
    "        return a_list\n",
    "    else:\n",
    "        b = star(n//3, a_list)*3\n",
    "        \n",
    "        for i in range(len(b)):\n",
    "            if i in list(range(n//3, n-n//3)):\n",
    "                b[i] = b[i] + [\" \"]*(n//3) + b[i]\n",
    "            else:\n",
    "                b[i] = b[i]*3\n",
    "        return b\n",
    "    \n",
    "star_list=[]\n",
    "N = int(input())\n",
    "a = star(N, star_list)\n",
    "\n",
    "for i in range(len(a)):\n",
    "    print(\"\".join(a[i]))"
   ]
  },
  {
   "cell_type": "markdown",
   "metadata": {},
   "source": [
    "## 11729번 하노이 탑 이동 순서"
   ]
  },
  {
   "cell_type": "markdown",
   "metadata": {},
   "source": [
    "### 시간 엄청 걸림"
   ]
  },
  {
   "cell_type": "code",
   "execution_count": null,
   "metadata": {},
   "outputs": [],
   "source": [
    "def hanoi(disk, start, mid, end):\n",
    "    if disk == 1:\n",
    "        print(start, end)\n",
    "    else:\n",
    "        hanoi(disk-1, start, end, mid)\n",
    "        print(start, end)\n",
    "        hanoi(disk-1, mid, start, end)\n",
    "\n",
    "total_disk = int(input())\n",
    "total_move = 0\n",
    "\n",
    "for disk in range(total_disk):\n",
    "    total_move = total_move*2\n",
    "    total_move += 1\n",
    "    \n",
    "print(total_move)\n",
    "hanoi(total_disk,1,2,3)        "
   ]
  },
  {
   "cell_type": "markdown",
   "metadata": {},
   "source": [
    "# 브루트 포스"
   ]
  },
  {
   "cell_type": "markdown",
   "metadata": {},
   "source": [
    "## 2798 블랙잭"
   ]
  },
  {
   "cell_type": "code",
   "execution_count": null,
   "metadata": {},
   "outputs": [],
   "source": [
    "from itertools import combinations\n",
    "N, M = map(int, input().split())\n",
    "cards = list(map(int, input().split()))\n",
    "cards_combi_sum = [(sum(i),sum(i)-M) for i in list((combinations(cards, 3))) if sum(i)<=M]\n",
    "cards_combi_sum = sorted(cards_combi_sum, key=lambda x: x[-1], reverse=True)\n",
    "print(cards_combi_sum[0][0])"
   ]
  },
  {
   "cell_type": "markdown",
   "metadata": {},
   "source": [
    "## 2231번 분해합"
   ]
  },
  {
   "cell_type": "code",
   "execution_count": null,
   "metadata": {},
   "outputs": [],
   "source": [
    "N = int(input())\n",
    "result = []\n",
    "for num in range(1,N+1):\n",
    "    if N == num+sum([int(i) for i in str(num)]):\n",
    "        print(num)\n",
    "        break\n",
    "if num == N:\n",
    "    print(0)"
   ]
  },
  {
   "cell_type": "markdown",
   "metadata": {},
   "source": [
    "## 7568번 덩치"
   ]
  },
  {
   "cell_type": "code",
   "execution_count": null,
   "metadata": {},
   "outputs": [],
   "source": [
    "N = int(input())\n",
    "people = []\n",
    "for _ in range(N):\n",
    "    h, w = map(int, input().split())\n",
    "    people.append((h,w))\n",
    "ans = [1 for i in range(N)]\n",
    "\n",
    "for i in range(N):\n",
    "    cnt = 0\n",
    "    for j in range(N):\n",
    "        if i == j:\n",
    "            continue\n",
    "        elif people[i][0] < people[j][0] and people[i][1] < people[j][1]:\n",
    "            cnt+=1\n",
    "    ans[i] += cnt\n",
    "\n",
    "print(\" \".join(list(map(str, ans))))"
   ]
  },
  {
   "cell_type": "markdown",
   "metadata": {},
   "source": [
    "## 1018번 체스판 다시 칠하기"
   ]
  },
  {
   "cell_type": "code",
   "execution_count": null,
   "metadata": {},
   "outputs": [],
   "source": [
    "N, M = map(int, input().split())\n",
    "chessboard = []\n",
    "\n",
    "for _ in range(N):\n",
    "    chessboard.append(list(input()))\n",
    "\n",
    "ans1 = ['B','W','B','W','B','W','B','W']\n",
    "ans2 = ['W','B','W','B','W','B','W','B']\n",
    "B, W = [], []\n",
    "\n",
    "for _ in range(4):\n",
    "    B.append(ans1)\n",
    "    B.append(ans2)\n",
    "    W.append(ans2)\n",
    "    W.append(ans1)\n",
    "    \n",
    "result = 64\n",
    "\n",
    "for i in range(N-7):\n",
    "    for j in range(M-7):\n",
    "        cnt_B = 0\n",
    "        cnt_W = 0\n",
    "        \n",
    "        for row in range(8):\n",
    "            for col in range(8):\n",
    "                if chessboard[i+row][j+col] != B[row][col]:\n",
    "                    cnt_B += 1\n",
    "                if chessboard[i+row][j+col] != W[row][col]:\n",
    "                    cnt_W += 1\n",
    "        result = min(result, cnt_B, cnt_W)\n",
    "\n",
    "print(result)"
   ]
  },
  {
   "cell_type": "markdown",
   "metadata": {},
   "source": [
    "## 1436번 영화감독 숌"
   ]
  },
  {
   "cell_type": "code",
   "execution_count": null,
   "metadata": {},
   "outputs": [],
   "source": [
    "N = int(input())\n",
    "\n",
    "num = 666\n",
    "count = 0\n",
    "\n",
    "while True: \n",
    "    if str(666) in str(num):\n",
    "        count+=1\n",
    "        if count==N:\n",
    "            break\n",
    "    num+=1\n",
    "    \n",
    "print(num)"
   ]
  },
  {
   "cell_type": "markdown",
   "metadata": {},
   "source": [
    "## 2750번 수 정렬하기"
   ]
  },
  {
   "cell_type": "code",
   "execution_count": null,
   "metadata": {},
   "outputs": [],
   "source": [
    "N = int(input())\n",
    "num = []\n",
    "\n",
    "for _ in range(N):\n",
    "    num.append(int(input()))\n",
    "    \n",
    "num.sort()\n",
    "\n",
    "print(\"\\n\".join(map(str,num)))"
   ]
  },
  {
   "cell_type": "markdown",
   "metadata": {},
   "source": [
    "## 10989번 수 정렬하기 3"
   ]
  },
  {
   "cell_type": "code",
   "execution_count": null,
   "metadata": {},
   "outputs": [],
   "source": [
    "# 카운팅 정렬 사용\n",
    "# 엄청 많으면 sys를 쓰자"
   ]
  },
  {
   "cell_type": "code",
   "execution_count": null,
   "metadata": {},
   "outputs": [],
   "source": [
    "import sys\n",
    "\n",
    "N = int(input())\n",
    "count_list = [0]*10001\n",
    "\n",
    "for _ in range(N):\n",
    "    i = int(sys.stdin.readline())\n",
    "    count_list[i] += 1\n",
    "    \n",
    "for j in range(1, 10001):\n",
    "    count = count_list[j]\n",
    "    for _ in range(count):\n",
    "        print(j)"
   ]
  },
  {
   "cell_type": "markdown",
   "metadata": {},
   "source": [
    "## 2108번 통계학"
   ]
  },
  {
   "cell_type": "code",
   "execution_count": null,
   "metadata": {},
   "outputs": [],
   "source": [
    "# 정렬하는 법들 잘 생각하기"
   ]
  },
  {
   "cell_type": "code",
   "execution_count": null,
   "metadata": {},
   "outputs": [],
   "source": [
    "import sys\n",
    "from collections import Counter\n",
    "\n",
    "N = int(input())\n",
    "numbers = []\n",
    "\n",
    "for _ in range(N):\n",
    "    numbers.append(int(sys.stdin.readline()))\n",
    "    \n",
    "most = sorted(list(Counter(numbers).most_common()), key = lambda x: [x[-1],x[0]],reverse=True)\n",
    "rank = 1\n",
    "rank_list = []ㅡㅡ\n",
    "\n",
    "\n",
    "for x, y in most:\n",
    "    if y == most[0][-1]:\n",
    "        rank_list.append(x)\n",
    "    else:\n",
    "        rank+=1\n",
    "\n",
    "    if rank == 2:\n",
    "        break\n",
    "if len(rank_list) >=2:\n",
    "    rank = rank_list[-2]\n",
    "else:\n",
    "    rank = rank_list[-1]\n",
    "    \n",
    "print(round(sum(numbers)/N))\n",
    "print(sorted(numbers)[len(numbers)//2])\n",
    "print(rank)\n",
    "print(max(numbers)-min(numbers))\n",
    "\n",
    "# 길이 조건들과 Sort 잘 생각하자!"
   ]
  },
  {
   "cell_type": "markdown",
   "metadata": {},
   "source": [
    "# 스택"
   ]
  },
  {
   "cell_type": "markdown",
   "metadata": {},
   "source": [
    "## 10828 스택"
   ]
  },
  {
   "cell_type": "code",
   "execution_count": null,
   "metadata": {},
   "outputs": [],
   "source": [
    "import sys\n",
    "num = int(sys.stdin.readline().strip())\n",
    "numbers = []\n",
    "\n",
    "for _ in range(num):\n",
    "    target = isys.stdin.readline().strip()\n",
    "    \n",
    "    if 'push' in target:\n",
    "        numbers.append(target.split()[-1])\n",
    "        \n",
    "    elif 'top' in target:\n",
    "        try:\n",
    "            print(numbers[-1])\n",
    "            \n",
    "        except:\n",
    "            print('-1')\n",
    "            \n",
    "    elif 'size' in target:\n",
    "        print(len(numbers))\n",
    "        \n",
    "    elif 'empty' in target:\n",
    "        if len(numbers)==0:\n",
    "            print('1')\n",
    "        else:\n",
    "            print('0')\n",
    "    else:\n",
    "        try:\n",
    "            print(numbers[-1])\n",
    "            numbers.pop()\n",
    "        except:\n",
    "            print('-1')"
   ]
  },
  {
   "cell_type": "markdown",
   "metadata": {},
   "source": [
    "## 10773 제로"
   ]
  },
  {
   "cell_type": "code",
   "execution_count": null,
   "metadata": {},
   "outputs": [],
   "source": [
    "import sys\n",
    "\n",
    "num = int(sys.stdin.readline().strip())\n",
    "target = []\n",
    "\n",
    "for _ in range(num):\n",
    "    number = int(sys.stdin.readline().strip())\n",
    "    \n",
    "    if number > 0:\n",
    "        target.append(number)\n",
    "        \n",
    "    else:\n",
    "        target.pop()\n",
    "        \n",
    "print(sum(target))"
   ]
  },
  {
   "cell_type": "markdown",
   "metadata": {},
   "source": [
    "## 9012 괄호"
   ]
  },
  {
   "cell_type": "code",
   "execution_count": null,
   "metadata": {},
   "outputs": [],
   "source": [
    "num = int(input())\n",
    "\n",
    "def check(target):\n",
    "    stack = []\n",
    "    \n",
    "    for item in target:\n",
    "        if item == '(':\n",
    "            stack.append(item)\n",
    "        else:\n",
    "            if len(stack) == 0:\n",
    "                print('NO')\n",
    "                return\n",
    "            else:\n",
    "                stack.pop()\n",
    "    \n",
    "    if len(stack) == 0:\n",
    "        print('YES')\n",
    "        return\n",
    "    \n",
    "    else:\n",
    "        print('NO')\n",
    "        return\n",
    "    \n",
    "    \n",
    "for i in range(num):\n",
    "    target = list(input())\n",
    "    check(target)"
   ]
  },
  {
   "cell_type": "markdown",
   "metadata": {},
   "source": [
    "## 4949번 균형잡힌 세상"
   ]
  },
  {
   "cell_type": "code",
   "execution_count": null,
   "metadata": {},
   "outputs": [],
   "source": [
    "import re\n",
    "target = ''\n",
    "\n",
    "def check (target):\n",
    "    target = re.findall('\\[|\\]|\\(|\\)', target)\n",
    "    \n",
    "    stack = []\n",
    "    \n",
    "    for item in target:\n",
    "        if item == \"(\":\n",
    "            stack.append(item)\n",
    "        elif item == \")\":\n",
    "            if len(stack) == 0:\n",
    "                print('no')\n",
    "                return\n",
    "            elif stack[-1] == '(':\n",
    "                stack.pop()\n",
    "            else:\n",
    "                print('no')\n",
    "                return\n",
    "                \n",
    "        elif item == '[':\n",
    "            stack.append(item)\n",
    "        elif item == ']':\n",
    "            if len(stack) == 0:\n",
    "                print('no')\n",
    "                return\n",
    "            elif stack[-1] == '[':\n",
    "                stack.pop()\n",
    "            else:\n",
    "                print('no')\n",
    "                return\n",
    "            \n",
    "    if len(stack) == 0:\n",
    "        print('yes')\n",
    "        return\n",
    "    \n",
    "    else:\n",
    "        print('no')\n",
    "        return\n",
    "    \n",
    "while True:\n",
    "    target = input()\n",
    "    if target == '.':\n",
    "        break\n",
    "    check(target)"
   ]
  },
  {
   "cell_type": "markdown",
   "metadata": {},
   "source": [
    "## 1874번 스택 수열"
   ]
  },
  {
   "cell_type": "code",
   "execution_count": null,
   "metadata": {},
   "outputs": [],
   "source": []
  }
 ],
 "metadata": {
  "kernelspec": {
   "display_name": "Python 3 (ipykernel)",
   "language": "python",
   "name": "python3"
  },
  "language_info": {
   "codemirror_mode": {
    "name": "ipython",
    "version": 3
   },
   "file_extension": ".py",
   "mimetype": "text/x-python",
   "name": "python",
   "nbconvert_exporter": "python",
   "pygments_lexer": "ipython3",
   "version": "3.8.10"
  }
 },
 "nbformat": 4,
 "nbformat_minor": 4
}
