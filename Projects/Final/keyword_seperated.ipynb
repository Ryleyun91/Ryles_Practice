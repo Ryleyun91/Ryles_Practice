{
 "cells": [
  {
   "cell_type": "code",
   "execution_count": 1,
   "id": "580fd3bb",
   "metadata": {},
   "outputs": [
    {
     "data": {
      "text/plain": [
       "'/Users/ryleyun/Desktop/Github/Ryles_Practice'"
      ]
     },
     "execution_count": 1,
     "metadata": {},
     "output_type": "execute_result"
    }
   ],
   "source": [
    "import os\n",
    "os.getcwd()"
   ]
  },
  {
   "cell_type": "code",
   "execution_count": 2,
   "id": "3486947e",
   "metadata": {},
   "outputs": [],
   "source": [
    "os.chdir(\"../../AutoCrawler/download\")"
   ]
  },
  {
   "cell_type": "code",
   "execution_count": 11,
   "id": "4a2ec271",
   "metadata": {},
   "outputs": [],
   "source": [
    "crawled_keyword = os.listdir()\n",
    "data = open(\"../keywords.txt\")\n",
    "words = data.readlines()\n",
    "\n",
    "import re\n",
    "keywords = []\n",
    "for i in words:\n",
    "    keywords.append(re.sub(\"\\n\", \"\", i))\n",
    "    \n",
    "keys = []\n",
    "\n",
    "for word in keywords:\n",
    "    if word not in crawled_keyword:\n",
    "        keys.append(word)"
   ]
  },
  {
   "cell_type": "code",
   "execution_count": 12,
   "id": "871ad39e",
   "metadata": {},
   "outputs": [
    {
     "data": {
      "text/plain": [
       "26226"
      ]
     },
     "execution_count": 12,
     "metadata": {},
     "output_type": "execute_result"
    }
   ],
   "source": [
    "len(keywords)"
   ]
  },
  {
   "cell_type": "code",
   "execution_count": 17,
   "id": "f82d2444",
   "metadata": {},
   "outputs": [],
   "source": [
    "YGY = keys[:12000]\n",
    "PSY = keys[12000:]"
   ]
  },
  {
   "cell_type": "code",
   "execution_count": 18,
   "id": "c8ab53fc",
   "metadata": {},
   "outputs": [
    {
     "data": {
      "text/plain": [
       "12000"
      ]
     },
     "execution_count": 18,
     "metadata": {},
     "output_type": "execute_result"
    }
   ],
   "source": [
    "len(YGY)"
   ]
  },
  {
   "cell_type": "code",
   "execution_count": 19,
   "id": "56fbaa0f",
   "metadata": {},
   "outputs": [
    {
     "data": {
      "text/plain": [
       "10742"
      ]
     },
     "execution_count": 19,
     "metadata": {},
     "output_type": "execute_result"
    }
   ],
   "source": [
    "len(PSY)"
   ]
  },
  {
   "cell_type": "code",
   "execution_count": 20,
   "id": "e8643e25",
   "metadata": {},
   "outputs": [],
   "source": [
    "import pandas as pd\n",
    "df = pd.DataFrame(PSY)"
   ]
  },
  {
   "cell_type": "code",
   "execution_count": 21,
   "id": "79b41b88",
   "metadata": {},
   "outputs": [],
   "source": [
    "df.to_csv(\"PSY_keywords.csv\", encoding='utf-8')"
   ]
  },
  {
   "cell_type": "code",
   "execution_count": 22,
   "id": "4a39b9ee",
   "metadata": {},
   "outputs": [
    {
     "data": {
      "text/plain": [
       "'/Users/ryleyun/Desktop/AutoCrawler/download'"
      ]
     },
     "execution_count": 22,
     "metadata": {},
     "output_type": "execute_result"
    }
   ],
   "source": [
    "os.getcwd()"
   ]
  },
  {
   "cell_type": "code",
   "execution_count": 23,
   "id": "648d49d8",
   "metadata": {},
   "outputs": [],
   "source": [
    "new_keywords = crawled_keyword+YGY"
   ]
  },
  {
   "cell_type": "code",
   "execution_count": 24,
   "id": "34beb006",
   "metadata": {},
   "outputs": [
    {
     "data": {
      "text/plain": [
       "15485"
      ]
     },
     "execution_count": 24,
     "metadata": {},
     "output_type": "execute_result"
    }
   ],
   "source": [
    "len(new_keywords)"
   ]
  },
  {
   "cell_type": "code",
   "execution_count": 25,
   "id": "071bc37a",
   "metadata": {},
   "outputs": [],
   "source": [
    "import pandas as pd\n",
    "df = pd.DataFrame(new_keywords)\n",
    "df.to_csv(\"new_keywords.csv\", encoding='utf-8')"
   ]
  },
  {
   "cell_type": "code",
   "execution_count": null,
   "id": "440c30fc",
   "metadata": {},
   "outputs": [],
   "source": []
  }
 ],
 "metadata": {
  "kernelspec": {
   "display_name": "Python 3 (ipykernel)",
   "language": "python",
   "name": "python3"
  },
  "language_info": {
   "codemirror_mode": {
    "name": "ipython",
    "version": 3
   },
   "file_extension": ".py",
   "mimetype": "text/x-python",
   "name": "python",
   "nbconvert_exporter": "python",
   "pygments_lexer": "ipython3",
   "version": "3.8.10"
  }
 },
 "nbformat": 4,
 "nbformat_minor": 5
}
