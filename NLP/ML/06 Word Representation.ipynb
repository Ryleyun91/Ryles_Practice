{
 "cells": [
  {
   "cell_type": "markdown",
   "metadata": {
    "id": "I_TVhSXBJk2g"
   },
   "source": [
    "# 단어의 표현 (Word Representation)\n",
    "\n",
    "\n",
    "기계는 문자를 그대로 인식할 수 없기때문에 숫자로 변환\n",
    "\n"
   ]
  },
  {
   "cell_type": "markdown",
   "metadata": {
    "id": "tvwJYK2WJp3e"
   },
   "source": [
    "# 1 원-핫 인코딩 (One-Hot Encoding)"
   ]
  },
  {
   "cell_type": "markdown",
   "metadata": {
    "id": "56ssCRkrSHVJ"
   },
   "source": [
    "### 1.1 직접 구현해보기"
   ]
  },
  {
   "cell_type": "markdown",
   "metadata": {
    "id": "64_tK53CLEAw"
   },
   "source": [
    "### \"원숭이, 바나나, 사과\" 로 원-핫 인코딩을 한다면"
   ]
  },
  {
   "cell_type": "code",
   "execution_count": 1,
   "metadata": {
    "id": "DtPpS_EkFmpg"
   },
   "outputs": [],
   "source": [
    "# 인코딩 대상 단어들을 담은 리스트\n",
    "word_ls = ['원숭이','바나나','사과','사과']"
   ]
  },
  {
   "cell_type": "markdown",
   "metadata": {},
   "source": [
    "##### - defaultdict는 value에 default를 가지고 있어서, key만 선언해도 자동으로 value를 default로 mapping해 줌."
   ]
  },
  {
   "cell_type": "code",
   "execution_count": 38,
   "metadata": {
    "id": "4TPATy0HFqCi"
   },
   "outputs": [],
   "source": [
    "from collections import defaultdict\n",
    "import numpy as np \n",
    "\n",
    "def one_hot_encode(word_ls):\n",
    "    word2id = defaultdict(lambda : len(word2id))\n",
    "    \n",
    "    for word in word_ls:\n",
    "        word2id[word]\n",
    "\n",
    "    unique_words = len(word2id)\n",
    "    one_hot_vectors = np.zeros((len(word_ls), unique_words))\n",
    "    \n",
    "    for i, word in enumerate(word_ls):\n",
    "        index = word2id[word]\n",
    "        one_hot_vectors[i, index] = 1\n",
    "    \n",
    "    return one_hot_vectors"
   ]
  },
  {
   "cell_type": "code",
   "execution_count": 39,
   "metadata": {
    "colab": {
     "base_uri": "https://localhost:8080/"
    },
    "executionInfo": {
     "elapsed": 2779,
     "status": "ok",
     "timestamp": 1615215799219,
     "user": {
      "displayName": "홍경수",
      "photoUrl": "",
      "userId": "10514684854108920109"
     },
     "user_tz": -540
    },
    "id": "hCH7j4onKvzt",
    "outputId": "255b52b9-0123-4186-dfd3-71ce089ebd9a"
   },
   "outputs": [
    {
     "data": {
      "text/plain": [
       "array([[1., 0., 0.],\n",
       "       [0., 1., 0.],\n",
       "       [0., 0., 1.],\n",
       "       [0., 0., 1.]])"
      ]
     },
     "execution_count": 39,
     "metadata": {},
     "output_type": "execute_result"
    }
   ],
   "source": [
    "one_hot_vectors = one_hot_encode(word_ls)\n",
    "one_hot_vectors"
   ]
  },
  {
   "cell_type": "markdown",
   "metadata": {
    "id": "jSozqBtyLKnP"
   },
   "source": [
    "### \"코끼리\"라는 단어가 추가된다면?"
   ]
  },
  {
   "cell_type": "code",
   "execution_count": 40,
   "metadata": {
    "id": "SVITUcpOKxLy"
   },
   "outputs": [],
   "source": [
    "word_ls = ['원숭이','바나나','사과','코끼리']"
   ]
  },
  {
   "cell_type": "code",
   "execution_count": 41,
   "metadata": {
    "colab": {
     "base_uri": "https://localhost:8080/"
    },
    "executionInfo": {
     "elapsed": 2773,
     "status": "ok",
     "timestamp": 1615215799220,
     "user": {
      "displayName": "홍경수",
      "photoUrl": "",
      "userId": "10514684854108920109"
     },
     "user_tz": -540
    },
    "id": "-GNKR6CDLiy6",
    "outputId": "ec492781-d3ff-4f7b-c3ca-37bbefe15527"
   },
   "outputs": [
    {
     "data": {
      "text/plain": [
       "array([[1., 0., 0., 0.],\n",
       "       [0., 1., 0., 0.],\n",
       "       [0., 0., 1., 0.],\n",
       "       [0., 0., 0., 1.]])"
      ]
     },
     "execution_count": 41,
     "metadata": {},
     "output_type": "execute_result"
    }
   ],
   "source": [
    "one_hot_vectors = one_hot_encode(word_ls)\n",
    "one_hot_vectors"
   ]
  },
  {
   "cell_type": "markdown",
   "metadata": {
    "id": "0zuG3Gj3dLkK"
   },
   "source": [
    "## 1.3 sklearn 활용"
   ]
  },
  {
   "cell_type": "markdown",
   "metadata": {
    "id": "apagu5-2VDkF"
   },
   "source": [
    "\n",
    "함수명 | 설명\n",
    "--|--\n",
    "fit(X[, y])\t| Fit OneHotEncoder to X.\n",
    "fit_transform(X[, y])\t| Fit OneHotEncoder to X, then transform X.\n",
    "inverse_transform(X)\t| Convert the back data to the original representation.\n",
    "transform(X)\t| Transform X using one-hot encoding."
   ]
  },
  {
   "cell_type": "code",
   "execution_count": 56,
   "metadata": {
    "colab": {
     "base_uri": "https://localhost:8080/"
    },
    "executionInfo": {
     "elapsed": 2768,
     "status": "ok",
     "timestamp": 1615215799221,
     "user": {
      "displayName": "홍경수",
      "photoUrl": "",
      "userId": "10514684854108920109"
     },
     "user_tz": -540
    },
    "id": "b7I0OUJkTVKK",
    "outputId": "02bc9fa1-03ae-4b8a-a02f-efe728eb5928"
   },
   "outputs": [],
   "source": [
    "# sklearn을 활용한 one-hot encoding\n",
    "from numpy import array\n",
    "from numpy import argmax\n",
    "from sklearn.preprocessing import LabelEncoder\n",
    "from sklearn.preprocessing import OneHotEncoder\n",
    "\n",
    "values = np.array(word_ls)\n",
    "label_enc = LabelEncoder()\n",
    "int_enc = label_enc.fit_transform(values)\n",
    "\n",
    "onehot_enc = OneHotEncoder()\n",
    "int_enc = int_enc.reshape((-1,1))\n",
    "onehot_enc = onehot_enc.fit_transform(int_enc)"
   ]
  },
  {
   "cell_type": "code",
   "execution_count": 58,
   "metadata": {
    "colab": {
     "base_uri": "https://localhost:8080/"
    },
    "executionInfo": {
     "elapsed": 2762,
     "status": "ok",
     "timestamp": 1615215799221,
     "user": {
      "displayName": "홍경수",
      "photoUrl": "",
      "userId": "10514684854108920109"
     },
     "user_tz": -540
    },
    "id": "FbiGSY09uNqW",
    "outputId": "4b4f705e-456e-4635-bca8-c921681b13d6"
   },
   "outputs": [
    {
     "data": {
      "text/plain": [
       "array([[0., 0., 1., 0.],\n",
       "       [1., 0., 0., 0.],\n",
       "       [0., 1., 0., 0.],\n",
       "       [0., 0., 0., 1.]])"
      ]
     },
     "execution_count": 58,
     "metadata": {},
     "output_type": "execute_result"
    }
   ],
   "source": [
    "onehot_enc.toarray()"
   ]
  },
  {
   "cell_type": "code",
   "execution_count": 59,
   "metadata": {
    "colab": {
     "base_uri": "https://localhost:8080/"
    },
    "executionInfo": {
     "elapsed": 2755,
     "status": "ok",
     "timestamp": 1615215799221,
     "user": {
      "displayName": "홍경수",
      "photoUrl": "",
      "userId": "10514684854108920109"
     },
     "user_tz": -540
    },
    "id": "lJq3-EH38oQQ",
    "outputId": "5f0d146b-77f3-4603-e14e-f7b83eba1f57"
   },
   "outputs": [
    {
     "data": {
      "text/plain": [
       "2"
      ]
     },
     "execution_count": 59,
     "metadata": {},
     "output_type": "execute_result"
    }
   ],
   "source": [
    "## argmax는 가장 큰 곳의 인덱스를 반환하는 함수\n",
    "argmax(onehot_enc[0,:])"
   ]
  },
  {
   "cell_type": "code",
   "execution_count": 61,
   "metadata": {
    "colab": {
     "base_uri": "https://localhost:8080/"
    },
    "executionInfo": {
     "elapsed": 2751,
     "status": "ok",
     "timestamp": 1615215799222,
     "user": {
      "displayName": "홍경수",
      "photoUrl": "",
      "userId": "10514684854108920109"
     },
     "user_tz": -540
    },
    "id": "osX0Dh758sWm",
    "outputId": "89f7890b-e283-406d-b00a-fcbf67c93cbb"
   },
   "outputs": [
    {
     "data": {
      "text/plain": [
       "array(['원숭이'], dtype='<U3')"
      ]
     },
     "execution_count": 61,
     "metadata": {},
     "output_type": "execute_result"
    }
   ],
   "source": [
    "label_enc.inverse_transform([np.argmax(onehot_enc[0, :])])"
   ]
  },
  {
   "cell_type": "markdown",
   "metadata": {
    "id": "YpcEUwjmGjq-"
   },
   "source": [
    "\n",
    "\n",
    "---\n",
    "\n"
   ]
  },
  {
   "cell_type": "markdown",
   "metadata": {
    "id": "BG0cSbZRMUK5"
   },
   "source": [
    "# 2 밀집 벡터 (Dense Vector)"
   ]
  },
  {
   "cell_type": "code",
   "execution_count": 62,
   "metadata": {
    "id": "jN24SjnVMaFg"
   },
   "outputs": [],
   "source": [
    "word_embedding_dic = {\n",
    "    '사과' : [1.0, 0.5],\n",
    "    '바나나' : [0.9, 1.2],\n",
    "    '원숭이' : [0.5, 1.5]\n",
    "}"
   ]
  },
  {
   "cell_type": "markdown",
   "metadata": {
    "id": "K9zOKu3Hd49Q"
   },
   "source": [
    "## 2-1 유사도 계산"
   ]
  },
  {
   "cell_type": "markdown",
   "metadata": {
    "id": "oaHlpji5epCE"
   },
   "source": [
    "### 2.1.1 유클리디언 거리(Euclidean distance)\n",
    "두 벡터사이의 직선 거리. 피타고라스 정리를 생각하면 이해하기 쉬움"
   ]
  },
  {
   "cell_type": "markdown",
   "metadata": {
    "id": "kLqyanO4ggNv"
   },
   "source": [
    "<img src=\"https://upload.wikimedia.org/wikipedia/commons/thumb/5/55/Euclidean_distance_2d.svg/220px-Euclidean_distance_2d.svg.png\"  width=\"200\"/>\n",
    "\n",
    "<img src=\"https://wikimedia.org/api/rest_v1/media/math/render/svg/795b967db2917cdde7c2da2d1ee327eb673276c0\" width=\"350\"/>\n",
    "\n",
    "https://en.wikipedia.org/wiki/Euclidean_distance"
   ]
  },
  {
   "cell_type": "code",
   "execution_count": 70,
   "metadata": {
    "colab": {
     "base_uri": "https://localhost:8080/"
    },
    "executionInfo": {
     "elapsed": 2744,
     "status": "ok",
     "timestamp": 1615215799223,
     "user": {
      "displayName": "홍경수",
      "photoUrl": "",
      "userId": "10514684854108920109"
     },
     "user_tz": -540
    },
    "id": "MuK3qKuCfQZN",
    "outputId": "bbe76a35-d6c5-40e8-c324-21a87b0ab84a"
   },
   "outputs": [
    {
     "data": {
      "text/plain": [
       "0.6"
      ]
     },
     "execution_count": 70,
     "metadata": {},
     "output_type": "execute_result"
    }
   ],
   "source": [
    "import numpy as np\n",
    "\n",
    "def euclidean_dist(x,y):   \n",
    "    x = np.array(x)\n",
    "    y = np.array(y)\n",
    "    \n",
    "    return np.sqrt(np.sum(x-y)**2)\n",
    "    \n",
    "# 사과와 바나나의 유클리디안 유사도\n",
    "euclidean_dist(word_embedding_dic['사과'], word_embedding_dic['바나나'])"
   ]
  },
  {
   "cell_type": "markdown",
   "metadata": {
    "id": "j0_kplkjool0"
   },
   "source": [
    "<img src=\"https://www.oreilly.com/library/view/statistics-for-machine/9781788295758/assets/2b4a7a82-ad4c-4b2a-b808-e423a334de6f.png\" width=\"300\"/>\n",
    "\n",
    "<img src=\"https://wikimedia.org/api/rest_v1/media/math/render/svg/1d94e5903f7936d3c131e040ef2c51b473dd071d\" width='350'/>\n",
    "\n",
    "https://en.wikipedia.org/wiki/Cosine_similarity"
   ]
  },
  {
   "cell_type": "markdown",
   "metadata": {
    "id": "Eq3OT71-Mho1"
   },
   "source": [
    "### 2.1.2 코사인 유사도(Cosine Similarity) \n",
    "\n",
    "*  두 벡터간의 유사도를 측정하는 방법 중 하나\n",
    "*  두 벡터 사이의 코사인을 측정\n",
    "*  0도 = 1, 90도 = 0, 180도 = -1   ==> 1에 가까울수록 유사도가 높음\n",
    "\n",
    "\n"
   ]
  },
  {
   "cell_type": "code",
   "execution_count": 75,
   "metadata": {
    "id": "B0KdUJ2sMaOZ"
   },
   "outputs": [],
   "source": [
    "def cosine_similarity(x, y):\n",
    "    nom = np.dot(x, y) #분자\n",
    "    dem = np.linalg.norm(x) * np.linalg.norm(y) #분모\n",
    "    return nom/dem"
   ]
  },
  {
   "cell_type": "code",
   "execution_count": 71,
   "metadata": {
    "colab": {
     "base_uri": "https://localhost:8080/"
    },
    "executionInfo": {
     "elapsed": 2738,
     "status": "ok",
     "timestamp": 1615215799224,
     "user": {
      "displayName": "홍경수",
      "photoUrl": "",
      "userId": "10514684854108920109"
     },
     "user_tz": -540
    },
    "id": "9h6nA8G-7CQM",
    "outputId": "e5ffd700-68d7-4080-8b4f-89a81de7a52b"
   },
   "outputs": [
    {
     "data": {
      "text/plain": [
       "1.5"
      ]
     },
     "execution_count": 71,
     "metadata": {},
     "output_type": "execute_result"
    }
   ],
   "source": [
    "a = np.array(word_embedding_dic['사과'])\n",
    "b = np.array(word_embedding_dic['바나나'])\n",
    "np.dot(a, b)"
   ]
  },
  {
   "cell_type": "markdown",
   "metadata": {
    "id": "o0RG6HjO61st"
   },
   "source": [
    "numpy의 linalg 서브 패키지의 norm 명령으로 벡터의 길이를 계산할 수 있다. 위에서 예로 든 2차원 벡터  𝑎=[1,2] 의 길이는  √5≈2.236 이다."
   ]
  },
  {
   "cell_type": "markdown",
   "metadata": {
    "id": "BF8D_P367Sp7"
   },
   "source": []
  },
  {
   "cell_type": "code",
   "execution_count": 74,
   "metadata": {
    "colab": {
     "base_uri": "https://localhost:8080/"
    },
    "executionInfo": {
     "elapsed": 2732,
     "status": "ok",
     "timestamp": 1615215799224,
     "user": {
      "displayName": "홍경수",
      "photoUrl": "",
      "userId": "10514684854108920109"
     },
     "user_tz": -540
    },
    "id": "AfhQ9upY6wq-",
    "outputId": "708e196e-35e9-47bc-8fb9-8c40e64f935c"
   },
   "outputs": [
    {
     "data": {
      "text/plain": [
       "2.23606797749979"
      ]
     },
     "execution_count": 74,
     "metadata": {},
     "output_type": "execute_result"
    }
   ],
   "source": [
    "a = np.array([1,2])\n",
    "np.linalg.norm(a)"
   ]
  },
  {
   "cell_type": "code",
   "execution_count": 76,
   "metadata": {
    "colab": {
     "base_uri": "https://localhost:8080/"
    },
    "executionInfo": {
     "elapsed": 2727,
     "status": "ok",
     "timestamp": 1615215799224,
     "user": {
      "displayName": "홍경수",
      "photoUrl": "",
      "userId": "10514684854108920109"
     },
     "user_tz": -540
    },
    "id": "EIHKQr1JMnt3",
    "outputId": "e782c0a8-d0bf-42f0-bd36-b147b5aec27c"
   },
   "outputs": [
    {
     "name": "stdout",
     "output_type": "stream",
     "text": [
      "0.8944271909999159\n",
      "0.6\n"
     ]
    }
   ],
   "source": [
    "# 사과와 바나나의 코사인 유사도\n",
    "print(cosine_similarity(word_embedding_dic['사과'], word_embedding_dic['바나나']))\n",
    "print(euclidean_dist(word_embedding_dic['사과'], word_embedding_dic['바나나']))"
   ]
  },
  {
   "cell_type": "code",
   "execution_count": 78,
   "metadata": {
    "colab": {
     "base_uri": "https://localhost:8080/"
    },
    "executionInfo": {
     "elapsed": 2722,
     "status": "ok",
     "timestamp": 1615215799225,
     "user": {
      "displayName": "홍경수",
      "photoUrl": "",
      "userId": "10514684854108920109"
     },
     "user_tz": -540
    },
    "id": "3AR90MO-Mn25",
    "outputId": "73194956-b885-4b29-814a-e6959ec3321d"
   },
   "outputs": [
    {
     "name": "stdout",
     "output_type": "stream",
     "text": [
      "0.7071067811865475\n",
      "0.5\n"
     ]
    }
   ],
   "source": [
    "# 사과와 원숭이의 코사인 유사도\n",
    "print(cosine_similarity(word_embedding_dic['사과'], word_embedding_dic['원숭이']))\n",
    "print(euclidean_dist(word_embedding_dic['사과'], word_embedding_dic['원숭이']))"
   ]
  },
  {
   "cell_type": "code",
   "execution_count": 79,
   "metadata": {
    "colab": {
     "base_uri": "https://localhost:8080/"
    },
    "executionInfo": {
     "elapsed": 2717,
     "status": "ok",
     "timestamp": 1615215799225,
     "user": {
      "displayName": "홍경수",
      "photoUrl": "",
      "userId": "10514684854108920109"
     },
     "user_tz": -540
    },
    "id": "1MSy0DYTMoDy",
    "outputId": "228764a2-166d-40a5-9e76-2c917dda6d26"
   },
   "outputs": [
    {
     "name": "stdout",
     "output_type": "stream",
     "text": [
      "0.9486832980505138\n",
      "0.09999999999999998\n"
     ]
    }
   ],
   "source": [
    "# 바나나와 원숭이의 코사인 유사도\n",
    "print(cosine_similarity(word_embedding_dic['바나나'], word_embedding_dic['원숭이']))\n",
    "print(euclidean_dist(word_embedding_dic['바나나'], word_embedding_dic['원숭이']))"
   ]
  },
  {
   "cell_type": "markdown",
   "metadata": {
    "id": "tgDBpcUlewCn"
   },
   "source": [
    "### 2.1.3 자카드 유사도(Jaccard index) - 문장 유사도\n",
    "##### -> 겹치는 토큰의 비율을 확인!"
   ]
  },
  {
   "cell_type": "markdown",
   "metadata": {
    "id": "3GrLhpFGksn3"
   },
   "source": [
    "<img src=\"https://upload.wikimedia.org/wikipedia/commons/thumb/1/1f/Intersection_of_sets_A_and_B.svg/200px-Intersection_of_sets_A_and_B.svg.png\" />\n",
    "\n",
    "<img src=\"https://wikimedia.org/api/rest_v1/media/math/render/svg/eaef5aa86949f49e7dc6b9c8c3dd8b233332c9e7\" />\n",
    "\n",
    "https://en.wikipedia.org/wiki/Jaccard_index"
   ]
  },
  {
   "cell_type": "code",
   "execution_count": 89,
   "metadata": {
    "colab": {
     "base_uri": "https://localhost:8080/"
    },
    "executionInfo": {
     "elapsed": 2712,
     "status": "ok",
     "timestamp": 1615215799226,
     "user": {
      "displayName": "홍경수",
      "photoUrl": "",
      "userId": "10514684854108920109"
     },
     "user_tz": -540
    },
    "id": "uBhzYo5Slphr",
    "outputId": "03c1927b-cba0-41bb-f1b6-7761943bf6a2"
   },
   "outputs": [
    {
     "name": "stdout",
     "output_type": "stream",
     "text": [
      "0.3333333333333333\n"
     ]
    }
   ],
   "source": [
    "s1 = '대부분 원숭이는 바나나를 좋아합니다.'\n",
    "s2 = '코주부 원숭이는 바나나를 싫어합니다.'\n",
    "\n",
    "token_1 = s1.split()\n",
    "token_2 = s2.split()\n",
    "\n",
    "union_set = set(token_1)|set(token_2) #합\n",
    "inter_set = set(token_1)&set(token_2) #교\n",
    "\n",
    "print(len(inter_set) / len(union_set))"
   ]
  }
 ],
 "metadata": {
  "accelerator": "GPU",
  "colab": {
   "collapsed_sections": [],
   "name": "06 Word Representation",
   "provenance": []
  },
  "kernelspec": {
   "display_name": "Python 3",
   "language": "python",
   "name": "python3"
  },
  "language_info": {
   "codemirror_mode": {
    "name": "ipython",
    "version": 3
   },
   "file_extension": ".py",
   "mimetype": "text/x-python",
   "name": "python",
   "nbconvert_exporter": "python",
   "pygments_lexer": "ipython3",
   "version": "3.8.10"
  }
 },
 "nbformat": 4,
 "nbformat_minor": 1
}
