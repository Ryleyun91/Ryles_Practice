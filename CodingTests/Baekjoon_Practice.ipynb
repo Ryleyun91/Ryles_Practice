{
 "cells": [
  {
   "cell_type": "markdown",
   "metadata": {},
   "source": [
    "##### This is my study note to memorize and remind what I had difficulies in or what I had newly learnt."
   ]
  },
  {
   "cell_type": "markdown",
   "metadata": {},
   "source": [
    "# While"
   ]
  },
  {
   "cell_type": "markdown",
   "metadata": {},
   "source": [
    "## 10951번 (A+B)"
   ]
  },
  {
   "cell_type": "code",
   "execution_count": 1,
   "metadata": {},
   "outputs": [],
   "source": [
    "# while True:\n",
    "#     try:\n",
    "#         cals = input().split()\n",
    "#         A = int(cals[0])\n",
    "#         B = int(cals[-1])\n",
    "#         print(A+B)\n",
    "#     except:\n",
    "#         break"
   ]
  },
  {
   "cell_type": "markdown",
   "metadata": {},
   "source": [
    "- try에서 조건을 만족할 때 계속 while을 돌리다가 예외 상황이 발생하면 except로 처리하여 brea할 수 있음"
   ]
  },
  {
   "cell_type": "markdown",
   "metadata": {},
   "source": [
    "## 1110 (더하기 사이클)"
   ]
  },
  {
   "cell_type": "markdown",
   "metadata": {},
   "source": [
    "### 각 자리수를 더하여 원래 수로 돌아오는 사이클을 확인하는 문제"
   ]
  },
  {
   "cell_type": "code",
   "execution_count": 2,
   "metadata": {},
   "outputs": [],
   "source": [
    "# tmp = inp = int(input())\n",
    "# count = 0\n",
    "# while True:\n",
    "#     ten = tmp//10\n",
    "#     one = tmp%10\n",
    "#     res = ten + one\n",
    "#     count += 1\n",
    "#     tmp = int(str(tmp%10)+str(res%10))\n",
    " \n",
    "#     if (inp==tmp):\n",
    "#         break\n",
    "# print(count)"
   ]
  },
  {
   "cell_type": "markdown",
   "metadata": {},
   "source": [
    "# 함수"
   ]
  },
  {
   "cell_type": "markdown",
   "metadata": {},
   "source": [
    "## 4673번 (셀프 넘버)"
   ]
  },
  {
   "cell_type": "markdown",
   "metadata": {},
   "source": [
    "### 생성자가 없는 수 찾기"
   ]
  },
  {
   "cell_type": "code",
   "execution_count": 3,
   "metadata": {},
   "outputs": [],
   "source": [
    "natural_num = set(range(1, 10001))\n",
    "generated_num = set()\n",
    "\n",
    "for i in range(1, 10001):\n",
    "    for j in str(i):\n",
    "        i += int(j)\n",
    "    generated_num.add(i)\n",
    "\n",
    "self_num = sorted(natural_num - generated_num)\n",
    "\n",
    "# for i in self_num:\n",
    "#     print(i)"
   ]
  },
  {
   "cell_type": "markdown",
   "metadata": {},
   "source": [
    "- 처음에 재귀함수로 해야하는 줄 알고 고민하다가, 생각해 보니 생성자가 없는 숫자를 찾으면 된다는 것을 깨달음."
   ]
  },
  {
   "cell_type": "markdown",
   "metadata": {},
   "source": [
    "# 1065번 (한수: 어떤 양의 정수의 각 자리수가 등차수열을 이루는 수)"
   ]
  },
  {
   "cell_type": "code",
   "execution_count": 8,
   "metadata": {},
   "outputs": [
    {
     "name": "stdout",
     "output_type": "stream",
     "text": [
      "210\n"
     ]
    },
    {
     "data": {
      "text/plain": [
       "105"
      ]
     },
     "execution_count": 8,
     "metadata": {},
     "output_type": "execute_result"
    }
   ],
   "source": [
    "num = int(input())\n",
    "\n",
    "def hansu(num):\n",
    "    count=0\n",
    "    for i in range(1, num+1):\n",
    "        hun = i//100\n",
    "        ten = i%100//10\n",
    "        one = i%10\n",
    "        \n",
    "        if (hun-ten)==(ten-one):\n",
    "            count+=1\n",
    "        elif 100>i:\n",
    "            count+=1\n",
    "            \n",
    "    return print(count)\n",
    "\n",
    "hansu(num)"
   ]
  },
  {
   "cell_type": "markdown",
   "metadata": {},
   "source": [
    "- 백준에서는 반드시 print 해줘야 결과 출력됨"
   ]
  },
  {
   "cell_type": "markdown",
   "metadata": {},
   "source": [
    "# 문자열"
   ]
  },
  {
   "cell_type": "markdown",
   "metadata": {},
   "source": [
    "- 아스키코드 : ord(문자열)\n",
    "- hex : hex(아스키코드)\n",
    "- 아스키코드나 hex로 문자열 출력 : chr(아스키코드|hex)"
   ]
  },
  {
   "cell_type": "markdown",
   "metadata": {},
   "source": [
    "## 1157번 (단어공부)"
   ]
  },
  {
   "cell_type": "markdown",
   "metadata": {},
   "source": [
    "### 알파벳 대소문로 된 단어가 주어지면, 이 단어에서 가장 많이 사용된 알파벳이 무엇인지 알아내는 프로그램을 작성하시오. 단 대문자와 소문자는 구분하지 않는다.\n",
    "##### 첫째 줄에 이 단어에서 가장 많이 사용된 알파벳을 대문자로 출력한다. 단, 가장 많이 사용된 알파벳이 여러 개 존재하는 경우에는 ?를 출력한다"
   ]
  },
  {
   "cell_type": "code",
   "execution_count": 210,
   "metadata": {
    "scrolled": true
   },
   "outputs": [
    {
     "name": "stdout",
     "output_type": "stream",
     "text": [
      "elizabeth\n",
      "E\n"
     ]
    }
   ],
   "source": [
    "from collections import Counter\n",
    "word = input().upper()\n",
    "count = Counter(word)\n",
    "\n",
    "if list(count.values()).count(count.most_common(1)[0][-1]) >= 2:\n",
    "    print(\"?\")\n",
    "else:\n",
    "    print(count.most_common(1)[0][0])"
   ]
  },
  {
   "cell_type": "markdown",
   "metadata": {},
   "source": [
    "- Counter에 대해서 max를 적용하면 key 값중 가장 큰 값이 나옴 (단순히 max를 적용하면 안 됨!)\n",
    "- 최고 빈도를 뽑는 것은 Counter(넣을것).most_common(몇 순위까지) -> [(key,value)]와 같은 형태로 나오니까 슬라이싱 해줘야함"
   ]
  },
  {
   "cell_type": "markdown",
   "metadata": {},
   "source": [
    "## 1316번 (그룹 단어 체커)"
   ]
  },
  {
   "cell_type": "markdown",
   "metadata": {},
   "source": [
    "### ccazzzbb는 c,a,z,b가 모두 연속하므로 그룹 단어, aabbbccb는 b가 떨어져서 나타나기 때문에 그룹단어가 아님"
   ]
  },
  {
   "cell_type": "markdown",
   "metadata": {},
   "source": [
    "##### 내가 푼 것"
   ]
  },
  {
   "cell_type": "code",
   "execution_count": 381,
   "metadata": {},
   "outputs": [
    {
     "name": "stdout",
     "output_type": "stream",
     "text": [
      "4\n",
      "aba\n",
      "abab\n",
      "abcabc\n",
      "a\n",
      "1\n"
     ]
    }
   ],
   "source": [
    "import re\n",
    "\n",
    "num = int(input())\n",
    "count = 0\n",
    "\n",
    "for i in range(num):\n",
    "    inp = input()\n",
    "    check = 0 \n",
    "    inp_set = set(inp)\n",
    "    for i in inp_set:\n",
    "        if re.search(f\"{i}{ {inp.count(i)} }\", inp):\n",
    "            continue\n",
    "        else:\n",
    "            check += 1\n",
    "\n",
    "    if check == 0:\n",
    "        count+=1\n",
    "    \n",
    "print(count)"
   ]
  },
  {
   "cell_type": "markdown",
   "metadata": {},
   "source": [
    "##### 숏코딩"
   ]
  },
  {
   "cell_type": "markdown",
   "metadata": {},
   "source": [
    "- True는 1이다 / False는 0이다 "
   ]
  },
  {
   "cell_type": "code",
   "execution_count": 2,
   "metadata": {},
   "outputs": [
    {
     "name": "stdout",
     "output_type": "stream",
     "text": [
      "2\n",
      "1\n"
     ]
    }
   ],
   "source": [
    "print(1+True)\n",
    "print(1+False)"
   ]
  },
  {
   "cell_type": "code",
   "execution_count": 383,
   "metadata": {},
   "outputs": [
    {
     "name": "stdout",
     "output_type": "stream",
     "text": [
      "4\n",
      "aba\n",
      "abab\n",
      "abcabc\n",
      "a\n",
      "1\n"
     ]
    }
   ],
   "source": [
    "cnt = 0\n",
    "for i in range(int(input())):\n",
    "    word = input()\n",
    "    cnt += list(word) == sorted(word, key = word.find)\n",
    "print(cnt)"
   ]
  },
  {
   "cell_type": "code",
   "execution_count": null,
   "metadata": {},
   "outputs": [],
   "source": [
    "if list(word) == sorted(word, key = word.find):\n",
    "    cnt+=1"
   ]
  },
  {
   "cell_type": "markdown",
   "metadata": {},
   "source": [
    "- cnt += list(word) == sorted(word, key = word.find) 이해 안 됨\n",
    "- 왜 cnt에 1이 더해지지?"
   ]
  },
  {
   "cell_type": "markdown",
   "metadata": {},
   "source": [
    "# 기본 수학 1"
   ]
  },
  {
   "cell_type": "markdown",
   "metadata": {},
   "source": [
    "- 수학적 사고를 필요로하는 문제의 경우, 기본 개념 정리를 위해 모두 기록한다!"
   ]
  },
  {
   "cell_type": "markdown",
   "metadata": {},
   "source": [
    "## 1712번 (손익분기점)"
   ]
  },
  {
   "cell_type": "code",
   "execution_count": 1,
   "metadata": {},
   "outputs": [
    {
     "name": "stdout",
     "output_type": "stream",
     "text": [
      "1 2 3\n",
      "2\n"
     ]
    }
   ],
   "source": [
    "# A 초기 제반 비용, B 소요 비용, C 판매가\n",
    "\n",
    "A, B, C = map(int, input().split())\n",
    "\n",
    "try:\n",
    "    if B>C:\n",
    "        print(-1)\n",
    "    else:\n",
    "        print(int(A/(C-B)+1))\n",
    "        \n",
    "except:\n",
    "    print(-1)"
   ]
  },
  {
   "cell_type": "markdown",
   "metadata": {},
   "source": [
    "## 2292번 (벌집)"
   ]
  },
  {
   "cell_type": "markdown",
   "metadata": {},
   "source": [
    "- 출발점부터 목표 벌집까지 도달하기 위한 최단 거리 계산 \n",
    "- 벌집 존은 6의 배수로 증가하는 계차수열"
   ]
  },
  {
   "cell_type": "code",
   "execution_count": 17,
   "metadata": {},
   "outputs": [
    {
     "name": "stdout",
     "output_type": "stream",
     "text": [
      "58\n",
      "5\n"
     ]
    }
   ],
   "source": [
    "# 1 7 19 37 ... (6의 배수로 증가하는 계차수열)\n",
    "\n",
    "target = int(input())\n",
    "former = 1\n",
    "difference = 6\n",
    "distance = 1\n",
    "\n",
    "if target == 1:\n",
    "    print(1)\n",
    "else:\n",
    "    while True:\n",
    "        former += difference\n",
    "        distance += 1\n",
    "        if target <= former:\n",
    "            print(distance)\n",
    "            break\n",
    "        difference += 6"
   ]
  },
  {
   "cell_type": "markdown",
   "metadata": {},
   "source": [
    "## 1193번 (분수찾기)"
   ]
  },
  {
   "cell_type": "markdown",
   "metadata": {},
   "source": [
    "- 군수열 문제"
   ]
  },
  {
   "cell_type": "code",
   "execution_count": 28,
   "metadata": {},
   "outputs": [],
   "source": [
    "# 1/1   1/1,2/1   3/1,2/2,1/3   1/4,2/3,3/2,4/1   5/1,4/2,3/3,2/4,1/5"
   ]
  },
  {
   "cell_type": "code",
   "execution_count": 43,
   "metadata": {},
   "outputs": [
    {
     "data": {
      "text/plain": [
       "'2/4'"
      ]
     },
     "execution_count": 43,
     "metadata": {},
     "output_type": "execute_result"
    }
   ],
   "source": [
    "count = 0\n",
    "number = 0\n",
    "numbers = []\n",
    "order = 14-1\n",
    "\n",
    "while number<=order+1:\n",
    "    number+=(count+1)\n",
    "    count+=1\n",
    "    numbers.append(count)\n",
    "    \n",
    "answer = []\n",
    "\n",
    "for n in numbers:\n",
    "    for son, mom in zip(range(1, n+1), range(n, 0, -1)):\n",
    "        if n%2==1:\n",
    "            answer.append(f'{mom}/{son}')\n",
    "        else:\n",
    "            answer.append(f'{son}/{mom}')\n",
    "\n",
    "answer[order]"
   ]
  },
  {
   "cell_type": "markdown",
   "metadata": {},
   "source": [
    "##  2869번 (달팽이는 올라가고 싶다)"
   ]
  },
  {
   "cell_type": "code",
   "execution_count": 65,
   "metadata": {},
   "outputs": [
    {
     "data": {
      "text/plain": [
       "901"
      ]
     },
     "execution_count": 65,
     "metadata": {},
     "output_type": "execute_result"
    }
   ],
   "source": [
    "day = 0\n",
    "A, B, V = 100, 99, 1000\n",
    "result=0\n",
    "\n",
    "while result <= V:\n",
    "    result = result+A\n",
    "    if result >= V:\n",
    "        day += 1\n",
    "        break\n",
    "    else:\n",
    "        result = result-B\n",
    "        day +=1\n",
    "day"
   ]
  },
  {
   "cell_type": "markdown",
   "metadata": {},
   "source": [
    "##### - 시간 너무 오래걸림"
   ]
  },
  {
   "cell_type": "code",
   "execution_count": 73,
   "metadata": {},
   "outputs": [
    {
     "name": "stdout",
     "output_type": "stream",
     "text": [
      "999999901\n"
     ]
    }
   ],
   "source": [
    "A, B, V = map(int, '100 99 1000000000'.split())\n",
    "\n",
    "day = (V-A)//(A-B)\n",
    "\n",
    "if (V-A)%(A-B) == 0:\n",
    "    day += 1\n",
    "else:\n",
    "    day += 2\n",
    "\n",
    "print(day)"
   ]
  },
  {
   "cell_type": "markdown",
   "metadata": {},
   "source": [
    "## 10250번 호텔방 배정문제"
   ]
  },
  {
   "cell_type": "code",
   "execution_count": 85,
   "metadata": {},
   "outputs": [
    {
     "name": "stdout",
     "output_type": "stream",
     "text": [
      "402\n",
      "1203\n"
     ]
    }
   ],
   "source": [
    "Input = \"2\\n6 12 10\\n30 50 72\".split('\\n')\n",
    "data = Input[1:]\n",
    " \n",
    "for info in data:\n",
    "    H, W, C = info.split()\n",
    "    temp = []\n",
    "    for WN in range(1,int(W)+1):\n",
    "        for HN in range(1,int(H)+1):\n",
    "            if WN < 10:\n",
    "                temp.append(f'{HN}0{WN}')\n",
    "            else:\n",
    "                temp.append(f'{HN}{WN}')\n",
    "    print(temp[int(C)-1]) "
   ]
  },
  {
   "cell_type": "markdown",
   "metadata": {},
   "source": [
    "## 2775번 부녀회장이 될테야"
   ]
  },
  {
   "cell_type": "code",
   "execution_count": null,
   "metadata": {},
   "outputs": [],
   "source": [
    "1 4 10 16 25\n",
    "1 3 6 10 15\n",
    "1 2 3 4 5"
   ]
  }
 ],
 "metadata": {
  "kernelspec": {
   "display_name": "Python 3 (ipykernel)",
   "language": "python",
   "name": "python3"
  },
  "language_info": {
   "codemirror_mode": {
    "name": "ipython",
    "version": 3
   },
   "file_extension": ".py",
   "mimetype": "text/x-python",
   "name": "python",
   "nbconvert_exporter": "python",
   "pygments_lexer": "ipython3",
   "version": "3.8.10"
  }
 },
 "nbformat": 4,
 "nbformat_minor": 4
}
