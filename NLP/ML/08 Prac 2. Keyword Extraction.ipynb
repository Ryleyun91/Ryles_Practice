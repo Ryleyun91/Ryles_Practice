{
 "cells": [
  {
   "cell_type": "markdown",
   "metadata": {
    "id": "q1Q9mWDrgMUn"
   },
   "source": [
    "# 8장. 핵심 키워드 추출 (Keyword Extraction)"
   ]
  },
  {
   "cell_type": "markdown",
   "metadata": {
    "id": "PSZIeetL8Yym"
   },
   "source": [
    "# 8-0 데이터 준비"
   ]
  },
  {
   "cell_type": "markdown",
   "metadata": {
    "id": "hpTxmnbx8v6m"
   },
   "source": [
    "## Mecab 설치 (필요시)"
   ]
  },
  {
   "cell_type": "markdown",
   "metadata": {
    "colab": {
     "base_uri": "https://localhost:8080/"
    },
    "executionInfo": {
     "elapsed": 15411,
     "status": "ok",
     "timestamp": 1624977751445,
     "user": {
      "displayName": "홍경수",
      "photoUrl": "",
      "userId": "10514684854108920109"
     },
     "user_tz": -540
    },
    "id": "qsWnZkd78qCA",
    "outputId": "c551176f-1543-47d2-9584-b5b866fcf91d"
   },
   "source": [
    "!sudo apt-get install g++ openjdk-7-jdk # Install Java 1.7+\n",
    "!sudo apt-get install python-dev; pip install konlpy     # Python 2.x\n",
    "!sudo apt-get install python3-dev; pip3 install konlpy   # Python 3.x\n",
    "!sudo apt-get install curl\n",
    "!bash <(curl -s https://raw.githubusercontent.com/konlpy/konlpy/master/scripts/mecab.sh)"
   ]
  },
  {
   "cell_type": "markdown",
   "metadata": {
    "id": "jxsBfWirA9ao"
   },
   "source": [
    "# 8-1 TF-IDF 활용 핵심키워드 추출"
   ]
  },
  {
   "cell_type": "markdown",
   "metadata": {
    "id": "u8UYUNHDNMVp"
   },
   "source": [
    "## 실습 1. sklearn 활용\n"
   ]
  },
  {
   "cell_type": "code",
   "execution_count": 1,
   "metadata": {
    "colab": {
     "base_uri": "https://localhost:8080/"
    },
    "executionInfo": {
     "elapsed": 3212,
     "status": "ok",
     "timestamp": 1624977754645,
     "user": {
      "displayName": "홍경수",
      "photoUrl": "",
      "userId": "10514684854108920109"
     },
     "user_tz": -540
    },
    "id": "fdsHZk1UBtRP",
    "outputId": "79e2724e-63b9-49ea-ff43-d101b235381e"
   },
   "outputs": [
    {
     "data": {
      "text/plain": [
       "5"
      ]
     },
     "execution_count": 1,
     "metadata": {},
     "output_type": "execute_result"
    }
   ],
   "source": [
    "import requests \n",
    "from bs4 import BeautifulSoup\n",
    "\n",
    "def get_news_by_url(url):\n",
    "    headers = {\"user-agent\":\"Mozilla/5.0\"}\n",
    "    res = requests.get(url, headers=headers)\n",
    "    soup = BeautifulSoup(res.text, 'html.parser')\n",
    "    text = soup.select_one(\"div#articleBodyContents\")\n",
    "    \n",
    "    return text.get_text()\n",
    "\n",
    "docs = []\n",
    "docs.append(get_news_by_url('https://news.naver.com/main/read.nhn?mode=LSD&mid=sec&sid1=105&oid=018&aid=0004430108'))\n",
    "docs.append(get_news_by_url('https://news.naver.com/main/read.nhn?mode=LSD&mid=sec&sid1=101&oid=001&aid=0011614790'))\n",
    "docs.append(get_news_by_url('https://news.naver.com/main/read.nhn?mode=LSD&mid=sec&sid1=102&oid=014&aid=0004424362'))\n",
    "docs.append(get_news_by_url('https://news.naver.com/main/read.nhn?mode=LSD&mid=sec&sid1=101&oid=119&aid=0002402191'))\n",
    "docs.append(get_news_by_url('https://news.naver.com/main/read.nhn?mode=LSD&mid=sec&sid1=101&oid=030&aid=0002882728'))\n",
    "len(docs)"
   ]
  },
  {
   "cell_type": "markdown",
   "metadata": {
    "id": "Of0dQ_ALpLw6"
   },
   "source": [
    "### 1) 전처리"
   ]
  },
  {
   "cell_type": "code",
   "execution_count": 2,
   "metadata": {
    "colab": {
     "base_uri": "https://localhost:8080/",
     "height": 35
    },
    "executionInfo": {
     "elapsed": 16,
     "status": "ok",
     "timestamp": 1624977754645,
     "user": {
      "displayName": "홍경수",
      "photoUrl": "",
      "userId": "10514684854108920109"
     },
     "user_tz": -540
    },
    "id": "tfGX-_IxAbgt",
    "outputId": "613afff9-44f4-4a89-a202-52f74e910396"
   },
   "outputs": [
    {
     "data": {
      "text/plain": [
       "'과기 정통부 장관 참석 기념행사 투입 여종 데이터 구축 민간 외부 연계 체계 개방 강화 기자 국가 차원 빅 데이터 활용 시대 산업 창출 기존 산업 변화 이르 혁신 장 센터 문 분야'"
      ]
     },
     "execution_count": 2,
     "metadata": {},
     "output_type": "execute_result"
    }
   ],
   "source": [
    "from konlpy.tag import Mecab\n",
    "import re\n",
    "mecab = Mecab()\n",
    "\n",
    "preprocessed_docs = []\n",
    "\n",
    "for i in docs:\n",
    "    docs[docs.index(i)] = re.sub(\"\\s*.*오류를 우회하기 위한 함수 추가\\s.*\\s+\", \"\", i)\n",
    "    text = re.sub(\"\\s*.*오류를 우회하기 위한 함수 추가\\s.*\\s+\", \"\", i)\n",
    "    preprocessed_docs.append(\" \".join([j for j,z in mecab.pos(text) \n",
    "                              if type(re.search(\"^[가-힣]\", j)) == re.Match and z in [\"NNG\",\"VV\"]]))\n",
    "    \n",
    "preprocessed_docs[0][:100]"
   ]
  },
  {
   "cell_type": "markdown",
   "metadata": {},
   "source": [
    "### 2) TF-IDF 계산\n",
    "##### 아주 큰 말뭉치여도 보통 3만개 선에서 만듦 (oov > out of vocabulary)\n",
    "\n"
   ]
  },
  {
   "cell_type": "code",
   "execution_count": 3,
   "metadata": {
    "id": "JqZ9ONgLpOzv"
   },
   "outputs": [
    {
     "name": "stdout",
     "output_type": "stream",
     "text": [
      "['가공', '가동', '가운데', '가입자', '가족', '가중치', '가치', '각종', '갈리', '감소']\n"
     ]
    }
   ],
   "source": [
    "from sklearn.feature_extraction.text import CountVectorizer\n",
    "\n",
    "#countvectorizer() 안의 파라미터에 max_features(빈도 상한선) / max_df(df값 상한선) 등 설정 가능\n",
    "count_vect = CountVectorizer(max_df=0.85)\n",
    "word_count = count_vect.fit_transform(preprocessed_docs)\n",
    "print(count_vect.get_feature_names()[:10])"
   ]
  },
  {
   "cell_type": "code",
   "execution_count": 4,
   "metadata": {},
   "outputs": [
    {
     "data": {
      "text/plain": [
       "TfidfTransformer()"
      ]
     },
     "execution_count": 4,
     "metadata": {},
     "output_type": "execute_result"
    }
   ],
   "source": [
    "from sklearn.feature_extraction.text import TfidfTransformer\n",
    "\n",
    "# 혹시 값이 0이되는 걸 감지해서 +1을 해주는 것 (0을 막을려는 것이다)\n",
    "# use_idf는 idf를 쓸 것인지 정하는 것 (default는 trueㅠ)\n",
    "tfidf_transformer = TfidfTransformer(smooth_idf=True, use_idf=True)\n",
    "# fit_transform을 하면 전체에 대해 학습 끝내고 적용하는 것. \n",
    "# 우리는 하나씩 학습을 추가하고 결과를 얻어야하므로 일단 fit만!\n",
    "tfidf_transformer.fit(word_count)"
   ]
  },
  {
   "cell_type": "markdown",
   "metadata": {
    "id": "an6Cngd2Cwjg"
   },
   "source": [
    "### 3) 핵심키워드 추출"
   ]
  },
  {
   "cell_type": "code",
   "execution_count": 5,
   "metadata": {
    "id": "yKrcZ9rh-5Rt"
   },
   "outputs": [],
   "source": [
    "def sort_keywords(keywords):\n",
    "    return sorted(zip(keywords.col, keywords.data), key=lambda x: (x[1], x[0]), reverse=True)\n",
    "    \n",
    "def extract_keywords(feature_names, sorted_keywords, n=5):\n",
    "    return [(feature_names[idx], score) for idx, score in sorted_keywords][:n]"
   ]
  },
  {
   "cell_type": "code",
   "execution_count": 38,
   "metadata": {
    "colab": {
     "base_uri": "https://localhost:8080/"
    },
    "executionInfo": {
     "elapsed": 18,
     "status": "ok",
     "timestamp": 1624977755419,
     "user": {
      "displayName": "홍경수",
      "photoUrl": "",
      "userId": "10514684854108920109"
     },
     "user_tz": -540
    },
    "id": "u_8wXmex-1gr",
    "outputId": "b5cd45e3-4c95-4eb4-c299-a8922563176d"
   },
   "outputs": [
    {
     "name": "stdout",
     "output_type": "stream",
     "text": [
      "\n",
      "===== 원문 =====\n",
      "과기정통부, 22일 유영민 장관 등 참석해 기념행사2021년까지 1516억원 투입, 5100여종 데이터 구축민간 클라우드 통한 외부연계체계도..\"개방성 강화\"[이데일리 이재운 기자\n",
      "\n",
      "=== 핵심키워드 ===\n",
      "('플랫', 0.2734163036802355)\n",
      "('계획', 0.23435683172591615)\n",
      "('정통부', 0.19529735977159682)\n",
      "('과기', 0.19529735977159682)\n",
      "('혁신', 0.15756468017155242)\n"
     ]
    }
   ],
   "source": [
    "doc = preprocessed_docs[0] # 핵심키워드 추출할 문서 조회\n",
    "\n",
    "feature_names = count_vect.get_feature_names()\n",
    "tfidf_vect = tfidf_transformer.transform(count_vect.transform([doc]))\n",
    "\n",
    "# .tocoo()? COO형식으로 희소행렬을 표현하는 것. (행, 렬)  데이터 -> 이런 식으로 저장해줌\n",
    "# .tocoo()에는 .col -> 인덱스 / .data -> 값 정보들이 들어 있음 \n",
    "sorted_keywords = sort_keywords(tfidf_vect.tocoo())\n",
    "\n",
    "    \n",
    "# 사용자가 지정한 갯수만큼 키워드 추출\n",
    "keywords = extract_keywords(feature_names, sorted_keywords, 5)\n",
    " \n",
    "print(\"\\n===== 원문 =====\")\n",
    "print(docs[0][:100])\n",
    "print(\"\\n=== 핵심키워드 ===\")\n",
    "for k in keywords:\n",
    "    print(k)"
   ]
  },
  {
   "cell_type": "markdown",
   "metadata": {
    "id": "lwQjPYuxNy4K"
   },
   "source": [
    "\n",
    "---\n"
   ]
  },
  {
   "cell_type": "markdown",
   "metadata": {
    "id": "XTNnFrNhOrA3"
   },
   "source": [
    "## 실습 2. gensim 활용\n"
   ]
  },
  {
   "cell_type": "markdown",
   "metadata": {
    "id": "aE-YzDI6OrA5"
   },
   "source": [
    "### 1) 전처리"
   ]
  },
  {
   "cell_type": "code",
   "execution_count": 39,
   "metadata": {
    "colab": {
     "base_uri": "https://localhost:8080/",
     "height": 35
    },
    "executionInfo": {
     "elapsed": 9,
     "status": "ok",
     "timestamp": 1624977755420,
     "user": {
      "displayName": "홍경수",
      "photoUrl": "",
      "userId": "10514684854108920109"
     },
     "user_tz": -540
    },
    "id": "edVMwQBuOrA6",
    "outputId": "e329813f-df02-4c4e-e841-df71b464979f"
   },
   "outputs": [
    {
     "data": {
      "text/plain": [
       "'과기 정통부 일 유영민 장관 등 참석 기념행사 년 억 원 투입 여종 데이터 구축 민간 클라우드 통한 외부 연계 체계 개방 강화 데일리 이재운 기자 국가 차원 빅 데이터 활용 시대 '"
      ]
     },
     "execution_count": 39,
     "metadata": {},
     "output_type": "execute_result"
    }
   ],
   "source": [
    "from konlpy.tag import Mecab\n",
    "mecab = Mecab()\n",
    "\n",
    "preprocessed_docs = []\n",
    "for doc in docs :\n",
    "  # 명사와 동사만으로 문서 전처리\n",
    "  preprocessed_docs.append(' '.join([token[0] for token in mecab.pos(doc) if token[1][0] in ['N', 'V']]))\n",
    "preprocessed_docs[0][:100]"
   ]
  },
  {
   "cell_type": "markdown",
   "metadata": {
    "id": "cWGsCRJUOrA8"
   },
   "source": [
    "### 2) TF-IDF 계산"
   ]
  },
  {
   "cell_type": "code",
   "execution_count": 40,
   "metadata": {
    "id": "NCUzeqp3OrA9"
   },
   "outputs": [],
   "source": [
    "from gensim.models import TfidfModel\n",
    "from gensim.corpora import Dictionary\n",
    "\n",
    "document_ls = [doc.split() for doc in preprocessed_docs]\n",
    "dct = Dictionary(document_ls) # 인덱스(key) - 단어(valuue) 인 딕셔너리 생성\n",
    "corpus = [dct.doc2bow(doc) for doc in document_ls] # 각 문서에 포함된 단어를 인덱스로 변환하여 corpus 생성\n",
    "tfidf = TfidfModel(corpus) # TF-IDF 산출"
   ]
  },
  {
   "cell_type": "markdown",
   "metadata": {
    "id": "wBT2h57bOrBF"
   },
   "source": [
    "### 3) 핵심키워드 추출"
   ]
  },
  {
   "cell_type": "code",
   "execution_count": 41,
   "metadata": {
    "id": "Xk0Tbo21RddA"
   },
   "outputs": [],
   "source": [
    "def sort_keywords(tfidf):\n",
    "    return sorted(tfidf, key=lambda x: (x[1], x[0]), reverse=True)\n",
    "\n",
    "def extract_keywords(feature_names, sorted_keywords, n=5):\n",
    "    return [(feature_names[idx], score) for idx, score in sorted_keywords[:n]]"
   ]
  },
  {
   "cell_type": "code",
   "execution_count": 42,
   "metadata": {
    "colab": {
     "base_uri": "https://localhost:8080/"
    },
    "executionInfo": {
     "elapsed": 12,
     "status": "ok",
     "timestamp": 1624977755797,
     "user": {
      "displayName": "홍경수",
      "photoUrl": "",
      "userId": "10514684854108920109"
     },
     "user_tz": -540
    },
    "id": "_8T0QSKVRfUt",
    "outputId": "ff60f197-d8a0-451f-91a4-70923c275575"
   },
   "outputs": [
    {
     "name": "stdout",
     "output_type": "stream",
     "text": [
      "\n",
      "=== 핵심키워드 ===\n",
      "('플랫', 0.260111262735105)\n",
      "('폼', 0.260111262735105)\n",
      "('계획', 0.2229525109158043)\n",
      "('정통부', 0.18579375909650356)\n",
      "('과기', 0.18579375909650356)\n"
     ]
    }
   ],
   "source": [
    "doc = corpus[0]\n",
    "\n",
    "sorted_keywords = sort_keywords(tfidf[doc]) # TF-IDF를 기준으로 역순 정렬\n",
    "\n",
    "# 사용자가 지정한 갯수만큼 키워드 추출\n",
    "keywords = extract_keywords(dct, sorted_keywords, 5)\n",
    "\n",
    "print(\"\\n=== 핵심키워드 ===\")\n",
    "for k in keywords:\n",
    "    print(k)"
   ]
  },
  {
   "cell_type": "code",
   "execution_count": 43,
   "metadata": {
    "colab": {
     "base_uri": "https://localhost:8080/"
    },
    "executionInfo": {
     "elapsed": 10,
     "status": "ok",
     "timestamp": 1624977755799,
     "user": {
      "displayName": "홍경수",
      "photoUrl": "",
      "userId": "10514684854108920109"
     },
     "user_tz": -540
    },
    "id": "8gBGnkhCZSlw",
    "outputId": "66814b20-b290-4061-975c-951dcc0b9153"
   },
   "outputs": [
    {
     "data": {
      "text/plain": [
       "[(0, 0.021155348483460852),\n",
       " (1, 0.011793957648078673),\n",
       " (3, 0.023587915296157346),\n",
       " (4, 0.021155348483460852),\n",
       " (5, 0.037158751819300714),\n",
       " (6, 0.037158751819300714),\n",
       " (7, 0.037158751819300714),\n",
       " (8, 0.036063616033346915),\n",
       " (9, 0.06346604545038255),\n",
       " (10, 0.037158751819300714),\n",
       " (11, 0.042310696966921704),\n",
       " (12, 0.021155348483460852),\n",
       " (13, 0.037158751819300714),\n",
       " (14, 0.021155348483460852),\n",
       " (15, 0.037158751819300714),\n",
       " (16, 0.021155348483460852),\n",
       " (17, 0.005151945147620987),\n",
       " (18, 0.07431750363860143),\n",
       " (19, 0.10577674241730427),\n",
       " (20, 0.037158751819300714),\n",
       " (21, 0.2229525109158043),\n",
       " (22, 0.037158751819300714),\n",
       " (23, 0.010303890295241975),\n",
       " (24, 0.037158751819300714),\n",
       " (25, 0.07431750363860143),\n",
       " (26, 0.037158751819300714),\n",
       " (27, 0.011793957648078673),\n",
       " (28, 0.037158751819300714),\n",
       " (29, 0.18579375909650356),\n",
       " (30, 0.042310696966921704),\n",
       " (31, 0.037158751819300714),\n",
       " (32, 0.042310696966921704),\n",
       " (33, 0.07431750363860143),\n",
       " (34, 0.011793957648078673),\n",
       " (35, 0.037158751819300714),\n",
       " (36, 0.07076374588847203),\n",
       " (37, 0.037158751819300714),\n",
       " (38, 0.037158751819300714),\n",
       " (39, 0.021155348483460852),\n",
       " (40, 0.037158751819300714),\n",
       " (41, 0.037158751819300714),\n",
       " (42, 0.021155348483460852),\n",
       " (43, 0.037158751819300714),\n",
       " (44, 0.06346604545038255),\n",
       " (45, 0.005151945147620987),\n",
       " (46, 0.011793957648078673),\n",
       " (47, 0.037158751819300714),\n",
       " (48, 0.042310696966921704),\n",
       " (49, 0.010303890295241975),\n",
       " (50, 0.05896978824039336),\n",
       " (52, 0.037158751819300714),\n",
       " (53, 0.042310696966921704),\n",
       " (54, 0.037158751819300714),\n",
       " (55, 0.037158751819300714),\n",
       " (56, 0.037158751819300714),\n",
       " (57, 0.037158751819300714),\n",
       " (58, 0.011793957648078673),\n",
       " (59, 0.10577674241730427),\n",
       " (60, 0.037158751819300714),\n",
       " (61, 0.021155348483460852),\n",
       " (62, 0.023587915296157346),\n",
       " (63, 0.037158751819300714),\n",
       " (64, 0.021155348483460852),\n",
       " (65, 0.037158751819300714),\n",
       " (66, 0.037158751819300714),\n",
       " (67, 0.021155348483460852),\n",
       " (68, 0.037158751819300714),\n",
       " (69, 0.011793957648078673),\n",
       " (70, 0.037158751819300714),\n",
       " (71, 0.037158751819300714),\n",
       " (72, 0.037158751819300714),\n",
       " (73, 0.037158751819300714),\n",
       " (74, 0.037158751819300714),\n",
       " (75, 0.021155348483460852),\n",
       " (76, 0.07431750363860143),\n",
       " (77, 0.07431750363860143),\n",
       " (78, 0.037158751819300714),\n",
       " (79, 0.06346604545038255),\n",
       " (80, 0.037158751819300714),\n",
       " (81, 0.06346604545038255),\n",
       " (83, 0.11147625545790214),\n",
       " (84, 0.037158751819300714),\n",
       " (85, 0.037158751819300714),\n",
       " (86, 0.021155348483460852),\n",
       " (88, 0.011793957648078673),\n",
       " (89, 0.011793957648078673),\n",
       " (90, 0.037158751819300714),\n",
       " (91, 0.08462139393384341),\n",
       " (92, 0.011793957648078673),\n",
       " (93, 0.037158751819300714),\n",
       " (94, 0.037158751819300714),\n",
       " (95, 0.037158751819300714),\n",
       " (96, 0.037158751819300714),\n",
       " (97, 0.037158751819300714),\n",
       " (98, 0.037158751819300714),\n",
       " (99, 0.037158751819300714),\n",
       " (100, 0.005151945147620987),\n",
       " (101, 0.037158751819300714),\n",
       " (102, 0.037158751819300714),\n",
       " (103, 0.037158751819300714),\n",
       " (104, 0.042310696966921704),\n",
       " (105, 0.037158751819300714),\n",
       " (106, 0.14863500727720286),\n",
       " (107, 0.037158751819300714),\n",
       " (108, 0.04717583059231469),\n",
       " (109, 0.037158751819300714),\n",
       " (110, 0.037158751819300714),\n",
       " (111, 0.021155348483460852),\n",
       " (112, 0.011793957648078673),\n",
       " (113, 0.07431750363860143),\n",
       " (114, 0.14863500727720286),\n",
       " (115, 0.005151945147620987),\n",
       " (116, 0.037158751819300714),\n",
       " (117, 0.021155348483460852),\n",
       " (118, 0.07431750363860143),\n",
       " (119, 0.037158751819300714),\n",
       " (120, 0.021155348483460852),\n",
       " (121, 0.037158751819300714),\n",
       " (122, 0.037158751819300714),\n",
       " (123, 0.06346604545038255),\n",
       " (124, 0.10577674241730427),\n",
       " (125, 0.037158751819300714),\n",
       " (126, 0.036063616033346915),\n",
       " (127, 0.037158751819300714),\n",
       " (128, 0.010303890295241975),\n",
       " (129, 0.037158751819300714),\n",
       " (130, 0.037158751819300714),\n",
       " (131, 0.07431750363860143),\n",
       " (132, 0.015455835442862961),\n",
       " (133, 0.07431750363860143),\n",
       " (134, 0.021155348483460852),\n",
       " (135, 0.14863500727720286),\n",
       " (136, 0.021155348483460852),\n",
       " (137, 0.042310696966921704),\n",
       " (138, 0.037158751819300714),\n",
       " (139, 0.021155348483460852),\n",
       " (140, 0.010303890295241975),\n",
       " (141, 0.07431750363860143),\n",
       " (142, 0.021155348483460852),\n",
       " (144, 0.037158751819300714),\n",
       " (145, 0.07431750363860143),\n",
       " (146, 0.037158751819300714),\n",
       " (147, 0.037158751819300714),\n",
       " (148, 0.037158751819300714),\n",
       " (150, 0.037158751819300714),\n",
       " (151, 0.021155348483460852),\n",
       " (152, 0.037158751819300714),\n",
       " (153, 0.042310696966921704),\n",
       " (154, 0.037158751819300714),\n",
       " (155, 0.037158751819300714),\n",
       " (156, 0.037158751819300714),\n",
       " (157, 0.037158751819300714),\n",
       " (158, 0.037158751819300714),\n",
       " (159, 0.06346604545038255),\n",
       " (160, 0.021155348483460852),\n",
       " (161, 0.07431750363860143),\n",
       " (162, 0.021155348483460852),\n",
       " (163, 0.021155348483460852),\n",
       " (164, 0.07431750363860143),\n",
       " (165, 0.037158751819300714),\n",
       " (166, 0.11147625545790214),\n",
       " (167, 0.14863500727720286),\n",
       " (168, 0.037158751819300714),\n",
       " (169, 0.14863500727720286),\n",
       " (170, 0.021155348483460852),\n",
       " (171, 0.042310696966921704),\n",
       " (172, 0.037158751819300714),\n",
       " (173, 0.11147625545790214),\n",
       " (174, 0.021155348483460852),\n",
       " (175, 0.037158751819300714),\n",
       " (176, 0.037158751819300714),\n",
       " (177, 0.037158751819300714),\n",
       " (178, 0.037158751819300714),\n",
       " (179, 0.037158751819300714),\n",
       " (180, 0.037158751819300714),\n",
       " (181, 0.037158751819300714),\n",
       " (182, 0.037158751819300714),\n",
       " (183, 0.07431750363860143),\n",
       " (184, 0.037158751819300714),\n",
       " (185, 0.042310696966921704),\n",
       " (186, 0.037158751819300714),\n",
       " (187, 0.037158751819300714),\n",
       " (188, 0.037158751819300714),\n",
       " (189, 0.023587915296157346),\n",
       " (190, 0.05896978824039336),\n",
       " (191, 0.037158751819300714),\n",
       " (192, 0.037158751819300714),\n",
       " (193, 0.021155348483460852),\n",
       " (194, 0.05896978824039336),\n",
       " (195, 0.010303890295241975),\n",
       " (196, 0.11147625545790214),\n",
       " (197, 0.06346604545038255),\n",
       " (198, 0.037158751819300714),\n",
       " (199, 0.011793957648078673),\n",
       " (200, 0.037158751819300714),\n",
       " (201, 0.056671396623830854),\n",
       " (202, 0.037158751819300714),\n",
       " (203, 0.037158751819300714),\n",
       " (204, 0.037158751819300714),\n",
       " (205, 0.037158751819300714),\n",
       " (206, 0.021155348483460852),\n",
       " (207, 0.037158751819300714),\n",
       " (208, 0.07431750363860143),\n",
       " (209, 0.010303890295241975),\n",
       " (210, 0.037158751819300714),\n",
       " (212, 0.037158751819300714),\n",
       " (214, 0.037158751819300714),\n",
       " (215, 0.037158751819300714),\n",
       " (216, 0.07431750363860143),\n",
       " (217, 0.11147625545790214),\n",
       " (218, 0.037158751819300714),\n",
       " (219, 0.021155348483460852),\n",
       " (220, 0.021155348483460852),\n",
       " (221, 0.021155348483460852),\n",
       " (222, 0.005151945147620987),\n",
       " (223, 0.037158751819300714),\n",
       " (224, 0.07431750363860143),\n",
       " (225, 0.04717583059231469),\n",
       " (226, 0.021155348483460852),\n",
       " (227, 0.010303890295241975),\n",
       " (228, 0.021155348483460852),\n",
       " (229, 0.18579375909650356),\n",
       " (230, 0.07431750363860143),\n",
       " (231, 0.05896978824039336),\n",
       " (232, 0.037158751819300714),\n",
       " (233, 0.037158751819300714),\n",
       " (234, 0.021155348483460852),\n",
       " (235, 0.037158751819300714),\n",
       " (236, 0.037158751819300714),\n",
       " (237, 0.07431750363860143),\n",
       " (238, 0.042310696966921704),\n",
       " (239, 0.021155348483460852),\n",
       " (240, 0.11147625545790214),\n",
       " (241, 0.037158751819300714),\n",
       " (242, 0.037158751819300714),\n",
       " (243, 0.021155348483460852),\n",
       " (244, 0.021155348483460852),\n",
       " (245, 0.037158751819300714),\n",
       " (246, 0.023587915296157346),\n",
       " (247, 0.037158751819300714),\n",
       " (248, 0.021155348483460852),\n",
       " (249, 0.037158751819300714),\n",
       " (250, 0.037158751819300714),\n",
       " (251, 0.11147625545790214),\n",
       " (252, 0.037158751819300714),\n",
       " (253, 0.037158751819300714),\n",
       " (254, 0.037158751819300714),\n",
       " (255, 0.11147625545790214),\n",
       " (256, 0.037158751819300714),\n",
       " (257, 0.037158751819300714),\n",
       " (258, 0.07431750363860143),\n",
       " (259, 0.021155348483460852),\n",
       " (260, 0.010303890295241975),\n",
       " (261, 0.037158751819300714),\n",
       " (262, 0.07431750363860143),\n",
       " (263, 0.021155348483460852),\n",
       " (264, 0.021155348483460852),\n",
       " (265, 0.037158751819300714),\n",
       " (266, 0.07431750363860143),\n",
       " (267, 0.037158751819300714),\n",
       " (268, 0.11147625545790214),\n",
       " (269, 0.037158751819300714),\n",
       " (270, 0.07431750363860143),\n",
       " (271, 0.1269320909007651),\n",
       " (272, 0.11147625545790214),\n",
       " (273, 0.037158751819300714),\n",
       " (274, 0.021155348483460852),\n",
       " (275, 0.021155348483460852),\n",
       " (276, 0.037158751819300714),\n",
       " (277, 0.260111262735105),\n",
       " (278, 0.021155348483460852),\n",
       " (279, 0.037158751819300714),\n",
       " (280, 0.260111262735105),\n",
       " (281, 0.037158751819300714),\n",
       " (282, 0.037158751819300714),\n",
       " (283, 0.023587915296157346),\n",
       " (284, 0.011793957648078673),\n",
       " (285, 0.037158751819300714),\n",
       " (286, 0.037158751819300714),\n",
       " (287, 0.037158751819300714),\n",
       " (288, 0.08462139393384341),\n",
       " (289, 0.07431750363860143),\n",
       " (290, 0.021155348483460852),\n",
       " (291, 0.021155348483460852),\n",
       " (292, 0.021155348483460852),\n",
       " (293, 0.037158751819300714),\n",
       " (294, 0.037158751819300714),\n",
       " (295, 0.037158751819300714),\n",
       " (296, 0.10577674241730427),\n",
       " (297, 0.037158751819300714),\n",
       " (298, 0.021155348483460852),\n",
       " (299, 0.037158751819300714),\n",
       " (300, 0.037158751819300714),\n",
       " (301, 0.037158751819300714),\n",
       " (302, 0.021155348483460852),\n",
       " (303, 0.07431750363860143),\n",
       " (304, 0.042310696966921704),\n",
       " (306, 0.037158751819300714),\n",
       " (307, 0.037158751819300714)]"
      ]
     },
     "execution_count": 43,
     "metadata": {},
     "output_type": "execute_result"
    }
   ],
   "source": [
    "tfidf[doc]"
   ]
  },
  {
   "cell_type": "markdown",
   "metadata": {
    "id": "hZpm1wtTqxL-"
   },
   "source": [
    "\n",
    "\n",
    "---\n",
    "\n"
   ]
  },
  {
   "cell_type": "markdown",
   "metadata": {
    "id": "mfekkYshBAVS"
   },
   "source": [
    "# 8-2 Textrank\n",
    "https://web.eecs.umich.edu/~mihalcea/papers/mihalcea.emnlp04.pdf"
   ]
  },
  {
   "cell_type": "markdown",
   "metadata": {
    "id": "bn58myMFF-nN"
   },
   "source": [
    "<img src=\"https://3.bp.blogspot.com/-yp0Lr3ec5EY/XIs6znCcO_I/AAAAAAAAAPY/xtZxe_OYtH0xeuWsp4Qd4DQrunGMpVQmQCLcBGAs/s640/keyword-extraction-textrank.png\" />"
   ]
  },
  {
   "cell_type": "markdown",
   "metadata": {
    "id": "kxZBz6vLlyga"
   },
   "source": [
    "## 실습 1. 행렬 활용 \n"
   ]
  },
  {
   "cell_type": "code",
   "execution_count": 65,
   "metadata": {
    "colab": {
     "base_uri": "https://localhost:8080/"
    },
    "executionInfo": {
     "elapsed": 20,
     "status": "ok",
     "timestamp": 1624977756643,
     "user": {
      "displayName": "홍경수",
      "photoUrl": "",
      "userId": "10514684854108920109"
     },
     "user_tz": -540
    },
    "id": "X-WdT3gz3FMc",
    "outputId": "7b7d8d34-5990-42b3-9600-1725f7356bb6"
   },
   "outputs": [
    {
     "data": {
      "text/plain": [
       "{'바나나': 0, '사과': 1, '파인애플': 2, '딸기': 3}"
      ]
     },
     "execution_count": 65,
     "metadata": {},
     "output_type": "execute_result"
    }
   ],
   "source": [
    "tokens = ['딸기', '바나나', '사과', '딸기', '파인애플']\n",
    "nodes = ['바나나', '사과', '파인애플', '딸기']\n",
    "vocab = nodes\n",
    "\n",
    "vocab2idx = {vocab[i]:i for i in range(0, len(vocab))} #vocab을 인덱스로 변환\n",
    "idx2vocab = {i:vocab[i] for i in range(0, len(vocab))} #인덱스를 vocab으로 변환\n",
    "vocab2idx"
   ]
  },
  {
   "cell_type": "markdown",
   "metadata": {
    "id": "P9Tvibn1lyg3"
   },
   "source": [
    "### 3) 그래프 생성 (weighted edge 계산)\n",
    "\n",
    "*   TextRank는 그래프 기반 모델\n",
    "*   각 단어(토큰)은 그래프의 노드(vertex) \n",
    "*   weighted_edge 행렬은 노드간 가중치 정보를 담고 있음\n",
    "*   weighted_edge[i][j] 는 i번째 단어와 j번째 단어의 가중치를 의미\n",
    "*   weighted_edge[i][j] 가 0인 경우는 노드간 연결이 없음을 의미\n",
    "*   모든 노드는 1로 초기화"
   ]
  },
  {
   "cell_type": "code",
   "execution_count": 66,
   "metadata": {
    "colab": {
     "base_uri": "https://localhost:8080/"
    },
    "executionInfo": {
     "elapsed": 17,
     "status": "ok",
     "timestamp": 1624977756643,
     "user": {
      "displayName": "홍경수",
      "photoUrl": "",
      "userId": "10514684854108920109"
     },
     "user_tz": -540
    },
    "id": "nP8PJUnMlyg3",
    "outputId": "66629252-0223-4dcf-9eef-b27a1c26da9c"
   },
   "outputs": [
    {
     "data": {
      "text/plain": [
       "array([[0.        , 0.5       , 0.        , 0.5       ],\n",
       "       [0.5       , 0.        , 0.        , 0.5       ],\n",
       "       [0.        , 0.        , 0.        , 1.        ],\n",
       "       [0.33333334, 0.33333334, 0.33333334, 0.        ]], dtype=float32)"
      ]
     },
     "execution_count": 66,
     "metadata": {},
     "output_type": "execute_result"
    }
   ],
   "source": [
    "import numpy as np\n",
    "import math\n",
    "vocab_len = len(vocab)\n",
    "\n",
    "# 토큰별로 그래프 edge를 Matrix 형태로 생성\n",
    "weighted_edge = np.zeros((vocab_len,vocab_len),dtype=np.float32)\n",
    "\n",
    "# 각 토큰 노드별로 스코어 1로 초기화\n",
    "score = np.ones((vocab_len),dtype=np.float32)\n",
    "\n",
    "# coocurrence를 판단하기 위한 window 사이즈 설정 (window_size는 ngram이 아니라 span의 개념으로)\n",
    "window_size = 2\n",
    "covered_cooccurence = []\n",
    "\n",
    "for window_start in range(len(tokens)-window_size+1):\n",
    "    window = tokens[window_start : window_start + window_size]\n",
    "    \n",
    "    for i in range(window_size):\n",
    "        for j in range(i+1, window_size):\n",
    "            \n",
    "            if (window[i] in vocab and window[j] in vocab):\n",
    "                index_i = i + window_start\n",
    "                index_j = j + window_start\n",
    "                \n",
    "                if (index_i, index_j) not in covered_cooccurence:\n",
    "                    weighted_edge[vocab2idx[window[i]]][vocab2idx[window[j]]] = 1 \n",
    "                    weighted_edge[vocab2idx[window[j]]][vocab2idx[window[i]]] = 1\n",
    "                    covered_cooccurence.append((index_i, index_j))\n",
    "\n",
    "                    \n",
    "for i in range(vocab_len):\n",
    "    row_sum = weighted_edge[i].sum()\n",
    "    weighted_edge[i] = weighted_edge[i]/row_sum if row_sum > 0 else 0\n",
    "\n",
    "weighted_edge"
   ]
  },
  {
   "cell_type": "markdown",
   "metadata": {
    "id": "loXJ9c7jlyg8"
   },
   "source": [
    "### 4) 각 노드의 score계산\n",
    "각 노드와 연결된 weighted edge의 값을 합산"
   ]
  },
  {
   "cell_type": "code",
   "execution_count": 69,
   "metadata": {
    "id": "R9IOS9Oolyg8"
   },
   "outputs": [
    {
     "name": "stdout",
     "output_type": "stream",
     "text": [
      ">>> 0만큼 score를 계산했어유! ^오^\n"
     ]
    },
    {
     "data": {
      "text/plain": [
       "array([0.983678 , 0.9836814, 0.5656183, 1.4669032], dtype=float32)"
      ]
     },
     "execution_count": 69,
     "metadata": {},
     "output_type": "execute_result"
    }
   ],
   "source": [
    "MAX_ITERATIONS = 50\n",
    "d=0.85\n",
    "threshold = 0.0001 #convergence threshold\n",
    "\n",
    "for iter in range(MAX_ITERATIONS):\n",
    "    prev_score = np.copy(score)\n",
    "    \n",
    "    for i in range(vocab_len):\n",
    "        summation = 0\n",
    "        for j in range(vocab_len):\n",
    "            summation += weighted_edge[j][i] * prev_score[j]\n",
    "            \n",
    "        score[i] = (1-d) + d*summation\n",
    "        \n",
    "    # np.fabs()는 float 형태의 절대값 주는 것\n",
    "    if np.sum(np.fabs(prev_score - score)) <= threshold:\n",
    "        print(f\">>> {iter}만큼 score를 계산했어유! ^오^\")\n",
    "        break\n",
    "\n",
    "score"
   ]
  },
  {
   "cell_type": "markdown",
   "metadata": {
    "id": "wia32INGlyhA"
   },
   "source": [
    "### 5) 핵심 단어 추출"
   ]
  },
  {
   "cell_type": "code",
   "execution_count": 70,
   "metadata": {
    "colab": {
     "base_uri": "https://localhost:8080/"
    },
    "executionInfo": {
     "elapsed": 13,
     "status": "ok",
     "timestamp": 1624977756644,
     "user": {
      "displayName": "홍경수",
      "photoUrl": "",
      "userId": "10514684854108920109"
     },
     "user_tz": -540
    },
    "id": "DMVQR-TqlyhB",
    "outputId": "8d26cce6-2850-46ef-d8d8-4bc71aa51ba4"
   },
   "outputs": [
    {
     "name": "stdout",
     "output_type": "stream",
     "text": [
      "\n",
      "=== 핵심키워드 ===\n",
      "딸기 : 1.4669032\n",
      "사과 : 0.9836814\n",
      "바나나 : 0.983678\n",
      "파인애플 : 0.5656183\n"
     ]
    }
   ],
   "source": [
    "## np.argsort()는 argument를 sorting해서 인덱스를 뱉어줌.\n",
    "## np.filp은 순서 뒤집는 것. (주어진 축에 따라서 순서를 뒤집음 / 0은 행, 1은 열)\n",
    "sorted_index = np.flip(np.argsort(score),0)\n",
    "\n",
    "n = 4\n",
    "\n",
    "print(\"\\n=== 핵심키워드 ===\")\n",
    "for i in range(n):\n",
    "    print(str(idx2vocab[sorted_index[i]])+\" : \" + str(score[sorted_index[i]]))"
   ]
  },
  {
   "cell_type": "code",
   "execution_count": null,
   "metadata": {
    "colab": {
     "base_uri": "https://localhost:8080/"
    },
    "executionInfo": {
     "elapsed": 9,
     "status": "ok",
     "timestamp": 1624977756645,
     "user": {
      "displayName": "홍경수",
      "photoUrl": "",
      "userId": "10514684854108920109"
     },
     "user_tz": -540
    },
    "id": "AXThGqhpOoaU",
    "outputId": "7533a999-e6b9-4a27-cc82-9f6dca2c393a"
   },
   "outputs": [
    {
     "data": {
      "text/plain": [
       "3"
      ]
     },
     "execution_count": 19,
     "metadata": {
      "tags": []
     },
     "output_type": "execute_result"
    }
   ],
   "source": [
    "sorted_index[0]"
   ]
  },
  {
   "cell_type": "code",
   "execution_count": 204,
   "metadata": {
    "colab": {
     "base_uri": "https://localhost:8080/",
     "height": 174
    },
    "executionInfo": {
     "elapsed": 849,
     "status": "ok",
     "timestamp": 1624977756642,
     "user": {
      "displayName": "홍경수",
      "photoUrl": "",
      "userId": "10514684854108920109"
     },
     "user_tz": -540
    },
    "id": "ZYWGsT6UROhs",
    "outputId": "8739807a-91b4-48c9-b77e-0a4f8a0009a7"
   },
   "outputs": [
    {
     "data": {
      "text/plain": [
       "'과기정통부 22일 유영민 장관 등 참석해 기념행사2021년까지 1516억원 투입 5100여종 데이터 구축민간 클라우드 통한 외부연계체계도 개방성 강화 [이데일리 이재운 기자] 국가 차원의 빅데이터 활용 시대가 열린다 새로운 산업 창출과 기존 산업의 변화에 이르는 혁신성장 을 위한 센터가 문을 연다 10개 분야에 걸쳐 데이터 경제 의 발전을 위한 정부의 청사진을 현실로 구현하는데 앞장선다는 계획이다 22일 과학기술정보통신부는 서울 중구 대한상공회의소에서 데이터 생태계 조성과 혁신 성장의 기반 마련을 위한 빅데이터 플랫폼 및 센터 출범식 행사를 개최했다 유영민 과기정통부 장관을 비롯해 노웅래 국회 과학기술정보방송통신위원회 위원장 등 300여명이 참가했다 10개 분야 100개 센터 3년간 1516억원 투입이미지 픽사베이빅데이터는 데이터 활용을 통해 혁신성장을 이루자는 문재인 정부의 경제 성장 핵심 요소중 하나다 문재인 대통령이 직접 올 들어 데이터 활용과 이에 따른 정보보호 보안 에 대한 중요성을 강조하기도 했다 이런 맥락 속에서 빅데이터센터는 공공과 민간이 협업해 활용도 높은 양질의 데이터를 생산 구축하고 플랫폼은 이를 수집 분석 유통하는 역할을 담당한다 과기정통부는 분야별 플랫폼 10개소와 이와 연계된 기관별 센터 100개소를 구축하는데 3년간 총 1516억원을 투입할 계획이며 올해 우선 640억원 규모의 사업을 추진하고 있다 대상 분야는 금융 BC카드 환경 한국수자원공사 문화 한국문화정보원 교통 한국교통연구원 헬스케어 국립암센터 유통 소비 매일방송 통신 KT 중소기업 더존비즈온 지역경제 경기도청 산림 한국임업진흥원 등으로 현재 1차 공모를 통해 72개 빅데이터 센터를 선정했고 다음달 8일까지 2차 공모를 통해 28개를 추가 선정해 총 100개를 지원 운영할 계획이다 이를 통해 데이터 생태계를 혁신하고 기업의 경쟁력을 제고하는 역할을 수행한다 주요 활용 전략 사례를 보면 빅데이터 활용을 통해 신 시장 을 창출하는 방안을 담고 있다 금융 플랫폼의 경우 소상공인 신용평가 고도화 등을 통해 금융 취약 계층 대상 중금리 대출이자를 2 p 절감해 연간 1조원의 신규대출을 창출할 전망이다 유통 소비와 중소기업 플랫폼은 소상공인이나 중소기업의 폐업률 감소를 문화 플랫폼은 문화 예술 관람률과 생활체육 참여율을 높이는 방안을 모색한다 의료비 절감 헬스케어 과 기업의 매출 향상을 통한 산업 육성 통신 산림 등도 눈길을 끈다 과기정통부 제공 2021년까지 5100여종 데이터 구축 AI 알고리즘 제공도센터는 우선 분야별 데이터 부족 문제를 해소하기 위해 올해 말까지 시장 수요가 높은 1400여종 신규 데이터를 생산 구축하고 사업이 완료되는 2021년까지 총 5100여종 양질의 풍부한 데이터를 생산 구축해 시장에 공급할 계획이다 특히 공공과 민간 사이 데이터 파일형식 등이 달라 호환이 제대로 이뤄지지 못한 문제를 해소하기 위해 개방형 표준을 적용하고 품질관리기준도 마련해 운영한다 기업들이 실제 활용 가능한 최신 데이터를 확보하는데도 수개월이 소요된다는 문제점을 개선하기 위한 방안도 추진한다 센터와 플랫폼 간 연계체계에는 민간 클라우드를 기반으로 활용하고 센터에 축적된 데이터도 계속 외부와 개방 공유하며 최신 연속성을 확보한다는 계획이다 100개 센터에서 수집된 데이터를 융합 분석한 뒤 맞춤형 데이터 제작 등 양질의 데이터로 재생산하고 기업들이 필요로 하는 데이터를 원하는 형태로 즉시 활용할 수 있도록 제공할 계획이다 다양한 분석 도구는 물론 인공지능 AI 학습 알고리즘도 제공해 이용자가 보다 사용하기 편리한 환경을 제공한다 이밖에 필요한 데이터를 쉽게 등록하고 검색할 수 있도록 기준을 마련하고 데이터 보유와 관리에 대한 체계 거버넌스 를 논의하는 데이터 얼라이언스 를 구성해 보다 안전하게 이용하는 방안도 마련했다 유영민 과기정통부 장관은 오늘 출범식은 대한민국이 데이터 강국으로 가기 위한 초석을 놓은 자리 라며 세계 주요국들보다 데이터 경제로 나아가는 발걸음이 다소 늦었지만 빅데이터 플랫폼과 센터를 지렛대로 우리나라의 낙후된 데이터 생태계를 혁신하고 기업의 경쟁력을 한 단계 제고할 수 있도록 정책적 역량을 집중하겠다 고 밝혔다'"
      ]
     },
     "execution_count": 204,
     "metadata": {},
     "output_type": "execute_result"
    }
   ],
   "source": [
    "import requests \n",
    "from bs4 import BeautifulSoup\n",
    "\n",
    "def get_news_by_url(url):\n",
    "    headers = {\"user-agent\" : \"Mozilla/5.0\"}\n",
    "    res = requests.get(url, headers=headers)\n",
    "    soup = BeautifulSoup(res.text, 'html.parser')\n",
    "    text = re.sub(\"\\s*.*오류를 우회하기 위한 함수 추가\\s.*\\s+\",\"\",soup.select_one(\"#articleBodyContents\").text)\n",
    "    text = re.sub(\".{3} \\(\\w+@.+\\).+\\s+\",\"\",text)\n",
    "    text = re.sub(\"[^가-힣A-z0-9\\s]+\",\" \",text)\n",
    "    text = re.sub(\"\\s+\",\" \",text).strip()\n",
    "    \n",
    "    return text\n",
    "    \n",
    "doc = get_news_by_url('https://news.naver.com/main/read.nhn?mode=LSD&mid=sec&sid1=105&oid=018&aid=0004430108')\n",
    "doc"
   ]
  },
  {
   "cell_type": "markdown",
   "metadata": {
    "id": "9QmtIyyHlygg"
   },
   "source": [
    "### 1) 토큰화 (Tokenization)\n",
    "\n",
    "분석 텍스트 정제"
   ]
  },
  {
   "cell_type": "code",
   "execution_count": 205,
   "metadata": {
    "id": "scz7N1PVFRBl"
   },
   "outputs": [],
   "source": [
    "# NNG, NNP \n",
    "\n",
    "from konlpy.tag import Mecab\n",
    "\n",
    "mecab = Mecab()\n",
    "tagged_text = mecab.pos(doc)\n",
    "\n",
    "NNGP = [word for word, pos in tagged_text if pos in [\"NNG\", \"NNP\"]]"
   ]
  },
  {
   "cell_type": "markdown",
   "metadata": {
    "id": "YBJSuIvKlygw"
   },
   "source": [
    "### 2) Unique한 토큰 목록 생성\n",
    "\n",
    "그래프 생성을 위해서 Unique한 토큰 목록 생성"
   ]
  },
  {
   "cell_type": "code",
   "execution_count": 206,
   "metadata": {},
   "outputs": [],
   "source": [
    "unique_nngp = list(set(NNGP))"
   ]
  },
  {
   "cell_type": "markdown",
   "metadata": {},
   "source": [
    "### 어휘 사전 만들기"
   ]
  },
  {
   "cell_type": "code",
   "execution_count": 207,
   "metadata": {},
   "outputs": [],
   "source": [
    "from collections import defaultdict\n",
    "\n",
    "vocab2idx = defaultdict(lambda : len(vocab2idx))\n",
    "idx2vocab = {}\n",
    "for word in unique_nngp:\n",
    "    vocab2idx[word]\n",
    "\n",
    "for word, idx in vocab2idx.items():\n",
    "    idx2vocab[idx] = word"
   ]
  },
  {
   "cell_type": "markdown",
   "metadata": {},
   "source": [
    "### window_size 지정하고 연관도 평가"
   ]
  },
  {
   "cell_type": "code",
   "execution_count": 208,
   "metadata": {
    "colab": {
     "base_uri": "https://localhost:8080/"
    },
    "executionInfo": {
     "elapsed": 5872,
     "status": "ok",
     "timestamp": 1624977762511,
     "user": {
      "displayName": "홍경수",
      "photoUrl": "",
      "userId": "10514684854108920109"
     },
     "user_tz": -540
    },
    "id": "h5_DwRpOlygz",
    "outputId": "e726eaa0-13e8-4722-d9c8-afef06176550"
   },
   "outputs": [],
   "source": [
    "import numpy as np\n",
    "import math\n",
    "\n",
    "vocab_len = len(vocab2idx)\n",
    "\n",
    "# 토큰별로 그래프 edge를 Matrix 형태로 생성\n",
    "weighted_edge = np.zeros((vocab_len,vocab_len),dtype=np.float32)\n",
    "\n",
    "# 각 토큰 노드별로 스코어 1로 초기화\n",
    "score = np.ones((vocab_len),dtype=np.float32)\n",
    "\n",
    "# coocurrence를 판단하기 위한 window 사이즈 설정\n",
    "window_size = 3\n",
    "covered_coocurrences = []\n",
    "\n",
    "\n",
    "for window_start in range(len(NNGP)-window_size+1):\n",
    "    window = NNGP[window_start : window_start + window_size]\n",
    "    \n",
    "    for i in range(window_size):\n",
    "        for j in range(i+1, window_size):\n",
    "            \n",
    "            if (window[i] in unique_nngp and window[j] in unique_nngp):\n",
    "                index_i = i + window_start\n",
    "                index_j = j + window_start\n",
    "                \n",
    "                \n",
    "                if (index_i, index_j) not in covered_coocurrences:\n",
    "                    weighted_edge[vocab2idx[window[i]]][vocab2idx[window[j]]] = 1 \n",
    "                    weighted_edge[vocab2idx[window[j]]][vocab2idx[window[i]]] = 1\n",
    "                    covered_coocurrences.append((index_i, index_j))\n",
    "\n",
    "                    \n",
    "for i in range(vocab_len):\n",
    "    row_sum = weighted_edge[i].sum()\n",
    "    weighted_edge[i] = weighted_edge[i]/row_sum if row_sum > 0 else 0"
   ]
  },
  {
   "cell_type": "markdown",
   "metadata": {},
   "source": [
    "### 연관도에 따라 점수 계산하기"
   ]
  },
  {
   "cell_type": "code",
   "execution_count": 209,
   "metadata": {},
   "outputs": [
    {
     "name": "stdout",
     "output_type": "stream",
     "text": [
      ">>> 33만큼 score를 계산했습니다!\n",
      "\n",
      "=== 핵심키워드 ===\n",
      "데이터 : 10.574605\n",
      "센터 : 4.1658134\n",
      "활용 : 3.7810252\n",
      "계획 : 3.131116\n",
      "빅 : 2.5514157\n"
     ]
    }
   ],
   "source": [
    "MAX_ITERATIONS = 50\n",
    "d=0.85\n",
    "threshold = 0.0001 #convergence threshold\n",
    "\n",
    "\n",
    "for iter in range(MAX_ITERATIONS):\n",
    "    prev_score = np.copy(score)\n",
    "\n",
    "    \n",
    "    for i in range(vocab_len):\n",
    "        summation = 0\n",
    "        for j in range(vocab_len):\n",
    "            summation += weighted_edge[j][i] * prev_score[j]\n",
    "            \n",
    "        score[i] = (1-d) + d*summation\n",
    "        \n",
    "    # np.fabs()는 float 형태의 절대값 주는 것\n",
    "    if np.sum(np.fabs(prev_score - score)) <= threshold:\n",
    "        print(f\">>> {iter}만큼 score를 계산했습니다!\")\n",
    "        break\n",
    "        \n",
    "sorted_index = np.flip(np.argsort(score),0)\n",
    "\n",
    "n = 5\n",
    "\n",
    "print(\"\\n=== 핵심키워드 ===\")\n",
    "for i in range(n):\n",
    "    print(str(idx2vocab[sorted_index[i]])+\" : \" + str(score[sorted_index[i]]))"
   ]
  },
  {
   "cell_type": "markdown",
   "metadata": {
    "id": "vOuNI7WSBcgU"
   },
   "source": [
    "---"
   ]
  },
  {
   "cell_type": "markdown",
   "metadata": {
    "id": "YZ8Uu6Rqbfyi"
   },
   "source": [
    "## 실습 2. 그래프 활용 "
   ]
  },
  {
   "cell_type": "code",
   "execution_count": 234,
   "metadata": {
    "colab": {
     "base_uri": "https://localhost:8080/",
     "height": 35
    },
    "executionInfo": {
     "elapsed": 392,
     "status": "ok",
     "timestamp": 1624977762891,
     "user": {
      "displayName": "홍경수",
      "photoUrl": "",
      "userId": "10514684854108920109"
     },
     "user_tz": -540
    },
    "id": "Nk06RCeMbfyk",
    "outputId": "9da033f3-be51-4e25-fc16-a8d789af721f"
   },
   "outputs": [
    {
     "data": {
      "text/plain": [
       "'과기정통부 22일 유영민 장관 등 참석해 기념행사2021년까지 1516억원 투입 5100여종 데이터 구축민간 클라우드 통한 외부연계체계도 개방성 강화 [이데일리 이재운 기자] 국가 차원의 빅데이터 활용 시대가 열린다 새로운 산업 창출과 기존 산업의 변화에 이르는 혁신성장 을 위한 센터가 문을 연다 10개 분야에 걸쳐 데이터 경제 의 발전을 위한 정부의 청사진을 현실로 구현하는데 앞장선다는 계획이다 22일 과학기술정보통신부는 서울 중구 대한상공회의소에서 데이터 생태계 조성과 혁신 성장의 기반 마련을 위한 빅데이터 플랫폼 및 센터 출범식 행사를 개최했다 유영민 과기정통부 장관을 비롯해 노웅래 국회 과학기술정보방송통신위원회 위원장 등 300여명이 참가했다 10개 분야 100개 센터 3년간 1516억원 투입이미지 픽사베이빅데이터는 데이터 활용을 통해 혁신성장을 이루자는 문재인 정부의 경제 성장 핵심 요소중 하나다 문재인 대통령이 직접 올 들어 데이터 활용과 이에 따른 정보보호 보안 에 대한 중요성을 강조하기도 했다 이런 맥락 속에서 빅데이터센터는 공공과 민간이 협업해 활용도 높은 양질의 데이터를 생산 구축하고 플랫폼은 이를 수집 분석 유통하는 역할을 담당한다 과기정통부는 분야별 플랫폼 10개소와 이와 연계된 기관별 센터 100개소를 구축하는데 3년간 총 1516억원을 투입할 계획이며 올해 우선 640억원 규모의 사업을 추진하고 있다 대상 분야는 금융 BC카드 환경 한국수자원공사 문화 한국문화정보원 교통 한국교통연구원 헬스케어 국립암센터 유통 소비 매일방송 통신 KT 중소기업 더존비즈온 지역경제 경기도청 산림 한국임업진흥원 등으로 현재 1차 공모를 통해 72개 빅데이터 센터를 선정했고 다음달 8일까지 2차 공모를 통해 28개를 추가 선정해 총 100개를 지원 운영할 계획이다 이를 통해 데이터 생태계를 혁신하고 기업의 경쟁력을 제고하는 역할을 수행한다 주요 활용 전략 사례를 보면 빅데이터 활용을 통해 신 시장 을 창출하는 방안을 담고 있다 금융 플랫폼의 경우 소상공인 신용평가 고도화 등을 통해 금융 취약 계층 대상 중금리 대출이자를 2 p 절감해 연간 1조원의 신규대출을 창출할 전망이다 유통 소비와 중소기업 플랫폼은 소상공인이나 중소기업의 폐업률 감소를 문화 플랫폼은 문화 예술 관람률과 생활체육 참여율을 높이는 방안을 모색한다 의료비 절감 헬스케어 과 기업의 매출 향상을 통한 산업 육성 통신 산림 등도 눈길을 끈다 과기정통부 제공 2021년까지 5100여종 데이터 구축 AI 알고리즘 제공도센터는 우선 분야별 데이터 부족 문제를 해소하기 위해 올해 말까지 시장 수요가 높은 1400여종 신규 데이터를 생산 구축하고 사업이 완료되는 2021년까지 총 5100여종 양질의 풍부한 데이터를 생산 구축해 시장에 공급할 계획이다 특히 공공과 민간 사이 데이터 파일형식 등이 달라 호환이 제대로 이뤄지지 못한 문제를 해소하기 위해 개방형 표준을 적용하고 품질관리기준도 마련해 운영한다 기업들이 실제 활용 가능한 최신 데이터를 확보하는데도 수개월이 소요된다는 문제점을 개선하기 위한 방안도 추진한다 센터와 플랫폼 간 연계체계에는 민간 클라우드를 기반으로 활용하고 센터에 축적된 데이터도 계속 외부와 개방 공유하며 최신 연속성을 확보한다는 계획이다 100개 센터에서 수집된 데이터를 융합 분석한 뒤 맞춤형 데이터 제작 등 양질의 데이터로 재생산하고 기업들이 필요로 하는 데이터를 원하는 형태로 즉시 활용할 수 있도록 제공할 계획이다 다양한 분석 도구는 물론 인공지능 AI 학습 알고리즘도 제공해 이용자가 보다 사용하기 편리한 환경을 제공한다 이밖에 필요한 데이터를 쉽게 등록하고 검색할 수 있도록 기준을 마련하고 데이터 보유와 관리에 대한 체계 거버넌스 를 논의하는 데이터 얼라이언스 를 구성해 보다 안전하게 이용하는 방안도 마련했다 유영민 과기정통부 장관은 오늘 출범식은 대한민국이 데이터 강국으로 가기 위한 초석을 놓은 자리 라며 세계 주요국들보다 데이터 경제로 나아가는 발걸음이 다소 늦었지만 빅데이터 플랫폼과 센터를 지렛대로 우리나라의 낙후된 데이터 생태계를 혁신하고 기업의 경쟁력을 한 단계 제고할 수 있도록 정책적 역량을 집중하겠다 고 밝혔다'"
      ]
     },
     "execution_count": 234,
     "metadata": {},
     "output_type": "execute_result"
    }
   ],
   "source": [
    "import requests \n",
    "from bs4 import BeautifulSoup\n",
    "\n",
    "def get_news_by_url(url):\n",
    "    headers = {\"user-agent\" : \"Mozilla/5.0\"}\n",
    "    res = requests.get(url, headers=headers)\n",
    "    soup = BeautifulSoup(res.text, 'html.parser')\n",
    "    text = re.sub(\"\\s*.*오류를 우회하기 위한 함수 추가\\s.*\\s+\",\"\",soup.select_one(\"#articleBodyContents\").text)\n",
    "    text = re.sub(\".{3} \\(\\w+@.+\\).+\\s+\",\"\",text)\n",
    "    text = re.sub(\"[^가-힣A-z0-9\\s]+\",\" \",text)\n",
    "    text = re.sub(\"\\s+\",\" \",text).strip()\n",
    "    \n",
    "    return text\n",
    "    \n",
    "doc = get_news_by_url('https://news.naver.com/main/read.nhn?mode=LSD&mid=sec&sid1=105&oid=018&aid=0004430108')\n",
    "doc"
   ]
  },
  {
   "cell_type": "markdown",
   "metadata": {
    "id": "683iA8igbfym"
   },
   "source": [
    "### 1) 토큰화 (Tokenization)\n",
    "\n",
    "분석 텍스트 정제"
   ]
  },
  {
   "cell_type": "code",
   "execution_count": 235,
   "metadata": {
    "id": "3SxuV1Zkbfyn"
   },
   "outputs": [],
   "source": [
    "# NNG, NNP \n",
    "\n",
    "from konlpy.tag import Mecab\n",
    "\n",
    "mecab = Mecab()\n",
    "tagged_text = mecab.pos(doc)\n",
    "\n",
    "tokens = [word for word, pos in tagged_text if pos in [\"NNG\", \"NNP\"]]"
   ]
  },
  {
   "cell_type": "code",
   "execution_count": 236,
   "metadata": {},
   "outputs": [],
   "source": [
    "nodes = list(set(tokens))"
   ]
  },
  {
   "cell_type": "markdown",
   "metadata": {
    "id": "iY8re-9gbfy9"
   },
   "source": [
    "### 2) 그래프 생성 (weighted edge 계산)\n",
    "\n",
    "*   TextRank는 그래프 기반 모델\n",
    "*   각 단어(토큰)은 그래프의 노드(vertex) 없음을 의미\n",
    "*   모든 노드는 1로 초기화"
   ]
  },
  {
   "cell_type": "code",
   "execution_count": 238,
   "metadata": {
    "id": "phYnQIcBbfy9"
   },
   "outputs": [],
   "source": [
    "import numpy as np\n",
    "import math\n",
    "import networkx as nx\n",
    "\n",
    "# 윈도내 동시 등장한 토큰으로 그래프를 생성\n",
    "def connect(nodes, tokens) :            \n",
    "    window_size = 3\n",
    "    \n",
    "    edges = []\n",
    "    for window_start in range(len(tokens)-window_size + 1):\n",
    "        window = tokens[window_start: window_start + window_size]\n",
    "        \n",
    "        for i in range(window_size):\n",
    "            for j in range(i+1, window_size):\n",
    "                if window[i] in nodes and window[j] in nodes:\n",
    "                    edges.append((window[i], window[j]))\n",
    "                    \n",
    "    return edges\n",
    "\n",
    "graph=nx.diamond_graph()\n",
    "graph.clear() \n",
    "graph.add_nodes_from(nodes) #node 등록\n",
    "graph.add_edges_from(connect(nodes, tokens)) #edge 연결    "
   ]
  },
  {
   "cell_type": "markdown",
   "metadata": {
    "id": "3c4KZdyufiBM"
   },
   "source": [
    "### 3) 스코어 계산 및 핵심키워드 추출"
   ]
  },
  {
   "cell_type": "code",
   "execution_count": 242,
   "metadata": {
    "colab": {
     "base_uri": "https://localhost:8080/"
    },
    "executionInfo": {
     "elapsed": 385,
     "status": "ok",
     "timestamp": 1624977763572,
     "user": {
      "displayName": "홍경수",
      "photoUrl": "",
      "userId": "10514684854108920109"
     },
     "user_tz": -540
    },
    "id": "h5pHA1WverhB",
    "outputId": "7e6efd67-2365-4a03-8222-38d6a33f600b"
   },
   "outputs": [
    {
     "name": "stdout",
     "output_type": "stream",
     "text": [
      "\n",
      "=== 핵심키워드 ===\n"
     ]
    },
    {
     "data": {
      "text/plain": [
       "[('데이터', 0.04576257110963298),\n",
       " ('센터', 0.01802390531951102),\n",
       " ('활용', 0.01636565086611036),\n",
       " ('계획', 0.01354673917655041),\n",
       " ('빅', 0.01104723244385533),\n",
       " ('폼', 0.010925864147045706),\n",
       " ('제공', 0.010746479874439137),\n",
       " ('플랫', 0.010029375121035132),\n",
       " ('방안', 0.009931529397231329),\n",
       " ('기업', 0.009797808113842238)]"
      ]
     },
     "execution_count": 242,
     "metadata": {},
     "output_type": "execute_result"
    }
   ],
   "source": [
    "scores = nx.pagerank(graph) #pagerank 계산\n",
    "rank = sorted(scores.items(), key=lambda x: x[1], reverse=True) #score 역순 정렬\n",
    "print(\"\\n=== 핵심키워드 ===\")\n",
    "rank[:10]"
   ]
  },
  {
   "cell_type": "markdown",
   "metadata": {
    "id": "8VsT2BazfadH"
   },
   "source": [
    "---"
   ]
  },
  {
   "cell_type": "markdown",
   "metadata": {
    "id": "kqX9Fid_a-S1"
   },
   "source": [
    "## 실습 3. TextRank 핵심 구 추출"
   ]
  },
  {
   "cell_type": "markdown",
   "metadata": {
    "id": "Tm_CV9CEbz2K"
   },
   "source": [
    "### 1) 불용어를 기준으로 구 추출"
   ]
  },
  {
   "cell_type": "code",
   "execution_count": null,
   "metadata": {
    "colab": {
     "base_uri": "https://localhost:8080/"
    },
    "executionInfo": {
     "elapsed": 15,
     "status": "ok",
     "timestamp": 1624977763573,
     "user": {
      "displayName": "홍경수",
      "photoUrl": "",
      "userId": "10514684854108920109"
     },
     "user_tz": -540
    },
    "id": "zGyVMVbubfzJ",
    "outputId": "a269a79e-50b6-415e-9938-1fc268b421a5"
   },
   "outputs": [
    {
     "name": "stdout",
     "output_type": "stream",
     "text": [
      "['과기 정통부', '일 유영민 장관 등 참석', '기념행사', '년', '억 원 투입', '여종 데이터 구축 민간 클라우드', '외부 연계 체계', '개방', '강화', '데일리 이재운 기자', '국가 차원', '빅 데이터 활용 시대', '산업 창출', '기존 산업', '변화', '혁신', '장', '센터', '문', '개 분야', '데이터 경제', '발전', '정부', '청사진', '현실', '구현', '데', '계획', '일 과학 기술 정보 통신부', '서울 중구 대한 상공 회의소', '데이터 생태', '조성', '혁신 성장', '기반 마련', '빅 데이터 플랫 폼', '센터', '출범식 행사', '개최', '유영민 과기 정통부 장관', '노웅래 국회 과학 기술 정보 방송 통신 위원회 위원장 등', '명', '참가', '개 분야', '개 센터', '년 간', '억 원 투입 이미지', '픽사 베이 빅 데이터', '데이터 활용', '혁신', '장', '문재', '정부', '경제 성장 핵심 요소 중 하나', '문재인 대통령', '데이터 활용', '이', '정보 보호', '보안', '중요', '강조', '맥락 속', '빅 데이터 센터', '공공', '민간', '협업', '활용', '양질', '데이터', '생산', '구축', '플랫 폼', '이', '수집', '분석', '유통', '역할', '담당', '과기 정통부', '분야', '플랫 폼', '개소', '이', '연계', '기관', '센터', '개소', '구축', '데', '년', '억 원', '투입', '계획', '올해', '억 원 규모', '사업', '추진', '대상 분야', '금융', '카드', '환경', '한국 수자원 공사', '문화', '한국 문화 정보원', '교통', '한국 교통 연구원', '헬 스케어', '국립암센터', '유통', '소비', '매일 방송', '통신', '중소기업', '비즈', '지역 경제', '경기도 청', '산림', '한국 임업', '흥원', '등', '차 공모', '개 빅 데이터 센터', '선정', '다음 달', '일', '차 공모', '개', '추가 선정', '개', '지원', '운영', '계획', '이', '데이터 생태계', '혁신', '기업', '경쟁력', '제고', '역할', '수행', '주요 활용 전략', '사례', '빅 데이터 활용', '신', '新', '시장', '창출', '방안', '금융 플랫 폼', '경우 소 상공', '신용 평가 고도', '등', '금융 취약 계층 대상 중 금리 대출', '절감', '연간', '조 원', '신규 대출', '창출', '전망', '유통', '소비', '중소기업 플랫 폼', '소상 공인', '중소기업', '폐업', '감소', '문화 플랫 폼', '문화', '예술 관람', '생활 체육 참여', '방안', '모색', '의료비 절감', '헬스 케어', '기업', '매출 향상', '산업 육성', '통신', '산림', '등', '눈길', '과기 정통부 제공', '년', '여종 데이터 구축', '알고리즘 제공', '센터', '분야', '데이터 부족 문제', '해소', '올해 말', '시장 수요', '여종 신규 데이터', '생산', '구축', '사업', '완료', '년', '여종 양질', '데이터', '생산', '구축', '시장', '공급', '계획', '공공', '민간 사이 데이터 파일 형식 등', '호환', '문제', '해소', '개방', '표준', '적용', '품질 관리 기준', '마련', '운영', '기업', '실제 활용 가능', '최신 데이터', '확보', '데', '수개월', '소요', '문제점', '개선', '방안', '추진', '센터', '플랫폼 간 연계 체계', '민간 클라우드', '기반', '활용', '센터', '축적', '데이터', '외부', '개방', '공유', '최신', '연속', '확보', '계획', '개 센터', '수집', '데이터', '융합', '분석', '뒤 맞춤', '데이터 제작 등 양질', '데이터', '생산', '기업', '필요', '데이터', '형태', '활용', '수', '제공', '계획', '분석 도구', '인공지능', '학습 알고리즘', '제공', '이용자', '사용', '편리', '환경', '제공', '밖', '필요', '데이터', '등록', '검색', '수', '기준', '마련', '데이터 보유', '관리', '체계', '거버넌스', '논의', '데이터 얼라이언스', '구성', '이용', '방안', '마련', '유영민 과기 정통부 장관', '오늘 출범식', '대한민국', '데이터 강국', '초석', '자리', '세계 주요 국', '데이터 경제', '발걸음', '빅 데이터 플랫 폼', '센터', '지렛대', '우리나라', '낙후', '데이터 생태계', '혁신', '기업', '경쟁력', '단계 제고', '수', '정책', '역량', '집중', '이재운', '네이버 홈', '데일리', '뉴스', '구독', '꿀 잼', '영상', '청춘 뉘 우스', '스냅 타임', '종합 경제 정보 미디어', '데일리', '무단 전재', '배포 금지']\n"
     ]
    }
   ],
   "source": [
    "phrases = []\n",
    "phrase = \" \"\n",
    "\n",
    "\n",
    "print(phrases)"
   ]
  },
  {
   "cell_type": "code",
   "execution_count": null,
   "metadata": {
    "colab": {
     "base_uri": "https://localhost:8080/"
    },
    "executionInfo": {
     "elapsed": 15,
     "status": "ok",
     "timestamp": 1624977763575,
     "user": {
      "displayName": "홍경수",
      "photoUrl": "",
      "userId": "10514684854108920109"
     },
     "user_tz": -540
    },
    "id": "1RKObP9ebfzM",
    "outputId": "e09a1f11-e260-47c6-ea47-ab11b0acb4db"
   },
   "outputs": [
    {
     "name": "stdout",
     "output_type": "stream",
     "text": [
      "['과기 정통부', '일 유영민 장관 등 참석', '기념행사', '년', '억 원 투입', '여종 데이터 구축 민간 클라우드', '외부 연계 체계', '개방', '강화', '데일리 이재운 기자', '국가 차원', '빅 데이터 활용 시대', '산업 창출', '기존 산업', '변화', '혁신', '장', '센터', '문', '개 분야', '데이터 경제', '발전', '정부', '청사진', '현실', '구현', '데', '계획', '일 과학 기술 정보 통신부', '서울 중구 대한 상공 회의소', '데이터 생태', '조성', '혁신 성장', '기반 마련', '빅 데이터 플랫 폼', '출범식 행사', '개최', '유영민 과기 정통부 장관', '노웅래 국회 과학 기술 정보 방송 통신 위원회 위원장 등', '명', '참가', '개 센터', '년 간', '억 원 투입 이미지', '픽사 베이 빅 데이터', '데이터 활용', '문재', '경제 성장 핵심 요소 중 하나', '문재인 대통령', '이', '정보 보호', '보안', '중요', '강조', '맥락 속', '빅 데이터 센터', '공공', '민간', '협업', '활용', '양질', '데이터', '생산', '구축', '플랫 폼', '수집', '분석', '유통', '역할', '담당', '분야', '개소', '연계', '기관', '억 원', '투입', '올해', '억 원 규모', '사업', '추진', '대상 분야', '금융', '카드', '환경', '한국 수자원 공사', '문화', '한국 문화 정보원', '교통', '한국 교통 연구원', '헬 스케어', '국립암센터', '소비', '매일 방송', '통신', '중소기업', '비즈', '지역 경제', '경기도 청', '산림', '한국 임업', '흥원', '등', '차 공모', '개 빅 데이터 센터', '선정', '다음 달', '일', '개', '추가 선정', '지원', '운영', '데이터 생태계', '기업', '경쟁력', '제고', '수행', '주요 활용 전략', '사례', '빅 데이터 활용', '신', '新', '시장', '창출', '방안', '금융 플랫 폼', '경우 소 상공', '신용 평가 고도', '금융 취약 계층 대상 중 금리 대출', '절감', '연간', '조 원', '신규 대출', '전망', '중소기업 플랫 폼', '소상 공인', '폐업', '감소', '문화 플랫 폼', '예술 관람', '생활 체육 참여', '모색', '의료비 절감', '헬스 케어', '매출 향상', '산업 육성', '눈길', '과기 정통부 제공', '여종 데이터 구축', '알고리즘 제공', '데이터 부족 문제', '해소', '올해 말', '시장 수요', '여종 신규 데이터', '완료', '여종 양질', '공급', '민간 사이 데이터 파일 형식 등', '호환', '문제', '표준', '적용', '품질 관리 기준', '마련', '실제 활용 가능', '최신 데이터', '확보', '수개월', '소요', '문제점', '개선', '플랫폼 간 연계 체계', '민간 클라우드', '기반', '축적', '외부', '공유', '최신', '연속', '융합', '뒤 맞춤', '데이터 제작 등 양질', '필요', '형태', '수', '제공', '분석 도구', '인공지능', '학습 알고리즘', '이용자', '사용', '편리', '밖', '등록', '검색', '기준', '데이터 보유', '관리', '체계', '거버넌스', '논의', '데이터 얼라이언스', '구성', '이용', '오늘 출범식', '대한민국', '데이터 강국', '초석', '자리', '세계 주요 국', '발걸음', '지렛대', '우리나라', '낙후', '단계 제고', '정책', '역량', '집중', '이재운', '네이버 홈', '데일리', '뉴스', '구독', '꿀 잼', '영상', '청춘 뉘 우스', '스냅 타임', '종합 경제 정보 미디어', '무단 전재', '배포 금지']\n"
     ]
    }
   ],
   "source": [
    "unique_phrases = []\n",
    "\n",
    "\n",
    "print(unique_phrases)"
   ]
  },
  {
   "cell_type": "markdown",
   "metadata": {
    "id": "rHbAUAfFbfzR"
   },
   "source": [
    "### 2) 각 구의 Score 계산\n",
    "\n",
    "앞서 산출한 각 단어별 점수를 합산"
   ]
  },
  {
   "cell_type": "code",
   "execution_count": null,
   "metadata": {
    "colab": {
     "base_uri": "https://localhost:8080/"
    },
    "executionInfo": {
     "elapsed": 11,
     "status": "ok",
     "timestamp": 1624977763575,
     "user": {
      "displayName": "홍경수",
      "photoUrl": "",
      "userId": "10514684854108920109"
     },
     "user_tz": -540
    },
    "id": "R4DP76OsbfzR",
    "outputId": "8a641e0d-9776-4874-ba28-adcafa2438a4"
   },
   "outputs": [
    {
     "name": "stdout",
     "output_type": "stream",
     "text": [
      "Keyword: '과기 정통부', Score: 0.01124933498027082\n",
      "Keyword: '일 유영민 장관 등 참석', Score: 0.013047761313401546\n",
      "Keyword: '기념행사', Score: 0.0022034464344388585\n",
      "Keyword: '년', Score: 0\n",
      "Keyword: '억 원 투입', Score: 0.003215471038656386\n",
      "Keyword: '여종 데이터 구축 민간 클라우드', Score: 0.06857882292392038\n",
      "Keyword: '외부 연계 체계', Score: 0.01653296999059789\n",
      "Keyword: '개방', Score: 0.007608411089591418\n",
      "Keyword: '강화', Score: 0.0022598290466079364\n",
      "Keyword: '데일리 이재운 기자', Score: 0.016337448780957005\n"
     ]
    }
   ],
   "source": [
    "vocabs = dict((r[0][0],r[1]) for r in rank)\n",
    "phrase_scores = []\n",
    "keywords = []\n"
   ]
  },
  {
   "cell_type": "markdown",
   "metadata": {
    "id": "0fw0Je8EbfzU"
   },
   "source": [
    "### 3) 각 구를 Score로 정렬하여 핵심 구 추출"
   ]
  },
  {
   "cell_type": "code",
   "execution_count": null,
   "metadata": {
    "colab": {
     "base_uri": "https://localhost:8080/"
    },
    "executionInfo": {
     "elapsed": 8,
     "status": "ok",
     "timestamp": 1624977763576,
     "user": {
      "displayName": "홍경수",
      "photoUrl": "",
      "userId": "10514684854108920109"
     },
     "user_tz": -540
    },
    "id": "wpdzhcBBbfzV",
    "outputId": "80a8a758-bd7a-4439-ec5c-c14a853f2ed5"
   },
   "outputs": [
    {
     "name": "stdout",
     "output_type": "stream",
     "text": [
      "Keywords:\n",
      "\n",
      "여종 데이터 구축 민간 클라우드, \n",
      "빅 데이터 플랫 폼, \n",
      "빅 데이터 센터, \n",
      "개 빅 데이터 센터, \n",
      "빅 데이터 활용 시대, \n",
      "민간 사이 데이터 파일 형식 등, \n",
      "빅 데이터 활용, \n",
      "픽사 베이 빅 데이터, \n",
      "여종 데이터 구축, \n",
      "데이터 경제, \n"
     ]
    }
   ],
   "source": [
    "sorted_index = np.flip(np.argsort(phrase_scores),0)\n",
    "\n",
    "keywords_num = 10\n",
    "\n",
    "print(\"Keywords:\\n\")\n",
    "\n",
    "for i in range(0,keywords_num):\n",
    "    print(str(keywords[sorted_index[i]])+\", \")"
   ]
  },
  {
   "cell_type": "markdown",
   "metadata": {
    "id": "kiz-Q64iXOaY"
   },
   "source": [
    "\n",
    "\n",
    "---\n",
    "\n"
   ]
  },
  {
   "cell_type": "markdown",
   "metadata": {
    "id": "GpFwfuGlpFL9"
   },
   "source": [
    "## 실습 4. gensim 활용"
   ]
  },
  {
   "cell_type": "code",
   "execution_count": 251,
   "metadata": {},
   "outputs": [
    {
     "name": "stdout",
     "output_type": "stream",
     "text": [
      "gensim==3.6.0\n",
      "Note: you may need to restart the kernel to use updated packages.\n"
     ]
    }
   ],
   "source": [
    "pip freeze | grep gensim"
   ]
  },
  {
   "cell_type": "code",
   "execution_count": 252,
   "metadata": {
    "colab": {
     "base_uri": "https://localhost:8080/"
    },
    "executionInfo": {
     "elapsed": 264,
     "status": "ok",
     "timestamp": 1624977763834,
     "user": {
      "displayName": "홍경수",
      "photoUrl": "",
      "userId": "10514684854108920109"
     },
     "user_tz": -540
    },
    "id": "fW7gy7_7ooKb",
    "outputId": "e2668e2b-91e0-4c27-a7bc-4aa7f7812dff",
    "scrolled": true
   },
   "outputs": [
    {
     "data": {
      "text/plain": [
       "['데이터', '계획이다', '데이터를', '빅데이터', '문재인']"
      ]
     },
     "execution_count": 252,
     "metadata": {},
     "output_type": "execute_result"
    }
   ],
   "source": [
    "from gensim.summarization import keywords\n",
    "keywords(doc, words=5).split('\\n')"
   ]
  },
  {
   "cell_type": "code",
   "execution_count": 253,
   "metadata": {
    "id": "MXlGMN3V0MlT"
   },
   "outputs": [],
   "source": [
    "keywords?"
   ]
  },
  {
   "cell_type": "markdown",
   "metadata": {
    "id": "8Ao4nqpgOooa"
   },
   "source": [
    "https://github.com/lovit/KR-WordRank"
   ]
  },
  {
   "cell_type": "markdown",
   "metadata": {},
   "source": [
    "## Key_sentence extraction"
   ]
  },
  {
   "cell_type": "markdown",
   "metadata": {},
   "source": [
    "#### - soynlpy 만든 사람"
   ]
  },
  {
   "cell_type": "code",
   "execution_count": 262,
   "metadata": {},
   "outputs": [],
   "source": [
    "# 얘도 텍스트 랭크 사용\n",
    "from krwordrank.sentence import summarize_with_sentences\n",
    "keywords, sents = summarize_with_sentences([doc], num_keywords=100, num_keysents=10)"
   ]
  },
  {
   "cell_type": "code",
   "execution_count": null,
   "metadata": {},
   "outputs": [],
   "source": []
  }
 ],
 "metadata": {
  "colab": {
   "collapsed_sections": [
    "hpTxmnbx8v6m"
   ],
   "name": "08 Prac 2. Keyword Extraction",
   "provenance": []
  },
  "kernelspec": {
   "display_name": "Python 3",
   "language": "python",
   "name": "python3"
  },
  "language_info": {
   "codemirror_mode": {
    "name": "ipython",
    "version": 3
   },
   "file_extension": ".py",
   "mimetype": "text/x-python",
   "name": "python",
   "nbconvert_exporter": "python",
   "pygments_lexer": "ipython3",
   "version": "3.8.10"
  },
  "metadata": {
   "interpreter": {
    "hash": "fdf011b52def7e3f084eb7b89f3703ab739b22787e49ad1d26daefb33084445b"
   }
  }
 },
 "nbformat": 4,
 "nbformat_minor": 1
}
