{
 "cells": [
  {
   "cell_type": "markdown",
   "metadata": {
    "colab": {
     "base_uri": "https://localhost:8080/"
    },
    "executionInfo": {
     "elapsed": 11,
     "status": "ok",
     "timestamp": 1628392277599,
     "user": {
      "displayName": "Ryle Yun",
      "photoUrl": "",
      "userId": "02421452761416637401"
     },
     "user_tz": -540
    },
    "id": "qLbiN2w9veXx",
    "outputId": "cdac2e83-8f7b-4763-f8e2-295170693a33"
   },
   "source": [
    "! nvidia-smi"
   ]
  },
  {
   "cell_type": "markdown",
   "metadata": {
    "colab": {
     "base_uri": "https://localhost:8080/"
    },
    "executionInfo": {
     "elapsed": 22517,
     "status": "ok",
     "timestamp": 1628392306554,
     "user": {
      "displayName": "Ryle Yun",
      "photoUrl": "",
      "userId": "02421452761416637401"
     },
     "user_tz": -540
    },
    "id": "ohBoe9hcvhS2",
    "outputId": "51777e5c-73d7-4736-df36-2396bdac69a8"
   },
   "source": [
    "from google.colab import drive\n",
    "drive.mount('/content/drive')"
   ]
  },
  {
   "cell_type": "markdown",
   "metadata": {
    "id": "gvjkTQqnveIA"
   },
   "source": []
  },
  {
   "cell_type": "code",
   "execution_count": 1,
   "metadata": {
    "executionInfo": {
     "elapsed": 332,
     "status": "ok",
     "timestamp": 1628392312121,
     "user": {
      "displayName": "Ryle Yun",
      "photoUrl": "",
      "userId": "02421452761416637401"
     },
     "user_tz": -540
    },
    "id": "EV7gsLFKKm8A"
   },
   "outputs": [],
   "source": [
    "import pandas as pd"
   ]
  },
  {
   "cell_type": "markdown",
   "metadata": {
    "id": "JHN1TAHI8Wg_"
   },
   "source": [
    "## 패스 수정 부탁 드립니다."
   ]
  },
  {
   "cell_type": "code",
   "execution_count": 2,
   "metadata": {
    "colab": {
     "base_uri": "https://localhost:8080/",
     "height": 58
    },
    "executionInfo": {
     "elapsed": 4,
     "status": "ok",
     "timestamp": 1628392313435,
     "user": {
      "displayName": "Ryle Yun",
      "photoUrl": "",
      "userId": "02421452761416637401"
     },
     "user_tz": -540
    },
    "id": "6Gj8EbQcvZjP",
    "outputId": "b391d75c-d107-4702-fb70-206a3532a95b"
   },
   "outputs": [
    {
     "data": {
      "text/plain": [
       "'/Users/ryleyun/Desktop/Github/Ryles_Practice/DACON'"
      ]
     },
     "execution_count": 2,
     "metadata": {},
     "output_type": "execute_result"
    }
   ],
   "source": [
    "import os\n",
    "os.getcwd()"
   ]
  },
  {
   "cell_type": "code",
   "execution_count": 3,
   "metadata": {
    "executionInfo": {
     "elapsed": 14216,
     "status": "ok",
     "timestamp": 1628392333699,
     "user": {
      "displayName": "Ryle Yun",
      "photoUrl": "",
      "userId": "02421452761416637401"
     },
     "user_tz": -540
    },
    "id": "iVKl72wiJoGA"
   },
   "outputs": [],
   "source": [
    "### 데이터 불러오기 (정제 안 된 것)|\n",
    "PATH = '..'\n",
    "# PATH = '/content/drive/MyDrive/Github/Ryles_Practice'\n",
    "train_pos = pd.read_csv(PATH + \"/DATA/open/train_pos.csv\")\n",
    "test_pos = pd.read_csv(PATH + \"/DATA/open/test_pos.csv\")"
   ]
  },
  {
   "cell_type": "code",
   "execution_count": 4,
   "metadata": {
    "executionInfo": {
     "elapsed": 5,
     "status": "ok",
     "timestamp": 1628392333701,
     "user": {
      "displayName": "Ryle Yun",
      "photoUrl": "",
      "userId": "02421452761416637401"
     },
     "user_tz": -540
    },
    "id": "66KV12RzJtWP"
   },
   "outputs": [],
   "source": [
    "train_pos = train_pos.fillna(\"없음\")\n",
    "test_pos = test_pos.fillna(\"없음\")"
   ]
  },
  {
   "cell_type": "code",
   "execution_count": 5,
   "metadata": {
    "executionInfo": {
     "elapsed": 513,
     "status": "ok",
     "timestamp": 1628392334211,
     "user": {
      "displayName": "Ryle Yun",
      "photoUrl": "",
      "userId": "02421452761416637401"
     },
     "user_tz": -540
    },
    "id": "8NAS9qe-8Wg_"
   },
   "outputs": [],
   "source": [
    "train_name_key = [str(sent) for sent in train_pos['과제명'] + \" \" + train_pos['요약문_한글키워드']]\n",
    "train_goal = [str(sent) for sent in train_pos['요약문_연구목표']]\n",
    "train_cont = [str(sent) for sent in train_pos['요약문_연구내용']]\n",
    "train_effect = [str(sent) for sent in train_pos['요약문_기대효과']]\n",
    "test_name_key = [str(sent) for sent in test_pos['과제명'] + \" \" + test_pos['요약문_한글키워드']]\n",
    "test_goal = [str(sent) for sent in test_pos['요약문_연구목표']]\n",
    "test_cont = [str(sent) for sent in test_pos['요약문_연구내용']]\n",
    "test_effect = [str(sent) for sent in test_pos['요약문_기대효과']]\n",
    "train_label = [int(str(answer)) for answer in train_pos['label']]"
   ]
  },
  {
   "cell_type": "code",
   "execution_count": 6,
   "metadata": {
    "executionInfo": {
     "elapsed": 7442,
     "status": "ok",
     "timestamp": 1628392341651,
     "user": {
      "displayName": "Ryle Yun",
      "photoUrl": "",
      "userId": "02421452761416637401"
     },
     "user_tz": -540
    },
    "id": "0xaWcJIZKy8m"
   },
   "outputs": [],
   "source": [
    "train_concat = [str(name)+\" \"+str(key)+\" \"+\" \".join(str(goal).split()[:100])+\" \"+\" \".join(str(effect).split()[:100])+\" \"+\" \".join(str(cont).split()[:100]) for name, key, goal, effect, cont in zip(train_pos['과제명'], train_pos['요약문_한글키워드'], train_pos['요약문_연구목표'], train_pos['요약문_기대효과'], train_pos['요약문_연구내용'])]\n",
    "test_concat = [str(name)+\" \"+str(key)+\" \"+\" \".join(str(goal).split()[:100])+\" \"+\" \".join(str(effect).split()[:100])+\" \"+\" \".join(str(cont).split()[:100]) for name, key, goal, effect, cont in zip(test_pos['과제명'], test_pos['요약문_한글키워드'], test_pos['요약문_연구목표'], test_pos['요약문_기대효과'], test_pos['요약문_연구내용'])]\n",
    "train_label = train_pos['label']"
   ]
  },
  {
   "cell_type": "code",
   "execution_count": 7,
   "metadata": {
    "executionInfo": {
     "elapsed": 337,
     "status": "ok",
     "timestamp": 1628392345062,
     "user": {
      "displayName": "Ryle Yun",
      "photoUrl": "",
      "userId": "02421452761416637401"
     },
     "user_tz": -540
    },
    "id": "nqPHIjorVysN",
    "scrolled": true
   },
   "outputs": [],
   "source": [
    "from sklearn.model_selection import train_test_split\n",
    "train_data, valid_data, train_label, valid_label = train_test_split(train_name_key, train_label, test_size=0.1, random_state=42)"
   ]
  },
  {
   "cell_type": "code",
   "execution_count": 8,
   "metadata": {
    "executionInfo": {
     "elapsed": 1033,
     "status": "ok",
     "timestamp": 1628392342681,
     "user": {
      "displayName": "Ryle Yun",
      "photoUrl": "",
      "userId": "02421452761416637401"
     },
     "user_tz": -540
    },
    "id": "SQLtosqZTQ5F"
   },
   "outputs": [],
   "source": [
    "from sklearn.pipeline import Pipeline\n",
    "from sklearn.feature_extraction.text import CountVectorizer\n",
    "from sklearn.feature_extraction.text import TfidfTransformer\n",
    "from sklearn.naive_bayes import MultinomialNB, BernoulliNB\n",
    "from sklearn.model_selection import GridSearchCV, RandomizedSearchCV\n",
    "from sklearn.utils.fixes import loguniform\n",
    "from sklearn.linear_model import LogisticRegression\n",
    "from sklearn.ensemble import VotingClassifier\n",
    "from sklearn.model_selection import cross_validate\n",
    "from sklearn.metrics import accuracy_score\n",
    "import xgboost as xgb\n",
    "from xgboost import XGBRFClassifier"
   ]
  },
  {
   "cell_type": "markdown",
   "metadata": {
    "id": "WGJLIpg-KCnm"
   },
   "source": [
    "text_clf = Pipeline([(\"vect\", CountVectorizer()), (\"tfidf\", TfidfTransformer()), (\"clf\", MultinomialNB())])\n",
    "# text_clf = text_clf.fit(train_concat, train_label)\n",
    "\n",
    "distribution_lr = loguniform(0.0001, 1.0)\n",
    "\n",
    "params_clf = {\"vect__ngram_range\":[(1,2), (1,3), (1,5), (1,7)],\n",
    "              \"clf__alpha\" : distribution_lr}\n",
    "\n",
    "nb_clf = RandomizedSearchCV(text_clf, params_clf, n_iter=50, n_jobs=-1, verbose=2, cv=10, random_state = 42)\n",
    "nb_clf = nb_clf.fit(train_data, train_label)\n",
    "\n",
    "print(\"Best score: {}\".format(nb_clf.best_score_))\n",
    "nb_clf_best = nb_clf.best_estimator_"
   ]
  },
  {
   "cell_type": "markdown",
   "metadata": {
    "id": "KGmzUurXTBpb"
   },
   "source": [
    "text_clf = Pipeline([('vect', CountVectorizer()),\n",
    "                    ('tfidf' , TfidfTransformer()),\n",
    "                    ('clf' , BernoulliNB())])\n",
    "\n",
    "distribution_bnb = loguniform(0.0001, 1.0)\n",
    "\n",
    "params_clf = {\"vect__ngram_range\" : [(1,2),(1,3),(1,5),(1,7)],\n",
    "                  \"clf__alpha\" : distribution_bnb,\n",
    "                  \"clf__binarize\" : distribution_bnb,\n",
    "              }\n",
    "\n",
    "bn_clf = RandomizedSearchCV(text_clf, params_clf, n_iter = 50, cv = 10, random_state = 42, verbose = 2, n_jobs = -1)\n",
    "bn_clf = bn_clf.fit(train_data, train_label)\n",
    "\n",
    "print(\"Best score: {}\".format(bn_clf.best_score_))\n",
    "bn_clf_best = bn_clf.best_estimator_"
   ]
  },
  {
   "cell_type": "markdown",
   "metadata": {
    "colab": {
     "base_uri": "https://localhost:8080/"
    },
    "id": "ynbx1XmovZjR",
    "outputId": "0b6951c0-0df5-412b-b43e-51d067c22a0f"
   },
   "source": [
    "text_clf = Pipeline([('vect', CountVectorizer()),\n",
    "                    ('tfidf', TfidfTransformer()),\n",
    "                    ('clf', XGBRFClassifier(learning_rate=0.01, subsample=0.9, random_state=42))])\n",
    "\n",
    "params_clf = {\"vect__ngram_range\":[(1,2), (1,3), (1,5), (1,7)],\n",
    "              \"clf__n_estimators\":[100, 200, 500],\n",
    "              'clf__colsample_bytree':[0.3, 0.5, 0.9],\n",
    "              'clf__max_depth':[3, 7, 10]}\n",
    "\n",
    "rf_clf = RandomizedSearchCV(text_clf, params_clf, n_iter = 50, cv = 5, random_state = 42, verbose = 2, n_jobs = -1)\n",
    "rf_clf = rf_clf.fit(train_data, train_label)\n",
    "\n",
    "print(\"Best score: {}\".format(rf_clf.best_score_))\n",
    "rf_clf_best = rf_clf.best_estimator_"
   ]
  },
  {
   "cell_type": "markdown",
   "metadata": {
    "id": "AvnjGrGg8WhC"
   },
   "source": [
    "## 패스 수정 부탁 드립니다."
   ]
  },
  {
   "cell_type": "markdown",
   "metadata": {
    "id": "IHP5LmvD8WhD"
   },
   "source": [
    "import pickle\n",
    "# pickle.dump(nb_clf_best, open('../nb_clf_nk_model.sav', 'wb'))\n",
    "# pickle.dump(bn_clf_best, open('../bn_clf_nk_model.sav', 'wb'))\n",
    "pickle.dump(lr_clf_best, open('../lr_clf_nk_model.sav', 'wb'))"
   ]
  },
  {
   "cell_type": "code",
   "execution_count": 9,
   "metadata": {
    "id": "7N3SB4pfvZjS"
   },
   "outputs": [
    {
     "data": {
      "text/plain": [
       "'/Users/ryleyun/Desktop/Github/Ryles_Practice/DACON'"
      ]
     },
     "execution_count": 9,
     "metadata": {},
     "output_type": "execute_result"
    }
   ],
   "source": [
    "os.getcwd()"
   ]
  },
  {
   "cell_type": "markdown",
   "metadata": {
    "id": "tnFKePdHvZjS"
   },
   "source": [
    "!cp '/content/drive/MyDrive/Desktop/nb_clf_nk_model.sav'\n",
    "!cp '/content/drive/MyDrive/Desktop.bn_clf_nk_model.sav'"
   ]
  },
  {
   "cell_type": "code",
   "execution_count": 10,
   "metadata": {
    "id": "2G9meRgh9HW_"
   },
   "outputs": [],
   "source": [
    "import pickle\n",
    "# nb_clf_best = pickle.load(open('nb_clf_nk_model.sav','rb'))\n",
    "# bn_clf_best = pickle.load(open('bn_clf_nk_model.sav','rb'))\n",
    "nb_clf_best = pickle.load(open('../../../nb_clf_nk_model.sav','rb'))\n",
    "bn_clf_best = pickle.load(open('../../../bn_clf_nk_model.sav','rb'))\n",
    "lgb_clf_best = pickle.load(open('../../../lgb_clf_best_model.sav','rb'))\n",
    "xgb_clf_best = pickle.load(open('../../../xgb_clf_best_model.sav','rb'))"
   ]
  },
  {
   "cell_type": "code",
   "execution_count": 11,
   "metadata": {
    "id": "xu5X_CxXKFYx"
   },
   "outputs": [
    {
     "name": "stdout",
     "output_type": "stream",
     "text": [
      "NaiveBaise\n",
      "잘못 분류된 개수: 1251\n",
      "정확도: 0.928\n",
      "BernoisBaise\n",
      "잘못 분류된 개수: 1327\n",
      "정확도: 0.924\n",
      "LGB\n",
      "잘못 분류된 개수: 601\n",
      "정확도: 0.966\n",
      "XGB\n",
      "잘못 분류된 개수: 610\n",
      "정확도: 0.965\n"
     ]
    }
   ],
   "source": [
    "nb_clf_best_pred = nb_clf_best.predict(valid_data)\n",
    "print('NaiveBaise')\n",
    "print('잘못 분류된 개수: %d' % (valid_label != nb_clf_best_pred).sum())\n",
    "print('정확도: %.3f' % accuracy_score(valid_label, nb_clf_best_pred))\n",
    "bn_clf_best_pred = bn_clf_best.predict(valid_data)\n",
    "print('BernoisBaise')\n",
    "print('잘못 분류된 개수: %d' % (valid_label != bn_clf_best_pred).sum())\n",
    "print('정확도: %.3f' % accuracy_score(valid_label, bn_clf_best_pred))\n",
    "# rf_clf_best_pred = rf_clf_best.predict(valid_data)\n",
    "# print('RF')\n",
    "# print('잘못 분류된 개수: %d' % (valid_label != rf_clf_best_pred).sum())\n",
    "# print('정확도: %.3f' % accuracy_score(valid_label, rf_clf_best_pred))\n",
    "lgb_clf_best_pred = lgb_clf_best.predict(valid_data)\n",
    "print('LGB')\n",
    "print('잘못 분류된 개수: %d' % (valid_label != lgb_clf_best_pred).sum())\n",
    "print('정확도: %.3f' % accuracy_score(valid_label, lgb_clf_best_pred))\n",
    "xgb_clf_best_pred = xgb_clf_best.predict(valid_data)\n",
    "print('XGB')\n",
    "print('잘못 분류된 개수: %d' % (valid_label != xgb_clf_best_pred).sum())\n",
    "print('정확도: %.3f' % accuracy_score(valid_label, xgb_clf_best_pred))"
   ]
  },
  {
   "cell_type": "code",
   "execution_count": 12,
   "metadata": {
    "id": "PV8dtaSKYYUU"
   },
   "outputs": [
    {
     "name": "stderr",
     "output_type": "stream",
     "text": [
      "[18:08:57] WARNING: /Users/travis/build/dmlc/xgboost/src/learner.cc:573: \n",
      "Parameters: { \"sample_weight\" } might not be used.\n",
      "\n",
      "  This may not be accurate due to some parameters are only used in language bindings but\n",
      "  passed down to XGBoost core.  Or some parameters are not used but slip through this\n",
      "  verification. Please open an issue if you find above cases.\n",
      "\n",
      "\n"
     ]
    },
    {
     "ename": "TerminatedWorkerError",
     "evalue": "A worker process managed by the executor was unexpectedly terminated. This could be caused by a segmentation fault while calling the function or by an excessive memory usage causing the Operating System to kill the worker.\n\nThe exit codes of the workers are {SIGSEGV(-11)}",
     "output_type": "error",
     "traceback": [
      "\u001b[0;31m---------------------------------------------------------------------------\u001b[0m",
      "\u001b[0;31mTerminatedWorkerError\u001b[0m                     Traceback (most recent call last)",
      "\u001b[0;32m/var/folders/s5/j2ttz_bd7d500bsb_zg9212w0000gn/T/ipykernel_871/705475322.py\u001b[0m in \u001b[0;36m<module>\u001b[0;34m\u001b[0m\n\u001b[1;32m      3\u001b[0m \u001b[0mstack\u001b[0m \u001b[0;34m=\u001b[0m \u001b[0mStackingClassifier\u001b[0m\u001b[0;34m(\u001b[0m\u001b[0mestimators\u001b[0m \u001b[0;34m=\u001b[0m \u001b[0;34m[\u001b[0m\u001b[0;34m(\u001b[0m\u001b[0;34m'nb'\u001b[0m\u001b[0;34m,\u001b[0m \u001b[0mnb_clf_best\u001b[0m\u001b[0;34m)\u001b[0m\u001b[0;34m,\u001b[0m \u001b[0;34m(\u001b[0m\u001b[0;34m'bn'\u001b[0m\u001b[0;34m,\u001b[0m \u001b[0mbn_clf_best\u001b[0m\u001b[0;34m)\u001b[0m\u001b[0;34m,\u001b[0m \u001b[0;34m(\u001b[0m\u001b[0;34m'lgb'\u001b[0m\u001b[0;34m,\u001b[0m \u001b[0mlgb_clf_best\u001b[0m\u001b[0;34m)\u001b[0m\u001b[0;34m,\u001b[0m \u001b[0;34m(\u001b[0m\u001b[0;34m'xgb'\u001b[0m\u001b[0;34m,\u001b[0m \u001b[0mxgb_clf_best\u001b[0m\u001b[0;34m)\u001b[0m\u001b[0;34m]\u001b[0m\u001b[0;34m,\u001b[0m \u001b[0mn_jobs\u001b[0m\u001b[0;34m=\u001b[0m\u001b[0;36m5\u001b[0m\u001b[0;34m)\u001b[0m\u001b[0;34m\u001b[0m\u001b[0;34m\u001b[0m\u001b[0m\n\u001b[1;32m      4\u001b[0m \u001b[0;34m\u001b[0m\u001b[0m\n\u001b[0;32m----> 5\u001b[0;31m \u001b[0mstack\u001b[0m\u001b[0;34m.\u001b[0m\u001b[0mfit\u001b[0m\u001b[0;34m(\u001b[0m\u001b[0mtrain_data\u001b[0m\u001b[0;34m,\u001b[0m \u001b[0mtrain_label\u001b[0m\u001b[0;34m)\u001b[0m\u001b[0;34m\u001b[0m\u001b[0;34m\u001b[0m\u001b[0m\n\u001b[0m",
      "\u001b[0;32m~/opt/anaconda3/envs/nlppython/lib/python3.8/site-packages/sklearn/ensemble/_stacking.py\u001b[0m in \u001b[0;36mfit\u001b[0;34m(self, X, y, sample_weight)\u001b[0m\n\u001b[1;32m    439\u001b[0m         \u001b[0mself\u001b[0m\u001b[0;34m.\u001b[0m\u001b[0m_le\u001b[0m \u001b[0;34m=\u001b[0m \u001b[0mLabelEncoder\u001b[0m\u001b[0;34m(\u001b[0m\u001b[0;34m)\u001b[0m\u001b[0;34m.\u001b[0m\u001b[0mfit\u001b[0m\u001b[0;34m(\u001b[0m\u001b[0my\u001b[0m\u001b[0;34m)\u001b[0m\u001b[0;34m\u001b[0m\u001b[0;34m\u001b[0m\u001b[0m\n\u001b[1;32m    440\u001b[0m         \u001b[0mself\u001b[0m\u001b[0;34m.\u001b[0m\u001b[0mclasses_\u001b[0m \u001b[0;34m=\u001b[0m \u001b[0mself\u001b[0m\u001b[0;34m.\u001b[0m\u001b[0m_le\u001b[0m\u001b[0;34m.\u001b[0m\u001b[0mclasses_\u001b[0m\u001b[0;34m\u001b[0m\u001b[0;34m\u001b[0m\u001b[0m\n\u001b[0;32m--> 441\u001b[0;31m         \u001b[0;32mreturn\u001b[0m \u001b[0msuper\u001b[0m\u001b[0;34m(\u001b[0m\u001b[0;34m)\u001b[0m\u001b[0;34m.\u001b[0m\u001b[0mfit\u001b[0m\u001b[0;34m(\u001b[0m\u001b[0mX\u001b[0m\u001b[0;34m,\u001b[0m \u001b[0mself\u001b[0m\u001b[0;34m.\u001b[0m\u001b[0m_le\u001b[0m\u001b[0;34m.\u001b[0m\u001b[0mtransform\u001b[0m\u001b[0;34m(\u001b[0m\u001b[0my\u001b[0m\u001b[0;34m)\u001b[0m\u001b[0;34m,\u001b[0m \u001b[0msample_weight\u001b[0m\u001b[0;34m)\u001b[0m\u001b[0;34m\u001b[0m\u001b[0;34m\u001b[0m\u001b[0m\n\u001b[0m\u001b[1;32m    442\u001b[0m \u001b[0;34m\u001b[0m\u001b[0m\n\u001b[1;32m    443\u001b[0m     \u001b[0;34m@\u001b[0m\u001b[0mif_delegate_has_method\u001b[0m\u001b[0;34m(\u001b[0m\u001b[0mdelegate\u001b[0m\u001b[0;34m=\u001b[0m\u001b[0;34m'final_estimator_'\u001b[0m\u001b[0;34m)\u001b[0m\u001b[0;34m\u001b[0m\u001b[0;34m\u001b[0m\u001b[0m\n",
      "\u001b[0;32m~/opt/anaconda3/envs/nlppython/lib/python3.8/site-packages/sklearn/ensemble/_stacking.py\u001b[0m in \u001b[0;36mfit\u001b[0;34m(self, X, y, sample_weight)\u001b[0m\n\u001b[1;32m    177\u001b[0m                       \u001b[0;32mif\u001b[0m \u001b[0msample_weight\u001b[0m \u001b[0;32mis\u001b[0m \u001b[0;32mnot\u001b[0m \u001b[0;32mNone\u001b[0m\u001b[0;34m\u001b[0m\u001b[0;34m\u001b[0m\u001b[0m\n\u001b[1;32m    178\u001b[0m                       else None)\n\u001b[0;32m--> 179\u001b[0;31m         predictions = Parallel(n_jobs=self.n_jobs)(\n\u001b[0m\u001b[1;32m    180\u001b[0m             delayed(cross_val_predict)(clone(est), X, y, cv=deepcopy(cv),\n\u001b[1;32m    181\u001b[0m                                        \u001b[0mmethod\u001b[0m\u001b[0;34m=\u001b[0m\u001b[0mmeth\u001b[0m\u001b[0;34m,\u001b[0m \u001b[0mn_jobs\u001b[0m\u001b[0;34m=\u001b[0m\u001b[0mself\u001b[0m\u001b[0;34m.\u001b[0m\u001b[0mn_jobs\u001b[0m\u001b[0;34m,\u001b[0m\u001b[0;34m\u001b[0m\u001b[0;34m\u001b[0m\u001b[0m\n",
      "\u001b[0;32m~/opt/anaconda3/envs/nlppython/lib/python3.8/site-packages/joblib/parallel.py\u001b[0m in \u001b[0;36m__call__\u001b[0;34m(self, iterable)\u001b[0m\n\u001b[1;32m   1052\u001b[0m \u001b[0;34m\u001b[0m\u001b[0m\n\u001b[1;32m   1053\u001b[0m             \u001b[0;32mwith\u001b[0m \u001b[0mself\u001b[0m\u001b[0;34m.\u001b[0m\u001b[0m_backend\u001b[0m\u001b[0;34m.\u001b[0m\u001b[0mretrieval_context\u001b[0m\u001b[0;34m(\u001b[0m\u001b[0;34m)\u001b[0m\u001b[0;34m:\u001b[0m\u001b[0;34m\u001b[0m\u001b[0;34m\u001b[0m\u001b[0m\n\u001b[0;32m-> 1054\u001b[0;31m                 \u001b[0mself\u001b[0m\u001b[0;34m.\u001b[0m\u001b[0mretrieve\u001b[0m\u001b[0;34m(\u001b[0m\u001b[0;34m)\u001b[0m\u001b[0;34m\u001b[0m\u001b[0;34m\u001b[0m\u001b[0m\n\u001b[0m\u001b[1;32m   1055\u001b[0m             \u001b[0;31m# Make sure that we get a last message telling us we are done\u001b[0m\u001b[0;34m\u001b[0m\u001b[0;34m\u001b[0m\u001b[0;34m\u001b[0m\u001b[0m\n\u001b[1;32m   1056\u001b[0m             \u001b[0melapsed_time\u001b[0m \u001b[0;34m=\u001b[0m \u001b[0mtime\u001b[0m\u001b[0;34m.\u001b[0m\u001b[0mtime\u001b[0m\u001b[0;34m(\u001b[0m\u001b[0;34m)\u001b[0m \u001b[0;34m-\u001b[0m \u001b[0mself\u001b[0m\u001b[0;34m.\u001b[0m\u001b[0m_start_time\u001b[0m\u001b[0;34m\u001b[0m\u001b[0;34m\u001b[0m\u001b[0m\n",
      "\u001b[0;32m~/opt/anaconda3/envs/nlppython/lib/python3.8/site-packages/joblib/parallel.py\u001b[0m in \u001b[0;36mretrieve\u001b[0;34m(self)\u001b[0m\n\u001b[1;32m    931\u001b[0m             \u001b[0;32mtry\u001b[0m\u001b[0;34m:\u001b[0m\u001b[0;34m\u001b[0m\u001b[0;34m\u001b[0m\u001b[0m\n\u001b[1;32m    932\u001b[0m                 \u001b[0;32mif\u001b[0m \u001b[0mgetattr\u001b[0m\u001b[0;34m(\u001b[0m\u001b[0mself\u001b[0m\u001b[0;34m.\u001b[0m\u001b[0m_backend\u001b[0m\u001b[0;34m,\u001b[0m \u001b[0;34m'supports_timeout'\u001b[0m\u001b[0;34m,\u001b[0m \u001b[0;32mFalse\u001b[0m\u001b[0;34m)\u001b[0m\u001b[0;34m:\u001b[0m\u001b[0;34m\u001b[0m\u001b[0;34m\u001b[0m\u001b[0m\n\u001b[0;32m--> 933\u001b[0;31m                     \u001b[0mself\u001b[0m\u001b[0;34m.\u001b[0m\u001b[0m_output\u001b[0m\u001b[0;34m.\u001b[0m\u001b[0mextend\u001b[0m\u001b[0;34m(\u001b[0m\u001b[0mjob\u001b[0m\u001b[0;34m.\u001b[0m\u001b[0mget\u001b[0m\u001b[0;34m(\u001b[0m\u001b[0mtimeout\u001b[0m\u001b[0;34m=\u001b[0m\u001b[0mself\u001b[0m\u001b[0;34m.\u001b[0m\u001b[0mtimeout\u001b[0m\u001b[0;34m)\u001b[0m\u001b[0;34m)\u001b[0m\u001b[0;34m\u001b[0m\u001b[0;34m\u001b[0m\u001b[0m\n\u001b[0m\u001b[1;32m    934\u001b[0m                 \u001b[0;32melse\u001b[0m\u001b[0;34m:\u001b[0m\u001b[0;34m\u001b[0m\u001b[0;34m\u001b[0m\u001b[0m\n\u001b[1;32m    935\u001b[0m                     \u001b[0mself\u001b[0m\u001b[0;34m.\u001b[0m\u001b[0m_output\u001b[0m\u001b[0;34m.\u001b[0m\u001b[0mextend\u001b[0m\u001b[0;34m(\u001b[0m\u001b[0mjob\u001b[0m\u001b[0;34m.\u001b[0m\u001b[0mget\u001b[0m\u001b[0;34m(\u001b[0m\u001b[0;34m)\u001b[0m\u001b[0;34m)\u001b[0m\u001b[0;34m\u001b[0m\u001b[0;34m\u001b[0m\u001b[0m\n",
      "\u001b[0;32m~/opt/anaconda3/envs/nlppython/lib/python3.8/site-packages/joblib/_parallel_backends.py\u001b[0m in \u001b[0;36mwrap_future_result\u001b[0;34m(future, timeout)\u001b[0m\n\u001b[1;32m    540\u001b[0m         AsyncResults.get from multiprocessing.\"\"\"\n\u001b[1;32m    541\u001b[0m         \u001b[0;32mtry\u001b[0m\u001b[0;34m:\u001b[0m\u001b[0;34m\u001b[0m\u001b[0;34m\u001b[0m\u001b[0m\n\u001b[0;32m--> 542\u001b[0;31m             \u001b[0;32mreturn\u001b[0m \u001b[0mfuture\u001b[0m\u001b[0;34m.\u001b[0m\u001b[0mresult\u001b[0m\u001b[0;34m(\u001b[0m\u001b[0mtimeout\u001b[0m\u001b[0;34m=\u001b[0m\u001b[0mtimeout\u001b[0m\u001b[0;34m)\u001b[0m\u001b[0;34m\u001b[0m\u001b[0;34m\u001b[0m\u001b[0m\n\u001b[0m\u001b[1;32m    543\u001b[0m         \u001b[0;32mexcept\u001b[0m \u001b[0mCfTimeoutError\u001b[0m \u001b[0;32mas\u001b[0m \u001b[0me\u001b[0m\u001b[0;34m:\u001b[0m\u001b[0;34m\u001b[0m\u001b[0;34m\u001b[0m\u001b[0m\n\u001b[1;32m    544\u001b[0m             \u001b[0;32mraise\u001b[0m \u001b[0mTimeoutError\u001b[0m \u001b[0;32mfrom\u001b[0m \u001b[0me\u001b[0m\u001b[0;34m\u001b[0m\u001b[0;34m\u001b[0m\u001b[0m\n",
      "\u001b[0;32m~/opt/anaconda3/envs/nlppython/lib/python3.8/concurrent/futures/_base.py\u001b[0m in \u001b[0;36mresult\u001b[0;34m(self, timeout)\u001b[0m\n\u001b[1;32m    442\u001b[0m                     \u001b[0;32mraise\u001b[0m \u001b[0mCancelledError\u001b[0m\u001b[0;34m(\u001b[0m\u001b[0;34m)\u001b[0m\u001b[0;34m\u001b[0m\u001b[0;34m\u001b[0m\u001b[0m\n\u001b[1;32m    443\u001b[0m                 \u001b[0;32melif\u001b[0m \u001b[0mself\u001b[0m\u001b[0;34m.\u001b[0m\u001b[0m_state\u001b[0m \u001b[0;34m==\u001b[0m \u001b[0mFINISHED\u001b[0m\u001b[0;34m:\u001b[0m\u001b[0;34m\u001b[0m\u001b[0;34m\u001b[0m\u001b[0m\n\u001b[0;32m--> 444\u001b[0;31m                     \u001b[0;32mreturn\u001b[0m \u001b[0mself\u001b[0m\u001b[0;34m.\u001b[0m\u001b[0m__get_result\u001b[0m\u001b[0;34m(\u001b[0m\u001b[0;34m)\u001b[0m\u001b[0;34m\u001b[0m\u001b[0;34m\u001b[0m\u001b[0m\n\u001b[0m\u001b[1;32m    445\u001b[0m                 \u001b[0;32melse\u001b[0m\u001b[0;34m:\u001b[0m\u001b[0;34m\u001b[0m\u001b[0;34m\u001b[0m\u001b[0m\n\u001b[1;32m    446\u001b[0m                     \u001b[0;32mraise\u001b[0m \u001b[0mTimeoutError\u001b[0m\u001b[0;34m(\u001b[0m\u001b[0;34m)\u001b[0m\u001b[0;34m\u001b[0m\u001b[0;34m\u001b[0m\u001b[0m\n",
      "\u001b[0;32m~/opt/anaconda3/envs/nlppython/lib/python3.8/concurrent/futures/_base.py\u001b[0m in \u001b[0;36m__get_result\u001b[0;34m(self)\u001b[0m\n\u001b[1;32m    387\u001b[0m         \u001b[0;32mif\u001b[0m \u001b[0mself\u001b[0m\u001b[0;34m.\u001b[0m\u001b[0m_exception\u001b[0m\u001b[0;34m:\u001b[0m\u001b[0;34m\u001b[0m\u001b[0;34m\u001b[0m\u001b[0m\n\u001b[1;32m    388\u001b[0m             \u001b[0;32mtry\u001b[0m\u001b[0;34m:\u001b[0m\u001b[0;34m\u001b[0m\u001b[0;34m\u001b[0m\u001b[0m\n\u001b[0;32m--> 389\u001b[0;31m                 \u001b[0;32mraise\u001b[0m \u001b[0mself\u001b[0m\u001b[0;34m.\u001b[0m\u001b[0m_exception\u001b[0m\u001b[0;34m\u001b[0m\u001b[0;34m\u001b[0m\u001b[0m\n\u001b[0m\u001b[1;32m    390\u001b[0m             \u001b[0;32mfinally\u001b[0m\u001b[0;34m:\u001b[0m\u001b[0;34m\u001b[0m\u001b[0;34m\u001b[0m\u001b[0m\n\u001b[1;32m    391\u001b[0m                 \u001b[0;31m# Break a reference cycle with the exception in self._exception\u001b[0m\u001b[0;34m\u001b[0m\u001b[0;34m\u001b[0m\u001b[0;34m\u001b[0m\u001b[0m\n",
      "\u001b[0;31mTerminatedWorkerError\u001b[0m: A worker process managed by the executor was unexpectedly terminated. This could be caused by a segmentation fault while calling the function or by an excessive memory usage causing the Operating System to kill the worker.\n\nThe exit codes of the workers are {SIGSEGV(-11)}"
     ]
    }
   ],
   "source": [
    "from sklearn.ensemble import StackingClassifier\n",
    "\n",
    "stack = StackingClassifier(estimators = [('nb', nb_clf_best), ('bn', bn_clf_best), ('lgb', lgb_clf_best), ('xgb', xgb_clf_best)], n_jobs=5)\n",
    "\n",
    "stack.fit(train_data, train_label)"
   ]
  },
  {
   "cell_type": "markdown",
   "metadata": {
    "id": "IRt7SARl8WhE"
   },
   "source": [
    "## 패스 수정 부탁 드립니다."
   ]
  },
  {
   "cell_type": "code",
   "execution_count": null,
   "metadata": {
    "id": "bLEI_6Yq8WhE"
   },
   "outputs": [],
   "source": [
    "pred = stack.predict(test_name_key)"
   ]
  },
  {
   "cell_type": "code",
   "execution_count": null,
   "metadata": {
    "id": "mdP_XHf18WhE"
   },
   "outputs": [],
   "source": [
    "sum(pred!=0)"
   ]
  },
  {
   "cell_type": "code",
   "execution_count": null,
   "metadata": {
    "id": "9AOZcAez8WhE"
   },
   "outputs": [],
   "source": [
    "sample_submission=pd.read_csv('../DATA/open/sample_submission.csv')\n",
    "sample_submission['label']=pred\n",
    "sample_submission.to_csv('../DATA/Result/NB_BN_LGB_XGB_stack.csv', index=False)"
   ]
  },
  {
   "cell_type": "code",
   "execution_count": null,
   "metadata": {
    "id": "As2UjzHf8WhF"
   },
   "outputs": [],
   "source": []
  }
 ],
 "metadata": {
  "accelerator": "GPU",
  "colab": {
   "collapsed_sections": [],
   "machine_shape": "hm",
   "name": "ML.ipynb",
   "provenance": []
  },
  "kernelspec": {
   "display_name": "Python 3 (ipykernel)",
   "language": "python",
   "name": "python3"
  },
  "language_info": {
   "codemirror_mode": {
    "name": "ipython",
    "version": 3
   },
   "file_extension": ".py",
   "mimetype": "text/x-python",
   "name": "python",
   "nbconvert_exporter": "python",
   "pygments_lexer": "ipython3",
   "version": "3.8.10"
  }
 },
 "nbformat": 4,
 "nbformat_minor": 1
}
