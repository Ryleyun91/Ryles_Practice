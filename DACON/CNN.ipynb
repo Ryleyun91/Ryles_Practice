{
 "cells": [
  {
   "cell_type": "code",
   "execution_count": 1,
   "id": "61f54414",
   "metadata": {},
   "outputs": [],
   "source": [
    "import pandas as pd"
   ]
  },
  {
   "cell_type": "code",
   "execution_count": 2,
   "id": "56f12123",
   "metadata": {},
   "outputs": [],
   "source": [
    "# 데이터 불러오기 (pos 및 특수문자 등 정제된 데이터임. 정제 방법은 깃허브 코드 참고)\n",
    "# https://github.com/Ryleyun91/Ryles_Practice/tree/main/DACON\n",
    "train = pd.read_csv('../DATA/train_data.csv')\n",
    "test = pd.read_csv('../DATA/test_data.csv')"
   ]
  },
  {
   "cell_type": "code",
   "execution_count": 3,
   "id": "7352cf54",
   "metadata": {},
   "outputs": [],
   "source": [
    "train_data = [str(sent) for sent in train['과제명'] + \" \" + train['요약문_한글키워드']]\n",
    "test_data = [str(sent) for sent in test['과제명'] + \" \" + test['요약문_한글키워드']]"
   ]
  },
  {
   "cell_type": "code",
   "execution_count": 4,
   "id": "ee090934",
   "metadata": {},
   "outputs": [],
   "source": [
    "# EDA\n",
    "train_length = [len(str(sent)) for sent in train_data]\n",
    "test_length = [len(str(sent)) for sent in test_data]"
   ]
  },
  {
   "cell_type": "code",
   "execution_count": 5,
   "id": "f96e38eb",
   "metadata": {},
   "outputs": [
    {
     "data": {
      "text/plain": [
       "(array([2.3040e+03, 2.0360e+04, 1.7381e+04, 3.2090e+03, 2.7500e+02,\n",
       "        3.8000e+01, 6.0000e+00, 1.0000e+00, 1.0000e+00, 1.0000e+00]),\n",
       " array([  3. ,  34.8,  66.6,  98.4, 130.2, 162. , 193.8, 225.6, 257.4,\n",
       "        289.2, 321. ]),\n",
       " <BarContainer object of 10 artists>)"
      ]
     },
     "execution_count": 5,
     "metadata": {},
     "output_type": "execute_result"
    },
    {
     "data": {
      "image/png": "[encoded data removed]",
      "text/plain": [
       "<Figure size 432x288 with 1 Axes>"
      ]
     },
     "metadata": {
      "needs_background": "light"
     },
     "output_type": "display_data"
    }
   ],
   "source": [
    "# 시각화\n",
    "import matplotlib.pyplot as plt\n",
    "\n",
    "plt.hist(train_length)\n",
    "plt.hist(test_length)\n",
    "\n",
    "## max_len 100정도 주면 커버될 듯"
   ]
  },
  {
   "cell_type": "code",
   "execution_count": 6,
   "id": "14e027a3",
   "metadata": {},
   "outputs": [],
   "source": [
    "# tokenizing\n",
    "from tensorflow.keras.preprocessing.text import Tokenizer\n",
    "tokenizer = Tokenizer(oov_token='<oov>')\n",
    "tokenizer.fit_on_texts(train_data)\n",
    "word_index = tokenizer.word_index\n",
    "\n",
    "# padding\n",
    "from tensorflow.keras.preprocessing.sequence import pad_sequences\n",
    "train_seq = tokenizer.texts_to_sequences(train_data)\n",
    "test_seq = tokenizer.texts_to_sequences(test_data)\n",
    "train_pad = pad_sequences(train_seq, maxlen=100, padding='post', truncating='post')\n",
    "test_pad = pad_sequences(test_seq, maxlen=100, padding='post', truncating='post')"
   ]
  },
  {
   "cell_type": "code",
   "execution_count": 12,
   "id": "54204aa1",
   "metadata": {},
   "outputs": [
    {
     "name": "stdout",
     "output_type": "stream",
     "text": [
      "Model: \"sequential_2\"\n",
      "_________________________________________________________________\n",
      "Layer (type)                 Output Shape              Param #   \n",
      "=================================================================\n",
      "embedding_2 (Embedding)      (None, 100, 200)          10764000  \n",
      "_________________________________________________________________\n",
      "global_average_pooling1d_2 ( (None, 200)               0         \n",
      "_________________________________________________________________\n",
      "dense_4 (Dense)              (None, 128)               25728     \n",
      "_________________________________________________________________\n",
      "dense_5 (Dense)              (None, 46)                5934      \n",
      "=================================================================\n",
      "Total params: 10,795,662\n",
      "Trainable params: 10,795,662\n",
      "Non-trainable params: 0\n",
      "_________________________________________________________________\n"
     ]
    }
   ],
   "source": [
    "embedding_dim = 200\n",
    "max_length = 100\n",
    "vocab_size = len(word_index)\n",
    "\n",
    "from tensorflow.keras.models import Sequential\n",
    "from tensorflow.keras.layers import Dense, Embedding, GlobalAveragePooling1D\n",
    "\n",
    "model = Sequential()\n",
    "model.add(Embedding(vocab_size+1, embedding_dim, input_length=max_length))\n",
    "model.add(GlobalAveragePooling1D())\n",
    "model.add(Dense(128, activation='relu'))\n",
    "model.add(Dense(46, activation='softmax'))\n",
    "\n",
    "model.summary()"
   ]
  },
  {
   "cell_type": "code",
   "execution_count": 13,
   "id": "4ce14e88",
   "metadata": {},
   "outputs": [
    {
     "name": "stdout",
     "output_type": "stream",
     "text": [
      "Epoch 1/25\n",
      "157/157 - 14s - loss: 1.4842 - accuracy: 0.8073 - val_loss: 0.9937 - val_accuracy: 0.8192\n",
      "Epoch 2/25\n",
      "157/157 - 14s - loss: 0.9522 - accuracy: 0.8178 - val_loss: 0.8888 - val_accuracy: 0.8191\n",
      "Epoch 3/25\n",
      "157/157 - 14s - loss: 0.8451 - accuracy: 0.8188 - val_loss: 0.8144 - val_accuracy: 0.8210\n",
      "Epoch 4/25\n",
      "157/157 - 14s - loss: 0.7842 - accuracy: 0.8226 - val_loss: 0.7764 - val_accuracy: 0.8255\n",
      "Epoch 5/25\n",
      "157/157 - 14s - loss: 0.7188 - accuracy: 0.8332 - val_loss: 0.6931 - val_accuracy: 0.8382\n",
      "Epoch 6/25\n",
      "157/157 - 14s - loss: 0.6058 - accuracy: 0.8491 - val_loss: 0.5959 - val_accuracy: 0.8545\n",
      "Epoch 7/25\n",
      "157/157 - 14s - loss: 0.5082 - accuracy: 0.8685 - val_loss: 0.5361 - val_accuracy: 0.8633\n",
      "Epoch 8/25\n",
      "157/157 - 14s - loss: 0.4407 - accuracy: 0.8812 - val_loss: 0.5005 - val_accuracy: 0.8675\n",
      "Epoch 9/25\n",
      "157/157 - 14s - loss: 0.3913 - accuracy: 0.8933 - val_loss: 0.4774 - val_accuracy: 0.8744\n",
      "Epoch 10/25\n",
      "157/157 - 14s - loss: 0.3495 - accuracy: 0.9046 - val_loss: 0.4515 - val_accuracy: 0.8826\n",
      "Epoch 11/25\n",
      "157/157 - 14s - loss: 0.3121 - accuracy: 0.9143 - val_loss: 0.4359 - val_accuracy: 0.8854\n",
      "Epoch 12/25\n",
      "157/157 - 14s - loss: 0.2811 - accuracy: 0.9225 - val_loss: 0.4273 - val_accuracy: 0.8900\n",
      "Epoch 13/25\n",
      "157/157 - 14s - loss: 0.2547 - accuracy: 0.9292 - val_loss: 0.4183 - val_accuracy: 0.8921\n",
      "Epoch 14/25\n",
      "157/157 - 14s - loss: 0.2324 - accuracy: 0.9342 - val_loss: 0.4141 - val_accuracy: 0.8962\n",
      "Epoch 15/25\n",
      "157/157 - 14s - loss: 0.2122 - accuracy: 0.9397 - val_loss: 0.4090 - val_accuracy: 0.8970\n",
      "Epoch 16/25\n",
      "157/157 - 14s - loss: 0.1950 - accuracy: 0.9439 - val_loss: 0.4082 - val_accuracy: 0.8993\n",
      "Epoch 17/25\n",
      "157/157 - 14s - loss: 0.1800 - accuracy: 0.9480 - val_loss: 0.4100 - val_accuracy: 0.9005\n",
      "Epoch 18/25\n",
      "157/157 - 14s - loss: 0.1671 - accuracy: 0.9519 - val_loss: 0.4127 - val_accuracy: 0.9024\n",
      "Epoch 19/25\n",
      "157/157 - 14s - loss: 0.1559 - accuracy: 0.9550 - val_loss: 0.4118 - val_accuracy: 0.9042\n",
      "Epoch 20/25\n",
      "157/157 - 14s - loss: 0.1449 - accuracy: 0.9582 - val_loss: 0.4154 - val_accuracy: 0.9060\n",
      "Epoch 21/25\n",
      "157/157 - 14s - loss: 0.1359 - accuracy: 0.9605 - val_loss: 0.4211 - val_accuracy: 0.9067\n",
      "Epoch 22/25\n",
      "157/157 - 14s - loss: 0.1270 - accuracy: 0.9631 - val_loss: 0.4249 - val_accuracy: 0.9066\n",
      "Epoch 23/25\n",
      "157/157 - 14s - loss: 0.1194 - accuracy: 0.9649 - val_loss: 0.4303 - val_accuracy: 0.9069\n",
      "Epoch 24/25\n",
      "157/157 - 14s - loss: 0.1123 - accuracy: 0.9673 - val_loss: 0.4364 - val_accuracy: 0.9094\n",
      "Epoch 25/25\n",
      "157/157 - 14s - loss: 0.1065 - accuracy: 0.9688 - val_loss: 0.4463 - val_accuracy: 0.9089\n"
     ]
    },
    {
     "data": {
      "text/plain": [
       "<tensorflow.python.keras.callbacks.History at 0x7f95a3cc62b0>"
      ]
     },
     "execution_count": 13,
     "metadata": {},
     "output_type": "execute_result"
    }
   ],
   "source": [
    "model.compile(loss='sparse_categorical_crossentropy', optimizer='adam', metrics=['accuracy'])\n",
    "model.fit(train_pad, train['label'], epochs=25, batch_size=1000, validation_split=0.1, verbose=2)"
   ]
  },
  {
   "cell_type": "code",
   "execution_count": 16,
   "id": "4885397f",
   "metadata": {},
   "outputs": [
    {
     "data": {
      "text/plain": [
       "<tf.Tensor: shape=(43576,), dtype=int64, numpy=array([ 0,  0,  0, ...,  2,  0, 19])>"
      ]
     },
     "execution_count": 16,
     "metadata": {},
     "output_type": "execute_result"
    }
   ],
   "source": [
    "# 모델 예측\n",
    "answer = model.predict(test_pad)\n",
    "\n",
    "import tensorflow as tf\n",
    "pred = tf.argmax(answer, axis=1)"
   ]
  },
  {
   "cell_type": "code",
   "execution_count": 30,
   "id": "d5361422",
   "metadata": {},
   "outputs": [],
   "source": [
    "sample_submission=pd.read_csv('../DATA/open/sample_submission.csv')\n",
    "sample_submission['label']=pred\n",
    "sample_submission.to_csv('../DATA/Result/CNN_basic.csv', index=False)"
   ]
  },
  {
   "cell_type": "code",
   "execution_count": null,
   "id": "7ecce832",
   "metadata": {},
   "outputs": [],
   "source": []
  }
 ],
 "metadata": {
  "kernelspec": {
   "display_name": "Python 3 (ipykernel)",
   "language": "python",
   "name": "python3"
  },
  "language_info": {
   "codemirror_mode": {
    "name": "ipython",
    "version": 3
   },
   "file_extension": ".py",
   "mimetype": "text/x-python",
   "name": "python",
   "nbconvert_exporter": "python",
   "pygments_lexer": "ipython3",
   "version": "3.8.10"
  }
 },
 "nbformat": 4,
 "nbformat_minor": 5
}
