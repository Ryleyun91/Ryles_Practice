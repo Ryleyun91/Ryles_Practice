{
 "cells": [
  {
   "cell_type": "markdown",
   "id": "fb424868",
   "metadata": {},
   "source": [
    "### 모듈 불러오기"
   ]
  },
  {
   "cell_type": "code",
   "execution_count": 1,
   "id": "b06ae7e4",
   "metadata": {},
   "outputs": [],
   "source": [
    "import pandas as pd\n",
    "import numpy as np\n",
    "import re\n",
    "from collections import Counter\n",
    "import pickle\n",
    "from konlpy.tag import Mecab\n",
    "mecab = Mecab()"
   ]
  },
  {
   "cell_type": "markdown",
   "id": "c667a645",
   "metadata": {},
   "source": [
    "### 파일 불러오기 및 결측치 처리"
   ]
  },
  {
   "cell_type": "code",
   "execution_count": 2,
   "id": "f19d2b79",
   "metadata": {},
   "outputs": [],
   "source": [
    "data = pd.read_csv(\"./open/train.csv\")\n",
    "data = data.dropna()"
   ]
  },
  {
   "cell_type": "markdown",
   "id": "66a76d78",
   "metadata": {},
   "source": [
    "### POS 태깅"
   ]
  },
  {
   "cell_type": "code",
   "execution_count": 3,
   "id": "5364e5cf",
   "metadata": {},
   "outputs": [
    {
     "name": "stdout",
     "output_type": "stream",
     "text": [
      "CPU times: user 4min 24s, sys: 601 ms, total: 4min 25s\n",
      "Wall time: 4min 23s\n"
     ]
    }
   ],
   "source": [
    "%%time\n",
    "def pos(x):\n",
    "    try:\n",
    "        text = ''\n",
    "        for word, pos in mecab.pos(str(x)):\n",
    "            if pos[0] in [\"N\",\"V\",\"M\"]:\n",
    "                if type(re.search(\"\\W+|[A-z0-9]\", word))!=re.Match and len(word)!=1:\n",
    "                    text+=\" \"+word\n",
    "        return text.strip()\n",
    "    \n",
    "    except:\n",
    "        pass\n",
    "    \n",
    "data[\"tagged_goal\"] = data[\"요약문_연구목표\"].apply(pos)\n",
    "data[\"tagged_cont\"] = data[\"요약문_연구내용\"].apply(pos)\n",
    "data[\"tagged_effect\"] = data[\"요약문_기대효과\"].apply(pos)\n",
    "data[\"요약문_한글키워드\"] = data[\"요약문_한글키워드\"].str.replace(\" \", \"\")"
   ]
  },
  {
   "cell_type": "markdown",
   "id": "bdbae09c",
   "metadata": {},
   "source": [
    "### Tfidf Vector 만들기"
   ]
  },
  {
   "cell_type": "code",
   "execution_count": 4,
   "id": "02fe37f4",
   "metadata": {
    "scrolled": true
   },
   "outputs": [],
   "source": [
    "from sklearn.feature_extraction.text import TfidfVectorizer\n",
    "\n",
    "tfidf_vect1 = TfidfVectorizer(min_df = 0.01, max_df = 0.9)\n",
    "tfidf_goal = tfidf_vect1.fit_transform(data[\"tagged_goal\"])"
   ]
  },
  {
   "cell_type": "code",
   "execution_count": 5,
   "id": "f4f327ed",
   "metadata": {},
   "outputs": [],
   "source": [
    "tfidf_vect2 = TfidfVectorizer(min_df = 0.01, max_df = 0.9)\n",
    "tfidf_cont = tfidf_vect2.fit_transform(data[\"tagged_cont\"])"
   ]
  },
  {
   "cell_type": "code",
   "execution_count": 6,
   "id": "745d78b9",
   "metadata": {},
   "outputs": [],
   "source": [
    "tfidf_vect3 = TfidfVectorizer(min_df = 0.01, max_df = 0.9)\n",
    "tfidf_effect = tfidf_vect3.fit_transform(data[\"tagged_effect\"])"
   ]
  },
  {
   "cell_type": "code",
   "execution_count": 29,
   "id": "eb9f6c70",
   "metadata": {},
   "outputs": [],
   "source": [
    "tfidf_vect4 = TfidfVectorizer(min_df = 0.0005)\n",
    "tfidf_keywords = tfidf_vect4.fit_transform(data[\"요약문_한글키워드\"])"
   ]
  },
  {
   "cell_type": "markdown",
   "id": "252ff8ca",
   "metadata": {},
   "source": [
    "### DataFrame 만들기 (필요 시 살리기)"
   ]
  },
  {
   "cell_type": "code",
   "execution_count": 30,
   "id": "81a412df",
   "metadata": {},
   "outputs": [],
   "source": [
    "goal_df = pd.DataFrame(tfidf_goal.todense(), columns = tfidf_vect1.get_feature_names())\n",
    "cont_df = pd.DataFrame(tfidf_cont.todense(), columns = tfidf_vect2.get_feature_names())\n",
    "effect_df = pd.DataFrame(tfidf_effect.todense(), columns = tfidf_vect3.get_feature_names())\n",
    "keyword_df = pd.DataFrame(tfidf_keywords.todense(), columns = tfidf_vect4.get_feature_names())"
   ]
  },
  {
   "cell_type": "code",
   "execution_count": 9,
   "id": "ad9c766a",
   "metadata": {
    "scrolled": true
   },
   "outputs": [],
   "source": [
    "with open(\"goal_df.pkl\", \"wb\") as f:\n",
    "    pickle.dump(goal_df, f)"
   ]
  },
  {
   "cell_type": "code",
   "execution_count": 10,
   "id": "5e40f452",
   "metadata": {},
   "outputs": [],
   "source": [
    "with open(\"cont_df.pkl\", \"wb\") as f:\n",
    "    pickle.dump(cont_df, f)"
   ]
  },
  {
   "cell_type": "code",
   "execution_count": 11,
   "id": "b6928df2",
   "metadata": {},
   "outputs": [],
   "source": [
    "with open(\"effect_df.pkl\", \"wb\") as f:\n",
    "    pickle.dump(effect_df, f)"
   ]
  },
  {
   "cell_type": "code",
   "execution_count": 32,
   "id": "a1292a40",
   "metadata": {},
   "outputs": [],
   "source": [
    "with open(\"keyword_df.pkl\", \"wb\") as f:\n",
    "    pickle.dump(keyword_df, f)"
   ]
  },
  {
   "cell_type": "code",
   "execution_count": 13,
   "id": "57cac3b3",
   "metadata": {},
   "outputs": [
    {
     "data": {
      "text/plain": [
       "(171138, 745)"
      ]
     },
     "execution_count": 13,
     "metadata": {},
     "output_type": "execute_result"
    }
   ],
   "source": [
    "goal_df.shape"
   ]
  },
  {
   "cell_type": "code",
   "execution_count": 14,
   "id": "b5fcab27",
   "metadata": {},
   "outputs": [
    {
     "data": {
      "text/plain": [
       "(171138, 927)"
      ]
     },
     "execution_count": 14,
     "metadata": {},
     "output_type": "execute_result"
    }
   ],
   "source": [
    "effect_df.shape"
   ]
  },
  {
   "cell_type": "code",
   "execution_count": 15,
   "id": "f9c87abd",
   "metadata": {},
   "outputs": [
    {
     "data": {
      "text/plain": [
       "(171138, 1121)"
      ]
     },
     "execution_count": 15,
     "metadata": {},
     "output_type": "execute_result"
    }
   ],
   "source": [
    "cont_df.shape"
   ]
  },
  {
   "cell_type": "code",
   "execution_count": 31,
   "id": "72074a65",
   "metadata": {
    "scrolled": true
   },
   "outputs": [
    {
     "data": {
      "text/plain": [
       "(171138, 896)"
      ]
     },
     "execution_count": 31,
     "metadata": {},
     "output_type": "execute_result"
    }
   ],
   "source": [
    "keyword_df.shape"
   ]
  },
  {
   "cell_type": "code",
   "execution_count": 17,
   "id": "7c9137a6",
   "metadata": {},
   "outputs": [
    {
     "data": {
      "text/plain": [
       "(171138, 16)"
      ]
     },
     "execution_count": 17,
     "metadata": {},
     "output_type": "execute_result"
    }
   ],
   "source": [
    "data.shape"
   ]
  }
 ],
 "metadata": {
  "kernelspec": {
   "display_name": "Python 3 (ipykernel)",
   "language": "python",
   "name": "python3"
  },
  "language_info": {
   "codemirror_mode": {
    "name": "ipython",
    "version": 3
   },
   "file_extension": ".py",
   "mimetype": "text/x-python",
   "name": "python",
   "nbconvert_exporter": "python",
   "pygments_lexer": "ipython3",
   "version": "3.8.10"
  }
 },
 "nbformat": 4,
 "nbformat_minor": 5
}
