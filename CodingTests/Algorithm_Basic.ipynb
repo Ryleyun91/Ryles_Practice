{
 "cells": [
  {
   "cell_type": "markdown",
   "metadata": {},
   "source": [
    "## 1) 구구단 출력"
   ]
  },
  {
   "cell_type": "code",
   "execution_count": 8,
   "metadata": {},
   "outputs": [],
   "source": [
    "for i in range(2,10):\n",
    "    for j in range(1, 10):\n",
    "        print(f\"{i}x{j}={i*j}\")"
   ]
  },
  {
   "cell_type": "markdown",
   "metadata": {},
   "source": [
    "## 2) 특정값을 입력받아 짝수인지 홀수인지 구분하세요\n",
    "\n"
   ]
  },
  {
   "cell_type": "markdown",
   "metadata": {},
   "source": [
    "숫자를 입력하세요: 4\n",
    "\n",
    "결과: 짝수입니다."
   ]
  },
  {
   "cell_type": "code",
   "execution_count": 11,
   "metadata": {},
   "outputs": [
    {
     "name": "stdout",
     "output_type": "stream",
     "text": [
      "숫자를 입력하세요: 3\n",
      "홀수입니다.\n"
     ]
    }
   ],
   "source": [
    "num = int(input(\"숫자를 입력하세요: \"))\n",
    "\n",
    "if num%2==0:\n",
    "    print(\"짝수입니다.\")\n",
    "else:\n",
    "    print(\"홀수입니다.\")"
   ]
  },
  {
   "cell_type": "markdown",
   "metadata": {},
   "source": [
    "## 3) 수열 (음수, 양수 더하기)"
   ]
  },
  {
   "cell_type": "markdown",
   "metadata": {},
   "source": [
    "1-2+3-4+5-6…+99-100의 합계를 구하여 출력하시오.\n",
    "\n",
    "정답 : -50"
   ]
  },
  {
   "cell_type": "code",
   "execution_count": 18,
   "metadata": {},
   "outputs": [
    {
     "name": "stdout",
     "output_type": "stream",
     "text": [
      "-50\n"
     ]
    }
   ],
   "source": [
    "result = 0\n",
    "for i in range(1, 101):\n",
    "    if i%2==1:\n",
    "        result+=i\n",
    "    else:\n",
    "        result+=(i*-1)\n",
    "        \n",
    "print(result)"
   ]
  },
  {
   "cell_type": "markdown",
   "metadata": {},
   "source": [
    "## 4) 수열 (작은 수 출력하기)"
   ]
  },
  {
   "cell_type": "markdown",
   "metadata": {},
   "source": [
    "문 : 세수를 입력받아 작은수를 출력하시오."
   ]
  },
  {
   "cell_type": "code",
   "execution_count": 35,
   "metadata": {},
   "outputs": [
    {
     "name": "stdout",
     "output_type": "stream",
     "text": [
      "숫자 세개를 띄어쓰기로 구분하여 입력하세요1 2 4\n"
     ]
    },
    {
     "data": {
      "text/plain": [
       "1"
      ]
     },
     "execution_count": 35,
     "metadata": {},
     "output_type": "execute_result"
    }
   ],
   "source": [
    "nums = [int(i) for i in input(\"숫자 세개를 띄어쓰기로 구분하여 입력하세요\").split()]\n",
    "min(nums)"
   ]
  },
  {
   "cell_type": "markdown",
   "metadata": {},
   "source": [
    "## 5) 수열 (거듭제곱 구하기)"
   ]
  },
  {
   "cell_type": "markdown",
   "metadata": {},
   "source": [
    "두수를 키보드로부터 입력 받아 거듭제곱을 구하시오. \n",
    "\n",
    "거듭제곱 : 같은수나 식을 여러 번 곱하는 것 \n",
    "\n",
    "Ex) 입력값 : 4,3 \n",
    "    출력값 : 64\n",
    "\n",
    "##### 조건 : for문사용(** 연산자 사용 안함)"
   ]
  },
  {
   "cell_type": "code",
   "execution_count": 38,
   "metadata": {},
   "outputs": [
    {
     "name": "stdout",
     "output_type": "stream",
     "text": [
      "숫자를 입력하세요:4\n",
      "몇 번 거듭제곱 하시겠습니까?:2\n",
      "16\n"
     ]
    }
   ],
   "source": [
    "x = int(input(\"숫자를 입력하세요:\"))\n",
    "y = int(input(\"몇 번 거듭제곱 하시겠습니까?:\"))\n",
    "result=1\n",
    "\n",
    "for i in range(y):\n",
    "    result*=x\n",
    "\n",
    "print(result)"
   ]
  },
  {
   "cell_type": "markdown",
   "metadata": {},
   "source": [
    "## 6) 수열 (두 수씩 묶어 다른 부호로 합계 구하기)"
   ]
  },
  {
   "cell_type": "markdown",
   "metadata": {},
   "source": [
    "-(1/2) + (2/3) – (3/4) + (4/5) – (5/6) …. –(99/100)의 \n",
    "합계를 구하여 출력하시오.\n",
    "\n",
    "정답 : -0.688172"
   ]
  },
  {
   "cell_type": "code",
   "execution_count": 51,
   "metadata": {},
   "outputs": [
    {
     "data": {
      "text/plain": [
       "-0.688172"
      ]
     },
     "execution_count": 51,
     "metadata": {},
     "output_type": "execute_result"
    }
   ],
   "source": [
    "result = 0\n",
    "number=1\n",
    "\n",
    "while number!=100:\n",
    "    if number%2==1:\n",
    "        result = result-1*(number/(number+1))\n",
    "    else:\n",
    "        result = result+(number/(number+1))\n",
    "    number+=1\n",
    "round(result, 6)"
   ]
  },
  {
   "cell_type": "markdown",
   "metadata": {},
   "source": [
    "## 7) 수열"
   ]
  },
  {
   "cell_type": "markdown",
   "metadata": {},
   "source": [
    "1+2+4+7+11+16+22…의 순서로 나열되는 \n",
    "수열의 20번째 항까지의 합계를 구하여 \n",
    "출력하시오.\n",
    "\n",
    "정답 : 1350"
   ]
  },
  {
   "cell_type": "code",
   "execution_count": 114,
   "metadata": {},
   "outputs": [
    {
     "data": {
      "text/plain": [
       "1350"
      ]
     },
     "execution_count": 114,
     "metadata": {},
     "output_type": "execute_result"
    }
   ],
   "source": [
    "nums = []\n",
    "result = 1\n",
    "\n",
    "for i in range(1, 21):\n",
    "    nums.append(result)\n",
    "    result+=i\n",
    "\n",
    "sum(nums)"
   ]
  },
  {
   "cell_type": "markdown",
   "metadata": {},
   "source": [
    "## 8) 수열 (계차수열)"
   ]
  },
  {
   "cell_type": "markdown",
   "metadata": {},
   "source": [
    "1, (1+2), (1+2+3), …(1+2+3+4+…10) 합을 \n",
    "구하여 출력하시오.\n",
    "\n",
    "정답 : 220"
   ]
  },
  {
   "cell_type": "code",
   "execution_count": 72,
   "metadata": {},
   "outputs": [
    {
     "data": {
      "text/plain": [
       "220"
      ]
     },
     "execution_count": 72,
     "metadata": {},
     "output_type": "execute_result"
    }
   ],
   "source": [
    "num = [i for i in range(1, 11)]\n",
    "result=0\n",
    "for i in range(11):\n",
    "    result+=sum(num[:i])\n",
    "\n",
    "result"
   ]
  },
  {
   "cell_type": "markdown",
   "metadata": {},
   "source": [
    "## 9) 수열"
   ]
  },
  {
   "cell_type": "markdown",
   "metadata": {},
   "source": [
    "-1 + 2 - 4 +7 -11 + 16 – 22의 순서로 나열되는 \n",
    "수열의 20번째 항까지의 합계를 출력하시오.\n",
    "\n",
    "정답 :  100\n"
   ]
  },
  {
   "cell_type": "code",
   "execution_count": 92,
   "metadata": {},
   "outputs": [
    {
     "data": {
      "text/plain": [
       "100"
      ]
     },
     "execution_count": 92,
     "metadata": {},
     "output_type": "execute_result"
    }
   ],
   "source": [
    "result=1\n",
    "numbers=[]\n",
    "\n",
    "for i in range(1, 21):\n",
    "    if i%2==1:\n",
    "        numbers.append(-1*result)\n",
    "    else:\n",
    "        numbers.append(result)\n",
    "    result+=i\n",
    "sum(numbers)"
   ]
  },
  {
   "cell_type": "markdown",
   "metadata": {},
   "source": [
    "## 10) 수열"
   ]
  },
  {
   "cell_type": "markdown",
   "metadata": {},
   "source": [
    "1! + 2! + 3! + 4! + 5! … + 10! 의 순서로 \n",
    "나열되는 수열의 10번째 항까지의 합계를 \n",
    "출력하시오.\n",
    "\n",
    "정답 : 4,037,913"
   ]
  },
  {
   "cell_type": "code",
   "execution_count": 102,
   "metadata": {},
   "outputs": [
    {
     "data": {
      "text/plain": [
       "4037913"
      ]
     },
     "execution_count": 102,
     "metadata": {},
     "output_type": "execute_result"
    }
   ],
   "source": [
    "result=[]\n",
    "for i in range(1, 11):\n",
    "    num=1\n",
    "    for j in range(i):\n",
    "        num*=(j+1)\n",
    "    result.append(num)\n",
    "sum(result)"
   ]
  },
  {
   "cell_type": "markdown",
   "metadata": {},
   "source": [
    "## 11) 수열"
   ]
  },
  {
   "cell_type": "markdown",
   "metadata": {},
   "source": [
    "100개의 난수를 발생하여 짝수와 홀수 개수를 출력하시오"
   ]
  },
  {
   "cell_type": "code",
   "execution_count": 105,
   "metadata": {},
   "outputs": [
    {
     "name": "stdout",
     "output_type": "stream",
     "text": [
      "홀수: 56, 짝수: 44\n"
     ]
    }
   ],
   "source": [
    "import random\n",
    "oddnum = 0\n",
    "evennum = 0\n",
    "\n",
    "for i in range(100):\n",
    "    num = random.randint(1, 101)\n",
    "    if num%2==1:\n",
    "        oddnum+=1\n",
    "    else:\n",
    "        evennum+=1\n",
    "        \n",
    "print(f\"홀수: {oddnum}, 짝수: {evennum}\")"
   ]
  },
  {
   "cell_type": "markdown",
   "metadata": {},
   "source": [
    "## 12) 팩토리얼"
   ]
  },
  {
   "cell_type": "markdown",
   "metadata": {},
   "source": [
    "N값을 입력 받아 계승을 구하시오.\n",
    "\n",
    "예) \n",
    "\n",
    "7! = 5040  -> 7 * 6 * 5 * 4 * 3 * 2 *1\n",
    "\n",
    "5! = 120"
   ]
  },
  {
   "cell_type": "code",
   "execution_count": 108,
   "metadata": {},
   "outputs": [
    {
     "name": "stdout",
     "output_type": "stream",
     "text": [
      "숫자를 입력하세요:5\n"
     ]
    },
    {
     "data": {
      "text/plain": [
       "120"
      ]
     },
     "execution_count": 108,
     "metadata": {},
     "output_type": "execute_result"
    }
   ],
   "source": [
    "num = int(input(\"숫자를 입력하세요:\"))\n",
    "\n",
    "result=1\n",
    "\n",
    "for i in range(1,num+1):\n",
    "    result*=i\n",
    "\n",
    "result"
   ]
  },
  {
   "cell_type": "markdown",
   "metadata": {},
   "source": [
    "## 13) 피보나치"
   ]
  },
  {
   "cell_type": "markdown",
   "metadata": {},
   "source": [
    "피보나치 수열 ( 1+1+2+3+5+8+13…)의 순서로 나열되는 \n",
    "수열의 20번째 항까지의 합계를 출력하시오.\n",
    "\n",
    "정답 : 17710"
   ]
  },
  {
   "cell_type": "code",
   "execution_count": 120,
   "metadata": {},
   "outputs": [
    {
     "data": {
      "text/plain": [
       "17710"
      ]
     },
     "execution_count": 120,
     "metadata": {},
     "output_type": "execute_result"
    }
   ],
   "source": [
    "fibonacci = [1, 1]\n",
    "\n",
    "for i in range(18):\n",
    "    fibonacci.append(fibonacci[i]+fibonacci[i+1])\n",
    "\n",
    "sum(fibonacci)"
   ]
  },
  {
   "cell_type": "markdown",
   "metadata": {},
   "source": [
    "## 14) 수열"
   ]
  },
  {
   "cell_type": "markdown",
   "metadata": {},
   "source": [
    "(77\\*1)+(76\\*2)+(75\\*3)+…(2\\*76)+(1*77)의 합계"
   ]
  },
  {
   "cell_type": "code",
   "execution_count": 135,
   "metadata": {},
   "outputs": [
    {
     "data": {
      "text/plain": [
       "79079"
      ]
     },
     "execution_count": 135,
     "metadata": {},
     "output_type": "execute_result"
    }
   ],
   "source": [
    "sum([x*y for x,y in zip(range(77, 0, -1), range(1, 78))])"
   ]
  },
  {
   "cell_type": "markdown",
   "metadata": {},
   "source": [
    "## 15) 가장 큰 수 출력"
   ]
  },
  {
   "cell_type": "markdown",
   "metadata": {},
   "source": [
    "난수로 10개의 수를 입력받아 가장 \n",
    "큰수를 출력하시오"
   ]
  },
  {
   "cell_type": "code",
   "execution_count": 136,
   "metadata": {},
   "outputs": [
    {
     "name": "stdout",
     "output_type": "stream",
     "text": [
      "10개 숫자를 띄어쓰기로 구분하여 입력하세요: 1 2 3 4 5 6 7 9 100 9\n"
     ]
    },
    {
     "data": {
      "text/plain": [
       "100"
      ]
     },
     "execution_count": 136,
     "metadata": {},
     "output_type": "execute_result"
    }
   ],
   "source": [
    "num = [int(x) for x in input(\"10개 숫자를 띄어쓰기로 구분하여 입력하세요: \").split()]\n",
    "max(num)"
   ]
  },
  {
   "cell_type": "markdown",
   "metadata": {},
   "source": [
    "## 16) 성적 순위 출력"
   ]
  },
  {
   "cell_type": "markdown",
   "metadata": {},
   "source": [
    "임의의 성적 10개를 입력받아 \n",
    "각 성적에 대한 순위를 출력하시오.\n",
    "\n",
    "score = [55,67,33,99,66] 이런식으로 임의의 성적 혹은\n",
    "난수로 0~100사이로 발생시켜서 순위"
   ]
  },
  {
   "cell_type": "code",
   "execution_count": 153,
   "metadata": {},
   "outputs": [
    {
     "name": "stdout",
     "output_type": "stream",
     "text": [
      "순위: 1 성적:94\n",
      "순위: 2 성적:72\n",
      "순위: 3 성적:67\n",
      "순위: 4 성적:56\n",
      "순위: 5 성적:28\n",
      "순위: 6 성적:26\n",
      "순위: 7 성적:26\n",
      "순위: 8 성적:21\n",
      "순위: 9 성적:11\n",
      "순위: 10 성적:7\n"
     ]
    }
   ],
   "source": [
    "import random\n",
    "\n",
    "grade = [random.randint(0,100) for i in range(10)]\n",
    "grade.sort(reverse=True)\n",
    "\n",
    "for ind, score in enumerate(grade):\n",
    "    print(f\"순위: {ind+1} 성적:{score}\")"
   ]
  },
  {
   "cell_type": "markdown",
   "metadata": {},
   "source": [
    "## 17) 짝수, 홀수 찾기"
   ]
  },
  {
   "cell_type": "markdown",
   "metadata": {},
   "source": [
    "50개의 정수를 난수로 입력 받아 \n",
    "짝수 개수, 홀수 개수를 출력하시오."
   ]
  },
  {
   "cell_type": "code",
   "execution_count": 159,
   "metadata": {},
   "outputs": [
    {
     "name": "stdout",
     "output_type": "stream",
     "text": [
      "홀수: 23개, 짝수: 27개\n"
     ]
    }
   ],
   "source": [
    "import random\n",
    "oddnum=0\n",
    "evennum=0\n",
    "\n",
    "for i in range(50):\n",
    "    num = random.randint(1, 1000000)\n",
    "    if num%2==1:\n",
    "        oddnum+=1\n",
    "    else:\n",
    "        evennum+=1\n",
    "\n",
    "print(f\"홀수: {oddnum}개, 짝수: {evennum}개\")"
   ]
  },
  {
   "cell_type": "markdown",
   "metadata": {},
   "source": [
    "## 18) 섭씨 -> 화씨"
   ]
  },
  {
   "cell_type": "markdown",
   "metadata": {},
   "source": [
    "섭씨온도는 물이 어는 온도를 0도로 하고, 물이 끓는 온도를 \n",
    "100도로 정하여 스 사이를 100등분하여 표현한 온도를 말합니다.\n",
    "\n",
    "화씨온도는 순수한 물이 어는 온도를 32도, \n",
    "끓는 온도를 21도(212도 아닌가요?)로 정하고 그 사이를 180등분한 것을 말합니다.\n",
    "\n",
    "화씨온도(F) = 섭씨온도(C) X 9 /  5 + 32\n",
    "섭씨온도© = (화씨온도(F) – 32 )  X 5/ 9"
   ]
  },
  {
   "cell_type": "code",
   "execution_count": 165,
   "metadata": {},
   "outputs": [
    {
     "name": "stdout",
     "output_type": "stream",
     "text": [
      "섭씨온도를 입력하세요: 32\n"
     ]
    },
    {
     "data": {
      "text/plain": [
       "'89.6°F'"
      ]
     },
     "execution_count": 165,
     "metadata": {},
     "output_type": "execute_result"
    }
   ],
   "source": [
    "num = float(input(\"섭씨온도를 입력하세요: \"))\n",
    "\n",
    "def CtoF(num):\n",
    "    return f\"{(num*9/5)+32}°F\"\n",
    "\n",
    "CtoF(num)"
   ]
  },
  {
   "cell_type": "markdown",
   "metadata": {},
   "source": [
    "## 19) 주어진 문자열이 팰린드롬인지 확인하기 (영문자와 숫자만)"
   ]
  },
  {
   "cell_type": "markdown",
   "metadata": {},
   "source": [
    "팰린드롬? 거꾸로 읽어도 제대로 읽히는 것"
   ]
  },
  {
   "cell_type": "code",
   "execution_count": 217,
   "metadata": {},
   "outputs": [
    {
     "name": "stdout",
     "output_type": "stream",
     "text": [
      "테스트하고자 하는 대상을 입력하세요: race a car\n",
      "race a car: 팰린드롬이 아닙니다.\n"
     ]
    }
   ],
   "source": [
    "import re\n",
    "\n",
    "user_input = input(\"테스트하고자 하는 대상을 입력하세요: \")\n",
    "\n",
    "def palindrome(user_input):\n",
    "    x = re.sub(\"[^A-z^0-9]\", \"\", user_input).lower()\n",
    "    before = list(x)\n",
    "    after = list(x)\n",
    "    after.reverse()\n",
    "    \n",
    "    if before == after:\n",
    "        print(f\"{user_input}: 팰린드롬입니다.\")\n",
    "    else:\n",
    "        print(f\"{user_input}: 팰린드롬이 아닙니다.\")\n",
    "\n",
    "palindrome(user_input)"
   ]
  },
  {
   "cell_type": "markdown",
   "metadata": {},
   "source": [
    "## 20) 문자열을 뒤집는 함수"
   ]
  },
  {
   "cell_type": "markdown",
   "metadata": {},
   "source": [
    "입력값은 문자 배열이고, 리턴없이 리스트 내부를 \n",
    "직접 조작하세요\n",
    "\n",
    "1) 해결 case1 : for문을 사용하세요. (투 포인트를 사용한 스왑방식)\n",
    "\n",
    "2) 해결 case2 : reverse() 함수를 사용하세요."
   ]
  },
  {
   "cell_type": "code",
   "execution_count": 243,
   "metadata": {},
   "outputs": [
    {
     "name": "stdout",
     "output_type": "stream",
     "text": [
      "['o', 'l', 'l', 'e', 'h']\n",
      "['h', 'a', 'n', 'n', 'a', 'H']\n"
     ]
    }
   ],
   "source": [
    "# 해결 1\n",
    "\n",
    "result = []\n",
    "\n",
    "def str_rev1(x):\n",
    "    for i in range(len(x)):\n",
    "        result.append(x.pop(-1))\n",
    "    return result\n",
    "        \n",
    "# 해결 2\n",
    "\n",
    "def str_rev2(x):\n",
    "    x.reverse()\n",
    "    return x\n",
    "\n",
    "print(str_rev1([\"h\",\"e\",\"l\",\"l\",\"o\"]))\n",
    "print(str_rev2([\"H\",\"a\",\"n\",\"n\",\"a\",\"h\"]))"
   ]
  },
  {
   "cell_type": "markdown",
   "metadata": {},
   "source": [
    "## 21) 문자열 배열을 받아 애너그램 단위로 그룹핑하시오."
   ]
  },
  {
   "cell_type": "markdown",
   "metadata": {},
   "source": [
    "애너그램? 단어나 문장을 구성하고 있는 문자의 순서를 바꾸어 다른 단어나 문장을 만드는 놀이"
   ]
  },
  {
   "cell_type": "code",
   "execution_count": 505,
   "metadata": {},
   "outputs": [
    {
     "data": {
      "text/plain": [
       "[['ate', 'eat', 'tea'], ['nat', 'tan'], ['bat']]"
      ]
     },
     "execution_count": 505,
     "metadata": {},
     "output_type": "execute_result"
    }
   ],
   "source": [
    "import re\n",
    "\n",
    "words = [\"eat\", \"tea\", \"tan\", \"ate\", \"nat\", \"bat\"]\n",
    "result = []\n",
    "\n",
    "def anagram(words):\n",
    "    for word in words:\n",
    "        match = re.findall(f\"[{word}]{ {len(word)} }\", \" \".join(words))\n",
    "        match.sort()\n",
    "        if match not in result: \n",
    "                result.append(match)\n",
    "    return result\n",
    "\n",
    "anagram(words)"
   ]
  },
  {
   "cell_type": "markdown",
   "metadata": {},
   "source": [
    "## 22) 가장 긴 팰리드롬 부분 문자열을 출력하시오."
   ]
  },
  {
   "cell_type": "code",
   "execution_count": 707,
   "metadata": {},
   "outputs": [
    {
     "data": {
      "text/plain": [
       "['ababa']"
      ]
     },
     "execution_count": 707,
     "metadata": {},
     "output_type": "execute_result"
    }
   ],
   "source": [
    "def longest_palindrom(text):\n",
    "    palin_list=[]\n",
    "    longest_list=[]\n",
    "    for i in range(len(text)):\n",
    "        for j in range(1,len(text)+1):\n",
    "            if len(text[i:j])>1 and text[i:j]==\"\".join(text[i:j][::-1]):\n",
    "                palin_list.append(text[i:j])\n",
    "    len_list=[len(word) for word in palin_list]\n",
    "\n",
    "    for num in range(len(len_list)):\n",
    "        if len_list[num]==max(len_list):\n",
    "            longest_list.append(palin_list[num])\n",
    "    return longest_list\n",
    "                \n",
    "\n",
    "longest_palindrom(\"geababaag\")"
   ]
  },
  {
   "cell_type": "markdown",
   "metadata": {},
   "source": [
    "## 23) 두 수 의 합 구하기"
   ]
  },
  {
   "cell_type": "code",
   "execution_count": 402,
   "metadata": {},
   "outputs": [],
   "source": [
    "nums = [2, 7 ,11, 15]\n",
    "target = 17"
   ]
  },
  {
   "cell_type": "code",
   "execution_count": 403,
   "metadata": {},
   "outputs": [
    {
     "data": {
      "text/plain": [
       "(0, 3)"
      ]
     },
     "execution_count": 403,
     "metadata": {},
     "output_type": "execute_result"
    }
   ],
   "source": [
    "def find_target(nums, target):\n",
    "    for i in range(len(nums)):\n",
    "        for j in range(i, len(nums)):\n",
    "            if nums[i]+nums[j]==target and i!=j:\n",
    "                return i, j\n",
    "find_target(nums, target)"
   ]
  },
  {
   "cell_type": "markdown",
   "metadata": {},
   "source": [
    "## 24) 높이를 입력받아 비 온 후 얼마나 많은 물이 쌓일 수 있는지 계산하라 (못품)"
   ]
  },
  {
   "cell_type": "code",
   "execution_count": 708,
   "metadata": {},
   "outputs": [],
   "source": [
    "height =[0,1,0,2,1,0,1,3,2,1,2,1]\n"
   ]
  },
  {
   "cell_type": "markdown",
   "metadata": {},
   "source": [
    "## 25) 세 수의 합"
   ]
  },
  {
   "cell_type": "code",
   "execution_count": 456,
   "metadata": {},
   "outputs": [
    {
     "data": {
      "text/plain": [
       "[[-1, 0, 1], [-1, -1, 2]]"
      ]
     },
     "execution_count": 456,
     "metadata": {},
     "output_type": "execute_result"
    }
   ],
   "source": [
    "nums = [-1, 0, 1, 2, -1, -4]\n",
    "result = []\n",
    "\n",
    "for i in range(len(nums)):\n",
    "    for j in range(i, len(nums)):\n",
    "        for x in range(j, len(nums)):\n",
    "            if nums[i]+nums[j]+nums[x]==0 and i!=j and j!=x and i!=x:\n",
    "                temp=[nums[i],nums[j],nums[x]]\n",
    "                temp.sort()\n",
    "                if temp not in result:\n",
    "                    result.append(temp)\n",
    "\n",
    "result"
   ]
  },
  {
   "cell_type": "markdown",
   "metadata": {},
   "source": [
    "## 26) 배열 파티션 (이상함)"
   ]
  },
  {
   "cell_type": "markdown",
   "metadata": {},
   "source": [
    "n개의 페어를 이용한 min(a, b)의 합으로 만들 수 있는 \n",
    "가장 큰 수를 출력"
   ]
  },
  {
   "cell_type": "code",
   "execution_count": 501,
   "metadata": {},
   "outputs": [
    {
     "data": {
      "text/plain": [
       "5"
      ]
     },
     "execution_count": 501,
     "metadata": {},
     "output_type": "execute_result"
    }
   ],
   "source": [
    "mins=[]\n",
    "nums=[1,4,3,2]\n",
    "result=[]\n",
    "\n",
    "for i in range(len(nums)-1):\n",
    "    for j in range(1, len(nums)):\n",
    "        if i!=j and min(nums[i],nums[j]) not in mins:\n",
    "            mins.append(min(nums[i],nums[j]))\n",
    "            \n",
    "mins.sort()\n",
    "mins[-1]+mins[-2]"
   ]
  },
  {
   "cell_type": "markdown",
   "metadata": {},
   "source": [
    "## 27)자신을 제외한 배열의 곱"
   ]
  },
  {
   "cell_type": "markdown",
   "metadata": {},
   "source": [
    "배열을 입력받아 output[i]가 자신을 제외한 \n",
    "나머지 모든 요소의 곱셈 결과가 되도록 \n",
    "출력하라"
   ]
  },
  {
   "cell_type": "code",
   "execution_count": 558,
   "metadata": {},
   "outputs": [
    {
     "data": {
      "text/plain": [
       "[24, 12, 8, 6]"
      ]
     },
     "execution_count": 558,
     "metadata": {},
     "output_type": "execute_result"
    }
   ],
   "source": [
    "def mul_ex_self(output):\n",
    "    mul_ex_self_list=[]\n",
    "    for i in range(len(output)):\n",
    "        mul_list = output.copy()\n",
    "        mul_list.pop(i)\n",
    "        result=1\n",
    "        for j in mul_list:\n",
    "            result*=j\n",
    "        mul_ex_self_list.append(result)\n",
    "    return mul_ex_self_list\n",
    "\n",
    "mul_ex_self([1,2,3,4])"
   ]
  },
  {
   "cell_type": "markdown",
   "metadata": {},
   "source": [
    "## 28) 주식을 사고 팔기 가장 좋은 시점"
   ]
  },
  {
   "cell_type": "code",
   "execution_count": 553,
   "metadata": {},
   "outputs": [
    {
     "data": {
      "text/plain": [
       "5"
      ]
     },
     "execution_count": 553,
     "metadata": {},
     "output_type": "execute_result"
    }
   ],
   "source": [
    "stock = [7, 1, 5, 3, 6, 4]\n",
    "\n",
    "def best_deal(stock):\n",
    "    best_buy=stock[0]\n",
    "    best_sell=stock[1]\n",
    "    for i in range(len(stock)-1):\n",
    "        for j in range(1, len(stock)):\n",
    "            if stock[i]<best_buy:\n",
    "                best_buy=stock[i]\n",
    "            if stock[j]>best_sell:\n",
    "                best_sell=stock[j]\n",
    "    return best_sell-best_buy\n",
    "            \n",
    "best_deal(stock)"
   ]
  },
  {
   "cell_type": "markdown",
   "metadata": {},
   "source": [
    "## 29) 팰린드롬 연결 리스트"
   ]
  },
  {
   "cell_type": "code",
   "execution_count": 555,
   "metadata": {},
   "outputs": [
    {
     "name": "stdout",
     "output_type": "stream",
     "text": [
      "테스트하고자 하는 대상을 입력하세요: 1->2->2->1\n",
      "1->2->2->1: 팰린드롬입니다.\n"
     ]
    }
   ],
   "source": [
    "import re\n",
    "\n",
    "user_input = input(\"테스트하고자 하는 대상을 입력하세요: \")\n",
    "\n",
    "def palindrome(user_input):\n",
    "    x = re.sub(\"[^A-z^0-9]\", \"\", user_input).lower()\n",
    "    before = list(x)\n",
    "    after = list(x)\n",
    "    after.reverse()\n",
    "    \n",
    "    if before == after:\n",
    "        print(f\"{user_input}: 팰린드롬입니다.\")\n",
    "    else:\n",
    "        print(f\"{user_input}: 팰린드롬이 아닙니다.\")\n",
    "\n",
    "palindrome(user_input)"
   ]
  }
 ],
 "metadata": {
  "kernelspec": {
   "display_name": "Python 3 (ipykernel)",
   "language": "python",
   "name": "python3"
  },
  "language_info": {
   "codemirror_mode": {
    "name": "ipython",
    "version": 3
   },
   "file_extension": ".py",
   "mimetype": "text/x-python",
   "name": "python",
   "nbconvert_exporter": "python",
   "pygments_lexer": "ipython3",
   "version": "3.8.10"
  }
 },
 "nbformat": 4,
 "nbformat_minor": 4
}
