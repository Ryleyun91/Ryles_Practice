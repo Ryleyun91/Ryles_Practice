{
 "cells": [
  {
   "cell_type": "code",
   "execution_count": 1,
   "id": "c9578e41",
   "metadata": {},
   "outputs": [],
   "source": [
    "import pandas as pd\n",
    "import numpy as np\n",
    "import re"
   ]
  },
  {
   "cell_type": "code",
   "execution_count": null,
   "id": "4bd8cf7b",
   "metadata": {},
   "outputs": [],
   "source": []
  },
  {
   "cell_type": "code",
   "execution_count": 4,
   "id": "0d601dfe",
   "metadata": {},
   "outputs": [
    {
     "ename": "FileNotFoundError",
     "evalue": "[Errno 2] No such file or directory: '../../../../open/train.csv'",
     "output_type": "error",
     "traceback": [
      "\u001b[0;31m---------------------------------------------------------------------------\u001b[0m",
      "\u001b[0;31mFileNotFoundError\u001b[0m                         Traceback (most recent call last)",
      "\u001b[0;32m/var/folders/s5/j2ttz_bd7d500bsb_zg9212w0000gn/T/ipykernel_29997/39113330.py\u001b[0m in \u001b[0;36m<module>\u001b[0;34m\u001b[0m\n\u001b[0;32m----> 1\u001b[0;31m \u001b[0mtrain\u001b[0m \u001b[0;34m=\u001b[0m \u001b[0mpd\u001b[0m\u001b[0;34m.\u001b[0m\u001b[0mread_csv\u001b[0m\u001b[0;34m(\u001b[0m\u001b[0;34m\"../../../../open/train.csv\"\u001b[0m\u001b[0;34m)\u001b[0m\u001b[0;34m\u001b[0m\u001b[0;34m\u001b[0m\u001b[0m\n\u001b[0m\u001b[1;32m      2\u001b[0m \u001b[0mtest\u001b[0m \u001b[0;34m=\u001b[0m \u001b[0mpd\u001b[0m\u001b[0;34m.\u001b[0m\u001b[0mread_csv\u001b[0m\u001b[0;34m(\u001b[0m\u001b[0;34m\"../../../../open/test.csv\"\u001b[0m\u001b[0;34m)\u001b[0m\u001b[0;34m\u001b[0m\u001b[0;34m\u001b[0m\u001b[0m\n",
      "\u001b[0;32m~/opt/anaconda3/envs/nlppython/lib/python3.8/site-packages/pandas/io/parsers.py\u001b[0m in \u001b[0;36mread_csv\u001b[0;34m(filepath_or_buffer, sep, delimiter, header, names, index_col, usecols, squeeze, prefix, mangle_dupe_cols, dtype, engine, converters, true_values, false_values, skipinitialspace, skiprows, skipfooter, nrows, na_values, keep_default_na, na_filter, verbose, skip_blank_lines, parse_dates, infer_datetime_format, keep_date_col, date_parser, dayfirst, cache_dates, iterator, chunksize, compression, thousands, decimal, lineterminator, quotechar, quoting, doublequote, escapechar, comment, encoding, dialect, error_bad_lines, warn_bad_lines, delim_whitespace, low_memory, memory_map, float_precision, storage_options)\u001b[0m\n\u001b[1;32m    608\u001b[0m     \u001b[0mkwds\u001b[0m\u001b[0;34m.\u001b[0m\u001b[0mupdate\u001b[0m\u001b[0;34m(\u001b[0m\u001b[0mkwds_defaults\u001b[0m\u001b[0;34m)\u001b[0m\u001b[0;34m\u001b[0m\u001b[0;34m\u001b[0m\u001b[0m\n\u001b[1;32m    609\u001b[0m \u001b[0;34m\u001b[0m\u001b[0m\n\u001b[0;32m--> 610\u001b[0;31m     \u001b[0;32mreturn\u001b[0m \u001b[0m_read\u001b[0m\u001b[0;34m(\u001b[0m\u001b[0mfilepath_or_buffer\u001b[0m\u001b[0;34m,\u001b[0m \u001b[0mkwds\u001b[0m\u001b[0;34m)\u001b[0m\u001b[0;34m\u001b[0m\u001b[0;34m\u001b[0m\u001b[0m\n\u001b[0m\u001b[1;32m    611\u001b[0m \u001b[0;34m\u001b[0m\u001b[0m\n\u001b[1;32m    612\u001b[0m \u001b[0;34m\u001b[0m\u001b[0m\n",
      "\u001b[0;32m~/opt/anaconda3/envs/nlppython/lib/python3.8/site-packages/pandas/io/parsers.py\u001b[0m in \u001b[0;36m_read\u001b[0;34m(filepath_or_buffer, kwds)\u001b[0m\n\u001b[1;32m    460\u001b[0m \u001b[0;34m\u001b[0m\u001b[0m\n\u001b[1;32m    461\u001b[0m     \u001b[0;31m# Create the parser.\u001b[0m\u001b[0;34m\u001b[0m\u001b[0;34m\u001b[0m\u001b[0;34m\u001b[0m\u001b[0m\n\u001b[0;32m--> 462\u001b[0;31m     \u001b[0mparser\u001b[0m \u001b[0;34m=\u001b[0m \u001b[0mTextFileReader\u001b[0m\u001b[0;34m(\u001b[0m\u001b[0mfilepath_or_buffer\u001b[0m\u001b[0;34m,\u001b[0m \u001b[0;34m**\u001b[0m\u001b[0mkwds\u001b[0m\u001b[0;34m)\u001b[0m\u001b[0;34m\u001b[0m\u001b[0;34m\u001b[0m\u001b[0m\n\u001b[0m\u001b[1;32m    463\u001b[0m \u001b[0;34m\u001b[0m\u001b[0m\n\u001b[1;32m    464\u001b[0m     \u001b[0;32mif\u001b[0m \u001b[0mchunksize\u001b[0m \u001b[0;32mor\u001b[0m \u001b[0miterator\u001b[0m\u001b[0;34m:\u001b[0m\u001b[0;34m\u001b[0m\u001b[0;34m\u001b[0m\u001b[0m\n",
      "\u001b[0;32m~/opt/anaconda3/envs/nlppython/lib/python3.8/site-packages/pandas/io/parsers.py\u001b[0m in \u001b[0;36m__init__\u001b[0;34m(self, f, engine, **kwds)\u001b[0m\n\u001b[1;32m    817\u001b[0m             \u001b[0mself\u001b[0m\u001b[0;34m.\u001b[0m\u001b[0moptions\u001b[0m\u001b[0;34m[\u001b[0m\u001b[0;34m\"has_index_names\"\u001b[0m\u001b[0;34m]\u001b[0m \u001b[0;34m=\u001b[0m \u001b[0mkwds\u001b[0m\u001b[0;34m[\u001b[0m\u001b[0;34m\"has_index_names\"\u001b[0m\u001b[0;34m]\u001b[0m\u001b[0;34m\u001b[0m\u001b[0;34m\u001b[0m\u001b[0m\n\u001b[1;32m    818\u001b[0m \u001b[0;34m\u001b[0m\u001b[0m\n\u001b[0;32m--> 819\u001b[0;31m         \u001b[0mself\u001b[0m\u001b[0;34m.\u001b[0m\u001b[0m_engine\u001b[0m \u001b[0;34m=\u001b[0m \u001b[0mself\u001b[0m\u001b[0;34m.\u001b[0m\u001b[0m_make_engine\u001b[0m\u001b[0;34m(\u001b[0m\u001b[0mself\u001b[0m\u001b[0;34m.\u001b[0m\u001b[0mengine\u001b[0m\u001b[0;34m)\u001b[0m\u001b[0;34m\u001b[0m\u001b[0;34m\u001b[0m\u001b[0m\n\u001b[0m\u001b[1;32m    820\u001b[0m \u001b[0;34m\u001b[0m\u001b[0m\n\u001b[1;32m    821\u001b[0m     \u001b[0;32mdef\u001b[0m \u001b[0mclose\u001b[0m\u001b[0;34m(\u001b[0m\u001b[0mself\u001b[0m\u001b[0;34m)\u001b[0m\u001b[0;34m:\u001b[0m\u001b[0;34m\u001b[0m\u001b[0;34m\u001b[0m\u001b[0m\n",
      "\u001b[0;32m~/opt/anaconda3/envs/nlppython/lib/python3.8/site-packages/pandas/io/parsers.py\u001b[0m in \u001b[0;36m_make_engine\u001b[0;34m(self, engine)\u001b[0m\n\u001b[1;32m   1048\u001b[0m             )\n\u001b[1;32m   1049\u001b[0m         \u001b[0;31m# error: Too many arguments for \"ParserBase\"\u001b[0m\u001b[0;34m\u001b[0m\u001b[0;34m\u001b[0m\u001b[0;34m\u001b[0m\u001b[0m\n\u001b[0;32m-> 1050\u001b[0;31m         \u001b[0;32mreturn\u001b[0m \u001b[0mmapping\u001b[0m\u001b[0;34m[\u001b[0m\u001b[0mengine\u001b[0m\u001b[0;34m]\u001b[0m\u001b[0;34m(\u001b[0m\u001b[0mself\u001b[0m\u001b[0;34m.\u001b[0m\u001b[0mf\u001b[0m\u001b[0;34m,\u001b[0m \u001b[0;34m**\u001b[0m\u001b[0mself\u001b[0m\u001b[0;34m.\u001b[0m\u001b[0moptions\u001b[0m\u001b[0;34m)\u001b[0m  \u001b[0;31m# type: ignore[call-arg]\u001b[0m\u001b[0;34m\u001b[0m\u001b[0;34m\u001b[0m\u001b[0m\n\u001b[0m\u001b[1;32m   1051\u001b[0m \u001b[0;34m\u001b[0m\u001b[0m\n\u001b[1;32m   1052\u001b[0m     \u001b[0;32mdef\u001b[0m \u001b[0m_failover_to_python\u001b[0m\u001b[0;34m(\u001b[0m\u001b[0mself\u001b[0m\u001b[0;34m)\u001b[0m\u001b[0;34m:\u001b[0m\u001b[0;34m\u001b[0m\u001b[0;34m\u001b[0m\u001b[0m\n",
      "\u001b[0;32m~/opt/anaconda3/envs/nlppython/lib/python3.8/site-packages/pandas/io/parsers.py\u001b[0m in \u001b[0;36m__init__\u001b[0;34m(self, src, **kwds)\u001b[0m\n\u001b[1;32m   1865\u001b[0m \u001b[0;34m\u001b[0m\u001b[0m\n\u001b[1;32m   1866\u001b[0m         \u001b[0;31m# open handles\u001b[0m\u001b[0;34m\u001b[0m\u001b[0;34m\u001b[0m\u001b[0;34m\u001b[0m\u001b[0m\n\u001b[0;32m-> 1867\u001b[0;31m         \u001b[0mself\u001b[0m\u001b[0;34m.\u001b[0m\u001b[0m_open_handles\u001b[0m\u001b[0;34m(\u001b[0m\u001b[0msrc\u001b[0m\u001b[0;34m,\u001b[0m \u001b[0mkwds\u001b[0m\u001b[0;34m)\u001b[0m\u001b[0;34m\u001b[0m\u001b[0;34m\u001b[0m\u001b[0m\n\u001b[0m\u001b[1;32m   1868\u001b[0m         \u001b[0;32massert\u001b[0m \u001b[0mself\u001b[0m\u001b[0;34m.\u001b[0m\u001b[0mhandles\u001b[0m \u001b[0;32mis\u001b[0m \u001b[0;32mnot\u001b[0m \u001b[0;32mNone\u001b[0m\u001b[0;34m\u001b[0m\u001b[0;34m\u001b[0m\u001b[0m\n\u001b[1;32m   1869\u001b[0m         \u001b[0;32mfor\u001b[0m \u001b[0mkey\u001b[0m \u001b[0;32min\u001b[0m \u001b[0;34m(\u001b[0m\u001b[0;34m\"storage_options\"\u001b[0m\u001b[0;34m,\u001b[0m \u001b[0;34m\"encoding\"\u001b[0m\u001b[0;34m,\u001b[0m \u001b[0;34m\"memory_map\"\u001b[0m\u001b[0;34m,\u001b[0m \u001b[0;34m\"compression\"\u001b[0m\u001b[0;34m)\u001b[0m\u001b[0;34m:\u001b[0m\u001b[0;34m\u001b[0m\u001b[0;34m\u001b[0m\u001b[0m\n",
      "\u001b[0;32m~/opt/anaconda3/envs/nlppython/lib/python3.8/site-packages/pandas/io/parsers.py\u001b[0m in \u001b[0;36m_open_handles\u001b[0;34m(self, src, kwds)\u001b[0m\n\u001b[1;32m   1360\u001b[0m         \u001b[0mLet\u001b[0m \u001b[0mthe\u001b[0m \u001b[0mreaders\u001b[0m \u001b[0mopen\u001b[0m \u001b[0mIOHanldes\u001b[0m \u001b[0mafter\u001b[0m \u001b[0mthey\u001b[0m \u001b[0mare\u001b[0m \u001b[0mdone\u001b[0m \u001b[0;32mwith\u001b[0m \u001b[0mtheir\u001b[0m \u001b[0mpotential\u001b[0m \u001b[0mraises\u001b[0m\u001b[0;34m.\u001b[0m\u001b[0;34m\u001b[0m\u001b[0;34m\u001b[0m\u001b[0m\n\u001b[1;32m   1361\u001b[0m         \"\"\"\n\u001b[0;32m-> 1362\u001b[0;31m         self.handles = get_handle(\n\u001b[0m\u001b[1;32m   1363\u001b[0m             \u001b[0msrc\u001b[0m\u001b[0;34m,\u001b[0m\u001b[0;34m\u001b[0m\u001b[0;34m\u001b[0m\u001b[0m\n\u001b[1;32m   1364\u001b[0m             \u001b[0;34m\"r\"\u001b[0m\u001b[0;34m,\u001b[0m\u001b[0;34m\u001b[0m\u001b[0;34m\u001b[0m\u001b[0m\n",
      "\u001b[0;32m~/opt/anaconda3/envs/nlppython/lib/python3.8/site-packages/pandas/io/common.py\u001b[0m in \u001b[0;36mget_handle\u001b[0;34m(path_or_buf, mode, encoding, compression, memory_map, is_text, errors, storage_options)\u001b[0m\n\u001b[1;32m    645\u001b[0m                 \u001b[0merrors\u001b[0m \u001b[0;34m=\u001b[0m \u001b[0;34m\"replace\"\u001b[0m\u001b[0;34m\u001b[0m\u001b[0;34m\u001b[0m\u001b[0m\n\u001b[1;32m    646\u001b[0m             \u001b[0;31m# Encoding\u001b[0m\u001b[0;34m\u001b[0m\u001b[0;34m\u001b[0m\u001b[0;34m\u001b[0m\u001b[0m\n\u001b[0;32m--> 647\u001b[0;31m             handle = open(\n\u001b[0m\u001b[1;32m    648\u001b[0m                 \u001b[0mhandle\u001b[0m\u001b[0;34m,\u001b[0m\u001b[0;34m\u001b[0m\u001b[0;34m\u001b[0m\u001b[0m\n\u001b[1;32m    649\u001b[0m                 \u001b[0mioargs\u001b[0m\u001b[0;34m.\u001b[0m\u001b[0mmode\u001b[0m\u001b[0;34m,\u001b[0m\u001b[0;34m\u001b[0m\u001b[0;34m\u001b[0m\u001b[0m\n",
      "\u001b[0;31mFileNotFoundError\u001b[0m: [Errno 2] No such file or directory: '../../../../open/train.csv'"
     ]
    }
   ],
   "source": [
    "train = pd.read_csv(\"../../../../open/train.csv\")\n",
    "test = pd.read_csv(\"../../../../open/test.csv\")"
   ]
  },
  {
   "cell_type": "code",
   "execution_count": null,
   "id": "ebe091d0",
   "metadata": {},
   "outputs": [],
   "source": [
    "from konlpy.tag import Mecab\n",
    "mecab = Mecab()"
   ]
  },
  {
   "cell_type": "code",
   "execution_count": 3,
   "id": "98b3ef13",
   "metadata": {},
   "outputs": [
    {
     "ename": "NameError",
     "evalue": "name 'train' is not defined",
     "output_type": "error",
     "traceback": [
      "\u001b[0;31m---------------------------------------------------------------------------\u001b[0m",
      "\u001b[0;31mNameError\u001b[0m                                 Traceback (most recent call last)",
      "\u001b[0;32m<timed exec>\u001b[0m in \u001b[0;36m<module>\u001b[0;34m\u001b[0m\n",
      "\u001b[0;31mNameError\u001b[0m: name 'train' is not defined"
     ]
    }
   ],
   "source": [
    "%%time\n",
    "def pos(x):\n",
    "    try:\n",
    "        text = ''\n",
    "        for word, pos in mecab.pos(str(x)):\n",
    "            if pos in [\"NNG\", \"NNP\", \"VV\", \"VA\", \"VCP\", \"VCN\", \"MM\", \"MAG\", \"XPN\", \"SL\", \"SH\"]:\n",
    "                if type(re.search(\"\\W+|[0-9]\", word))!=re.Match and len(word)>1: \n",
    "                    # and len(word)!=1:\n",
    "                    text+=\" \"+word\n",
    "        return text.strip()\n",
    "    \n",
    "    except:\n",
    "        pass\n",
    "\n",
    "train[\"과제명\"] = train[\"과제명\"].apply(pos)\n",
    "train[\"요약문_연구목표\"] = train[\"요약문_연구목표\"].apply(pos)\n",
    "train[\"요약문_연구내용\"] = train[\"요약문_연구내용\"].apply(pos)\n",
    "train[\"요약문_기대효과\"] = train[\"요약문_기대효과\"].apply(pos)\n",
    "train[\"요약문_한글키워드\"] = train[\"요약문_한글키워드\"].apply(pos)\n",
    "\n",
    "test[\"과제명\"] = test[\"과제명\"].apply(pos)\n",
    "test[\"요약문_연구목표\"] = test[\"요약문_연구목표\"].apply(pos)\n",
    "test[\"요약문_연구내용\"] = test[\"요약문_연구내용\"].apply(pos)\n",
    "test[\"요약문_기대효과\"] = test[\"요약문_기대효과\"].apply(pos)\n",
    "test[\"요약문_한글키워드\"] = test[\"요약문_한글키워드\"].apply(pos)"
   ]
  },
  {
   "cell_type": "code",
   "execution_count": 5,
   "id": "73660f74",
   "metadata": {},
   "outputs": [],
   "source": [
    "train[\"concat\"] = train[\"과제명\"]+\" \"+train[\"요약문_한글키워드\"]"
   ]
  },
  {
   "cell_type": "code",
   "execution_count": 6,
   "id": "c10f3cd3",
   "metadata": {},
   "outputs": [],
   "source": [
    "from sklearn.model_selection import train_test_split\n",
    "train_data, valid_data, train_label, valid_label = train_test_split(train[\"concat\"], train[\"label\"], test_size=0.1, random_state=42)"
   ]
  },
  {
   "cell_type": "code",
   "execution_count": 7,
   "id": "b2cb98bc",
   "metadata": {},
   "outputs": [],
   "source": [
    "test[\"concat\"] = test[\"과제명\"]+\" \"+test[\"요약문_한글키워드\"]"
   ]
  },
  {
   "cell_type": "code",
   "execution_count": 8,
   "id": "d2c306f4",
   "metadata": {},
   "outputs": [
    {
     "name": "stdout",
     "output_type": "stream",
     "text": [
      "Fitting 5 folds for each of 9 candidates, totalling 45 fits\n",
      "Best score: 0.9160722394796412\n"
     ]
    }
   ],
   "source": [
    "from sklearn.pipeline import Pipeline\n",
    "from sklearn.feature_extraction.text import CountVectorizer\n",
    "from sklearn.feature_extraction.text import TfidfTransformer\n",
    "from sklearn.naive_bayes import MultinomialNB\n",
    "from sklearn.model_selection import GridSearchCV\n",
    "\n",
    "text_clf = Pipeline([(\"vect\", CountVectorizer()), (\"tfidf\", TfidfTransformer()), (\"clf\", MultinomialNB())])\n",
    "text_clf = text_clf.fit(train_data, train_label)\n",
    "\n",
    "params_clf = {\"vect__ngram_range\":[(1,5),(1,7),(1,9)],\n",
    "              \"clf__alpha\":[0.01, 0.008, 0.006]}\n",
    "\n",
    "gs_clf = GridSearchCV(text_clf, params_clf, n_jobs=5, verbose=2)\n",
    "gs_clf = gs_clf.fit(train_data, train_label)\n",
    "\n",
    "print(\"Best score: {}\".format(gs_clf.best_score_))\n",
    "best_parametors = gs_clf.best_estimator_.get_params()"
   ]
  },
  {
   "cell_type": "code",
   "execution_count": 9,
   "id": "814dc784",
   "metadata": {
    "scrolled": true
   },
   "outputs": [
    {
     "data": {
      "text/plain": [
       "{'memory': None,\n",
       " 'steps': [('vect', CountVectorizer(ngram_range=(1, 7))),\n",
       "  ('tfidf', TfidfTransformer()),\n",
       "  ('clf', MultinomialNB(alpha=0.008))],\n",
       " 'verbose': False,\n",
       " 'vect': CountVectorizer(ngram_range=(1, 7)),\n",
       " 'tfidf': TfidfTransformer(),\n",
       " 'clf': MultinomialNB(alpha=0.008),\n",
       " 'vect__analyzer': 'word',\n",
       " 'vect__binary': False,\n",
       " 'vect__decode_error': 'strict',\n",
       " 'vect__dtype': numpy.int64,\n",
       " 'vect__encoding': 'utf-8',\n",
       " 'vect__input': 'content',\n",
       " 'vect__lowercase': True,\n",
       " 'vect__max_df': 1.0,\n",
       " 'vect__max_features': None,\n",
       " 'vect__min_df': 1,\n",
       " 'vect__ngram_range': (1, 7),\n",
       " 'vect__preprocessor': None,\n",
       " 'vect__stop_words': None,\n",
       " 'vect__strip_accents': None,\n",
       " 'vect__token_pattern': '(?u)\\\\b\\\\w\\\\w+\\\\b',\n",
       " 'vect__tokenizer': None,\n",
       " 'vect__vocabulary': None,\n",
       " 'tfidf__norm': 'l2',\n",
       " 'tfidf__smooth_idf': True,\n",
       " 'tfidf__sublinear_tf': False,\n",
       " 'tfidf__use_idf': True,\n",
       " 'clf__alpha': 0.008,\n",
       " 'clf__class_prior': None,\n",
       " 'clf__fit_prior': True}"
      ]
     },
     "execution_count": 9,
     "metadata": {},
     "output_type": "execute_result"
    }
   ],
   "source": [
    "best_parametors"
   ]
  },
  {
   "cell_type": "code",
   "execution_count": 10,
   "id": "13d4eb2a",
   "metadata": {},
   "outputs": [
    {
     "data": {
      "text/plain": [
       "0.9262233951006827"
      ]
     },
     "execution_count": 10,
     "metadata": {},
     "output_type": "execute_result"
    }
   ],
   "source": [
    "pred = gs_clf.best_estimator_.predict(valid_data)\n",
    "# pred = text_clf.predict(valid_data)\n",
    "np.mean(pred == valid_label)"
   ]
  },
  {
   "cell_type": "markdown",
   "id": "e2241bae",
   "metadata": {},
   "source": [
    "import pickle\n",
    "with open(\"naive_bayes_concat_5gram.pkl\", \"wb\") as f:\n",
    "    pickle.dump(text_clf, f)"
   ]
  },
  {
   "cell_type": "code",
   "execution_count": 11,
   "id": "eb700cea",
   "metadata": {},
   "outputs": [],
   "source": [
    "pred = gs_clf.best_estimator_.predict(test[\"concat\"])"
   ]
  },
  {
   "cell_type": "code",
   "execution_count": 12,
   "id": "6c3f2e5a",
   "metadata": {},
   "outputs": [
    {
     "data": {
      "text/plain": [
       "7019"
      ]
     },
     "execution_count": 12,
     "metadata": {},
     "output_type": "execute_result"
    }
   ],
   "source": [
    "sum(pred != 0)"
   ]
  },
  {
   "cell_type": "code",
   "execution_count": 13,
   "id": "0d5ce17a",
   "metadata": {},
   "outputs": [
    {
     "name": "stdout",
     "output_type": "stream",
     "text": [
      "[CV] END ..........clf__alpha=0.01, vect__ngram_range=(1, 5); total time=  50.0s\n",
      "[CV] END ..........clf__alpha=0.01, vect__ngram_range=(1, 7); total time= 1.3min\n",
      "[CV] END ..........clf__alpha=0.01, vect__ngram_range=(1, 9); total time= 1.6min\n",
      "[CV] END .........clf__alpha=0.008, vect__ngram_range=(1, 5); total time=  40.7s\n",
      "[CV] END .........clf__alpha=0.008, vect__ngram_range=(1, 7); total time= 1.1min\n",
      "[CV] END .........clf__alpha=0.008, vect__ngram_range=(1, 9); total time= 1.6min\n",
      "[CV] END .........clf__alpha=0.006, vect__ngram_range=(1, 5); total time=  41.5s\n",
      "[CV] END .........clf__alpha=0.006, vect__ngram_range=(1, 7); total time= 1.1min\n",
      "[CV] END .........clf__alpha=0.006, vect__ngram_range=(1, 9); total time= 1.6min\n",
      "[CV] END ..........clf__alpha=0.01, vect__ngram_range=(1, 5); total time=  51.1s\n",
      "[CV] END ..........clf__alpha=0.01, vect__ngram_range=(1, 7); total time= 1.3min\n",
      "[CV] END ..........clf__alpha=0.01, vect__ngram_range=(1, 9); total time= 1.6min\n",
      "[CV] END .........clf__alpha=0.008, vect__ngram_range=(1, 5); total time=  40.6s\n",
      "[CV] END .........clf__alpha=0.008, vect__ngram_range=(1, 7); total time= 1.0min\n",
      "[CV] END .........clf__alpha=0.008, vect__ngram_range=(1, 9); total time= 1.6min\n",
      "[CV] END .........clf__alpha=0.006, vect__ngram_range=(1, 5); total time=  41.1s\n",
      "[CV] END .........clf__alpha=0.006, vect__ngram_range=(1, 7); total time= 1.2min\n",
      "[CV] END .........clf__alpha=0.006, vect__ngram_range=(1, 9); total time= 1.7min\n",
      "[CV] END ..........clf__alpha=0.01, vect__ngram_range=(1, 5); total time=  49.6s\n",
      "[CV] END ..........clf__alpha=0.01, vect__ngram_range=(1, 7); total time= 1.3min\n",
      "[CV] END ..........clf__alpha=0.01, vect__ngram_range=(1, 9); total time= 1.9min\n",
      "[CV] END .........clf__alpha=0.008, vect__ngram_range=(1, 5); total time=  41.0s\n",
      "[CV] END .........clf__alpha=0.008, vect__ngram_range=(1, 7); total time=  59.5s\n",
      "[CV] END .........clf__alpha=0.008, vect__ngram_range=(1, 9); total time= 1.4min\n",
      "[CV] END .........clf__alpha=0.006, vect__ngram_range=(1, 5); total time=  41.4s\n",
      "[CV] END .........clf__alpha=0.006, vect__ngram_range=(1, 7); total time= 1.1min\n",
      "[CV] END .........clf__alpha=0.006, vect__ngram_range=(1, 9); total time= 1.8min\n",
      "[CV] END ..........clf__alpha=0.01, vect__ngram_range=(1, 5); total time=  50.0s\n",
      "[CV] END ..........clf__alpha=0.01, vect__ngram_range=(1, 7); total time= 1.3min\n",
      "[CV] END ..........clf__alpha=0.01, vect__ngram_range=(1, 9); total time= 1.6min\n",
      "[CV] END .........clf__alpha=0.008, vect__ngram_range=(1, 5); total time=  40.6s\n",
      "[CV] END .........clf__alpha=0.008, vect__ngram_range=(1, 7); total time= 1.1min\n",
      "[CV] END .........clf__alpha=0.008, vect__ngram_range=(1, 9); total time= 1.5min\n",
      "[CV] END .........clf__alpha=0.006, vect__ngram_range=(1, 5); total time=  41.5s\n",
      "[CV] END .........clf__alpha=0.006, vect__ngram_range=(1, 7); total time= 1.2min\n",
      "[CV] END .........clf__alpha=0.006, vect__ngram_range=(1, 9); total time= 1.8min\n",
      "[CV] END ..........clf__alpha=0.01, vect__ngram_range=(1, 5); total time=  50.5s\n",
      "[CV] END ..........clf__alpha=0.01, vect__ngram_range=(1, 7); total time= 1.3min\n",
      "[CV] END ..........clf__alpha=0.01, vect__ngram_range=(1, 9); total time= 1.6min\n",
      "[CV] END .........clf__alpha=0.008, vect__ngram_range=(1, 5); total time=  40.0s\n",
      "[CV] END .........clf__alpha=0.008, vect__ngram_range=(1, 7); total time= 1.0min\n",
      "[CV] END .........clf__alpha=0.008, vect__ngram_range=(1, 9); total time= 1.6min\n",
      "[CV] END .........clf__alpha=0.006, vect__ngram_range=(1, 5); total time=  41.2s\n",
      "[CV] END .........clf__alpha=0.006, vect__ngram_range=(1, 7); total time= 1.2min\n",
      "[CV] END .........clf__alpha=0.006, vect__ngram_range=(1, 9); total time= 1.8min\n"
     ]
    }
   ],
   "source": [
    "sample_submission=pd.read_csv('./open/sample_submission.csv')\n",
    "sample_submission['label']=pred\n",
    "sample_submission.to_csv('naive_bayes_keyname(dic_variouspos&over1).csv', index=False)"
   ]
  },
  {
   "cell_type": "code",
   "execution_count": null,
   "id": "f7b58618",
   "metadata": {},
   "outputs": [],
   "source": []
  }
 ],
 "metadata": {
  "kernelspec": {
   "display_name": "Python 3 (ipykernel)",
   "language": "python",
   "name": "python3"
  },
  "language_info": {
   "codemirror_mode": {
    "name": "ipython",
    "version": 3
   },
   "file_extension": ".py",
   "mimetype": "text/x-python",
   "name": "python",
   "nbconvert_exporter": "python",
   "pygments_lexer": "ipython3",
   "version": "3.8.10"
  }
 },
 "nbformat": 4,
 "nbformat_minor": 5
}
