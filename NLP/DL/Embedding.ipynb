{
 "cells": [
  {
   "cell_type": "markdown",
   "id": "f0bf50b2",
   "metadata": {},
   "source": [
    "# Tokenizer (단어 단위로 잘라주기)"
   ]
  },
  {
   "cell_type": "code",
   "execution_count": 1,
   "id": "5a27bfe8",
   "metadata": {},
   "outputs": [],
   "source": [
    "from tensorflow.keras.preprocessing.text import Tokenizer"
   ]
  },
  {
   "cell_type": "code",
   "execution_count": 2,
   "id": "254a9b78",
   "metadata": {},
   "outputs": [],
   "source": [
    "sentence = ['i love my dog',\n",
    "           'I, love my cay',\n",
    "           'You love my dog']"
   ]
  },
  {
   "cell_type": "code",
   "execution_count": 6,
   "id": "7583f512",
   "metadata": {},
   "outputs": [
    {
     "name": "stdout",
     "output_type": "stream",
     "text": [
      "{'love': 1, 'my': 2, 'i': 3, 'dog': 4, 'cay': 5, 'you': 6}\n"
     ]
    }
   ],
   "source": [
    "# tokenizer는 지정된 max_num에 맞게 빈도수 기반으로 단어를 추리고, 사전으로 받아올 수 있음\n",
    "tokenizer = Tokenizer(num_words = 100)\n",
    "tokenizer.fit_on_texts(sentence)\n",
    "word_index = tokenizer.word_index\n",
    "print(word_index)"
   ]
  },
  {
   "cell_type": "markdown",
   "id": "33fbc4a0",
   "metadata": {},
   "source": [
    "# sequence"
   ]
  },
  {
   "cell_type": "code",
   "execution_count": 11,
   "id": "667eee58",
   "metadata": {},
   "outputs": [
    {
     "name": "stdout",
     "output_type": "stream",
     "text": [
      "{'<oov>': 1, 'my': 2, 'love': 3, 'dog': 4, 'i': 5, 'you': 6, 'cay': 7, 'do': 8, 'think': 9, 'is': 10, 'amazing': 11}\n"
     ]
    }
   ],
   "source": [
    "# pad_sequences는 input에 맞게 들어가는 max_len을 정해주고, 그에 맞게 패딩을 진행함\n",
    "from tensorflow.keras.preprocessing.sequence import pad_sequences\n",
    "\n",
    "sentences = ['i love my dog',\n",
    "           'I, love my cay',\n",
    "           'You love my dog',\n",
    "            'Do you think my dog is amazing?']\n",
    "tokenizer = Tokenizer(num_words=100, oov_token='<oov>')\n",
    "tokenizer.fit_on_texts(sentences)\n",
    "word_index = tokenizer.word_index\n",
    "print(word_index)"
   ]
  },
  {
   "cell_type": "code",
   "execution_count": 12,
   "id": "49ece162",
   "metadata": {},
   "outputs": [
    {
     "data": {
      "text/plain": [
       "[[5, 3, 2, 4], [5, 3, 2, 7], [6, 3, 2, 4], [8, 6, 9, 2, 4, 10, 11]]"
      ]
     },
     "execution_count": 12,
     "metadata": {},
     "output_type": "execute_result"
    }
   ],
   "source": [
    "sequences = tokenizer.texts_to_sequences(sentences)\n",
    "sequences"
   ]
  },
  {
   "cell_type": "code",
   "execution_count": 15,
   "id": "7638e401",
   "metadata": {},
   "outputs": [
    {
     "name": "stdout",
     "output_type": "stream",
     "text": [
      "[[5 3 2 4 0]\n",
      " [5 3 2 7 0]\n",
      " [6 3 2 4 0]\n",
      " [8 6 9 2 4]]\n"
     ]
    }
   ],
   "source": [
    "# padding, truncating -> 앞이 기준이면 pre, 뒤가 기준이면 post\n",
    "padded = pad_sequences(sequences, maxlen=5, padding='post', truncating='post')\n",
    "print(padded)"
   ]
  },
  {
   "cell_type": "markdown",
   "id": "d4b1bad9",
   "metadata": {},
   "source": [
    "## json 파일 불러와서 직접 tokenizing -> padding 해보기"
   ]
  },
  {
   "cell_type": "code",
   "execution_count": 48,
   "id": "e576d597",
   "metadata": {},
   "outputs": [],
   "source": [
    "import json\n",
    "with open('../../DATA/sarcasm.json', 'r', encoding='utf-8') as f:\n",
    "    datastore = json.load(f)"
   ]
  },
  {
   "cell_type": "code",
   "execution_count": 49,
   "id": "20769ac7",
   "metadata": {},
   "outputs": [],
   "source": [
    "sentences = []\n",
    "labels = []\n",
    "urls = []\n",
    "for item in datastore:\n",
    "    sentences.append(item['headline'])\n",
    "    labels.append(item['is_sarcastic'])\n",
    "    urls.append(item['article_link'])\n",
    "\n",
    "import numpy as np\n",
    "labels = np.array(labels)"
   ]
  },
  {
   "cell_type": "code",
   "execution_count": 50,
   "id": "997cd91c",
   "metadata": {},
   "outputs": [
    {
     "name": "stdout",
     "output_type": "stream",
     "text": [
      "[[  308 15115   679 ...     0     0     0]\n",
      " [    4  8435  3338 ...     0     0     0]\n",
      " [  145   838     2 ...     0     0     0]\n",
      " ...\n",
      " [10735     9    68 ...     0     0     0]\n",
      " [ 1541   392  4164 ...     0     0     0]\n",
      " [    1  1647     6 ...     0     0     0]]\n"
     ]
    }
   ],
   "source": [
    "# tokenizing\n",
    "vocab_size = 20000\n",
    "tokenizer = Tokenizer(num_words=vocab_size, oov_token='<oov>')\n",
    "tokenizer.fit_on_texts(sentences)\n",
    "word_index = tokenizer.word_index\n",
    "\n",
    "# padding\n",
    "sequences = tokenizer.texts_to_sequences(sentences)\n",
    "padded_sent = pad_sequences(sequences, padding='post', truncating='post')\n",
    "print(padded_sent)"
   ]
  },
  {
   "cell_type": "markdown",
   "id": "3bb9b683",
   "metadata": {},
   "source": [
    "## model 학습"
   ]
  },
  {
   "cell_type": "code",
   "execution_count": 51,
   "id": "a258285c",
   "metadata": {},
   "outputs": [],
   "source": [
    "from tensorflow.keras.models import Sequential\n",
    "from tensorflow.keras.layers import Dense, Embedding, GlobalAveragePooling1D"
   ]
  },
  {
   "cell_type": "code",
   "execution_count": 57,
   "id": "0d75893c",
   "metadata": {},
   "outputs": [
    {
     "name": "stdout",
     "output_type": "stream",
     "text": [
      "Model: \"sequential_4\"\n",
      "_________________________________________________________________\n",
      "Layer (type)                 Output Shape              Param #   \n",
      "=================================================================\n",
      "embedding_4 (Embedding)      (None, 40, 100)           2000000   \n",
      "_________________________________________________________________\n",
      "global_average_pooling1d_4 ( (None, 100)               0         \n",
      "_________________________________________________________________\n",
      "dense_8 (Dense)              (None, 6)                 606       \n",
      "_________________________________________________________________\n",
      "dense_9 (Dense)              (None, 1)                 7         \n",
      "=================================================================\n",
      "Total params: 2,000,613\n",
      "Trainable params: 2,000,613\n",
      "Non-trainable params: 0\n",
      "_________________________________________________________________\n"
     ]
    }
   ],
   "source": [
    "embedding_dim = 100\n",
    "max_length = 40\n",
    "\n",
    "model = Sequential()\n",
    "# Embedding layer? Input 값이 처음으로 들어오는 layer\n",
    "# vocab_size는 데이터 셋 내의 유니크 단어 수, embedding_dim은 몇 차원으로 줄일 것인지, input_length는 들어오는 문장의 최대 길이\n",
    "model.add(Embedding(vocab_size, embedding_dim, input_length=max_length))\n",
    "model.add(GlobalAveragePooling1D())\n",
    "model.add(Dense(6, activation='relu'))\n",
    "model.add(Dense(1, activation='sigmoid'))\n",
    "\n",
    "model.summary()"
   ]
  },
  {
   "cell_type": "code",
   "execution_count": 58,
   "id": "d39e1f63",
   "metadata": {},
   "outputs": [
    {
     "name": "stdout",
     "output_type": "stream",
     "text": [
      "Epoch 1/20\n",
      "835/835 [==============================] - 10s 12ms/step - loss: 0.5217 - accuracy: 0.7292\n",
      "Epoch 2/20\n",
      "835/835 [==============================] - 10s 12ms/step - loss: 0.2819 - accuracy: 0.8872\n",
      "Epoch 3/20\n",
      "835/835 [==============================] - 10s 12ms/step - loss: 0.2048 - accuracy: 0.9220\n",
      "Epoch 4/20\n",
      "835/835 [==============================] - 10s 12ms/step - loss: 0.1557 - accuracy: 0.9431\n",
      "Epoch 5/20\n",
      "835/835 [==============================] - 10s 12ms/step - loss: 0.1223 - accuracy: 0.9579\n",
      "Epoch 6/20\n",
      "835/835 [==============================] - 10s 12ms/step - loss: 0.0964 - accuracy: 0.9673\n",
      "Epoch 7/20\n",
      "835/835 [==============================] - 10s 12ms/step - loss: 0.0780 - accuracy: 0.9746\n",
      "Epoch 8/20\n",
      "835/835 [==============================] - 10s 12ms/step - loss: 0.0625 - accuracy: 0.9802\n",
      "Epoch 9/20\n",
      "835/835 [==============================] - 10s 12ms/step - loss: 0.0495 - accuracy: 0.9849\n",
      "Epoch 10/20\n",
      "835/835 [==============================] - 10s 12ms/step - loss: 0.0410 - accuracy: 0.9870\n",
      "Epoch 11/20\n",
      "835/835 [==============================] - 10s 12ms/step - loss: 0.0325 - accuracy: 0.9911\n",
      "Epoch 12/20\n",
      "835/835 [==============================] - 10s 12ms/step - loss: 0.0261 - accuracy: 0.9937\n",
      "Epoch 13/20\n",
      "835/835 [==============================] - 10s 12ms/step - loss: 0.0221 - accuracy: 0.9941\n",
      "Epoch 14/20\n",
      "835/835 [==============================] - 10s 12ms/step - loss: 0.0182 - accuracy: 0.9957\n",
      "Epoch 15/20\n",
      "835/835 [==============================] - 10s 12ms/step - loss: 0.0149 - accuracy: 0.9965\n",
      "Epoch 16/20\n",
      "835/835 [==============================] - 10s 12ms/step - loss: 0.0123 - accuracy: 0.9974\n",
      "Epoch 17/20\n",
      "835/835 [==============================] - 10s 12ms/step - loss: 0.0110 - accuracy: 0.9973\n",
      "Epoch 18/20\n",
      "835/835 [==============================] - 10s 12ms/step - loss: 0.0093 - accuracy: 0.9976\n",
      "Epoch 19/20\n",
      "835/835 [==============================] - 10s 12ms/step - loss: 0.0076 - accuracy: 0.9985\n",
      "Epoch 20/20\n",
      "835/835 [==============================] - 10s 12ms/step - loss: 0.0075 - accuracy: 0.9981\n"
     ]
    },
    {
     "data": {
      "text/plain": [
       "<tensorflow.python.keras.callbacks.History at 0x7f9849b82280>"
      ]
     },
     "execution_count": 58,
     "metadata": {},
     "output_type": "execute_result"
    }
   ],
   "source": [
    "model.compile(loss='binary_crossentropy', optimizer='adam', metrics=['accuracy'])\n",
    "model.fit(padded_sent, labels, epochs=20)"
   ]
  },
  {
   "cell_type": "code",
   "execution_count": null,
   "id": "4a587d17",
   "metadata": {},
   "outputs": [],
   "source": []
  }
 ],
 "metadata": {
  "kernelspec": {
   "display_name": "Python 3 (ipykernel)",
   "language": "python",
   "name": "python3"
  },
  "language_info": {
   "codemirror_mode": {
    "name": "ipython",
    "version": 3
   },
   "file_extension": ".py",
   "mimetype": "text/x-python",
   "name": "python",
   "nbconvert_exporter": "python",
   "pygments_lexer": "ipython3",
   "version": "3.8.10"
  }
 },
 "nbformat": 4,
 "nbformat_minor": 5
}
