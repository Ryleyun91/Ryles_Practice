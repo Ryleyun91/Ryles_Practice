{
 "cells": [
  {
   "cell_type": "markdown",
   "id": "04547f62",
   "metadata": {},
   "source": [
    "# 해시"
   ]
  },
  {
   "cell_type": "markdown",
   "id": "25a954dc",
   "metadata": {},
   "source": [
    "## 완주하지 못한 선수"
   ]
  },
  {
   "cell_type": "code",
   "execution_count": null,
   "id": "a6b7478a",
   "metadata": {},
   "outputs": [],
   "source": [
    "from collections import Counter\n",
    "\n",
    "def solution(participant, completion):\n",
    "    answer=list((Counter(participant)-Counter(completion)).keys())[0]\n",
    " \n",
    "    return answer"
   ]
  },
  {
   "cell_type": "markdown",
   "id": "91968bd3",
   "metadata": {},
   "source": [
    "## 전화번호 목록"
   ]
  },
  {
   "cell_type": "code",
   "execution_count": null,
   "id": "5116e09e",
   "metadata": {},
   "outputs": [],
   "source": [
    "def solution(phone_book):\n",
    "    answer = True\n",
    "    phone_book.sort()\n",
    "    for i in range(len(phone_book)-1):\n",
    "        if phone_book[i] == phone_book[i+1][:len(phone_book[i])]:\n",
    "            answer=False\n",
    "            break\n",
    "            \n",
    "    return answer"
   ]
  },
  {
   "cell_type": "markdown",
   "id": "d17178cd",
   "metadata": {},
   "source": [
    "## 위장"
   ]
  },
  {
   "cell_type": "code",
   "execution_count": null,
   "id": "b80d80bc",
   "metadata": {},
   "outputs": [],
   "source": [
    "def solution(clothes):\n",
    "    clothes_type = {}\n",
    "    \n",
    "    for c, t in clothes:\n",
    "        if t not in clothes_type:\n",
    "            clothes_type[t] = 2\n",
    "            \n",
    "        else:\n",
    "            clothes_type[t] += 1\n",
    "            \n",
    "    cnt = 1\n",
    "    \n",
    "    for num in clothes_type.values():\n",
    "        cnt *= num\n",
    "    \n",
    "\n",
    "    return cnt - 1"
   ]
  },
  {
   "cell_type": "markdown",
   "id": "990b139a",
   "metadata": {},
   "source": [
    "## 베스트 앨범"
   ]
  },
  {
   "cell_type": "code",
   "execution_count": null,
   "id": "09b3a9a3",
   "metadata": {},
   "outputs": [],
   "source": [
    "from collections import defaultdict\n",
    "\n",
    "def solution(genres, plays):\n",
    "    answer = []\n",
    "    genres_rank = []\n",
    "    info = defaultdict(list)\n",
    "    d = defaultdict(int)\n",
    "    \n",
    "    for i, j in enumerate(genres):\n",
    "        d[j] += plays[i]\n",
    "        info[j] += [(i, plays[i])]\n",
    "        \n",
    "    for key, value in sorted(d.items(), reverse=True, key=lambda item: item[1]):\n",
    "        genres_rank.append(key)\n",
    "    \n",
    "    for genre in genres_rank:\n",
    "        info[genre].sort(reverse=True, key=lambda x: x[1])\n",
    "    for genre in genres_rank:\n",
    "        for i in range(min(len(info[genre]), 2)):\n",
    "            answer.append(info[genre][i][0])\n",
    "    \n",
    "    \n",
    "    return answer"
   ]
  },
  {
   "cell_type": "code",
   "execution_count": 1,
   "id": "f579049c",
   "metadata": {},
   "outputs": [],
   "source": [
    "import re"
   ]
  },
  {
   "cell_type": "code",
   "execution_count": 19,
   "id": "2c31e080",
   "metadata": {},
   "outputs": [
    {
     "data": {
      "text/plain": [
       "' 12 '"
      ]
     },
     "execution_count": 19,
     "metadata": {},
     "output_type": "execute_result"
    }
   ],
   "source": [
    "s = ' 12 '\n",
    "a = '12'\n",
    "b = '13'\n",
    "re.sub('[^(]\\\\D+12\\\\D+[^)]','13', s)"
   ]
  },
  {
   "cell_type": "code",
   "execution_count": 20,
   "id": "f0fb8a60",
   "metadata": {},
   "outputs": [
    {
     "ename": "KeyboardInterrupt",
     "evalue": "Interrupted by user",
     "output_type": "error",
     "traceback": [
      "\u001b[0;31m---------------------------------------------------------------------------\u001b[0m",
      "\u001b[0;31mKeyboardInterrupt\u001b[0m                         Traceback (most recent call last)",
      "\u001b[0;32m/var/folders/s5/j2ttz_bd7d500bsb_zg9212w0000gn/T/ipykernel_1408/2373960598.py\u001b[0m in \u001b[0;36m<module>\u001b[0;34m\u001b[0m\n\u001b[1;32m      3\u001b[0m \u001b[0;34m\u001b[0m\u001b[0m\n\u001b[1;32m      4\u001b[0m \u001b[0;32mfor\u001b[0m \u001b[0m_\u001b[0m \u001b[0;32min\u001b[0m \u001b[0mrange\u001b[0m\u001b[0;34m(\u001b[0m\u001b[0mn\u001b[0m\u001b[0;34m)\u001b[0m\u001b[0;34m:\u001b[0m\u001b[0;34m\u001b[0m\u001b[0;34m\u001b[0m\u001b[0m\n\u001b[0;32m----> 5\u001b[0;31m     \u001b[0minfo\u001b[0m\u001b[0;34m.\u001b[0m\u001b[0mappend\u001b[0m\u001b[0;34m(\u001b[0m\u001b[0minput\u001b[0m\u001b[0;34m(\u001b[0m\u001b[0;34m)\u001b[0m\u001b[0;34m.\u001b[0m\u001b[0msplit\u001b[0m\u001b[0;34m(\u001b[0m\u001b[0;34m', '\u001b[0m\u001b[0;34m)\u001b[0m\u001b[0;34m)\u001b[0m\u001b[0;34m\u001b[0m\u001b[0;34m\u001b[0m\u001b[0m\n\u001b[0m",
      "\u001b[0;32m~/opt/anaconda3/envs/nlppython/lib/python3.8/site-packages/ipykernel/kernelbase.py\u001b[0m in \u001b[0;36mraw_input\u001b[0;34m(self, prompt)\u001b[0m\n\u001b[1;32m    979\u001b[0m                 \u001b[0;34m\"raw_input was called, but this frontend does not support input requests.\"\u001b[0m\u001b[0;34m\u001b[0m\u001b[0;34m\u001b[0m\u001b[0m\n\u001b[1;32m    980\u001b[0m             )\n\u001b[0;32m--> 981\u001b[0;31m         return self._input_request(\n\u001b[0m\u001b[1;32m    982\u001b[0m             \u001b[0mstr\u001b[0m\u001b[0;34m(\u001b[0m\u001b[0mprompt\u001b[0m\u001b[0;34m)\u001b[0m\u001b[0;34m,\u001b[0m\u001b[0;34m\u001b[0m\u001b[0;34m\u001b[0m\u001b[0m\n\u001b[1;32m    983\u001b[0m             \u001b[0mself\u001b[0m\u001b[0;34m.\u001b[0m\u001b[0m_parent_ident\u001b[0m\u001b[0;34m[\u001b[0m\u001b[0;34m\"shell\"\u001b[0m\u001b[0;34m]\u001b[0m\u001b[0;34m,\u001b[0m\u001b[0;34m\u001b[0m\u001b[0;34m\u001b[0m\u001b[0m\n",
      "\u001b[0;32m~/opt/anaconda3/envs/nlppython/lib/python3.8/site-packages/ipykernel/kernelbase.py\u001b[0m in \u001b[0;36m_input_request\u001b[0;34m(self, prompt, ident, parent, password)\u001b[0m\n\u001b[1;32m   1024\u001b[0m             \u001b[0;32mexcept\u001b[0m \u001b[0mKeyboardInterrupt\u001b[0m\u001b[0;34m:\u001b[0m\u001b[0;34m\u001b[0m\u001b[0;34m\u001b[0m\u001b[0m\n\u001b[1;32m   1025\u001b[0m                 \u001b[0;31m# re-raise KeyboardInterrupt, to truncate traceback\u001b[0m\u001b[0;34m\u001b[0m\u001b[0;34m\u001b[0m\u001b[0;34m\u001b[0m\u001b[0m\n\u001b[0;32m-> 1026\u001b[0;31m                 \u001b[0;32mraise\u001b[0m \u001b[0mKeyboardInterrupt\u001b[0m\u001b[0;34m(\u001b[0m\u001b[0;34m\"Interrupted by user\"\u001b[0m\u001b[0;34m)\u001b[0m \u001b[0;32mfrom\u001b[0m \u001b[0;32mNone\u001b[0m\u001b[0;34m\u001b[0m\u001b[0;34m\u001b[0m\u001b[0m\n\u001b[0m\u001b[1;32m   1027\u001b[0m             \u001b[0;32mexcept\u001b[0m \u001b[0mException\u001b[0m \u001b[0;32mas\u001b[0m \u001b[0me\u001b[0m\u001b[0;34m:\u001b[0m\u001b[0;34m\u001b[0m\u001b[0;34m\u001b[0m\u001b[0m\n\u001b[1;32m   1028\u001b[0m                 \u001b[0mself\u001b[0m\u001b[0;34m.\u001b[0m\u001b[0mlog\u001b[0m\u001b[0;34m.\u001b[0m\u001b[0mwarning\u001b[0m\u001b[0;34m(\u001b[0m\u001b[0;34m\"Invalid Message:\"\u001b[0m\u001b[0;34m,\u001b[0m \u001b[0mexc_info\u001b[0m\u001b[0;34m=\u001b[0m\u001b[0;32mTrue\u001b[0m\u001b[0;34m)\u001b[0m\u001b[0;34m\u001b[0m\u001b[0;34m\u001b[0m\u001b[0m\n",
      "\u001b[0;31mKeyboardInterrupt\u001b[0m: Interrupted by user"
     ]
    }
   ],
   "source": [
    "n = 10\n",
    "info = []\n",
    "\n",
    "for _ in range(n):\n",
    "    info.append(input().split(', '))"
   ]
  },
  {
   "cell_type": "code",
   "execution_count": 22,
   "id": "bd960942",
   "metadata": {},
   "outputs": [],
   "source": [
    "a = [[1,2,3], [4,3,1], [3,5,2]]\n",
    "\n",
    "a.sort(key=lambda x: x[0] )"
   ]
  },
  {
   "cell_type": "code",
   "execution_count": 23,
   "id": "f0414fc1",
   "metadata": {},
   "outputs": [
    {
     "data": {
      "text/plain": [
       "[[1, 2, 3], [3, 5, 2], [4, 3, 1]]"
      ]
     },
     "execution_count": 23,
     "metadata": {},
     "output_type": "execute_result"
    }
   ],
   "source": [
    "a"
   ]
  },
  {
   "cell_type": "code",
   "execution_count": 24,
   "id": "df1428b7",
   "metadata": {},
   "outputs": [],
   "source": [
    "a = [10, 10, 0]\n"
   ]
  },
  {
   "cell_type": "code",
   "execution_count": 25,
   "id": "860856df",
   "metadata": {},
   "outputs": [
    {
     "data": {
      "text/plain": [
       "[10, 0]"
      ]
     },
     "execution_count": 25,
     "metadata": {},
     "output_type": "execute_result"
    }
   ],
   "source": [
    "a"
   ]
  },
  {
   "cell_type": "code",
   "execution_count": 46,
   "id": "cd5f324d",
   "metadata": {},
   "outputs": [
    {
     "data": {
      "text/plain": [
       "[(4, 6, 1), (4, 1, 6), (6, 4, 1), (6, 1, 4), (1, 4, 6), (1, 6, 4)]"
      ]
     },
     "execution_count": 46,
     "metadata": {},
     "output_type": "execute_result"
    }
   ],
   "source": [
    "from itertools import permutations, product\n",
    "\n",
    "a = list(permutations([4,6,1], len(str(461))))\n",
    "a"
   ]
  },
  {
   "cell_type": "code",
   "execution_count": 50,
   "id": "5dc252e5",
   "metadata": {},
   "outputs": [
    {
     "data": {
      "text/plain": [
       "[8, 12, 2]"
      ]
     },
     "execution_count": 50,
     "metadata": {},
     "output_type": "execute_result"
    }
   ],
   "source": [
    "import numpy as np\n",
    "\n",
    "list(np.array(a[0]) + np.array(a[0]))"
   ]
  },
  {
   "cell_type": "code",
   "execution_count": null,
   "id": "86fe96fd",
   "metadata": {},
   "outputs": [],
   "source": [
    "from itertools import permutations\n",
    "import numpy as np\n",
    "\n",
    "answer = 0\n",
    "\n",
    "for i in range(1, 21):\n",
    "    combi = list(permutations([int(x) for x in str(i)], len(str(i))))\n",
    "    \n",
    "    result = []\n",
    "    \n",
    "    for num in range(len(combi)):\n",
    "        result.append(list(np.array(combi[0])+np.array(combi[num])))\n",
    "        \n",
    "    for lis in result:\n",
    "        if set(lis) == [0] or set(lis) == [10] or set(lis)"
   ]
  },
  {
   "cell_type": "code",
   "execution_count": 52,
   "id": "fbf6acff",
   "metadata": {},
   "outputs": [
    {
     "data": {
      "text/plain": [
       "[(1, 4, 6), (1, 4, 6), (1, 6, 4), (4, 1, 6), (4, 6, 1), (6, 1, 4), (6, 4, 1)]"
      ]
     },
     "execution_count": 52,
     "metadata": {},
     "output_type": "execute_result"
    }
   ],
   "source": [
    "a.append((1,4,6))\n",
    "sorted(a)"
   ]
  },
  {
   "cell_type": "code",
   "execution_count": 55,
   "id": "dea92924",
   "metadata": {},
   "outputs": [
    {
     "data": {
      "text/plain": [
       "True"
      ]
     },
     "execution_count": 55,
     "metadata": {},
     "output_type": "execute_result"
    }
   ],
   "source": [
    "[0] == [0]"
   ]
  },
  {
   "cell_type": "code",
   "execution_count": 56,
   "id": "b28d0d42",
   "metadata": {},
   "outputs": [
    {
     "data": {
      "text/plain": [
       "[1, 2]"
      ]
     },
     "execution_count": 56,
     "metadata": {},
     "output_type": "execute_result"
    }
   ],
   "source": [
    "b = [1,2,2]\n",
    "list(set(b))"
   ]
  },
  {
   "cell_type": "code",
   "execution_count": 70,
   "id": "fedc81c1",
   "metadata": {},
   "outputs": [],
   "source": [
    "info = [[1,2468,15], [2,13245,7],[1,2468,15],[2,7615,7],[3,5555,16],[3,5555,30],[6,123,59],[6,5252,44],[6,6532,71],[2,123,4]]"
   ]
  },
  {
   "cell_type": "code",
   "execution_count": 71,
   "id": "8410e208",
   "metadata": {},
   "outputs": [],
   "source": [
    "from collections import defaultdict\n",
    "\n",
    "new_info = defaultdict(list)"
   ]
  },
  {
   "cell_type": "code",
   "execution_count": 72,
   "id": "f4c089d8",
   "metadata": {},
   "outputs": [],
   "source": [
    "for x,y,z in info:\n",
    "    if str(x)+':'+str(y) in new_info:\n",
    "        new_info[str(x)+':'+str(y)] += z\n",
    "        \n",
    "    else:\n",
    "        new_info[str(x)+':'+str(y)] = z"
   ]
  },
  {
   "cell_type": "code",
   "execution_count": 73,
   "id": "1c703e58",
   "metadata": {},
   "outputs": [
    {
     "data": {
      "text/plain": [
       "defaultdict(list,\n",
       "            {'1:2468': 30,\n",
       "             '2:13245': 7,\n",
       "             '2:7615': 7,\n",
       "             '3:5555': 46,\n",
       "             '6:123': 59,\n",
       "             '6:5252': 44,\n",
       "             '6:6532': 71,\n",
       "             '2:123': 4})"
      ]
     },
     "execution_count": 73,
     "metadata": {},
     "output_type": "execute_result"
    }
   ],
   "source": [
    "new_info"
   ]
  },
  {
   "cell_type": "code",
   "execution_count": 65,
   "id": "e33fce88",
   "metadata": {},
   "outputs": [
    {
     "name": "stdout",
     "output_type": "stream",
     "text": [
      "yes\n"
     ]
    }
   ],
   "source": [
    "if '1:2468' in new_info:\n",
    "    print('yes')"
   ]
  },
  {
   "cell_type": "code",
   "execution_count": 68,
   "id": "bca8bc15",
   "metadata": {},
   "outputs": [
    {
     "ename": "AttributeError",
     "evalue": "'collections.defaultdict' object has no attribute 'sort'",
     "output_type": "error",
     "traceback": [
      "\u001b[0;31m---------------------------------------------------------------------------\u001b[0m",
      "\u001b[0;31mAttributeError\u001b[0m                            Traceback (most recent call last)",
      "\u001b[0;32m/var/folders/s5/j2ttz_bd7d500bsb_zg9212w0000gn/T/ipykernel_1408/3177084014.py\u001b[0m in \u001b[0;36m<module>\u001b[0;34m\u001b[0m\n\u001b[0;32m----> 1\u001b[0;31m \u001b[0mnew_info\u001b[0m\u001b[0;34m.\u001b[0m\u001b[0msort\u001b[0m\u001b[0;34m(\u001b[0m\u001b[0mkey\u001b[0m\u001b[0;34m=\u001b[0m\u001b[0;32mlambda\u001b[0m \u001b[0mx\u001b[0m\u001b[0;34m:\u001b[0m \u001b[0;34m(\u001b[0m\u001b[0mx\u001b[0m\u001b[0;34m[\u001b[0m\u001b[0;36m0\u001b[0m\u001b[0;34m]\u001b[0m\u001b[0;34m,\u001b[0m\u001b[0mx\u001b[0m\u001b[0;34m[\u001b[0m\u001b[0;36m1\u001b[0m\u001b[0;34m]\u001b[0m\u001b[0;34m,\u001b[0m\u001b[0mx\u001b[0m\u001b[0;34m[\u001b[0m\u001b[0;36m2\u001b[0m\u001b[0;34m]\u001b[0m\u001b[0;34m)\u001b[0m\u001b[0;34m)\u001b[0m\u001b[0;34m\u001b[0m\u001b[0;34m\u001b[0m\u001b[0m\n\u001b[0m",
      "\u001b[0;31mAttributeError\u001b[0m: 'collections.defaultdict' object has no attribute 'sort'"
     ]
    }
   ],
   "source": [
    "new_info.sort(key=lambda x: (x[0],x[1],x[2]))"
   ]
  },
  {
   "cell_type": "code",
   "execution_count": 74,
   "id": "ff25cf75",
   "metadata": {},
   "outputs": [
    {
     "data": {
      "text/plain": [
       "[[1, 2468, 15],\n",
       " [2, 13245, 7],\n",
       " [1, 2468, 15],\n",
       " [2, 7615, 7],\n",
       " [3, 5555, 16],\n",
       " [3, 5555, 30],\n",
       " [6, 123, 59],\n",
       " [6, 5252, 44],\n",
       " [6, 6532, 71],\n",
       " [2, 123, 4]]"
      ]
     },
     "execution_count": 74,
     "metadata": {},
     "output_type": "execute_result"
    }
   ],
   "source": [
    "info"
   ]
  },
  {
   "cell_type": "code",
   "execution_count": 79,
   "id": "d6cf7747",
   "metadata": {},
   "outputs": [
    {
     "data": {
      "text/plain": [
       "'a'"
      ]
     },
     "execution_count": 79,
     "metadata": {},
     "output_type": "execute_result"
    }
   ],
   "source": [
    "\":\".join([\"a\"])"
   ]
  },
  {
   "cell_type": "code",
   "execution_count": 85,
   "id": "9ada2de2",
   "metadata": {},
   "outputs": [
    {
     "data": {
      "text/plain": [
       "defaultdict(list,\n",
       "            {'1:2468': 30,\n",
       "             '2:13245': 7,\n",
       "             '2:7615': 7,\n",
       "             '3:5555': 46,\n",
       "             '6:123': 59,\n",
       "             '6:5252': 44,\n",
       "             '6:6532': 71,\n",
       "             '2:123': 4})"
      ]
     },
     "execution_count": 85,
     "metadata": {},
     "output_type": "execute_result"
    }
   ],
   "source": [
    "new_info"
   ]
  },
  {
   "cell_type": "code",
   "execution_count": 87,
   "id": "c930c36d",
   "metadata": {},
   "outputs": [],
   "source": [
    "infos = []\n",
    "\n",
    "for x, y in list(new_info.items()):\n",
    "    infos.append((int(x.split(\":\")[0]), int(x.split(\":\")[-1]), int(y)))"
   ]
  },
  {
   "cell_type": "code",
   "execution_count": 103,
   "id": "bcc29322",
   "metadata": {},
   "outputs": [],
   "source": [
    "infos.sort(key=lambda x:(x[0],-x[2],x[1]))"
   ]
  },
  {
   "cell_type": "code",
   "execution_count": 104,
   "id": "604657e1",
   "metadata": {},
   "outputs": [
    {
     "data": {
      "text/plain": [
       "[(1, 2468, 30),\n",
       " (2, 7615, 7),\n",
       " (2, 13245, 7),\n",
       " (2, 123, 4),\n",
       " (3, 5555, 46),\n",
       " (6, 6532, 71),\n",
       " (6, 123, 59),\n",
       " (6, 5252, 44)]"
      ]
     },
     "execution_count": 104,
     "metadata": {},
     "output_type": "execute_result"
    }
   ],
   "source": [
    "infos"
   ]
  },
  {
   "cell_type": "code",
   "execution_count": 91,
   "id": "0b87b14d",
   "metadata": {},
   "outputs": [
    {
     "data": {
      "text/plain": [
       "[(4, 6, 1), (4, 1, 6), (6, 4, 1), (6, 1, 4), (1, 4, 6), (1, 6, 4), (1, 4, 6)]"
      ]
     },
     "execution_count": 91,
     "metadata": {},
     "output_type": "execute_result"
    }
   ],
   "source": [
    "a"
   ]
  },
  {
   "cell_type": "code",
   "execution_count": 93,
   "id": "7d5059f2",
   "metadata": {},
   "outputs": [],
   "source": [
    "b = [1, (1,2,3)]"
   ]
  },
  {
   "cell_type": "code",
   "execution_count": 94,
   "id": "3aa4efa1",
   "metadata": {},
   "outputs": [
    {
     "ename": "AttributeError",
     "evalue": "'int' object has no attribute 'join'",
     "output_type": "error",
     "traceback": [
      "\u001b[0;31m---------------------------------------------------------------------------\u001b[0m",
      "\u001b[0;31mAttributeError\u001b[0m                            Traceback (most recent call last)",
      "\u001b[0;32m/var/folders/s5/j2ttz_bd7d500bsb_zg9212w0000gn/T/ipykernel_1408/781029209.py\u001b[0m in \u001b[0;36m<module>\u001b[0;34m\u001b[0m\n\u001b[1;32m      1\u001b[0m \u001b[0;32mfor\u001b[0m \u001b[0mi\u001b[0m \u001b[0;32min\u001b[0m \u001b[0mb\u001b[0m\u001b[0;34m:\u001b[0m\u001b[0;34m\u001b[0m\u001b[0;34m\u001b[0m\u001b[0m\n\u001b[0;32m----> 2\u001b[0;31m     \u001b[0mi\u001b[0m\u001b[0;34m.\u001b[0m\u001b[0mjoin\u001b[0m\u001b[0;34m(\u001b[0m\u001b[0;34m\":\"\u001b[0m\u001b[0;34m)\u001b[0m\u001b[0;34m\u001b[0m\u001b[0;34m\u001b[0m\u001b[0m\n\u001b[0m",
      "\u001b[0;31mAttributeError\u001b[0m: 'int' object has no attribute 'join'"
     ]
    }
   ],
   "source": [
    "for i in b:\n",
    "    i.join(\":\")"
   ]
  },
  {
   "cell_type": "code",
   "execution_count": 117,
   "id": "ced1cf6b",
   "metadata": {},
   "outputs": [],
   "source": [
    "a = 'a12b 123'\n",
    "b = 13\n",
    "c = 12\n",
    "\n",
    "d= re.sub(f'{c}', f\"{b}\", a)"
   ]
  },
  {
   "cell_type": "code",
   "execution_count": 118,
   "id": "88db0fcf",
   "metadata": {},
   "outputs": [
    {
     "data": {
      "text/plain": [
       "'a13b 133'"
      ]
     },
     "execution_count": 118,
     "metadata": {},
     "output_type": "execute_result"
    }
   ],
   "source": [
    "d"
   ]
  },
  {
   "cell_type": "code",
   "execution_count": 108,
   "id": "66e5af79",
   "metadata": {},
   "outputs": [
    {
     "data": {
      "text/plain": [
       "'a12b'"
      ]
     },
     "execution_count": 108,
     "metadata": {},
     "output_type": "execute_result"
    }
   ],
   "source": [
    "a.replace(f'\\\\D{c}\\\\D', f\"{b}\")"
   ]
  },
  {
   "cell_type": "code",
   "execution_count": null,
   "id": "82dd32fc",
   "metadata": {},
   "outputs": [],
   "source": []
  }
 ],
 "metadata": {
  "kernelspec": {
   "display_name": "Python 3 (ipykernel)",
   "language": "python",
   "name": "python3"
  },
  "language_info": {
   "codemirror_mode": {
    "name": "ipython",
    "version": 3
   },
   "file_extension": ".py",
   "mimetype": "text/x-python",
   "name": "python",
   "nbconvert_exporter": "python",
   "pygments_lexer": "ipython3",
   "version": "3.8.10"
  }
 },
 "nbformat": 4,
 "nbformat_minor": 5
}
