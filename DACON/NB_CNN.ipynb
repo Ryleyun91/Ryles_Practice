{
 "cells": [
  {
   "cell_type": "code",
   "execution_count": 1,
   "id": "eo0aZ_iOFyJ5",
   "metadata": {
    "colab": {
     "base_uri": "https://localhost:8080/"
    },
    "executionInfo": {
     "elapsed": 21291,
     "status": "ok",
     "timestamp": 1628515568392,
     "user": {
      "displayName": "Ryle Yun",
      "photoUrl": "",
      "userId": "02421452761416637401"
     },
     "user_tz": -540
    },
    "id": "eo0aZ_iOFyJ5",
    "outputId": "22b90978-9cd5-4e2b-95f8-015df3c142f1"
   },
   "outputs": [
    {
     "name": "stdout",
     "output_type": "stream",
     "text": [
      "Mounted at /content/drive\n"
     ]
    }
   ],
   "source": [
    "from google.colab import drive\n",
    "drive.mount('/content/drive')"
   ]
  },
  {
   "cell_type": "code",
   "execution_count": 1,
   "id": "bf626dd0",
   "metadata": {
    "colab": {
     "base_uri": "https://localhost:8080/",
     "height": 58
    },
    "executionInfo": {
     "elapsed": 372,
     "status": "ok",
     "timestamp": 1628515592248,
     "user": {
      "displayName": "Ryle Yun",
      "photoUrl": "",
      "userId": "02421452761416637401"
     },
     "user_tz": -540
    },
    "id": "bf626dd0",
    "outputId": "f562c859-acf1-44e6-fd0c-7c78e71a1bc5"
   },
   "outputs": [
    {
     "data": {
      "text/plain": [
       "'/Users/ryleyun/Desktop/Github/Ryles_Practice/DACON'"
      ]
     },
     "execution_count": 1,
     "metadata": {},
     "output_type": "execute_result"
    }
   ],
   "source": [
    "import os\n",
    "os.getcwd()"
   ]
  },
  {
   "cell_type": "markdown",
   "id": "77btze4lFw9N",
   "metadata": {
    "id": "77btze4lFw9N"
   },
   "source": []
  },
  {
   "cell_type": "code",
   "execution_count": 4,
   "id": "045264ca",
   "metadata": {
    "id": "045264ca"
   },
   "outputs": [],
   "source": [
    "import pandas as pd\n",
    "Naive=pd.read_csv('../DATA/Result/Naive_Bayes.csv')\n",
    "Ber=pd.read_csv('../DATA/Result/BN.csv')\n",
    "LGB = pd.read_csv('../DATA/Result/lgb.csv')\n",
    "XGB = pd.read_csv('../DATA/Result/xgb.csv')"
   ]
  },
  {
   "cell_type": "code",
   "execution_count": 20,
   "id": "142bd7fd",
   "metadata": {
    "id": "142bd7fd"
   },
   "outputs": [],
   "source": [
    "answer = []\n",
    "from collections import Counter\n",
    "\n",
    "for lgb, nb, bn, xgb in zip(LGB['label'], Naive['label'], Ber['label'], XGB['label']):\n",
    "    if len(set([lgb,nb,bn,xgb]))<=3:\n",
    "        temp = list(Counter([lgb,nb,bn,xgb]))\n",
    "        temp.sort(reverse=True)\n",
    "        temp[0]\n",
    "    if [lgb, nb, bn, xgb].count(0) == 4:\n",
    "        answer.append(max(lgb, nb, bn, xgb))\n",
    "    elif [lgb, nb, bn, xgb].count(0) == 3 and xgb!=0:\n",
    "        answer.append(xgb)\n",
    "    else:\n",
    "        answer.append(xgb)"
   ]
  },
  {
   "cell_type": "code",
   "execution_count": 24,
   "id": "bf0f46bd",
   "metadata": {
    "id": "bf0f46bd",
    "outputId": "4671b405-f739-402c-e178-9864d961aae1"
   },
   "outputs": [
    {
     "data": {
      "text/plain": [
       "6825"
      ]
     },
     "execution_count": 24,
     "metadata": {},
     "output_type": "execute_result"
    }
   ],
   "source": [
    "import numpy as np\n",
    "answer = np.array(answer)\n",
    "sum(answer!=0)"
   ]
  },
  {
   "cell_type": "code",
   "execution_count": 23,
   "id": "5cc1756c",
   "metadata": {
    "id": "5cc1756c"
   },
   "outputs": [],
   "source": [
    "sample_submission=pd.read_csv('../DATA/open/sample_submission.csv')\n",
    "sample_submission['label']=answer\n",
    "sample_submission.to_csv('../DATA/Result/4model_cocnat_new.csv', index=False)"
   ]
  }
 ],
 "metadata": {
  "colab": {
   "name": "NB_CNN.ipynb",
   "provenance": []
  },
  "kernelspec": {
   "display_name": "Python 3 (ipykernel)",
   "language": "python",
   "name": "python3"
  },
  "language_info": {
   "codemirror_mode": {
    "name": "ipython",
    "version": 3
   },
   "file_extension": ".py",
   "mimetype": "text/x-python",
   "name": "python",
   "nbconvert_exporter": "python",
   "pygments_lexer": "ipython3",
   "version": "3.8.10"
  }
 },
 "nbformat": 4,
 "nbformat_minor": 5
}
