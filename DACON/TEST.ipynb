{
 "cells": [
  {
   "cell_type": "code",
   "execution_count": 30,
   "id": "045264ca",
   "metadata": {
    "id": "045264ca"
   },
   "outputs": [],
   "source": [
    "import pandas as pd\n",
    "Naive=pd.read_csv('../DATA/Result/Naive_Bayes.csv')\n",
    "Ber=pd.read_csv('../DATA/Result/BN.csv')\n",
    "LGB = pd.read_csv('../DATA/Result/lgb.csv')\n",
    "XGB = pd.read_csv('../DATA/Result/xgb.csv')"
   ]
  },
  {
   "cell_type": "code",
   "execution_count": 31,
   "id": "8f5b491c",
   "metadata": {},
   "outputs": [],
   "source": [
    "nb_answer = []\n",
    "for nb, ber in zip(Naive['label'], Ber['label']):\n",
    "    if [nb, ber].count(0) == 0:\n",
    "        nb_answer.append(nb)\n",
    "    else:\n",
    "        nb_answer.append(max(nb, ber))"
   ]
  },
  {
   "cell_type": "code",
   "execution_count": 32,
   "id": "4bce9991",
   "metadata": {},
   "outputs": [],
   "source": [
    "gb_answer = []\n",
    "for lgb, xgb in zip(LGB['label'], XGB['label']):\n",
    "    if [lgb, xgb].count(0) == 0:\n",
    "        gb_answer.append(lgb)\n",
    "    else:\n",
    "        gb_answer.append(max(lgb, xgb))"
   ]
  },
  {
   "cell_type": "code",
   "execution_count": 33,
   "id": "0a2196fa",
   "metadata": {},
   "outputs": [
    {
     "data": {
      "text/plain": [
       "True"
      ]
     },
     "execution_count": 33,
     "metadata": {},
     "output_type": "execute_result"
    }
   ],
   "source": [
    "len(gb_answer)==len(nb_answer)"
   ]
  },
  {
   "cell_type": "code",
   "execution_count": 34,
   "id": "bf0f46bd",
   "metadata": {
    "id": "bf0f46bd",
    "outputId": "4671b405-f739-402c-e178-9864d961aae1"
   },
   "outputs": [
    {
     "data": {
      "text/plain": [
       "35263"
      ]
     },
     "execution_count": 34,
     "metadata": {},
     "output_type": "execute_result"
    }
   ],
   "source": [
    "nb_answer.count(0)"
   ]
  },
  {
   "cell_type": "code",
   "execution_count": 35,
   "id": "59211638",
   "metadata": {},
   "outputs": [
    {
     "data": {
      "text/plain": [
       "36136"
      ]
     },
     "execution_count": 35,
     "metadata": {},
     "output_type": "execute_result"
    }
   ],
   "source": [
    "gb_answer.count(0)"
   ]
  },
  {
   "cell_type": "code",
   "execution_count": 36,
   "id": "8b409f70",
   "metadata": {},
   "outputs": [],
   "source": [
    "answer = []\n",
    "for nb, gb in zip(nb_answer, gb_answer):\n",
    "    if [nb, gb].count(0) == 0:\n",
    "        answer.append(gb)\n",
    "    else:\n",
    "        answer.append(max(nb, gb))"
   ]
  },
  {
   "cell_type": "code",
   "execution_count": 37,
   "id": "0e67a76c",
   "metadata": {},
   "outputs": [
    {
     "data": {
      "text/plain": [
       "34174"
      ]
     },
     "execution_count": 37,
     "metadata": {},
     "output_type": "execute_result"
    }
   ],
   "source": [
    "answer.count(0)"
   ]
  },
  {
   "cell_type": "code",
   "execution_count": 38,
   "id": "5cc1756c",
   "metadata": {
    "id": "5cc1756c"
   },
   "outputs": [],
   "source": [
    "sample_submission=pd.read_csv('../DATA/open/sample_submission.csv')\n",
    "sample_submission['label']=answer\n",
    "sample_submission.to_csv('../DATA/Result/nbs_gbs.csv', index=False)"
   ]
  },
  {
   "cell_type": "code",
   "execution_count": null,
   "id": "9db4e308",
   "metadata": {},
   "outputs": [],
   "source": []
  }
 ],
 "metadata": {
  "colab": {
   "name": "NB_CNN.ipynb",
   "provenance": []
  },
  "kernelspec": {
   "display_name": "Python 3 (ipykernel)",
   "language": "python",
   "name": "python3"
  },
  "language_info": {
   "codemirror_mode": {
    "name": "ipython",
    "version": 3
   },
   "file_extension": ".py",
   "mimetype": "text/x-python",
   "name": "python",
   "nbconvert_exporter": "python",
   "pygments_lexer": "ipython3",
   "version": "3.8.10"
  }
 },
 "nbformat": 4,
 "nbformat_minor": 5
}
