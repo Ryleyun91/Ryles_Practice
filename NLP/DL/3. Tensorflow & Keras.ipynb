{
 "cells": [
  {
   "cell_type": "code",
   "execution_count": 1,
   "metadata": {
    "id": "i1gz__wUUVY3"
   },
   "outputs": [],
   "source": [
    "import tensorflow as tf\n",
    "import numpy as np\n",
    "import matplotlib.pyplot as plt"
   ]
  },
  {
   "cell_type": "code",
   "execution_count": 10,
   "metadata": {
    "colab": {
     "base_uri": "https://localhost:8080/"
    },
    "executionInfo": {
     "elapsed": 275,
     "status": "ok",
     "timestamp": 1626403717122,
     "user": {
      "displayName": "홍경수",
      "photoUrl": "",
      "userId": "10514684854108920109"
     },
     "user_tz": -540
    },
    "id": "0zf2dr4GNdN0",
    "outputId": "61419bfc-3c64-4e03-84d6-c6c9046445dc"
   },
   "outputs": [
    {
     "data": {
      "text/plain": [
       "12.0"
      ]
     },
     "execution_count": 10,
     "metadata": {},
     "output_type": "execute_result"
    }
   ],
   "source": [
    "# 상수 tensor 만들기\n",
    "a = tf.constant(2.0)\n",
    "y = tf.constant(8.0)\n",
    "# 변수 tensor 만들기\n",
    "x = tf.Variable(10.0)\n",
    "\n",
    "# 계산하기\n",
    "loss  = tf.math.abs(a*x-y)\n",
    "\n",
    "# 값만 가져오기\n",
    "loss.numpy()"
   ]
  },
  {
   "cell_type": "code",
   "execution_count": 14,
   "metadata": {
    "colab": {
     "base_uri": "https://localhost:8080/"
    },
    "executionInfo": {
     "elapsed": 272,
     "status": "ok",
     "timestamp": 1626404062261,
     "user": {
      "displayName": "홍경수",
      "photoUrl": "",
      "userId": "10514684854108920109"
     },
     "user_tz": -540
    },
    "id": "dbb03OrpO8gB",
    "outputId": "be1a125e-70fe-4d90-a397-17252f9a5e1a"
   },
   "outputs": [
    {
     "name": "stdout",
     "output_type": "stream",
     "text": [
      "x = 4.0, dx = 0.0\n",
      "x = 4.0, dx = 0.0\n",
      "x = 4.0, dx = 0.0\n",
      "x = 4.0, dx = 0.0\n"
     ]
    }
   ],
   "source": [
    "def train_func():\n",
    "    with tf.GradientTape() as tape:\n",
    "        loss = tf.math.abs(a*x - y)\n",
    "\n",
    "    dx = tape.gradient(loss, x)\n",
    "    print('x = {}, dx = {}'.format(x.numpy(), dx))\n",
    "\n",
    "    x.assign(x - dx) # x = x - dx\n",
    "# Run train_func() UDF repeately\n",
    "for i in range(4):\n",
    "    train_func()"
   ]
  },
  {
   "cell_type": "markdown",
   "metadata": {
    "id": "u8TvQSQhUVY5"
   },
   "source": [
    "GradientTape : https://www.tensorflow.org/guide/autodiff?hl=ko\n",
    "##### - 역전파를 사용해서 테이프에 기록된 연산의 그래디언트를 자동으로 계산하는 것"
   ]
  },
  {
   "cell_type": "code",
   "execution_count": 32,
   "metadata": {
    "colab": {
     "base_uri": "https://localhost:8080/"
    },
    "executionInfo": {
     "elapsed": 18721,
     "status": "ok",
     "timestamp": 1626402102320,
     "user": {
      "displayName": "홍경수",
      "photoUrl": "",
      "userId": "10514684854108920109"
     },
     "user_tz": -540
    },
    "id": "mB1gvjfwUVY6",
    "outputId": "3809a280-1d43-4242-d81f-a0567b8ae30b"
   },
   "outputs": [
    {
     "name": "stdout",
     "output_type": "stream",
     "text": [
      "epoch = 1000, loss = 2.3891165256500244\n",
      "epoch = 2000, loss = 1.8696733713150024\n",
      "epoch = 3000, loss = 1.427135944366455\n",
      "epoch = 4000, loss = 0.9846198558807373\n",
      "epoch = 5000, loss = 0.5421039462089539\n",
      "epoch = 6000, loss = 0.09958796203136444\n",
      "epoch = 7000, loss = 0.06281432509422302\n",
      "epoch = 8000, loss = 0.06271672248840332\n",
      "epoch = 9000, loss = 0.06271672248840332\n",
      "epoch = 10000, loss = 0.06271672248840332\n",
      "CPU times: user 12.3 s, sys: 67.3 ms, total: 12.4 s\n",
      "Wall time: 12.5 s\n"
     ]
    }
   ],
   "source": [
    "%%time\n",
    "\n",
    "# 데이터 집합 생성\n",
    "x = np.array(np.arange(-5, 5, 0.1))\n",
    "y = 2*x*x + 3*x + 5\n",
    "\n",
    "# 계수 설정 : 초기값\n",
    "lr = 0.001\n",
    "\n",
    "w1 = tf.Variable(1.0)\n",
    "w2 = tf.Variable(1.0)\n",
    "b = tf.Variable(1.0)\n",
    "\n",
    "# 학습\n",
    "histLoss = []\n",
    "for epoch in range(1, 10001):\n",
    "    with tf.GradientTape() as tape:\n",
    "        # 예측값 - 실제값의 제곱의 평균에 루트 (RMSE)\n",
    "        loss = tf.sqrt(tf.reduce_mean(tf.square(w1*x*x + w2*x + b - y)))\n",
    "    \n",
    "        dw1, dw2, db = tape.gradient(loss, [w1, w2, b])\n",
    "        \n",
    "        # assign은 괄호 내의 값을 할당하는 것이고 assign_sub(substitute)는 괄호 내의 값을 변수에서 빼서 할당하는 것\n",
    "        # 더할려면 assign_add\n",
    "        w1.assign_sub(lr*dw1) # w1 = w1-lr*dw1\n",
    "        w2.assign_sub(lr*dw2) # w2 = w2-lr*dw2\n",
    "        b.assign_sub(lr*db)\n",
    "        \n",
    "        histLoss.append(loss)\n",
    "        if epoch%1000 == 0:\n",
    "            print(\"epoch = {}, loss = {}\".format(epoch, loss))"
   ]
  },
  {
   "cell_type": "code",
   "execution_count": 33,
   "metadata": {
    "colab": {
     "base_uri": "https://localhost:8080/",
     "height": 403
    },
    "executionInfo": {
     "elapsed": 597,
     "status": "ok",
     "timestamp": 1626304817279,
     "user": {
      "displayName": "홍경수",
      "photoUrl": "",
      "userId": "10514684854108920109"
     },
     "user_tz": -540
    },
    "id": "rjc5HyG8UVY7",
    "outputId": "1fe56299-0640-493a-88d1-8e21141e98a6"
   },
   "outputs": [
    {
     "name": "stdout",
     "output_type": "stream",
     "text": [
      "\n",
      "추정 결과 :\n",
      "w1 = 2.01\n",
      "w2 = 3.00\n",
      "b = 5.00\n",
      "final loss = 0.0627\n"
     ]
    },
    {
     "data": {
      "image/png": "[encoded data removed]",
      "text/plain": [
       "<Figure size 432x288 with 1 Axes>"
      ]
     },
     "metadata": {
      "needs_background": "light"
     },
     "output_type": "display_data"
    }
   ],
   "source": [
    "print(\"\\n추정 결과 :\")\n",
    "print(\"w1 = %.2f\" % w1.numpy())\n",
    "print(\"w2 = %.2f\" % w2.numpy())\n",
    "print(\"b = %.2f\" % b.numpy())\n",
    "print(\"final loss = %.4f\" % loss.numpy())\n",
    "\n",
    "plt.plot(histLoss, color='red', linewidth=1)\n",
    "plt.title(\"Loss function\")\n",
    "plt.xlabel(\"epoch\")\n",
    "plt.ylabel(\"loss\")\n",
    "plt.show()"
   ]
  },
  {
   "cell_type": "markdown",
   "metadata": {
    "id": "asYJwpHIUVY8"
   },
   "source": [
    "# SGD + Momentum"
   ]
  },
  {
   "cell_type": "markdown",
   "metadata": {},
   "source": [
    "##### 방향을 조절해 보자!"
   ]
  },
  {
   "cell_type": "code",
   "execution_count": 35,
   "metadata": {
    "id": "rjLVq8fRUVY8"
   },
   "outputs": [],
   "source": [
    "import tensorflow as tf\n",
    "from tensorflow.keras import optimizers\n",
    "import numpy as np\n",
    "import matplotlib.pyplot as plt"
   ]
  },
  {
   "cell_type": "code",
   "execution_count": 37,
   "metadata": {
    "colab": {
     "base_uri": "https://localhost:8080/"
    },
    "executionInfo": {
     "elapsed": 25291,
     "status": "ok",
     "timestamp": 1626304842565,
     "user": {
      "displayName": "홍경수",
      "photoUrl": "",
      "userId": "10514684854108920109"
     },
     "user_tz": -540
    },
    "id": "OBGgt37YUVY9",
    "outputId": "4773a504-94de-4965-8f1c-05f0f4fddc02"
   },
   "outputs": [
    {
     "name": "stdout",
     "output_type": "stream",
     "text": [
      "epoch = 1000, loss =1.2869\n",
      "epoch = 2000, loss =0.0363\n",
      "epoch = 3000, loss =0.0363\n",
      "epoch = 4000, loss =0.0363\n",
      "epoch = 5000, loss =0.0363\n",
      "epoch = 6000, loss =0.0363\n",
      "epoch = 7000, loss =0.0363\n",
      "epoch = 8000, loss =0.0363\n",
      "epoch = 9000, loss =0.0363\n",
      "epoch = 10000, loss =0.0363\n",
      "CPU times: user 18 s, sys: 86.5 ms, total: 18.1 s\n",
      "Wall time: 18.3 s\n"
     ]
    }
   ],
   "source": [
    "%%time\n",
    "# y = 2x^2 + 3x + 5 일 때 x, y 집합을 생성한다\n",
    "x = np.array(np.arange(-5, 5, 0.1))\n",
    "y = 2 * x * x + 3 * x + 5\n",
    "\n",
    "# 그래프를 생성한다.   \n",
    "w1 = tf.Variable(1.0)\n",
    "w2 = tf.Variable(1.0)\n",
    "b = tf.Variable(1.0)\n",
    "var_list = [w1, w2, b]  # variable list\n",
    "\n",
    "# SGD optimizers 기능을 사용하고, Momentum 방법을 사용한다. (momentum 0으로 주면 그냥 SGD)\n",
    "# Nesterov momentum 할지 말지 결정\n",
    "opt = optimizers.SGD(learning_rate=0.001, momentum=0.7, decay=0, nesterov=False)\n",
    "\n",
    "histLoss = []\n",
    "for epoch in range(1,10001):\n",
    "    with tf.GradientTape() as tape:\n",
    "        loss = tf.sqrt(tf.reduce_mean(tf.square(w1*x*x + w2*x + b - y)))\n",
    "        \n",
    "    grads = tape.gradient(loss, var_list)\n",
    "    \n",
    "    # optimizer를 사용하여 업데이트 해보자!\n",
    "    # 직접 assign하지 않고 opt에게 업데이트 역할을 맡기는 것.\n",
    "    opt.apply_gradients(zip(grads, var_list))\n",
    "    \n",
    "    if epoch % 1000 == 0:\n",
    "        histLoss.append(loss.numpy())\n",
    "        print(\"epoch = {}, loss ={:.4f}\".format(epoch, loss))"
   ]
  },
  {
   "cell_type": "markdown",
   "metadata": {
    "id": "csP6kl58UVY-"
   },
   "source": [
    "## ↳ 전체 걸리는 시간이 더 걸리더라도 수렴하는 속도가 빠르다"
   ]
  },
  {
   "cell_type": "code",
   "execution_count": 38,
   "metadata": {
    "colab": {
     "base_uri": "https://localhost:8080/",
     "height": 403
    },
    "executionInfo": {
     "elapsed": 13,
     "status": "ok",
     "timestamp": 1626304842565,
     "user": {
      "displayName": "홍경수",
      "photoUrl": "",
      "userId": "10514684854108920109"
     },
     "user_tz": -540
    },
    "id": "i4Mjp_p-UVY-",
    "outputId": "8f611991-209d-4898-f88c-269f0c0aa3f4"
   },
   "outputs": [
    {
     "name": "stdout",
     "output_type": "stream",
     "text": [
      "\n",
      "추정 결과 :\n",
      "w1 = 2.00\n",
      "w2 = 3.00\n",
      "b = 5.00\n",
      "final loss = 0.0363\n"
     ]
    },
    {
     "data": {
      "image/png": "[encoded data removed]",
      "text/plain": [
       "<Figure size 432x288 with 1 Axes>"
      ]
     },
     "metadata": {
      "needs_background": "light"
     },
     "output_type": "display_data"
    }
   ],
   "source": [
    "print(\"\\n추정 결과 :\")\n",
    "print(\"w1 = %.2f\" % w1.numpy())\n",
    "print(\"w2 = %.2f\" % w2.numpy())\n",
    "print(\"b = %.2f\" % b.numpy())\n",
    "print(\"final loss = %.4f\" % loss.numpy())\n",
    "\n",
    "plt.plot(histLoss, color='red', linewidth=1)\n",
    "plt.title(\"Loss function\")\n",
    "plt.xlabel(\"epoch\")\n",
    "plt.ylabel(\"loss\")\n",
    "plt.show()"
   ]
  },
  {
   "cell_type": "markdown",
   "metadata": {
    "id": "-x_PdAzRUVY_"
   },
   "source": [
    "# Adam + minimize()"
   ]
  },
  {
   "cell_type": "code",
   "execution_count": null,
   "metadata": {
    "id": "4oTrs_shUVY_"
   },
   "outputs": [],
   "source": [
    "import tensorflow as tf\n",
    "from tensorflow.keras import optimizers\n",
    "import numpy as np\n",
    "import matplotlib.pyplot as plt\n",
    "\n",
    "# y = 2x^2 + 3x + 5 일 때 x, y 집합을 생성한다\n",
    "x = np.array(np.arange(-5, 5, 0.1))\n",
    "y = 2 * x * x + 3 * x + 5\n",
    "\n",
    "# 그래프를 생성한다.   \n",
    "w1 = tf.Variable(1.0)\n",
    "w2 = tf.Variable(1.0)\n",
    "b = tf.Variable(1.0)"
   ]
  },
  {
   "cell_type": "code",
   "execution_count": 41,
   "metadata": {
    "colab": {
     "base_uri": "https://localhost:8080/"
    },
    "executionInfo": {
     "elapsed": 35116,
     "status": "ok",
     "timestamp": 1626304877674,
     "user": {
      "displayName": "홍경수",
      "photoUrl": "",
      "userId": "10514684854108920109"
     },
     "user_tz": -540
    },
    "id": "U2LhwOCwUVY_",
    "outputId": "0be1233a-57ac-4ff4-9a9d-b4c11ce6f763"
   },
   "outputs": [
    {
     "name": "stdout",
     "output_type": "stream",
     "text": [
      "epoch = 1000, loss =0.0062\n",
      "epoch = 2000, loss =0.0062\n",
      "epoch = 3000, loss =0.0062\n",
      "epoch = 4000, loss =0.0062\n",
      "epoch = 5000, loss =0.0062\n",
      "epoch = 6000, loss =0.0062\n",
      "epoch = 7000, loss =0.0062\n",
      "epoch = 8000, loss =0.0062\n",
      "epoch = 9000, loss =0.0062\n",
      "epoch = 10000, loss =0.0062\n"
     ]
    }
   ],
   "source": [
    "def loss():\n",
    "    return tf.sqrt(tf.reduce_mean(tf.square(w1*x*x + w2*x + b -y)))\n",
    "\n",
    "# epsilon도 넣을 수 있음. default는 1e-7 (안정적인 계산을 위해 작은 상수값 더해주는 것)\n",
    "opt = optimizers.Adam(learning_rate=0.01)\n",
    "\n",
    "histLoss = []\n",
    "\n",
    "for epoch in range(1, 10001):\n",
    "    # 원래는 GradientTape() -> tape.gradient() -> opt.apply_graients 해야하는데 이걸 minimize로 묶을 수 있음.\n",
    "    # minimize 내에서 함수에 대한 정의와 파라미터들을 받아서 자동으로 함수에 적용함.\n",
    "    opt.minimize(loss, var_list=[w1, w2, b])\n",
    "    \n",
    "    histLoss.append(loss())\n",
    "    if epoch % 1000 == 0:\n",
    "        print(\"epoch = {}, loss ={:.4f}\".format(epoch, histLoss[-1]))"
   ]
  },
  {
   "cell_type": "code",
   "execution_count": 42,
   "metadata": {
    "colab": {
     "base_uri": "https://localhost:8080/",
     "height": 385
    },
    "executionInfo": {
     "elapsed": 6,
     "status": "ok",
     "timestamp": 1626304877677,
     "user": {
      "displayName": "홍경수",
      "photoUrl": "",
      "userId": "10514684854108920109"
     },
     "user_tz": -540
    },
    "id": "34H6xeEYUVY_",
    "outputId": "95421470-d165-4dfb-da5c-8f352fb8fe12"
   },
   "outputs": [
    {
     "name": "stdout",
     "output_type": "stream",
     "text": [
      "\n",
      "추정 결과 :\n",
      "w1 = 2.00\n",
      "w2 = 3.00\n",
      "b = 5.00\n"
     ]
    },
    {
     "data": {
      "image/png": "[encoded data removed]",
      "text/plain": [
       "<Figure size 432x288 with 1 Axes>"
      ]
     },
     "metadata": {
      "needs_background": "light"
     },
     "output_type": "display_data"
    }
   ],
   "source": [
    "print(\"\\n추정 결과 :\")\n",
    "print(\"w1 = %.2f\" % w1.numpy())\n",
    "print(\"w2 = %.2f\" % w2.numpy())\n",
    "print(\"b = %.2f\" % b.numpy())\n",
    "\n",
    "plt.plot(histLoss, color='red', linewidth=1)\n",
    "plt.title(\"Loss function\")\n",
    "plt.xlabel(\"epoch\")\n",
    "plt.ylabel(\"loss\")\n",
    "plt.show()"
   ]
  },
  {
   "cell_type": "markdown",
   "metadata": {
    "id": "7u9hJ8NVUVZA"
   },
   "source": [
    "# Keras \n",
    "##### Sequential과 API는 모델의 복잡도에 따라 사용할 때 편의성이 달라질 수 있다. 자세한 내용은 아래의 링크 참고하기\n",
    "##### https://theonly1.tistory.com/2712"
   ]
  },
  {
   "cell_type": "markdown",
   "metadata": {},
   "source": [
    "## Sequential model"
   ]
  },
  {
   "cell_type": "code",
   "execution_count": 69,
   "metadata": {
    "colab": {
     "base_uri": "https://localhost:8080/",
     "height": 1000
    },
    "executionInfo": {
     "elapsed": 11409,
     "status": "ok",
     "timestamp": 1626304889082,
     "user": {
      "displayName": "홍경수",
      "photoUrl": "",
      "userId": "10514684854108920109"
     },
     "user_tz": -540
    },
    "id": "HuujzaL6UVZA",
    "outputId": "2ccde560-25ad-4421-d925-989861000195"
   },
   "outputs": [
    {
     "name": "stdout",
     "output_type": "stream",
     "text": [
      "Epoch 1/300\n",
      "10/10 [==============================] - 0s 1ms/step - loss: 470.7134\n",
      "Epoch 2/300\n",
      "10/10 [==============================] - 0s 2ms/step - loss: 280.5119\n",
      "Epoch 3/300\n",
      "10/10 [==============================] - 0s 2ms/step - loss: 155.3335\n",
      "Epoch 4/300\n",
      "10/10 [==============================] - 0s 1ms/step - loss: 99.4750\n",
      "Epoch 5/300\n",
      "10/10 [==============================] - 0s 2ms/step - loss: 61.6915\n",
      "Epoch 6/300\n",
      "10/10 [==============================] - 0s 1ms/step - loss: 46.9676\n",
      "Epoch 7/300\n",
      "10/10 [==============================] - 0s 2ms/step - loss: 34.7184\n",
      "Epoch 8/300\n",
      "10/10 [==============================] - 0s 1ms/step - loss: 25.5318\n",
      "Epoch 9/300\n",
      "10/10 [==============================] - 0s 2ms/step - loss: 18.4151\n",
      "Epoch 10/300\n",
      "10/10 [==============================] - 0s 2ms/step - loss: 13.2541\n",
      "Epoch 11/300\n",
      "10/10 [==============================] - 0s 1ms/step - loss: 9.8365\n",
      "Epoch 12/300\n",
      "10/10 [==============================] - 0s 2ms/step - loss: 7.2021\n",
      "Epoch 13/300\n",
      "10/10 [==============================] - 0s 2ms/step - loss: 5.4514\n",
      "Epoch 14/300\n",
      "10/10 [==============================] - 0s 1ms/step - loss: 4.2120\n",
      "Epoch 15/300\n",
      "10/10 [==============================] - 0s 1ms/step - loss: 3.3640\n",
      "Epoch 16/300\n",
      "10/10 [==============================] - 0s 2ms/step - loss: 2.7836\n",
      "Epoch 17/300\n",
      "10/10 [==============================] - 0s 2ms/step - loss: 2.3989\n",
      "Epoch 18/300\n",
      "10/10 [==============================] - 0s 2ms/step - loss: 2.0969\n",
      "Epoch 19/300\n",
      "10/10 [==============================] - 0s 2ms/step - loss: 1.8746\n",
      "Epoch 20/300\n",
      "10/10 [==============================] - 0s 1ms/step - loss: 1.6784\n",
      "Epoch 21/300\n",
      "10/10 [==============================] - 0s 2ms/step - loss: 1.5279\n",
      "Epoch 22/300\n",
      "10/10 [==============================] - 0s 1ms/step - loss: 1.3752\n",
      "Epoch 23/300\n",
      "10/10 [==============================] - 0s 2ms/step - loss: 1.2564\n",
      "Epoch 24/300\n",
      "10/10 [==============================] - 0s 2ms/step - loss: 1.1372\n",
      "Epoch 25/300\n",
      "10/10 [==============================] - 0s 1ms/step - loss: 1.0334\n",
      "Epoch 26/300\n",
      "10/10 [==============================] - 0s 1ms/step - loss: 0.9317\n",
      "Epoch 27/300\n",
      "10/10 [==============================] - 0s 1ms/step - loss: 0.8438\n",
      "Epoch 28/300\n",
      "10/10 [==============================] - 0s 1ms/step - loss: 0.7580\n",
      "Epoch 29/300\n",
      "10/10 [==============================] - 0s 1ms/step - loss: 0.6821\n",
      "Epoch 30/300\n",
      "10/10 [==============================] - 0s 1ms/step - loss: 0.6096\n",
      "Epoch 31/300\n",
      "10/10 [==============================] - 0s 946us/step - loss: 0.5485\n",
      "Epoch 32/300\n",
      "10/10 [==============================] - 0s 2ms/step - loss: 0.4881\n",
      "Epoch 33/300\n",
      "10/10 [==============================] - 0s 1ms/step - loss: 0.4344\n",
      "Epoch 34/300\n",
      "10/10 [==============================] - 0s 1ms/step - loss: 0.3876\n",
      "Epoch 35/300\n",
      "10/10 [==============================] - 0s 2ms/step - loss: 0.3425\n",
      "Epoch 36/300\n",
      "10/10 [==============================] - 0s 2ms/step - loss: 0.3038\n",
      "Epoch 37/300\n",
      "10/10 [==============================] - 0s 2ms/step - loss: 0.2689\n",
      "Epoch 38/300\n",
      "10/10 [==============================] - 0s 2ms/step - loss: 0.2352\n",
      "Epoch 39/300\n",
      "10/10 [==============================] - 0s 1ms/step - loss: 0.2081\n",
      "Epoch 40/300\n",
      "10/10 [==============================] - 0s 1ms/step - loss: 0.1824\n",
      "Epoch 41/300\n",
      "10/10 [==============================] - 0s 2ms/step - loss: 0.1595\n",
      "Epoch 42/300\n",
      "10/10 [==============================] - 0s 985us/step - loss: 0.1392\n",
      "Epoch 43/300\n",
      "10/10 [==============================] - 0s 2ms/step - loss: 0.1218\n",
      "Epoch 44/300\n",
      "10/10 [==============================] - 0s 2ms/step - loss: 0.1049\n",
      "Epoch 45/300\n",
      "10/10 [==============================] - 0s 844us/step - loss: 0.0914\n",
      "Epoch 46/300\n",
      "10/10 [==============================] - 0s 866us/step - loss: 0.0797\n",
      "Epoch 47/300\n",
      "10/10 [==============================] - 0s 1ms/step - loss: 0.0685\n",
      "Epoch 48/300\n",
      "10/10 [==============================] - 0s 1ms/step - loss: 0.0590\n",
      "Epoch 49/300\n",
      "10/10 [==============================] - 0s 2ms/step - loss: 0.0509\n",
      "Epoch 50/300\n",
      "10/10 [==============================] - 0s 1ms/step - loss: 0.0438\n",
      "Epoch 51/300\n",
      "10/10 [==============================] - 0s 816us/step - loss: 0.0374\n",
      "Epoch 52/300\n",
      "10/10 [==============================] - 0s 821us/step - loss: 0.0322\n",
      "Epoch 53/300\n",
      "10/10 [==============================] - 0s 908us/step - loss: 0.0273\n",
      "Epoch 54/300\n",
      "10/10 [==============================] - 0s 2ms/step - loss: 0.0232\n",
      "Epoch 55/300\n",
      "10/10 [==============================] - 0s 1ms/step - loss: 0.0198\n",
      "Epoch 56/300\n",
      "10/10 [==============================] - 0s 2ms/step - loss: 0.0168\n",
      "Epoch 57/300\n",
      "10/10 [==============================] - 0s 2ms/step - loss: 0.0141\n",
      "Epoch 58/300\n",
      "10/10 [==============================] - 0s 2ms/step - loss: 0.0119\n",
      "Epoch 59/300\n",
      "10/10 [==============================] - 0s 1ms/step - loss: 0.0101\n",
      "Epoch 60/300\n",
      "10/10 [==============================] - 0s 1ms/step - loss: 0.0084\n",
      "Epoch 61/300\n",
      "10/10 [==============================] - 0s 1ms/step - loss: 0.0071\n",
      "Epoch 62/300\n",
      "10/10 [==============================] - 0s 1ms/step - loss: 0.0059\n",
      "Epoch 63/300\n",
      "10/10 [==============================] - 0s 1ms/step - loss: 0.0050\n",
      "Epoch 64/300\n",
      "10/10 [==============================] - 0s 1ms/step - loss: 0.0041\n",
      "Epoch 65/300\n",
      "10/10 [==============================] - 0s 1ms/step - loss: 0.0034\n",
      "Epoch 66/300\n",
      "10/10 [==============================] - 0s 2ms/step - loss: 0.0029\n",
      "Epoch 67/300\n",
      "10/10 [==============================] - 0s 945us/step - loss: 0.0024\n",
      "Epoch 68/300\n",
      "10/10 [==============================] - 0s 2ms/step - loss: 0.0020\n",
      "Epoch 69/300\n",
      "10/10 [==============================] - 0s 1ms/step - loss: 0.0016\n",
      "Epoch 70/300\n",
      "10/10 [==============================] - 0s 2ms/step - loss: 0.0013\n",
      "Epoch 71/300\n",
      "10/10 [==============================] - 0s 2ms/step - loss: 0.0011\n",
      "Epoch 72/300\n",
      "10/10 [==============================] - 0s 2ms/step - loss: 8.8867e-04\n",
      "Epoch 73/300\n",
      "10/10 [==============================] - 0s 974us/step - loss: 7.2553e-04\n",
      "Epoch 74/300\n",
      "10/10 [==============================] - 0s 1ms/step - loss: 5.9331e-04\n",
      "Epoch 75/300\n",
      "10/10 [==============================] - 0s 1ms/step - loss: 4.8384e-04\n",
      "Epoch 76/300\n",
      "10/10 [==============================] - 0s 1ms/step - loss: 3.9252e-04\n",
      "Epoch 77/300\n",
      "10/10 [==============================] - 0s 1ms/step - loss: 3.1679e-04\n",
      "Epoch 78/300\n",
      "10/10 [==============================] - 0s 1ms/step - loss: 2.5468e-04\n",
      "Epoch 79/300\n",
      "10/10 [==============================] - 0s 1ms/step - loss: 2.0671e-04\n",
      "Epoch 80/300\n",
      "10/10 [==============================] - 0s 1ms/step - loss: 1.6780e-04\n",
      "Epoch 81/300\n",
      "10/10 [==============================] - 0s 2ms/step - loss: 1.3303e-04\n",
      "Epoch 82/300\n",
      "10/10 [==============================] - 0s 2ms/step - loss: 1.0723e-04\n",
      "Epoch 83/300\n",
      "10/10 [==============================] - 0s 982us/step - loss: 8.5093e-05\n",
      "Epoch 84/300\n",
      "10/10 [==============================] - 0s 1ms/step - loss: 6.7558e-05\n",
      "Epoch 85/300\n",
      "10/10 [==============================] - 0s 1ms/step - loss: 5.4538e-05\n",
      "Epoch 86/300\n",
      "10/10 [==============================] - 0s 1ms/step - loss: 4.3361e-05\n",
      "Epoch 87/300\n",
      "10/10 [==============================] - 0s 1ms/step - loss: 3.3869e-05\n",
      "Epoch 88/300\n",
      "10/10 [==============================] - 0s 999us/step - loss: 2.6803e-05\n",
      "Epoch 89/300\n",
      "10/10 [==============================] - 0s 820us/step - loss: 2.1278e-05\n",
      "Epoch 90/300\n",
      "10/10 [==============================] - 0s 1ms/step - loss: 1.6748e-05\n",
      "Epoch 91/300\n",
      "10/10 [==============================] - 0s 1ms/step - loss: 1.3035e-05\n",
      "Epoch 92/300\n",
      "10/10 [==============================] - 0s 1ms/step - loss: 1.0269e-05\n",
      "Epoch 93/300\n",
      "10/10 [==============================] - 0s 950us/step - loss: 7.9687e-06\n",
      "Epoch 94/300\n",
      "10/10 [==============================] - 0s 1ms/step - loss: 6.2112e-06\n",
      "Epoch 95/300\n",
      "10/10 [==============================] - 0s 1ms/step - loss: 4.8089e-06\n",
      "Epoch 96/300\n",
      "10/10 [==============================] - 0s 1ms/step - loss: 3.7413e-06\n",
      "Epoch 97/300\n",
      "10/10 [==============================] - 0s 1ms/step - loss: 2.9666e-06\n",
      "Epoch 98/300\n",
      "10/10 [==============================] - 0s 1ms/step - loss: 2.2136e-06\n",
      "Epoch 99/300\n",
      "10/10 [==============================] - 0s 888us/step - loss: 1.7264e-06\n",
      "Epoch 100/300\n"
     ]
    },
    {
     "name": "stdout",
     "output_type": "stream",
     "text": [
      "10/10 [==============================] - 0s 1ms/step - loss: 1.3159e-06\n",
      "Epoch 101/300\n",
      "10/10 [==============================] - 0s 1ms/step - loss: 1.0079e-06\n",
      "Epoch 102/300\n",
      "10/10 [==============================] - 0s 972us/step - loss: 7.6906e-07\n",
      "Epoch 103/300\n",
      "10/10 [==============================] - 0s 1ms/step - loss: 5.9518e-07\n",
      "Epoch 104/300\n",
      "10/10 [==============================] - 0s 869us/step - loss: 4.5164e-07\n",
      "Epoch 105/300\n",
      "10/10 [==============================] - 0s 2ms/step - loss: 3.4053e-07\n",
      "Epoch 106/300\n",
      "10/10 [==============================] - 0s 946us/step - loss: 2.5704e-07\n",
      "Epoch 107/300\n",
      "10/10 [==============================] - 0s 1ms/step - loss: 1.9327e-07\n",
      "Epoch 108/300\n",
      "10/10 [==============================] - 0s 2ms/step - loss: 1.4427e-07\n",
      "Epoch 109/300\n",
      "10/10 [==============================] - 0s 1ms/step - loss: 1.0822e-07\n",
      "Epoch 110/300\n",
      "10/10 [==============================] - 0s 1ms/step - loss: 8.2465e-08\n",
      "Epoch 111/300\n",
      "10/10 [==============================] - 0s 945us/step - loss: 6.0028e-08\n",
      "Epoch 112/300\n",
      "10/10 [==============================] - 0s 1ms/step - loss: 4.5397e-08\n",
      "Epoch 113/300\n",
      "10/10 [==============================] - 0s 1ms/step - loss: 3.3894e-08\n",
      "Epoch 114/300\n",
      "10/10 [==============================] - 0s 1ms/step - loss: 2.4968e-08\n",
      "Epoch 115/300\n",
      "10/10 [==============================] - 0s 1ms/step - loss: 1.8299e-08\n",
      "Epoch 116/300\n",
      "10/10 [==============================] - 0s 1ms/step - loss: 1.3541e-08\n",
      "Epoch 117/300\n",
      "10/10 [==============================] - 0s 1ms/step - loss: 9.9949e-09\n",
      "Epoch 118/300\n",
      "10/10 [==============================] - 0s 1ms/step - loss: 7.3357e-09\n",
      "Epoch 119/300\n",
      "10/10 [==============================] - 0s 1ms/step - loss: 5.1128e-09\n",
      "Epoch 120/300\n",
      "10/10 [==============================] - 0s 980us/step - loss: 3.7359e-09\n",
      "Epoch 121/300\n",
      "10/10 [==============================] - 0s 1ms/step - loss: 2.6818e-09\n",
      "Epoch 122/300\n",
      "10/10 [==============================] - 0s 1ms/step - loss: 1.8905e-09\n",
      "Epoch 123/300\n",
      "10/10 [==============================] - 0s 1ms/step - loss: 1.3996e-09\n",
      "Epoch 124/300\n",
      "10/10 [==============================] - 0s 1ms/step - loss: 9.8766e-10\n",
      "Epoch 125/300\n",
      "10/10 [==============================] - 0s 1ms/step - loss: 7.6355e-10\n",
      "Epoch 126/300\n",
      "10/10 [==============================] - 0s 1ms/step - loss: 6.1821e-10\n",
      "Epoch 127/300\n",
      "10/10 [==============================] - 0s 2ms/step - loss: 4.6903e-10\n",
      "Epoch 128/300\n",
      "10/10 [==============================] - 0s 1ms/step - loss: 3.3037e-10\n",
      "Epoch 129/300\n",
      "10/10 [==============================] - 0s 1ms/step - loss: 2.3881e-10\n",
      "Epoch 130/300\n",
      "10/10 [==============================] - 0s 1ms/step - loss: 1.4823e-10\n",
      "Epoch 131/300\n",
      "10/10 [==============================] - 0s 1ms/step - loss: 1.2563e-10\n",
      "Epoch 132/300\n",
      "10/10 [==============================] - 0s 1ms/step - loss: 1.0694e-10\n",
      "Epoch 133/300\n",
      "10/10 [==============================] - 0s 994us/step - loss: 9.0733e-11\n",
      "Epoch 134/300\n",
      "10/10 [==============================] - 0s 1ms/step - loss: 8.1773e-11\n",
      "Epoch 135/300\n",
      "10/10 [==============================] - 0s 1ms/step - loss: 8.1773e-11\n",
      "Epoch 136/300\n",
      "10/10 [==============================] - 0s 1ms/step - loss: 8.1773e-11\n",
      "Epoch 137/300\n",
      "10/10 [==============================] - 0s 2ms/step - loss: 8.1773e-11\n",
      "Epoch 138/300\n",
      "10/10 [==============================] - 0s 1ms/step - loss: 8.1773e-11\n",
      "Epoch 139/300\n",
      "10/10 [==============================] - 0s 1ms/step - loss: 8.1773e-11\n",
      "Epoch 140/300\n",
      "10/10 [==============================] - 0s 1ms/step - loss: 8.1773e-11\n",
      "Epoch 141/300\n",
      "10/10 [==============================] - 0s 1ms/step - loss: 8.1773e-11\n",
      "Epoch 142/300\n",
      "10/10 [==============================] - 0s 1ms/step - loss: 8.1773e-11\n",
      "Epoch 143/300\n",
      "10/10 [==============================] - 0s 2ms/step - loss: 8.1773e-11\n",
      "Epoch 144/300\n",
      "10/10 [==============================] - 0s 1ms/step - loss: 8.1773e-11\n",
      "Epoch 145/300\n",
      "10/10 [==============================] - 0s 2ms/step - loss: 8.1773e-11\n",
      "Epoch 146/300\n",
      "10/10 [==============================] - 0s 1ms/step - loss: 8.1773e-11\n",
      "Epoch 147/300\n",
      "10/10 [==============================] - 0s 2ms/step - loss: 8.1773e-11\n",
      "Epoch 148/300\n",
      "10/10 [==============================] - 0s 1ms/step - loss: 8.1773e-11\n",
      "Epoch 149/300\n",
      "10/10 [==============================] - 0s 1ms/step - loss: 8.1773e-11\n",
      "Epoch 150/300\n",
      "10/10 [==============================] - 0s 2ms/step - loss: 8.1773e-11\n",
      "Epoch 151/300\n",
      "10/10 [==============================] - 0s 1ms/step - loss: 8.1773e-11\n",
      "Epoch 152/300\n",
      "10/10 [==============================] - 0s 1ms/step - loss: 8.1773e-11\n",
      "Epoch 153/300\n",
      "10/10 [==============================] - 0s 1ms/step - loss: 8.1773e-11\n",
      "Epoch 154/300\n",
      "10/10 [==============================] - 0s 1ms/step - loss: 8.1773e-11\n",
      "Epoch 155/300\n",
      "10/10 [==============================] - 0s 1ms/step - loss: 8.1773e-11\n",
      "Epoch 156/300\n",
      "10/10 [==============================] - 0s 1ms/step - loss: 8.1773e-11\n",
      "Epoch 157/300\n",
      "10/10 [==============================] - 0s 1ms/step - loss: 8.1773e-11\n",
      "Epoch 158/300\n",
      "10/10 [==============================] - 0s 1ms/step - loss: 8.1773e-11\n",
      "Epoch 159/300\n",
      "10/10 [==============================] - 0s 1ms/step - loss: 8.1773e-11\n",
      "Epoch 160/300\n",
      "10/10 [==============================] - 0s 1ms/step - loss: 8.1773e-11\n",
      "Epoch 161/300\n",
      "10/10 [==============================] - 0s 1ms/step - loss: 8.1773e-11\n",
      "Epoch 162/300\n",
      "10/10 [==============================] - 0s 1ms/step - loss: 8.1773e-11\n",
      "Epoch 163/300\n",
      "10/10 [==============================] - 0s 1ms/step - loss: 8.1773e-11\n",
      "Epoch 164/300\n",
      "10/10 [==============================] - 0s 2ms/step - loss: 8.1773e-11\n",
      "Epoch 165/300\n",
      "10/10 [==============================] - 0s 1ms/step - loss: 8.1773e-11\n",
      "Epoch 166/300\n",
      "10/10 [==============================] - 0s 1ms/step - loss: 8.1773e-11\n",
      "Epoch 167/300\n",
      "10/10 [==============================] - 0s 1ms/step - loss: 8.1773e-11\n",
      "Epoch 168/300\n",
      "10/10 [==============================] - 0s 1ms/step - loss: 8.1773e-11\n",
      "Epoch 169/300\n",
      "10/10 [==============================] - 0s 1ms/step - loss: 8.1773e-11\n",
      "Epoch 170/300\n",
      "10/10 [==============================] - 0s 1ms/step - loss: 8.1773e-11\n",
      "Epoch 171/300\n",
      "10/10 [==============================] - 0s 1ms/step - loss: 8.1773e-11\n",
      "Epoch 172/300\n",
      "10/10 [==============================] - 0s 1ms/step - loss: 8.1773e-11\n",
      "Epoch 173/300\n",
      "10/10 [==============================] - 0s 1ms/step - loss: 8.1773e-11\n",
      "Epoch 174/300\n",
      "10/10 [==============================] - 0s 997us/step - loss: 8.1773e-11\n",
      "Epoch 175/300\n",
      "10/10 [==============================] - 0s 856us/step - loss: 7.1695e-11\n",
      "Epoch 176/300\n",
      "10/10 [==============================] - 0s 1ms/step - loss: 6.9940e-11\n",
      "Epoch 177/300\n",
      "10/10 [==============================] - 0s 986us/step - loss: 6.9940e-11\n",
      "Epoch 178/300\n",
      "10/10 [==============================] - 0s 921us/step - loss: 6.9940e-11\n",
      "Epoch 179/300\n",
      "10/10 [==============================] - 0s 2ms/step - loss: 6.9940e-11\n",
      "Epoch 180/300\n",
      "10/10 [==============================] - 0s 1ms/step - loss: 6.9940e-11\n",
      "Epoch 181/300\n",
      "10/10 [==============================] - 0s 1ms/step - loss: 6.9940e-11\n",
      "Epoch 182/300\n",
      "10/10 [==============================] - 0s 773us/step - loss: 6.9940e-11\n",
      "Epoch 183/300\n",
      "10/10 [==============================] - 0s 1ms/step - loss: 6.9940e-11\n",
      "Epoch 184/300\n",
      "10/10 [==============================] - 0s 1ms/step - loss: 6.9940e-11\n",
      "Epoch 185/300\n",
      "10/10 [==============================] - 0s 1ms/step - loss: 6.9940e-11\n",
      "Epoch 186/300\n",
      "10/10 [==============================] - 0s 1ms/step - loss: 6.9940e-11\n",
      "Epoch 187/300\n",
      "10/10 [==============================] - 0s 2ms/step - loss: 6.9940e-11\n",
      "Epoch 188/300\n",
      "10/10 [==============================] - 0s 3ms/step - loss: 6.9940e-11\n",
      "Epoch 189/300\n",
      "10/10 [==============================] - 0s 1ms/step - loss: 6.9940e-11\n",
      "Epoch 190/300\n",
      "10/10 [==============================] - 0s 2ms/step - loss: 6.9940e-11\n",
      "Epoch 191/300\n",
      "10/10 [==============================] - 0s 1ms/step - loss: 6.9940e-11\n",
      "Epoch 192/300\n",
      "10/10 [==============================] - 0s 1ms/step - loss: 6.9940e-11\n",
      "Epoch 193/300\n",
      "10/10 [==============================] - 0s 1ms/step - loss: 6.9940e-11\n",
      "Epoch 194/300\n",
      "10/10 [==============================] - 0s 1ms/step - loss: 6.9940e-11\n",
      "Epoch 195/300\n"
     ]
    },
    {
     "name": "stdout",
     "output_type": "stream",
     "text": [
      "10/10 [==============================] - 0s 1ms/step - loss: 6.9940e-11\n",
      "Epoch 196/300\n",
      "10/10 [==============================] - 0s 1ms/step - loss: 6.9940e-11\n",
      "Epoch 197/300\n",
      "10/10 [==============================] - 0s 2ms/step - loss: 6.9940e-11\n",
      "Epoch 198/300\n",
      "10/10 [==============================] - 0s 2ms/step - loss: 6.9069e-11\n",
      "Epoch 199/300\n",
      "10/10 [==============================] - 0s 2ms/step - loss: 6.7155e-11\n",
      "Epoch 200/300\n",
      "10/10 [==============================] - 0s 2ms/step - loss: 6.6003e-11\n",
      "Epoch 201/300\n",
      "10/10 [==============================] - 0s 2ms/step - loss: 4.3857e-11\n",
      "Epoch 202/300\n",
      "10/10 [==============================] - 0s 3ms/step - loss: 3.7784e-11\n",
      "Epoch 203/300\n",
      "10/10 [==============================] - 0s 2ms/step - loss: 3.7784e-11\n",
      "Epoch 204/300\n",
      "10/10 [==============================] - 0s 2ms/step - loss: 3.7784e-11\n",
      "Epoch 205/300\n",
      "10/10 [==============================] - 0s 2ms/step - loss: 3.7784e-11\n",
      "Epoch 206/300\n",
      "10/10 [==============================] - 0s 2ms/step - loss: 3.7784e-11\n",
      "Epoch 207/300\n",
      "10/10 [==============================] - 0s 2ms/step - loss: 3.7784e-11\n",
      "Epoch 208/300\n",
      "10/10 [==============================] - 0s 1ms/step - loss: 3.7784e-11\n",
      "Epoch 209/300\n",
      "10/10 [==============================] - 0s 2ms/step - loss: 3.4523e-11\n",
      "Epoch 210/300\n",
      "10/10 [==============================] - 0s 1ms/step - loss: 3.3650e-11\n",
      "Epoch 211/300\n",
      "10/10 [==============================] - 0s 2ms/step - loss: 3.3650e-11\n",
      "Epoch 212/300\n",
      "10/10 [==============================] - 0s 2ms/step - loss: 3.1301e-11\n",
      "Epoch 213/300\n",
      "10/10 [==============================] - 0s 2ms/step - loss: 3.0515e-11\n",
      "Epoch 214/300\n",
      "10/10 [==============================] - 0s 2ms/step - loss: 3.0515e-11\n",
      "Epoch 215/300\n",
      "10/10 [==============================] - 0s 2ms/step - loss: 3.0515e-11\n",
      "Epoch 216/300\n",
      "10/10 [==============================] - 0s 2ms/step - loss: 3.0515e-11\n",
      "Epoch 217/300\n",
      "10/10 [==============================] - 0s 2ms/step - loss: 3.0515e-11\n",
      "Epoch 218/300\n",
      "10/10 [==============================] - 0s 2ms/step - loss: 2.9241e-11\n",
      "Epoch 219/300\n",
      "10/10 [==============================] - 0s 2ms/step - loss: 2.7502e-11\n",
      "Epoch 220/300\n",
      "10/10 [==============================] - 0s 2ms/step - loss: 2.7502e-11\n",
      "Epoch 221/300\n",
      "10/10 [==============================] - 0s 2ms/step - loss: 2.7502e-11\n",
      "Epoch 222/300\n",
      "10/10 [==============================] - 0s 2ms/step - loss: 2.7502e-11\n",
      "Epoch 223/300\n",
      "10/10 [==============================] - 0s 1ms/step - loss: 2.7502e-11\n",
      "Epoch 224/300\n",
      "10/10 [==============================] - 0s 1ms/step - loss: 2.7502e-11\n",
      "Epoch 225/300\n",
      "10/10 [==============================] - 0s 2ms/step - loss: 2.7502e-11\n",
      "Epoch 226/300\n",
      "10/10 [==============================] - 0s 929us/step - loss: 2.7502e-11\n",
      "Epoch 227/300\n",
      "10/10 [==============================] - 0s 1ms/step - loss: 2.7502e-11\n",
      "Epoch 228/300\n",
      "10/10 [==============================] - 0s 1ms/step - loss: 2.7502e-11\n",
      "Epoch 229/300\n",
      "10/10 [==============================] - 0s 1ms/step - loss: 2.7502e-11\n",
      "Epoch 230/300\n",
      "10/10 [==============================] - 0s 1ms/step - loss: 2.7502e-11\n",
      "Epoch 231/300\n",
      "10/10 [==============================] - 0s 2ms/step - loss: 2.7502e-11\n",
      "Epoch 232/300\n",
      "10/10 [==============================] - 0s 2ms/step - loss: 2.5701e-11\n",
      "Epoch 233/300\n",
      "10/10 [==============================] - 0s 2ms/step - loss: 2.0008e-11\n",
      "Epoch 234/300\n",
      "10/10 [==============================] - 0s 2ms/step - loss: 2.0008e-11\n",
      "Epoch 235/300\n",
      "10/10 [==============================] - 0s 1ms/step - loss: 2.0008e-11\n",
      "Epoch 236/300\n",
      "10/10 [==============================] - 0s 2ms/step - loss: 2.0008e-11\n",
      "Epoch 237/300\n",
      "10/10 [==============================] - 0s 2ms/step - loss: 2.0008e-11\n",
      "Epoch 238/300\n",
      "10/10 [==============================] - 0s 1ms/step - loss: 2.0008e-11\n",
      "Epoch 239/300\n",
      "10/10 [==============================] - 0s 2ms/step - loss: 2.0008e-11\n",
      "Epoch 240/300\n",
      "10/10 [==============================] - 0s 2ms/step - loss: 2.0008e-11\n",
      "Epoch 241/300\n",
      "10/10 [==============================] - 0s 1ms/step - loss: 2.0008e-11\n",
      "Epoch 242/300\n",
      "10/10 [==============================] - 0s 2ms/step - loss: 2.0008e-11\n",
      "Epoch 243/300\n",
      "10/10 [==============================] - 0s 1ms/step - loss: 2.0008e-11\n",
      "Epoch 244/300\n",
      "10/10 [==============================] - 0s 1ms/step - loss: 2.0008e-11\n",
      "Epoch 245/300\n",
      "10/10 [==============================] - 0s 2ms/step - loss: 2.0008e-11\n",
      "Epoch 246/300\n",
      "10/10 [==============================] - 0s 2ms/step - loss: 2.0008e-11\n",
      "Epoch 247/300\n",
      "10/10 [==============================] - 0s 1ms/step - loss: 2.0008e-11\n",
      "Epoch 248/300\n",
      "10/10 [==============================] - 0s 2ms/step - loss: 2.0008e-11\n",
      "Epoch 249/300\n",
      "10/10 [==============================] - 0s 1ms/step - loss: 2.0008e-11\n",
      "Epoch 250/300\n",
      "10/10 [==============================] - 0s 1ms/step - loss: 2.0008e-11\n",
      "Epoch 251/300\n",
      "10/10 [==============================] - 0s 2ms/step - loss: 2.0008e-11\n",
      "Epoch 252/300\n",
      "10/10 [==============================] - 0s 1ms/step - loss: 2.0008e-11\n",
      "Epoch 253/300\n",
      "10/10 [==============================] - 0s 2ms/step - loss: 2.0008e-11\n",
      "Epoch 254/300\n",
      "10/10 [==============================] - 0s 2ms/step - loss: 2.0008e-11\n",
      "Epoch 255/300\n",
      "10/10 [==============================] - 0s 2ms/step - loss: 2.0008e-11\n",
      "Epoch 256/300\n",
      "10/10 [==============================] - 0s 2ms/step - loss: 2.0008e-11\n",
      "Epoch 257/300\n",
      "10/10 [==============================] - 0s 2ms/step - loss: 2.0008e-11\n",
      "Epoch 258/300\n",
      "10/10 [==============================] - 0s 1ms/step - loss: 2.0008e-11\n",
      "Epoch 259/300\n",
      "10/10 [==============================] - 0s 1ms/step - loss: 2.0008e-11\n",
      "Epoch 260/300\n",
      "10/10 [==============================] - 0s 2ms/step - loss: 2.0008e-11\n",
      "Epoch 261/300\n",
      "10/10 [==============================] - 0s 946us/step - loss: 2.0008e-11\n",
      "Epoch 262/300\n",
      "10/10 [==============================] - 0s 1ms/step - loss: 2.0008e-11\n",
      "Epoch 263/300\n",
      "10/10 [==============================] - 0s 2ms/step - loss: 2.0008e-11\n",
      "Epoch 264/300\n",
      "10/10 [==============================] - 0s 1ms/step - loss: 2.0008e-11\n",
      "Epoch 265/300\n",
      "10/10 [==============================] - 0s 1ms/step - loss: 2.0008e-11\n",
      "Epoch 266/300\n",
      "10/10 [==============================] - 0s 2ms/step - loss: 2.0008e-11\n",
      "Epoch 267/300\n",
      "10/10 [==============================] - 0s 1ms/step - loss: 2.0008e-11\n",
      "Epoch 268/300\n",
      "10/10 [==============================] - 0s 1ms/step - loss: 2.0008e-11\n",
      "Epoch 269/300\n",
      "10/10 [==============================] - 0s 2ms/step - loss: 2.0008e-11\n",
      "Epoch 270/300\n",
      "10/10 [==============================] - 0s 972us/step - loss: 2.0008e-11\n",
      "Epoch 271/300\n",
      "10/10 [==============================] - 0s 1ms/step - loss: 2.0008e-11\n",
      "Epoch 272/300\n",
      "10/10 [==============================] - 0s 1ms/step - loss: 2.0008e-11\n",
      "Epoch 273/300\n",
      "10/10 [==============================] - 0s 2ms/step - loss: 2.0008e-11\n",
      "Epoch 274/300\n",
      "10/10 [==============================] - 0s 1ms/step - loss: 2.0008e-11\n",
      "Epoch 275/300\n",
      "10/10 [==============================] - 0s 1ms/step - loss: 2.0008e-11\n",
      "Epoch 276/300\n",
      "10/10 [==============================] - 0s 1ms/step - loss: 2.0008e-11\n",
      "Epoch 277/300\n",
      "10/10 [==============================] - 0s 1ms/step - loss: 2.0008e-11\n",
      "Epoch 278/300\n",
      "10/10 [==============================] - 0s 1ms/step - loss: 2.0008e-11\n",
      "Epoch 279/300\n",
      "10/10 [==============================] - 0s 1ms/step - loss: 2.0008e-11\n",
      "Epoch 280/300\n",
      "10/10 [==============================] - 0s 1ms/step - loss: 2.0008e-11\n",
      "Epoch 281/300\n",
      "10/10 [==============================] - 0s 1ms/step - loss: 2.0008e-11\n",
      "Epoch 282/300\n",
      "10/10 [==============================] - 0s 1ms/step - loss: 2.0008e-11\n",
      "Epoch 283/300\n",
      "10/10 [==============================] - 0s 1ms/step - loss: 2.0008e-11\n",
      "Epoch 284/300\n",
      "10/10 [==============================] - 0s 1ms/step - loss: 2.0008e-11\n",
      "Epoch 285/300\n",
      "10/10 [==============================] - 0s 1ms/step - loss: 2.0526e-11\n",
      "Epoch 286/300\n",
      "10/10 [==============================] - 0s 1ms/step - loss: 1.9437e-11\n",
      "Epoch 287/300\n",
      "10/10 [==============================] - 0s 1ms/step - loss: 1.9437e-11\n",
      "Epoch 288/300\n",
      "10/10 [==============================] - 0s 1ms/step - loss: 1.9437e-11\n",
      "Epoch 289/300\n",
      "10/10 [==============================] - 0s 1ms/step - loss: 1.9437e-11\n",
      "Epoch 290/300\n"
     ]
    },
    {
     "name": "stdout",
     "output_type": "stream",
     "text": [
      "10/10 [==============================] - 0s 1ms/step - loss: 2.2677e-11\n",
      "Epoch 291/300\n",
      "10/10 [==============================] - 0s 2ms/step - loss: 8.7317e-12\n",
      "Epoch 292/300\n",
      "10/10 [==============================] - 0s 1ms/step - loss: 6.6581e-12\n",
      "Epoch 293/300\n",
      "10/10 [==============================] - 0s 2ms/step - loss: 6.6581e-12\n",
      "Epoch 294/300\n",
      "10/10 [==============================] - 0s 1ms/step - loss: 6.6581e-12\n",
      "Epoch 295/300\n",
      "10/10 [==============================] - 0s 1ms/step - loss: 6.6581e-12\n",
      "Epoch 296/300\n",
      "10/10 [==============================] - 0s 2ms/step - loss: 6.6581e-12\n",
      "Epoch 297/300\n",
      "10/10 [==============================] - 0s 2ms/step - loss: 6.6581e-12\n",
      "Epoch 298/300\n",
      "10/10 [==============================] - 0s 1ms/step - loss: 6.6581e-12\n",
      "Epoch 299/300\n",
      "10/10 [==============================] - 0s 932us/step - loss: 6.6581e-12\n",
      "Epoch 300/300\n",
      "10/10 [==============================] - 0s 2ms/step - loss: 6.6581e-12\n",
      "\n",
      "추정 결과 :\n",
      "w1 = 2.00\n",
      "w2 = 3.00\n",
      "b = 5.00\n"
     ]
    },
    {
     "data": {
      "image/png": "[encoded data removed]",
      "text/plain": [
       "<Figure size 432x288 with 1 Axes>"
      ]
     },
     "metadata": {
      "needs_background": "light"
     },
     "output_type": "display_data"
    }
   ],
   "source": [
    "from tensorflow.keras.layers import Dense\n",
    "from tensorflow.keras.models import Sequential\n",
    "from tensorflow.keras import optimizers\n",
    "import numpy as np\n",
    "import matplotlib.pyplot as plt\n",
    "\n",
    "# y = 2x^2 + 3x + 5 일 때 x, y 집합을 생성한다\n",
    "x = np.array(np.arange(-5, 5, 0.1))\n",
    "y = 2 * x * x + 3 * x + 5\n",
    "# T 안하면 X^2과 X가 각기 다른 array로 들어가 있음. 둘을 묶어 주기 위해 T하는 것.\n",
    "dataX = np.stack([x*x, x]).T\n",
    "\n",
    "# 그래프를 생성한다.\n",
    "model = Sequential()\n",
    "model.add(Dense(1, input_dim = 2))\n",
    "model.compile(loss='mse',optimizer=optimizers.Adam(lr=0.05))\n",
    "h = model.fit(dataX, y, batch_size = 10, epochs = 300)\n",
    "\n",
    "# 학습 결과를 확인한다.\n",
    "# 모델에 추가된 층에서 w1, w2, b(파라미터들)의 값을 가져오는 방법\n",
    "parameters = model.layers[0].get_weights()\n",
    "# 파라미터의 구조 [array([[w1], [w2]], dtype), array([b], dtype)]\n",
    "print(\"\\n추정 결과 :\")\n",
    "print(\"w1 = %.2f\" % parameters[0][0][0])\n",
    "print(\"w2 = %.2f\" % parameters[0][1][0])\n",
    "print(\"b = %.2f\" % parameters[1][0])\n",
    "\n",
    "plt.plot(h.history['loss'], color='red', linewidth=1)\n",
    "plt.title(\"Loss function\")\n",
    "plt.xlabel(\"epoch\")\n",
    "plt.ylabel(\"loss\")\n",
    "plt.show()"
   ]
  },
  {
   "cell_type": "code",
   "execution_count": 70,
   "metadata": {},
   "outputs": [
    {
     "name": "stdout",
     "output_type": "stream",
     "text": [
      "Model: \"sequential_10\"\n",
      "_________________________________________________________________\n",
      "Layer (type)                 Output Shape              Param #   \n",
      "=================================================================\n",
      "dense_13 (Dense)             (None, 1)                 3         \n",
      "=================================================================\n",
      "Total params: 3\n",
      "Trainable params: 3\n",
      "Non-trainable params: 0\n",
      "_________________________________________________________________\n"
     ]
    }
   ],
   "source": [
    "model.summary()"
   ]
  },
  {
   "cell_type": "code",
   "execution_count": 62,
   "metadata": {},
   "outputs": [
    {
     "name": "stdout",
     "output_type": "stream",
     "text": [
      "[array([[2.0000017],\n",
      "       [3.       ]], dtype=float32), array([4.999979], dtype=float32)]\n",
      "[[2.0000017]\n",
      " [3.       ]]\n",
      "[4.999979]\n",
      "[2.0000017]\n",
      "[3.]\n"
     ]
    }
   ],
   "source": [
    "# parameters 내부 구조 확인\n",
    "print(parameters)\n",
    "print(parameters[0])\n",
    "print(parameters[1])\n",
    "print(parameters[0][0])\n",
    "print(parameters[0][1])"
   ]
  },
  {
   "cell_type": "markdown",
   "metadata": {
    "id": "JRSj_kYqUVZB"
   },
   "source": [
    "## Functional API"
   ]
  },
  {
   "cell_type": "code",
   "execution_count": 80,
   "metadata": {
    "colab": {
     "base_uri": "https://localhost:8080/",
     "height": 1000
    },
    "executionInfo": {
     "elapsed": 7294,
     "status": "ok",
     "timestamp": 1626304896353,
     "user": {
      "displayName": "홍경수",
      "photoUrl": "",
      "userId": "10514684854108920109"
     },
     "user_tz": -540
    },
    "id": "GreHY69KUVZB",
    "outputId": "22587bbb-cfa2-4f39-97e8-c5d468cbdab5"
   },
   "outputs": [
    {
     "name": "stdout",
     "output_type": "stream",
     "text": [
      "Epoch 1/300\n",
      "4/4 [==============================] - 0s 2ms/step - loss: 1054.7808\n",
      "Epoch 2/300\n",
      "4/4 [==============================] - 0s 2ms/step - loss: 906.6873\n",
      "Epoch 3/300\n",
      "4/4 [==============================] - 0s 2ms/step - loss: 779.3853\n",
      "Epoch 4/300\n",
      "4/4 [==============================] - 0s 2ms/step - loss: 652.7470\n",
      "Epoch 5/300\n",
      "4/4 [==============================] - 0s 3ms/step - loss: 548.3221\n",
      "Epoch 6/300\n",
      "4/4 [==============================] - 0s 3ms/step - loss: 454.9638\n",
      "Epoch 7/300\n",
      "4/4 [==============================] - 0s 2ms/step - loss: 372.4194\n",
      "Epoch 8/300\n",
      "4/4 [==============================] - 0s 3ms/step - loss: 304.2546\n",
      "Epoch 9/300\n",
      "4/4 [==============================] - 0s 2ms/step - loss: 245.0450\n",
      "Epoch 10/300\n",
      "4/4 [==============================] - 0s 3ms/step - loss: 197.8301\n",
      "Epoch 11/300\n",
      "4/4 [==============================] - 0s 2ms/step - loss: 154.1796\n",
      "Epoch 12/300\n",
      "4/4 [==============================] - 0s 2ms/step - loss: 120.4577\n",
      "Epoch 13/300\n",
      "4/4 [==============================] - 0s 4ms/step - loss: 89.6844\n",
      "Epoch 14/300\n",
      "4/4 [==============================] - 0s 3ms/step - loss: 66.7450\n",
      "Epoch 15/300\n",
      "4/4 [==============================] - 0s 4ms/step - loss: 49.9618\n",
      "Epoch 16/300\n",
      "4/4 [==============================] - 0s 3ms/step - loss: 37.5060\n",
      "Epoch 17/300\n",
      "4/4 [==============================] - 0s 3ms/step - loss: 27.2878\n",
      "Epoch 18/300\n",
      "4/4 [==============================] - 0s 5ms/step - loss: 21.1099\n",
      "Epoch 19/300\n",
      "4/4 [==============================] - 0s 3ms/step - loss: 15.7402\n",
      "Epoch 20/300\n",
      "4/4 [==============================] - 0s 3ms/step - loss: 12.3584\n",
      "Epoch 21/300\n",
      "4/4 [==============================] - 0s 4ms/step - loss: 9.7905\n",
      "Epoch 22/300\n",
      "4/4 [==============================] - 0s 5ms/step - loss: 8.2411\n",
      "Epoch 23/300\n",
      "4/4 [==============================] - 0s 6ms/step - loss: 6.9272\n",
      "Epoch 24/300\n",
      "4/4 [==============================] - 0s 4ms/step - loss: 5.9579\n",
      "Epoch 25/300\n",
      "4/4 [==============================] - 0s 2ms/step - loss: 5.2908\n",
      "Epoch 26/300\n",
      "4/4 [==============================] - 0s 5ms/step - loss: 4.7051\n",
      "Epoch 27/300\n",
      "4/4 [==============================] - 0s 3ms/step - loss: 4.2243\n",
      "Epoch 28/300\n",
      "4/4 [==============================] - 0s 3ms/step - loss: 3.8021\n",
      "Epoch 29/300\n",
      "4/4 [==============================] - 0s 4ms/step - loss: 3.4408\n",
      "Epoch 30/300\n",
      "4/4 [==============================] - 0s 2ms/step - loss: 3.1277\n",
      "Epoch 31/300\n",
      "4/4 [==============================] - 0s 2ms/step - loss: 2.8477\n",
      "Epoch 32/300\n",
      "4/4 [==============================] - 0s 2ms/step - loss: 2.6288\n",
      "Epoch 33/300\n",
      "4/4 [==============================] - 0s 2ms/step - loss: 2.3987\n",
      "Epoch 34/300\n",
      "4/4 [==============================] - 0s 2ms/step - loss: 2.2375\n",
      "Epoch 35/300\n",
      "4/4 [==============================] - 0s 3ms/step - loss: 2.0952\n",
      "Epoch 36/300\n",
      "4/4 [==============================] - 0s 3ms/step - loss: 1.9723\n",
      "Epoch 37/300\n",
      "4/4 [==============================] - 0s 3ms/step - loss: 1.8724\n",
      "Epoch 38/300\n",
      "4/4 [==============================] - 0s 3ms/step - loss: 1.7888\n",
      "Epoch 39/300\n",
      "4/4 [==============================] - 0s 2ms/step - loss: 1.7178\n",
      "Epoch 40/300\n",
      "4/4 [==============================] - 0s 2ms/step - loss: 1.6600\n",
      "Epoch 41/300\n",
      "4/4 [==============================] - 0s 2ms/step - loss: 1.6183\n",
      "Epoch 42/300\n",
      "4/4 [==============================] - 0s 1ms/step - loss: 1.5764\n",
      "Epoch 43/300\n",
      "4/4 [==============================] - 0s 2ms/step - loss: 1.5373\n",
      "Epoch 44/300\n",
      "4/4 [==============================] - 0s 2ms/step - loss: 1.4999\n",
      "Epoch 45/300\n",
      "4/4 [==============================] - 0s 2ms/step - loss: 1.4615\n",
      "Epoch 46/300\n",
      "4/4 [==============================] - 0s 2ms/step - loss: 1.4263\n",
      "Epoch 47/300\n",
      "4/4 [==============================] - 0s 2ms/step - loss: 1.3936\n",
      "Epoch 48/300\n",
      "4/4 [==============================] - 0s 2ms/step - loss: 1.3621\n",
      "Epoch 49/300\n",
      "4/4 [==============================] - 0s 2ms/step - loss: 1.3337\n",
      "Epoch 50/300\n",
      "4/4 [==============================] - 0s 2ms/step - loss: 1.3051\n",
      "Epoch 51/300\n",
      "4/4 [==============================] - 0s 2ms/step - loss: 1.2791\n",
      "Epoch 52/300\n",
      "4/4 [==============================] - 0s 3ms/step - loss: 1.2527\n",
      "Epoch 53/300\n",
      "4/4 [==============================] - 0s 5ms/step - loss: 1.2274\n",
      "Epoch 54/300\n",
      "4/4 [==============================] - 0s 3ms/step - loss: 1.2015\n",
      "Epoch 55/300\n",
      "4/4 [==============================] - 0s 4ms/step - loss: 1.1773\n",
      "Epoch 56/300\n",
      "4/4 [==============================] - 0s 3ms/step - loss: 1.1508\n",
      "Epoch 57/300\n",
      "4/4 [==============================] - 0s 2ms/step - loss: 1.1265\n",
      "Epoch 58/300\n",
      "4/4 [==============================] - 0s 2ms/step - loss: 1.1022\n",
      "Epoch 59/300\n",
      "4/4 [==============================] - 0s 2ms/step - loss: 1.0776\n",
      "Epoch 60/300\n",
      "4/4 [==============================] - 0s 3ms/step - loss: 1.0551\n",
      "Epoch 61/300\n",
      "4/4 [==============================] - 0s 1ms/step - loss: 1.0328\n",
      "Epoch 62/300\n",
      "4/4 [==============================] - 0s 2ms/step - loss: 1.0091\n",
      "Epoch 63/300\n",
      "4/4 [==============================] - 0s 2ms/step - loss: 0.9868\n",
      "Epoch 64/300\n",
      "4/4 [==============================] - 0s 1ms/step - loss: 0.9634\n",
      "Epoch 65/300\n",
      "4/4 [==============================] - 0s 2ms/step - loss: 0.9418\n",
      "Epoch 66/300\n",
      "4/4 [==============================] - 0s 2ms/step - loss: 0.9191\n",
      "Epoch 67/300\n",
      "4/4 [==============================] - 0s 2ms/step - loss: 0.8975\n",
      "Epoch 68/300\n",
      "4/4 [==============================] - 0s 2ms/step - loss: 0.8761\n",
      "Epoch 69/300\n",
      "4/4 [==============================] - 0s 2ms/step - loss: 0.8554\n",
      "Epoch 70/300\n",
      "4/4 [==============================] - 0s 3ms/step - loss: 0.8357\n",
      "Epoch 71/300\n",
      "4/4 [==============================] - 0s 2ms/step - loss: 0.8159\n",
      "Epoch 72/300\n",
      "4/4 [==============================] - 0s 2ms/step - loss: 0.7969\n",
      "Epoch 73/300\n",
      "4/4 [==============================] - 0s 2ms/step - loss: 0.7777\n",
      "Epoch 74/300\n",
      "4/4 [==============================] - 0s 2ms/step - loss: 0.7582\n",
      "Epoch 75/300\n",
      "4/4 [==============================] - 0s 2ms/step - loss: 0.7393\n",
      "Epoch 76/300\n",
      "4/4 [==============================] - 0s 2ms/step - loss: 0.7203\n",
      "Epoch 77/300\n",
      "4/4 [==============================] - 0s 2ms/step - loss: 0.7014\n",
      "Epoch 78/300\n",
      "4/4 [==============================] - 0s 2ms/step - loss: 0.6840\n",
      "Epoch 79/300\n",
      "4/4 [==============================] - 0s 2ms/step - loss: 0.6665\n",
      "Epoch 80/300\n",
      "4/4 [==============================] - 0s 2ms/step - loss: 0.6496\n",
      "Epoch 81/300\n",
      "4/4 [==============================] - 0s 2ms/step - loss: 0.6324\n",
      "Epoch 82/300\n",
      "4/4 [==============================] - 0s 2ms/step - loss: 0.6158\n",
      "Epoch 83/300\n",
      "4/4 [==============================] - 0s 2ms/step - loss: 0.5998\n",
      "Epoch 84/300\n",
      "4/4 [==============================] - 0s 3ms/step - loss: 0.5833\n",
      "Epoch 85/300\n",
      "4/4 [==============================] - 0s 5ms/step - loss: 0.5688\n",
      "Epoch 86/300\n",
      "4/4 [==============================] - 0s 4ms/step - loss: 0.5538\n",
      "Epoch 87/300\n",
      "4/4 [==============================] - 0s 3ms/step - loss: 0.5388\n",
      "Epoch 88/300\n",
      "4/4 [==============================] - 0s 2ms/step - loss: 0.5250\n",
      "Epoch 89/300\n",
      "4/4 [==============================] - 0s 3ms/step - loss: 0.5113\n",
      "Epoch 90/300\n",
      "4/4 [==============================] - 0s 4ms/step - loss: 0.4979\n",
      "Epoch 91/300\n",
      "4/4 [==============================] - 0s 2ms/step - loss: 0.4858\n",
      "Epoch 92/300\n",
      "4/4 [==============================] - 0s 2ms/step - loss: 0.4734\n",
      "Epoch 93/300\n",
      "4/4 [==============================] - 0s 2ms/step - loss: 0.4607\n",
      "Epoch 94/300\n",
      "4/4 [==============================] - 0s 2ms/step - loss: 0.4486\n",
      "Epoch 95/300\n",
      "4/4 [==============================] - 0s 2ms/step - loss: 0.4362\n",
      "Epoch 96/300\n",
      "4/4 [==============================] - 0s 2ms/step - loss: 0.4246\n",
      "Epoch 97/300\n",
      "4/4 [==============================] - 0s 2ms/step - loss: 0.4132\n",
      "Epoch 98/300\n",
      "4/4 [==============================] - 0s 2ms/step - loss: 0.4018\n",
      "Epoch 99/300\n",
      "4/4 [==============================] - 0s 2ms/step - loss: 0.3899\n",
      "Epoch 100/300\n",
      "4/4 [==============================] - 0s 2ms/step - loss: 0.3784\n",
      "Epoch 101/300\n",
      "4/4 [==============================] - 0s 2ms/step - loss: 0.3666\n",
      "Epoch 102/300\n",
      "4/4 [==============================] - 0s 2ms/step - loss: 0.3553\n",
      "Epoch 103/300\n",
      "4/4 [==============================] - 0s 1ms/step - loss: 0.3449\n",
      "Epoch 104/300\n"
     ]
    },
    {
     "name": "stdout",
     "output_type": "stream",
     "text": [
      "4/4 [==============================] - 0s 2ms/step - loss: 0.3343\n",
      "Epoch 105/300\n",
      "4/4 [==============================] - 0s 2ms/step - loss: 0.3241\n",
      "Epoch 106/300\n",
      "4/4 [==============================] - 0s 6ms/step - loss: 0.3137\n",
      "Epoch 107/300\n",
      "4/4 [==============================] - 0s 13ms/step - loss: 0.3036\n",
      "Epoch 108/300\n",
      "4/4 [==============================] - 0s 3ms/step - loss: 0.2943\n",
      "Epoch 109/300\n",
      "4/4 [==============================] - 0s 4ms/step - loss: 0.2845\n",
      "Epoch 110/300\n",
      "4/4 [==============================] - 0s 3ms/step - loss: 0.2757\n",
      "Epoch 111/300\n",
      "4/4 [==============================] - 0s 2ms/step - loss: 0.2673\n",
      "Epoch 112/300\n",
      "4/4 [==============================] - 0s 3ms/step - loss: 0.2583\n",
      "Epoch 113/300\n",
      "4/4 [==============================] - 0s 2ms/step - loss: 0.2502\n",
      "Epoch 114/300\n",
      "4/4 [==============================] - 0s 4ms/step - loss: 0.2417\n",
      "Epoch 115/300\n",
      "4/4 [==============================] - 0s 2ms/step - loss: 0.2340\n",
      "Epoch 116/300\n",
      "4/4 [==============================] - 0s 2ms/step - loss: 0.2263\n",
      "Epoch 117/300\n",
      "4/4 [==============================] - 0s 2ms/step - loss: 0.2186\n",
      "Epoch 118/300\n",
      "4/4 [==============================] - 0s 2ms/step - loss: 0.2115\n",
      "Epoch 119/300\n",
      "4/4 [==============================] - 0s 3ms/step - loss: 0.2040\n",
      "Epoch 120/300\n",
      "4/4 [==============================] - 0s 2ms/step - loss: 0.1975\n",
      "Epoch 121/300\n",
      "4/4 [==============================] - 0s 2ms/step - loss: 0.1909\n",
      "Epoch 122/300\n",
      "4/4 [==============================] - 0s 2ms/step - loss: 0.1846\n",
      "Epoch 123/300\n",
      "4/4 [==============================] - 0s 2ms/step - loss: 0.1784\n",
      "Epoch 124/300\n",
      "4/4 [==============================] - 0s 1ms/step - loss: 0.1727\n",
      "Epoch 125/300\n",
      "4/4 [==============================] - 0s 2ms/step - loss: 0.1673\n",
      "Epoch 126/300\n",
      "4/4 [==============================] - 0s 2ms/step - loss: 0.1617\n",
      "Epoch 127/300\n",
      "4/4 [==============================] - 0s 2ms/step - loss: 0.1566\n",
      "Epoch 128/300\n",
      "4/4 [==============================] - 0s 2ms/step - loss: 0.1513\n",
      "Epoch 129/300\n",
      "4/4 [==============================] - 0s 2ms/step - loss: 0.1461\n",
      "Epoch 130/300\n",
      "4/4 [==============================] - 0s 2ms/step - loss: 0.1409\n",
      "Epoch 131/300\n",
      "4/4 [==============================] - 0s 2ms/step - loss: 0.1361\n",
      "Epoch 132/300\n",
      "4/4 [==============================] - 0s 2ms/step - loss: 0.1314\n",
      "Epoch 133/300\n",
      "4/4 [==============================] - 0s 2ms/step - loss: 0.1266\n",
      "Epoch 134/300\n",
      "4/4 [==============================] - 0s 2ms/step - loss: 0.1221\n",
      "Epoch 135/300\n",
      "4/4 [==============================] - 0s 3ms/step - loss: 0.1177\n",
      "Epoch 136/300\n",
      "4/4 [==============================] - 0s 3ms/step - loss: 0.1135\n",
      "Epoch 137/300\n",
      "4/4 [==============================] - 0s 2ms/step - loss: 0.1093\n",
      "Epoch 138/300\n",
      "4/4 [==============================] - 0s 2ms/step - loss: 0.1054\n",
      "Epoch 139/300\n",
      "4/4 [==============================] - 0s 2ms/step - loss: 0.1014\n",
      "Epoch 140/300\n",
      "4/4 [==============================] - 0s 2ms/step - loss: 0.0976\n",
      "Epoch 141/300\n",
      "4/4 [==============================] - 0s 2ms/step - loss: 0.0939\n",
      "Epoch 142/300\n",
      "4/4 [==============================] - 0s 2ms/step - loss: 0.0902\n",
      "Epoch 143/300\n",
      "4/4 [==============================] - 0s 2ms/step - loss: 0.0865\n",
      "Epoch 144/300\n",
      "4/4 [==============================] - 0s 3ms/step - loss: 0.0833\n",
      "Epoch 145/300\n",
      "4/4 [==============================] - 0s 3ms/step - loss: 0.0801\n",
      "Epoch 146/300\n",
      "4/4 [==============================] - 0s 2ms/step - loss: 0.0770\n",
      "Epoch 147/300\n",
      "4/4 [==============================] - 0s 2ms/step - loss: 0.0741\n",
      "Epoch 148/300\n",
      "4/4 [==============================] - 0s 3ms/step - loss: 0.0713\n",
      "Epoch 149/300\n",
      "4/4 [==============================] - 0s 3ms/step - loss: 0.0687\n",
      "Epoch 150/300\n",
      "4/4 [==============================] - 0s 2ms/step - loss: 0.0662\n",
      "Epoch 151/300\n",
      "4/4 [==============================] - 0s 2ms/step - loss: 0.0641\n",
      "Epoch 152/300\n",
      "4/4 [==============================] - 0s 2ms/step - loss: 0.0618\n",
      "Epoch 153/300\n",
      "4/4 [==============================] - 0s 2ms/step - loss: 0.0593\n",
      "Epoch 154/300\n",
      "4/4 [==============================] - 0s 2ms/step - loss: 0.0570\n",
      "Epoch 155/300\n",
      "4/4 [==============================] - 0s 2ms/step - loss: 0.0547\n",
      "Epoch 156/300\n",
      "4/4 [==============================] - 0s 2ms/step - loss: 0.0527\n",
      "Epoch 157/300\n",
      "4/4 [==============================] - 0s 2ms/step - loss: 0.0508\n",
      "Epoch 158/300\n",
      "4/4 [==============================] - 0s 3ms/step - loss: 0.0488\n",
      "Epoch 159/300\n",
      "4/4 [==============================] - 0s 2ms/step - loss: 0.0469\n",
      "Epoch 160/300\n",
      "4/4 [==============================] - 0s 3ms/step - loss: 0.0450\n",
      "Epoch 161/300\n",
      "4/4 [==============================] - 0s 3ms/step - loss: 0.0430\n",
      "Epoch 162/300\n",
      "4/4 [==============================] - 0s 2ms/step - loss: 0.0413\n",
      "Epoch 163/300\n",
      "4/4 [==============================] - 0s 3ms/step - loss: 0.0396\n",
      "Epoch 164/300\n",
      "4/4 [==============================] - 0s 2ms/step - loss: 0.0379\n",
      "Epoch 165/300\n",
      "4/4 [==============================] - 0s 2ms/step - loss: 0.0365\n",
      "Epoch 166/300\n",
      "4/4 [==============================] - 0s 2ms/step - loss: 0.0350\n",
      "Epoch 167/300\n",
      "4/4 [==============================] - 0s 2ms/step - loss: 0.0336\n",
      "Epoch 168/300\n",
      "4/4 [==============================] - 0s 2ms/step - loss: 0.0322\n",
      "Epoch 169/300\n",
      "4/4 [==============================] - 0s 2ms/step - loss: 0.0309\n",
      "Epoch 170/300\n",
      "4/4 [==============================] - 0s 2ms/step - loss: 0.0296\n",
      "Epoch 171/300\n",
      "4/4 [==============================] - 0s 2ms/step - loss: 0.0283\n",
      "Epoch 172/300\n",
      "4/4 [==============================] - 0s 2ms/step - loss: 0.0272\n",
      "Epoch 173/300\n",
      "4/4 [==============================] - 0s 3ms/step - loss: 0.0261\n",
      "Epoch 174/300\n",
      "4/4 [==============================] - 0s 2ms/step - loss: 0.0250\n",
      "Epoch 175/300\n",
      "4/4 [==============================] - 0s 2ms/step - loss: 0.0239\n",
      "Epoch 176/300\n",
      "4/4 [==============================] - 0s 2ms/step - loss: 0.0229\n",
      "Epoch 177/300\n",
      "4/4 [==============================] - 0s 3ms/step - loss: 0.0219\n",
      "Epoch 178/300\n",
      "4/4 [==============================] - 0s 2ms/step - loss: 0.0210\n",
      "Epoch 179/300\n",
      "4/4 [==============================] - 0s 3ms/step - loss: 0.0201\n",
      "Epoch 180/300\n",
      "4/4 [==============================] - 0s 2ms/step - loss: 0.0193\n",
      "Epoch 181/300\n",
      "4/4 [==============================] - 0s 2ms/step - loss: 0.0185\n",
      "Epoch 182/300\n",
      "4/4 [==============================] - 0s 2ms/step - loss: 0.0178\n",
      "Epoch 183/300\n",
      "4/4 [==============================] - 0s 2ms/step - loss: 0.0171\n",
      "Epoch 184/300\n",
      "4/4 [==============================] - 0s 2ms/step - loss: 0.0164\n",
      "Epoch 185/300\n",
      "4/4 [==============================] - 0s 2ms/step - loss: 0.0157\n",
      "Epoch 186/300\n",
      "4/4 [==============================] - 0s 2ms/step - loss: 0.0150\n",
      "Epoch 187/300\n",
      "4/4 [==============================] - 0s 2ms/step - loss: 0.0144\n",
      "Epoch 188/300\n",
      "4/4 [==============================] - 0s 2ms/step - loss: 0.0137\n",
      "Epoch 189/300\n",
      "4/4 [==============================] - 0s 2ms/step - loss: 0.0131\n",
      "Epoch 190/300\n",
      "4/4 [==============================] - 0s 4ms/step - loss: 0.0125\n",
      "Epoch 191/300\n",
      "4/4 [==============================] - 0s 3ms/step - loss: 0.0119\n",
      "Epoch 192/300\n",
      "4/4 [==============================] - 0s 6ms/step - loss: 0.0114\n",
      "Epoch 193/300\n",
      "4/4 [==============================] - 0s 4ms/step - loss: 0.0109\n",
      "Epoch 194/300\n",
      "4/4 [==============================] - 0s 3ms/step - loss: 0.0104\n",
      "Epoch 195/300\n",
      "4/4 [==============================] - 0s 3ms/step - loss: 0.0099\n",
      "Epoch 196/300\n",
      "4/4 [==============================] - 0s 2ms/step - loss: 0.0094\n",
      "Epoch 197/300\n",
      "4/4 [==============================] - 0s 3ms/step - loss: 0.0090\n",
      "Epoch 198/300\n",
      "4/4 [==============================] - 0s 2ms/step - loss: 0.0086\n",
      "Epoch 199/300\n",
      "4/4 [==============================] - 0s 2ms/step - loss: 0.0082\n",
      "Epoch 200/300\n",
      "4/4 [==============================] - 0s 3ms/step - loss: 0.0078\n",
      "Epoch 201/300\n",
      "4/4 [==============================] - 0s 3ms/step - loss: 0.0074\n",
      "Epoch 202/300\n",
      "4/4 [==============================] - 0s 4ms/step - loss: 0.0071\n",
      "Epoch 203/300\n",
      "4/4 [==============================] - 0s 3ms/step - loss: 0.0067\n",
      "Epoch 204/300\n",
      "4/4 [==============================] - 0s 2ms/step - loss: 0.0064\n",
      "Epoch 205/300\n",
      "4/4 [==============================] - 0s 2ms/step - loss: 0.0061\n",
      "Epoch 206/300\n"
     ]
    },
    {
     "name": "stdout",
     "output_type": "stream",
     "text": [
      "4/4 [==============================] - 0s 2ms/step - loss: 0.0058\n",
      "Epoch 207/300\n",
      "4/4 [==============================] - 0s 2ms/step - loss: 0.0055\n",
      "Epoch 208/300\n",
      "4/4 [==============================] - 0s 2ms/step - loss: 0.0053\n",
      "Epoch 209/300\n",
      "4/4 [==============================] - 0s 2ms/step - loss: 0.0050\n",
      "Epoch 210/300\n",
      "4/4 [==============================] - 0s 1ms/step - loss: 0.0048\n",
      "Epoch 211/300\n",
      "4/4 [==============================] - 0s 2ms/step - loss: 0.0045\n",
      "Epoch 212/300\n",
      "4/4 [==============================] - 0s 2ms/step - loss: 0.0043\n",
      "Epoch 213/300\n",
      "4/4 [==============================] - 0s 3ms/step - loss: 0.0041\n",
      "Epoch 214/300\n",
      "4/4 [==============================] - 0s 2ms/step - loss: 0.0039\n",
      "Epoch 215/300\n",
      "4/4 [==============================] - 0s 2ms/step - loss: 0.0037\n",
      "Epoch 216/300\n",
      "4/4 [==============================] - 0s 2ms/step - loss: 0.0035\n",
      "Epoch 217/300\n",
      "4/4 [==============================] - ETA: 0s - loss: 0.003 - 0s 2ms/step - loss: 0.0033\n",
      "Epoch 218/300\n",
      "4/4 [==============================] - 0s 2ms/step - loss: 0.0032\n",
      "Epoch 219/300\n",
      "4/4 [==============================] - 0s 3ms/step - loss: 0.0030\n",
      "Epoch 220/300\n",
      "4/4 [==============================] - 0s 6ms/step - loss: 0.0028\n",
      "Epoch 221/300\n",
      "4/4 [==============================] - 0s 10ms/step - loss: 0.0027\n",
      "Epoch 222/300\n",
      "4/4 [==============================] - 0s 8ms/step - loss: 0.0025\n",
      "Epoch 223/300\n",
      "4/4 [==============================] - 0s 5ms/step - loss: 0.0024\n",
      "Epoch 224/300\n",
      "4/4 [==============================] - 0s 4ms/step - loss: 0.0023\n",
      "Epoch 225/300\n",
      "4/4 [==============================] - 0s 2ms/step - loss: 0.0022\n",
      "Epoch 226/300\n",
      "4/4 [==============================] - 0s 2ms/step - loss: 0.0020\n",
      "Epoch 227/300\n",
      "4/4 [==============================] - 0s 2ms/step - loss: 0.0019\n",
      "Epoch 228/300\n",
      "4/4 [==============================] - 0s 2ms/step - loss: 0.0018\n",
      "Epoch 229/300\n",
      "4/4 [==============================] - 0s 2ms/step - loss: 0.0017\n",
      "Epoch 230/300\n",
      "4/4 [==============================] - 0s 2ms/step - loss: 0.0016\n",
      "Epoch 231/300\n",
      "4/4 [==============================] - 0s 2ms/step - loss: 0.0016\n",
      "Epoch 232/300\n",
      "4/4 [==============================] - 0s 5ms/step - loss: 0.0015\n",
      "Epoch 233/300\n",
      "4/4 [==============================] - 0s 5ms/step - loss: 0.0014\n",
      "Epoch 234/300\n",
      "4/4 [==============================] - 0s 2ms/step - loss: 0.0013\n",
      "Epoch 235/300\n",
      "4/4 [==============================] - 0s 5ms/step - loss: 0.0013\n",
      "Epoch 236/300\n",
      "4/4 [==============================] - 0s 5ms/step - loss: 0.0012\n",
      "Epoch 237/300\n",
      "4/4 [==============================] - 0s 5ms/step - loss: 0.0011\n",
      "Epoch 238/300\n",
      "4/4 [==============================] - 0s 4ms/step - loss: 0.0011\n",
      "Epoch 239/300\n",
      "4/4 [==============================] - 0s 4ms/step - loss: 9.9974e-04\n",
      "Epoch 240/300\n",
      "4/4 [==============================] - 0s 2ms/step - loss: 9.4314e-04\n",
      "Epoch 241/300\n",
      "4/4 [==============================] - 0s 2ms/step - loss: 8.8765e-04\n",
      "Epoch 242/300\n",
      "4/4 [==============================] - 0s 2ms/step - loss: 8.3437e-04\n",
      "Epoch 243/300\n",
      "4/4 [==============================] - 0s 2ms/step - loss: 7.8914e-04\n",
      "Epoch 244/300\n",
      "4/4 [==============================] - 0s 2ms/step - loss: 7.4774e-04\n",
      "Epoch 245/300\n",
      "4/4 [==============================] - 0s 3ms/step - loss: 7.0996e-04\n",
      "Epoch 246/300\n",
      "4/4 [==============================] - 0s 2ms/step - loss: 6.7148e-04\n",
      "Epoch 247/300\n",
      "4/4 [==============================] - 0s 3ms/step - loss: 6.3385e-04\n",
      "Epoch 248/300\n",
      "4/4 [==============================] - 0s 3ms/step - loss: 5.9637e-04\n",
      "Epoch 249/300\n",
      "4/4 [==============================] - 0s 2ms/step - loss: 5.5963e-04\n",
      "Epoch 250/300\n",
      "4/4 [==============================] - 0s 3ms/step - loss: 5.2576e-04\n",
      "Epoch 251/300\n",
      "4/4 [==============================] - 0s 2ms/step - loss: 4.9388e-04\n",
      "Epoch 252/300\n",
      "4/4 [==============================] - 0s 4ms/step - loss: 4.6336e-04\n",
      "Epoch 253/300\n",
      "4/4 [==============================] - 0s 4ms/step - loss: 4.3761e-04\n",
      "Epoch 254/300\n",
      "4/4 [==============================] - 0s 2ms/step - loss: 4.1405e-04\n",
      "Epoch 255/300\n",
      "4/4 [==============================] - 0s 2ms/step - loss: 3.9133e-04\n",
      "Epoch 256/300\n",
      "4/4 [==============================] - 0s 3ms/step - loss: 3.6905e-04\n",
      "Epoch 257/300\n",
      "4/4 [==============================] - 0s 3ms/step - loss: 3.4660e-04\n",
      "Epoch 258/300\n",
      "4/4 [==============================] - 0s 3ms/step - loss: 3.2636e-04\n",
      "Epoch 259/300\n",
      "4/4 [==============================] - 0s 2ms/step - loss: 3.0635e-04\n",
      "Epoch 260/300\n",
      "4/4 [==============================] - 0s 5ms/step - loss: 2.8855e-04\n",
      "Epoch 261/300\n",
      "4/4 [==============================] - 0s 10ms/step - loss: 2.7197e-04\n",
      "Epoch 262/300\n",
      "4/4 [==============================] - 0s 6ms/step - loss: 2.5574e-04\n",
      "Epoch 263/300\n",
      "4/4 [==============================] - 0s 4ms/step - loss: 2.4193e-04\n",
      "Epoch 264/300\n",
      "4/4 [==============================] - 0s 6ms/step - loss: 2.2604e-04\n",
      "Epoch 265/300\n",
      "4/4 [==============================] - 0s 4ms/step - loss: 2.1197e-04\n",
      "Epoch 266/300\n",
      "4/4 [==============================] - 0s 2ms/step - loss: 1.9784e-04\n",
      "Epoch 267/300\n",
      "4/4 [==============================] - 0s 2ms/step - loss: 1.8515e-04\n",
      "Epoch 268/300\n",
      "4/4 [==============================] - 0s 3ms/step - loss: 1.7375e-04\n",
      "Epoch 269/300\n",
      "4/4 [==============================] - 0s 2ms/step - loss: 1.6289e-04\n",
      "Epoch 270/300\n",
      "4/4 [==============================] - 0s 2ms/step - loss: 1.5314e-04\n",
      "Epoch 271/300\n",
      "4/4 [==============================] - 0s 3ms/step - loss: 1.4394e-04\n",
      "Epoch 272/300\n",
      "4/4 [==============================] - 0s 2ms/step - loss: 1.3509e-04\n",
      "Epoch 273/300\n",
      "4/4 [==============================] - 0s 3ms/step - loss: 1.2669e-04\n",
      "Epoch 274/300\n",
      "4/4 [==============================] - 0s 2ms/step - loss: 1.1931e-04\n",
      "Epoch 275/300\n",
      "4/4 [==============================] - 0s 3ms/step - loss: 1.1246e-04\n",
      "Epoch 276/300\n",
      "4/4 [==============================] - 0s 2ms/step - loss: 1.0573e-04\n",
      "Epoch 277/300\n",
      "4/4 [==============================] - 0s 2ms/step - loss: 9.9376e-05\n",
      "Epoch 278/300\n",
      "4/4 [==============================] - 0s 2ms/step - loss: 9.3166e-05\n",
      "Epoch 279/300\n",
      "4/4 [==============================] - 0s 2ms/step - loss: 8.7626e-05\n",
      "Epoch 280/300\n",
      "4/4 [==============================] - 0s 2ms/step - loss: 8.2213e-05\n",
      "Epoch 281/300\n",
      "4/4 [==============================] - 0s 4ms/step - loss: 7.7137e-05\n",
      "Epoch 282/300\n",
      "4/4 [==============================] - 0s 2ms/step - loss: 7.2466e-05\n",
      "Epoch 283/300\n",
      "4/4 [==============================] - 0s 2ms/step - loss: 6.7741e-05\n",
      "Epoch 284/300\n",
      "4/4 [==============================] - 0s 2ms/step - loss: 6.3530e-05\n",
      "Epoch 285/300\n",
      "4/4 [==============================] - 0s 3ms/step - loss: 5.9728e-05\n",
      "Epoch 286/300\n",
      "4/4 [==============================] - 0s 4ms/step - loss: 5.6092e-05\n",
      "Epoch 287/300\n",
      "4/4 [==============================] - 0s 4ms/step - loss: 5.2563e-05\n",
      "Epoch 288/300\n",
      "4/4 [==============================] - 0s 4ms/step - loss: 4.9468e-05\n",
      "Epoch 289/300\n",
      "4/4 [==============================] - 0s 2ms/step - loss: 4.6372e-05\n",
      "Epoch 290/300\n",
      "4/4 [==============================] - 0s 2ms/step - loss: 4.3412e-05\n",
      "Epoch 291/300\n",
      "4/4 [==============================] - 0s 3ms/step - loss: 4.0681e-05\n",
      "Epoch 292/300\n",
      "4/4 [==============================] - 0s 3ms/step - loss: 3.7937e-05\n",
      "Epoch 293/300\n",
      "4/4 [==============================] - 0s 2ms/step - loss: 3.5405e-05\n",
      "Epoch 294/300\n",
      "4/4 [==============================] - 0s 3ms/step - loss: 3.3078e-05\n",
      "Epoch 295/300\n",
      "4/4 [==============================] - 0s 2ms/step - loss: 3.0803e-05\n",
      "Epoch 296/300\n",
      "4/4 [==============================] - 0s 3ms/step - loss: 2.8888e-05\n",
      "Epoch 297/300\n",
      "4/4 [==============================] - 0s 3ms/step - loss: 2.7029e-05\n",
      "Epoch 298/300\n",
      "4/4 [==============================] - 0s 2ms/step - loss: 2.5268e-05\n",
      "Epoch 299/300\n",
      "4/4 [==============================] - 0s 2ms/step - loss: 2.3606e-05\n",
      "Epoch 300/300\n",
      "4/4 [==============================] - 0s 2ms/step - loss: 2.2064e-05\n",
      "\n",
      "추정 결과 :\n",
      "w1 = 2.00\n",
      "w2 = 3.00\n",
      "b = 4.99\n"
     ]
    },
    {
     "data": {
      "image/png": "[encoded data removed]",
      "text/plain": [
       "<Figure size 432x288 with 1 Axes>"
      ]
     },
     "metadata": {
      "needs_background": "light"
     },
     "output_type": "display_data"
    }
   ],
   "source": [
    "from tensorflow.keras.layers import Input, Dense\n",
    "from tensorflow.keras.models import Model\n",
    "from tensorflow.keras import optimizers\n",
    "import numpy as np\n",
    "import matplotlib.pyplot as plt\n",
    "\n",
    "# y = 2x^2 + 3x + 5 일 때 x, y 집합을 생성한다\n",
    "x = np.array(np.arange(-5, 5, 0.1))\n",
    "y = 2 * x * x + 3 * x + 5\n",
    "dataX = np.stack([x*x, x]).T\n",
    "\n",
    "# 그래프를 생성한다.   \n",
    "xInput = Input(batch_shape=(None, 2))\n",
    "yOutput = Dense(1)(xInput)\n",
    "\n",
    "# 처음 인풋과 아웃풋 지정하기\n",
    "model = Model(xInput, yOutput)\n",
    "model.compile(loss='mse', optimizer = optimizers.Adam(lr=0.05))\n",
    "h = model.fit(dataX, y, epochs = 300)\n",
    "\n",
    "# 학습 결과를 확인한다.\n",
    "parameters = model.layers[1].get_weights()\n",
    "print(\"\\n추정 결과 :\")\n",
    "print(\"w1 = %.2f\" % parameters[0][0][0])\n",
    "print(\"w2 = %.2f\" % parameters[0][1][0])\n",
    "print(\"b = %.2f\" % parameters[1][0])\n",
    "\n",
    "plt.plot(h.history['loss'], color='red', linewidth=1)\n",
    "plt.title(\"Loss function\")\n",
    "plt.xlabel(\"epoch\")\n",
    "plt.ylabel(\"loss\")\n",
    "plt.show()"
   ]
  },
  {
   "cell_type": "code",
   "execution_count": 79,
   "metadata": {},
   "outputs": [
    {
     "name": "stdout",
     "output_type": "stream",
     "text": [
      "Model: \"model_5\"\n",
      "_________________________________________________________________\n",
      "Layer (type)                 Output Shape              Param #   \n",
      "=================================================================\n",
      "input_6 (InputLayer)         [(None, 2)]               0         \n",
      "_________________________________________________________________\n",
      "dense_16 (Dense)             (None, 1)                 3         \n",
      "=================================================================\n",
      "Total params: 3\n",
      "Trainable params: 3\n",
      "Non-trainable params: 0\n",
      "_________________________________________________________________\n"
     ]
    }
   ],
   "source": [
    "model.summary()"
   ]
  },
  {
   "cell_type": "markdown",
   "metadata": {
    "id": "u5TMzq2QUVZB"
   },
   "source": [
    "# tensorflow 1.4로 iris 분류"
   ]
  },
  {
   "cell_type": "code",
   "execution_count": 81,
   "metadata": {
    "colab": {
     "base_uri": "https://localhost:8080/"
    },
    "executionInfo": {
     "elapsed": 8,
     "status": "ok",
     "timestamp": 1626304896354,
     "user": {
      "displayName": "홍경수",
      "photoUrl": "",
      "userId": "10514684854108920109"
     },
     "user_tz": -540
    },
    "id": "Zc5vfrCgUVZB",
    "outputId": "98b3913c-396a-4642-c107-8163f4927a9b"
   },
   "outputs": [
    {
     "name": "stdout",
     "output_type": "stream",
     "text": [
      "WARNING:tensorflow:From /Users/ryleyun/opt/anaconda3/envs/nlppython/lib/python3.8/site-packages/tensorflow/python/compat/v2_compat.py:96: disable_resource_variables (from tensorflow.python.ops.variable_scope) is deprecated and will be removed in a future version.\n",
      "Instructions for updating:\n",
      "non-resource variables are not supported in the long term\n"
     ]
    }
   ],
   "source": [
    "import tensorflow.compat.v1 as tf\n",
    "tf.disable_v2_behavior()"
   ]
  },
  {
   "cell_type": "code",
   "execution_count": 82,
   "metadata": {
    "id": "xFB4RXdIUVZC"
   },
   "outputs": [],
   "source": [
    "import numpy as np\n",
    "import pandas as pd\n",
    "from sklearn import datasets"
   ]
  },
  {
   "cell_type": "code",
   "execution_count": 85,
   "metadata": {
    "id": "59u6ehyDUVZC"
   },
   "outputs": [],
   "source": [
    "iris = datasets.load_iris()\n",
    "iris_X = iris.data\n",
    "# get_dummies를 통해 onehot 형태로 라벨 바꿔주기\n",
    "iris_y = pd.get_dummies(iris.target).to_numpy()"
   ]
  },
  {
   "cell_type": "code",
   "execution_count": 86,
   "metadata": {
    "id": "QNaVEl9pUVZC"
   },
   "outputs": [],
   "source": [
    "from sklearn.model_selection import train_test_split\n",
    "train_X, test_X, train_y, test_y = train_test_split(iris_X, iris_y, \n",
    "                                                    test_size=0.3,\n",
    "                                                    random_state=1)"
   ]
  },
  {
   "cell_type": "code",
   "execution_count": 87,
   "metadata": {
    "id": "XYRgUGfPUVZC"
   },
   "outputs": [],
   "source": [
    "# X와 y를 저장할 변수 선언 (단순히 공간을 만드는 것 - 값은 아직 없음)\n",
    "x = tf.placeholder(tf.float32, [None, 4]) # 변수 수가 4개\n",
    "y = tf.placeholder(tf.float32, [None, 3]) # 분류 클래스 수가 3개"
   ]
  },
  {
   "cell_type": "code",
   "execution_count": 89,
   "metadata": {
    "id": "8vhbTCe9UVZC"
   },
   "outputs": [],
   "source": [
    "# Weight와 bias를 저장할 변수 선언\n",
    "# zeros보다는 random하는 게 나을 듯\n",
    "W = tf.Variable(tf.zeros([4, 3]))\n",
    "b = tf.Variable(tf.zeros([3]))"
   ]
  },
  {
   "cell_type": "code",
   "execution_count": 90,
   "metadata": {
    "id": "e55w6XmWUVZD"
   },
   "outputs": [],
   "source": [
    "# 출력을 정의\n",
    "h = tf.nn.softmax(tf.matmul(x, W) + b)"
   ]
  },
  {
   "cell_type": "code",
   "execution_count": 91,
   "metadata": {
    "id": "Cw_6BUXwUVZD"
   },
   "outputs": [],
   "source": [
    "# 손실함수 정의\n",
    "cross_entropy = -tf.reduce_sum(y*tf.log(h), reduction_indices=[1])\n",
    "loss = tf.reduce_mean(cross_entropy)"
   ]
  },
  {
   "cell_type": "code",
   "execution_count": 92,
   "metadata": {
    "id": "f0woAbdmUVZD"
   },
   "outputs": [],
   "source": [
    "# 학습(훈련) 정의(옵티마이저, 학습률)\n",
    "train = tf.train.GradientDescentOptimizer(0.001).minimize(loss)"
   ]
  },
  {
   "cell_type": "code",
   "execution_count": 93,
   "metadata": {
    "id": "I2vcWLkQUVZD"
   },
   "outputs": [],
   "source": [
    "init = tf.global_variables_initializer()"
   ]
  },
  {
   "cell_type": "code",
   "execution_count": 94,
   "metadata": {
    "id": "BDS7YO-vUVZD"
   },
   "outputs": [],
   "source": [
    "# tf1 은 세션 필요\n",
    "sess = tf.Session()\n",
    "sess.run(init)"
   ]
  },
  {
   "cell_type": "code",
   "execution_count": 95,
   "metadata": {
    "colab": {
     "base_uri": "https://localhost:8080/"
    },
    "executionInfo": {
     "elapsed": 53441,
     "status": "ok",
     "timestamp": 1626304950769,
     "user": {
      "displayName": "홍경수",
      "photoUrl": "",
      "userId": "10514684854108920109"
     },
     "user_tz": -540
    },
    "id": "6j4c7RWYUVZD",
    "outputId": "3e8e3e43-e63e-4a46-cf24-52f5e6f59ba7"
   },
   "outputs": [
    {
     "name": "stdout",
     "output_type": "stream",
     "text": [
      "0 1.0986123\n",
      "10000 0.34161025\n",
      "20000 0.25733852\n",
      "30000 0.21406321\n",
      "40000 0.18752667\n",
      "50000 0.16956551\n",
      "60000 0.1565753\n",
      "70000 0.14672597\n",
      "80000 0.13898851\n",
      "90000 0.13273859\n"
     ]
    }
   ],
   "source": [
    "for i in range(100000):\n",
    "    _, loss_value = sess.run([train, loss], feed_dict={x:train_X, y:train_y})\n",
    "    if i%10000 == 0:\n",
    "        print(i, loss_value)"
   ]
  },
  {
   "cell_type": "code",
   "execution_count": 96,
   "metadata": {
    "id": "_1Lkewd6UVZD"
   },
   "outputs": [],
   "source": [
    "correct_prediction = tf.equal(tf.argmax(h, 1), tf.argmax(y, 1))"
   ]
  },
  {
   "cell_type": "code",
   "execution_count": 97,
   "metadata": {
    "id": "hBb9CH2aUVZD"
   },
   "outputs": [],
   "source": [
    "accuracy = tf.reduce_mean(tf.cast(correct_prediction, tf.float32))"
   ]
  },
  {
   "cell_type": "code",
   "execution_count": 98,
   "metadata": {
    "colab": {
     "base_uri": "https://localhost:8080/"
    },
    "executionInfo": {
     "elapsed": 9,
     "status": "ok",
     "timestamp": 1626304950770,
     "user": {
      "displayName": "홍경수",
      "photoUrl": "",
      "userId": "10514684854108920109"
     },
     "user_tz": -540
    },
    "id": "9RygeGo_UVZD",
    "outputId": "f6804ad6-7ccc-457e-f543-e1d8ad37ed3e"
   },
   "outputs": [
    {
     "name": "stdout",
     "output_type": "stream",
     "text": [
      "0.9777778\n"
     ]
    }
   ],
   "source": [
    "print(sess.run(accuracy, feed_dict={x:test_X, y:test_y}))"
   ]
  },
  {
   "cell_type": "markdown",
   "metadata": {
    "id": "1Cxn9jTFUVZE"
   },
   "source": [
    "# Keras "
   ]
  },
  {
   "cell_type": "code",
   "execution_count": null,
   "metadata": {
    "id": "yY-aZE_6UVZE"
   },
   "outputs": [],
   "source": [
    "import tensorflow as tf"
   ]
  },
  {
   "cell_type": "code",
   "execution_count": null,
   "metadata": {
    "id": "2qXo5Vi0UVZE"
   },
   "outputs": [],
   "source": [
    "# example of a model defined with the sequential api\n",
    "from tensorflow.keras import Sequential\n",
    "from tensorflow.keras.layers import Dense\n",
    "from tensorflow.keras import optimizers"
   ]
  },
  {
   "cell_type": "code",
   "execution_count": null,
   "metadata": {
    "id": "lM8_Vcg8UVZE"
   },
   "outputs": [],
   "source": []
  },
  {
   "cell_type": "code",
   "execution_count": null,
   "metadata": {
    "colab": {
     "base_uri": "https://localhost:8080/"
    },
    "executionInfo": {
     "elapsed": 1263,
     "status": "ok",
     "timestamp": 1626305040074,
     "user": {
      "displayName": "홍경수",
      "photoUrl": "",
      "userId": "10514684854108920109"
     },
     "user_tz": -540
    },
    "id": "Ln6qUZg3UVZE",
    "outputId": "8ddd227e-a47c-465f-df71-26fb09fd7447"
   },
   "outputs": [
    {
     "name": "stdout",
     "output_type": "stream",
     "text": [
      "CPU times: user 3 µs, sys: 0 ns, total: 3 µs\n",
      "Wall time: 5.96 µs\n",
      "Test Accuracy: 0.933\n"
     ]
    },
    {
     "name": "stderr",
     "output_type": "stream",
     "text": [
      "/usr/local/lib/python3.7/dist-packages/tensorflow/python/keras/engine/training.py:2426: UserWarning: `Model.state_updates` will be removed in a future version. This property should not be used in TensorFlow 2.0, as `updates` are applied automatically.\n",
      "  warnings.warn('`Model.state_updates` will be removed in a future version. '\n"
     ]
    }
   ],
   "source": [
    "%time\n"
   ]
  },
  {
   "cell_type": "code",
   "execution_count": null,
   "metadata": {
    "colab": {
     "base_uri": "https://localhost:8080/"
    },
    "executionInfo": {
     "elapsed": 1286,
     "status": "ok",
     "timestamp": 1626305114683,
     "user": {
      "displayName": "홍경수",
      "photoUrl": "",
      "userId": "10514684854108920109"
     },
     "user_tz": -540
    },
    "id": "_T4edekXUVZE",
    "outputId": "58eb44cc-c581-4fae-efaa-482dc6d577d9"
   },
   "outputs": [
    {
     "name": "stdout",
     "output_type": "stream",
     "text": [
      "CPU times: user 3 µs, sys: 0 ns, total: 3 µs\n",
      "Wall time: 5.48 µs\n",
      "Test Accuracy: 1.000\n"
     ]
    },
    {
     "name": "stderr",
     "output_type": "stream",
     "text": [
      "/usr/local/lib/python3.7/dist-packages/tensorflow/python/keras/engine/training.py:2426: UserWarning: `Model.state_updates` will be removed in a future version. This property should not be used in TensorFlow 2.0, as `updates` are applied automatically.\n",
      "  warnings.warn('`Model.state_updates` will be removed in a future version. '\n"
     ]
    }
   ],
   "source": [
    "\n",
    "%time\n"
   ]
  },
  {
   "cell_type": "markdown",
   "metadata": {
    "id": "MgavoEvmUVZE"
   },
   "source": [
    "# Functional API"
   ]
  },
  {
   "cell_type": "code",
   "execution_count": null,
   "metadata": {
    "id": "e4bzvxLVUVZE"
   },
   "outputs": [],
   "source": [
    "i     = Input(shape=(n_features,)) # 입력레이어\n",
    "n     = Dense(10)(i)\n",
    "n     = Dense(8)(n)\n",
    "o     = Dense(3, activation='softmax')(n) # 출력레이어\n",
    "model = Model(inputs=i, outputs=o) # 모델을 만든다"
   ]
  },
  {
   "cell_type": "code",
   "execution_count": null,
   "metadata": {
    "colab": {
     "base_uri": "https://localhost:8080/"
    },
    "executionInfo": {
     "elapsed": 1432,
     "status": "ok",
     "timestamp": 1626305121456,
     "user": {
      "displayName": "홍경수",
      "photoUrl": "",
      "userId": "10514684854108920109"
     },
     "user_tz": -540
    },
    "id": "OmqFs2PIUVZF",
    "outputId": "f144b072-cead-4ba0-8cf1-0dc4747e67d6"
   },
   "outputs": [
    {
     "name": "stdout",
     "output_type": "stream",
     "text": [
      "CPU times: user 4 µs, sys: 0 ns, total: 4 µs\n",
      "Wall time: 7.63 µs\n",
      "Test Accuracy: 1.000\n"
     ]
    },
    {
     "name": "stderr",
     "output_type": "stream",
     "text": [
      "/usr/local/lib/python3.7/dist-packages/tensorflow/python/keras/engine/training.py:2426: UserWarning: `Model.state_updates` will be removed in a future version. This property should not be used in TensorFlow 2.0, as `updates` are applied automatically.\n",
      "  warnings.warn('`Model.state_updates` will be removed in a future version. '\n"
     ]
    }
   ],
   "source": [
    "%time\n"
   ]
  },
  {
   "cell_type": "code",
   "execution_count": null,
   "metadata": {
    "id": "D0PmC2C5UVZF"
   },
   "outputs": [],
   "source": []
  }
 ],
 "metadata": {
  "colab": {
   "collapsed_sections": [],
   "name": "3. Tensorflow & Keras.ipynb",
   "provenance": []
  },
  "kernelspec": {
   "display_name": "Python 3",
   "language": "python",
   "name": "python3"
  },
  "language_info": {
   "codemirror_mode": {
    "name": "ipython",
    "version": 3
   },
   "file_extension": ".py",
   "mimetype": "text/x-python",
   "name": "python",
   "nbconvert_exporter": "python",
   "pygments_lexer": "ipython3",
   "version": "3.8.10"
  }
 },
 "nbformat": 4,
 "nbformat_minor": 1
}
