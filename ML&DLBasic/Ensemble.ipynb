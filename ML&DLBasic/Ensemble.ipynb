{
 "cells": [
  {
   "cell_type": "code",
   "execution_count": 9,
   "metadata": {},
   "outputs": [
    {
     "name": "stdout",
     "output_type": "stream",
     "text": [
      "Voting 분류기 정확도: 0.9474\n",
      "LogisticRegression 정확도: 0.9386\n",
      "KNeighborsClassifier 정확도: 0.9386\n"
     ]
    }
   ],
   "source": [
    "import pandas as pd\n",
    "import warnings\n",
    "warnings.filterwarnings(\"ignore\")\n",
    "\n",
    "from sklearn.ensemble import VotingClassifier\n",
    "from sklearn.linear_model import LogisticRegression\n",
    "from sklearn.neighbors import KNeighborsClassifier\n",
    "from sklearn.datasets import load_breast_cancer\n",
    "from sklearn.model_selection import train_test_split\n",
    "from sklearn.metrics import accuracy_score\n",
    "\n",
    "\n",
    "# 데이터 가져오기\n",
    "cancer = load_breast_cancer()\n",
    "\n",
    "# 개별 모델은 로지스틱 회귀와 KNN\n",
    "lr_clf = LogisticRegression()\n",
    "knn_clf = KNeighborsClassifier(n_neighbors=8)\n",
    "\n",
    "# 개별 모델을 소프트 보팅 기반의 앙상블 모델로 구현\n",
    "vo_clf = VotingClassifier(estimators=[(\"LR\", lr_clf), (\"KNN\", knn_clf)], voting=\"soft\")\n",
    "\n",
    "x_train, x_test, y_train, y_test = train_test_split(cancer.data, cancer.target, test_size=0.2, random_state =156)\n",
    "\n",
    "\n",
    "# VotingClassifier 학습/예측/평가\n",
    "vo_clf.fit(x_train, y_train)\n",
    "pred = vo_clf.predict(x_test)\n",
    "print(\"Voting 분류기 정확도: {0:.4f}\".format(accuracy_score(y_test, pred)))\n",
    "\n",
    "\n",
    "# 개별 모델의 학습/예측/평가\n",
    "classifiers = [lr_clf, knn_clf]\n",
    "for cf in classifiers:\n",
    "    cf.fit(x_train, y_train)\n",
    "    pred=cf.predict(x_test)\n",
    "    class_name = cf.__class__.__name__\n",
    "    print(\"{0} 정확도: {1:.4f}\".format(class_name, accuracy_score(y_test, pred)))"
   ]
  },
  {
   "cell_type": "markdown",
   "metadata": {},
   "source": [
    "##### 하나만 쓸 때보다 여러개 쓰는게 성능이 좀 더 좋음!"
   ]
  },
  {
   "cell_type": "markdown",
   "metadata": {},
   "source": [
    "- voting 외에도 다양한 방식이 있음\n",
    "- bagging, boosting, stacking 등의 방식\n",
    "- 주로 bagging, boosting 많이 씀"
   ]
  }
 ],
 "metadata": {
  "kernelspec": {
   "display_name": "Python 3",
   "language": "python",
   "name": "python3"
  },
  "language_info": {
   "codemirror_mode": {
    "name": "ipython",
    "version": 3
   },
   "file_extension": ".py",
   "mimetype": "text/x-python",
   "name": "python",
   "nbconvert_exporter": "python",
   "pygments_lexer": "ipython3",
   "version": "3.8.5"
  }
 },
 "nbformat": 4,
 "nbformat_minor": 4
}
